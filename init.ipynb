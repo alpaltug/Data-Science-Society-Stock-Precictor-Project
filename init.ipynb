{
 "cells": [
  {
   "cell_type": "markdown",
   "source": "## Initialization Notebook\nThis is your initialization notebook.\n\n**What's this for?**\n\nYou can put custom code you want us to run every time we setup your environment in here. \n\n**Awesome! Anything I should not put in here?**\n\nPlease don't install `jupyter` or `jedi` packages, they would break your Deepnote environment. Also, no need to put `!pip install`s here, we already save those automatically!\n\n**I want to learn more!**\n\nGreat! Just [head over to our docs](https://docs.deepnote.com/environment/custom-initialization).",
   "metadata": {
    "tags": [],
    "cell_id": "a1d89b3c-8237-4b10-a263-87592eb30d43",
    "deepnote_cell_type": "markdown",
    "deepnote_cell_height": 349.1875
   }
  },
  {
   "cell_type": "code",
   "metadata": {
    "tags": [],
    "cell_id": "00001-636c85f7-397c-4dce-80a6-b59fed71a585",
    "deepnote_to_be_reexecuted": false,
    "source_hash": "60b37886",
    "execution_start": 1659559221813,
    "execution_millis": 5060,
    "deepnote_cell_type": "code",
    "deepnote_cell_height": 557.3125
   },
   "source": "%%bash\n# If your project has a 'requirements.txt' file, we'll install it here apart from blacklisted packages that interfere with Deepnote (see above).\nif test -f requirements.txt\n  then\n    sed -i '/jedi/d;/jupyter/d;' ./requirements.txt\n    pip install -r ./requirements.txt\n  else echo \"There's no requirements.txt, so nothing to install. This is the case with most projects.\"\nfi",
   "execution_count": 1,
   "outputs": [
    {
     "name": "stdout",
     "text": "Collecting snscrape\n  Downloading snscrape-0.4.3.20220106-py3-none-any.whl (59 kB)\n     ━━━━━━━━━━━━━━━━━━━━━━━━━━━━━━━━━━━━━━━━ 59.1/59.1 KB 13.1 MB/s eta 0:00:00\nCollecting pandas_datareader==0.10.0\n  Downloading pandas_datareader-0.10.0-py3-none-any.whl (109 kB)\n     ━━━━━━━━━━━━━━━━━━━━━━━━━━━━━━━━━━━━━━ 109.5/109.5 KB 24.1 MB/s eta 0:00:00\nRequirement already satisfied: lxml in /shared-libs/python3.9/py/lib/python3.9/site-packages (from pandas_datareader==0.10.0->-r ./requirements.txt (line 2)) (4.9.1)\nRequirement already satisfied: requests>=2.19.0 in /shared-libs/python3.9/py/lib/python3.9/site-packages (from pandas_datareader==0.10.0->-r ./requirements.txt (line 2)) (2.28.1)\nRequirement already satisfied: pandas>=0.23 in /shared-libs/python3.9/py/lib/python3.9/site-packages (from pandas_datareader==0.10.0->-r ./requirements.txt (line 2)) (1.2.5)\nRequirement already satisfied: filelock in /shared-libs/python3.9/py/lib/python3.9/site-packages (from snscrape->-r ./requirements.txt (line 1)) (3.7.1)\nCollecting beautifulsoup4\n  Downloading beautifulsoup4-4.11.1-py3-none-any.whl (128 kB)\n     ━━━━━━━━━━━━━━━━━━━━━━━━━━━━━━━━━━━━━━ 128.2/128.2 KB 27.6 MB/s eta 0:00:00\nRequirement already satisfied: pytz>=2017.3 in /shared-libs/python3.9/py/lib/python3.9/site-packages (from pandas>=0.23->pandas_datareader==0.10.0->-r ./requirements.txt (line 2)) (2022.1)\nRequirement already satisfied: numpy>=1.16.5 in /shared-libs/python3.9/py/lib/python3.9/site-packages (from pandas>=0.23->pandas_datareader==0.10.0->-r ./requirements.txt (line 2)) (1.23.1)\nRequirement already satisfied: python-dateutil>=2.7.3 in /shared-libs/python3.9/py-core/lib/python3.9/site-packages (from pandas>=0.23->pandas_datareader==0.10.0->-r ./requirements.txt (line 2)) (2.8.2)\nRequirement already satisfied: urllib3<1.27,>=1.21.1 in /shared-libs/python3.9/py/lib/python3.9/site-packages (from requests>=2.19.0->pandas_datareader==0.10.0->-r ./requirements.txt (line 2)) (1.26.11)\nRequirement already satisfied: certifi>=2017.4.17 in /shared-libs/python3.9/py/lib/python3.9/site-packages (from requests>=2.19.0->pandas_datareader==0.10.0->-r ./requirements.txt (line 2)) (2022.6.15)\nRequirement already satisfied: idna<4,>=2.5 in /shared-libs/python3.9/py-core/lib/python3.9/site-packages (from requests>=2.19.0->pandas_datareader==0.10.0->-r ./requirements.txt (line 2)) (3.3)\nRequirement already satisfied: charset-normalizer<3,>=2 in /shared-libs/python3.9/py-core/lib/python3.9/site-packages (from requests>=2.19.0->pandas_datareader==0.10.0->-r ./requirements.txt (line 2)) (2.1.0)\nCollecting soupsieve>1.2\n  Downloading soupsieve-2.3.2.post1-py3-none-any.whl (37 kB)\nCollecting PySocks!=1.5.7,>=1.5.6\n  Downloading PySocks-1.7.1-py3-none-any.whl (16 kB)\nRequirement already satisfied: six>=1.5 in /shared-libs/python3.9/py-core/lib/python3.9/site-packages (from python-dateutil>=2.7.3->pandas>=0.23->pandas_datareader==0.10.0->-r ./requirements.txt (line 2)) (1.16.0)\nInstalling collected packages: soupsieve, PySocks, beautifulsoup4, snscrape, pandas_datareader\nSuccessfully installed PySocks-1.7.1 beautifulsoup4-4.11.1 pandas_datareader-0.10.0 snscrape-0.4.3.20220106 soupsieve-2.3.2.post1\nWARNING: You are using pip version 22.0.4; however, version 22.2.2 is available.\nYou should consider upgrading via the '/root/venv/bin/python -m pip install --upgrade pip' command.\n",
     "output_type": "stream"
    }
   ]
  },
  {
   "cell_type": "markdown",
   "source": "<a style='text-decoration:none;line-height:16px;display:flex;color:#5B5B62;padding:10px;justify-content:end;' href='https://deepnote.com?utm_source=created-in-deepnote-cell&projectId=bc974696-5c14-40f5-86a4-29ffa8a96f2c' target=\"_blank\">\n<img alt='Created in deepnote.com' style='display:inline;max-height:16px;margin:0px;margin-right:7.5px;' src='data:image/svg+xml;base64,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' > </img>\nCreated in <span style='font-weight:600;margin-left:4px;'>Deepnote</span></a>",
   "metadata": {
    "tags": [],
    "created_in_deepnote_cell": true,
    "deepnote_cell_type": "markdown"
   }
  }
 ],
 "nbformat": 4,
 "nbformat_minor": 2,
 "metadata": {
  "orig_nbformat": 2,
  "deepnote": {
   "is_reactive": false
  },
  "deepnote_notebook_id": "b8d08b95-7e75-472b-a16b-5b95c9ab26a7",
  "deepnote_execution_queue": []
 }
}