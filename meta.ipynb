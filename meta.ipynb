{
 "cells": [
  {
   "cell_type": "code",
   "metadata": {
    "cell_id": "c82823993ce142bdab539bcabf271801",
    "tags": [],
    "deepnote_to_be_reexecuted": false,
    "source_hash": "c16956f",
    "execution_start": 1651002763116,
    "execution_millis": 436807,
    "deepnote_cell_type": "code",
    "deepnote_cell_height": 238
   },
   "source": "import snscrape.modules.twitter as sntwitter\nimport pandas as pd\n\n\n# Using TwitterSearchScraper to scrape data\nscraped_tweets =sntwitter.TwitterSearchScraper('#meta since:2022-04-11 until:2022-04-23').get_items()\n\n\n# convert to dataframe\ndf_meta2 = pd.DataFrame(scraped_tweets)",
   "execution_count": null,
   "outputs": []
  },
  {
   "cell_type": "code",
   "metadata": {
    "cell_id": "e0b5471189b049e1a29c955c7300151e",
    "tags": [],
    "deepnote_to_be_reexecuted": false,
    "source_hash": "30da3db5",
    "execution_start": 1651003207063,
    "execution_millis": 294,
    "deepnote_cell_type": "code",
    "deepnote_cell_height": 112
   },
   "source": "#save the tweets scraped to pkl\nimport pickle\ndf_meta2.to_pickle('meta2.pkl')",
   "execution_count": null,
   "outputs": []
  },
  {
   "cell_type": "code",
   "metadata": {
    "cell_id": "51ea816dfe61470890b0ad8fbebb3d42",
    "tags": [],
    "deepnote_to_be_reexecuted": false,
    "source_hash": "b105cc15",
    "execution_start": 1651003210248,
    "execution_millis": 321,
    "deepnote_cell_type": "code",
    "deepnote_cell_height": 94
   },
   "source": "#First run this code\ndf_meta2 = pd.read_pickle('meta2.pkl')",
   "execution_count": null,
   "outputs": []
  },
  {
   "cell_type": "code",
   "metadata": {
    "cell_id": "44a23c7a3ce74abeb2710e397f9a2b9e",
    "tags": [],
    "deepnote_to_be_reexecuted": false,
    "source_hash": "f874bed0",
    "execution_start": 1651003220601,
    "execution_millis": 376,
    "deepnote_table_state": {
     "pageSize": 10,
     "pageIndex": 335,
     "filters": [],
     "sortBy": []
    },
    "deepnote_table_loading": false,
    "deepnote_cell_type": "code",
    "deepnote_cell_height": 595
   },
   "source": "df_meta2",
   "execution_count": null,
   "outputs": [
    {
     "output_type": "execute_result",
     "execution_count": 4,
     "data": {
      "application/vnd.deepnote.dataframe.v3+json": {
       "column_count": 27,
       "row_count": 11358,
       "columns": [
        {
         "name": "url",
         "dtype": "object",
         "stats": {
          "unique_count": 11358,
          "nan_count": 0,
          "categories": [
           {
            "name": "https://twitter.com/VehicleCrypto/status/1517652971542220809",
            "count": 1
           },
           {
            "name": "https://twitter.com/InikotheIronic/status/1517652821994356743",
            "count": 1
           },
           {
            "name": "11356 others",
            "count": 11356
           }
          ]
         }
        },
        {
         "name": "date",
         "dtype": "datetime64[ns, UTC]",
         "stats": {
          "unique_count": 11104,
          "nan_count": 0,
          "min": "2022-04-11 00:00:00+00:00",
          "max": "2022-04-22 23:53:59+00:00",
          "histogram": [
           {
            "bin_start": 1649635200000000000,
            "bin_end": 1649738843900000000,
            "count": 1352
           },
           {
            "bin_start": 1649738843900000000,
            "bin_end": 1649842487800000000,
            "count": 1501
           },
           {
            "bin_start": 1649842487800000000,
            "bin_end": 1649946131700000000,
            "count": 1686
           },
           {
            "bin_start": 1649946131700000000,
            "bin_end": 1650049775600000000,
            "count": 1343
           },
           {
            "bin_start": 1650049775600000000,
            "bin_end": 1650153419500000000,
            "count": 806
           },
           {
            "bin_start": 1650153419500000000,
            "bin_end": 1650257063400000000,
            "count": 610
           },
           {
            "bin_start": 1650257063400000000,
            "bin_end": 1650360707300000000,
            "count": 902
           },
           {
            "bin_start": 1650360707300000000,
            "bin_end": 1650464351200000000,
            "count": 990
           },
           {
            "bin_start": 1650464351200000000,
            "bin_end": 1650567995100000000,
            "count": 1142
           },
           {
            "bin_start": 1650567995100000000,
            "bin_end": 1650671639000000000,
            "count": 1026
           }
          ]
         }
        },
        {
         "name": "content",
         "dtype": "object",
         "stats": {
          "unique_count": 11050,
          "nan_count": 0,
          "categories": [
           {
            "name": "@UnicornAirdrops #metashib #Meta #Binance",
            "count": 57
           },
           {
            "name": "@1881Erdem #ceek #meta",
            "count": 19
           },
           {
            "name": "11048 others",
            "count": 11282
           }
          ]
         }
        },
        {
         "name": "renderedContent",
         "dtype": "object",
         "stats": {
          "unique_count": 10868,
          "nan_count": 0,
          "categories": [
           {
            "name": "@UnicornAirdrops #metashib #Meta #Binance",
            "count": 57
           },
           {
            "name": "Cadastre-se na @Cryptocom e ganhe US$25,00 automaticamente\ncrypto.com/app/dm5afmu6e4\n\n#btc #eth #cryptocurrency #metaverse #meta",
            "count": 22
           },
           {
            "name": "10866 others",
            "count": 11279
           }
          ]
         }
        },
        {
         "name": "id",
         "dtype": "int64",
         "stats": {
          "unique_count": 11358,
          "nan_count": 0,
          "min": "1513305829193269249",
          "max": "1517652971542220809",
          "histogram": [
           {
            "bin_start": 1513305829193269200,
            "bin_end": 1513740543428164400,
            "count": 1352
           },
           {
            "bin_start": 1513740543428164400,
            "bin_end": 1514175257663059500,
            "count": 1501
           },
           {
            "bin_start": 1514175257663059500,
            "bin_end": 1514609971897954800,
            "count": 1686
           },
           {
            "bin_start": 1514609971897954800,
            "bin_end": 1515044686132850000,
            "count": 1343
           },
           {
            "bin_start": 1515044686132850000,
            "bin_end": 1515479400367745000,
            "count": 806
           },
           {
            "bin_start": 1515479400367745000,
            "bin_end": 1515914114602640100,
            "count": 610
           },
           {
            "bin_start": 1515914114602640100,
            "bin_end": 1516348828837535200,
            "count": 902
           },
           {
            "bin_start": 1516348828837535200,
            "bin_end": 1516783543072430600,
            "count": 990
           },
           {
            "bin_start": 1516783543072430600,
            "bin_end": 1517218257307325700,
            "count": 1142
           },
           {
            "bin_start": 1517218257307325700,
            "bin_end": 1517652971542220800,
            "count": 1026
           }
          ]
         }
        },
        {
         "name": "user",
         "dtype": "object",
         "stats": {
          "unique_count": 11358,
          "nan_count": 0,
          "categories": [
           {
            "name": "{'username': 'additionalrules', 'id': 1181590684362395650, 'displayname': 'Crypto&NFT&Metaverse news', 'description': 'fly me to the moon!!! #crypto  #NFT #BTC #bitcoin #ETH #Metaverse #暗号資産 #仮想通貨 #가상통화', 'rawDescription': 'fly me to the moon!!! #crypto  #NFT #BTC #bitcoin #ETH #Metaverse #暗号資産 #仮想通貨 #가상통화', 'descriptionUrls': None, 'verified': False, 'created': datetime.datetime(2019, 10, 8, 15, 22, 45, tzinfo=datetime.timezone.utc), 'followersCount': 1056, 'friendsCount': 2, 'statusesCount': 32475, 'favouritesCount': 102, 'listedCount': 9, 'mediaCount': 2, 'location': 'MOON', 'protected': False, 'linkUrl': None, 'linkTcourl': None, 'profileImageUrl': 'https://pbs.twimg.com/profile_images/1481330337733279745/C_kVERrC_normal.jpg', 'profileBannerUrl': 'https://pbs.twimg.com/profile_banners/1181590684362395650/1642011584', 'label': None}",
            "count": 661
           },
           {
            "name": "{'username': 'meta_elsiglo', 'id': 1057788577222815745, 'displayname': 'META de El Siglo de Torreón', 'description': 'Pasión por el deporte', 'rawDescription': 'Pasión por el deporte', 'descriptionUrls': None, 'verified': False, 'created': datetime.datetime(2018, 11, 1, 0, 17, 4, tzinfo=datetime.timezone.utc), 'followersCount': 144, 'friendsCount': 22, 'statusesCount': 5765, 'favouritesCount': 16, 'listedCount': 1, 'mediaCount': 1126, 'location': 'Comarca Lagunera', 'protected': False, 'linkUrl': None, 'linkTcourl': None, 'profileImageUrl': 'https://pbs.twimg.com/profile_images/1057792713037213696/SY6broeE_normal.jpg', 'profileBannerUrl': 'https://pbs.twimg.com/profile_banners/1057788577222815745/1554847513', 'label': None}",
            "count": 364
           },
           {
            "name": "6443 others",
            "count": 10333
           }
          ]
         }
        },
        {
         "name": "replyCount",
         "dtype": "int64",
         "stats": {
          "unique_count": 70,
          "nan_count": 0,
          "min": "0",
          "max": "636",
          "histogram": [
           {
            "bin_start": 0,
            "bin_end": 63.6,
            "count": 11338
           },
           {
            "bin_start": 63.6,
            "bin_end": 127.2,
            "count": 12
           },
           {
            "bin_start": 127.2,
            "bin_end": 190.8,
            "count": 4
           },
           {
            "bin_start": 190.8,
            "bin_end": 254.4,
            "count": 1
           },
           {
            "bin_start": 254.4,
            "bin_end": 318,
            "count": 2
           },
           {
            "bin_start": 318,
            "bin_end": 381.6,
            "count": 0
           },
           {
            "bin_start": 381.6,
            "bin_end": 445.2,
            "count": 0
           },
           {
            "bin_start": 445.2,
            "bin_end": 508.8,
            "count": 0
           },
           {
            "bin_start": 508.8,
            "bin_end": 572.4,
            "count": 0
           },
           {
            "bin_start": 572.4,
            "bin_end": 636,
            "count": 1
           }
          ]
         }
        },
        {
         "name": "retweetCount",
         "dtype": "int64",
         "stats": {
          "unique_count": 91,
          "nan_count": 0,
          "min": "0",
          "max": "1570",
          "histogram": [
           {
            "bin_start": 0,
            "bin_end": 157,
            "count": 11342
           },
           {
            "bin_start": 157,
            "bin_end": 314,
            "count": 8
           },
           {
            "bin_start": 314,
            "bin_end": 471,
            "count": 5
           },
           {
            "bin_start": 471,
            "bin_end": 628,
            "count": 0
           },
           {
            "bin_start": 628,
            "bin_end": 785,
            "count": 1
           },
           {
            "bin_start": 785,
            "bin_end": 942,
            "count": 0
           },
           {
            "bin_start": 942,
            "bin_end": 1099,
            "count": 1
           },
           {
            "bin_start": 1099,
            "bin_end": 1256,
            "count": 0
           },
           {
            "bin_start": 1256,
            "bin_end": 1413,
            "count": 0
           },
           {
            "bin_start": 1413,
            "bin_end": 1570,
            "count": 1
           }
          ]
         }
        },
        {
         "name": "likeCount",
         "dtype": "int64"
        },
        {
         "name": "quoteCount",
         "dtype": "int64"
        },
        {
         "name": "conversationId",
         "dtype": "int64"
        },
        {
         "name": "lang",
         "dtype": "object"
        },
        {
         "name": "source",
         "dtype": "object"
        },
        {
         "name": "sourceUrl",
         "dtype": "object"
        },
        {
         "name": "sourceLabel",
         "dtype": "object"
        },
        {
         "name": "outlinks",
         "dtype": "object"
        },
        {
         "name": "tcooutlinks",
         "dtype": "object"
        },
        {
         "name": "media",
         "dtype": "object"
        },
        {
         "name": "retweetedTweet",
         "dtype": "object"
        },
        {
         "name": "quotedTweet",
         "dtype": "object"
        },
        {
         "name": "inReplyToTweetId",
         "dtype": "float64"
        },
        {
         "name": "inReplyToUser",
         "dtype": "object"
        },
        {
         "name": "mentionedUsers",
         "dtype": "object"
        },
        {
         "name": "coordinates",
         "dtype": "object"
        },
        {
         "name": "place",
         "dtype": "object"
        },
        {
         "name": "hashtags",
         "dtype": "object"
        },
        {
         "name": "cashtags",
         "dtype": "object"
        },
        {
         "name": "_deepnote_index_column",
         "dtype": "int64"
        }
       ],
       "rows": [
        {
         "url": "https://twitter.com/additionalrules/status/1516251017259761665",
         "date": "2022-04-19T03:03:07.000000",
         "content": "News about Metaverse\n\nTitle：Telangana's SpaceTech Framework launched on Metaverse by IT Minister Rama Rao - ETTelecom \n\nhttps://t.co/5ChD9yfZ8A\n\n#Metaverse #meta #crypto #BTC #bitcoin",
         "renderedContent": "News about Metaverse\n\nTitle：Telangana's SpaceTech Framework launched on Metaverse by IT Minister Rama Rao - ETTelecom \n\ntelecom.economictimes.indiatimes.com/news/telangana…\n\n#Metaverse #meta #crypto #BTC #bitcoin",
         "id": 1516251017259761700,
         "user": "{'username': 'additionalrules', 'id': 1181590684362395650, 'displayname': 'Crypto&NFT&Metaverse news', 'description': 'fly me to the moon!!! #crypto  #NFT #BTC #bitcoin #ETH #Metaverse #暗号資産 #仮想通貨 #가상통화', 'rawDescription': 'fly me to the moon!!! #crypto  #NFT #BTC #bitcoin #ETH #Metaverse #暗号資産 #仮想通貨 #가상통화', 'descriptionUrls': None, 'verified': False, 'created': datetime.datetime(2019, 10, 8, 15, 22, 45, tzinfo=datetime.timezone.utc), 'followersCount': 1056, 'friendsCount': 2, 'statusesCount': 32475, 'favouritesCount': 102, 'listedCount': 9, 'mediaCount': 2, 'location': 'MOON', 'protected': False, 'linkUrl': None, 'linkTcourl': None, 'profileImageUrl': 'https://pbs.twimg.com/profile_images/1481330337733279745/C_kVERrC_normal.jpg', 'profileBannerUrl': 'https://pbs.twimg.com/profile_banners/1181590684362395650/1642011584', 'label': None}",
         "replyCount": 1,
         "retweetCount": 0,
         "likeCount": 0,
         "quoteCount": 0,
         "conversationId": 1516251017259761700,
         "lang": "en",
         "source": "<a href=\"https://social-dog.net/\" rel=\"nofollow\">SocialDog for Twitter</a>",
         "sourceUrl": "https://social-dog.net/",
         "sourceLabel": "SocialDog for Twitter",
         "outlinks": "['https://telecom.economictimes.indiatimes.com/news/telanganas-spacetech-framework-launched-on-metaverse-by-it-minister-rama-rao/90925316']",
         "tcooutlinks": "['https://t.co/5ChD9yfZ8A']",
         "media": "None",
         "retweetedTweet": "None",
         "quotedTweet": "None",
         "inReplyToTweetId": "nan",
         "inReplyToUser": "None",
         "mentionedUsers": "None",
         "coordinates": "None",
         "place": "None",
         "hashtags": "['Metaverse', 'meta', 'crypto', 'BTC', 'bitcoin']",
         "cashtags": "None",
         "_deepnote_index_column": 3350
        },
        {
         "url": "https://twitter.com/additionalrules/status/1516251012423684104",
         "date": "2022-04-19T03:03:06.000000",
         "content": "News about Metaverse\n\nTitle：Lonely in the Metaverse? Breed and Train Your AI-Driven Virtual Dog - IoT World Today \n\nhttps://t.co/zyXo5n4mqQ\n\n#Metaverse #meta #crypto #BTC #bitcoin",
         "renderedContent": "News about Metaverse\n\nTitle：Lonely in the Metaverse? Breed and Train Your AI-Driven Virtual Dog - IoT World Today \n\niotworldtoday.com/2022/04/18/lon…\n\n#Metaverse #meta #crypto #BTC #bitcoin",
         "id": 1516251012423684000,
         "user": "{'username': 'additionalrules', 'id': 1181590684362395650, 'displayname': 'Crypto&NFT&Metaverse news', 'description': 'fly me to the moon!!! #crypto  #NFT #BTC #bitcoin #ETH #Metaverse #暗号資産 #仮想通貨 #가상통화', 'rawDescription': 'fly me to the moon!!! #crypto  #NFT #BTC #bitcoin #ETH #Metaverse #暗号資産 #仮想通貨 #가상통화', 'descriptionUrls': None, 'verified': False, 'created': datetime.datetime(2019, 10, 8, 15, 22, 45, tzinfo=datetime.timezone.utc), 'followersCount': 1056, 'friendsCount': 2, 'statusesCount': 32475, 'favouritesCount': 102, 'listedCount': 9, 'mediaCount': 2, 'location': 'MOON', 'protected': False, 'linkUrl': None, 'linkTcourl': None, 'profileImageUrl': 'https://pbs.twimg.com/profile_images/1481330337733279745/C_kVERrC_normal.jpg', 'profileBannerUrl': 'https://pbs.twimg.com/profile_banners/1181590684362395650/1642011584', 'label': None}",
         "replyCount": 0,
         "retweetCount": 0,
         "likeCount": 1,
         "quoteCount": 0,
         "conversationId": 1516251012423684000,
         "lang": "en",
         "source": "<a href=\"https://social-dog.net/\" rel=\"nofollow\">SocialDog for Twitter</a>",
         "sourceUrl": "https://social-dog.net/",
         "sourceLabel": "SocialDog for Twitter",
         "outlinks": "['https://www.iotworldtoday.com/2022/04/18/lonely-in-the-metaverse-breed-and-train-your-ai-driven-virtual-dog/']",
         "tcooutlinks": "['https://t.co/zyXo5n4mqQ']",
         "media": "None",
         "retweetedTweet": "None",
         "quotedTweet": "None",
         "inReplyToTweetId": "nan",
         "inReplyToUser": "None",
         "mentionedUsers": "None",
         "coordinates": "None",
         "place": "None",
         "hashtags": "['Metaverse', 'meta', 'crypto', 'BTC', 'bitcoin']",
         "cashtags": "None",
         "_deepnote_index_column": 3351
        },
        {
         "url": "https://twitter.com/additionalrules/status/1516251007730204673",
         "date": "2022-04-19T03:03:05.000000",
         "content": "News about Metaverse\n\nTitle：MENTAL METAVERSE - TAGO LEADS THE WORLD IN APPLYING BLOCKCHAIN IN MENTAL HEALTH CARE - PR Newswire \n\nhttps://t.co/QmKRUBXPwS\n\n#Metaverse #meta #crypto #BTC #bitcoin",
         "renderedContent": "News about Metaverse\n\nTitle：MENTAL METAVERSE - TAGO LEADS THE WORLD IN APPLYING BLOCKCHAIN IN MENTAL HEALTH CARE - PR Newswire \n\nprnewswire.com/news-releases/…\n\n#Metaverse #meta #crypto #BTC #bitcoin",
         "id": 1516251007730204700,
         "user": "{'username': 'additionalrules', 'id': 1181590684362395650, 'displayname': 'Crypto&NFT&Metaverse news', 'description': 'fly me to the moon!!! #crypto  #NFT #BTC #bitcoin #ETH #Metaverse #暗号資産 #仮想通貨 #가상통화', 'rawDescription': 'fly me to the moon!!! #crypto  #NFT #BTC #bitcoin #ETH #Metaverse #暗号資産 #仮想通貨 #가상통화', 'descriptionUrls': None, 'verified': False, 'created': datetime.datetime(2019, 10, 8, 15, 22, 45, tzinfo=datetime.timezone.utc), 'followersCount': 1056, 'friendsCount': 2, 'statusesCount': 32475, 'favouritesCount': 102, 'listedCount': 9, 'mediaCount': 2, 'location': 'MOON', 'protected': False, 'linkUrl': None, 'linkTcourl': None, 'profileImageUrl': 'https://pbs.twimg.com/profile_images/1481330337733279745/C_kVERrC_normal.jpg', 'profileBannerUrl': 'https://pbs.twimg.com/profile_banners/1181590684362395650/1642011584', 'label': None}",
         "replyCount": 0,
         "retweetCount": 0,
         "likeCount": 0,
         "quoteCount": 0,
         "conversationId": 1516251007730204700,
         "lang": "en",
         "source": "<a href=\"https://social-dog.net/\" rel=\"nofollow\">SocialDog for Twitter</a>",
         "sourceUrl": "https://social-dog.net/",
         "sourceLabel": "SocialDog for Twitter",
         "outlinks": "['https://www.prnewswire.com/news-releases/mental-metaverse--tago-leads-the-world-in-applying-blockchain-in-mental-health-care-301527572.html']",
         "tcooutlinks": "['https://t.co/QmKRUBXPwS']",
         "media": "None",
         "retweetedTweet": "None",
         "quotedTweet": "None",
         "inReplyToTweetId": "nan",
         "inReplyToUser": "None",
         "mentionedUsers": "None",
         "coordinates": "None",
         "place": "None",
         "hashtags": "['Metaverse', 'meta', 'crypto', 'BTC', 'bitcoin']",
         "cashtags": "None",
         "_deepnote_index_column": 3352
        },
        {
         "url": "https://twitter.com/additionalrules/status/1516251002839597060",
         "date": "2022-04-19T03:03:04.000000",
         "content": "News about Metaverse\n\nTitle：Metaverse controller lets you touch objects in VR - Fox 10 News \n\nhttps://t.co/dnGCXZvkDb\n\n#Metaverse #meta #crypto #BTC #bitcoin",
         "renderedContent": "News about Metaverse\n\nTitle：Metaverse controller lets you touch objects in VR - Fox 10 News \n\nfox10tv.com/2022/04/19/met…\n\n#Metaverse #meta #crypto #BTC #bitcoin",
         "id": 1516251002839597000,
         "user": "{'username': 'additionalrules', 'id': 1181590684362395650, 'displayname': 'Crypto&NFT&Metaverse news', 'description': 'fly me to the moon!!! #crypto  #NFT #BTC #bitcoin #ETH #Metaverse #暗号資産 #仮想通貨 #가상통화', 'rawDescription': 'fly me to the moon!!! #crypto  #NFT #BTC #bitcoin #ETH #Metaverse #暗号資産 #仮想通貨 #가상통화', 'descriptionUrls': None, 'verified': False, 'created': datetime.datetime(2019, 10, 8, 15, 22, 45, tzinfo=datetime.timezone.utc), 'followersCount': 1056, 'friendsCount': 2, 'statusesCount': 32475, 'favouritesCount': 102, 'listedCount': 9, 'mediaCount': 2, 'location': 'MOON', 'protected': False, 'linkUrl': None, 'linkTcourl': None, 'profileImageUrl': 'https://pbs.twimg.com/profile_images/1481330337733279745/C_kVERrC_normal.jpg', 'profileBannerUrl': 'https://pbs.twimg.com/profile_banners/1181590684362395650/1642011584', 'label': None}",
         "replyCount": 0,
         "retweetCount": 0,
         "likeCount": 0,
         "quoteCount": 0,
         "conversationId": 1516251002839597000,
         "lang": "en",
         "source": "<a href=\"https://social-dog.net/\" rel=\"nofollow\">SocialDog for Twitter</a>",
         "sourceUrl": "https://social-dog.net/",
         "sourceLabel": "SocialDog for Twitter",
         "outlinks": "['https://www.fox10tv.com/2022/04/19/metaverse-controller-lets-you-touch-objects-vr/']",
         "tcooutlinks": "['https://t.co/dnGCXZvkDb']",
         "media": "None",
         "retweetedTweet": "None",
         "quotedTweet": "None",
         "inReplyToTweetId": "nan",
         "inReplyToUser": "None",
         "mentionedUsers": "None",
         "coordinates": "None",
         "place": "None",
         "hashtags": "['Metaverse', 'meta', 'crypto', 'BTC', 'bitcoin']",
         "cashtags": "None",
         "_deepnote_index_column": 3353
        },
        {
         "url": "https://twitter.com/BearsDeluxeSale/status/1516250976071692296",
         "date": "2022-04-19T03:02:57.000000",
         "content": "Bears Deluxe #2205 Sold for 0.69Ξ https://t.co/4Cou6qUGu6 #NFT #NFTs #NFTsales #artgallery #Meta #VirtualWorlds https://t.co/hso3Fgdy9s",
         "renderedContent": "Bears Deluxe #2205 Sold for 0.69Ξ opensea.io/assets/0x4bb33… #NFT #NFTs #NFTsales #artgallery #Meta #VirtualWorlds https://t.co/hso3Fgdy9s",
         "id": 1516250976071692300,
         "user": "{'username': 'BearsDeluxeSale', 'id': 1449538751332560899, 'displayname': 'Bears Deluxe Sales 🍯🧸 (RT) + ❤️', 'description': 'Feed of Bears Deluxe Sales.\\nUnofficial Channel made by a Bear Owner.\\nTurn ON notifications! Tap That BELL for immediate alerts!\\nBot created by @SlushPerson', 'rawDescription': 'Feed of Bears Deluxe Sales.\\nUnofficial Channel made by a Bear Owner.\\nTurn ON notifications! Tap That BELL for immediate alerts!\\nBot created by @SlushPerson', 'descriptionUrls': None, 'verified': False, 'created': datetime.datetime(2021, 10, 17, 0, 53, 16, tzinfo=datetime.timezone.utc), 'followersCount': 1300, 'friendsCount': 631, 'statusesCount': 7895, 'favouritesCount': 198, 'listedCount': 17, 'mediaCount': 7763, 'location': '', 'protected': False, 'linkUrl': None, 'linkTcourl': None, 'profileImageUrl': 'https://pbs.twimg.com/profile_images/1449539070875607041/bI7MZPpe_normal.png', 'profileBannerUrl': 'https://pbs.twimg.com/profile_banners/1449538751332560899/1636230707', 'label': …",
         "replyCount": 1,
         "retweetCount": 1,
         "likeCount": 8,
         "quoteCount": 0,
         "conversationId": 1516250976071692300,
         "lang": "en",
         "source": "<a href=\"https://help.twitter.com/en/using-twitter/how-to-tweet#source-labels\" rel=\"nofollow\">BDSfeed</a>",
         "sourceUrl": "https://help.twitter.com/en/using-twitter/how-to-tweet#source-labels",
         "sourceLabel": "BDSfeed",
         "outlinks": "['https://opensea.io/assets/0x4bb33f6e69fd62cf3abbcc6f1f43b94a5d572c2b/2205']",
         "tcooutlinks": "['https://t.co/4Cou6qUGu6']",
         "media": "[{'previewUrl': 'https://pbs.twimg.com/media/FQrOOnVWQAUuEWs?format=png&name=small', 'fullUrl': 'https://pbs.twimg.com/media/FQrOOnVWQAUuEWs?format=png&name=large'}]",
         "retweetedTweet": "None",
         "quotedTweet": "None",
         "inReplyToTweetId": "nan",
         "inReplyToUser": "None",
         "mentionedUsers": "None",
         "coordinates": "None",
         "place": "None",
         "hashtags": "['NFT', 'NFTs', 'NFTsales', 'artgallery', 'Meta', 'VirtualWorlds']",
         "cashtags": "None",
         "_deepnote_index_column": 3354
        },
        {
         "url": "https://twitter.com/TheFinancialD/status/1516250247315472387",
         "date": "2022-04-19T03:00:04.000000",
         "content": "Days after badgering Twitter to accept his hostile takeover bid’s final offer, Elon Musk turns his guns on Mark Zuckerberg for his ironclad control of Meta. #MarkZuckerberg #ElonMusk #Meta https://t.co/YLIvV7ZLb9",
         "renderedContent": "Days after badgering Twitter to accept his hostile takeover bid’s final offer, Elon Musk turns his guns on Mark Zuckerberg for his ironclad control of Meta. #MarkZuckerberg #ElonMusk #Meta ow.ly/23QL50ILzvv",
         "id": 1516250247315472400,
         "user": "{'username': 'TheFinancialD', 'id': 1236885335168004096, 'displayname': 'TheFinancialDistrict', 'description': 'TFD is an online finance and business news source based in the Philippines. It delivers breaking news via its website and social media channels.', 'rawDescription': 'TFD is an online finance and business news source based in the Philippines. It delivers breaking news via its website and social media channels.', 'descriptionUrls': None, 'verified': False, 'created': datetime.datetime(2020, 3, 9, 5, 24, 6, tzinfo=datetime.timezone.utc), 'followersCount': 214, 'friendsCount': 524, 'statusesCount': 17037, 'favouritesCount': 12, 'listedCount': 5, 'mediaCount': 2811, 'location': 'Quezon City, Philippines', 'protected': False, 'linkUrl': 'https://www.thefinancialdistrict.com.ph/', 'linkTcourl': 'https://t.co/PHBZYCSzWr', 'profileImageUrl': 'https://pbs.twimg.com/profile_images/1236885942582964224/5FtXtdLT_normal.jpg', 'profileBannerUrl': 'https://pbs.twimg.com/profile_banners/12368…",
         "replyCount": 0,
         "retweetCount": 0,
         "likeCount": 0,
         "quoteCount": 0,
         "conversationId": 1516250247315472400,
         "lang": "en",
         "source": "<a href=\"https://www.hootsuite.com\" rel=\"nofollow\">Hootsuite Inc.</a>",
         "sourceUrl": "https://www.hootsuite.com",
         "sourceLabel": "Hootsuite Inc.",
         "outlinks": "['http://ow.ly/23QL50ILzvv']",
         "tcooutlinks": "['https://t.co/YLIvV7ZLb9']",
         "media": "None",
         "retweetedTweet": "None",
         "quotedTweet": "None",
         "inReplyToTweetId": "nan",
         "inReplyToUser": "None",
         "mentionedUsers": "None",
         "coordinates": "None",
         "place": "None",
         "hashtags": "['MarkZuckerberg', 'ElonMusk', 'Meta']",
         "cashtags": "None",
         "_deepnote_index_column": 3355
        },
        {
         "url": "https://twitter.com/metaverse_radio/status/1516249902585729036",
         "date": "2022-04-19T02:58:41.000000",
         "content": "Purple rain 🎶 🎶 \n\n#Pop #Repop #MonthyTrend #WeeklyTrend #Metaverse #Crypto #Metaverseradio #ETH #Metaversememe #NFT #Meta #GameFi #Cryptomusic #Blockchain ##MTSVR https://t.co/NZT0wwpp2g",
         "renderedContent": "Purple rain 🎶 🎶 \n\n#Pop #Repop #MonthyTrend #WeeklyTrend #Metaverse #Crypto #Metaverseradio #ETH #Metaversememe #NFT #Meta #GameFi #Cryptomusic #Blockchain ##MTSVR https://t.co/NZT0wwpp2g",
         "id": 1516249902585729000,
         "user": "{'username': 'metaverse_radio', 'id': 1452143949297201161, 'displayname': 'MΞT∆VΞRSΞR∆DIO™️ WMVR-db Chicago & the Metaverse', 'description': 'WEB3 sounds NOW BROADCASTING 24/7 from Chicago & the Metaverse tiny.one/Metaverse6 & Time.is/MCT & tiny.one/DISCORD3 & 元界.世界🚀ACCESSIBLE & UBIQUITOUS🚀', 'rawDescription': 'WEB3 sounds NOW BROADCASTING 24/7 from Chicago & the Metaverse https://t.co/UU8fRqaQms & https://t.co/lSA7MvTL6r & https://t.co/5qNc1frI5P & https://t.co/8ibh53EfvQ🚀ACCESSIBLE & UBIQUITOUS🚀', 'descriptionUrls': [{'text': 'tiny.one/Metaverse6', 'url': 'http://tiny.one/Metaverse6', 'tcourl': 'https://t.co/UU8fRqaQms', 'indices': (63, 86)}, {'text': 'Time.is/MCT', 'url': 'http://Time.is/MCT', 'tcourl': 'https://t.co/lSA7MvTL6r', 'indices': (89, 112)}, {'text': 'tiny.one/DISCORD3', 'url': 'http://tiny.one/DISCORD3', 'tcourl': 'https://t.co/5qNc1frI5P', 'indices': (115, 138)}, {'text': '元界.世界', 'url': 'https://xn--z4q719f.xn--rhqv96g', 'tcourl': 'https://t.co/8ibh53EfvQ', 'indices':…",
         "replyCount": 1,
         "retweetCount": 0,
         "likeCount": 4,
         "quoteCount": 1,
         "conversationId": 1516249902585729000,
         "lang": "en",
         "source": "<a href=\"http://twitter.com/download/iphone\" rel=\"nofollow\">Twitter for iPhone</a>",
         "sourceUrl": "http://twitter.com/download/iphone",
         "sourceLabel": "Twitter for iPhone",
         "outlinks": "None",
         "tcooutlinks": "None",
         "media": "[{'previewUrl': 'https://pbs.twimg.com/media/FQrNP-3XwAc2O3V?format=jpg&name=small', 'fullUrl': 'https://pbs.twimg.com/media/FQrNP-3XwAc2O3V?format=jpg&name=large'}]",
         "retweetedTweet": "None",
         "quotedTweet": "None",
         "inReplyToTweetId": "nan",
         "inReplyToUser": "None",
         "mentionedUsers": "None",
         "coordinates": "None",
         "place": "None",
         "hashtags": "['Pop', 'Repop', 'MonthyTrend', 'WeeklyTrend', 'Metaverse', 'Crypto', 'Metaverseradio', 'ETH', 'Metaversememe', 'NFT', 'Meta', 'GameFi', 'Cryptomusic', 'Blockchain', 'MTSVR']",
         "cashtags": "None",
         "_deepnote_index_column": 3356
        },
        {
         "url": "https://twitter.com/VictorianParade/status/1516249576117837827",
         "date": "2022-04-19T02:57:24.000000",
         "content": "If you want to see our reactions as we uncover \"secrets\" about ourselves, this podcast, and podcasting in general, come get #meta with us over on #Facebook and #YouTube later in the week. \n\nhttps://t.co/CWisVef244\n\nhttps://t.co/B6ljjOGuF5\n\nHappy Monday!",
         "renderedContent": "If you want to see our reactions as we uncover \"secrets\" about ourselves, this podcast, and podcasting in general, come get #meta with us over on #Facebook and #YouTube later in the week. \n\nfacebook.com/VictorianParad…\n\nyoutu.be/bR-4UcTJbyg\n\nHappy Monday!",
         "id": 1516249576117837800,
         "user": "{'username': 'VictorianParade', 'id': 1262758658632368130, 'displayname': 'Victorian Periodical Parade', 'description': 'We are a time traveling storytelling team, bringing you back 160 years using newspapers to connect you to that old daily life.  Join us on YouTube and Anchor!', 'rawDescription': 'We are a time traveling storytelling team, bringing you back 160 years using newspapers to connect you to that old daily life.  Join us on YouTube and Anchor!', 'descriptionUrls': None, 'verified': False, 'created': datetime.datetime(2020, 5, 19, 14, 55, 44, tzinfo=datetime.timezone.utc), 'followersCount': 648, 'friendsCount': 1840, 'statusesCount': 835, 'favouritesCount': 13179, 'listedCount': 1, 'mediaCount': 299, 'location': '', 'protected': False, 'linkUrl': 'https://anchor.fm/victorianparade', 'linkTcourl': 'https://t.co/tU8CXzMpXB', 'profileImageUrl': 'https://pbs.twimg.com/profile_images/1400851901114056705/F1ZvSB0h_normal.jpg', 'profileBannerUrl': 'https://pbs.twimg.com/profile_ban…",
         "replyCount": 0,
         "retweetCount": 0,
         "likeCount": 1,
         "quoteCount": 0,
         "conversationId": 1516249573471264800,
         "lang": "en",
         "source": "<a href=\"http://twitter.com/download/android\" rel=\"nofollow\">Twitter for Android</a>",
         "sourceUrl": "http://twitter.com/download/android",
         "sourceLabel": "Twitter for Android",
         "outlinks": "['https://www.facebook.com/VictorianParade/', 'https://youtu.be/bR-4UcTJbyg']",
         "tcooutlinks": "['https://t.co/CWisVef244', 'https://t.co/B6ljjOGuF5']",
         "media": "None",
         "retweetedTweet": "None",
         "quotedTweet": "None",
         "inReplyToTweetId": 1516249575044042800,
         "inReplyToUser": "{'username': 'VictorianParade', 'id': 1262758658632368130, 'displayname': 'Victorian Periodical Parade', 'description': 'We are a time traveling storytelling team, bringing you back 160 years using newspapers to connect you to that old daily life.  Join us on YouTube and Anchor!', 'rawDescription': 'We are a time traveling storytelling team, bringing you back 160 years using newspapers to connect you to that old daily life.  Join us on YouTube and Anchor!', 'descriptionUrls': None, 'verified': False, 'created': datetime.datetime(2020, 5, 19, 14, 55, 44, tzinfo=datetime.timezone.utc), 'followersCount': 648, 'friendsCount': 1840, 'statusesCount': 835, 'favouritesCount': 13179, 'listedCount': 1, 'mediaCount': 299, 'location': '', 'protected': False, 'linkUrl': 'https://anchor.fm/victorianparade', 'linkTcourl': 'https://t.co/tU8CXzMpXB', 'profileImageUrl': 'https://pbs.twimg.com/profile_images/1400851901114056705/F1ZvSB0h_normal.jpg', 'profileBannerUrl': 'https://pbs.twimg.com/profile_ban…",
         "mentionedUsers": "None",
         "coordinates": "None",
         "place": "None",
         "hashtags": "['meta', 'Facebook', 'YouTube']",
         "cashtags": "None",
         "_deepnote_index_column": 3357
        },
        {
         "url": "https://twitter.com/elyex/status/1516249457117044740",
         "date": "2022-04-19T02:56:55.000000",
         "content": "Cómo fabrican envases de cartón con 50% de energía verde https://t.co/Pj0rYqJObU @elyex #Energia #Meta #Plantas #Sociedad #Trabajo",
         "renderedContent": "Cómo fabrican envases de cartón con 50% de energía verde elyex.com/como-fabrican-… @elyex #Energia #Meta #Plantas #Sociedad #Trabajo",
         "id": 1516249457117044700,
         "user": "{'username': 'elyex', 'id': 55069057, 'displayname': 'elyex.com', 'description': '', 'rawDescription': '', 'descriptionUrls': None, 'verified': False, 'created': datetime.datetime(2009, 7, 8, 23, 32, 10, tzinfo=datetime.timezone.utc), 'followersCount': 2364, 'friendsCount': 29, 'statusesCount': 146404, 'favouritesCount': 219, 'listedCount': 23, 'mediaCount': 54597, 'location': 'USA', 'protected': False, 'linkUrl': 'http://elyex.com', 'linkTcourl': 'http://t.co/9K7Wr2K9K6', 'profileImageUrl': 'https://pbs.twimg.com/profile_images/1404626476092301316/oWAALIBO_normal.jpg', 'profileBannerUrl': 'https://pbs.twimg.com/profile_banners/55069057/1623793635', 'label': None}",
         "replyCount": 0,
         "retweetCount": 0,
         "likeCount": 0,
         "quoteCount": 0,
         "conversationId": 1516249457117044700,
         "lang": "es",
         "source": "<a href=\"http://www.elyex.com\" rel=\"nofollow\">elyex.com</a>",
         "sourceUrl": "http://www.elyex.com",
         "sourceLabel": "elyex.com",
         "outlinks": "['https://elyex.com/como-fabrican-envases-de-carton-con-50-de-energia-verde/']",
         "tcooutlinks": "['https://t.co/Pj0rYqJObU']",
         "media": "None",
         "retweetedTweet": "None",
         "quotedTweet": "None",
         "inReplyToTweetId": "nan",
         "inReplyToUser": "None",
         "mentionedUsers": "[{'username': 'elyex', 'id': 55069057, 'displayname': 'elyex.com', 'description': None, 'rawDescription': None, 'descriptionUrls': None, 'verified': None, 'created': None, 'followersCount': None, 'friendsCount': None, 'statusesCount': None, 'favouritesCount': None, 'listedCount': None, 'mediaCount': None, 'location': None, 'protected': None, 'linkUrl': None, 'linkTcourl': None, 'profileImageUrl': None, 'profileBannerUrl': None, 'label': None}]",
         "coordinates": "None",
         "place": "None",
         "hashtags": "['Energia', 'Meta', 'Plantas', 'Sociedad', 'Trabajo']",
         "cashtags": "None",
         "_deepnote_index_column": 3358
        },
        {
         "url": "https://twitter.com/FoodMoodNFT/status/1516246468104916996",
         "date": "2022-04-19T02:45:03.000000",
         "content": "“Momos are the love of my life \nBUT WAIT It can be someone else also \nso what are you waiting for \nCome and join our community \n\nhttps://t.co/0IzgJ60KMA\n\n#FoodMoodNFT #EndWorldHunger\n#NFT #NFTcollections #NFTGiveaway #meta #Web3",
         "renderedContent": "“Momos are the love of my life \nBUT WAIT It can be someone else also \nso what are you waiting for \nCome and join our community \n\ndiscord.gg/HSDXsXkEWS\n\n#FoodMoodNFT #EndWorldHunger\n#NFT #NFTcollections #NFTGiveaway #meta #Web3",
         "id": 1516246468104917000,
         "user": "{'username': 'FoodMoodNFT', 'id': 1510184712337170446, 'displayname': 'Food Mood', 'description': 'Non-Fungible Food | Empowering Communities. Ending 🌐 World Hunger | Community dedicated to provide for hunger in NFT space | discord.gg/HSDXsXkEWS', 'rawDescription': 'Non-Fungible Food | Empowering Communities. Ending 🌐 World Hunger | Community dedicated to provide for hunger in NFT space | https://t.co/hX1DEy9Kjp', 'descriptionUrls': [{'text': 'discord.gg/HSDXsXkEWS', 'url': 'http://discord.gg/HSDXsXkEWS', 'tcourl': 'https://t.co/hX1DEy9Kjp', 'indices': (125, 148)}], 'verified': False, 'created': datetime.datetime(2022, 4, 2, 9, 18, 10, tzinfo=datetime.timezone.utc), 'followersCount': 56, 'friendsCount': 5, 'statusesCount': 61, 'favouritesCount': 365, 'listedCount': 0, 'mediaCount': 10, 'location': 'FoodMoodVerse', 'protected': False, 'linkUrl': None, 'linkTcourl': None, 'profileImageUrl': 'https://pbs.twimg.com/profile_images/1518143401907998720/iqeyoi-q_normal.jpg', 'profileBannerUrl…",
         "replyCount": 5,
         "retweetCount": 4,
         "likeCount": 10,
         "quoteCount": 0,
         "conversationId": 1516246468104917000,
         "lang": "en",
         "source": "<a href=\"http://twitter.com/download/android\" rel=\"nofollow\">Twitter for Android</a>",
         "sourceUrl": "http://twitter.com/download/android",
         "sourceLabel": "Twitter for Android",
         "outlinks": "['https://discord.gg/HSDXsXkEWS']",
         "tcooutlinks": "['https://t.co/0IzgJ60KMA']",
         "media": "None",
         "retweetedTweet": "None",
         "quotedTweet": "None",
         "inReplyToTweetId": "nan",
         "inReplyToUser": "None",
         "mentionedUsers": "None",
         "coordinates": "None",
         "place": "None",
         "hashtags": "['FoodMoodNFT', 'EndWorldHunger', 'NFT', 'NFTcollections', 'NFTGiveaway', 'meta', 'Web3']",
         "cashtags": "None",
         "_deepnote_index_column": 3359
        }
       ]
      },
      "text/plain": "                                                     url  \\\n0      https://twitter.com/VehicleCrypto/status/15176...   \n1      https://twitter.com/InikotheIronic/status/1517...   \n2      https://twitter.com/YalovaGuncelTV/status/1517...   \n3      https://twitter.com/LeonardoNott/status/151765...   \n4      https://twitter.com/geekinteger/status/1517651...   \n...                                                  ...   \n11353  https://twitter.com/AdelMhiri3/status/15133062...   \n11354  https://twitter.com/ThatManHans/status/1513306...   \n11355  https://twitter.com/CEMEBRUALIKAN/status/15133...   \n11356  https://twitter.com/sunrisetechsinc/status/151...   \n11357  https://twitter.com/SSC_CDMX/status/1513305829...   \n\n                           date  \\\n0     2022-04-22 23:53:59+00:00   \n1     2022-04-22 23:53:24+00:00   \n2     2022-04-22 23:50:34+00:00   \n3     2022-04-22 23:49:23+00:00   \n4     2022-04-22 23:47:04+00:00   \n...                         ...   \n11353 2022-04-11 00:01:43+00:00   \n11354 2022-04-11 00:00:49+00:00   \n11355 2022-04-11 00:00:14+00:00   \n11356 2022-04-11 00:00:03+00:00   \n11357 2022-04-11 00:00:00+00:00   \n\n                                                 content  \\\n0      Dip eaten fast.....\\n\\nBuy tax 2% for less tha...   \n1      I challenged the Golden Order.\\n#EldenRing #Pv...   \n2      Web Sitemizde Yerel Muhabir Olmak İster Misini...   \n3      Si usted no sabe adónde quiere ir, lo más prob...   \n4      Instagram Making tall Modifications To Cease I...   \n...                                                  ...   \n11353  Good\\n@0N11ja \\n@ApeNFTguy \\n@ThemisDAO \\n#met...   \n11354  It's like he's just peered deep into my soul, ...   \n11355  @UnicornAirdrops @Beka_Crypto @Isabella__1998 ...   \n11356  Metaverse\\n\\nGet Free Estimation-&gt; https://...   \n11357  #SSC | ☝🏼 Recuerda, por tu seguridad, no compa...   \n\n                                         renderedContent                   id  \\\n0      Dip eaten fast.....\\n\\nBuy tax 2% for less tha...  1517652971542220809   \n1      I challenged the Golden Order.\\n#EldenRing #Pv...  1517652821994356743   \n2      Web Sitemizde Yerel Muhabir Olmak İster Misini...  1517652110061580294   \n3      Si usted no sabe adónde quiere ir, lo más prob...  1517651813683527681   \n4      Instagram Making tall Modifications To Cease I...  1517651230113292288   \n...                                                  ...                  ...   \n11353  Good\\n@0N11ja \\n@ApeNFTguy \\n@ThemisDAO \\n#met...  1513306260946444297   \n11354  It's like he's just peered deep into my soul, ...  1513306034999287813   \n11355  @UnicornAirdrops @Beka_Crypto @Isabella__1998 ...  1513305890648113156   \n11356  Metaverse\\n\\nGet Free Estimation-&gt; blockcha...  1513305841922822144   \n11357  #SSC | ☝🏼 Recuerda, por tu seguridad, no compa...  1513305829193269249   \n\n                                                    user  replyCount  \\\n0      {'username': 'VehicleCrypto', 'id': 1505522164...           4   \n1      {'username': 'InikotheIronic', 'id': 120670106...           0   \n2      {'username': 'YalovaGuncelTV', 'id': 223153840...           0   \n3      {'username': 'LeonardoNott', 'id': 3186908641,...           0   \n4      {'username': 'geekinteger', 'id': 821058115495...           0   \n...                                                  ...         ...   \n11353  {'username': 'AdelMhiri3', 'id': 1505698654300...           0   \n11354  {'username': 'ThatManHans', 'id': 145778822578...           1   \n11355  {'username': 'CEMEBRUALIKAN', 'id': 741150708,...           0   \n11356  {'username': 'sunrisetechsinc', 'id': 14432252...           0   \n11357  {'username': 'SSC_CDMX', 'id': 62844209, 'disp...           1   \n\n       retweetCount  likeCount  quoteCount  ...  \\\n0                 1          6           0  ...   \n1                 0          0           0  ...   \n2                 0          4           0  ...   \n3                 0          0           0  ...   \n4                 0          0           0  ...   \n...             ...        ...         ...  ...   \n11353             0          0           0  ...   \n11354             1          4           0  ...   \n11355             0          1           0  ...   \n11356             0          2           0  ...   \n11357             0          1           0  ...   \n\n                                                   media retweetedTweet  \\\n0      [{'previewUrl': 'https://pbs.twimg.com/media/F...           None   \n1      [{'thumbnailUrl': 'https://pbs.twimg.com/ext_t...           None   \n2                                                   None           None   \n3                                                   None           None   \n4                                                   None           None   \n...                                                  ...            ...   \n11353                                               None           None   \n11354  [{'previewUrl': 'https://pbs.twimg.com/media/F...           None   \n11355                                               None           None   \n11356  [{'previewUrl': 'https://pbs.twimg.com/media/F...           None   \n11357  [{'previewUrl': 'https://pbs.twimg.com/media/F...           None   \n\n                                             quotedTweet inReplyToTweetId  \\\n0                                                   None              NaN   \n1                                                   None              NaN   \n2                                                   None              NaN   \n3                                                   None              NaN   \n4                                                   None              NaN   \n...                                                  ...              ...   \n11353  {'url': 'https://twitter.com/UnicornAirdrops/s...              NaN   \n11354                                               None              NaN   \n11355                                               None     1.512966e+18   \n11356                                               None              NaN   \n11357                                               None              NaN   \n\n                                           inReplyToUser  \\\n0                                                   None   \n1                                                   None   \n2                                                   None   \n3                                                   None   \n4                                                   None   \n...                                                  ...   \n11353                                               None   \n11354                                               None   \n11355  {'username': 'UnicornAirdrops', 'id': 15041282...   \n11356                                               None   \n11357                                               None   \n\n                                          mentionedUsers coordinates place  \\\n0                                                   None        None  None   \n1                                                   None        None  None   \n2                                                   None        None  None   \n3                                                   None        None  None   \n4                                                   None        None  None   \n...                                                  ...         ...   ...   \n11353  [{'username': '0N11ja', 'id': 1486096581241851...        None  None   \n11354                                               None        None  None   \n11355  [{'username': 'UnicornAirdrops', 'id': 1504128...        None  None   \n11356                                               None        None  None   \n11357                                               None        None  None   \n\n                                                hashtags cashtags  \n0      [coin, CVCoin, Meta, NFTProject, cryptocurrecy...     None  \n1      [EldenRing, Pvp, Meta, Duels, AcademyMainGate,...     None  \n2      [RizedeKaraGece, Geleceğeİşaret, Acun, afara, ...     None  \n3                                                 [meta]     None  \n4                [Meta, TechNews, Technology, Instagram]     None  \n...                                                  ...      ...  \n11353                          [metashib, Meta, Binance]     None  \n11354                                             [meta]     None  \n11355                          [Meta, metashib, Binance]     None  \n11356  [metaverse, nft, crypto, nfts, ethereum, nftar...     None  \n11357                              [SSC, Meta, WhatsApp]     None  \n\n[11358 rows x 27 columns]",
      "text/html": "<div>\n<style scoped>\n    .dataframe tbody tr th:only-of-type {\n        vertical-align: middle;\n    }\n\n    .dataframe tbody tr th {\n        vertical-align: top;\n    }\n\n    .dataframe thead th {\n        text-align: right;\n    }\n</style>\n<table border=\"1\" class=\"dataframe\">\n  <thead>\n    <tr style=\"text-align: right;\">\n      <th></th>\n      <th>url</th>\n      <th>date</th>\n      <th>content</th>\n      <th>renderedContent</th>\n      <th>id</th>\n      <th>user</th>\n      <th>replyCount</th>\n      <th>retweetCount</th>\n      <th>likeCount</th>\n      <th>quoteCount</th>\n      <th>...</th>\n      <th>media</th>\n      <th>retweetedTweet</th>\n      <th>quotedTweet</th>\n      <th>inReplyToTweetId</th>\n      <th>inReplyToUser</th>\n      <th>mentionedUsers</th>\n      <th>coordinates</th>\n      <th>place</th>\n      <th>hashtags</th>\n      <th>cashtags</th>\n    </tr>\n  </thead>\n  <tbody>\n    <tr>\n      <th>0</th>\n      <td>https://twitter.com/VehicleCrypto/status/15176...</td>\n      <td>2022-04-22 23:53:59+00:00</td>\n      <td>Dip eaten fast.....\\n\\nBuy tax 2% for less tha...</td>\n      <td>Dip eaten fast.....\\n\\nBuy tax 2% for less tha...</td>\n      <td>1517652971542220809</td>\n      <td>{'username': 'VehicleCrypto', 'id': 1505522164...</td>\n      <td>4</td>\n      <td>1</td>\n      <td>6</td>\n      <td>0</td>\n      <td>...</td>\n      <td>[{'previewUrl': 'https://pbs.twimg.com/media/F...</td>\n      <td>None</td>\n      <td>None</td>\n      <td>NaN</td>\n      <td>None</td>\n      <td>None</td>\n      <td>None</td>\n      <td>None</td>\n      <td>[coin, CVCoin, Meta, NFTProject, cryptocurrecy...</td>\n      <td>None</td>\n    </tr>\n    <tr>\n      <th>1</th>\n      <td>https://twitter.com/InikotheIronic/status/1517...</td>\n      <td>2022-04-22 23:53:24+00:00</td>\n      <td>I challenged the Golden Order.\\n#EldenRing #Pv...</td>\n      <td>I challenged the Golden Order.\\n#EldenRing #Pv...</td>\n      <td>1517652821994356743</td>\n      <td>{'username': 'InikotheIronic', 'id': 120670106...</td>\n      <td>0</td>\n      <td>0</td>\n      <td>0</td>\n      <td>0</td>\n      <td>...</td>\n      <td>[{'thumbnailUrl': 'https://pbs.twimg.com/ext_t...</td>\n      <td>None</td>\n      <td>None</td>\n      <td>NaN</td>\n      <td>None</td>\n      <td>None</td>\n      <td>None</td>\n      <td>None</td>\n      <td>[EldenRing, Pvp, Meta, Duels, AcademyMainGate,...</td>\n      <td>None</td>\n    </tr>\n    <tr>\n      <th>2</th>\n      <td>https://twitter.com/YalovaGuncelTV/status/1517...</td>\n      <td>2022-04-22 23:50:34+00:00</td>\n      <td>Web Sitemizde Yerel Muhabir Olmak İster Misini...</td>\n      <td>Web Sitemizde Yerel Muhabir Olmak İster Misini...</td>\n      <td>1517652110061580294</td>\n      <td>{'username': 'YalovaGuncelTV', 'id': 223153840...</td>\n      <td>0</td>\n      <td>0</td>\n      <td>4</td>\n      <td>0</td>\n      <td>...</td>\n      <td>None</td>\n      <td>None</td>\n      <td>None</td>\n      <td>NaN</td>\n      <td>None</td>\n      <td>None</td>\n      <td>None</td>\n      <td>None</td>\n      <td>[RizedeKaraGece, Geleceğeİşaret, Acun, afara, ...</td>\n      <td>None</td>\n    </tr>\n    <tr>\n      <th>3</th>\n      <td>https://twitter.com/LeonardoNott/status/151765...</td>\n      <td>2022-04-22 23:49:23+00:00</td>\n      <td>Si usted no sabe adónde quiere ir, lo más prob...</td>\n      <td>Si usted no sabe adónde quiere ir, lo más prob...</td>\n      <td>1517651813683527681</td>\n      <td>{'username': 'LeonardoNott', 'id': 3186908641,...</td>\n      <td>0</td>\n      <td>0</td>\n      <td>0</td>\n      <td>0</td>\n      <td>...</td>\n      <td>None</td>\n      <td>None</td>\n      <td>None</td>\n      <td>NaN</td>\n      <td>None</td>\n      <td>None</td>\n      <td>None</td>\n      <td>None</td>\n      <td>[meta]</td>\n      <td>None</td>\n    </tr>\n    <tr>\n      <th>4</th>\n      <td>https://twitter.com/geekinteger/status/1517651...</td>\n      <td>2022-04-22 23:47:04+00:00</td>\n      <td>Instagram Making tall Modifications To Cease I...</td>\n      <td>Instagram Making tall Modifications To Cease I...</td>\n      <td>1517651230113292288</td>\n      <td>{'username': 'geekinteger', 'id': 821058115495...</td>\n      <td>0</td>\n      <td>0</td>\n      <td>0</td>\n      <td>0</td>\n      <td>...</td>\n      <td>None</td>\n      <td>None</td>\n      <td>None</td>\n      <td>NaN</td>\n      <td>None</td>\n      <td>None</td>\n      <td>None</td>\n      <td>None</td>\n      <td>[Meta, TechNews, Technology, Instagram]</td>\n      <td>None</td>\n    </tr>\n    <tr>\n      <th>...</th>\n      <td>...</td>\n      <td>...</td>\n      <td>...</td>\n      <td>...</td>\n      <td>...</td>\n      <td>...</td>\n      <td>...</td>\n      <td>...</td>\n      <td>...</td>\n      <td>...</td>\n      <td>...</td>\n      <td>...</td>\n      <td>...</td>\n      <td>...</td>\n      <td>...</td>\n      <td>...</td>\n      <td>...</td>\n      <td>...</td>\n      <td>...</td>\n      <td>...</td>\n      <td>...</td>\n    </tr>\n    <tr>\n      <th>11353</th>\n      <td>https://twitter.com/AdelMhiri3/status/15133062...</td>\n      <td>2022-04-11 00:01:43+00:00</td>\n      <td>Good\\n@0N11ja \\n@ApeNFTguy \\n@ThemisDAO \\n#met...</td>\n      <td>Good\\n@0N11ja \\n@ApeNFTguy \\n@ThemisDAO \\n#met...</td>\n      <td>1513306260946444297</td>\n      <td>{'username': 'AdelMhiri3', 'id': 1505698654300...</td>\n      <td>0</td>\n      <td>0</td>\n      <td>0</td>\n      <td>0</td>\n      <td>...</td>\n      <td>None</td>\n      <td>None</td>\n      <td>{'url': 'https://twitter.com/UnicornAirdrops/s...</td>\n      <td>NaN</td>\n      <td>None</td>\n      <td>[{'username': '0N11ja', 'id': 1486096581241851...</td>\n      <td>None</td>\n      <td>None</td>\n      <td>[metashib, Meta, Binance]</td>\n      <td>None</td>\n    </tr>\n    <tr>\n      <th>11354</th>\n      <td>https://twitter.com/ThatManHans/status/1513306...</td>\n      <td>2022-04-11 00:00:49+00:00</td>\n      <td>It's like he's just peered deep into my soul, ...</td>\n      <td>It's like he's just peered deep into my soul, ...</td>\n      <td>1513306034999287813</td>\n      <td>{'username': 'ThatManHans', 'id': 145778822578...</td>\n      <td>1</td>\n      <td>1</td>\n      <td>4</td>\n      <td>0</td>\n      <td>...</td>\n      <td>[{'previewUrl': 'https://pbs.twimg.com/media/F...</td>\n      <td>None</td>\n      <td>None</td>\n      <td>NaN</td>\n      <td>None</td>\n      <td>None</td>\n      <td>None</td>\n      <td>None</td>\n      <td>[meta]</td>\n      <td>None</td>\n    </tr>\n    <tr>\n      <th>11355</th>\n      <td>https://twitter.com/CEMEBRUALIKAN/status/15133...</td>\n      <td>2022-04-11 00:00:14+00:00</td>\n      <td>@UnicornAirdrops @Beka_Crypto @Isabella__1998 ...</td>\n      <td>@UnicornAirdrops @Beka_Crypto @Isabella__1998 ...</td>\n      <td>1513305890648113156</td>\n      <td>{'username': 'CEMEBRUALIKAN', 'id': 741150708,...</td>\n      <td>0</td>\n      <td>0</td>\n      <td>1</td>\n      <td>0</td>\n      <td>...</td>\n      <td>None</td>\n      <td>None</td>\n      <td>None</td>\n      <td>1.512966e+18</td>\n      <td>{'username': 'UnicornAirdrops', 'id': 15041282...</td>\n      <td>[{'username': 'UnicornAirdrops', 'id': 1504128...</td>\n      <td>None</td>\n      <td>None</td>\n      <td>[Meta, metashib, Binance]</td>\n      <td>None</td>\n    </tr>\n    <tr>\n      <th>11356</th>\n      <td>https://twitter.com/sunrisetechsinc/status/151...</td>\n      <td>2022-04-11 00:00:03+00:00</td>\n      <td>Metaverse\\n\\nGet Free Estimation-&amp;gt; https://...</td>\n      <td>Metaverse\\n\\nGet Free Estimation-&amp;gt; blockcha...</td>\n      <td>1513305841922822144</td>\n      <td>{'username': 'sunrisetechsinc', 'id': 14432252...</td>\n      <td>0</td>\n      <td>0</td>\n      <td>2</td>\n      <td>0</td>\n      <td>...</td>\n      <td>[{'previewUrl': 'https://pbs.twimg.com/media/F...</td>\n      <td>None</td>\n      <td>None</td>\n      <td>NaN</td>\n      <td>None</td>\n      <td>None</td>\n      <td>None</td>\n      <td>None</td>\n      <td>[metaverse, nft, crypto, nfts, ethereum, nftar...</td>\n      <td>None</td>\n    </tr>\n    <tr>\n      <th>11357</th>\n      <td>https://twitter.com/SSC_CDMX/status/1513305829...</td>\n      <td>2022-04-11 00:00:00+00:00</td>\n      <td>#SSC | ☝🏼 Recuerda, por tu seguridad, no compa...</td>\n      <td>#SSC | ☝🏼 Recuerda, por tu seguridad, no compa...</td>\n      <td>1513305829193269249</td>\n      <td>{'username': 'SSC_CDMX', 'id': 62844209, 'disp...</td>\n      <td>1</td>\n      <td>0</td>\n      <td>1</td>\n      <td>0</td>\n      <td>...</td>\n      <td>[{'previewUrl': 'https://pbs.twimg.com/media/F...</td>\n      <td>None</td>\n      <td>None</td>\n      <td>NaN</td>\n      <td>None</td>\n      <td>None</td>\n      <td>None</td>\n      <td>None</td>\n      <td>[SSC, Meta, WhatsApp]</td>\n      <td>None</td>\n    </tr>\n  </tbody>\n</table>\n<p>11358 rows × 27 columns</p>\n</div>"
     },
     "metadata": {}
    }
   ]
  },
  {
   "cell_type": "code",
   "metadata": {
    "cell_id": "32ad02b36c914c929cddfdb18d5aae32",
    "tags": [],
    "deepnote_to_be_reexecuted": false,
    "source_hash": "a90297d8",
    "execution_start": 1651003224772,
    "execution_millis": 11347,
    "deepnote_cell_type": "code",
    "deepnote_cell_height": 1086.1875
   },
   "source": "import pandas as pd\nimport json\nfrom textblob import TextBlob\nimport nltk\nnltk.download('punkt')\nfrom nltk.corpus import stopwords\nfrom nltk.tokenize import word_tokenize\n\n\nimport numpy as np\nimport seaborn as sns\nimport matplotlib\nimport matplotlib.ticker as ticker\nfrom matplotlib import pyplot as plt\nimport datetime\n \nfrom datascience import *\n\n# These lines do some fancy plotting magic.\nimport matplotlib\n%matplotlib inline\nimport matplotlib.pyplot as plots\nplots.style.use('fivethirtyeight')\nimport warnings\nwarnings.simplefilter('ignore', FutureWarning)\n\n! pip install -U textblob\n! python -m textblob.download_corpora\n\n",
   "execution_count": null,
   "outputs": [
    {
     "name": "stderr",
     "text": "[nltk_data] Downloading package punkt to /root/nltk_data...\n[nltk_data]   Unzipping tokenizers/punkt.zip.\nRequirement already satisfied: textblob in /shared-libs/python3.9/py/lib/python3.9/site-packages (0.17.1)\nRequirement already satisfied: nltk>=3.1 in /shared-libs/python3.9/py/lib/python3.9/site-packages (from textblob) (3.7)\nRequirement already satisfied: joblib in /shared-libs/python3.9/py/lib/python3.9/site-packages (from nltk>=3.1->textblob) (1.1.0)\nRequirement already satisfied: tqdm in /shared-libs/python3.9/py/lib/python3.9/site-packages (from nltk>=3.1->textblob) (4.64.0)\nRequirement already satisfied: click in /shared-libs/python3.9/py/lib/python3.9/site-packages (from nltk>=3.1->textblob) (8.0.4)\nRequirement already satisfied: regex>=2021.8.3 in /shared-libs/python3.9/py/lib/python3.9/site-packages (from nltk>=3.1->textblob) (2022.3.15)\n\u001b[33mWARNING: You are using pip version 21.2.3; however, version 22.0.4 is available.\nYou should consider upgrading via the '/root/venv/bin/python -m pip install --upgrade pip' command.\u001b[0m\n[nltk_data] Downloading package brown to /root/nltk_data...\n[nltk_data]   Unzipping corpora/brown.zip.\n[nltk_data] Downloading package punkt to /root/nltk_data...\n[nltk_data]   Package punkt is already up-to-date!\n[nltk_data] Downloading package wordnet to /root/nltk_data...\n[nltk_data]   Unzipping corpora/wordnet.zip.\n[nltk_data] Downloading package averaged_perceptron_tagger to\n[nltk_data]     /root/nltk_data...\n[nltk_data]   Unzipping taggers/averaged_perceptron_tagger.zip.\n[nltk_data] Downloading package conll2000 to /root/nltk_data...\n[nltk_data]   Unzipping corpora/conll2000.zip.\n[nltk_data] Downloading package movie_reviews to /root/nltk_data...\n[nltk_data]   Unzipping corpora/movie_reviews.zip.\nFinished.\n",
     "output_type": "stream"
    }
   ]
  },
  {
   "cell_type": "code",
   "metadata": {
    "cell_id": "1215c64410e94298874a208218aab632",
    "tags": [],
    "deepnote_to_be_reexecuted": false,
    "source_hash": "dac0dfdb",
    "execution_start": 1651003239947,
    "execution_millis": 32,
    "deepnote_cell_type": "code",
    "deepnote_cell_height": 94
   },
   "source": "df_meta2 = df_meta2[df_meta2['lang'] == 'en']\ndf_meta2 = df_meta2[df_meta2['likeCount'] > 2]",
   "execution_count": null,
   "outputs": []
  },
  {
   "cell_type": "code",
   "metadata": {
    "cell_id": "8177d64474f244058fcafc504f926860",
    "tags": [],
    "deepnote_to_be_reexecuted": false,
    "source_hash": "ff9c414d",
    "execution_start": 1651003242474,
    "execution_millis": 1002,
    "deepnote_cell_type": "code",
    "deepnote_cell_height": 1002.390625
   },
   "source": "file_object = open('english.txt', 'a')\nfile_object.write(\"@\")\n\nnltk.download('stopwords')\nstop_words = list([set(stopwords.words('english'))])\nstop_words.extend((\"#\", \"@\", '\\'', ':', '.', ',', '!'))\n\nfiltered = []\nfor i in df_meta2['content']:\n    i = word_tokenize(i)\n    i = [w for w in i if not w.lower() in stop_words]\n    for x in i:\n        if x in stop_words:\n            i.remove(x)\n        if \"https\" or \"http\" or \"//\" in x:\n            i.remove(x)\n    filtered.append(i)\n\ndf_meta2[\"filtered\"] = filtered\ndf_meta2",
   "execution_count": null,
   "outputs": [
    {
     "name": "stderr",
     "text": "[nltk_data] Downloading package stopwords to /root/nltk_data...\n[nltk_data]   Unzipping corpora/stopwords.zip.\n",
     "output_type": "stream"
    },
    {
     "output_type": "execute_result",
     "execution_count": 7,
     "data": {
      "application/vnd.deepnote.dataframe.v3+json": {
       "column_count": 28,
       "row_count": 2129,
       "columns": [
        {
         "name": "url",
         "dtype": "object",
         "stats": {
          "unique_count": 2129,
          "nan_count": 0,
          "categories": [
           {
            "name": "https://twitter.com/VehicleCrypto/status/1517652971542220809",
            "count": 1
           },
           {
            "name": "https://twitter.com/VehicleCrypto/status/1517649448293310464",
            "count": 1
           },
           {
            "name": "2127 others",
            "count": 2127
           }
          ]
         }
        },
        {
         "name": "date",
         "dtype": "datetime64[ns, UTC]",
         "stats": {
          "unique_count": 2124,
          "nan_count": 0,
          "min": "2022-04-11 00:00:49+00:00",
          "max": "2022-04-22 23:53:59+00:00",
          "histogram": [
           {
            "bin_start": 1649635249000000000,
            "bin_end": 1649738888000000000,
            "count": 195
           },
           {
            "bin_start": 1649738888000000000,
            "bin_end": 1649842527000000000,
            "count": 217
           },
           {
            "bin_start": 1649842527000000000,
            "bin_end": 1649946166000000000,
            "count": 307
           },
           {
            "bin_start": 1649946166000000000,
            "bin_end": 1650049805000000000,
            "count": 295
           },
           {
            "bin_start": 1650049805000000000,
            "bin_end": 1650153444000000000,
            "count": 142
           },
           {
            "bin_start": 1650153444000000000,
            "bin_end": 1650257083000000000,
            "count": 114
           },
           {
            "bin_start": 1650257083000000000,
            "bin_end": 1650360722000000000,
            "count": 161
           },
           {
            "bin_start": 1650360722000000000,
            "bin_end": 1650464361000000000,
            "count": 199
           },
           {
            "bin_start": 1650464361000000000,
            "bin_end": 1650568000000000000,
            "count": 240
           },
           {
            "bin_start": 1650568000000000000,
            "bin_end": 1650671639000000000,
            "count": 259
           }
          ]
         }
        },
        {
         "name": "content",
         "dtype": "object",
         "stats": {
          "unique_count": 2127,
          "nan_count": 0,
          "categories": [
           {
            "name": "Chinese Dragon theme NFT lighter 👍 https://t.co/bBk1jmg0sG via \n@opensea\n \n#NFT #NFTs #opensea #OpenSeaNFT #META #ETH #Etherum",
            "count": 2
           },
           {
            "name": "#Meta Wants Nearly 50% Profit on All #NFTs Sold in its #Metaverse\n\nhttps://t.co/LeZ4cD0WIv\n\n@DaveKerpen @MarketingProfs @HappyTechTweet1 @hnshah @marketingtobe @JoePompliano\n\n#VirtualReality #AR #VR #3D #Virtual #VirtualWorlds #Technology\n#Innovation #NFTCommunity #DigitalAssets",
            "count": 2
           },
           {
            "name": "2125 others",
            "count": 2125
           }
          ]
         }
        },
        {
         "name": "renderedContent",
         "dtype": "object",
         "stats": {
          "unique_count": 2111,
          "nan_count": 0,
          "categories": [
           {
            "name": "#CeekVR #CEEK $Ceek #ceekarmy #meta #metaverse #Bitcoin #Huobi #Binance  #KuCoin twitter.com/CEEK/status/15…",
            "count": 6
           },
           {
            "name": "Check out this item on OpenSea opensea.io/assets/matic/0… via @opensea \n\n#Opensea #OpenSeaNFT \n#NFT #NFTcollector #NFTS \n#NFTGiveaway #NFTCommunity #NFTsales #ETH\n#ghostnft #metaverse #meta #crypto #digitalworld",
            "count": 3
           },
           {
            "name": "2109 others",
            "count": 2120
           }
          ]
         }
        },
        {
         "name": "id",
         "dtype": "int64",
         "stats": {
          "unique_count": 2129,
          "nan_count": 0,
          "min": "1513306034999287813",
          "max": "1517652971542220809",
          "histogram": [
           {
            "bin_start": 1513306034999287800,
            "bin_end": 1513740728653581000,
            "count": 195
           },
           {
            "bin_start": 1513740728653581000,
            "bin_end": 1514175422307874300,
            "count": 217
           },
           {
            "bin_start": 1514175422307874300,
            "bin_end": 1514610115962167800,
            "count": 307
           },
           {
            "bin_start": 1514610115962167800,
            "bin_end": 1515044809616461000,
            "count": 295
           },
           {
            "bin_start": 1515044809616461000,
            "bin_end": 1515479503270754300,
            "count": 142
           },
           {
            "bin_start": 1515479503270754300,
            "bin_end": 1515914196925047600,
            "count": 114
           },
           {
            "bin_start": 1515914196925047600,
            "bin_end": 1516348890579340800,
            "count": 161
           },
           {
            "bin_start": 1516348890579340800,
            "bin_end": 1516783584233634300,
            "count": 199
           },
           {
            "bin_start": 1516783584233634300,
            "bin_end": 1517218277887927600,
            "count": 240
           },
           {
            "bin_start": 1517218277887927600,
            "bin_end": 1517652971542220800,
            "count": 259
           }
          ]
         }
        },
        {
         "name": "user",
         "dtype": "object",
         "stats": {
          "unique_count": 2129,
          "nan_count": 0,
          "categories": [
           {
            "name": "{'username': 'MoonApeSale', 'id': 1487857969559703556, 'displayname': 'Moon Ape Lab Sales', 'description': 'Moon Ape Lab Sales Feed\\nA community managed bot created by @SlushPerson\\nTurn ON notifications! Tap That BELL for immediate alerts!', 'rawDescription': 'Moon Ape Lab Sales Feed\\nA community managed bot created by @SlushPerson\\nTurn ON notifications! Tap That BELL for immediate alerts!', 'descriptionUrls': None, 'verified': False, 'created': datetime.datetime(2022, 1, 30, 18, 39, 36, tzinfo=datetime.timezone.utc), 'followersCount': 755, 'friendsCount': 2, 'statusesCount': 5749, 'favouritesCount': 15, 'listedCount': 0, 'mediaCount': 5710, 'location': '', 'protected': False, 'linkUrl': None, 'linkTcourl': None, 'profileImageUrl': 'https://pbs.twimg.com/profile_images/1487858109964034049/iKEKFju2_normal.jpg', 'profileBannerUrl': 'https://pbs.twimg.com/profile_banners/1487857969559703556/1643568163', 'label': None}",
            "count": 31
           },
           {
            "name": "{'username': 'GrayBoysSales', 'id': 1471784187405479937, 'displayname': 'Gray Boy Sales', 'description': 'Feed of Gray Boy Sales!\\nUnofficial Channel Created By @SlushPerson\\nTurn ON notifications! Tap That BELL for immediate alerts!', 'rawDescription': 'Feed of Gray Boy Sales!\\nUnofficial Channel Created By @SlushPerson\\nTurn ON notifications! Tap That BELL for immediate alerts!', 'descriptionUrls': None, 'verified': False, 'created': datetime.datetime(2021, 12, 17, 10, 8, tzinfo=datetime.timezone.utc), 'followersCount': 1141, 'friendsCount': 90, 'statusesCount': 1861, 'favouritesCount': 6, 'listedCount': 12, 'mediaCount': 1859, 'location': '', 'protected': False, 'linkUrl': None, 'linkTcourl': None, 'profileImageUrl': 'https://pbs.twimg.com/profile_images/1484312386089603077/kFgRwhpU_normal.jpg', 'profileBannerUrl': 'https://pbs.twimg.com/profile_banners/1471784187405479937/1642722844', 'label': None}",
            "count": 21
           },
           {
            "name": "1377 others",
            "count": 2077
           }
          ]
         }
        },
        {
         "name": "replyCount",
         "dtype": "int64",
         "stats": {
          "unique_count": 63,
          "nan_count": 0,
          "min": "0",
          "max": "636",
          "histogram": [
           {
            "bin_start": 0,
            "bin_end": 63.6,
            "count": 2112
           },
           {
            "bin_start": 63.6,
            "bin_end": 127.2,
            "count": 10
           },
           {
            "bin_start": 127.2,
            "bin_end": 190.8,
            "count": 4
           },
           {
            "bin_start": 190.8,
            "bin_end": 254.4,
            "count": 1
           },
           {
            "bin_start": 254.4,
            "bin_end": 318,
            "count": 1
           },
           {
            "bin_start": 318,
            "bin_end": 381.6,
            "count": 0
           },
           {
            "bin_start": 381.6,
            "bin_end": 445.2,
            "count": 0
           },
           {
            "bin_start": 445.2,
            "bin_end": 508.8,
            "count": 0
           },
           {
            "bin_start": 508.8,
            "bin_end": 572.4,
            "count": 0
           },
           {
            "bin_start": 572.4,
            "bin_end": 636,
            "count": 1
           }
          ]
         }
        },
        {
         "name": "retweetCount",
         "dtype": "int64",
         "stats": {
          "unique_count": 78,
          "nan_count": 0,
          "min": "0",
          "max": "1570",
          "histogram": [
           {
            "bin_start": 0,
            "bin_end": 157,
            "count": 2117
           },
           {
            "bin_start": 157,
            "bin_end": 314,
            "count": 6
           },
           {
            "bin_start": 314,
            "bin_end": 471,
            "count": 4
           },
           {
            "bin_start": 471,
            "bin_end": 628,
            "count": 0
           },
           {
            "bin_start": 628,
            "bin_end": 785,
            "count": 0
           },
           {
            "bin_start": 785,
            "bin_end": 942,
            "count": 0
           },
           {
            "bin_start": 942,
            "bin_end": 1099,
            "count": 1
           },
           {
            "bin_start": 1099,
            "bin_end": 1256,
            "count": 0
           },
           {
            "bin_start": 1256,
            "bin_end": 1413,
            "count": 0
           },
           {
            "bin_start": 1413,
            "bin_end": 1570,
            "count": 1
           }
          ]
         }
        },
        {
         "name": "likeCount",
         "dtype": "int64",
         "stats": {
          "unique_count": 122,
          "nan_count": 0,
          "min": "3",
          "max": "2768",
          "histogram": [
           {
            "bin_start": 3,
            "bin_end": 279.5,
            "count": 2112
           },
           {
            "bin_start": 279.5,
            "bin_end": 556,
            "count": 8
           },
           {
            "bin_start": 556,
            "bin_end": 832.5,
            "count": 2
           },
           {
            "bin_start": 832.5,
            "bin_end": 1109,
            "count": 4
           },
           {
            "bin_start": 1109,
            "bin_end": 1385.5,
            "count": 1
           },
           {
            "bin_start": 1385.5,
            "bin_end": 1662,
            "count": 1
           },
           {
            "bin_start": 1662,
            "bin_end": 1938.5,
            "count": 0
           },
           {
            "bin_start": 1938.5,
            "bin_end": 2215,
            "count": 0
           },
           {
            "bin_start": 2215,
            "bin_end": 2491.5,
            "count": 0
           },
           {
            "bin_start": 2491.5,
            "bin_end": 2768,
            "count": 1
           }
          ]
         }
        },
        {
         "name": "quoteCount",
         "dtype": "int64",
         "stats": {
          "unique_count": 21,
          "nan_count": 0,
          "min": "0",
          "max": "525",
          "histogram": [
           {
            "bin_start": 0,
            "bin_end": 52.5,
            "count": 2126
           },
           {
            "bin_start": 52.5,
            "bin_end": 105,
            "count": 1
           },
           {
            "bin_start": 105,
            "bin_end": 157.5,
            "count": 1
           },
           {
            "bin_start": 157.5,
            "bin_end": 210,
            "count": 0
           },
           {
            "bin_start": 210,
            "bin_end": 262.5,
            "count": 0
           },
           {
            "bin_start": 262.5,
            "bin_end": 315,
            "count": 0
           },
           {
            "bin_start": 315,
            "bin_end": 367.5,
            "count": 0
           },
           {
            "bin_start": 367.5,
            "bin_end": 420,
            "count": 0
           },
           {
            "bin_start": 420,
            "bin_end": 472.5,
            "count": 0
           },
           {
            "bin_start": 472.5,
            "bin_end": 525,
            "count": 1
           }
          ]
         }
        },
        {
         "name": "conversationId",
         "dtype": "int64",
         "stats": {
          "unique_count": 2118,
          "nan_count": 0,
          "min": "1352686010740609024",
          "max": "1517652971542220809",
          "histogram": [
           {
            "bin_start": 1352686010740609000,
            "bin_end": 1369182706820770300,
            "count": 1
           },
           {
            "bin_start": 1369182706820770300,
            "bin_end": 1385679402900931300,
            "count": 0
           },
           {
            "bin_start": 1385679402900931300,
            "bin_end": 1402176098981092600,
            "count": 0
           },
           {
            "bin_start": 1402176098981092600,
            "bin_end": 1418672795061253600,
            "count": 1
           },
           {
            "bin_start": 1418672795061253600,
            "bin_end": 1435169491141415000,
            "count": 0
           },
           {
            "bin_start": 1435169491141415000,
            "bin_end": 1451666187221576200,
            "count": 0
           },
           {
            "bin_start": 1451666187221576200,
            "bin_end": 1468162883301737200,
            "count": 0
           },
           {
            "bin_start": 1468162883301737200,
            "bin_end": 1484659579381898500,
            "count": 1
           },
           {
            "bin_start": 1484659579381898500,
            "bin_end": 1501156275462059500,
            "count": 0
           },
           {
            "bin_start": 1501156275462059500,
            "bin_end": 1517652971542220800,
            "count": 2126
           }
          ]
         }
        },
        {
         "name": "lang",
         "dtype": "object",
         "stats": {
          "unique_count": 1,
          "nan_count": 0,
          "categories": [
           {
            "name": "en",
            "count": 2129
           }
          ]
         }
        },
        {
         "name": "source",
         "dtype": "object",
         "stats": {
          "unique_count": 59,
          "nan_count": 0,
          "categories": [
           {
            "name": "<a href=\"https://mobile.twitter.com\" rel=\"nofollow\">Twitter Web App</a>",
            "count": 749
           },
           {
            "name": "<a href=\"http://twitter.com/download/iphone\" rel=\"nofollow\">Twitter for iPhone</a>",
            "count": 551
           },
           {
            "name": "57 others",
            "count": 829
           }
          ]
         }
        },
        {
         "name": "sourceUrl",
         "dtype": "object",
         "stats": {
          "unique_count": 56,
          "nan_count": 0,
          "categories": [
           {
            "name": "https://mobile.twitter.com",
            "count": 749
           },
           {
            "name": "http://twitter.com/download/iphone",
            "count": 551
           },
           {
            "name": "54 others",
            "count": 829
           }
          ]
         }
        },
        {
         "name": "sourceLabel",
         "dtype": "object",
         "stats": {
          "unique_count": 59,
          "nan_count": 0,
          "categories": [
           {
            "name": "Twitter Web App",
            "count": 749
           },
           {
            "name": "Twitter for iPhone",
            "count": 551
           },
           {
            "name": "57 others",
            "count": 829
           }
          ]
         }
        },
        {
         "name": "outlinks",
         "dtype": "object",
         "stats": {
          "unique_count": 2129,
          "nan_count": 1021,
          "categories": [
           {
            "name": "['https://www.instagram.com/which_bored_child_better/', 'https://opensea.io/collection/which-nft-better']",
            "count": 19
           },
           {
            "name": "961 others",
            "count": 1089
           },
           {
            "name": "Missing",
            "count": 1021
           }
          ]
         }
        },
        {
         "name": "tcooutlinks",
         "dtype": "object",
         "stats": {
          "unique_count": 2129,
          "nan_count": 1021,
          "categories": [
           {
            "name": "['https://t.co/kpCH069rJ0']",
            "count": 6
           },
           {
            "name": "1036 others",
            "count": 1102
           },
           {
            "name": "Missing",
            "count": 1021
           }
          ]
         }
        },
        {
         "name": "media",
         "dtype": "object",
         "stats": {
          "unique_count": 2129,
          "nan_count": 897,
          "categories": [
           {
            "name": "[{'previewUrl': 'https://pbs.twimg.com/media/FQpwxxdX0AM5zDA?format=jpg&name=small', 'fullUrl': 'https://pbs.twimg.com/media/FQpwxxdX0AM5zDA?format=jpg&name=large'}]",
            "count": 2
           },
           {
            "name": "1230 others",
            "count": 1230
           },
           {
            "name": "Missing",
            "count": 897
           }
          ]
         }
        },
        {
         "name": "retweetedTweet",
         "dtype": "object",
         "stats": {
          "unique_count": 0,
          "nan_count": 2129,
          "categories": [
           {
            "name": "Missing",
            "count": 2129
           }
          ]
         }
        },
        {
         "name": "quotedTweet",
         "dtype": "object",
         "stats": {
          "unique_count": 2129,
          "nan_count": 1956,
          "categories": [
           {
            "name": "{'url': 'https://twitter.com/LitaTweets/status/1507428044394348561', 'date': datetime.datetime(2022, 3, 25, 18, 43, 47, tzinfo=datetime.timezone.utc), 'content': '@Facebook @facebookapp @Meta @instagram @InstagramComms @MetaNewsroom You disabled my personal page without specifying a reason, making my FB business page and IG business account inaccessible. What can be done before I lose more money and time?', 'renderedContent': '@Facebook @facebookapp @Meta @instagram @InstagramComms @MetaNewsroom You disabled my personal page without specifying a reason, making my FB business page and IG business account inaccessible. What can be done before I lose more money and time?', 'id': 1507428044394348561, 'user': {'username': 'LitaTweets', 'id': 307977474, 'displayname': 'Lita Smith-Mines 🌊', 'description': 'Active writer/editor and retired lawyer. Sports makes me crazy, yoga relaxes me, vegan food sustains me. All tweets are personal; most lean left. #VoteBlue', 'rawDescription': 'Active writer/editor and retired lawyer. Sports makes me crazy, yoga relaxes me, vegan food sustains me. All tweets are personal; most lean left. #VoteBlue', 'descriptionUrls': None, 'verified': False, 'created': datetime.datetime(2011, 5, 30, 16, 32, 51, tzinfo=datetime.timezone.utc), 'followersCount': 11310, 'friendsCount': 10775, 'statusesCount': 69104, 'favouritesCount': 68932, 'listedCount': 75, 'mediaCount': 4903, 'location': 'Long Island, NY', 'protected': False, 'linkUrl': 'http://real-lawyer.livejournal.com/', 'linkTcourl': 'https://t.co/CtM8fgdZZk', 'profileImageUrl': 'https://pbs.twimg.com/profile_images/1510795060190879750/OO0CzjZd_normal.jpg', 'profileBannerUrl': 'https://pbs.twimg.com/profile_banners/307977474/1604510107', 'label': None}, 'replyCount': 16, 'retweetCount': 2, 'likeCount': 1, 'quoteCount': 1, 'conversationId': 1507428044394348561, 'lang': 'en', 'source': '<a href=\"https://mobile.twitter.com\" rel=\"nofollow\">Twitter Web App</a>', 'sourceUrl': 'https://mobile.twitter.com', 'sourceLabel': 'Twitter Web App', 'outlinks': None, 'tcooutlinks': None, 'media': None, 'retweetedTweet': None, 'quotedTweet': None, 'inReplyToTweetId': None, 'inReplyToUser': None, 'mentionedUsers': [{'username': 'Facebook', 'id': 217804739, 'displayname': 'Facebook', 'description': None, 'rawDescription': None, 'descriptionUrls': None, 'verified': None, 'created': None, 'followersCount': None, 'friendsCount': None, 'statusesCount': None, 'favouritesCount': None, 'listedCount': None, 'mediaCount': None, 'location': None, 'protected': None, 'linkUrl': None, 'linkTcourl': None, 'profileImageUrl': None, 'profileBannerUrl': None, 'label': None}, {'username': 'facebookapp', 'id': 1174426031010152448, 'displayname': 'Facebook App', 'description': None, 'rawDescription': None, 'descriptionUrls': None, 'verified': None, 'created': None, 'followersCount': None, 'friendsCount': None, 'statusesCount': None, 'favouritesCount': None, 'listedCount': None, 'mediaCount': None, 'location': None, 'protected': None, 'linkUrl': None, 'linkTcourl': None, 'profileImageUrl': None, 'profileBannerUrl': None, 'label': None}, {'username': 'Meta', 'id': 2425151, 'displayname': 'Meta', 'description': None, 'rawDescription': None, 'descriptionUrls': None, 'verified': None, 'created': None, 'followersCount': None, 'friendsCount': None, 'statusesCount': None, 'favouritesCount': None, 'listedCount': None, 'mediaCount': None, 'location': None, 'protected': None, 'linkUrl': None, 'linkTcourl': None, 'profileImageUrl': None, 'profileBannerUrl': None, 'label': None}, {'username': 'instagram', 'id': 180505807, 'displayname': 'Instagram', 'description': None, 'rawDescription': None, 'descriptionUrls': None, 'verified': None, 'created': None, 'followersCount': None, 'friendsCount': None, 'statusesCount': None, 'favouritesCount': None, 'listedCount': None, 'mediaCount': None, 'location': None, 'protected': None, 'linkUrl': None, 'linkTcourl': None, 'profileImageUrl': None, 'profileBannerUrl': None, 'label': None}, {'username': 'InstagramComms', 'id': 1217614871908339712, 'displayname': 'Instagram Comms', 'description': None, 'rawDescription': None, 'descriptionUrls': None, 'verified': None, 'created': None, 'followersCount': None, 'friendsCount': None, 'statusesCount': None, 'favouritesCount': None, 'listedCount': None, 'mediaCount': None, 'location': None, 'protected': None, 'linkUrl': None, 'linkTcourl': None, 'profileImageUrl': None, 'profileBannerUrl': None, 'label': None}, {'username': 'MetaNewsroom', 'id': 163723677, 'displayname': 'Meta Newsroom', 'description': None, 'rawDescription': None, 'descriptionUrls': None, 'verified': None, 'created': None, 'followersCount': None, 'friendsCount': None, 'statusesCount': None, 'favouritesCount': None, 'listedCount': None, 'mediaCount': None, 'location': None, 'protected': None, 'linkUrl': None, 'linkTcourl': None, 'profileImageUrl': None, 'profileBannerUrl': None, 'label': None}], 'coordinates': None, 'place': None, 'hashtags': None, 'cashtags': None}",
            "count": 2
           },
           {
            "name": "166 others",
            "count": 171
           },
           {
            "name": "Missing",
            "count": 1956
           }
          ]
         }
        },
        {
         "name": "inReplyToTweetId",
         "dtype": "float64",
         "stats": {
          "unique_count": 87,
          "nan_count": 2041,
          "min": "1.4527628206012088e+18",
          "max": "1.5175744800375644e+18",
          "histogram": [
           {
            "bin_start": 1452762820601208800,
            "bin_end": 1459243986544844300,
            "count": 1
           },
           {
            "bin_start": 1459243986544844300,
            "bin_end": 1465725152488480000,
            "count": 0
           },
           {
            "bin_start": 1465725152488480000,
            "bin_end": 1472206318432115500,
            "count": 0
           },
           {
            "bin_start": 1472206318432115500,
            "bin_end": 1478687484375751200,
            "count": 0
           },
           {
            "bin_start": 1478687484375751200,
            "bin_end": 1485168650319386600,
            "count": 0
           },
           {
            "bin_start": 1485168650319386600,
            "bin_end": 1491649816263022000,
            "count": 0
           },
           {
            "bin_start": 1491649816263022000,
            "bin_end": 1498130982206657800,
            "count": 0
           },
           {
            "bin_start": 1498130982206657800,
            "bin_end": 1504612148150293200,
            "count": 0
           },
           {
            "bin_start": 1504612148150293200,
            "bin_end": 1511093314093929000,
            "count": 0
           },
           {
            "bin_start": 1511093314093929000,
            "bin_end": 1517574480037564400,
            "count": 87
           }
          ]
         }
        },
        {
         "name": "inReplyToUser",
         "dtype": "object",
         "stats": {
          "unique_count": 2129,
          "nan_count": 2041,
          "categories": [
           {
            "name": "{'username': 'TheCryptoLif7', 'id': 917217800434970624, 'displayname': 'The Crypto Lifestyle Is Mr 100X', 'description': None, 'rawDescription': None, 'descriptionUrls': None, 'verified': None, 'created': None, 'followersCount': None, 'friendsCount': None, 'statusesCount': None, 'favouritesCount': None, 'listedCount': None, 'mediaCount': None, 'location': None, 'protected': None, 'linkUrl': None, 'linkTcourl': None, 'profileImageUrl': None, 'profileBannerUrl': None, 'label': None}",
            "count": 5
           },
           {
            "name": "75 others",
            "count": 83
           },
           {
            "name": "Missing",
            "count": 2041
           }
          ]
         }
        },
        {
         "name": "mentionedUsers",
         "dtype": "object",
         "stats": {
          "unique_count": 2129,
          "nan_count": 1343,
          "categories": [
           {
            "name": "[{'username': 'opensea', 'id': 946213559213555712, 'displayname': 'OpenSea', 'description': None, 'rawDescription': None, 'descriptionUrls': None, 'verified': None, 'created': None, 'followersCount': None, 'friendsCount': None, 'statusesCount': None, 'favouritesCount': None, 'listedCount': None, 'mediaCount': None, 'location': None, 'protected': None, 'linkUrl': None, 'linkTcourl': None, 'profileImageUrl': None, 'profileBannerUrl': None, 'label': None}]",
            "count": 69
           },
           {
            "name": "585 others",
            "count": 717
           },
           {
            "name": "Missing",
            "count": 1343
           }
          ]
         }
        },
        {
         "name": "coordinates",
         "dtype": "object",
         "stats": {
          "unique_count": 2129,
          "nan_count": 2102,
          "categories": [
           {
            "name": "{'longitude': -80.321683, 'latitude': 25.7090404}",
            "count": 2
           },
           {
            "name": "24 others",
            "count": 25
           },
           {
            "name": "Missing",
            "count": 2102
           }
          ]
         }
        },
        {
         "name": "place",
         "dtype": "object",
         "stats": {
          "unique_count": 2129,
          "nan_count": 2102,
          "categories": [
           {
            "name": "{'fullName': 'Miami, FL', 'name': 'Miami', 'type': 'city', 'country': 'United States', 'countryCode': 'US'}",
            "count": 2
           },
           {
            "name": "24 others",
            "count": 25
           },
           {
            "name": "Missing",
            "count": 2102
           }
          ]
         }
        },
        {
         "name": "hashtags",
         "dtype": "object",
         "stats": {
          "unique_count": 2129,
          "nan_count": 0,
          "categories": [
           {
            "name": "['Meta']",
            "count": 37
           },
           {
            "name": "['meta']",
            "count": 25
           },
           {
            "name": "1775 others",
            "count": 2067
           }
          ]
         }
        },
        {
         "name": "cashtags",
         "dtype": "object",
         "stats": {
          "unique_count": 2129,
          "nan_count": 1921,
          "categories": [
           {
            "name": "['Ceek']",
            "count": 20
           },
           {
            "name": "123 others",
            "count": 188
           },
           {
            "name": "Missing",
            "count": 1921
           }
          ]
         }
        },
        {
         "name": "filtered",
         "dtype": "object",
         "stats": {
          "unique_count": 2129,
          "nan_count": 0,
          "categories": [
           {
            "name": "['CEEK', 'Ceek', 'meta', 'Bitcoin', 'Binance', 'https']",
            "count": 13
           },
           {
            "name": "['on', 'opensea', '0.005', '👆Visit', 'link', 'Bio', 'Gas', '/', '👽', 'AlienPixelSeries', 'aims', 'consist', 'All', 'are', 'and', 'opensea', 'meta', 'openseaartist', 'nfts', 'rarible', 'https']",
            "count": 9
           },
           {
            "name": "2068 others",
            "count": 2107
           }
          ]
         }
        },
        {
         "name": "_deepnote_index_column",
         "dtype": "int64"
        }
       ],
       "rows": [
        {
         "url": "https://twitter.com/VehicleCrypto/status/1517652971542220809",
         "date": "2022-04-22T23:53:59.000000",
         "content": "Dip eaten fast.....\n\nBuy tax 2% for less than 45 min left now.\n🚀 🚀 🚀 🚀 🚀 rocketmoon \n#coin #CVCoin #Meta #NFTProject #cryptocurrecy #bsc #vehiclecrypto #BSCgems https://t.co/BiBTfN5G8q",
         "renderedContent": "Dip eaten fast.....\n\nBuy tax 2% for less than 45 min left now.\n🚀 🚀 🚀 🚀 🚀 rocketmoon \n#coin #CVCoin #Meta #NFTProject #cryptocurrecy #bsc #vehiclecrypto #BSCgems https://t.co/BiBTfN5G8q",
         "id": 1517652971542220800,
         "user": "{'username': 'VehicleCrypto', 'id': 1505522164430163969, 'displayname': 'CryptoVehicle', 'description': 'Integrating the Automotive Industry in Metaverse and Blockchain technology through the creation of the First Digital Car AV NFTs.\\n\\nt.me/thecryptovehic…', 'rawDescription': 'Integrating the Automotive Industry in Metaverse and Blockchain technology through the creation of the First Digital Car AV NFTs.\\n\\nhttps://t.co/P92u1SrsxL', 'descriptionUrls': [{'text': 't.me/thecryptovehic…', 'url': 'https://t.me/thecryptovehicle', 'tcourl': 'https://t.co/P92u1SrsxL', 'indices': (131, 154)}], 'verified': False, 'created': datetime.datetime(2022, 3, 20, 12, 30, 47, tzinfo=datetime.timezone.utc), 'followersCount': 1803, 'friendsCount': 4373, 'statusesCount': 117, 'favouritesCount': 76, 'listedCount': 1, 'mediaCount': 26, 'location': 'London', 'protected': False, 'linkUrl': 'http://thecryptovehicle.com', 'linkTcourl': 'https://t.co/9g8rpjXqNh', 'profileImageUrl': 'https://pbs.twimg.com/profile…",
         "replyCount": 4,
         "retweetCount": 1,
         "likeCount": 6,
         "quoteCount": 0,
         "conversationId": 1517652971542220800,
         "lang": "en",
         "source": "<a href=\"http://twitter.com/download/android\" rel=\"nofollow\">Twitter for Android</a>",
         "sourceUrl": "http://twitter.com/download/android",
         "sourceLabel": "Twitter for Android",
         "outlinks": "None",
         "tcooutlinks": "None",
         "media": "[{'previewUrl': 'https://pbs.twimg.com/media/FQ_JVMkX0AgiiqK?format=jpg&name=small', 'fullUrl': 'https://pbs.twimg.com/media/FQ_JVMkX0AgiiqK?format=jpg&name=large'}]",
         "retweetedTweet": "None",
         "quotedTweet": "None",
         "inReplyToTweetId": "nan",
         "inReplyToUser": "None",
         "mentionedUsers": "None",
         "coordinates": "None",
         "place": "None",
         "hashtags": "['coin', 'CVCoin', 'Meta', 'NFTProject', 'cryptocurrecy', 'bsc', 'vehiclecrypto', 'BSCgems']",
         "cashtags": "None",
         "filtered": "['eaten', '.....', 'tax', '%', 'less', '45', 'left', '🚀', '🚀', '🚀', 'coin', 'Meta', 'cryptocurrecy', 'vehiclecrypto', 'https']",
         "_deepnote_index_column": 0
        },
        {
         "url": "https://twitter.com/VehicleCrypto/status/1517649448293310464",
         "date": "2022-04-22T23:39:59.000000",
         "content": "CV coin buy tax 2% 1 hour only \nBuy now!!!! 💎 💎 💎 💎 💎 \n\n#coin #CVCoin #Meta #NFTProject #cryptocurrecy #100x #vehiclecrypto #BSCgems #100xGems \n\nhttps://t.co/NPvUHhuqpC \n\nhttps://t.co/10VXezL1ga \n\nhttps://t.co/WUU0alepgN",
         "renderedContent": "CV coin buy tax 2% 1 hour only \nBuy now!!!! 💎 💎 💎 💎 💎 \n\n#coin #CVCoin #Meta #NFTProject #cryptocurrecy #100x #vehiclecrypto #BSCgems #100xGems \n\npoocoin.app/tokens/0x85162… \n\nt.me/thecryptovehic… \n\npinksale.finance/#/pinklock/rec…",
         "id": 1517649448293310500,
         "user": "{'username': 'VehicleCrypto', 'id': 1505522164430163969, 'displayname': 'CryptoVehicle', 'description': 'Integrating the Automotive Industry in Metaverse and Blockchain technology through the creation of the First Digital Car AV NFTs.\\n\\nt.me/thecryptovehic…', 'rawDescription': 'Integrating the Automotive Industry in Metaverse and Blockchain technology through the creation of the First Digital Car AV NFTs.\\n\\nhttps://t.co/P92u1SrsxL', 'descriptionUrls': [{'text': 't.me/thecryptovehic…', 'url': 'https://t.me/thecryptovehicle', 'tcourl': 'https://t.co/P92u1SrsxL', 'indices': (131, 154)}], 'verified': False, 'created': datetime.datetime(2022, 3, 20, 12, 30, 47, tzinfo=datetime.timezone.utc), 'followersCount': 1803, 'friendsCount': 4373, 'statusesCount': 117, 'favouritesCount': 76, 'listedCount': 1, 'mediaCount': 26, 'location': 'London', 'protected': False, 'linkUrl': 'http://thecryptovehicle.com', 'linkTcourl': 'https://t.co/9g8rpjXqNh', 'profileImageUrl': 'https://pbs.twimg.com/profile…",
         "replyCount": 2,
         "retweetCount": 0,
         "likeCount": 4,
         "quoteCount": 0,
         "conversationId": 1517649448293310500,
         "lang": "en",
         "source": "<a href=\"http://twitter.com/download/android\" rel=\"nofollow\">Twitter for Android</a>",
         "sourceUrl": "http://twitter.com/download/android",
         "sourceLabel": "Twitter for Android",
         "outlinks": "['https://poocoin.app/tokens/0x85162012af689d0d982f418215a1ef5b2a512cf2', 'https://t.me/thecryptovehicle', 'https://www.pinksale.finance/#/pinklock/record/50318?chain=BSC']",
         "tcooutlinks": "['https://t.co/NPvUHhuqpC', 'https://t.co/10VXezL1ga', 'https://t.co/WUU0alepgN']",
         "media": "None",
         "retweetedTweet": "None",
         "quotedTweet": "None",
         "inReplyToTweetId": "nan",
         "inReplyToUser": "None",
         "mentionedUsers": "None",
         "coordinates": "None",
         "place": "None",
         "hashtags": "['coin', 'CVCoin', 'Meta', 'NFTProject', 'cryptocurrecy', '100x', 'vehiclecrypto', 'BSCgems', '100xGems']",
         "cashtags": "None",
         "filtered": "['tax', '%', 'hour', 'Buy', '💎', '💎', '💎', 'coin', 'CVCoin', 'NFTProject', '100x', 'BSCgems', 'https', 'https', 'https']",
         "_deepnote_index_column": 8
        },
        {
         "url": "https://twitter.com/NftTire/status/1517648619674951681",
         "date": "2022-04-22T23:36:42.000000",
         "content": "BeBird.eth for sale #moonbirds #MOONBIN #ens #meta #nft #eth #Ethereum #cryptocurrecy https://t.co/eDCi2Qs880 via @opensea",
         "renderedContent": "BeBird.eth for sale #moonbirds #MOONBIN #ens #meta #nft #eth #Ethereum #cryptocurrecy opensea.io/assets/0x57f18… via @opensea",
         "id": 1517648619674951700,
         "user": "{'username': 'NftTire', 'id': 38835427, 'displayname': 'NftTire.eth', 'description': 'I am a #NFTCollector and #NFTartist with a passion for creative, unique and fun work.  !NOT FINANCIAL ADVICE!', 'rawDescription': 'I am a #NFTCollector and #NFTartist with a passion for creative, unique and fun work.  !NOT FINANCIAL ADVICE!', 'descriptionUrls': None, 'verified': False, 'created': datetime.datetime(2009, 5, 9, 10, 59, 58, tzinfo=datetime.timezone.utc), 'followersCount': 71292, 'friendsCount': 1328, 'statusesCount': 10205, 'favouritesCount': 6842, 'listedCount': 1048, 'mediaCount': 59, 'location': 'DM for Business', 'protected': False, 'linkUrl': None, 'linkTcourl': None, 'profileImageUrl': 'https://pbs.twimg.com/profile_images/1455869528135585795/razd15yT_normal.jpg', 'profileBannerUrl': 'https://pbs.twimg.com/profile_banners/38835427/1633307983', 'label': None}",
         "replyCount": 0,
         "retweetCount": 4,
         "likeCount": 5,
         "quoteCount": 0,
         "conversationId": 1517648619674951700,
         "lang": "en",
         "source": "<a href=\"http://twitter.com/download/android\" rel=\"nofollow\">Twitter for Android</a>",
         "sourceUrl": "http://twitter.com/download/android",
         "sourceLabel": "Twitter for Android",
         "outlinks": "['https://opensea.io/assets/0x57f1887a8bf19b14fc0df6fd9b2acc9af147ea85/68909163229675855627001687651002627309111213771680037800682158911890891354801/']",
         "tcooutlinks": "['https://t.co/eDCi2Qs880']",
         "media": "None",
         "retweetedTweet": "None",
         "quotedTweet": "None",
         "inReplyToTweetId": "nan",
         "inReplyToUser": "None",
         "mentionedUsers": "[{'username': 'opensea', 'id': 946213559213555712, 'displayname': 'OpenSea', 'description': None, 'rawDescription': None, 'descriptionUrls': None, 'verified': None, 'created': None, 'followersCount': None, 'friendsCount': None, 'statusesCount': None, 'favouritesCount': None, 'listedCount': None, 'mediaCount': None, 'location': None, 'protected': None, 'linkUrl': None, 'linkTcourl': None, 'profileImageUrl': None, 'profileBannerUrl': None, 'label': None}]",
         "coordinates": "None",
         "place": "None",
         "hashtags": "['moonbirds', 'MOONBIN', 'ens', 'meta', 'nft', 'eth', 'Ethereum', 'cryptocurrecy']",
         "cashtags": "None",
         "filtered": "['for', 'moonbirds', 'ens', 'nft', 'Ethereum', 'https', 'via']",
         "_deepnote_index_column": 10
        },
        {
         "url": "https://twitter.com/ksk199184/status/1517647998968373249",
         "date": "2022-04-22T23:34:14.000000",
         "content": "It pays (literally) to be a @bapesclan holder..about to change the world with whats to come! \nLFG!! 🚀🚀🚀🚀🚀\n#StakeYourBapes #web3 #Metaverse #dao #eth #meta #BAPES #OpenSeaNFT #NFTCommunity #NFT \n@brianjesposito @thekngmoe @DaraDouglas @elochima https://t.co/LTWvCmfyfM",
         "renderedContent": "It pays (literally) to be a @bapesclan holder..about to change the world with whats to come! \nLFG!! 🚀🚀🚀🚀🚀\n#StakeYourBapes #web3 #Metaverse #dao #eth #meta #BAPES #OpenSeaNFT #NFTCommunity #NFT \n@brianjesposito @thekngmoe @DaraDouglas @elochima https://t.co/LTWvCmfyfM",
         "id": 1517647998968373200,
         "user": "{'username': 'ksk199184', 'id': 2908387006, 'displayname': 'Karan K', 'description': '...', 'rawDescription': '...', 'descriptionUrls': None, 'verified': False, 'created': datetime.datetime(2014, 12, 6, 21, 38, 11, tzinfo=datetime.timezone.utc), 'followersCount': 124, 'friendsCount': 365, 'statusesCount': 447, 'favouritesCount': 829, 'listedCount': 1, 'mediaCount': 25, 'location': '', 'protected': False, 'linkUrl': None, 'linkTcourl': None, 'profileImageUrl': 'https://pbs.twimg.com/profile_images/1502701697076015121/xX-AR6ls_normal.jpg', 'profileBannerUrl': 'https://pbs.twimg.com/profile_banners/2908387006/1647080690', 'label': None}",
         "replyCount": 1,
         "retweetCount": 10,
         "likeCount": 19,
         "quoteCount": 1,
         "conversationId": 1517647998968373200,
         "lang": "en",
         "source": "<a href=\"http://twitter.com/download/android\" rel=\"nofollow\">Twitter for Android</a>",
         "sourceUrl": "http://twitter.com/download/android",
         "sourceLabel": "Twitter for Android",
         "outlinks": "None",
         "tcooutlinks": "None",
         "media": "[{'previewUrl': 'https://pbs.twimg.com/media/FQ_Ez-MXIAELm7o?format=jpg&name=small', 'fullUrl': 'https://pbs.twimg.com/media/FQ_Ez-MXIAELm7o?format=jpg&name=large'}]",
         "retweetedTweet": "None",
         "quotedTweet": "None",
         "inReplyToTweetId": "nan",
         "inReplyToUser": "None",
         "mentionedUsers": "[{'username': 'bapesclan', 'id': 1472996876391755777, 'displayname': 'bapes clan', 'description': None, 'rawDescription': None, 'descriptionUrls': None, 'verified': None, 'created': None, 'followersCount': None, 'friendsCount': None, 'statusesCount': None, 'favouritesCount': None, 'listedCount': None, 'mediaCount': None, 'location': None, 'protected': None, 'linkUrl': None, 'linkTcourl': None, 'profileImageUrl': None, 'profileBannerUrl': None, 'label': None}, {'username': 'brianjesposito', 'id': 3306313562, 'displayname': 'Brian J. Esposito - 𝔼𝕤𝕡𝕠.𝕖𝕥𝕙', 'description': None, 'rawDescription': None, 'descriptionUrls': None, 'verified': None, 'created': None, 'followersCount': None, 'friendsCount': None, 'statusesCount': None, 'favouritesCount': None, 'listedCount': None, 'mediaCount': None, 'location': None, 'protected': None, 'linkUrl': None, 'linkTcourl': None, 'profileImageUrl': None, 'profileBannerUrl': None, 'label': None}, {'username': 'thekngmoe', 'id': 707088815136104449, 'displ…",
         "coordinates": "None",
         "place": "None",
         "hashtags": "['StakeYourBapes', 'web3', 'Metaverse', 'dao', 'eth', 'meta', 'BAPES', 'OpenSeaNFT', 'NFTCommunity', 'NFT']",
         "cashtags": "None",
         "filtered": "['pays', 'literally', 'a', 'holder', 'about', 'change', 'world', 'whats', 'to', 'come', '🚀🚀🚀🚀🚀', 'web3', 'dao', 'meta', 'OpenSeaNFT', 'NFT', 'thekngmoe', 'elochima', '//t.co/LTWvCmfyfM']",
         "_deepnote_index_column": 12
        },
        {
         "url": "https://twitter.com/YalovaGuncelTV/status/1517647849349079045",
         "date": "2022-04-22T23:33:38.000000",
         "content": "We Distribute NFT for Free When We Reach 10K Followers  #RizedeKaraGece #Geleceğeİşaret #Acun #afara #FurkanGök #aşkmantıkintikamveda #ArdaGüler #Arda #NFT #ETH #META #BLM #NFTs #JohnnyDepp #BTC #Bitcoin #Messi https://t.co/4Gowvq0UWM",
         "renderedContent": "We Distribute NFT for Free When We Reach 10K Followers  #RizedeKaraGece #Geleceğeİşaret #Acun #afara #FurkanGök #aşkmantıkintikamveda #ArdaGüler #Arda #NFT #ETH #META #BLM #NFTs #JohnnyDepp #BTC #Bitcoin #Messi https://t.co/4Gowvq0UWM",
         "id": 1517647849349079000,
         "user": "{'username': 'YalovaGuncelTV', 'id': 2231538403, 'displayname': 'Yalova Güncel Haber 🇹🇷🇦🇿🇺🇦', 'description': \"Yalova'nın İlk ve Tek Tarafsız Güncel Haber Sitesi  info@yalovaguncel.com - WhatsApp İhbar Hattı : bit.ly/2Xnj4fO\", 'rawDescription': \"Yalova'nın İlk ve Tek Tarafsız Güncel Haber Sitesi  info@yalovaguncel.com - WhatsApp İhbar Hattı : https://t.co/SwLKXNt3ew\", 'descriptionUrls': [{'text': 'bit.ly/2Xnj4fO', 'url': 'http://bit.ly/2Xnj4fO', 'tcourl': 'https://t.co/SwLKXNt3ew', 'indices': (99, 122)}], 'verified': False, 'created': datetime.datetime(2013, 12, 5, 14, 8, 10, tzinfo=datetime.timezone.utc), 'followersCount': 1200, 'friendsCount': 15, 'statusesCount': 6610, 'favouritesCount': 6, 'listedCount': 0, 'mediaCount': 3156, 'location': 'Yalova / Merkez / Türkiye', 'protected': False, 'linkUrl': 'http://www.yalovaguncel.com', 'linkTcourl': 'https://t.co/uXjMwoNOtE', 'profileImageUrl': 'https://pbs.twimg.com/profile_images/747082536988319744/l2Y6-yrn_normal.jpg', 'profileBannerUrl…",
         "replyCount": 1,
         "retweetCount": 0,
         "likeCount": 4,
         "quoteCount": 2,
         "conversationId": 1517647849349079000,
         "lang": "en",
         "source": "<a href=\"https://mobile.twitter.com\" rel=\"nofollow\">Twitter Web App</a>",
         "sourceUrl": "https://mobile.twitter.com",
         "sourceLabel": "Twitter Web App",
         "outlinks": "None",
         "tcooutlinks": "None",
         "media": "[{'thumbnailUrl': 'https://pbs.twimg.com/ext_tw_video_thumb/1517647491688288256/pu/img/OpXgiD1CndgLzbV0.jpg', 'variants': [{'contentType': 'application/x-mpegURL', 'url': 'https://video.twimg.com/ext_tw_video/1517647491688288256/pu/pl/c2QS_BOqrPBiiUHF.m3u8?tag=12&container=fmp4', 'bitrate': None}, {'contentType': 'video/mp4', 'url': 'https://video.twimg.com/ext_tw_video/1517647491688288256/pu/vid/640x360/jMm2cisp6wyFb4TX.mp4?tag=12', 'bitrate': 832000}, {'contentType': 'video/mp4', 'url': 'https://video.twimg.com/ext_tw_video/1517647491688288256/pu/vid/1280x720/V97ynQtX7_3Mng8V.mp4?tag=12', 'bitrate': 2176000}, {'contentType': 'video/mp4', 'url': 'https://video.twimg.com/ext_tw_video/1517647491688288256/pu/vid/480x270/XCwqWNlN8CRqUSWc.mp4?tag=12', 'bitrate': 256000}], 'duration': 15.0, 'views': 1102}]",
         "retweetedTweet": "None",
         "quotedTweet": "None",
         "inReplyToTweetId": "nan",
         "inReplyToUser": "None",
         "mentionedUsers": "None",
         "coordinates": "None",
         "place": "None",
         "hashtags": "['RizedeKaraGece', 'Geleceğeİşaret', 'Acun', 'afara', 'FurkanGök', 'aşkmantıkintikamveda', 'ArdaGüler', 'Arda', 'NFT', 'ETH', 'META', 'BLM', 'NFTs', 'JohnnyDepp', 'BTC', 'Bitcoin', 'Messi']",
         "cashtags": "None",
         "filtered": "['Distribute', 'for', 'When', 'Reach', 'Followers', 'Geleceğeİşaret', 'afara', 'aşkmantıkintikamveda', 'Arda', 'ETH', 'BLM', 'JohnnyDepp', 'Bitcoin', 'https']",
         "_deepnote_index_column": 14
        },
        {
         "url": "https://twitter.com/YalovaGuncelTV/status/1517647022328848384",
         "date": "2022-04-22T23:30:21.000000",
         "content": "We Distribute NFT for Free When We Reach 10K Followers\n\nhttps://t.co/FKIjSYW9Q9 #RizedeKaraGece #Geleceğeİşaret #Acun #afara #FurkanGök #aşkmantıkintikamveda #ArdaGüler #Arda #NFT #ETH #META #BLM #NFTs #JohnnyDepp #BTC #Bitcoin",
         "renderedContent": "We Distribute NFT for Free When We Reach 10K Followers\n\nyenidusun.net/nftnin-turkce-… #RizedeKaraGece #Geleceğeİşaret #Acun #afara #FurkanGök #aşkmantıkintikamveda #ArdaGüler #Arda #NFT #ETH #META #BLM #NFTs #JohnnyDepp #BTC #Bitcoin",
         "id": 1517647022328848400,
         "user": "{'username': 'YalovaGuncelTV', 'id': 2231538403, 'displayname': 'Yalova Güncel Haber 🇹🇷🇦🇿🇺🇦', 'description': \"Yalova'nın İlk ve Tek Tarafsız Güncel Haber Sitesi  info@yalovaguncel.com - WhatsApp İhbar Hattı : bit.ly/2Xnj4fO\", 'rawDescription': \"Yalova'nın İlk ve Tek Tarafsız Güncel Haber Sitesi  info@yalovaguncel.com - WhatsApp İhbar Hattı : https://t.co/SwLKXNt3ew\", 'descriptionUrls': [{'text': 'bit.ly/2Xnj4fO', 'url': 'http://bit.ly/2Xnj4fO', 'tcourl': 'https://t.co/SwLKXNt3ew', 'indices': (99, 122)}], 'verified': False, 'created': datetime.datetime(2013, 12, 5, 14, 8, 10, tzinfo=datetime.timezone.utc), 'followersCount': 1200, 'friendsCount': 15, 'statusesCount': 6610, 'favouritesCount': 6, 'listedCount': 0, 'mediaCount': 3156, 'location': 'Yalova / Merkez / Türkiye', 'protected': False, 'linkUrl': 'http://www.yalovaguncel.com', 'linkTcourl': 'https://t.co/uXjMwoNOtE', 'profileImageUrl': 'https://pbs.twimg.com/profile_images/747082536988319744/l2Y6-yrn_normal.jpg', 'profileBannerUrl…",
         "replyCount": 2,
         "retweetCount": 0,
         "likeCount": 3,
         "quoteCount": 0,
         "conversationId": 1517647022328848400,
         "lang": "en",
         "source": "<a href=\"https://mobile.twitter.com\" rel=\"nofollow\">Twitter Web App</a>",
         "sourceUrl": "https://mobile.twitter.com",
         "sourceLabel": "Twitter Web App",
         "outlinks": "['https://www.yenidusun.net/nftnin-turkce-karsiligi-sonunda-belirlendi/']",
         "tcooutlinks": "['https://t.co/FKIjSYW9Q9']",
         "media": "None",
         "retweetedTweet": "None",
         "quotedTweet": "None",
         "inReplyToTweetId": "nan",
         "inReplyToUser": "None",
         "mentionedUsers": "None",
         "coordinates": "None",
         "place": "None",
         "hashtags": "['RizedeKaraGece', 'Geleceğeİşaret', 'Acun', 'afara', 'FurkanGök', 'aşkmantıkintikamveda', 'ArdaGüler', 'Arda', 'NFT', 'ETH', 'META', 'BLM', 'NFTs', 'JohnnyDepp', 'BTC', 'Bitcoin']",
         "cashtags": "None",
         "filtered": "['Distribute', 'for', 'When', 'Reach', 'Followers', '//t.co/FKIjSYW9Q9', 'Geleceğeİşaret', 'afara', 'aşkmantıkintikamveda', 'Arda', 'ETH', 'BLM', 'JohnnyDepp', 'Bitcoin']",
         "_deepnote_index_column": 16
        },
        {
         "url": "https://twitter.com/YalovaGuncelTV/status/1517646683399671809",
         "date": "2022-04-22T23:29:00.000000",
         "content": "We Distribute NFT for Free When We Reach 10K Followers\n\nhttps://t.co/FKIjSYW9Q9 #RizedeKaraGece #Geleceğeİşaret #Acun #afara #FurkanGök #aşkmantıkintikamveda #ArdaGüler #Arda #NFT #ETH #META #BLM #NFTs #JohnnyDepp",
         "renderedContent": "We Distribute NFT for Free When We Reach 10K Followers\n\nyenidusun.net/nftnin-turkce-… #RizedeKaraGece #Geleceğeİşaret #Acun #afara #FurkanGök #aşkmantıkintikamveda #ArdaGüler #Arda #NFT #ETH #META #BLM #NFTs #JohnnyDepp",
         "id": 1517646683399671800,
         "user": "{'username': 'YalovaGuncelTV', 'id': 2231538403, 'displayname': 'Yalova Güncel Haber 🇹🇷🇦🇿🇺🇦', 'description': \"Yalova'nın İlk ve Tek Tarafsız Güncel Haber Sitesi  info@yalovaguncel.com - WhatsApp İhbar Hattı : bit.ly/2Xnj4fO\", 'rawDescription': \"Yalova'nın İlk ve Tek Tarafsız Güncel Haber Sitesi  info@yalovaguncel.com - WhatsApp İhbar Hattı : https://t.co/SwLKXNt3ew\", 'descriptionUrls': [{'text': 'bit.ly/2Xnj4fO', 'url': 'http://bit.ly/2Xnj4fO', 'tcourl': 'https://t.co/SwLKXNt3ew', 'indices': (99, 122)}], 'verified': False, 'created': datetime.datetime(2013, 12, 5, 14, 8, 10, tzinfo=datetime.timezone.utc), 'followersCount': 1200, 'friendsCount': 15, 'statusesCount': 6610, 'favouritesCount': 6, 'listedCount': 0, 'mediaCount': 3156, 'location': 'Yalova / Merkez / Türkiye', 'protected': False, 'linkUrl': 'http://www.yalovaguncel.com', 'linkTcourl': 'https://t.co/uXjMwoNOtE', 'profileImageUrl': 'https://pbs.twimg.com/profile_images/747082536988319744/l2Y6-yrn_normal.jpg', 'profileBannerUrl…",
         "replyCount": 1,
         "retweetCount": 0,
         "likeCount": 3,
         "quoteCount": 0,
         "conversationId": 1517646683399671800,
         "lang": "en",
         "source": "<a href=\"https://mobile.twitter.com\" rel=\"nofollow\">Twitter Web App</a>",
         "sourceUrl": "https://mobile.twitter.com",
         "sourceLabel": "Twitter Web App",
         "outlinks": "['https://www.yenidusun.net/nftnin-turkce-karsiligi-sonunda-belirlendi/']",
         "tcooutlinks": "['https://t.co/FKIjSYW9Q9']",
         "media": "None",
         "retweetedTweet": "None",
         "quotedTweet": "None",
         "inReplyToTweetId": "nan",
         "inReplyToUser": "None",
         "mentionedUsers": "None",
         "coordinates": "None",
         "place": "None",
         "hashtags": "['RizedeKaraGece', 'Geleceğeİşaret', 'Acun', 'afara', 'FurkanGök', 'aşkmantıkintikamveda', 'ArdaGüler', 'Arda', 'NFT', 'ETH', 'META', 'BLM', 'NFTs', 'JohnnyDepp']",
         "cashtags": "None",
         "filtered": "['Distribute', 'for', 'When', 'Reach', 'Followers', '//t.co/FKIjSYW9Q9', 'Geleceğeİşaret', 'afara', 'aşkmantıkintikamveda', 'Arda', 'ETH', 'BLM', 'JohnnyDepp']",
         "_deepnote_index_column": 17
        },
        {
         "url": "https://twitter.com/YalovaGuncelTV/status/1517646337436700672",
         "date": "2022-04-22T23:27:38.000000",
         "content": "Follow Us and Win Discounted or Free NFT Details on Our Site\n\nhttps://t.co/FKIjSYW9Q9 #RizedeKaraGece #Geleceğeİşaret #Acun #afara #FurkanGök #aşkmantıkintikamveda #ArdaGüler #Arda #NFT #ETH #META #BLM #NFTs #JohnnyDepp",
         "renderedContent": "Follow Us and Win Discounted or Free NFT Details on Our Site\n\nyenidusun.net/nftnin-turkce-… #RizedeKaraGece #Geleceğeİşaret #Acun #afara #FurkanGök #aşkmantıkintikamveda #ArdaGüler #Arda #NFT #ETH #META #BLM #NFTs #JohnnyDepp",
         "id": 1517646337436700700,
         "user": "{'username': 'YalovaGuncelTV', 'id': 2231538403, 'displayname': 'Yalova Güncel Haber 🇹🇷🇦🇿🇺🇦', 'description': \"Yalova'nın İlk ve Tek Tarafsız Güncel Haber Sitesi  info@yalovaguncel.com - WhatsApp İhbar Hattı : bit.ly/2Xnj4fO\", 'rawDescription': \"Yalova'nın İlk ve Tek Tarafsız Güncel Haber Sitesi  info@yalovaguncel.com - WhatsApp İhbar Hattı : https://t.co/SwLKXNt3ew\", 'descriptionUrls': [{'text': 'bit.ly/2Xnj4fO', 'url': 'http://bit.ly/2Xnj4fO', 'tcourl': 'https://t.co/SwLKXNt3ew', 'indices': (99, 122)}], 'verified': False, 'created': datetime.datetime(2013, 12, 5, 14, 8, 10, tzinfo=datetime.timezone.utc), 'followersCount': 1200, 'friendsCount': 15, 'statusesCount': 6610, 'favouritesCount': 6, 'listedCount': 0, 'mediaCount': 3156, 'location': 'Yalova / Merkez / Türkiye', 'protected': False, 'linkUrl': 'http://www.yalovaguncel.com', 'linkTcourl': 'https://t.co/uXjMwoNOtE', 'profileImageUrl': 'https://pbs.twimg.com/profile_images/747082536988319744/l2Y6-yrn_normal.jpg', 'profileBannerUrl…",
         "replyCount": 1,
         "retweetCount": 0,
         "likeCount": 4,
         "quoteCount": 1,
         "conversationId": 1517646337436700700,
         "lang": "en",
         "source": "<a href=\"https://mobile.twitter.com\" rel=\"nofollow\">Twitter Web App</a>",
         "sourceUrl": "https://mobile.twitter.com",
         "sourceLabel": "Twitter Web App",
         "outlinks": "['https://www.yenidusun.net/nftnin-turkce-karsiligi-sonunda-belirlendi/']",
         "tcooutlinks": "['https://t.co/FKIjSYW9Q9']",
         "media": "None",
         "retweetedTweet": "None",
         "quotedTweet": "None",
         "inReplyToTweetId": "nan",
         "inReplyToUser": "None",
         "mentionedUsers": "None",
         "coordinates": "None",
         "place": "None",
         "hashtags": "['RizedeKaraGece', 'Geleceğeİşaret', 'Acun', 'afara', 'FurkanGök', 'aşkmantıkintikamveda', 'ArdaGüler', 'Arda', 'NFT', 'ETH', 'META', 'BLM', 'NFTs', 'JohnnyDepp']",
         "cashtags": "None",
         "filtered": "['Us', 'Win', 'or', 'on', 'Site', '//t.co/FKIjSYW9Q9', 'Geleceğeİşaret', 'afara', 'aşkmantıkintikamveda', 'Arda', 'NFT', 'ETH', 'BLM', 'JohnnyDepp']",
         "_deepnote_index_column": 18
        },
        {
         "url": "https://twitter.com/Yvesbenaroch/status/1517644857900036097",
         "date": "2022-04-22T23:21:45.000000",
         "content": "Should we start a #jordan five’s Fridays ? #sneakerhead #meta #NFT #Metaverse #fashion #drip #art https://t.co/yKgZ2rFc4L",
         "renderedContent": "Should we start a #jordan five’s Fridays ? #sneakerhead #meta #NFT #Metaverse #fashion #drip #art https://t.co/yKgZ2rFc4L",
         "id": 1517644857900036000,
         "user": "{'username': 'Yvesbenaroch', 'id': 1460334187366400000, 'displayname': 'Yves Benaroch', 'description': 'Fashion designer \\\\\\\\ Founder and Lead Designer of @WatchandSeeNFT \\\\\\\\ Dog Dad \\\\\\\\ Humble and loving first, Hooper for life', 'rawDescription': 'Fashion designer \\\\\\\\ Founder and Lead Designer of @WatchandSeeNFT \\\\\\\\ Dog Dad \\\\\\\\ Humble and loving first, Hooper for life', 'descriptionUrls': None, 'verified': False, 'created': datetime.datetime(2021, 11, 15, 19, 49, 51, tzinfo=datetime.timezone.utc), 'followersCount': 25, 'friendsCount': 81, 'statusesCount': 149, 'favouritesCount': 306, 'listedCount': 1, 'mediaCount': 20, 'location': 'Los Angeles, CA', 'protected': False, 'linkUrl': 'http://watchandseenft.com', 'linkTcourl': 'https://t.co/dwW9RSdIiS', 'profileImageUrl': 'https://pbs.twimg.com/profile_images/1517613730816610304/_NvihSN__normal.jpg', 'profileBannerUrl': None, 'label': None}",
         "replyCount": 0,
         "retweetCount": 0,
         "likeCount": 3,
         "quoteCount": 1,
         "conversationId": 1517644857900036000,
         "lang": "en",
         "source": "<a href=\"http://twitter.com/download/iphone\" rel=\"nofollow\">Twitter for iPhone</a>",
         "sourceUrl": "http://twitter.com/download/iphone",
         "sourceLabel": "Twitter for iPhone",
         "outlinks": "None",
         "tcooutlinks": "None",
         "media": "[{'thumbnailUrl': 'https://pbs.twimg.com/tweet_video_thumb/FQ_B46aVIAEtJkp.jpg', 'variants': [{'contentType': 'video/mp4', 'url': 'https://video.twimg.com/tweet_video/FQ_B46aVIAEtJkp.mp4', 'bitrate': 0}]}]",
         "retweetedTweet": "None",
         "quotedTweet": "None",
         "inReplyToTweetId": "nan",
         "inReplyToUser": "None",
         "mentionedUsers": "None",
         "coordinates": "None",
         "place": "None",
         "hashtags": "['jordan', 'sneakerhead', 'meta', 'NFT', 'Metaverse', 'fashion', 'drip', 'art']",
         "cashtags": "None",
         "filtered": "['we', 'a', 'five', 's', '?', 'meta', 'Metaverse', 'drip', 'https']",
         "_deepnote_index_column": 23
        },
        {
         "url": "https://twitter.com/GenxAnalytics/status/1517639132700282880",
         "date": "2022-04-22T22:59:00.000000",
         "content": "What #METAVERSE Projects are DOMINATING over all others🥊👑\n\nLets explore🪐👇\n\n@decentraland @TheSandboxGame @enjin @RadioCacaNFT @MOBOX_Official @playdapp_io @illuviumio @VulcanForge @MeritCircle_IO @TheUFOtoken @Everdome_io @MinesOfDalarnia @RmrkApp @apecoin\n\n#Web3 #NFT #Meta https://t.co/OuctbcsBLM",
         "renderedContent": "What #METAVERSE Projects are DOMINATING over all others🥊👑\n\nLets explore🪐👇\n\n@decentraland @TheSandboxGame @enjin @RadioCacaNFT @MOBOX_Official @playdapp_io @illuviumio @VulcanForge @MeritCircle_IO @TheUFOtoken @Everdome_io @MinesOfDalarnia @RmrkApp @apecoin\n\n#Web3 #NFT #Meta https://t.co/OuctbcsBLM",
         "id": 1517639132700283000,
         "user": "{'username': 'GenxAnalytics', 'id': 1344747827214237697, 'displayname': 'GenX Analytics™ 🌟', 'description': '#GenX Analytics is a community of investors learning Personal finance.\\nCrypto market data Insights, Market activity, News,Events & more!\\ngenxinquiries@gmail.com', 'rawDescription': '#GenX Analytics is a community of investors learning Personal finance.\\nCrypto market data Insights, Market activity, News,Events & more!\\ngenxinquiries@gmail.com', 'descriptionUrls': None, 'verified': False, 'created': datetime.datetime(2020, 12, 31, 20, 50, 51, tzinfo=datetime.timezone.utc), 'followersCount': 38470, 'friendsCount': 4, 'statusesCount': 1340, 'favouritesCount': 49, 'listedCount': 399, 'mediaCount': 1124, 'location': 'Dubai, United Arab Emirates', 'protected': False, 'linkUrl': 'https://t.me/GenXanalytics', 'linkTcourl': 'https://t.co/uNb6BTRNfr', 'profileImageUrl': 'https://pbs.twimg.com/profile_images/1478009157332742149/1MjXtpKI_normal.jpg', 'profileBannerUrl': 'https://pbs.twim…",
         "replyCount": 23,
         "retweetCount": 22,
         "likeCount": 78,
         "quoteCount": 2,
         "conversationId": 1517639132700283000,
         "lang": "en",
         "source": "<a href=\"https://mobile.twitter.com\" rel=\"nofollow\">Twitter Web App</a>",
         "sourceUrl": "https://mobile.twitter.com",
         "sourceLabel": "Twitter Web App",
         "outlinks": "None",
         "tcooutlinks": "None",
         "media": "[{'previewUrl': 'https://pbs.twimg.com/media/FQulryRXEAAaekM?format=jpg&name=small', 'fullUrl': 'https://pbs.twimg.com/media/FQulryRXEAAaekM?format=jpg&name=large'}]",
         "retweetedTweet": "None",
         "quotedTweet": "None",
         "inReplyToTweetId": "nan",
         "inReplyToUser": "None",
         "mentionedUsers": "[{'username': 'decentraland', 'id': 3291830170, 'displayname': 'Decentraland', 'description': None, 'rawDescription': None, 'descriptionUrls': None, 'verified': None, 'created': None, 'followersCount': None, 'friendsCount': None, 'statusesCount': None, 'favouritesCount': None, 'listedCount': None, 'mediaCount': None, 'location': None, 'protected': None, 'linkUrl': None, 'linkTcourl': None, 'profileImageUrl': None, 'profileBannerUrl': None, 'label': None}, {'username': 'TheSandboxGame', 'id': 347831597, 'displayname': 'The Sandbox', 'description': None, 'rawDescription': None, 'descriptionUrls': None, 'verified': None, 'created': None, 'followersCount': None, 'friendsCount': None, 'statusesCount': None, 'favouritesCount': None, 'listedCount': None, 'mediaCount': None, 'location': None, 'protected': None, 'linkUrl': None, 'linkTcourl': None, 'profileImageUrl': None, 'profileBannerUrl': None, 'label': None}, {'username': 'enjin', 'id': 20356963, 'displayname': 'Enjin', 'description': Non…",
         "coordinates": "None",
         "place": "None",
         "hashtags": "['METAVERSE', 'Web3', 'NFT', 'Meta']",
         "cashtags": "None",
         "filtered": "['METAVERSE', 'are', 'over', 'others🥊👑', 'explore🪐👇', 'TheSandboxGame', 'RadioCacaNFT', 'playdapp_io', 'VulcanForge', 'TheUFOtoken', 'MinesOfDalarnia', 'apecoin', 'NFT', 'https']",
         "_deepnote_index_column": 39
        }
       ]
      },
      "text/plain": "                                                     url  \\\n0      https://twitter.com/VehicleCrypto/status/15176...   \n8      https://twitter.com/VehicleCrypto/status/15176...   \n10     https://twitter.com/NftTire/status/15176486196...   \n12     https://twitter.com/ksk199184/status/151764799...   \n14     https://twitter.com/YalovaGuncelTV/status/1517...   \n...                                                  ...   \n11316  https://twitter.com/y_youmack/status/151332308...   \n11320  https://twitter.com/Metamoonft/status/15133221...   \n11343  https://twitter.com/1234whichbetter/status/151...   \n11345  https://twitter.com/AudreyDesisto/status/15133...   \n11354  https://twitter.com/ThatManHans/status/1513306...   \n\n                           date  \\\n0     2022-04-22 23:53:59+00:00   \n8     2022-04-22 23:39:59+00:00   \n10    2022-04-22 23:36:42+00:00   \n12    2022-04-22 23:34:14+00:00   \n14    2022-04-22 23:33:38+00:00   \n...                         ...   \n11316 2022-04-11 01:08:35+00:00   \n11320 2022-04-11 01:04:45+00:00   \n11343 2022-04-11 00:27:39+00:00   \n11345 2022-04-11 00:24:13+00:00   \n11354 2022-04-11 00:00:49+00:00   \n\n                                                 content  \\\n0      Dip eaten fast.....\\n\\nBuy tax 2% for less tha...   \n8      CV coin buy tax 2% 1 hour only \\nBuy now!!!! 💎...   \n10     BeBird.eth for sale #moonbirds #MOONBIN #ens #...   \n12     It pays (literally) to be a @bapesclan holder....   \n14     We Distribute NFT for Free When We Reach 10K F...   \n...                                                  ...   \n11316  🍾 #NFTGiveaway 🍾\\n\\n1⃣ Like/RT\\n2⃣ follow @y_y...   \n11320  ❤️‍🔥20% of our token supply has been burned. 🔥...   \n11343  https://t.co/GOejIJxnjX #Bored in #NFT on #Ope...   \n11345  The #Metaverse is trying to figure out your co...   \n11354  It's like he's just peered deep into my soul, ...   \n\n                                         renderedContent                   id  \\\n0      Dip eaten fast.....\\n\\nBuy tax 2% for less tha...  1517652971542220809   \n8      CV coin buy tax 2% 1 hour only \\nBuy now!!!! 💎...  1517649448293310464   \n10     BeBird.eth for sale #moonbirds #MOONBIN #ens #...  1517648619674951681   \n12     It pays (literally) to be a @bapesclan holder....  1517647998968373249   \n14     We Distribute NFT for Free When We Reach 10K F...  1517647849349079045   \n...                                                  ...                  ...   \n11316  🍾 #NFTGiveaway 🍾\\n\\n1⃣ Like/RT\\n2⃣ follow @y_y...  1513323088645173250   \n11320  ❤️‍🔥20% of our token supply has been burned. 🔥...  1513322127260278785   \n11343  instagram.com/which_bored_ch… #Bored in #NFT o...  1513312787581538304   \n11345  The #Metaverse is trying to figure out your co...  1513311926834630657   \n11354  It's like he's just peered deep into my soul, ...  1513306034999287813   \n\n                                                    user  replyCount  \\\n0      {'username': 'VehicleCrypto', 'id': 1505522164...           4   \n8      {'username': 'VehicleCrypto', 'id': 1505522164...           2   \n10     {'username': 'NftTire', 'id': 38835427, 'displ...           0   \n12     {'username': 'ksk199184', 'id': 2908387006, 'd...           1   \n14     {'username': 'YalovaGuncelTV', 'id': 223153840...           1   \n...                                                  ...         ...   \n11316  {'username': 'y_youmack', 'id': 248781120, 'di...         153   \n11320  {'username': 'Metamoonft', 'id': 1483135507362...          19   \n11343  {'username': '1234whichbetter', 'id': 32483112...           2   \n11345  {'username': 'AudreyDesisto', 'id': 7536653378...           3   \n11354  {'username': 'ThatManHans', 'id': 145778822578...           1   \n\n       retweetCount  likeCount  quoteCount  ...  retweetedTweet quotedTweet  \\\n0                 1          6           0  ...            None        None   \n8                 0          4           0  ...            None        None   \n10                4          5           0  ...            None        None   \n12               10         19           1  ...            None        None   \n14                0          4           2  ...            None        None   \n...             ...        ...         ...  ...             ...         ...   \n11316           123        150           3  ...            None        None   \n11320            23         40           2  ...            None        None   \n11343             0          3           0  ...            None        None   \n11345             3          7           0  ...            None        None   \n11354             1          4           0  ...            None        None   \n\n      inReplyToTweetId inReplyToUser  \\\n0                  NaN          None   \n8                  NaN          None   \n10                 NaN          None   \n12                 NaN          None   \n14                 NaN          None   \n...                ...           ...   \n11316              NaN          None   \n11320              NaN          None   \n11343              NaN          None   \n11345              NaN          None   \n11354              NaN          None   \n\n                                          mentionedUsers coordinates place  \\\n0                                                   None        None  None   \n8                                                   None        None  None   \n10     [{'username': 'opensea', 'id': 946213559213555...        None  None   \n12     [{'username': 'bapesclan', 'id': 1472996876391...        None  None   \n14                                                  None        None  None   \n...                                                  ...         ...   ...   \n11316  [{'username': 'y_youmack', 'id': 248781120, 'd...        None  None   \n11320                                               None        None  None   \n11343                                               None        None  None   \n11345  [{'username': 'CNET', 'id': 30261067, 'display...        None  None   \n11354                                               None        None  None   \n\n                                                hashtags cashtags  \\\n0      [coin, CVCoin, Meta, NFTProject, cryptocurrecy...     None   \n8      [coin, CVCoin, Meta, NFTProject, cryptocurrecy...     None   \n10     [moonbirds, MOONBIN, ens, meta, nft, eth, Ethe...     None   \n12     [StakeYourBapes, web3, Metaverse, dao, eth, me...     None   \n14     [RizedeKaraGece, Geleceğeİşaret, Acun, afara, ...     None   \n...                                                  ...      ...   \n11316  [NFTGiveaway, NFTCommunity, Metaverse, Wearabl...     None   \n11320  [Metaverse, META, NFTGiveaway, NFTs, nftart, n...     None   \n11343  [Bored, NFT, OpenSea, ETH, Meta, Patreon, Foll...     None   \n11345  [Metaverse, Meta, VirtualReality, VR, AltSpace...     None   \n11354                                             [meta]     None   \n\n                                                filtered  \n0      [eaten, ....., tax, %, less, 45, left, 🚀, 🚀, 🚀...  \n8      [tax, %, hour, Buy, 💎, 💎, 💎, coin, CVCoin, NFT...  \n10      [for, moonbirds, ens, nft, Ethereum, https, via]  \n12     [pays, literally, a, holder, about, change, wo...  \n14     [Distribute, for, When, Reach, Followers, Gele...  \n...                                                  ...  \n11316  [NFTGiveaway, 1⃣, 2⃣, y_youmack, amp, polygona...  \n11320  [%, our, supply, been, 🔥🔥, Metaverse, NFTGivea...  \n11343  [//t.co/GOejIJxnjX, in, on, with, by, for, who...  \n11345  [Metaverse, trying, figure, your, zone, CNET, ...  \n11354  [he, 's, just, deep, my, and, figured, how, se...  \n\n[2129 rows x 28 columns]",
      "text/html": "<div>\n<style scoped>\n    .dataframe tbody tr th:only-of-type {\n        vertical-align: middle;\n    }\n\n    .dataframe tbody tr th {\n        vertical-align: top;\n    }\n\n    .dataframe thead th {\n        text-align: right;\n    }\n</style>\n<table border=\"1\" class=\"dataframe\">\n  <thead>\n    <tr style=\"text-align: right;\">\n      <th></th>\n      <th>url</th>\n      <th>date</th>\n      <th>content</th>\n      <th>renderedContent</th>\n      <th>id</th>\n      <th>user</th>\n      <th>replyCount</th>\n      <th>retweetCount</th>\n      <th>likeCount</th>\n      <th>quoteCount</th>\n      <th>...</th>\n      <th>retweetedTweet</th>\n      <th>quotedTweet</th>\n      <th>inReplyToTweetId</th>\n      <th>inReplyToUser</th>\n      <th>mentionedUsers</th>\n      <th>coordinates</th>\n      <th>place</th>\n      <th>hashtags</th>\n      <th>cashtags</th>\n      <th>filtered</th>\n    </tr>\n  </thead>\n  <tbody>\n    <tr>\n      <th>0</th>\n      <td>https://twitter.com/VehicleCrypto/status/15176...</td>\n      <td>2022-04-22 23:53:59+00:00</td>\n      <td>Dip eaten fast.....\\n\\nBuy tax 2% for less tha...</td>\n      <td>Dip eaten fast.....\\n\\nBuy tax 2% for less tha...</td>\n      <td>1517652971542220809</td>\n      <td>{'username': 'VehicleCrypto', 'id': 1505522164...</td>\n      <td>4</td>\n      <td>1</td>\n      <td>6</td>\n      <td>0</td>\n      <td>...</td>\n      <td>None</td>\n      <td>None</td>\n      <td>NaN</td>\n      <td>None</td>\n      <td>None</td>\n      <td>None</td>\n      <td>None</td>\n      <td>[coin, CVCoin, Meta, NFTProject, cryptocurrecy...</td>\n      <td>None</td>\n      <td>[eaten, ....., tax, %, less, 45, left, 🚀, 🚀, 🚀...</td>\n    </tr>\n    <tr>\n      <th>8</th>\n      <td>https://twitter.com/VehicleCrypto/status/15176...</td>\n      <td>2022-04-22 23:39:59+00:00</td>\n      <td>CV coin buy tax 2% 1 hour only \\nBuy now!!!! 💎...</td>\n      <td>CV coin buy tax 2% 1 hour only \\nBuy now!!!! 💎...</td>\n      <td>1517649448293310464</td>\n      <td>{'username': 'VehicleCrypto', 'id': 1505522164...</td>\n      <td>2</td>\n      <td>0</td>\n      <td>4</td>\n      <td>0</td>\n      <td>...</td>\n      <td>None</td>\n      <td>None</td>\n      <td>NaN</td>\n      <td>None</td>\n      <td>None</td>\n      <td>None</td>\n      <td>None</td>\n      <td>[coin, CVCoin, Meta, NFTProject, cryptocurrecy...</td>\n      <td>None</td>\n      <td>[tax, %, hour, Buy, 💎, 💎, 💎, coin, CVCoin, NFT...</td>\n    </tr>\n    <tr>\n      <th>10</th>\n      <td>https://twitter.com/NftTire/status/15176486196...</td>\n      <td>2022-04-22 23:36:42+00:00</td>\n      <td>BeBird.eth for sale #moonbirds #MOONBIN #ens #...</td>\n      <td>BeBird.eth for sale #moonbirds #MOONBIN #ens #...</td>\n      <td>1517648619674951681</td>\n      <td>{'username': 'NftTire', 'id': 38835427, 'displ...</td>\n      <td>0</td>\n      <td>4</td>\n      <td>5</td>\n      <td>0</td>\n      <td>...</td>\n      <td>None</td>\n      <td>None</td>\n      <td>NaN</td>\n      <td>None</td>\n      <td>[{'username': 'opensea', 'id': 946213559213555...</td>\n      <td>None</td>\n      <td>None</td>\n      <td>[moonbirds, MOONBIN, ens, meta, nft, eth, Ethe...</td>\n      <td>None</td>\n      <td>[for, moonbirds, ens, nft, Ethereum, https, via]</td>\n    </tr>\n    <tr>\n      <th>12</th>\n      <td>https://twitter.com/ksk199184/status/151764799...</td>\n      <td>2022-04-22 23:34:14+00:00</td>\n      <td>It pays (literally) to be a @bapesclan holder....</td>\n      <td>It pays (literally) to be a @bapesclan holder....</td>\n      <td>1517647998968373249</td>\n      <td>{'username': 'ksk199184', 'id': 2908387006, 'd...</td>\n      <td>1</td>\n      <td>10</td>\n      <td>19</td>\n      <td>1</td>\n      <td>...</td>\n      <td>None</td>\n      <td>None</td>\n      <td>NaN</td>\n      <td>None</td>\n      <td>[{'username': 'bapesclan', 'id': 1472996876391...</td>\n      <td>None</td>\n      <td>None</td>\n      <td>[StakeYourBapes, web3, Metaverse, dao, eth, me...</td>\n      <td>None</td>\n      <td>[pays, literally, a, holder, about, change, wo...</td>\n    </tr>\n    <tr>\n      <th>14</th>\n      <td>https://twitter.com/YalovaGuncelTV/status/1517...</td>\n      <td>2022-04-22 23:33:38+00:00</td>\n      <td>We Distribute NFT for Free When We Reach 10K F...</td>\n      <td>We Distribute NFT for Free When We Reach 10K F...</td>\n      <td>1517647849349079045</td>\n      <td>{'username': 'YalovaGuncelTV', 'id': 223153840...</td>\n      <td>1</td>\n      <td>0</td>\n      <td>4</td>\n      <td>2</td>\n      <td>...</td>\n      <td>None</td>\n      <td>None</td>\n      <td>NaN</td>\n      <td>None</td>\n      <td>None</td>\n      <td>None</td>\n      <td>None</td>\n      <td>[RizedeKaraGece, Geleceğeİşaret, Acun, afara, ...</td>\n      <td>None</td>\n      <td>[Distribute, for, When, Reach, Followers, Gele...</td>\n    </tr>\n    <tr>\n      <th>...</th>\n      <td>...</td>\n      <td>...</td>\n      <td>...</td>\n      <td>...</td>\n      <td>...</td>\n      <td>...</td>\n      <td>...</td>\n      <td>...</td>\n      <td>...</td>\n      <td>...</td>\n      <td>...</td>\n      <td>...</td>\n      <td>...</td>\n      <td>...</td>\n      <td>...</td>\n      <td>...</td>\n      <td>...</td>\n      <td>...</td>\n      <td>...</td>\n      <td>...</td>\n      <td>...</td>\n    </tr>\n    <tr>\n      <th>11316</th>\n      <td>https://twitter.com/y_youmack/status/151332308...</td>\n      <td>2022-04-11 01:08:35+00:00</td>\n      <td>🍾 #NFTGiveaway 🍾\\n\\n1⃣ Like/RT\\n2⃣ follow @y_y...</td>\n      <td>🍾 #NFTGiveaway 🍾\\n\\n1⃣ Like/RT\\n2⃣ follow @y_y...</td>\n      <td>1513323088645173250</td>\n      <td>{'username': 'y_youmack', 'id': 248781120, 'di...</td>\n      <td>153</td>\n      <td>123</td>\n      <td>150</td>\n      <td>3</td>\n      <td>...</td>\n      <td>None</td>\n      <td>None</td>\n      <td>NaN</td>\n      <td>None</td>\n      <td>[{'username': 'y_youmack', 'id': 248781120, 'd...</td>\n      <td>None</td>\n      <td>None</td>\n      <td>[NFTGiveaway, NFTCommunity, Metaverse, Wearabl...</td>\n      <td>None</td>\n      <td>[NFTGiveaway, 1⃣, 2⃣, y_youmack, amp, polygona...</td>\n    </tr>\n    <tr>\n      <th>11320</th>\n      <td>https://twitter.com/Metamoonft/status/15133221...</td>\n      <td>2022-04-11 01:04:45+00:00</td>\n      <td>❤️‍🔥20% of our token supply has been burned. 🔥...</td>\n      <td>❤️‍🔥20% of our token supply has been burned. 🔥...</td>\n      <td>1513322127260278785</td>\n      <td>{'username': 'Metamoonft', 'id': 1483135507362...</td>\n      <td>19</td>\n      <td>23</td>\n      <td>40</td>\n      <td>2</td>\n      <td>...</td>\n      <td>None</td>\n      <td>None</td>\n      <td>NaN</td>\n      <td>None</td>\n      <td>None</td>\n      <td>None</td>\n      <td>None</td>\n      <td>[Metaverse, META, NFTGiveaway, NFTs, nftart, n...</td>\n      <td>None</td>\n      <td>[%, our, supply, been, 🔥🔥, Metaverse, NFTGivea...</td>\n    </tr>\n    <tr>\n      <th>11343</th>\n      <td>https://twitter.com/1234whichbetter/status/151...</td>\n      <td>2022-04-11 00:27:39+00:00</td>\n      <td>https://t.co/GOejIJxnjX #Bored in #NFT on #Ope...</td>\n      <td>instagram.com/which_bored_ch… #Bored in #NFT o...</td>\n      <td>1513312787581538304</td>\n      <td>{'username': '1234whichbetter', 'id': 32483112...</td>\n      <td>2</td>\n      <td>0</td>\n      <td>3</td>\n      <td>0</td>\n      <td>...</td>\n      <td>None</td>\n      <td>None</td>\n      <td>NaN</td>\n      <td>None</td>\n      <td>None</td>\n      <td>None</td>\n      <td>None</td>\n      <td>[Bored, NFT, OpenSea, ETH, Meta, Patreon, Foll...</td>\n      <td>None</td>\n      <td>[//t.co/GOejIJxnjX, in, on, with, by, for, who...</td>\n    </tr>\n    <tr>\n      <th>11345</th>\n      <td>https://twitter.com/AudreyDesisto/status/15133...</td>\n      <td>2022-04-11 00:24:13+00:00</td>\n      <td>The #Metaverse is trying to figure out your co...</td>\n      <td>The #Metaverse is trying to figure out your co...</td>\n      <td>1513311926834630657</td>\n      <td>{'username': 'AudreyDesisto', 'id': 7536653378...</td>\n      <td>3</td>\n      <td>3</td>\n      <td>7</td>\n      <td>0</td>\n      <td>...</td>\n      <td>None</td>\n      <td>None</td>\n      <td>NaN</td>\n      <td>None</td>\n      <td>[{'username': 'CNET', 'id': 30261067, 'display...</td>\n      <td>None</td>\n      <td>None</td>\n      <td>[Metaverse, Meta, VirtualReality, VR, AltSpace...</td>\n      <td>None</td>\n      <td>[Metaverse, trying, figure, your, zone, CNET, ...</td>\n    </tr>\n    <tr>\n      <th>11354</th>\n      <td>https://twitter.com/ThatManHans/status/1513306...</td>\n      <td>2022-04-11 00:00:49+00:00</td>\n      <td>It's like he's just peered deep into my soul, ...</td>\n      <td>It's like he's just peered deep into my soul, ...</td>\n      <td>1513306034999287813</td>\n      <td>{'username': 'ThatManHans', 'id': 145778822578...</td>\n      <td>1</td>\n      <td>1</td>\n      <td>4</td>\n      <td>0</td>\n      <td>...</td>\n      <td>None</td>\n      <td>None</td>\n      <td>NaN</td>\n      <td>None</td>\n      <td>None</td>\n      <td>None</td>\n      <td>None</td>\n      <td>[meta]</td>\n      <td>None</td>\n      <td>[he, 's, just, deep, my, and, figured, how, se...</td>\n    </tr>\n  </tbody>\n</table>\n<p>2129 rows × 28 columns</p>\n</div>"
     },
     "metadata": {}
    }
   ]
  },
  {
   "cell_type": "code",
   "metadata": {
    "cell_id": "8d0dbc119a65408bbe5af4e5bc034a3a",
    "tags": [],
    "deepnote_to_be_reexecuted": false,
    "source_hash": "14124b99",
    "execution_start": 1651003252111,
    "execution_millis": 1061,
    "deepnote_table_state": {
     "pageSize": 10,
     "pageIndex": 0,
     "filters": [],
     "sortBy": []
    },
    "deepnote_table_loading": false,
    "deepnote_cell_type": "code",
    "deepnote_cell_height": 798
   },
   "source": "list_meta2 = []\nfor i in df_meta2['filtered']:\n    blob = TextBlob(str(i))\n    list_meta2.append(blob.sentiment.polarity)\n           \n\ndf_meta2[\"score\"] = list_meta2\ndf_meta2 = df_meta2[['score', 'date', 'filtered', 'replyCount', 'retweetCount', 'likeCount', 'quoteCount']] \ndf_meta2 = df_meta2[df_meta2['score'] != 0]\n# Extracting only date from date column\ndf_meta2[\"dateonly\"] = pd.to_datetime(df_meta2[\"date\"]).dt.date\ndf_meta2",
   "execution_count": null,
   "outputs": [
    {
     "output_type": "execute_result",
     "execution_count": 8,
     "data": {
      "application/vnd.deepnote.dataframe.v3+json": {
       "column_count": 8,
       "row_count": 875,
       "columns": [
        {
         "name": "score",
         "dtype": "float64",
         "stats": {
          "unique_count": 199,
          "nan_count": 0,
          "min": "-1.0",
          "max": "1.0",
          "histogram": [
           {
            "bin_start": -1,
            "bin_end": -0.8,
            "count": 2
           },
           {
            "bin_start": -0.8,
            "bin_end": -0.6,
            "count": 8
           },
           {
            "bin_start": -0.6,
            "bin_end": -0.3999999999999999,
            "count": 49
           },
           {
            "bin_start": -0.3999999999999999,
            "bin_end": -0.19999999999999996,
            "count": 35
           },
           {
            "bin_start": -0.19999999999999996,
            "bin_end": 0,
            "count": 73
           },
           {
            "bin_start": 0,
            "bin_end": 0.20000000000000018,
            "count": 254
           },
           {
            "bin_start": 0.20000000000000018,
            "bin_end": 0.40000000000000013,
            "count": 246
           },
           {
            "bin_start": 0.40000000000000013,
            "bin_end": 0.6000000000000001,
            "count": 137
           },
           {
            "bin_start": 0.6000000000000001,
            "bin_end": 0.8,
            "count": 26
           },
           {
            "bin_start": 0.8,
            "bin_end": 1,
            "count": 45
           }
          ]
         }
        },
        {
         "name": "date",
         "dtype": "datetime64[ns, UTC]",
         "stats": {
          "unique_count": 873,
          "nan_count": 0,
          "min": "2022-04-11 00:00:49+00:00",
          "max": "2022-04-22 23:53:59+00:00",
          "histogram": [
           {
            "bin_start": 1649635249000000000,
            "bin_end": 1649738888000000000,
            "count": 78
           },
           {
            "bin_start": 1649738888000000000,
            "bin_end": 1649842527000000000,
            "count": 84
           },
           {
            "bin_start": 1649842527000000000,
            "bin_end": 1649946166000000000,
            "count": 130
           },
           {
            "bin_start": 1649946166000000000,
            "bin_end": 1650049805000000000,
            "count": 120
           },
           {
            "bin_start": 1650049805000000000,
            "bin_end": 1650153444000000000,
            "count": 60
           },
           {
            "bin_start": 1650153444000000000,
            "bin_end": 1650257083000000000,
            "count": 49
           },
           {
            "bin_start": 1650257083000000000,
            "bin_end": 1650360722000000000,
            "count": 66
           },
           {
            "bin_start": 1650360722000000000,
            "bin_end": 1650464361000000000,
            "count": 86
           },
           {
            "bin_start": 1650464361000000000,
            "bin_end": 1650568000000000000,
            "count": 92
           },
           {
            "bin_start": 1650568000000000000,
            "bin_end": 1650671639000000000,
            "count": 110
           }
          ]
         }
        },
        {
         "name": "filtered",
         "dtype": "object",
         "stats": {
          "unique_count": 875,
          "nan_count": 0,
          "categories": [
           {
            "name": "['is', 'Grab', 'best', 'Domain', 'in', 'market', 'web3', 'Crypto', 'https']",
            "count": 5
           },
           {
            "name": "['metaverse', 'great', '—', 'great', 'https', 'AIEthics', 'AI', 'DeepLearning', '100DaysOfCode', 'insurtech', 'bitcoin', 'cybersecurite', 'https']",
            "count": 4
           },
           {
            "name": "862 others",
            "count": 866
           }
          ]
         }
        },
        {
         "name": "replyCount",
         "dtype": "int64",
         "stats": {
          "unique_count": 46,
          "nan_count": 0,
          "min": "0",
          "max": "636",
          "histogram": [
           {
            "bin_start": 0,
            "bin_end": 63.6,
            "count": 868
           },
           {
            "bin_start": 63.6,
            "bin_end": 127.2,
            "count": 4
           },
           {
            "bin_start": 127.2,
            "bin_end": 190.8,
            "count": 1
           },
           {
            "bin_start": 190.8,
            "bin_end": 254.4,
            "count": 0
           },
           {
            "bin_start": 254.4,
            "bin_end": 318,
            "count": 1
           },
           {
            "bin_start": 318,
            "bin_end": 381.6,
            "count": 0
           },
           {
            "bin_start": 381.6,
            "bin_end": 445.2,
            "count": 0
           },
           {
            "bin_start": 445.2,
            "bin_end": 508.8,
            "count": 0
           },
           {
            "bin_start": 508.8,
            "bin_end": 572.4,
            "count": 0
           },
           {
            "bin_start": 572.4,
            "bin_end": 636,
            "count": 1
           }
          ]
         }
        },
        {
         "name": "retweetCount",
         "dtype": "int64",
         "stats": {
          "unique_count": 52,
          "nan_count": 0,
          "min": "0",
          "max": "1570",
          "histogram": [
           {
            "bin_start": 0,
            "bin_end": 157,
            "count": 869
           },
           {
            "bin_start": 157,
            "bin_end": 314,
            "count": 2
           },
           {
            "bin_start": 314,
            "bin_end": 471,
            "count": 3
           },
           {
            "bin_start": 471,
            "bin_end": 628,
            "count": 0
           },
           {
            "bin_start": 628,
            "bin_end": 785,
            "count": 0
           },
           {
            "bin_start": 785,
            "bin_end": 942,
            "count": 0
           },
           {
            "bin_start": 942,
            "bin_end": 1099,
            "count": 0
           },
           {
            "bin_start": 1099,
            "bin_end": 1256,
            "count": 0
           },
           {
            "bin_start": 1256,
            "bin_end": 1413,
            "count": 0
           },
           {
            "bin_start": 1413,
            "bin_end": 1570,
            "count": 1
           }
          ]
         }
        },
        {
         "name": "likeCount",
         "dtype": "int64",
         "stats": {
          "unique_count": 81,
          "nan_count": 0,
          "min": "3",
          "max": "2768",
          "histogram": [
           {
            "bin_start": 3,
            "bin_end": 279.5,
            "count": 866
           },
           {
            "bin_start": 279.5,
            "bin_end": 556,
            "count": 4
           },
           {
            "bin_start": 556,
            "bin_end": 832.5,
            "count": 1
           },
           {
            "bin_start": 832.5,
            "bin_end": 1109,
            "count": 2
           },
           {
            "bin_start": 1109,
            "bin_end": 1385.5,
            "count": 0
           },
           {
            "bin_start": 1385.5,
            "bin_end": 1662,
            "count": 1
           },
           {
            "bin_start": 1662,
            "bin_end": 1938.5,
            "count": 0
           },
           {
            "bin_start": 1938.5,
            "bin_end": 2215,
            "count": 0
           },
           {
            "bin_start": 2215,
            "bin_end": 2491.5,
            "count": 0
           },
           {
            "bin_start": 2491.5,
            "bin_end": 2768,
            "count": 1
           }
          ]
         }
        },
        {
         "name": "quoteCount",
         "dtype": "int64",
         "stats": {
          "unique_count": 17,
          "nan_count": 0,
          "min": "0",
          "max": "525",
          "histogram": [
           {
            "bin_start": 0,
            "bin_end": 52.5,
            "count": 873
           },
           {
            "bin_start": 52.5,
            "bin_end": 105,
            "count": 1
           },
           {
            "bin_start": 105,
            "bin_end": 157.5,
            "count": 0
           },
           {
            "bin_start": 157.5,
            "bin_end": 210,
            "count": 0
           },
           {
            "bin_start": 210,
            "bin_end": 262.5,
            "count": 0
           },
           {
            "bin_start": 262.5,
            "bin_end": 315,
            "count": 0
           },
           {
            "bin_start": 315,
            "bin_end": 367.5,
            "count": 0
           },
           {
            "bin_start": 367.5,
            "bin_end": 420,
            "count": 0
           },
           {
            "bin_start": 420,
            "bin_end": 472.5,
            "count": 0
           },
           {
            "bin_start": 472.5,
            "bin_end": 525,
            "count": 1
           }
          ]
         }
        },
        {
         "name": "dateonly",
         "dtype": "object",
         "stats": {
          "unique_count": 12,
          "nan_count": 0,
          "categories": [
           {
            "name": "2022-04-14",
            "count": 107
           },
           {
            "name": "2022-04-13",
            "count": 105
           },
           {
            "name": "10 others",
            "count": 663
           }
          ]
         }
        },
        {
         "name": "_deepnote_index_column",
         "dtype": "int64"
        }
       ],
       "rows": [
        {
         "score": -0.08333333333333333,
         "date": "2022-04-22T23:53:59.000000",
         "filtered": "['eaten', '.....', 'tax', '%', 'less', '45', 'left', '🚀', '🚀', '🚀', 'coin', 'Meta', 'cryptocurrecy', 'vehiclecrypto', 'https']",
         "replyCount": 4,
         "retweetCount": 1,
         "likeCount": 6,
         "quoteCount": 0,
         "dateonly": "2022-04-22",
         "_deepnote_index_column": 0
        },
        {
         "score": 0.8,
         "date": "2022-04-22T23:27:38.000000",
         "filtered": "['Us', 'Win', 'or', 'on', 'Site', '//t.co/FKIjSYW9Q9', 'Geleceğeİşaret', 'afara', 'aşkmantıkintikamveda', 'Arda', 'NFT', 'ETH', 'BLM', 'JohnnyDepp']",
         "replyCount": 1,
         "retweetCount": 0,
         "likeCount": 4,
         "quoteCount": 1,
         "dateonly": "2022-04-22",
         "_deepnote_index_column": 18
        },
        {
         "score": -0.15555555555555559,
         "date": "2022-04-22T22:32:07.000000",
         "filtered": "['What', 'going', 'with', 'on', 'phone', 'has', 'down', '2', 'You', 'say', 'on', 'Metaverse', 'about']",
         "replyCount": 9,
         "retweetCount": 0,
         "likeCount": 3,
         "quoteCount": 1,
         "dateonly": "2022-04-22",
         "_deepnote_index_column": 49
        },
        {
         "score": -0.1,
         "date": "2022-04-22T22:17:46.000000",
         "filtered": "['Fail', 'fun', 'games', 'oculus', 'metaquest', 'meta', 'vrfails', 'https']",
         "replyCount": 0,
         "retweetCount": 1,
         "likeCount": 5,
         "quoteCount": 0,
         "dateonly": "2022-04-22",
         "_deepnote_index_column": 55
        },
        {
         "score": 0.5,
         "date": "2022-04-22T21:03:56.000000",
         "filtered": "['more', 'this', 'in', 'comments⚠️⚠️', 'CNFTCommunity', 'NFT', 'Meta', 'https']",
         "replyCount": 12,
         "retweetCount": 17,
         "likeCount": 32,
         "quoteCount": 2,
         "dateonly": "2022-04-22",
         "_deepnote_index_column": 101
        },
        {
         "score": 0.5,
         "date": "2022-04-22T21:03:52.000000",
         "filtered": "['else', 'able', 'wear', 'luxury', 'in', 'metaverse', 'I', 'glad', 'be', 'it', 'to', 'you', 'watch', 'see', 'Metaverse', 'NFTCommunity']",
         "replyCount": 3,
         "retweetCount": 0,
         "likeCount": 8,
         "quoteCount": 2,
         "dateonly": "2022-04-22",
         "_deepnote_index_column": 102
        },
        {
         "score": 0.5,
         "date": "2022-04-22T21:03:28.000000",
         "filtered": "['sure', 'join', 'MetaZone', 'in', 'Discord', 'decentraland', 'Call', 'starts', 'in', 'an', 'Learn', 'to', 'a', 'META', 'at', '$', 'Attendees', 'claim', 'POAP', '👇', 'nftcommunity', '//t.co/UXMXsX9fBF']",
         "replyCount": 4,
         "retweetCount": 4,
         "likeCount": 14,
         "quoteCount": 0,
         "dateonly": "2022-04-22",
         "_deepnote_index_column": 103
        },
        {
         "score": 0.5,
         "date": "2022-04-22T20:50:15.000000",
         "filtered": "['interesting', 'find', 'that', 'is', 'on', 'the', 'folks', 'FB', 'deactivated', 'Squeeky', 'and', 'that', 'Im', 'tweet', 'can', 'post', 'fill', 'form', 'but', 'have', 'login', 'to', 'send', 'cant', 'deactivated', 'https']",
         "replyCount": 6,
         "retweetCount": 1,
         "likeCount": 3,
         "quoteCount": 0,
         "dateonly": "2022-04-22",
         "_deepnote_index_column": 109
        },
        {
         "score": 0.7,
         "date": "2022-04-22T20:49:48.000000",
         "filtered": "[\"'s\", 'good', 'in', 'these', '?', 'META', 'nytimes', '//t.co/eKdqvCp6M5']",
         "replyCount": 0,
         "retweetCount": 1,
         "likeCount": 3,
         "quoteCount": 0,
         "dateonly": "2022-04-22",
         "_deepnote_index_column": 110
        },
        {
         "score": -0.2,
         "date": "2022-04-22T20:46:51.000000",
         "filtered": "['Thursday', 'bitcoin', 'and', 'gas', 'firm', 'Energy', 'revealed', 'secured', '505', 'from', 'EMILY_FXT0', 'cryptocurrency', 'market', 'https']",
         "replyCount": 3,
         "retweetCount": 9,
         "likeCount": 9,
         "quoteCount": 0,
         "dateonly": "2022-04-22",
         "_deepnote_index_column": 113
        }
       ]
      },
      "text/plain": "          score                      date  \\\n0     -0.083333 2022-04-22 23:53:59+00:00   \n18     0.800000 2022-04-22 23:27:38+00:00   \n49    -0.155556 2022-04-22 22:32:07+00:00   \n55    -0.100000 2022-04-22 22:17:46+00:00   \n101    0.500000 2022-04-22 21:03:56+00:00   \n...         ...                       ...   \n11229 -0.200000 2022-04-11 04:02:24+00:00   \n11242  0.350000 2022-04-11 03:32:59+00:00   \n11253 -0.100000 2022-04-11 03:17:39+00:00   \n11305 -0.200000 2022-04-11 01:28:28+00:00   \n11354  0.100000 2022-04-11 00:00:49+00:00   \n\n                                                filtered  replyCount  \\\n0      [eaten, ....., tax, %, less, 45, left, 🚀, 🚀, 🚀...           4   \n18     [Us, Win, or, on, Site, //t.co/FKIjSYW9Q9, Gel...           1   \n49     [What, going, with, on, phone, has, down, 2, Y...           9   \n55     [Fail, fun, games, oculus, metaquest, meta, vr...           0   \n101    [more, this, in, comments⚠️⚠️, CNFTCommunity, ...          12   \n...                                                  ...         ...   \n11229  [is, abstract, my, and, few, on, topic, meta, ...           2   \n11242  [went, visit, BITPIXI, BAR, Cool, ), ), galler...           1   \n11253  [SEC, Corporation, let, vote, its, strategy, 👉...           0   \n11305  [Ape, Mint, Green, Sold, 0.0199Ξ, NFTs, Meta, ...          16   \n11354  [he, 's, just, deep, my, and, figured, how, se...           1   \n\n       retweetCount  likeCount  quoteCount    dateonly  \n0                 1          6           0  2022-04-22  \n18                0          4           1  2022-04-22  \n49                0          3           1  2022-04-22  \n55                1          5           0  2022-04-22  \n101              17         32           2  2022-04-22  \n...             ...        ...         ...         ...  \n11229             1          4           0  2022-04-11  \n11242             3         14           1  2022-04-11  \n11253             2          7           0  2022-04-11  \n11305             5         16           3  2022-04-11  \n11354             1          4           0  2022-04-11  \n\n[875 rows x 8 columns]",
      "text/html": "<div>\n<style scoped>\n    .dataframe tbody tr th:only-of-type {\n        vertical-align: middle;\n    }\n\n    .dataframe tbody tr th {\n        vertical-align: top;\n    }\n\n    .dataframe thead th {\n        text-align: right;\n    }\n</style>\n<table border=\"1\" class=\"dataframe\">\n  <thead>\n    <tr style=\"text-align: right;\">\n      <th></th>\n      <th>score</th>\n      <th>date</th>\n      <th>filtered</th>\n      <th>replyCount</th>\n      <th>retweetCount</th>\n      <th>likeCount</th>\n      <th>quoteCount</th>\n      <th>dateonly</th>\n    </tr>\n  </thead>\n  <tbody>\n    <tr>\n      <th>0</th>\n      <td>-0.083333</td>\n      <td>2022-04-22 23:53:59+00:00</td>\n      <td>[eaten, ....., tax, %, less, 45, left, 🚀, 🚀, 🚀...</td>\n      <td>4</td>\n      <td>1</td>\n      <td>6</td>\n      <td>0</td>\n      <td>2022-04-22</td>\n    </tr>\n    <tr>\n      <th>18</th>\n      <td>0.800000</td>\n      <td>2022-04-22 23:27:38+00:00</td>\n      <td>[Us, Win, or, on, Site, //t.co/FKIjSYW9Q9, Gel...</td>\n      <td>1</td>\n      <td>0</td>\n      <td>4</td>\n      <td>1</td>\n      <td>2022-04-22</td>\n    </tr>\n    <tr>\n      <th>49</th>\n      <td>-0.155556</td>\n      <td>2022-04-22 22:32:07+00:00</td>\n      <td>[What, going, with, on, phone, has, down, 2, Y...</td>\n      <td>9</td>\n      <td>0</td>\n      <td>3</td>\n      <td>1</td>\n      <td>2022-04-22</td>\n    </tr>\n    <tr>\n      <th>55</th>\n      <td>-0.100000</td>\n      <td>2022-04-22 22:17:46+00:00</td>\n      <td>[Fail, fun, games, oculus, metaquest, meta, vr...</td>\n      <td>0</td>\n      <td>1</td>\n      <td>5</td>\n      <td>0</td>\n      <td>2022-04-22</td>\n    </tr>\n    <tr>\n      <th>101</th>\n      <td>0.500000</td>\n      <td>2022-04-22 21:03:56+00:00</td>\n      <td>[more, this, in, comments⚠️⚠️, CNFTCommunity, ...</td>\n      <td>12</td>\n      <td>17</td>\n      <td>32</td>\n      <td>2</td>\n      <td>2022-04-22</td>\n    </tr>\n    <tr>\n      <th>...</th>\n      <td>...</td>\n      <td>...</td>\n      <td>...</td>\n      <td>...</td>\n      <td>...</td>\n      <td>...</td>\n      <td>...</td>\n      <td>...</td>\n    </tr>\n    <tr>\n      <th>11229</th>\n      <td>-0.200000</td>\n      <td>2022-04-11 04:02:24+00:00</td>\n      <td>[is, abstract, my, and, few, on, topic, meta, ...</td>\n      <td>2</td>\n      <td>1</td>\n      <td>4</td>\n      <td>0</td>\n      <td>2022-04-11</td>\n    </tr>\n    <tr>\n      <th>11242</th>\n      <td>0.350000</td>\n      <td>2022-04-11 03:32:59+00:00</td>\n      <td>[went, visit, BITPIXI, BAR, Cool, ), ), galler...</td>\n      <td>1</td>\n      <td>3</td>\n      <td>14</td>\n      <td>1</td>\n      <td>2022-04-11</td>\n    </tr>\n    <tr>\n      <th>11253</th>\n      <td>-0.100000</td>\n      <td>2022-04-11 03:17:39+00:00</td>\n      <td>[SEC, Corporation, let, vote, its, strategy, 👉...</td>\n      <td>0</td>\n      <td>2</td>\n      <td>7</td>\n      <td>0</td>\n      <td>2022-04-11</td>\n    </tr>\n    <tr>\n      <th>11305</th>\n      <td>-0.200000</td>\n      <td>2022-04-11 01:28:28+00:00</td>\n      <td>[Ape, Mint, Green, Sold, 0.0199Ξ, NFTs, Meta, ...</td>\n      <td>16</td>\n      <td>5</td>\n      <td>16</td>\n      <td>3</td>\n      <td>2022-04-11</td>\n    </tr>\n    <tr>\n      <th>11354</th>\n      <td>0.100000</td>\n      <td>2022-04-11 00:00:49+00:00</td>\n      <td>[he, 's, just, deep, my, and, figured, how, se...</td>\n      <td>1</td>\n      <td>1</td>\n      <td>4</td>\n      <td>0</td>\n      <td>2022-04-11</td>\n    </tr>\n  </tbody>\n</table>\n<p>875 rows × 8 columns</p>\n</div>"
     },
     "metadata": {}
    }
   ]
  },
  {
   "cell_type": "code",
   "source": "_deepnote_run_altair(df_meta2, \"\"\"{\"$schema\":\"https://vega.github.io/schema/vega-lite/v4.json\",\"mark\":{\"type\":\"line\",\"tooltip\":{\"content\":\"data\"}},\"height\":220,\"autosize\":{\"type\":\"fit\"},\"data\":{\"name\":\"placeholder\"},\"encoding\":{\"x\":{\"field\":\"date\",\"type\":\"temporal\",\"sort\":null,\"scale\":{\"type\":\"linear\",\"zero\":false}},\"y\":{\"field\":\"score\",\"type\":\"quantitative\",\"sort\":null,\"scale\":{\"type\":\"linear\",\"zero\":false}},\"color\":{\"field\":\"\",\"type\":\"nominal\",\"sort\":null,\"scale\":{\"type\":\"linear\",\"zero\":false}}}}\"\"\")",
   "metadata": {
    "cell_id": "1b98944db87b48d1a562fcaf9f209aa1",
    "deepnote_variable_name": "df_meta2",
    "deepnote_visualization_spec": {
     "$schema": "https://vega.github.io/schema/vega-lite/v4.json",
     "mark": {
      "type": "line",
      "tooltip": {
       "content": "data"
      }
     },
     "height": 220,
     "autosize": {
      "type": "fit"
     },
     "data": {
      "name": "placeholder"
     },
     "encoding": {
      "x": {
       "field": "date",
       "type": "temporal",
       "sort": null,
       "scale": {
        "type": "linear",
        "zero": false
       }
      },
      "y": {
       "field": "score",
       "type": "quantitative",
       "sort": null,
       "scale": {
        "type": "linear",
        "zero": false
       }
      },
      "color": {
       "field": "",
       "type": "nominal",
       "sort": null,
       "scale": {
        "type": "linear",
        "zero": false
       }
      }
     }
    },
    "deepnote_to_be_reexecuted": false,
    "source_hash": "716df95e",
    "execution_start": 1651006424583,
    "execution_millis": 117,
    "deepnote_cell_type": "visualization"
   },
   "execution_count": null,
   "outputs": [
    {
     "output_type": "execute_result",
     "execution_count": 24,
     "data": {
      "text/html": "\n<div id=\"altair-viz-c180ec78919a4e0b832b57bdc7210d59\"></div>\n<script type=\"text/javascript\">\n  (function(spec, embedOpt){\n    let outputDiv = document.currentScript.previousElementSibling;\n    if (outputDiv.id !== \"altair-viz-c180ec78919a4e0b832b57bdc7210d59\") {\n      outputDiv = document.getElementById(\"altair-viz-c180ec78919a4e0b832b57bdc7210d59\");\n    }\n    const paths = {\n      \"vega\": \"https://cdn.jsdelivr.net/npm//vega@5?noext\",\n      \"vega-lib\": \"https://cdn.jsdelivr.net/npm//vega-lib?noext\",\n      \"vega-lite\": \"https://cdn.jsdelivr.net/npm//vega-lite@4.8.1?noext\",\n      \"vega-embed\": \"https://cdn.jsdelivr.net/npm//vega-embed@6?noext\",\n    };\n\n    function loadScript(lib) {\n      return new Promise(function(resolve, reject) {\n        var s = document.createElement('script');\n        s.src = paths[lib];\n        s.async = true;\n        s.onload = () => resolve(paths[lib]);\n        s.onerror = () => reject(`Error loading script: ${paths[lib]}`);\n        document.getElementsByTagName(\"head\")[0].appendChild(s);\n      });\n    }\n\n    function showError(err) {\n      outputDiv.innerHTML = `<div class=\"error\" style=\"color:red;\">${err}</div>`;\n      throw err;\n    }\n\n    function displayChart(vegaEmbed) {\n      vegaEmbed(outputDiv, spec, embedOpt)\n        .catch(err => showError(`Javascript Error: ${err.message}<br>This usually means there's a typo in your chart specification. See the javascript console for the full traceback.`));\n    }\n\n    if(typeof define === \"function\" && define.amd) {\n      requirejs.config({paths});\n      require([\"vega-embed\"], displayChart, err => showError(`Error loading script: ${err.message}`));\n    } else if (typeof vegaEmbed === \"function\") {\n      displayChart(vegaEmbed);\n    } else {\n      loadScript(\"vega\")\n        .then(() => loadScript(\"vega-lite\"))\n        .then(() => loadScript(\"vega-embed\"))\n        .catch(showError)\n        .then(() => displayChart(vegaEmbed));\n    }\n  })({\"config\": {\"view\": {\"continuousWidth\": 400, \"continuousHeight\": 300}, \"area\": {\"fill\": \"#51C0E9\"}, \"axis\": {\"labelFont\": \"Inter, sans-serif\", \"labelFontSize\": 12, \"labelFontWeight\": \"normal\", \"labelLimit\": 60, \"labelOverlap\": \"greedy\", \"titleFont\": \"Inter, sans-serif\", \"titleFontSize\": 12, \"titleFontWeight\": \"bold\"}, \"background\": \"#ffffff\", \"legend\": {\"labelFont\": \"Inter, sans-serif\", \"labelFontSize\": 12, \"titleFont\": \"Inter, sans-serif\", \"titleFontSize\": 12, \"titleFontWeight\": \"bold\"}, \"line\": {\"stroke\": \"#51C0E9\", \"strokeWidth\": 2}, \"rect\": {\"fill\": \"#51C0E9\"}, \"title\": {\"anchor\": \"start\", \"color\": \"#000000\", \"font\": \"Inter, sans-serif\", \"fontSize\": 22, \"fontWeight\": \"normal\"}}, \"data\": {\"name\": \"data-7bf8da94364c59519ba5183c27e7d32e\"}, \"mark\": {\"type\": \"line\", \"tooltip\": {\"content\": \"data\"}}, \"autosize\": {\"type\": \"fit\"}, \"encoding\": {\"color\": {\"type\": \"nominal\", \"field\": \"\", \"scale\": {\"type\": \"linear\", \"zero\": false}, \"sort\": null}, \"x\": {\"type\": \"temporal\", \"field\": \"date\", \"scale\": {\"type\": \"linear\", \"zero\": false}, \"sort\": null}, \"y\": {\"type\": \"quantitative\", \"field\": \"score\", \"scale\": {\"type\": \"linear\", \"zero\": false}, \"sort\": null}}, \"height\": 300, \"width\": \"container\", \"$schema\": \"https://vega.github.io/schema/vega-lite/v4.json\", \"datasets\": {\"data-7bf8da94364c59519ba5183c27e7d32e\": [{\"score\": -0.08333333333333333, \"date\": \"2022-04-22T23:53:59+00:00\", \"filtered\": [\"eaten\", \".....\", \"tax\", \"%\", \"less\", \"45\", \"left\", \"\\ud83d\\ude80\", \"\\ud83d\\ude80\", \"\\ud83d\\ude80\", \"coin\", \"Meta\", \"cryptocurrecy\", \"vehiclecrypto\", \"https\"], \"replyCount\": 4, \"retweetCount\": 1, \"likeCount\": 6, \"quoteCount\": 0, \"dateonly\": \"2022-04-22T00:00:00\"}, {\"score\": 0.8, \"date\": \"2022-04-22T23:27:38+00:00\", \"filtered\": [\"Us\", \"Win\", \"or\", \"on\", \"Site\", \"//t.co/FKIjSYW9Q9\", \"Gelece\\u011fe\\u0130\\u015faret\", \"afara\", \"a\\u015fkmant\\u0131kintikamveda\", \"Arda\", \"NFT\", \"ETH\", \"BLM\", \"JohnnyDepp\"], \"replyCount\": 1, \"retweetCount\": 0, \"likeCount\": 4, \"quoteCount\": 1, \"dateonly\": \"2022-04-22T00:00:00\"}, {\"score\": -0.15555555555555559, \"date\": \"2022-04-22T22:32:07+00:00\", \"filtered\": [\"What\", \"going\", \"with\", \"on\", \"phone\", \"has\", \"down\", \"2\", \"You\", \"say\", \"on\", \"Metaverse\", \"about\"], \"replyCount\": 9, \"retweetCount\": 0, \"likeCount\": 3, \"quoteCount\": 1, \"dateonly\": \"2022-04-22T00:00:00\"}, {\"score\": -0.1, \"date\": \"2022-04-22T22:17:46+00:00\", \"filtered\": [\"Fail\", \"fun\", \"games\", \"oculus\", \"metaquest\", \"meta\", \"vrfails\", \"https\"], \"replyCount\": 0, \"retweetCount\": 1, \"likeCount\": 5, \"quoteCount\": 0, \"dateonly\": \"2022-04-22T00:00:00\"}, {\"score\": 0.5, \"date\": \"2022-04-22T21:03:56+00:00\", \"filtered\": [\"more\", \"this\", \"in\", \"comments\\u26a0\\ufe0f\\u26a0\\ufe0f\", \"CNFTCommunity\", \"NFT\", \"Meta\", \"https\"], \"replyCount\": 12, \"retweetCount\": 17, \"likeCount\": 32, \"quoteCount\": 2, \"dateonly\": \"2022-04-22T00:00:00\"}, {\"score\": 0.5, \"date\": \"2022-04-22T21:03:52+00:00\", \"filtered\": [\"else\", \"able\", \"wear\", \"luxury\", \"in\", \"metaverse\", \"I\", \"glad\", \"be\", \"it\", \"to\", \"you\", \"watch\", \"see\", \"Metaverse\", \"NFTCommunity\"], \"replyCount\": 3, \"retweetCount\": 0, \"likeCount\": 8, \"quoteCount\": 2, \"dateonly\": \"2022-04-22T00:00:00\"}, {\"score\": 0.5, \"date\": \"2022-04-22T21:03:28+00:00\", \"filtered\": [\"sure\", \"join\", \"MetaZone\", \"in\", \"Discord\", \"decentraland\", \"Call\", \"starts\", \"in\", \"an\", \"Learn\", \"to\", \"a\", \"META\", \"at\", \"$\", \"Attendees\", \"claim\", \"POAP\", \"\\ud83d\\udc47\", \"nftcommunity\", \"//t.co/UXMXsX9fBF\"], \"replyCount\": 4, \"retweetCount\": 4, \"likeCount\": 14, \"quoteCount\": 0, \"dateonly\": \"2022-04-22T00:00:00\"}, {\"score\": 0.5, \"date\": \"2022-04-22T20:50:15+00:00\", \"filtered\": [\"interesting\", \"find\", \"that\", \"is\", \"on\", \"the\", \"folks\", \"FB\", \"deactivated\", \"Squeeky\", \"and\", \"that\", \"Im\", \"tweet\", \"can\", \"post\", \"fill\", \"form\", \"but\", \"have\", \"login\", \"to\", \"send\", \"cant\", \"deactivated\", \"https\"], \"replyCount\": 6, \"retweetCount\": 1, \"likeCount\": 3, \"quoteCount\": 0, \"dateonly\": \"2022-04-22T00:00:00\"}, {\"score\": 0.7, \"date\": \"2022-04-22T20:49:48+00:00\", \"filtered\": [\"'s\", \"good\", \"in\", \"these\", \"?\", \"META\", \"nytimes\", \"//t.co/eKdqvCp6M5\"], \"replyCount\": 0, \"retweetCount\": 1, \"likeCount\": 3, \"quoteCount\": 0, \"dateonly\": \"2022-04-22T00:00:00\"}, {\"score\": -0.2, \"date\": \"2022-04-22T20:46:51+00:00\", \"filtered\": [\"Thursday\", \"bitcoin\", \"and\", \"gas\", \"firm\", \"Energy\", \"revealed\", \"secured\", \"505\", \"from\", \"EMILY_FXT0\", \"cryptocurrency\", \"market\", \"https\"], \"replyCount\": 3, \"retweetCount\": 9, \"likeCount\": 9, \"quoteCount\": 0, \"dateonly\": \"2022-04-22T00:00:00\"}, {\"score\": 0.4, \"date\": \"2022-04-22T20:32:30+00:00\", \"filtered\": [\"you\", \"looking\", \"something\", \"something\", \"genuinely\", \"with\", \"story\", \"it.This\", \"not\", \"an\", \"..\", \"it\", \"and\", \"at\", \"1.5\", \"https\", \"openseanfts\", \"NFTCommunity\", \"NFTartists\", \"WomenInNFT\"], \"replyCount\": 2, \"retweetCount\": 0, \"likeCount\": 6, \"quoteCount\": 1, \"dateonly\": \"2022-04-22T00:00:00\"}, {\"score\": 0.1, \"date\": \"2022-04-22T20:24:58+00:00\", \"filtered\": [\"effects\", \"action\", \"and\", \"\\ud83e\\udd13\", \"$\", \"https\"], \"replyCount\": 0, \"retweetCount\": 2, \"likeCount\": 34, \"quoteCount\": 0, \"dateonly\": \"2022-04-22T00:00:00\"}, {\"score\": -0.2, \"date\": \"2022-04-22T19:56:41+00:00\", \"filtered\": [\"than\", \"end\", \"Round\", \"presale\", \"is\", \"cheapest\", \"\\u2019\", \"going\", \"to\", \"be\", \"\\u2019\", \"MISS\", \"\\u23f3Join\", \"Presale\", \"//t.co/YqNXeQX1GC\", \"ACDX\", \"Airdrops\", \"BNB\", \"BEP20\", \"crypto\", \"https\"], \"replyCount\": 0, \"retweetCount\": 0, \"likeCount\": 3, \"quoteCount\": 0, \"dateonly\": \"2022-04-22T00:00:00\"}, {\"score\": 0.13636363636363635, \"date\": \"2022-04-22T19:51:24+00:00\", \"filtered\": [\"just\", \"new\", \"including\", \"one\", \"view\", \"contributions\", \"VR\", \"are\", \"adopting\", \"metaverse\", \"?\", \"WebStories\", \"NFTCommunity\", \"https\"], \"replyCount\": 2, \"retweetCount\": 2, \"likeCount\": 4, \"quoteCount\": 2, \"dateonly\": \"2022-04-22T00:00:00\"}, {\"score\": 0.6, \"date\": \"2022-04-22T19:30:23+00:00\", \"filtered\": [\"do\", \"own\", \"of\", \"noun\", \"but\", \"one\", \"was\", \"feeling\", \"represents\", \"web3\", \"amp\", \"ETH\", \"for\", \"ensdomains\", \"web3\", \"META\", \"ETH\", \"//t.co/nq4LcoZTxx\"], \"replyCount\": 1, \"retweetCount\": 0, \"likeCount\": 18, \"quoteCount\": 0, \"dateonly\": \"2022-04-22T00:00:00\"}, {\"score\": 0.2, \"date\": \"2022-04-22T18:31:17+00:00\", \"filtered\": [\"very\", \"NFTCommunity\", \"meta\", \"//t.co/a2O6RASaT6\"], \"replyCount\": 0, \"retweetCount\": 1, \"likeCount\": 4, \"quoteCount\": 3, \"dateonly\": \"2022-04-22T00:00:00\"}, {\"score\": 0.8, \"date\": \"2022-04-22T18:19:47+00:00\", \"filtered\": [\"This\", \"bucket\", \"suffice\", \"bring\", \"pain\", \"them\", \"ways\", \"have\", \"experienced\", \"before\", \"What\", \"the\", \"that\", \"happen\", \"?\", \"QuimeraSA_\", \"//t.co/VRwi8ZM4vJ\", \"Crypto\", \"FTX\", \"NFTartists\", \"NFT\", \"https\"], \"replyCount\": 4, \"retweetCount\": 0, \"likeCount\": 20, \"quoteCount\": 0, \"dateonly\": \"2022-04-22T00:00:00\"}, {\"score\": 0.4, \"date\": \"2022-04-22T18:04:52+00:00\", \"filtered\": [\"the\", \"of\", \"Coming\", \"AppLab\", \"to\", \"make\", \"free\", \"Steam\", \"Loci\", \"IndieGame\", \"ComingSoon\", \"Puzzle\", \"EarthDay\", \"//t.co/AEAkgKw1qD\"], \"replyCount\": 0, \"retweetCount\": 0, \"likeCount\": 5, \"quoteCount\": 0, \"dateonly\": \"2022-04-22T00:00:00\"}, {\"score\": 0.6000000000000001, \"date\": \"2022-04-22T18:04:23+00:00\", \"filtered\": [\"lot\", \"amazing\", \"is\", \"on\", \"now\", \"the\", \"The\", \"&\", \";\", \"Join\", \"lot\", \"crypto\", \"to\", \"Excitement\", \"you\", \"gaming\", \"Metaverse\", \"Meta\", \"detail\", \"are\", \"here\", \"//t.co/aRawVSIAd3\", \"//t.co/Df9wLIZij8\"], \"replyCount\": 3, \"retweetCount\": 0, \"likeCount\": 31, \"quoteCount\": 1, \"dateonly\": \"2022-04-22T00:00:00\"}, {\"score\": -0.08787878787878789, \"date\": \"2022-04-22T18:01:09+00:00\", \"filtered\": [\"new\", \"you\", \"chain\", \"machines\", \"solve\", \"intricate\", \"It\", \"us\", \"The\", \"Machines\", \"game\", \"back\", \"the\", \"but\", \"it\", \"in\", \"VR\", \"Gadgeteer\", \"SideQuest\", \"Quest2\", \"gadgeteergame\", \"https\", \"//t.co/7haJ2gxkWI\"], \"replyCount\": 0, \"retweetCount\": 0, \"likeCount\": 8, \"quoteCount\": 0, \"dateonly\": \"2022-04-22T00:00:00\"}, {\"score\": 0.35, \"date\": \"2022-04-22T17:51:43+00:00\", \"filtered\": [\"what\", \"did\", \"see\", \"coming\", \"CALLS\", \"This\", \"100x\", \"sure\", \"ready\", \"now\", \"CometCalls\", \"CVCoin\", \"NFT\", \"ridethewave\", \"microgem\", \"Metaverse\", \"//t.co/HGc1ptVXlr\"], \"replyCount\": 42, \"retweetCount\": 117, \"likeCount\": 153, \"quoteCount\": 0, \"dateonly\": \"2022-04-22T00:00:00\"}, {\"score\": -0.5, \"date\": \"2022-04-22T17:08:48+00:00\", \"filtered\": [\"Shadow\", \"rugged\", \"?\", \"Sorry\", \"scheduled\", \"rugging\", \"\\u2019\", \"try\", \"?\", \"DeFi\", \"NFT\", \"https\"], \"replyCount\": 0, \"retweetCount\": 5, \"likeCount\": 12, \"quoteCount\": 0, \"dateonly\": \"2022-04-22T00:00:00\"}, {\"score\": 0.05, \"date\": \"2022-04-22T17:02:00+00:00\", \"filtered\": [\"EPAZ\", \"division\", \"linkages\", \"RealEstate\", \"connected\", \"increasing\", \"pricing\", \"sees\", \"drive\", \"through\", \"that\", \"access\", \"future\", \"of\", \"once\", \"the\", \"land\", \"developed\", \"buildings\", \"constructed\", \"HIVE\", \"MARA\", \"HUT\"], \"replyCount\": 1, \"retweetCount\": 3, \"likeCount\": 237, \"quoteCount\": 2, \"dateonly\": \"2022-04-22T00:00:00\"}, {\"score\": 0.075, \"date\": \"2022-04-22T16:52:20+00:00\", \"filtered\": [\"A\", \"face\", \"book\", \"saver\", \"But\", \"jury\", \"still\", \"Study\", \"many\", \"global\", \"companies\", \"Track\", \"There\", \"a\", \"outside\", \"few\", \"names\", \"crow\", \"and\", \"day\", \"out\", \"that\", \"has\", \"doors\", \"for\", \"https\"], \"replyCount\": 0, \"retweetCount\": 1, \"likeCount\": 11, \"quoteCount\": 0, \"dateonly\": \"2022-04-22T00:00:00\"}, {\"score\": 0.5, \"date\": \"2022-04-22T16:52:20+00:00\", \"filtered\": [\"raccoonz\", \"a\", \"nervous\", \"meet\", \"show\", \"love\", \"them\", \"get\", \"post\", \"25\", \"to\", \"them\", \"\\u2764\\ufe0f\\ud83d\\ude0a\", \"NFTs\", \"nftdrop\", \"NFTGiveaways\", \"meta\"], \"replyCount\": 4, \"retweetCount\": 1, \"likeCount\": 7, \"quoteCount\": 3, \"dateonly\": \"2022-04-22T00:00:00\"}, {\"score\": 0.275, \"date\": \"2022-04-22T16:44:12+00:00\", \"filtered\": [\"Friday\", \"Fun\", \"Twitter\", \"Jack\", \"sold\", \"first\", \"in\", \"format\", \"$\", \"million\", \"Source\", \"Insider\", \"NFTCommunity\", \"Metaverse\", \"meta\", \"moonbirdsnft\", \"cryptocurrency\"], \"replyCount\": 2, \"retweetCount\": 0, \"likeCount\": 3, \"quoteCount\": 1, \"dateonly\": \"2022-04-22T00:00:00\"}, {\"score\": 0.16666666666666666, \"date\": \"2022-04-22T16:24:54+00:00\", \"filtered\": [\"Update\", \"is\", \"more\", \"in\", \"image\", \"You\", \"download\", \"game\", \"free\", \"SideQuestVR\", \"'s\", \"link\", \"//t.co/CVWUe6PXHQ\", \"indiegamedev\", \"indiedev\", \"horror\", \"vrgaming\", \"metaquest2\", \"//t.co/JtOuHNnFZ5\"], \"replyCount\": 0, \"retweetCount\": 9, \"likeCount\": 10, \"quoteCount\": 0, \"dateonly\": \"2022-04-22T00:00:00\"}, {\"score\": 0.3, \"date\": \"2022-04-22T16:17:05+00:00\", \"filtered\": [\"Meta\", \"For\", \"Starting\", \"is\", \"$\", \"Increases\", \"20\", \"Is\", \"available\", \"on\", \"MARKETPLACE\", \"//t.co/fWB3xTV1z0\", \"sure\", \"Retweet\", \"&\", \"amp\", \";\", \"share\", \"your\", \"NFT\", \"Wearble\", \"META\", \"King\", \"royal\", \"https\"], \"replyCount\": 2, \"retweetCount\": 2, \"likeCount\": 6, \"quoteCount\": 0, \"dateonly\": \"2022-04-22T00:00:00\"}, {\"score\": 0.3181818181818182, \"date\": \"2022-04-22T16:00:04+00:00\", \"filtered\": [\"shared\", \"latest\", \"gaming\", \"while\", \"demonstrating\", \"in\", \"tracking\", \"and\", \"control\", \"Showcases\", \"VR\", \"New\", \"Options\", \"Gaming\", \"Event\", \"//t.co/0PeRCF6mfW\", \"//t.co/NKKerj0Eft\"], \"replyCount\": 0, \"retweetCount\": 2, \"likeCount\": 3, \"quoteCount\": 0, \"dateonly\": \"2022-04-22T00:00:00\"}, {\"score\": 0.4, \"date\": \"2022-04-22T15:55:40+00:00\", \"filtered\": [\"Do\", \"Think\", \"The\", \"Important\", \"Of\", \"NFT\", \"NFTCommunity\"], \"replyCount\": 3, \"retweetCount\": 1, \"likeCount\": 3, \"quoteCount\": 2, \"dateonly\": \"2022-04-22T00:00:00\"}, {\"score\": 0.4, \"date\": \"2022-04-22T15:55:03+00:00\", \"filtered\": [\"having\", \"at\", \"Algorand\", \"'s\", \"Day\", \"We\", \"re\", \"to\", \"our\", \"Marketplace\", \"the\", \"Blockchain\", \"We\", \"your\", \"for\", \"environment\", \"digital\", \"Happy\", \"Day\", \"kryptonurd\", \"meta\", \"//t.co/u97KEUwzUL\"], \"replyCount\": 1, \"retweetCount\": 14, \"likeCount\": 35, \"quoteCount\": 0, \"dateonly\": \"2022-04-22T00:00:00\"}, {\"score\": 0.3, \"date\": \"2022-04-22T15:53:14+00:00\", \"filtered\": [\"Diamondsareforever\", \"TiffanyAndCo\", \"be\", \"of\", \"most\", \"known\", \"brands\", \"Let\", \"s\", \"breakfast\", \"Tiffany\", \"s\\ud83d\\udc8e\", \"This\", \"is\", \"of\", \"the\", \"Meta\", \"Collection\", \"with\", \"brand\", \"communityevents\", \"Futugo\", \"offers\", \"https\"], \"replyCount\": 1, \"retweetCount\": 2, \"likeCount\": 7, \"quoteCount\": 2, \"dateonly\": \"2022-04-22T00:00:00\"}, {\"score\": 1.0, \"date\": \"2022-04-22T15:52:03+00:00\", \"filtered\": [\"At\", \"aRe\", \"to\", \"BasicaLly\", \"greatest\", \"of\", \"time\\u2026\", \"gueSses\", \"Hint\", \"at\", \"Caps\", \"Capitals\", \"Utility\", \"meta\", \"DAO\"], \"replyCount\": 1, \"retweetCount\": 3, \"likeCount\": 11, \"quoteCount\": 2, \"dateonly\": \"2022-04-22T00:00:00\"}, {\"score\": 0.1, \"date\": \"2022-04-22T15:51:01+00:00\", \"filtered\": [\"'ve\", \"been\", \"early\", \"a\", \"project\", \"n't\", \"out\", \"a\", \"1\\ufe0f\\u20e3\", \"us\", \"RT\", \"amp\", \"\\u2764\\ufe0f\", \"Tag\", \"Friends\", \"degenplay\", \"NFTdrop\", \"NFTCollection\", \"FreeMint\", \"NFT\", \"META\", \"nonfungible\", \"DegenDojo\", \"//t.co/81VHzDTDZw\"], \"replyCount\": 3, \"retweetCount\": 3, \"likeCount\": 5, \"quoteCount\": 4, \"dateonly\": \"2022-04-22T00:00:00\"}, {\"score\": 0.1, \"date\": \"2022-04-22T15:42:08+00:00\", \"filtered\": [\"'ve\", \"been\", \"early\", \"a\", \"project\", \"n't\", \"out\", \"a\", \"1\\ufe0f\\u20e3\", \"us\", \"RT\", \"amp\", \"\\u2764\\ufe0f\", \"Tag\", \"Friends\", \"degenplay\", \"NFTdrop\", \"NFTCollection\", \"FreeMint\", \"NFT\", \"META\", \"nonfungible\", \"DegenDojo\", \"//t.co/2RnzzGnrnd\"], \"replyCount\": 3, \"retweetCount\": 2, \"likeCount\": 8, \"quoteCount\": 7, \"dateonly\": \"2022-04-22T00:00:00\"}, {\"score\": -0.103125, \"date\": \"2022-04-22T15:31:14+00:00\", \"filtered\": [\"$\", \"NFT\", \"Gaming\", \"is\", \"open\", \"is\", \"closed\", \"will\", \"open\", \"Sunday\", \"in\", \"mean\", \"take\", \"look\", \"and\", \"feed\", \"NFTCommunity\", \"https\", \"meta\", \"https\", \"https\"], \"replyCount\": 6, \"retweetCount\": 14, \"likeCount\": 23, \"quoteCount\": 3, \"dateonly\": \"2022-04-22T00:00:00\"}, {\"score\": 0.2, \"date\": \"2022-04-22T15:29:06+00:00\", \"filtered\": [\"are\", \"all\", \"real\", \"baddies\", \"there\", \"ensdomains\", \"web3\", \"META\", \"ETH\", \"//t.co/aNUMrN7GJi\"], \"replyCount\": 4, \"retweetCount\": 1, \"likeCount\": 25, \"quoteCount\": 0, \"dateonly\": \"2022-04-22T00:00:00\"}, {\"score\": 0.1, \"date\": \"2022-04-22T15:17:08+00:00\", \"filtered\": [\"is\", \"completely\", \"Concept\", \"is\", \"Metaverse\", \"\\ud83d\\udc36\", \"APET\", \"meta\", \"Pets\", \"NFTs\"], \"replyCount\": 0, \"retweetCount\": 2, \"likeCount\": 3, \"quoteCount\": 0, \"dateonly\": \"2022-04-22T00:00:00\"}, {\"score\": 0.375, \"date\": \"2022-04-22T15:11:15+00:00\", \"filtered\": [\"Unique\", \"Collection\", \"is\", \"Metaverse\", \"NFTCommunity\", \"NFTs\", \"NFTCollection\", \"NFTProject\", \"NFTshill\", \"MetaversePet\"], \"replyCount\": 2, \"retweetCount\": 2, \"likeCount\": 5, \"quoteCount\": 4, \"dateonly\": \"2022-04-22T00:00:00\"}, {\"score\": 0.35, \"date\": \"2022-04-22T15:04:52+00:00\", \"filtered\": [\"things\", \"soon\", \"True\", \"Society\", \"METAVERSE\", \"meta\", \"cryptocurrecy\", \"Decentraland\", \"Metaverse\", \"https\"], \"replyCount\": 2, \"retweetCount\": 0, \"likeCount\": 3, \"quoteCount\": 1, \"dateonly\": \"2022-04-22T00:00:00\"}, {\"score\": 0.26, \"date\": \"2022-04-22T14:55:19+00:00\", \"filtered\": [\"for\", \"experience\", \"very\", \"thanks\", \"META\", \"//t.co/zEZyz87QVW\"], \"replyCount\": 0, \"retweetCount\": 0, \"likeCount\": 5, \"quoteCount\": 0, \"dateonly\": \"2022-04-22T00:00:00\"}, {\"score\": 0.5785714285714286, \"date\": \"2022-04-22T14:37:58+00:00\", \"filtered\": [\"Friday\", \"Happy\", \"Day\", \"&\", \"amp\", \";\", \"//t.co/CEykkSA637\", \"sale\", \"special\", \"\\ud83e\\udd29\", \"Domains\", \"Meta\", \"NFTCommunity\", \"Web3\", \"DAO\", \"EarthDay2022\", \"nftlover\", \"nft\", \"https\", \"//t.co/EW6piVcmEQ\"], \"replyCount\": 2, \"retweetCount\": 1, \"likeCount\": 7, \"quoteCount\": 0, \"dateonly\": \"2022-04-22T00:00:00\"}, {\"score\": 0.16666666666666666, \"date\": \"2022-04-22T14:21:22+00:00\", \"filtered\": [\"just\", \"the\", \"NFT\", \"technology\", \"helps\", \"vibrant\", \"and\", \"communities\", \"Web3\", \"us\", \"https\", \"CNFTCommunity\", \"meta\", \"NFT\"], \"replyCount\": 1, \"retweetCount\": 0, \"likeCount\": 4, \"quoteCount\": 0, \"dateonly\": \"2022-04-22T00:00:00\"}, {\"score\": 0.2, \"date\": \"2022-04-22T14:18:13+00:00\", \"filtered\": [\"merch\", \"real\", \"frens\\u2026\", \"merch\", \"real\", \"Im\", \"to\", \"a\", \"of\", \"looks\", \"weekend\", \"ensdomains\", \"web3\", \"META\", \"eth\", \"//t.co/Joghqyr504\"], \"replyCount\": 0, \"retweetCount\": 1, \"likeCount\": 14, \"quoteCount\": 0, \"dateonly\": \"2022-04-22T00:00:00\"}, {\"score\": 0.13636363636363635, \"date\": \"2022-04-22T13:40:39+00:00\", \"filtered\": [\"out\", \"new\", \"on\", \"sea\", \"//t.co/d0AbNHURbJ\", \"FreeNFT\", \"meta\", \"NFTGiveaways\", \"nftphotography\", \"//t.co/WQqlICoutR\"], \"replyCount\": 0, \"retweetCount\": 0, \"likeCount\": 7, \"quoteCount\": 0, \"dateonly\": \"2022-04-22T00:00:00\"}, {\"score\": -0.050000000000000044, \"date\": \"2022-04-22T13:25:36+00:00\", \"filtered\": [\"annoying\", \"Marge\", \"she\", \"good\", \"an\", \"wouldn\", \"t\", \"\\u2019\", \"agree\", \"of\", \"Simpson\", \"Dibble\", \"done\", \"NFTProjects\", \"NFTartist\", \"meta\", \"NFTcollections\", \"https\"], \"replyCount\": 1, \"retweetCount\": 2, \"likeCount\": 6, \"quoteCount\": 3, \"dateonly\": \"2022-04-22T00:00:00\"}, {\"score\": 0.3181818181818182, \"date\": \"2022-04-22T13:19:40+00:00\", \"filtered\": [\"out\", \"new\", \"on\", \"Feel\", \"Love\", \"//t.co/oZBY6VtM3f\", \"opensea\", \"CNFTCommunity\", \"meta\", \"btc\", \"nftvideo\", \"doge\"], \"replyCount\": 3, \"retweetCount\": 0, \"likeCount\": 3, \"quoteCount\": 0, \"dateonly\": \"2022-04-22T00:00:00\"}, {\"score\": 0.15, \"date\": \"2022-04-22T13:16:04+00:00\", \"filtered\": [\"first\", \"with\", \"3D\", \"in\", \"meta\", \"player\", \"ready\", \"to\", \"take\", \"in\", \"football\", \"Each\", \"will\", \"different\", \"to\", \"statistics\", \"tech\", \"Meta\", \"gamefi\", \"//t.co/MCSd8nsE7N\"], \"replyCount\": 1, \"retweetCount\": 2, \"likeCount\": 9, \"quoteCount\": 1, \"dateonly\": \"2022-04-22T00:00:00\"}, {\"score\": 0.3215909090909091, \"date\": \"2022-04-22T12:58:59+00:00\", \"filtered\": [\"New\", \"is\", \"good\", \"is\", \"I\", \"it\", \"AR\", \"it\", \"becomes\", \"very\", \"sniper\", \"a\", \"tap\", \"course\", \"'s\", \"the\", \"first\", \"I\", \"I\", \"a\", \"m4\", \"launcher\", \"the\", \"AR\", \"the\", \"deca\", \"scope\", \"meta\"], \"replyCount\": 1, \"retweetCount\": 1, \"likeCount\": 7, \"quoteCount\": 0, \"dateonly\": \"2022-04-22T00:00:00\"}, {\"score\": 0.11666666666666671, \"date\": \"2022-04-22T12:45:35+00:00\", \"filtered\": [\"17x\", \"launch\", \"less\", \"2\", \"Stay\", \"for\", \"huge\", \"coming\", \"we\", \"are\", \"recognised\", \"https\", \"https\", \"CVCoin\", \"NFTProject\", \"100x\", \"BSCgems\", \"https\", \"//t.co/2ZWAcbTcJ3\"], \"replyCount\": 12, \"retweetCount\": 3, \"likeCount\": 17, \"quoteCount\": 1, \"dateonly\": \"2022-04-22T00:00:00\"}, {\"score\": 0.13636363636363635, \"date\": \"2022-04-22T12:36:36+00:00\", \"filtered\": [\"NEW\", \"\\ud83d\\ude0d\\ud83d\\ude80\\ud83d\\udea8LFG\", \"Mcap\\u2705\", \"ETH\", \"meta\", \"NFTGiveaway\", \"NFTCommunity\", \"JamesBrKing\", \"$\", \"SHIBTR\", \"shib\", \"0x076877073D287Ee8c10878B190d7166367899fdA\", \"//t.co/ZPuPF4LVSh\"], \"replyCount\": 7, \"retweetCount\": 16, \"likeCount\": 33, \"quoteCount\": 6, \"dateonly\": \"2022-04-22T00:00:00\"}, {\"score\": 0.2, \"date\": \"2022-04-22T12:35:55+00:00\", \"filtered\": [\"meta\", \"ethereum\", \"altcoinseason\", \"NoOne\", \"ready\", \"these\", \"conquer\", \"world\", \"1000xgem\", \"//t.co/tMg1VlFxGg\", \"//t.co/3J6MFnS8RJ\"], \"replyCount\": 1, \"retweetCount\": 5, \"likeCount\": 8, \"quoteCount\": 1, \"dateonly\": \"2022-04-22T00:00:00\"}, {\"score\": 0.2, \"date\": \"2022-04-22T12:34:11+00:00\", \"filtered\": [\"NFT\", \"in\", \"It\", \"Very\", \"experience\\ud83e\\udd29\\ud83e\\udd29\", \"//t.co/3kqKX2gJGf\", \"//t.co/wFivDH21pI\", \"NFT\", \"NFTCommmunity\", \"Metaverse\", \"//t.co/5zDYXDmwER\"], \"replyCount\": 3, \"retweetCount\": 4, \"likeCount\": 9, \"quoteCount\": 4, \"dateonly\": \"2022-04-22T00:00:00\"}, {\"score\": 0.3181818181818182, \"date\": \"2022-04-22T12:31:07+00:00\", \"filtered\": [\"days\", \"a\", \"\\ud83c\\udf1e\\u2615\", \"better\", \"and\", \"value\", \"on\", \"horizon\", \"$\", \"Join\", \"and\", \"part\", \"the\", \"paradigm\", \"as\", \"dominant\", \"platforms\", \"meta\", \"yield\", \"to\", \"the\", \"new\", \"cryptocurrency\", \"https\"], \"replyCount\": 1, \"retweetCount\": 3, \"likeCount\": 10, \"quoteCount\": 2, \"dateonly\": \"2022-04-22T00:00:00\"}, {\"score\": 0.1, \"date\": \"2022-04-22T12:30:40+00:00\", \"filtered\": [\"knows\", \"this\", \"is\", \"alive\", \"bird\", \"symbolizes\", \"Join\", \"and\", \"our\", \"collection\", \"with\", \"in\", \"past\\ud83c\\udf0d\", \"NFTGiveaways\", \"META\", \"//t.co/lM8eXS0hAL\"], \"replyCount\": 1, \"retweetCount\": 2, \"likeCount\": 6, \"quoteCount\": 1, \"dateonly\": \"2022-04-22T00:00:00\"}, {\"score\": 0.09727272727272726, \"date\": \"2022-04-22T12:27:15+00:00\", \"filtered\": [\"is\", \"its\", \"data\", \"bringing\", \"company\", \"total\", \"in\", \"to\", \"1.5B\", \"supporting\", \"jobs\", \"complete\", \"you\", \"for\", \"New\", \"Data\", \"and\", \"continued\", \"in\", \"to\", \"a\", \"central\", \"Meta\", \"//t.co/dAU47iL7ou\"], \"replyCount\": 0, \"retweetCount\": 1, \"likeCount\": 3, \"quoteCount\": 0, \"dateonly\": \"2022-04-22T00:00:00\"}, {\"score\": 0.25625, \"date\": \"2022-04-22T11:51:51+00:00\", \"filtered\": [\"some\", \"the\", \"community\", \"\\u2019\", \"just\", \"that\", \"\\u2019\", \"bent\", \"over\", \"\\u2019\", \"amp\", \"since\", \"\\u2019\", \"becoming\", \"a\", \"major\", \"MMAT\", \"they\", \"to\", \"his\", \"pronouns\", \"over\", \"and\", \"over\"], \"replyCount\": 7, \"retweetCount\": 0, \"likeCount\": 15, \"quoteCount\": 0, \"dateonly\": \"2022-04-22T00:00:00\"}, {\"score\": -0.5, \"date\": \"2022-04-22T11:38:38+00:00\", \"filtered\": [\"out\", \"item\", \"OpenSea\", \"//t.co/iVV1SSqQTt\", \"opensea\", \"my\", \"art\", \"of\", \"...\", \"'s\", \"are\", \"any\", \"whales\", \"here\", \"Azuki\", \"ETH\", \"CNFTCommunity\", \"Cardano\", \"Richquack\", \"expensive\"], \"replyCount\": 2, \"retweetCount\": 0, \"likeCount\": 3, \"quoteCount\": 0, \"dateonly\": \"2022-04-22T00:00:00\"}, {\"score\": 0.09999999999999998, \"date\": \"2022-04-22T11:15:11+00:00\", \"filtered\": [\"do\", \"\\u2019\", \"think\", \"Our\", \"is\", \"create\", \"game\", \"powered\", \"$\", \"Own\", \"build\", \"or\", \"hangout\", \"have\", \"in\", \"community\", \"metaverse\", \"crypto\", \"altcoins\", \"nfts\", \"CryptoNews\", \"XRPCommunity\", \"meta\", \"//t.co/6QXL1r5zqY\"], \"replyCount\": 19, \"retweetCount\": 20, \"likeCount\": 41, \"quoteCount\": 4, \"dateonly\": \"2022-04-22T00:00:00\"}, {\"score\": 0.4, \"date\": \"2022-04-22T10:54:56+00:00\", \"filtered\": [\"Free\", \"\\ud83c\\udf81\", \"NFT\", \"48\", \"if\", \"0xCHINOX\", \"RT\", \"amp\", \"\\u2764\\ufe0f\", \"\\u2705\", \"TAG\", \"crew\", \"amp\", \"Drop\", \"ETH\", \"NFT\", \"NFTCommmunity\", \"Metaverse\", \"OpenSeaNFT\", \"CryptocurrencyNews\", \"cryptocurrency\", \"digitalasset\", \"https\"], \"replyCount\": 8, \"retweetCount\": 5, \"likeCount\": 9, \"quoteCount\": 2, \"dateonly\": \"2022-04-22T00:00:00\"}, {\"score\": 0.5785714285714286, \"date\": \"2022-04-22T10:39:42+00:00\", \"filtered\": [\"Friday\", \"Happy\", \"Day\", \"&\", \"amp\", \";\", \"//t.co/CEykkSA637\", \"sale\", \"special\", \"\\ud83e\\udd29\", \"Domains\", \"Meta\", \"NFTCommunity\", \"Web3\", \"DAO\", \"EarthDay2022\", \"nftlover\", \"nft\", \"https\", \"//t.co/LqtPtbJzp9\"], \"replyCount\": 1, \"retweetCount\": 1, \"likeCount\": 9, \"quoteCount\": 7, \"dateonly\": \"2022-04-22T00:00:00\"}, {\"score\": 0.41818181818181815, \"date\": \"2022-04-22T10:36:00+00:00\", \"filtered\": [\"Fair\", \"new\", \"project\", \"radhikajones\", \"Be\", \"to\", \"about\", \"the\", \"Metanews\", \"meta\", \"VR\", \"Join\", \"community\", \"//t.co/pz78ao2N2A\", \"//t.co/3EBSunWO5W\"], \"replyCount\": 0, \"retweetCount\": 0, \"likeCount\": 3, \"quoteCount\": 0, \"dateonly\": \"2022-04-22T00:00:00\"}, {\"score\": 0.13636363636363635, \"date\": \"2022-04-22T10:34:59+00:00\", \"filtered\": [\"finilizes\", \"new\", \"wine\", \"BitcoinWineNFT\", \"Be\", \"to\", \"about\", \"the\", \"Metanews\", \"meta\", \"VR\", \"Join\", \"community\", \"//t.co/pz78ao2N2A\", \"//t.co/4ZLDXlPw3A\"], \"replyCount\": 1, \"retweetCount\": 1, \"likeCount\": 6, \"quoteCount\": 3, \"dateonly\": \"2022-04-22T00:00:00\"}, {\"score\": 0.04545454545454545, \"date\": \"2022-04-22T10:29:01+00:00\", \"filtered\": [\"metaverse\", \"still\", \"difficult\", \"of\", \"internet\", \"people\", \"trying\", \"wrap\", \"heads\", \"As\", \"new\", \"worlds\", \"and\", \"Learn\", \"more\", \"about\", \"\\u2019\", \"metaverse\", \"solution\", \"//t.co/XbrH09Mf9a\", \"nfts\", \"digitalfashion\"], \"replyCount\": 0, \"retweetCount\": 0, \"likeCount\": 7, \"quoteCount\": 3, \"dateonly\": \"2022-04-22T00:00:00\"}, {\"score\": 0.2, \"date\": \"2022-04-22T10:18:23+00:00\", \"filtered\": [\"Zuckerberg\", \"metaverse\", \"driving\", \"staff\", \"'It\", \"the\", \"thing\", \"wants\", \"talk\", \"PawlowskiMario\", \"avataverse\", \"VR\", \"XR\", \"Facebook\", \"SpirosMargaris\", \"DeepLearn007\", \"GlenGilmore\", \"//t.co/qVU6dgnC5u\", \"//t.co/TZQSG73hXj\"], \"replyCount\": 3, \"retweetCount\": 28, \"likeCount\": 33, \"quoteCount\": 0, \"dateonly\": \"2022-04-22T00:00:00\"}, {\"score\": 0.5, \"date\": \"2022-04-22T10:06:38+00:00\", \"filtered\": [\"wore\", \"better\", \"Retweet\", \"living\", \"\\u2764\\ufe0f\", \"NFT\", \"NFTCommmunity\", \"blockchain\", \"Pugs\", \"ETH\", \"//t.co/3OPXQEq3W9\"], \"replyCount\": 3, \"retweetCount\": 5, \"likeCount\": 10, \"quoteCount\": 1, \"dateonly\": \"2022-04-22T00:00:00\"}, {\"score\": 0.2, \"date\": \"2022-04-22T09:37:57+00:00\", \"filtered\": [\"Vanity\", \"'s\", \"space\", \"feature\", \"NFTs\", \"some\", \"important\", \"well-known\", \"in\", \"the\", \"international\", \"and\", \"scene\", \"MaxPapeschi\", \"quasimondo\", \"MattKaneArtist\", \"JesseDraxler\", \";\", \"BertoglioEdo\", \";\"], \"replyCount\": 1, \"retweetCount\": 1, \"likeCount\": 5, \"quoteCount\": 0, \"dateonly\": \"2022-04-22T00:00:00\"}, {\"score\": 1.0, \"date\": \"2022-04-22T09:31:33+00:00\", \"filtered\": [\"Best\", \"Crypto\", \"In\", \"Continue\", \"https\", \"-\", \"cryptogame\", \"nft\", \"vr\", \"meta\", \"economy\", \"news\", \"financialnews\", \"https\"], \"replyCount\": 3, \"retweetCount\": 0, \"likeCount\": 19, \"quoteCount\": 3, \"dateonly\": \"2022-04-22T00:00:00\"}, {\"score\": -0.05, \"date\": \"2022-04-22T09:26:46+00:00\", \"filtered\": [\"read\", \"following\", \"in\", \"BCG\", \"on\", \"and\", \"caught\", \"interest\", \"2\", \"1K\", \"per\", \"and\", \"\\u2019\", \"headset\", \"expected\", \"But\", \"match\", \"vision\", \"technology\", \"eventually\", \"to\", \"reach\", \"20K\", \"''\", \"AR\", \"Meta\"], \"replyCount\": 0, \"retweetCount\": 1, \"likeCount\": 3, \"quoteCount\": 1, \"dateonly\": \"2022-04-22T00:00:00\"}, {\"score\": 0.6, \"date\": \"2022-04-22T08:52:55+00:00\", \"filtered\": [\"Updated\", \"Week\", \"thedapplist\", \"72\", \"more\", \"https\", \"Or\", \"the\", \"below\\ud83d\\udc47\", \"WISE\", \"NFT\", \"Meta\", \"GameFi\", \"https\"], \"replyCount\": 3, \"retweetCount\": 3, \"likeCount\": 35, \"quoteCount\": 0, \"dateonly\": \"2022-04-22T00:00:00\"}, {\"score\": 0.1, \"date\": \"2022-04-22T08:36:53+00:00\", \"filtered\": [\"in\", \"try\", \"out\", \"Provide\", \"seamless\", \"with\", \"like\", \"to\", \"and\", \"within\", \"try-on\", \"mirrAR\", \"AugmentedReality\", \"TryBeforeYouBuy\", \"Retail\", \"Meta\", \"FirstTryThenBuy\", \"Shopping\", \"//t.co/5f8Oo0dJNC\"], \"replyCount\": 0, \"retweetCount\": 1, \"likeCount\": 3, \"quoteCount\": 0, \"dateonly\": \"2022-04-22T00:00:00\"}, {\"score\": -0.125, \"date\": \"2022-04-22T08:34:11+00:00\", \"filtered\": [\"Lecture\", \"Technologies\", \"the\", \"Sleep\", \"Crisis\", \"by\", \"27/04/22\", \"at\", \"29\", \"Info\", \"other\", \"here\", \"//t.co/ueVHtpKxht\", \"//t.co/nuOjRl5TO0\"], \"replyCount\": 0, \"retweetCount\": 2, \"likeCount\": 6, \"quoteCount\": 1, \"dateonly\": \"2022-04-22T00:00:00\"}, {\"score\": 0.25, \"date\": \"2022-04-22T08:31:54+00:00\", \"filtered\": [\"HOT\", \"At\", \"188\", \"FB\", \"Meta\", \")\", \"in\", \"value\", \"1-yr\", \"target\", \"(\", \")\", \"FB\", \"cap\", \"$\", \"with\", \"$\", \"118B\", \"in\", \"Rev\", \"(\", \")\", \"38\", \"Margins\", \"81\", \"%\", \"%\", \"\\u203c\\ufe0f\", \"P/E\", \"-\", \"13.3\", \"Price/Sales\", \"-\", \"4.3\", \"\\u2757\\ufe0f\", \"https\"], \"replyCount\": 1, \"retweetCount\": 2, \"likeCount\": 4, \"quoteCount\": 1, \"dateonly\": \"2022-04-22T00:00:00\"}, {\"score\": 0.4666666666666666, \"date\": \"2022-04-22T07:24:38+00:00\", \"filtered\": [\"Love\", \"No\", \"punches\", \"Horace\", \"for\", \"NFLX\", \"enjoy\", \"lovely\", \"on\", \"\\u2026\", \"//t.co/FZRr843JFM\"], \"replyCount\": 1, \"retweetCount\": 10, \"likeCount\": 25, \"quoteCount\": 1, \"dateonly\": \"2022-04-22T00:00:00\"}, {\"score\": 0.2, \"date\": \"2022-04-22T07:14:41+00:00\", \"filtered\": [\"cars\", \"xxvrmeta\", \"be\", \"VERY\", \"racing\", \"in\", \"realm\", \"And\", \"'re\", \"against\", \"Hell\", \"Who\", \"in\", \"the\", \"race\", \"me\", \"?\", \"\\ud83c\\udfce\\ud83c\\udfce\", \"Racing\", \"racecars\", \"//t.co/pqOBSNcHiN\"], \"replyCount\": 1, \"retweetCount\": 4, \"likeCount\": 11, \"quoteCount\": 0, \"dateonly\": \"2022-04-22T00:00:00\"}, {\"score\": -0.25, \"date\": \"2022-04-22T07:12:00+00:00\", \"filtered\": [\"Release\", \"version\", \"(\", \")\", \"on\", \"10/05/2022\", \"Meta\", \"Alien\", \"war\", \"meta\", \"hotbit\"], \"replyCount\": 35, \"retweetCount\": 97, \"likeCount\": 115, \"quoteCount\": 6, \"dateonly\": \"2022-04-22T00:00:00\"}, {\"score\": 0.6000000000000001, \"date\": \"2022-04-22T06:58:17+00:00\", \"filtered\": [\"from\", \"WoahJonny\", \"the\", \"collection\", \"work\", \"up\", \"PAD\", \"utility\", \"amazing\", \"METL\", \"ETH\", \"NFT\", \"nftcollectors\", \"Metaverse\", \"NFTcollections\", \"Cryptos\", \"$\", \"https\"], \"replyCount\": 9, \"retweetCount\": 18, \"likeCount\": 40, \"quoteCount\": 1, \"dateonly\": \"2022-04-22T00:00:00\"}, {\"score\": 0.4, \"date\": \"2022-04-22T06:40:14+00:00\", \"filtered\": [\"the\", \"..\", \"you\", \"know\", \"much\", \"me\", \"like\", \"\\ud83d\\ude02\", \"is\", \"invite\", \"to\", \"in\", \"own\", \"\\ud83d\\ude02\\ud83d\\ude02\", \"metaverse\", \"meme\", \"NFTGiveaway\", \"giveaway\", \"dcl\", \"https\", \"//t.co/Y5FbaqWbyz\"], \"replyCount\": 1, \"retweetCount\": 1, \"likeCount\": 5, \"quoteCount\": 0, \"dateonly\": \"2022-04-22T00:00:00\"}, {\"score\": 0.5, \"date\": \"2022-04-22T04:54:35+00:00\", \"filtered\": [\"vs\", \"The\", \"of\", \"Stocks\", \"Crypto\", \"Better\", \"//t.co/R4a6Yo42ZD\", \"Meta\", \"Crypto\", \"BTC\", \"Cryptocurrencies\", \"AINews\", \"AnalyticsInsightMagazine\", \"//t.co/RzwrjgPqzy\"], \"replyCount\": 4, \"retweetCount\": 2, \"likeCount\": 7, \"quoteCount\": 1, \"dateonly\": \"2022-04-22T00:00:00\"}, {\"score\": -0.4, \"date\": \"2022-04-22T04:35:38+00:00\", \"filtered\": [\"25\", \"asking\", \"out\", \"e-meet\", \"If\", \"living\", \"let\", \"\\u2019\", \"the\", \"who\", \"it\", \"\\u2019\", \"s\", \"create\", \"a\", \"real-life\", \"game\", \"nfts\", \"nftcollector\", \"nftproject\", \"nftcommunity\", \"Elonmusk\"], \"replyCount\": 1, \"retweetCount\": 0, \"likeCount\": 6, \"quoteCount\": 2, \"dateonly\": \"2022-04-22T00:00:00\"}, {\"score\": -0.2, \"date\": \"2022-04-22T03:14:24+00:00\", \"filtered\": [\"|\", \"Meta\", \"to\", \"here\", \"a\", \"at\", \"companies\", \"green\", \"EarthDay\", \"https\"], \"replyCount\": 1, \"retweetCount\": 1, \"likeCount\": 3, \"quoteCount\": 0, \"dateonly\": \"2022-04-22T00:00:00\"}, {\"score\": 0.4, \"date\": \"2022-04-22T03:06:10+00:00\", \"filtered\": [\"I\", \"?\", \"Every\", \"get\", \"free\", \"when\", \"album\", \"May\", \"it\", \"s\", \"\\ud83e\\ude90\\ud83c\\udf0a\", \"meta\", \"nft\", \"nftartist\", \"https\"], \"replyCount\": 5, \"retweetCount\": 1, \"likeCount\": 5, \"quoteCount\": 0, \"dateonly\": \"2022-04-22T00:00:00\"}, {\"score\": -0.1, \"date\": \"2022-04-22T02:25:01+00:00\", \"filtered\": [\"Platforms\", \"officer\", \"Sandberg\", \"accused\", \"squashing\", \"stories\", \"alleged\", \"from\", \"ex-boyfriend\", \"Blizzard\", \"Bobby\", \"ActivisionBlizzard\", \"Meta\", \"https\"], \"replyCount\": 0, \"retweetCount\": 0, \"likeCount\": 21, \"quoteCount\": 0, \"dateonly\": \"2022-04-22T00:00:00\"}, {\"score\": -0.0625, \"date\": \"2022-04-22T01:12:59+00:00\", \"filtered\": [\"has\", \"personal\", \"on\", \"including\", \"U.S.\", \"Vice\", \"KamalaHarris\", \"meta\", \"Mark\", \"and\", \"Canadian\", \"the\", \"Foreign\", \"said\", \"https\"], \"replyCount\": 0, \"retweetCount\": 4, \"likeCount\": 3, \"quoteCount\": 7, \"dateonly\": \"2022-04-22T00:00:00\"}, {\"score\": 0.6, \"date\": \"2022-04-22T01:08:15+00:00\", \"filtered\": [\"Deluxe\", \"Sold\", \"0.41\\u039e\", \"//t.co/NsQLQgvUaq\", \"NFTs\", \"Meta\", \"ethernet\", \"https\"], \"replyCount\": 0, \"retweetCount\": 0, \"likeCount\": 4, \"quoteCount\": 2, \"dateonly\": \"2022-04-22T00:00:00\"}, {\"score\": 0.1, \"date\": \"2022-04-22T01:03:52+00:00\", \"filtered\": [\"being\", \"EARLY\", \"you\", \"re\", \"mining\", \"an\", \"currency\", \"a\", \"not\", \"released\", \"the\", \"and\", \"mining\", \"on\", \"device\", \"//t.co/VmpDyamcKe\", \"CryptocurrencyNews\", \"altcoins\", \"NFTdrop\", \"MobileGaming\", \"https\"], \"replyCount\": 13, \"retweetCount\": 48, \"likeCount\": 94, \"quoteCount\": 0, \"dateonly\": \"2022-04-22T00:00:00\"}, {\"score\": 0.25, \"date\": \"2022-04-22T01:00:47+00:00\", \"filtered\": [\"//t.co/1dI62M8oUF\", \"is\", \"most\", \"demand\", \"in\", \"The\", \"adopters\", \"building\", \"future\", \"the\", \"Meta\", \"Domains\", \"domainsforsale\", \"MetaverseWorlds\", \"MetaverseVR\", \"Business\", \"//t.co/fqFwQwbXpE\"], \"replyCount\": 3, \"retweetCount\": 4, \"likeCount\": 6, \"quoteCount\": 0, \"dateonly\": \"2022-04-22T00:00:00\"}, {\"score\": 0.13636363636363635, \"date\": \"2022-04-22T00:55:20+00:00\", \"filtered\": [\"out\", \"new\", \"on\", \"https\", \"via\", \"nftcollectors\", \"NFTGANG\", \"meta\", \"CNFTCommunity\"], \"replyCount\": 2, \"retweetCount\": 0, \"likeCount\": 3, \"quoteCount\": 0, \"dateonly\": \"2022-04-22T00:00:00\"}, {\"score\": 0.11714285714285719, \"date\": \"2022-04-22T00:53:05+00:00\", \"filtered\": [\"Peep\", \"dragon\", \"just\", \"from\", \"Giveaway\", \"you\", \"for\", \"awesome\", \"Ca\", \"wait\", \"try\", \"bad\", \"out\", \"the\", \"Truly\", \"awesome\", \"working\", \"a\", \"This\", \"does\", \"do\", \"to\", \"sick\", \"actually\", \"Blessed\", \"//t.co/LkVrocEYiF\"], \"replyCount\": 10, \"retweetCount\": 10, \"likeCount\": 26, \"quoteCount\": 0, \"dateonly\": \"2022-04-22T00:00:00\"}, {\"score\": -0.15, \"date\": \"2022-04-22T00:30:33+00:00\", \"filtered\": [\"SNAPSHOT\", \"Please\", \"to\", \"your\", \"trio\", \"to\", \"in\", \"Every\", \"is\", \"day\", \"8th\", \"22nd\", \"&\", \"amp\", \";\", \"29th\", \"average\", \"of\", \"the\", \"snapshots\", \"be\", \"to\", \"your\", \"MetaLOX\", \"Airdrop\", \"Meta\", \"//t.co/Cn1bWXRVtA\"], \"replyCount\": 34, \"retweetCount\": 84, \"likeCount\": 205, \"quoteCount\": 21, \"dateonly\": \"2022-04-22T00:00:00\"}, {\"score\": -0.7142857142857143, \"date\": \"2022-04-22T00:24:49+00:00\", \"filtered\": [\"sick\", \"made\", \"arlind_braka\", \"metalegendsnft\", \"These\", \"looking\", \"baby\", \"one\", \"your\", \"?\", \"nft\", \"ethereum\", \"Metamask\", \"NFTGANG\", \"https\"], \"replyCount\": 25, \"retweetCount\": 18, \"likeCount\": 50, \"quoteCount\": 0, \"dateonly\": \"2022-04-22T00:00:00\"}, {\"score\": -0.25, \"date\": \"2022-04-22T00:08:30+00:00\", \"filtered\": [\"TeamGaryVee\", \"I\", \"wan\", \"ask\", \"what\", \"an\", \"he\", \"an\", \"but\", \"n't\", \"any\", \"or\", \"to\", \"it\", \"What\", \"common\", \"should\", \"do\", \"to\", \"his\", \"art\", \"?\", \"NFTs\"], \"replyCount\": 0, \"retweetCount\": 0, \"likeCount\": 3, \"quoteCount\": 0, \"dateonly\": \"2022-04-22T00:00:00\"}, {\"score\": 0.4, \"date\": \"2022-04-21T23:56:52+00:00\", \"filtered\": [\"want\", \"genuine\", \"NFT\", \"\\u2665\\ufe0f\", \"do\", \"some\", \"buyers\", \"\\ud83d\\ude14\\u2665\\ufe0f\", \"NFTCommunity\", \"DigitalArt\", \"Metaverse\", \"ElonMusk\", \"RaribleNFT\"], \"replyCount\": 0, \"retweetCount\": 0, \"likeCount\": 5, \"quoteCount\": 1, \"dateonly\": \"2022-04-21T00:00:00\"}, {\"score\": 0.16666666666666669, \"date\": \"2022-04-21T23:50:38+00:00\", \"filtered\": [\"goal\", \"to\", \"famous\", \"get\", \"We\", \"to\", \"something\", \"is\", \"typical\", \"all\", \"projects\", \"a\", \"around\", \"and\", \"towards\", \"the\", \"goal\", \"street\", \"nft\", \"NFTGiveaway\"], \"replyCount\": 0, \"retweetCount\": 0, \"likeCount\": 5, \"quoteCount\": 0, \"dateonly\": \"2022-04-21T00:00:00\"}, {\"score\": 0.037500000000000006, \"date\": \"2022-04-21T23:27:33+00:00\", \"filtered\": [\"Hi\", \"\\ud83c\\udf08I\", \"to\", \"a\", \"of\", \"for\", \"\\ud83e\\udd2a\", \"looked\", \"other\", \"'s\", \"art\", \"was\", \"inspired\", \"really\", \"it\", \"think\", \"'ll\", \"a\", \"of\", \"sketches\", \"\\ud83d\\udca4\", \"it\", \"ape\", \"Apiens\", \"APENFT\", \"ETH\", \"BTC\", \"https\"], \"replyCount\": 3, \"retweetCount\": 1, \"likeCount\": 6, \"quoteCount\": 0, \"dateonly\": \"2022-04-21T00:00:00\"}, {\"score\": 0.30000000000000004, \"date\": \"2022-04-21T23:05:32+00:00\", \"filtered\": [\"society\", \"your\", \"that\", \"struggles\", \"wan\", \"be\", \"in\", \"the\", \"Think\", \"yourself\", \"what\", \"for\", \"living\", \"Are\", \"you\", \"happy\", \"that\", \"Where\", \"you\", \"yourself\", \"in\", \"the\", \"?\", \"Web3\", \"cryptocurrecy\", \"ETH\"], \"replyCount\": 1, \"retweetCount\": 3, \"likeCount\": 8, \"quoteCount\": 0, \"dateonly\": \"2022-04-21T00:00:00\"}, {\"score\": 0.0625, \"date\": \"2022-04-21T22:58:27+00:00\", \"filtered\": [\"FreeMint\", \"NFTCommunity\", \"These\", \"big\", \"projects\", \"meta\", \"I\", \"some\", \"humor\", \"think\", \"you\", \"have\", \"the\", \"TOP\", \"IMO\", \"We\", \"only\", \"small\", \"to\", \"us\", \"maybe\", \"a\"], \"replyCount\": 2, \"retweetCount\": 3, \"likeCount\": 5, \"quoteCount\": 1, \"dateonly\": \"2022-04-21T00:00:00\"}, {\"score\": 0.5, \"date\": \"2022-04-21T22:48:59+00:00\", \"filtered\": [\"to\", \"another\", \"m\", \"on\", \"panthers\", \"I\", \"already\", \"what\", \"s\", \"to\", \"with\", \"just\", \"matter\", \"of\", \"time\", \"what\", \"love\", \"it\", \"s\", \"veve\", \"metaverse\", \"meta\", \"//t.co/LrfklbEgZ8\"], \"replyCount\": 1, \"retweetCount\": 0, \"likeCount\": 10, \"quoteCount\": 0, \"dateonly\": \"2022-04-21T00:00:00\"}, {\"score\": 0.8, \"date\": \"2022-04-21T22:39:37+00:00\", \"filtered\": [\"through\", \"our\", \"room\", \"have\", \"stuff\", \"work\", \"but\", \"great\", \"OculusQuest2\", \"Metaverse\", \"VirtualReality\", \"https\"], \"replyCount\": 9, \"retweetCount\": 14, \"likeCount\": 34, \"quoteCount\": 3, \"dateonly\": \"2022-04-21T00:00:00\"}, {\"score\": 0.55, \"date\": \"2022-04-21T22:16:04+00:00\", \"filtered\": [\"call\", \"best\", \"now\", \"miss\", \"5x\", \"1\", \"ago\", \"cap\", \"still\", \"early\", \"\\ud83d\\ude80\\ud83d\\ude80\\ud83d\\ude80\\ud83d\\ude80\\ud83d\\udc8e\", \"\\ud83d\\udc8e\", \"\\ud83d\\udc8e\", \"//t.co/NPvUHhuqpC\", \"Meta\", \"NFT\", \"100xGems\", \"crypto\", \"//t.co/jddxNH7IH9\"], \"replyCount\": 1, \"retweetCount\": 1, \"likeCount\": 6, \"quoteCount\": 0, \"dateonly\": \"2022-04-21T00:00:00\"}, {\"score\": 0.13636363636363635, \"date\": \"2022-04-21T21:27:37+00:00\", \"filtered\": [\"New\", \"Art\", \"rarible\", \"//t.co/kTXZiw1gzd\", \"nfts\", \"NFTCommmunity\", \"nftlover\", \"nftbuyer\", \"meta\", \"Metaverse\"], \"replyCount\": 1, \"retweetCount\": 0, \"likeCount\": 5, \"quoteCount\": 0, \"dateonly\": \"2022-04-21T00:00:00\"}, {\"score\": 0.5, \"date\": \"2022-04-21T21:23:26+00:00\", \"filtered\": [\"society\", \"'ve\", \"encouraging\", \"to\", \"their\", \"behavior\", \"rewarding\", \"TheSociopathicBusinessModel\", \"SherylSandberg\", \"AmberHeard\", \"Meta\", \"FB\", \"//t.co/uydZTa9KYl\"], \"replyCount\": 0, \"retweetCount\": 1, \"likeCount\": 3, \"quoteCount\": 0, \"dateonly\": \"2022-04-21T00:00:00\"}, {\"score\": 0.13636363636363635, \"date\": \"2022-04-21T21:19:17+00:00\", \"filtered\": [\"out\", \"new\", \"on\", \"https\", \"via\", \"meta\", \"Ethereum\"], \"replyCount\": 1, \"retweetCount\": 1, \"likeCount\": 4, \"quoteCount\": 0, \"dateonly\": \"2022-04-21T00:00:00\"}, {\"score\": 0.13636363636363635, \"date\": \"2022-04-21T20:30:31+00:00\", \"filtered\": [\"out\", \"new\", \"on\", \"meta\", \"NFTGiveaway\", \"Crypto\", \"bmpart\", \"Metamask\", \"//t.co/4ooaeYcBFP\", \"opensea\"], \"replyCount\": 5, \"retweetCount\": 2, \"likeCount\": 8, \"quoteCount\": 1, \"dateonly\": \"2022-04-21T00:00:00\"}, {\"score\": 0.45000000000000007, \"date\": \"2022-04-21T20:22:51+00:00\", \"filtered\": [\"EnergyWhores\", \"TamarBerk\", \"tonygoffmusic\", \"TheMetalByrds\", \"SkylightsYRA\", \"Wearepartisan\", \"beep\", \"\\ud83e\\udd29\\ud83e\\udd29\", \"huge\", \"love\", \"you\", \"https\"], \"replyCount\": 1, \"retweetCount\": 4, \"likeCount\": 6, \"quoteCount\": 0, \"dateonly\": \"2022-04-21T00:00:00\"}, {\"score\": 0.1, \"date\": \"2022-04-21T20:22:11+00:00\", \"filtered\": [\"'ve\", \"been\", \"early\", \"a\", \"project\", \"n't\", \"out\", \"a\", \"1\\ufe0f\\u20e3\", \"us\", \"RT\", \"amp\", \"\\u2764\\ufe0f\", \"Tag\", \"Friends\", \"degenplay\", \"NFT\", \"NFTs\", \"NFTcommunity\", \"NFTproject\", \"NFT\", \"rarible\", \"nonfungible\", \"nft\", \"//t.co/UIAGicDr0L\"], \"replyCount\": 4, \"retweetCount\": 2, \"likeCount\": 10, \"quoteCount\": 4, \"dateonly\": \"2022-04-21T00:00:00\"}, {\"score\": 0.3, \"date\": \"2022-04-21T20:10:56+00:00\", \"filtered\": [\"It\", \"is\", \"rare\", \"find\", \"both\", \"and\", \"in\", \"though\", \"'s\", \"someone\", \"who\", \"is\", \"https\", \"Facebook\"], \"replyCount\": 3, \"retweetCount\": 0, \"likeCount\": 4, \"quoteCount\": 0, \"dateonly\": \"2022-04-21T00:00:00\"}, {\"score\": 0.375, \"date\": \"2022-04-21T19:44:58+00:00\", \"filtered\": [\"Unique\", \"\\u2764\\ufe0f\\u200d\\ud83d\\udd25\", \"\\ud83d\\udc9c\", \"One\", \"The\", \"Owners\", \"0.05\", \"ETH\", \"Each\", \"at\", \"Check\", \"Collection\", \"\\u2b07\\ufe0f\", \"//t.co/Yq4yK1X8eo\", \"//t.co/Fla9ovguJB\", \"NFTcollection\", \"NFT\", \"Metaverse\", \"eth\", \"https\", \"//t.co/R6mfFZ296e\"], \"replyCount\": 0, \"retweetCount\": 0, \"likeCount\": 3, \"quoteCount\": 2, \"dateonly\": \"2022-04-21T00:00:00\"}, {\"score\": 0.3, \"date\": \"2022-04-21T19:43:38+00:00\", \"filtered\": [\"\\u2019\", \"time\", \"reveal\", \"of\", \"rare\", \"Launch\", \"tomorrow\", \")\", \"\\u2019\", \"miss\", \"the\", \"to\", \"these\", \"ballers\", \"nftart\", \"meta\", \"crypto\", \"emocrypt\", \"3d\", \"masterpiece\", \"nike\", \"//t.co/adwA2vuMM0\"], \"replyCount\": 4, \"retweetCount\": 1, \"likeCount\": 7, \"quoteCount\": 4, \"dateonly\": \"2022-04-21T00:00:00\"}, {\"score\": 0.1, \"date\": \"2022-04-21T19:24:41+00:00\", \"filtered\": [\"is\", \"Live.\\ud83c\\udf4f\\ud83d\\udcf2\", \"Me\", \"A\", \"Near\", \"\\u2668\\ufe0f\", \"OpenSea\", \"P2E\", \"NFT\", \"Blockchain\", \"BTC\", \"NFTGame\", \"GFC\", \"NFTCommunity\", \"Cryptocurrency\", \"Coinbase\", \"//t.co/2vX4Jx0bGS\"], \"replyCount\": 1, \"retweetCount\": 2, \"likeCount\": 27, \"quoteCount\": 1, \"dateonly\": \"2022-04-21T00:00:00\"}, {\"score\": 0.4, \"date\": \"2022-04-21T18:59:49+00:00\", \"filtered\": [\"hacked\", \"after\", \"billions\", \"meta\", \"on\", \"over\", \"years\", \"meta\", \"still\", \"n't\", \"me\", \"a\", \"Free\", \"instagram\"], \"replyCount\": 16, \"retweetCount\": 1, \"likeCount\": 5, \"quoteCount\": 5, \"dateonly\": \"2022-04-21T00:00:00\"}, {\"score\": 0.12222222222222223, \"date\": \"2022-04-21T18:58:41+00:00\", \"filtered\": [\"needs\", \"serious\", \"buyers\", \"\\u2665\\ufe0f\\u270c\\ufe0f\", \"you\", \"some\", \"authentic\", \"buyers\", \"mention\", \"all\", \"Very\", \"Kingartist\", \"https\", \"Kingartist\", \"Crypto\", \"Meta\", \"OpenSea\", \"binance\"], \"replyCount\": 0, \"retweetCount\": 0, \"likeCount\": 4, \"quoteCount\": 3, \"dateonly\": \"2022-04-21T00:00:00\"}, {\"score\": 0.33, \"date\": \"2022-04-21T18:54:16+00:00\", \"filtered\": [\"love\", \"\\ud83d\\ude0d\", \"n't\", \"?\", \"n't\", \"you\", \"find\", \"shoes\", \"high\", \"at\", \"to\", \"your\", \"outfit\", \"lt\", \"3\", \"to\", \"SecondLife\", \"vlog\", \"https\"], \"replyCount\": 2, \"retweetCount\": 0, \"likeCount\": 7, \"quoteCount\": 0, \"dateonly\": \"2022-04-21T00:00:00\"}, {\"score\": 0.13214285714285715, \"date\": \"2022-04-21T18:32:22+00:00\", \"filtered\": [\"robbery\", \"can\", \"added\", \"smart\", \"s\", \"nobody\", \"apparently\", \"about\", \"it\", \"before\", \"\\ud83e\\udd14\", \"Web3\", \"NFTCommunity\", \"DAO\", \"ETH\", \"MoonBirdsLove\", \"Metamask\", \"Marketplace\"], \"replyCount\": 2, \"retweetCount\": 1, \"likeCount\": 3, \"quoteCount\": 4, \"dateonly\": \"2022-04-21T00:00:00\"}, {\"score\": -0.1875, \"date\": \"2022-04-21T18:18:14+00:00\", \"filtered\": [\"little\", \"of\", \"the\", \"community\", \"getting\", \"tweet-love\", \"George\", \"and\", \"(\", \"they\", \"it\", \"Still\", \"the\", \"they\", \"\\u2019\", \"re\", \"$\", \"GoBeyond\"], \"replyCount\": 3, \"retweetCount\": 0, \"likeCount\": 21, \"quoteCount\": 0, \"dateonly\": \"2022-04-21T00:00:00\"}, {\"score\": 0.2, \"date\": \"2022-04-21T18:00:12+00:00\", \"filtered\": [\"to\", \"your\", \"in\", \"Join\", \"to\", \"Provide\", \"and\", \"to\", \"Lootizens\", \"Experience\", \"real\", \"in\", \"gamified\", \"metaverse\", \"\\ud83d\\udd0e\", \"your\", \"to\", \"your\", \"NFTcommunity\", \"NFT\", \"Loot\", \"//t.co/2XitFuOp9l\"], \"replyCount\": 1, \"retweetCount\": 3, \"likeCount\": 15, \"quoteCount\": 1, \"dateonly\": \"2022-04-21T00:00:00\"}, {\"score\": 0.25, \"date\": \"2022-04-21T18:00:05+00:00\", \"filtered\": [\"got\", \"online\", \"up\", \"Meta-Community\", \"using\", \"(\", \"versatile\", \"If\", \"\\u2019\", \"interested\", \"comment\", \"with\", \"meta\", \"NFTCommunity\", \"Web3\", \"foundations\", \"//t.co/mS9A1rOq3E\"], \"replyCount\": 1, \"retweetCount\": 1, \"likeCount\": 3, \"quoteCount\": 0, \"dateonly\": \"2022-04-21T00:00:00\"}, {\"score\": -0.1, \"date\": \"2022-04-21T17:05:11+00:00\", \"filtered\": [\"|\", \"Metaverse\", \"not\", \"ready\", \"widespread\", \"at\", \"moment\", \"power\", \"hardware\", \"need\", \"to\", \"metaverse\", \"''\", \"randizuckerberg\", \"&\", \"amp\", \";\", \"Zuckerberg\", \"Blockchain\", \"Tech\", \"//t.co/9MtcmZXnOh\"], \"replyCount\": 0, \"retweetCount\": 1, \"likeCount\": 6, \"quoteCount\": 1, \"dateonly\": \"2022-04-21T00:00:00\"}, {\"score\": 0.26666666666666666, \"date\": \"2022-04-21T16:30:39+00:00\", \"filtered\": [\"interesting\", \"on\", \"to\", \"social\", \"or\", \"has\", \"not\", \"been\", \"to\", \"and\", \"of\", \"twitter\", \"meta\", \"//t.co/YdYEYZVIeL\"], \"replyCount\": 0, \"retweetCount\": 1, \"likeCount\": 8, \"quoteCount\": 0, \"dateonly\": \"2022-04-21T00:00:00\"}, {\"score\": 0.43333333333333335, \"date\": \"2022-04-21T16:30:03+00:00\", \"filtered\": [\"a\", \"pioneer\", \"is\", \"their\", \"on\", \"industries\", \"begin\", \"for\", \"metaverse\", \"and\", \"easy\", \"you\", \"begin\", \"Read\", \"here\", \"//t.co/xf5MZDqLG7\", \"Tech\", \"ecommerce\", \"3D\", \"https\"], \"replyCount\": 0, \"retweetCount\": 1, \"likeCount\": 3, \"quoteCount\": 0, \"dateonly\": \"2022-04-21T00:00:00\"}, {\"score\": 0.6, \"date\": \"2022-04-21T16:05:07+00:00\", \"filtered\": [\"Deluxe\", \"Sold\", \"0.4\\u039e\", \"//t.co/3kLMzbFQic\", \"NFTs\", \"art\", \"Meta\", \"//t.co/7gFkYUs2se\"], \"replyCount\": 0, \"retweetCount\": 2, \"likeCount\": 6, \"quoteCount\": 0, \"dateonly\": \"2022-04-21T00:00:00\"}, {\"score\": 0.3, \"date\": \"2022-04-21T16:04:46+00:00\", \"filtered\": [\"\\u2019\", \"Hesitate\", \"be\", \"Rare\", \"\\ud83d\\udc8e\", \"We\", \"bring\", \"Dreams\", \"of\", \"Africa\", \"Reality\", \"NFTCommumity\", \"cnftdrop\", \"cryptoart\", \"FoundationNFT\", \"//t.co/NqVYMLkPVv\"], \"replyCount\": 1, \"retweetCount\": 5, \"likeCount\": 11, \"quoteCount\": 0, \"dateonly\": \"2022-04-21T00:00:00\"}, {\"score\": 1.0, \"date\": \"2022-04-21T15:51:20+00:00\", \"filtered\": [\"The\", \"of\", \"best\", \"be\", \"our\", \"be\", \"of\", \"meta\", \"with\", \"us\", \"\\ud83d\\udca5Android\", \"//t.co/sbYnuGy7RI\", \"to\", \"questions\", \"https\", \"//t.co/7bhOCLddlg\"], \"replyCount\": 0, \"retweetCount\": 0, \"likeCount\": 11, \"quoteCount\": 0, \"dateonly\": \"2022-04-21T00:00:00\"}, {\"score\": 0.06666666666666667, \"date\": \"2022-04-21T15:49:15+00:00\", \"filtered\": [\"MONO\", \"is\", \"BEP-20\", \"developed\", \"professional\", \"at\", \"Pty\", \"based\", \"Australia\", \"can\", \"traded\", \"different\", \"or\", \"be\", \"to\", \"NFT\", \"MonoNFT\", \"Place\", \"the\", \"non_fungible_token\", \"trading\", \"https\"], \"replyCount\": 5, \"retweetCount\": 1, \"likeCount\": 8, \"quoteCount\": 0, \"dateonly\": \"2022-04-21T00:00:00\"}, {\"score\": 0.6, \"date\": \"2022-04-21T15:47:53+00:00\", \"filtered\": [\"Deluxe\", \"Sold\", \"0.399\\u039e\", \"//t.co/pLnqWA8uvy\", \"NFTs\", \"crypto\", \"design\", \"//t.co/FwmOZWfSsb\"], \"replyCount\": 0, \"retweetCount\": 0, \"likeCount\": 6, \"quoteCount\": 2, \"dateonly\": \"2022-04-21T00:00:00\"}, {\"score\": 0.13636363636363635, \"date\": \"2022-04-21T15:44:10+00:00\", \"filtered\": [\"NEW\", \"\\ud83d\\ude0d\\ud83d\\ude80\\ud83d\\udea8LFG\", \"Mcap\\u2705\", \"ETH\", \"meta\", \"NFTGiveaway\", \"NFTCommunity\", \"JamesBrKing\", \"$\", \"SHIBTR\", \"shib\", \"0x076877073D287Ee8c10878B190d7166367899fdA\", \"//t.co/iJgvnkJNpH\"], \"replyCount\": 6, \"retweetCount\": 10, \"likeCount\": 21, \"quoteCount\": 6, \"dateonly\": \"2022-04-21T00:00:00\"}, {\"score\": 0.2, \"date\": \"2022-04-21T15:42:43+00:00\", \"filtered\": [\"hopped\", \"the\", \"trend\", \"Facebook\", \"its\", \"to\", \"\\u267e\\ufe0f\", \"companies\", \"CocaCola\", \"and\", \"have\", \"dabbled\", \"Let\", \"take\", \"look\", \"some\", \"companies\", \"which\", \"taking\", \"it\", \"very\", \"\\ud83d\\udd1d\", \"FB\", \"MSFT\", \"NKE\"], \"replyCount\": 0, \"retweetCount\": 1, \"likeCount\": 21, \"quoteCount\": 0, \"dateonly\": \"2022-04-21T00:00:00\"}, {\"score\": -0.05, \"date\": \"2022-04-21T15:38:31+00:00\", \"filtered\": [\"word\", \"the\", \"careful\", \"investing\", \"Ape\", \"knockoffs\", \"there\", \"only\", \"OG\", \"\\u27a1\\ufe0f\\ud83e\\udd8d\\ud83e\\udd8d\", \"\\ud83e\\udd8d\\ud83e\\udd8d\", \"BAYC\", \"NFT\", \"BoredApeYachtClub\", \"crypto\", \"nftadvice\"], \"replyCount\": 1, \"retweetCount\": 0, \"likeCount\": 3, \"quoteCount\": 0, \"dateonly\": \"2022-04-21T00:00:00\"}, {\"score\": 0.13636363636363635, \"date\": \"2022-04-21T15:33:34+00:00\", \"filtered\": [\"is\", \"new\", \"...\", \"ENSdomains\", \"ENS\", \"Ethereum\", \"Web3\", \"Meta\", \"NFTs\", \"Looksrare\", \"//t.co/186AuQi6GW\"], \"replyCount\": 8, \"retweetCount\": 4, \"likeCount\": 33, \"quoteCount\": 1, \"dateonly\": \"2022-04-21T00:00:00\"}, {\"score\": 0.25, \"date\": \"2022-04-21T15:25:59+00:00\", \"filtered\": [\"xdylxdyl\", \"to\", \"Come\", \"Claim\", \"land\", \"in\", \"meta\", \"verse\", \"first\", \"all\", \"are\", \"https\"], \"replyCount\": 3, \"retweetCount\": 1, \"likeCount\": 4, \"quoteCount\": 1, \"dateonly\": \"2022-04-21T00:00:00\"}, {\"score\": 0.3181818181818182, \"date\": \"2022-04-21T14:30:32+00:00\", \"filtered\": [\"shared\", \"latest\", \"gaming\", \"while\", \"demonstrating\", \"in\", \"tracking\", \"and\", \"control\", \"Showcases\", \"VR\", \"New\", \"Options\", \"Gaming\", \"Event\", \"//t.co/BGk5t3nVW1\", \"//t.co/ElR82VC1zj\"], \"replyCount\": 0, \"retweetCount\": 4, \"likeCount\": 4, \"quoteCount\": 0, \"dateonly\": \"2022-04-21T00:00:00\"}, {\"score\": 0.19999999999999998, \"date\": \"2022-04-21T14:20:54+00:00\", \"filtered\": [\"of\", \"NFTS\", \"early\", \"through\", \"first\", \"marketplace\", \"The\", \"First\", \"MarketPlace\", \"with\", \"singles\", \"to\", \"also\", \"release\", \"NFTCommunity\", \"ZIL\", \"Metaverse\", \"https\"], \"replyCount\": 1, \"retweetCount\": 1, \"likeCount\": 5, \"quoteCount\": 3, \"dateonly\": \"2022-04-21T00:00:00\"}, {\"score\": -0.13181818181818183, \"date\": \"2022-04-21T13:49:37+00:00\", \"filtered\": [\"MW\", \"SMG\", \"BROKEN\", \"A\", \"NEW\", \"WEAPON\", \"TrueGameData\", \"Warzone\", \"CallofDutyModernWarfare\", \"warzoneclips\", \"https\"], \"replyCount\": 3, \"retweetCount\": 0, \"likeCount\": 3, \"quoteCount\": 0, \"dateonly\": \"2022-04-21T00:00:00\"}, {\"score\": 0.3181818181818182, \"date\": \"2022-04-21T13:23:04+00:00\", \"filtered\": [\"shared\", \"latest\", \"gaming\", \"while\", \"demonstrating\", \"in\", \"tracking\", \"and\", \"control\", \"Showcases\", \"VR\", \"New\", \"Options\", \"Gaming\", \"Event\", \"//t.co/7A8FO2WFU2\", \"//t.co/QCgvHuCowF\"], \"replyCount\": 0, \"retweetCount\": 3, \"likeCount\": 3, \"quoteCount\": 0, \"dateonly\": \"2022-04-21T00:00:00\"}, {\"score\": 0.6, \"date\": \"2022-04-21T13:16:09+00:00\", \"filtered\": [\"for\", \"nice\", \"to\", \"mansions\", \"Check\", \"my\", \"see\", \"you\", \"maybe\", \"you\", \"are\", \"of\", \"my\", \"in\", \"your\", \"space\", \"nft\", \"nfts\", \"nftart\", \"cryptocurrency\", \"https\"], \"replyCount\": 2, \"retweetCount\": 0, \"likeCount\": 4, \"quoteCount\": 1, \"dateonly\": \"2022-04-21T00:00:00\"}, {\"score\": -0.3, \"date\": \"2022-04-21T13:14:36+00:00\", \"filtered\": [\"paradox\", \"is\", \"crazy\", \"are\", \"and\", \"only\", \"start\", \"the\", \"17k+\", \"in\", \"days\", \"//t.co/B7g7OkreIU\", \"Play2Earn\", \"Metaverse\", \"//t.co/8C7xHYxAIM\"], \"replyCount\": 1, \"retweetCount\": 0, \"likeCount\": 3, \"quoteCount\": 0, \"dateonly\": \"2022-04-21T00:00:00\"}, {\"score\": 0.31785714285714284, \"date\": \"2022-04-21T12:01:47+00:00\", \"filtered\": [\"gm\", \"\\ud83d\\udcaaWishing\", \"strength\", \"keep\", \"\\ud83e\\udde0Wisdom\", \"make\", \"right\", \"\\u2764\\ufe0fLove\", \"keep\", \"sweet\", \"of\", \"LFG\", \"NFTCommunity\", \"cryptocurrency\", \"Metaverse\"], \"replyCount\": 4, \"retweetCount\": 1, \"likeCount\": 8, \"quoteCount\": 0, \"dateonly\": \"2022-04-21T00:00:00\"}, {\"score\": 0.2583333333333333, \"date\": \"2022-04-21T12:00:52+00:00\", \"filtered\": [\"use\", \"excited\", \"here\", \"'s\", \"everyday\", \"that\", \"your\", \"company\", \"gets\", \"mention\", \"Meta\", \"'s\", \"Mark\", \"We\", \"'re\", \"thrilled\", \"patrickol\", \"the\", \"team\", \"this\", \"achievement\", \"Meta\", \"https\"], \"replyCount\": 1, \"retweetCount\": 1, \"likeCount\": 10, \"quoteCount\": 0, \"dateonly\": \"2022-04-21T00:00:00\"}, {\"score\": 0.3, \"date\": \"2022-04-21T11:00:00+00:00\", \"filtered\": [\"has\", \"that\", \"countries\", \"donate\", \"create\", \"directly\", \"in\", \"InstagramReels\", \"more\", \"than\", \"1.5\", \"nonprofits\", \"//t.co/ovFOAhG6Sm\"], \"replyCount\": 0, \"retweetCount\": 0, \"likeCount\": 4, \"quoteCount\": 0, \"dateonly\": \"2022-04-21T00:00:00\"}, {\"score\": 0.05, \"date\": \"2022-04-21T10:38:32+00:00\", \"filtered\": [\"spits\", \"+100m\", \"results\", \"fishing\", \"which\", \"not\", \"considering\", \"vr\", \"is\", \"far\", \"mainstream\", \"word\", \"\\u201e\", \"fishing\", \"gets\", \"than\", \"results\\ud83d\\udc33\", \"\\u2019\", \"how\", \"\\u2019\", \"looking\", \"future\", \"trends\\ud83d\\udc40\", \"ens\", \"Metaverse\", \"ETH\", \"//t.co/WfaQoADIkl\"], \"replyCount\": 14, \"retweetCount\": 2, \"likeCount\": 43, \"quoteCount\": 0, \"dateonly\": \"2022-04-21T00:00:00\"}, {\"score\": 0.7, \"date\": \"2022-04-21T10:15:35+00:00\", \"filtered\": [\"'s\", \"yourself\", \"dancing\", \"&\", \";\", \"a\", \"of\", \"alongside\", \"beloved\", \"with\", \"\\ud83d\\udce2Telegram\", \"(\", \"//t.co/uH6J46MY1t\", \"Musik\", \"Meta\", \"V2E\", \"View2earn\", \"https\"], \"replyCount\": 59, \"retweetCount\": 16, \"likeCount\": 24, \"quoteCount\": 0, \"dateonly\": \"2022-04-21T00:00:00\"}, {\"score\": -0.35, \"date\": \"2022-04-21T10:00:38+00:00\", \"filtered\": [\"a\", \"is\", \"for\", \"from\", \"to\", \"their\", \"I\", \"it\", \"s\", \"worse\", \"Meta\", \"for\", \"%\", \"of\", \"royalties\", \"least\", \"payed\", \"you\", \"\\ud83e\\udd74\", \"am\", \"3an\", \"bas\", \"\\ud83d\\ude05\", \"NFTCommunity\", \"what\", \"are\", \"your\", \"?\"], \"replyCount\": 0, \"retweetCount\": 0, \"likeCount\": 6, \"quoteCount\": 1, \"dateonly\": \"2022-04-21T00:00:00\"}, {\"score\": 0.125, \"date\": \"2022-04-21T09:32:06+00:00\", \"filtered\": [\"in\", \"/\", \"and\", \"Netflix\", \"prices\", \"exactly\", \"i\", \"avoiding\", \"valued\", \"stocks\", \"the\", \"2021\", \"Stocks\", \"go\", \"without\", \"fundamental\", \"reason\", \"climb\", \"doubly\", \"Must\", \"away\", \"them\"], \"replyCount\": 1, \"retweetCount\": 2, \"likeCount\": 8, \"quoteCount\": 0, \"dateonly\": \"2022-04-21T00:00:00\"}, {\"score\": 0.8, \"date\": \"2022-04-21T09:19:28+00:00\", \"filtered\": [\"UK\", \"Updates\", \"Metapocket\", \"really\", \"great\", \"\\ud83d\\udca5\", \"goal\", \"to\", \"the\", \"100\", \"power\", \"GoForIt\", \"Join\", \"MetaPocket\", \"\\u270a\", \"'re\", \"waiting\", \"you\", \"MetaPocket\", \"meta\", \"metapkwallet\", \"gamefiwallet\", \"https\"], \"replyCount\": 0, \"retweetCount\": 50, \"likeCount\": 345, \"quoteCount\": 0, \"dateonly\": \"2022-04-21T00:00:00\"}, {\"score\": 0.6, \"date\": \"2022-04-21T08:57:24+00:00\", \"filtered\": [\"Updated\", \"Week\", \"thedapplist\", \"71\", \"more\", \"https\", \"Or\", \"the\", \"below\\ud83d\\udc47\", \"WISE\", \"NFT\", \"Meta\", \"GameFi\", \"https\"], \"replyCount\": 5, \"retweetCount\": 0, \"likeCount\": 28, \"quoteCount\": 0, \"dateonly\": \"2022-04-21T00:00:00\"}, {\"score\": -0.025, \"date\": \"2022-04-21T08:27:55+00:00\", \"filtered\": [\"future\", \"DAO\\ud83d\\ude4c\", \"\\u2019\", \"believe\", \"Read\", \"I\", \"some\", \"domains\", \"my\", \"this\", \"and\", \"have\", \"long\", \"of\", \"DAO\", \"ideas\", \"you\\ud83e\\udd1d\", \"what\", \"kindnessdao.eth\", \"\\ud83d\\udc40\", \"ens\", \"metaverse\", \"ETH\", \"https\", \"//t.co/fdxWQ3Kdll\"], \"replyCount\": 3, \"retweetCount\": 0, \"likeCount\": 18, \"quoteCount\": 0, \"dateonly\": \"2022-04-21T00:00:00\"}, {\"score\": -0.2, \"date\": \"2022-04-21T07:53:40+00:00\", \"filtered\": [\"a\", \"behind\", \"companies\", \"Microsoft\", \"universal\", \"META\", \"//t.co/DjXybu0Ho9\"], \"replyCount\": 1, \"retweetCount\": 5, \"likeCount\": 8, \"quoteCount\": 0, \"dateonly\": \"2022-04-21T00:00:00\"}, {\"score\": 0.5, \"date\": \"2022-04-21T07:47:57+00:00\", \"filtered\": [\"//t.co/VRLyqxM2ga\", \"sale\", \"letter\", \"memorable\", \"catchy\", \"for\", \"your\", \"business\", \"example\", \"Type\", \"Bar\", \"sedo\", \"websites\", \"onlinebusiness\", \"web3\", \"Metaverse\", \"metafi\", \"seo\", \"//t.co/6PLJ5G6sCu\"], \"replyCount\": 0, \"retweetCount\": 2, \"likeCount\": 3, \"quoteCount\": 0, \"dateonly\": \"2022-04-21T00:00:00\"}, {\"score\": -0.1, \"date\": \"2022-04-21T07:41:15+00:00\", \"filtered\": [\"'s\", \"round\", \"from\", \"global\", \"industry\", \"to\", \"MusicPlusNews\", \"Netflix\", \"Apple\", \"https\"], \"replyCount\": 0, \"retweetCount\": 0, \"likeCount\": 3, \"quoteCount\": 0, \"dateonly\": \"2022-04-21T00:00:00\"}, {\"score\": 0.30000000000000004, \"date\": \"2022-04-21T07:11:38+00:00\", \"filtered\": [\"Twitter\\ud83d\\udc90\", \"Collection\", \"is\", \"available\", \"sale\", \"opensea\", \"be\", \"via\", \"link\", \"thanks\", \"//t.co/vxYi3UYlte\", \"crypto\", \"meta\", \"nftlover\", \"Polygon\", \"https\"], \"replyCount\": 0, \"retweetCount\": 7, \"likeCount\": 15, \"quoteCount\": 0, \"dateonly\": \"2022-04-21T00:00:00\"}, {\"score\": 0.04545454545454545, \"date\": \"2022-04-21T06:58:23+00:00\", \"filtered\": [\"'s\", \"Reality\", \"gets\", \"feature\", \"is\", \"phase\", \"it\", \"new\", \"improved\", \"tracking\", \"to\", \"the\", \"project\", \"can\", \"various\", \"such\", \"clapping\", \"highfives\", \"thefreemedia\", \"Metamask\", \"https\"], \"replyCount\": 1, \"retweetCount\": 2, \"likeCount\": 5, \"quoteCount\": 0, \"dateonly\": \"2022-04-21T00:00:00\"}, {\"score\": 0.33, \"date\": \"2022-04-21T06:28:33+00:00\", \"filtered\": [\"you\", \"land\", \"Metaverse\", \"you\", \"sure\", \"high\", \"?\", \"NFTCommmunity\", \"NFTs\"], \"replyCount\": 2, \"retweetCount\": 2, \"likeCount\": 10, \"quoteCount\": 1, \"dateonly\": \"2022-04-21T00:00:00\"}, {\"score\": -0.4, \"date\": \"2022-04-21T06:04:43+00:00\", \"filtered\": [\"24\", \"asking\", \"out\", \"e-meet\", \"If\", \"living\", \"let\", \"\\u2019\", \"the\", \"who\", \"it\", \"\\u2019\", \"s\", \"create\", \"a\", \"real-life\", \"game\", \"nfts\", \"nftcollector\", \"nftproject\", \"nftcommunity\", \"Elonmusk\"], \"replyCount\": 2, \"retweetCount\": 0, \"likeCount\": 10, \"quoteCount\": 3, \"dateonly\": \"2022-04-21T00:00:00\"}, {\"score\": 0.13636363636363635, \"date\": \"2022-04-21T05:28:04+00:00\", \"filtered\": [\"NEW\", \"\\ud83d\\ude0d\\ud83d\\ude80\\ud83d\\udea8LFG\", \"Mcap\\u2705\", \"ETH\", \"meta\", \"NFTGiveaway\", \"NFTCommunity\", \"JamesBrKing\", \"$\", \"SHIBTR\", \"shib\", \"0x076877073D287Ee8c10878B190d7166367899fdA\", \"//t.co/0vMLdc0a1S\", \"//t.co/SbJ2R5w0Ws\"], \"replyCount\": 9, \"retweetCount\": 14, \"likeCount\": 26, \"quoteCount\": 5, \"dateonly\": \"2022-04-21T00:00:00\"}, {\"score\": 0.3416666666666667, \"date\": \"2022-04-21T05:08:04+00:00\", \"filtered\": [\"to\", \"Friends\", \"cool\", \"living\", \"Polygon\", \"Inspired\", \"collections\", \"as\", \"Doodles\", \"Apes\", \"CryptoPunks\", \"collection\", \"for\", \"artistic\", \"appreciaton\", \"to\", \"merch\", \"a\", \"Each\", \"is\", \"NFT\", \"https\"], \"replyCount\": 0, \"retweetCount\": 0, \"likeCount\": 5, \"quoteCount\": 1, \"dateonly\": \"2022-04-21T00:00:00\"}, {\"score\": 0.35, \"date\": \"2022-04-21T05:00:04+00:00\", \"filtered\": [\"episode\", \"of\", \"Metta\", \"Podcast\", \"welcomes\", \"author\", \"theologian\", \"https\", \"\\ud83d\\udcfd\\ufe0fhttps\", \"Thanks\", \"betterhelp\", \"ad\", \"Go\", \"https\", \"meta\", \"love\", \"https\"], \"replyCount\": 0, \"retweetCount\": 4, \"likeCount\": 17, \"quoteCount\": 0, \"dateonly\": \"2022-04-21T00:00:00\"}, {\"score\": 0.41666666666666663, \"date\": \"2022-04-21T04:20:40+00:00\", \"filtered\": [\"https\", \"squadhelp\", \"DomainNameForSale\", \"in\", \"extension\", \"Super\", \"domain\", \"sport\", \"Bitcoin\", \"meta\", \"Coins\", \"mobilegames\", \"StartUp\", \"many\", \"...\"], \"replyCount\": 1, \"retweetCount\": 1, \"likeCount\": 5, \"quoteCount\": 0, \"dateonly\": \"2022-04-21T00:00:00\"}, {\"score\": 0.3181818181818182, \"date\": \"2022-04-21T04:19:42+00:00\", \"filtered\": [\"those\", \"wanted\", \"get\", \"PsychonautApeD\", \"better\", \"than\", \"checkout\", \"new\", \"NFTGiveaway\", \"NFT\", \"nftcollectors\", \"Metaverse\", \"NFTcollections\", \"PAD\", \"GengethKhan\", \"ETH\", \"METL\", \"//t.co/kyhGjr5UI8\"], \"replyCount\": 1, \"retweetCount\": 3, \"likeCount\": 11, \"quoteCount\": 1, \"dateonly\": \"2022-04-21T00:00:00\"}, {\"score\": 0.1, \"date\": \"2022-04-21T04:00:00+00:00\", \"filtered\": [\"will\", \"impact\", \"What\", \"the\", \"concerns\", \"Metaverse\", \"amp\", \"will\", \"entirely\", \"the\", \"real\", \"world\", \"?\", \"\\ud83e\\uddd0\", \"to\", \"out\", \"//t.co/T6nZIyWZP9\", \"cryptocurrency\", \"DeFi\", \"Meta\"], \"replyCount\": 0, \"retweetCount\": 1, \"likeCount\": 3, \"quoteCount\": 0, \"dateonly\": \"2022-04-21T00:00:00\"}, {\"score\": 0.13636363636363635, \"date\": \"2022-04-21T02:39:59+00:00\", \"filtered\": [\"new\", \"is\", \"Metaverse\", \"AAPEQueens\", \"Ethereum\", \"AAPE\", \"AAPES\", \"meta\", \"Cryptos\", \"BAYC\", \"CryptocurrencyNews\", \"//t.co/gvAEtoNgC8\"], \"replyCount\": 54, \"retweetCount\": 94, \"likeCount\": 174, \"quoteCount\": 5, \"dateonly\": \"2022-04-21T00:00:00\"}, {\"score\": 0.1, \"date\": \"2022-04-21T02:06:51+00:00\", \"filtered\": [\"SuperKluster\", \"is\", \"epic\", \"the\", \"listening\", \"my\", \"nft\", \"cryptocurrency\"], \"replyCount\": 0, \"retweetCount\": 2, \"likeCount\": 7, \"quoteCount\": 2, \"dateonly\": \"2022-04-21T00:00:00\"}, {\"score\": 0.03750000000000001, \"date\": \"2022-04-21T02:03:16+00:00\", \"filtered\": [\"BBIG\", \"nft\", \"web3\", \"are\", \"developed\", \"ready\", \"sale\", \"TYDE\", \"line\", \"SS\", \"Don\", \"t\", \"a\", \"\\ud83d\\udca9\", \"sell\", \"dip\", \"buy\", \"the\", \"dip\", \"hold\", \"Little\", \"for\", \"of\", \"https\"], \"replyCount\": 0, \"retweetCount\": 0, \"likeCount\": 3, \"quoteCount\": 0, \"dateonly\": \"2022-04-21T00:00:00\"}, {\"score\": 0.8, \"date\": \"2022-04-21T01:51:42+00:00\", \"filtered\": [\"great\", \"We\", \"see\", \"happens\", \"try\", \"guess\", \"one\", \"shibtroarmy\", \"NFTCommunity\", \"Metaverse\", \"BTC\", \"CryptocurrencyNews\", \"//t.co/iYgHdAoVtO\"], \"replyCount\": 1, \"retweetCount\": 0, \"likeCount\": 4, \"quoteCount\": 3, \"dateonly\": \"2022-04-21T00:00:00\"}, {\"score\": 0.65, \"date\": \"2022-04-21T01:20:17+00:00\", \"filtered\": [\"am\", \"and\", \"to\", \"SmokeyStock\", \"so\", \"happy\", \"love\", \"all\", \"mmat\"], \"replyCount\": 1, \"retweetCount\": 0, \"likeCount\": 6, \"quoteCount\": 0, \"dateonly\": \"2022-04-21T00:00:00\"}, {\"score\": 0.25, \"date\": \"2022-04-21T01:16:37+00:00\", \"filtered\": [\"Digital\", \"containing\", \"NFTs\", \"Crypto\", \"1\", \"contains\", \"$\", \"Grand\", \"every\", \"Free2Play\", \"meta\", \"nftgame\", \"web3\", \"PolygonNFT\", \"https\"], \"replyCount\": 3, \"retweetCount\": 5, \"likeCount\": 15, \"quoteCount\": 2, \"dateonly\": \"2022-04-21T00:00:00\"}, {\"score\": 0.5, \"date\": \"2022-04-21T00:42:13+00:00\", \"filtered\": [\"$\", \"$\", \"Do\", \"think\", \"is\", \"their\", \"Cards\", \"play\", \"``\", \"Hand\", \"on\", \"table\", \"the\", \"out\", \"Show\", \"your\", \"or\", \"if\", \"think\", \"?\", \"am\", \"more\", \"on\", \"as\", \"draw\", \"each\"], \"replyCount\": 0, \"retweetCount\": 0, \"likeCount\": 7, \"quoteCount\": 1, \"dateonly\": \"2022-04-21T00:00:00\"}, {\"score\": 0.4166666666666667, \"date\": \"2022-04-21T00:31:00+00:00\", \"filtered\": [\"fine\", \"of\", \"from\", \"you\", \"find\", \"on\", \"here\", \"of\", \"observe\", \"used\", \"our\", \"below\", \"//t.co/4u7a963hye\", \"NFTs\", \"Meta\", \"metaverse\", \"XR\", \"https\"], \"replyCount\": 0, \"retweetCount\": 0, \"likeCount\": 5, \"quoteCount\": 0, \"dateonly\": \"2022-04-21T00:00:00\"}, {\"score\": -0.5, \"date\": \"2022-04-21T00:05:01+00:00\", \"filtered\": [\"what\", \"found\", \"Line\", \"of\", \"collectible\", \"//t.co/Nh4qK1XIRG\", \"ethereum\", \"digitalasset\", \"via\", \"Kingartist\", \"Crypto\", \"Meta\", \"OpenSea\"], \"replyCount\": 3, \"retweetCount\": 0, \"likeCount\": 3, \"quoteCount\": 2, \"dateonly\": \"2022-04-21T00:00:00\"}, {\"score\": 0.5, \"date\": \"2022-04-20T23:59:47+00:00\", \"filtered\": [\"metaverseradio\", \"newword\", \"spelling\", \"grammar\", \"learning\", \"scrabble\", \"pronunciation\", \"englishdepartment\", \"ok\", \"the\", \"UNMETA\", \"https\"], \"replyCount\": 1, \"retweetCount\": 5, \"likeCount\": 9, \"quoteCount\": 1, \"dateonly\": \"2022-04-20T00:00:00\"}, {\"score\": 0.3333333333333333, \"date\": \"2022-04-20T23:49:55+00:00\", \"filtered\": [\"LETS\", \"GOOOOOO\", \"SOVillains\", \"graveyardfalls\", \"nft\", \"super\", \"superdudesnfr\", \"crypto\", \"cryptoart\", \"DAO\", \"SOVillains\", \"//t.co/xmNVRzfW3C\"], \"replyCount\": 0, \"retweetCount\": 5, \"likeCount\": 16, \"quoteCount\": 0, \"dateonly\": \"2022-04-20T00:00:00\"}, {\"score\": 0.023809523809523798, \"date\": \"2022-04-20T22:49:10+00:00\", \"filtered\": [\"tight\", \"that\", \"MetaFluencer\", \"one\", \"(\", \")\", \"ILONSI\", \"\\ud83d\\ude33\", \"shops\", \"be\", \"by\", \"MetaFluencer\", \"s\", \"have\", \"done\", \"past\", \"and\", \"will\", \"start\", \"More\", \"at\", \"//t.co/1jC5u7Mqhl\", \"Meta\", \"https\"], \"replyCount\": 0, \"retweetCount\": 3, \"likeCount\": 13, \"quoteCount\": 1, \"dateonly\": \"2022-04-20T00:00:00\"}, {\"score\": 0.75, \"date\": \"2022-04-20T22:47:45+00:00\", \"filtered\": [\"is\", \"compiled\", \"pictour\\ud83d\\udca8\", \"more\", \"chat\", \"up\", \"WhatsApp\", \"Creating\", \"the\", \"beat\", \"at\", \"best\", \"NFTGANG\", \"NFTgaming\", \"nftlover\", \"explore\", \"https\"], \"replyCount\": 1, \"retweetCount\": 0, \"likeCount\": 3, \"quoteCount\": 0, \"dateonly\": \"2022-04-20T00:00:00\"}, {\"score\": 0.25, \"date\": \"2022-04-20T22:31:06+00:00\", \"filtered\": [\"video\", \"by\", \"he\", \"a\", \"about\", \"World\", \"in\", \"first\", \"of\", \"video\", \"Metaverse\", \"cryptocurrecy\", \"MetaverseNFT\", \"DeFi\", \"MMORPG\", \"P2E\", \"NFTGiveaway\", \"https\"], \"replyCount\": 1, \"retweetCount\": 5, \"likeCount\": 21, \"quoteCount\": 2, \"dateonly\": \"2022-04-20T00:00:00\"}, {\"score\": -0.25, \"date\": \"2022-04-20T22:07:39+00:00\", \"filtered\": [\"past\", \"months\", \"Netflix\", \"-27\", \"Meta\", \"%\", \"-28\", \"%\", \"$\", \"$\", \"$\", \"$\", \"StockMarket\", \"Woke\", \"Broke\", \"https\"], \"replyCount\": 4, \"retweetCount\": 0, \"likeCount\": 29, \"quoteCount\": 0, \"dateonly\": \"2022-04-20T00:00:00\"}, {\"score\": 0.25, \"date\": \"2022-04-20T21:49:35+00:00\", \"filtered\": [\"announcement\", \"MetaBabyDoge\", \"For\", \"RT\", \"tweet\", \"we\", \"burn\", \"Billion\", \"tokens\", \"Only\", \"tonight\", \"sure\", \"'re\", \"\\ud83d\\udc15\", \"BabyDoge\", \"MetaBabyDoge\", \"BSC\", \"//t.co/S0p3rNSJkv\"], \"replyCount\": 24, \"retweetCount\": 23, \"likeCount\": 40, \"quoteCount\": 1, \"dateonly\": \"2022-04-20T00:00:00\"}, {\"score\": 0.5, \"date\": \"2022-04-20T21:23:03+00:00\", \"filtered\": [\"2\", \"in\", \"Meta\", \"Gaming\", \"2022\", \"out\", \"latest\", \"and\", \"the\", \"VR\", \"Games\", \"//t.co/e9WVWW071g\", \"//t.co/Ds7z25Bily\"], \"replyCount\": 0, \"retweetCount\": 0, \"likeCount\": 4, \"quoteCount\": 0, \"dateonly\": \"2022-04-20T00:00:00\"}, {\"score\": 0.2333333333333333, \"date\": \"2022-04-20T20:55:59+00:00\", \"filtered\": [\"do\", \"shill\", \"projects\", \"MurderHeadDC\", \"LiquidDeath\", \"the\", \"Everyone\", \"love\", \"hit\", \"with\", \"mooning\", \"and\", \"are\", \"regurgitation\", \"of\", \"fabricated\", \"Read\", \"by\", \"to\", \"how\", \"and\", \"are\", \"real\", \"nfts\", \"https\"], \"replyCount\": 0, \"retweetCount\": 1, \"likeCount\": 5, \"quoteCount\": 0, \"dateonly\": \"2022-04-20T00:00:00\"}, {\"score\": 0.8, \"date\": \"2022-04-20T20:53:03+00:00\", \"filtered\": [\"MMAT\", \"$\", \"NTS_Corp\", \"plasmaappltd\", \"\\ud83e\\udd8b\", \"ComingSoon\", \"\\u23f0\\ud83d\\udd25\\ud83e\\ude73\\ud83d\\udd25\\u23f0\", \"Win\", \"\\u201c\", \"supreme\", \"is\", \"subdue\", \"fighting\", \"enemy\", \"&\", \";\", \"yourself\", \"U\", \"need\", \"fear\", \"the\", \"result\", \"of\", \"a\", \"battles\", \"https\"], \"replyCount\": 0, \"retweetCount\": 0, \"likeCount\": 9, \"quoteCount\": 0, \"dateonly\": \"2022-04-20T00:00:00\"}, {\"score\": 0.2, \"date\": \"2022-04-20T20:30:35+00:00\", \"filtered\": [\"has\", \"that\", \"expects\", \"metaverse\", \"be\", \"larger\", \"with\", \"advanced\", \"and\", \"than\", \"can\", \"imagine\", \"//t.co/uIyJkDchmn\"], \"replyCount\": 0, \"retweetCount\": 2, \"likeCount\": 11, \"quoteCount\": 1, \"dateonly\": \"2022-04-20T00:00:00\"}, {\"score\": -0.45, \"date\": \"2022-04-20T20:11:04+00:00\", \"filtered\": [\"Domain\", \"domain\", \"CryptocurrencyNews\", \"blockchain\", \"bitcoin\", \"fiatcurrency\", \"NFTS\", \"crypto\", \"node\", \"two\", \"latin\", \"Crypto\", \"concealed\", \"secret\", \"-\", \"difficult\", \"intricate\", \"situation\", \"etc\", \"//t.co/VZIBdHinod\"], \"replyCount\": 3, \"retweetCount\": 1, \"likeCount\": 4, \"quoteCount\": 0, \"dateonly\": \"2022-04-20T00:00:00\"}, {\"score\": -0.19444444444444442, \"date\": \"2022-04-20T20:00:49+00:00\", \"filtered\": [\"Health\", \"are\", \"active\", \"can\", \"manage\", \"Lootverse\", \"average\", \"Find\", \"what\", \"when\", \"a\", \"lootizen\", \"loses\", \"all\", \"health\", \"points\", \"how\", \"health\", \"can\", \"replenished\", \"//t.co/PNXI8FzWXX\", \"meta\"], \"replyCount\": 0, \"retweetCount\": 0, \"likeCount\": 6, \"quoteCount\": 0, \"dateonly\": \"2022-04-20T00:00:00\"}, {\"score\": -0.5, \"date\": \"2022-04-20T19:56:30+00:00\", \"filtered\": [\"Bored\", \"are\", \"One\", \"&\", \";\", \"of\", \"\\u201d\", \"Evan\", \"eshap\", \"NewHollywoodNow\", \"Clubhouse\", \"nfts\", \"creators\", \"netflix\", \"disney\", \"web3\", \"//t.co/ZM0TZ8XSjv\"], \"replyCount\": 0, \"retweetCount\": 3, \"likeCount\": 5, \"quoteCount\": 0, \"dateonly\": \"2022-04-20T00:00:00\"}, {\"score\": -0.15555555555555559, \"date\": \"2022-04-20T19:36:27+00:00\", \"filtered\": [\"The\", \"fighter\", \"patrol\", \"area\", \"of\", \"the\", \"and\", \"down\", \"enemy\", \"in\", \"area\", \"else\", \"is\", \"rubbish\", \"-Manfred\", \"Richthofen-\", \"https\", \"WeAreStarAtlas\", \"staratlas\", \"Meta\", \"NFTart\", \"https\"], \"replyCount\": 2, \"retweetCount\": 1, \"likeCount\": 21, \"quoteCount\": 0, \"dateonly\": \"2022-04-20T00:00:00\"}, {\"score\": 0.2, \"date\": \"2022-04-20T19:14:47+00:00\", \"filtered\": [\"beggining\", \"the\", \"is\", \"soon\", \"Are\", \"ready\", \"it\", \"\\ud83e\\udd29\", \"metaverse\", \"cryptogames\", \"nft\", \"nftartist\", \"sellnft\", \"vrality\", \"virtual\", \"futuretechnology\", \"//t.co/fgb1udyBTd\"], \"replyCount\": 0, \"retweetCount\": 0, \"likeCount\": 4, \"quoteCount\": 1, \"dateonly\": \"2022-04-20T00:00:00\"}, {\"score\": 0.31, \"date\": \"2022-04-20T19:14:01+00:00\", \"filtered\": [\"cool\", \"it\", \"able\", \"play\", \"favorite\", \"at\", \"same\", \"to\", \"money\", \"This\", \"going\", \"to\", \"be\", \"soon\", \"the\", \"GameRoom\", \"\\ud83c\\udfae\", \"Are\", \"ready\", \"the\", \"?\", \"meta\", \"crypto\", \"cryptogaming\", \"nftart\", \"https\"], \"replyCount\": 0, \"retweetCount\": 0, \"likeCount\": 4, \"quoteCount\": 0, \"dateonly\": \"2022-04-20T00:00:00\"}, {\"score\": 0.5, \"date\": \"2022-04-20T19:04:37+00:00\", \"filtered\": [\"anything\", \"be\", \"NFT\", \"are\", \"most\", \"NFTs\", \"are\", \"the\", \"\\ud83d\\udcbb\\ud83d\\udcad\", \"nftcreators\", \"meta\", \"https\"], \"replyCount\": 0, \"retweetCount\": 0, \"likeCount\": 7, \"quoteCount\": 1, \"dateonly\": \"2022-04-20T00:00:00\"}, {\"score\": 0.5, \"date\": \"2022-04-20T19:00:55+00:00\", \"filtered\": [\"NFT\", \"day\", \"SuperDelacruz\", \"https\", \"META\", \"https\", \"Details\", \"Basketball\", \"playground\", \"many\", \"cases\", \"25\", \"of\", \"25\", \"to\", \"\\ud83e\\udd1dDelegate\", \"\\ud83d\\uddb1\\ufe0fCheck\", \"for\", \"https\"], \"replyCount\": 1, \"retweetCount\": 0, \"likeCount\": 7, \"quoteCount\": 1, \"dateonly\": \"2022-04-20T00:00:00\"}, {\"score\": 1.0, \"date\": \"2022-04-20T18:24:36+00:00\", \"filtered\": [\"ATH\", \"Best\", \"ever\", \"off\", \"on\", \"people\", \"'re\", \"time\", \"SHIBTROPOLIS\", \"ETH\", \"NFTCommunity\", \"cryptocurrency\", \"btc\", \"meta\", \"https\"], \"replyCount\": 1, \"retweetCount\": 1, \"likeCount\": 7, \"quoteCount\": 2, \"dateonly\": \"2022-04-20T00:00:00\"}, {\"score\": -0.125, \"date\": \"2022-04-20T18:12:13+00:00\", \"filtered\": [\"are\", \"thought\", \"$\", \"or\", \"anyone\", \"other\", \"coins\", \"\\u2019\", \"looking\", \"?\", \"crypto\", \"Bloktopia\"], \"replyCount\": 1, \"retweetCount\": 0, \"likeCount\": 3, \"quoteCount\": 0, \"dateonly\": \"2022-04-20T00:00:00\"}, {\"score\": 0.13636363636363635, \"date\": \"2022-04-20T17:52:02+00:00\", \"filtered\": [\"Quest\", \"its\", \"annual\", \"Showcase\", \"shared\", \"new\", \"that\", \"coming\", \"the\", \"headset\", \"//t.co/Z1UHawXS6V\"], \"replyCount\": 0, \"retweetCount\": 1, \"likeCount\": 5, \"quoteCount\": 0, \"dateonly\": \"2022-04-20T00:00:00\"}, {\"score\": 0.4, \"date\": \"2022-04-20T17:43:05+00:00\", \"filtered\": [\"to\", \"is\", \"available\", \"the\", \"//t.co/bagDvJHVOd\", \"Quest\", \"Gamedev\", \"VirtualReality\", \"unity3d\", \"flightsim\", \"\\u201c\", \"Glider\", \"Sim\", \"on\", \"Quest\", \"https\"], \"replyCount\": 0, \"retweetCount\": 1, \"likeCount\": 4, \"quoteCount\": 0, \"dateonly\": \"2022-04-20T00:00:00\"}, {\"score\": 0.6000000000000001, \"date\": \"2022-04-20T17:23:22+00:00\", \"filtered\": [\"//t.co/NibE3Fda2p\", \"for\", \"Amazing\", \"domain\", \"domains\", \"Metaverse\", \"metafashionweek\", \"nft\", \"web3\", \"MetaPets\", \"VirtualReality\", \"blockchain\", \"https\"], \"replyCount\": 2, \"retweetCount\": 4, \"likeCount\": 7, \"quoteCount\": 5, \"dateonly\": \"2022-04-20T00:00:00\"}, {\"score\": 0.35, \"date\": \"2022-04-20T17:12:41+00:00\", \"filtered\": [\"is\", \"our\", \"with\", \"\\ud83d\\udc57\\ud83d\\udc60\\ud83d\\udc8d\", \"we\", \"bringing\", \"fashion\", \"to\", \"Read\", \"the\", \"full\", \"below\", \"watch\", \"for\", \"giveaways\", \"https\", \"NFT\", \"P2E\", \"metaversefashion\"], \"replyCount\": 8, \"retweetCount\": 26, \"likeCount\": 69, \"quoteCount\": 0, \"dateonly\": \"2022-04-20T00:00:00\"}, {\"score\": 0.13636363636363635, \"date\": \"2022-04-20T17:03:31+00:00\", \"filtered\": [\"Gateway\", \"release\", \"new\", \"The\", \"NFT\", \"collection\", \"entitled\", \"Gratia\", \"is\", \"collaboration\", \"with\", \"Pautasso\", \"Kaneda\", \"an\", \"Director\", \"Illustrator\", \"nftcreators\", \"meta\", \"https\"], \"replyCount\": 0, \"retweetCount\": 0, \"likeCount\": 4, \"quoteCount\": 1, \"dateonly\": \"2022-04-20T00:00:00\"}, {\"score\": 0.5, \"date\": \"2022-04-20T17:00:00+00:00\", \"filtered\": [\"photo-sharing\", \"Instagram\", \"that\", \"is\", \"more\", \"content\", \"'Top\", \"and\", \"'Reels\", \"in\", \"and\", \"the\", \"tab\", \"//t.co/CcYy06a7Of\"], \"replyCount\": 0, \"retweetCount\": 1, \"likeCount\": 3, \"quoteCount\": 0, \"dateonly\": \"2022-04-20T00:00:00\"}, {\"score\": 0.25, \"date\": \"2022-04-20T16:26:59+00:00\", \"filtered\": [\"NFT\", \"is\", \"to\", \"It\", \"transform\", \"adapt\", \"it\", \"into\", \"areas\", \"PFP\", \"Art\", \"become\", \"platform\", \"similar\", \"greater\", \"than\", \"already\", \"socialmedia\", \"ArtistOnTwitter\", \"nftartcollector\"], \"replyCount\": 1, \"retweetCount\": 2, \"likeCount\": 6, \"quoteCount\": 2, \"dateonly\": \"2022-04-20T00:00:00\"}, {\"score\": 0.1, \"date\": \"2022-04-20T16:25:47+00:00\", \"filtered\": [\"you\", \"that\", \"Meta\", \"take\", \"nearly\", \"%\", \"sales\", \"on\", \"their\", \"?\", \"why\"], \"replyCount\": 1, \"retweetCount\": 1, \"likeCount\": 6, \"quoteCount\": 0, \"dateonly\": \"2022-04-20T00:00:00\"}, {\"score\": 0.17500000000000002, \"date\": \"2022-04-20T16:11:40+00:00\", \"filtered\": [\"Eva\", \"along\", \"promenade\", \"noticed\", \"strange\", \"light\", \"the\", \"with\", \"gaze\", \"What\", \"it\", \"?\", \"-\", \"thought\", \"stepping\", \"began\", \"look\", \"the\", \"glint\", \"https\", \"ar\", \"NFTs\"], \"replyCount\": 1, \"retweetCount\": 4, \"likeCount\": 17, \"quoteCount\": 1, \"dateonly\": \"2022-04-20T00:00:00\"}, {\"score\": 0.25, \"date\": \"2022-04-20T15:41:07+00:00\", \"filtered\": [\"behaviour\", \"?\", \"GAMERTAGVR\", \"are\", \"vr_oasis\", \"is\", \"on\", \"the\", \"iPad\", \"well\", \"got\", \"love\", \"big\", \"in\", \"\\ud83d\\ude02\", \"quest\", \"https\"], \"replyCount\": 6, \"retweetCount\": 3, \"likeCount\": 21, \"quoteCount\": 0, \"dateonly\": \"2022-04-20T00:00:00\"}, {\"score\": 0.37878787878787873, \"date\": \"2022-04-20T15:22:23+00:00\", \"filtered\": [\"seem\", \"be\", \"new\", \"in\", \"top\", \"And\", \"is\", \"through\", \"Kate\", \"wish\", \"more\", \"\\ud83d\\udca5iOS\", \"//t.co/IDp5g4MZKh\", \"AR\", \"NFTs\", \"https\", \"//t.co/gG2wPBELkB\"], \"replyCount\": 1, \"retweetCount\": 4, \"likeCount\": 18, \"quoteCount\": 0, \"dateonly\": \"2022-04-20T00:00:00\"}, {\"score\": 0.22777777777777777, \"date\": \"2022-04-20T14:53:10+00:00\", \"filtered\": [\"Game\", \"successful\", \"show\", \"&\", \";\", \"2\", \"on\", \"way\", \"did\", \"quick\", \"on\", \"the\", \"cast\", \"want\", \"share\", \"you\", \"examples\", \"they\", \"re\", \"a\", \"idk\", \"feel\", \"to\", \"them\", \"you\", \"ensdomains\", \"web3\", \"META\", \"ETH\", \"//t.co/NXCNzB3EtG\"], \"replyCount\": 1, \"retweetCount\": 1, \"likeCount\": 12, \"quoteCount\": 0, \"dateonly\": \"2022-04-20T00:00:00\"}, {\"score\": -0.6, \"date\": \"2022-04-20T14:39:13+00:00\", \"filtered\": [\"Market\", \"\\ud83e\\uddd0Here\", \"some\", \"moves\", \"in\", \"the\", \"US\", \"today\", \"Netflix\", \"the\", \"loser\", \"disappointing\", \"Results\", \"IBM\", \"biggest\", \"post\", \"Q1\", \"StocksInFocus\", \"StocksInFocus\", \"visa\", \"https\"], \"replyCount\": 0, \"retweetCount\": 2, \"likeCount\": 5, \"quoteCount\": 0, \"dateonly\": \"2022-04-20T00:00:00\"}, {\"score\": 0.5, \"date\": \"2022-04-20T14:13:42+00:00\", \"filtered\": [\"Quest\", \"Showcase\", \"Interesting\", \"what\", \"the\", \"reveal\", \"?\", \"meta\", \"https\"], \"replyCount\": 0, \"retweetCount\": 3, \"likeCount\": 5, \"quoteCount\": 1, \"dateonly\": \"2022-04-20T00:00:00\"}, {\"score\": 0.13636363636363635, \"date\": \"2022-04-20T14:04:10+00:00\", \"filtered\": [\"NEW\", \"2.0\", \"MarkZuckerberg\", \"nftart\", \"Ethereum\", \"//t.co/chjW41Ad3A\"], \"replyCount\": 8, \"retweetCount\": 13, \"likeCount\": 25, \"quoteCount\": 2, \"dateonly\": \"2022-04-20T00:00:00\"}, {\"score\": 0.2333333333333333, \"date\": \"2022-04-20T14:00:02+00:00\", \"filtered\": [\"'re\", \"Meta\", \"recently\", \"Hand\", \"2.0\", \"to\", \"very\", \"\\ud83c\\udfb8\", \"MarkZuckerberg\", \"it\", \"faster\", \"and\", \"notes\", \"to\", \"make\", \"in\", \"more\", \"\\ud83e\\udd1f\\ud83d\\udc49https\", \"VRgame\", \"Metaverse\", \"//t.co/95gMkVO2DL\"], \"replyCount\": 6, \"retweetCount\": 7, \"likeCount\": 48, \"quoteCount\": 1, \"dateonly\": \"2022-04-20T00:00:00\"}, {\"score\": 0.4, \"date\": \"2022-04-20T14:00:01+00:00\", \"filtered\": [\"UnpluggedVR\", \"using\", \"tracking\", \"an\", \"sense\", \"VR\", \"guitar\", \"being\", \"of\", \"'s\", \"Tracking\", \"update\", \"a\", \"big\", \"To\", \"noted\", \"MarkZuckerberg\", \"the\", \"it\", \"to\", \"VRgame\", \"great\", \"//t.co/0ZZ2Rtj7wN\", \"//t.co/7xI7FsMlpI\"], \"replyCount\": 1, \"retweetCount\": 2, \"likeCount\": 12, \"quoteCount\": 0, \"dateonly\": \"2022-04-20T00:00:00\"}, {\"score\": 0.2, \"date\": \"2022-04-20T13:07:04+00:00\", \"filtered\": [\"to\", \"very\", \"version\", \"``\", \"on\", \"''\", \"by\", \"of\", \"Virtuosos\", \"Karl\", \"Have\", \"also\", \"a\", \"you\", \"to\", \"with\", \"?\", \"Tag\", \"in\", \"post\", \"link\", \"below\", \"vr\", \"takeonme\", \"cover\", \"virtuosovr\", \"quest2\", \"https\"], \"replyCount\": 0, \"retweetCount\": 0, \"likeCount\": 11, \"quoteCount\": 0, \"dateonly\": \"2022-04-20T00:00:00\"}, {\"score\": -0.125, \"date\": \"2022-04-20T13:06:06+00:00\", \"filtered\": [\"Quest\", \"now\", \"tuned\", \"detect\", \"crossed\", \"high-fives\", \"other\", \"https\"], \"replyCount\": 1, \"retweetCount\": 2, \"likeCount\": 5, \"quoteCount\": 0, \"dateonly\": \"2022-04-20T00:00:00\"}, {\"score\": 0.8, \"date\": \"2022-04-20T12:36:05+00:00\", \"filtered\": [\"Happy\", \"Get\", \"%\", \"on\", \"Mmemberville\", \"Tron\", \"BNB\", \"Hemp\", \"AftermathIsland\", \"https\"], \"replyCount\": 4, \"retweetCount\": 20, \"likeCount\": 29, \"quoteCount\": 1, \"dateonly\": \"2022-04-20T00:00:00\"}, {\"score\": 0.13636363636363635, \"date\": \"2022-04-20T12:13:09+00:00\", \"filtered\": [\"NEW\", \"\\ud83d\\ude0d\\ud83d\\ude80\\ud83d\\udea8LFG\", \"Mcap\\u2705\", \"ETH\", \"meta\", \"NFTGiveaway\", \"NFTCommunity\", \"JamesBrKing\", \"$\", \"SHIBTR\", \"shib\", \"0x076877073D287Ee8c10878B190d7166367899fdA\", \"//t.co/0vMLdc0a1S\"], \"replyCount\": 1, \"retweetCount\": 18, \"likeCount\": 31, \"quoteCount\": 6, \"dateonly\": \"2022-04-20T00:00:00\"}, {\"score\": -0.0375, \"date\": \"2022-04-20T11:35:56+00:00\", \"filtered\": [\"The\", \"mode\", \"apparently\", \"moving\", \"one\", \"covering\", \"other\", \"even\", \"your\", \"hands\", \"\\u2013\", \"which\", \"caused\", \"tracking\", \"temporarily\", \"''\", \"virtualreality\", \"data\", \"https\"], \"replyCount\": 0, \"retweetCount\": 4, \"likeCount\": 10, \"quoteCount\": 0, \"dateonly\": \"2022-04-20T00:00:00\"}, {\"score\": -0.4, \"date\": \"2022-04-20T11:10:12+00:00\", \"filtered\": [\"a\", \"away\", \"stream\", \"evening\", \"to\", \"get\", \"hands\", \"up\", \"game\", \"..\", \"\\ud83d\\udca3\", \"amp\", \"victory\", \"\\ud83c\\udfc6\", \"x\", \"\\ud83d\\udd25\", \"CoD\", \"WarzoneClips\", \"CallofDutyWarzone\", \"Xbox\", \"XboxSeriesX\", \"Gaming\", \"https\"], \"replyCount\": 2, \"retweetCount\": 2, \"likeCount\": 8, \"quoteCount\": 0, \"dateonly\": \"2022-04-20T00:00:00\"}, {\"score\": 0.8, \"date\": \"2022-04-20T11:08:03+00:00\", \"filtered\": [\"PsychonautApeD\", \"NFTCommunity\", \"ETH\", \"eth\", \"nftart\", \"meta\", \"Happy\", \"420\", \"https\"], \"replyCount\": 1, \"retweetCount\": 4, \"likeCount\": 15, \"quoteCount\": 2, \"dateonly\": \"2022-04-20T00:00:00\"}, {\"score\": 0.25, \"date\": \"2022-04-20T10:50:44+00:00\", \"filtered\": [\"League\", \"animation\", \"joinsuperleague\", \"among\", \"the\", \"first\", \"know\", \"the\", \"Metaverse\", \"NFT\", \"AR\", \"our\", \"https\", \"https\"], \"replyCount\": 0, \"retweetCount\": 2, \"likeCount\": 12, \"quoteCount\": 3, \"dateonly\": \"2022-04-20T00:00:00\"}, {\"score\": 0.024999999999999994, \"date\": \"2022-04-20T10:50:25+00:00\", \"filtered\": [\"Energy\", \"Tackled\", \"Green\", \"Partnership\", \"among\", \"first\", \"know\", \"the\", \"Metaverse\", \"NFT\", \"AR\", \"our\", \"https\", \"https\"], \"replyCount\": 0, \"retweetCount\": 0, \"likeCount\": 4, \"quoteCount\": 1, \"dateonly\": \"2022-04-20T00:00:00\"}, {\"score\": 0.25, \"date\": \"2022-04-20T10:50:11+00:00\", \"filtered\": [\"introduces\", \"AI\", \"veritoneinc\", \"among\", \"first\", \"know\", \"the\", \"Metaverse\", \"NFT\", \"AR\", \"our\", \"https\", \"https\"], \"replyCount\": 0, \"retweetCount\": 0, \"likeCount\": 3, \"quoteCount\": 1, \"dateonly\": \"2022-04-20T00:00:00\"}, {\"score\": 0.25, \"date\": \"2022-04-20T10:49:43+00:00\", \"filtered\": [\"a\", \"metaverse\", \"myUtopiaVR\", \"among\", \"first\", \"know\", \"the\", \"Metaverse\", \"NFT\", \"VR\", \"AR\", \"our\", \"https\", \"https\"], \"replyCount\": 0, \"retweetCount\": 0, \"likeCount\": 4, \"quoteCount\": 2, \"dateonly\": \"2022-04-20T00:00:00\"}, {\"score\": 0.25, \"date\": \"2022-04-20T10:49:24+00:00\", \"filtered\": [\"holds\", \"entertainment\", \"among\", \"first\", \"know\", \"the\", \"Metaverse\", \"NFT\", \"AR\", \"our\", \"https\", \"https\"], \"replyCount\": 0, \"retweetCount\": 0, \"likeCount\": 3, \"quoteCount\": 1, \"dateonly\": \"2022-04-20T00:00:00\"}, {\"score\": -0.03571428571428571, \"date\": \"2022-04-20T10:36:58+00:00\", \"filtered\": [\"of\", \"limited\", \"digital\", \"on\", \"soon\", \"NFTCommunity\", \"Meta\"], \"replyCount\": 0, \"retweetCount\": 1, \"likeCount\": 8, \"quoteCount\": 3, \"dateonly\": \"2022-04-20T00:00:00\"}, {\"score\": 0.25, \"date\": \"2022-04-20T09:42:50+00:00\", \"filtered\": [\"hot\", \"community\", \"in\", \"discord\", \"\\ud83e\\udd73\", \"you\", \"not\", \"there\", \"some\", \"join\", \"nft\", \"NFTCommunity\", \"NFTProject\", \"anubis\", \"cnftcollection\", \"https\", \"//t.co/xAAixSPnTR\"], \"replyCount\": 0, \"retweetCount\": 1, \"likeCount\": 6, \"quoteCount\": 1, \"dateonly\": \"2022-04-20T00:00:00\"}, {\"score\": 0.5, \"date\": \"2022-04-20T09:41:02+00:00\", \"filtered\": [\"Building\", \"building\", \"the\", \"'s\", \"3DNFT\", \"creators\", \"to\", \"maximise\", \"monetizing\", \"\\ud83d\\udcb2\", \"you\", \"to\", \"more\", \"\\ud83c\\udfa8\", \"?\", \"Bring\", \"friends\", \"metaverse\", \"NFT\", \"NFTs\", \"Web3\", \"Sketchfab\"], \"replyCount\": 1, \"retweetCount\": 3, \"likeCount\": 9, \"quoteCount\": 2, \"dateonly\": \"2022-04-20T00:00:00\"}, {\"score\": 0.5, \"date\": \"2022-04-20T09:30:01+00:00\", \"filtered\": [\"Are\", \"Top\", \"Technologies\", \"The\", \"?\", \"//t.co/aQ47lzVcV2\", \"meta\", \"tech\", \"AR\", \"blockchain\"], \"replyCount\": 1, \"retweetCount\": 6, \"likeCount\": 8, \"quoteCount\": 1, \"dateonly\": \"2022-04-20T00:00:00\"}, {\"score\": 0.3375, \"date\": \"2022-04-20T09:21:29+00:00\", \"filtered\": [\"//t.co/2tdwDZ1pW8\", \"What\", \"Great\", \"For\", \"https\", \"+\", \"other\", \"premium\", \"DomainForSale\", \"DomainBusiness\", \"Meta\", \"cryptocurrency\", \"futureofwork\", \"decentralized\", \"Fashion\", \"https\"], \"replyCount\": 1, \"retweetCount\": 1, \"likeCount\": 5, \"quoteCount\": 0, \"dateonly\": \"2022-04-20T00:00:00\"}, {\"score\": 0.13636363636363635, \"date\": \"2022-04-20T09:00:01+00:00\", \"filtered\": [\"you\", \"this\", \"with\", \"new\", \"integration\", \"?\", \"https\", \"Post\", \"picture\", \"your\", \"in\", \"comments\\ud83d\\udc47\\ud83d\\ude0e\", \"metaverse\", \"P2E\", \"HODL\", \"NFTGame\"], \"replyCount\": 10, \"retweetCount\": 11, \"likeCount\": 67, \"quoteCount\": 3, \"dateonly\": \"2022-04-20T00:00:00\"}, {\"score\": 0.6, \"date\": \"2022-04-20T08:44:30+00:00\", \"filtered\": [\"Updated\", \"Week\", \"thedapplist\", \"70\", \"more\", \"https\", \"Or\", \"the\", \"below\\ud83d\\udc47\", \"WISE\", \"NFT\", \"Meta\", \"GameFi\", \"https\"], \"replyCount\": 2, \"retweetCount\": 2, \"likeCount\": 33, \"quoteCount\": 0, \"dateonly\": \"2022-04-20T00:00:00\"}, {\"score\": 0.6000000000000001, \"date\": \"2022-04-20T07:32:17+00:00\", \"filtered\": [\"giving\", \"amazing\", \"..\", \"Control\", \"own\", \"meta\", \"gfatizaninete\", \"https\", \"nft\", \"nftProject\", \"https\"], \"replyCount\": 0, \"retweetCount\": 1, \"likeCount\": 5, \"quoteCount\": 3, \"dateonly\": \"2022-04-20T00:00:00\"}, {\"score\": 0.1515151515151515, \"date\": \"2022-04-20T07:30:00+00:00\", \"filtered\": [\"team\", \"researchers\", \"Meta\", \"and\", \"Labs\", \"has\", \"a\", \"new\", \"and\", \"realistic\", \"hair\", \"thousands\", \"of\", \"primitives\", \"//t.co/frHtXkCvx0\", \"meta\", \"3dart\", \"https\"], \"replyCount\": 1, \"retweetCount\": 51, \"likeCount\": 427, \"quoteCount\": 2, \"dateonly\": \"2022-04-20T00:00:00\"}, {\"score\": 0.04999999999999999, \"date\": \"2022-04-20T07:18:37+00:00\", \"filtered\": [\"//t.co/kFnzB0szES\", \"Metaverse\", \"'Juegos\", \"'Games\", \"the\", \"language\", \"industry\", \"for\", \"domain\", \"include\", \"Metaverse\", \"a\", \"VirtualReality\", \"amp\", \"AugmentedReality\", \"and\", \"more\", \"Game\", \"https\"], \"replyCount\": 0, \"retweetCount\": 2, \"likeCount\": 4, \"quoteCount\": 0, \"dateonly\": \"2022-04-20T00:00:00\"}, {\"score\": 0.6, \"date\": \"2022-04-20T07:07:54+00:00\", \"filtered\": [\"warm\", \"from\", \"ens\", \"1800flowers\", \"ens\", \"Metaverse\", \"ETH\", \"https\"], \"replyCount\": 0, \"retweetCount\": 1, \"likeCount\": 10, \"quoteCount\": 0, \"dateonly\": \"2022-04-20T00:00:00\"}, {\"score\": 0.13636363636363635, \"date\": \"2022-04-20T06:37:14+00:00\", \"filtered\": [\"Meta\", \"s\", \"ZUCK\", \"2\", \"users\", \"new\", \"speech\", \"is\", \"impartially\", \"should\", \"not\", \"be\", \"allowed\", \"promote\", \"against\", \"and\", \"against\", \"Israeli\", \"that\", \"been\", \"and\", \"them\", \"decades\", \"J\"], \"replyCount\": 0, \"retweetCount\": 2, \"likeCount\": 3, \"quoteCount\": 0, \"dateonly\": \"2022-04-20T00:00:00\"}, {\"score\": 0.13636363636363635, \"date\": \"2022-04-20T06:15:59+00:00\", \"filtered\": [\"you\", \"wear\", \"new\", \"\\ud83e\\udd1c\\ud83c\\udffb\\ud83e\\udd1b\\ud83c\\udffd\", \"Slay\\ud83d\\udd25\", \"\\u2022\", \"joeyvanryan\", \"jvr\", \"gummivibes\", \"designer\", \"athlesuire\", \"digitalart\", \"meta\", \"metaversefashion\", \"digitalcreators\", \"//t.co/7KnlUoSYIc\"], \"replyCount\": 0, \"retweetCount\": 0, \"likeCount\": 5, \"quoteCount\": 0, \"dateonly\": \"2022-04-20T00:00:00\"}, {\"score\": 0.5, \"date\": \"2022-04-20T06:04:35+00:00\", \"filtered\": [\"you\", \"more\", \"about\", \"Moduluc\", \"Check\", \"article\", \"our\", \"TITAN_TradingCA\", \"https\", \"nft\", \"MadeWithEnviro\", \"solnfts\", \"metaverse\", \"nft\", \"eth\"], \"replyCount\": 1, \"retweetCount\": 2, \"likeCount\": 10, \"quoteCount\": 2, \"dateonly\": \"2022-04-20T00:00:00\"}, {\"score\": 0.7, \"date\": \"2022-04-20T04:13:39+00:00\", \"filtered\": [\"known\", \"good\", \"Doing\", \"the\", \"he\", \"Something\", \"him\", \"Which\", \"one\", \"explain\", \"//t.co/YPEqF9kBWf\", \"hivtroop\", \"Metaverse\", \"MetaverseNFT\", \"HeavymetalInVerse\", \"Futureforward\", \"Meta\", \"//t.co/bfCq2EAsPa\"], \"replyCount\": 0, \"retweetCount\": 1, \"likeCount\": 5, \"quoteCount\": 0, \"dateonly\": \"2022-04-20T00:00:00\"}, {\"score\": 0.005681818181818177, \"date\": \"2022-04-20T04:00:00+00:00\", \"filtered\": [\"new\", \"will\", \"used\", \"research\", \"the\", \"of\", \"technology\", \"culture\", \"creativity\", \"other\", \"fields\", \"what\", \"you\", \"about\", \"in\", \"Nebulas\", \"Let\", \"s\", \"MetaNebulas\", \"SocialFi\", \"DeFi\", \"https\"], \"replyCount\": 1, \"retweetCount\": 0, \"likeCount\": 3, \"quoteCount\": 0, \"dateonly\": \"2022-04-20T00:00:00\"}, {\"score\": 0.13636363636363635, \"date\": \"2022-04-20T01:30:24+00:00\", \"filtered\": [\"NEW\", \"\\ud83d\\ude0d\\ud83d\\ude80\\ud83d\\udea8LFG\", \"Mcap\\u2705\", \"ETH\", \"meta\", \"NFTGiveaway\", \"NFTCommunity\", \"JamesBrKing\", \"$\", \"SHIBTR\", \"shib\", \"0x076877073D287Ee8c10878B190d7166367899fdA\", \"//t.co/xzFVH1bXEl\"], \"replyCount\": 5, \"retweetCount\": 17, \"likeCount\": 36, \"quoteCount\": 2, \"dateonly\": \"2022-04-20T00:00:00\"}, {\"score\": -0.4, \"date\": \"2022-04-20T01:21:26+00:00\", \"filtered\": [\"anyone\", \"If\", \"are\", \"in\", \"game\", \"our\", \"server\", \"you\", \"Bully\", \"we\", \"re\", \"in\", \"the\", \"Channel\", \"linkinbio\", \"Gameday\", \"meta\", \"Giveaway\"], \"replyCount\": 1, \"retweetCount\": 2, \"likeCount\": 4, \"quoteCount\": 0, \"dateonly\": \"2022-04-20T00:00:00\"}, {\"score\": 0.1, \"date\": \"2022-04-20T01:19:24+00:00\", \"filtered\": [\"users\", \"now\", \"donate\", \"fundraisers\", \"directly\", \"Reels\", \"announced\", \"feature\", \"a\", \"post\", \"updates\", \"to\", \"Meta\", \"s\", \"and\", \"in\", \"of\", \"Day\", \"week\", \"Meta\", \"TechisHiring\", \"tech\", \"//t.co/ySB6gUuNKf\"], \"replyCount\": 1, \"retweetCount\": 1, \"likeCount\": 3, \"quoteCount\": 0, \"dateonly\": \"2022-04-20T00:00:00\"}, {\"score\": 0.5, \"date\": \"2022-04-20T00:31:00+00:00\", \"filtered\": [\"known\", \"Liquid\", \"created\", \"triplesixjewels\", \"sure\", \"check\", \"his\", \"works\", \"opensea\", \"NFT\", \"NFTs\", \"Meta\", \"metaverse\", \"XR\", \"https\"], \"replyCount\": 1, \"retweetCount\": 0, \"likeCount\": 11, \"quoteCount\": 1, \"dateonly\": \"2022-04-20T00:00:00\"}, {\"score\": 0.21428571428571427, \"date\": \"2022-04-19T22:49:09+00:00\", \"filtered\": [\"\\u2019\", \"prepping\", \"panel\", \"How\", \"Can\", \"Smart\", \"into\", \"the\", \"Metaverse.\", \"Checking\", \"MesmeriseVR\", \"in\", \"meta\", \"VirtualReality\", \"//t.co/RsRz8mv2ix\"], \"replyCount\": 3, \"retweetCount\": 1, \"likeCount\": 7, \"quoteCount\": 0, \"dateonly\": \"2022-04-19T00:00:00\"}, {\"score\": -0.033333333333333326, \"date\": \"2022-04-19T22:16:50+00:00\", \"filtered\": [\"Ted\", \"\\u2019\", \"unsettlingly\", \"novel\", \"Easy\", \"to\", \"Planets\", \"(\", \")\", \"not\", \"ourselves\", \"in\", \"not\", \"our\", \"suffer\", \"\\u201c\", \"sickness\", \"nausea\", \"too\", \"information\", \"Instagram\", \"snapchat\", \"WhatsApp\", \"//t.co/gPiGL0EPCy\"], \"replyCount\": 1, \"retweetCount\": 1, \"likeCount\": 4, \"quoteCount\": 0, \"dateonly\": \"2022-04-19T00:00:00\"}, {\"score\": 0.13636363636363635, \"date\": \"2022-04-19T21:57:15+00:00\", \"filtered\": [\"new\", \"Name\", \"Meta\", \"Inc.\", \"If\", \"behave\", \"a\", \"you\", \"a\", \"\\ud83e\\udde0\", \"Mex\", \"Egld\", \"Ride\", \"cryptocurrency\", \"Meta\", \"Web3\"], \"replyCount\": 1, \"retweetCount\": 0, \"likeCount\": 17, \"quoteCount\": 0, \"dateonly\": \"2022-04-19T00:00:00\"}, {\"score\": 0.3333333333333333, \"date\": \"2022-04-19T21:55:46+00:00\", \"filtered\": [\"(\", \")\", \"better\", \"from\", \"of\", \"Just\", \"of\", \"all\", \"rated\", \"sell\", \"There\", \"not\", \"Meta\", \"revenue\", \"net\", \"has\", \"growing\", \"more\", \"than\", \"twitter\", \"FB\", \"TWTR\", \"economics\", \"https\"], \"replyCount\": 1, \"retweetCount\": 5, \"likeCount\": 38, \"quoteCount\": 0, \"dateonly\": \"2022-04-19T00:00:00\"}, {\"score\": 0.06818181818181818, \"date\": \"2022-04-19T21:55:46+00:00\", \"filtered\": [\"Nomads\", \"Content\", \"just\", \"new\", \"Global\", \"Tracking\", \"?\", \"?\", \"..\", \"tiktok\", \"meta\", \"twitter\", \"\\ud83d\\udc41\\ufe0f\\ud83d\\udc49\", \"Viral\", \"&\", \"amp\", \";\", \"in\", \"WORLDWIDE\", \"HappyHourArmy\", \"//t.co/dmVidES3ZP\"], \"replyCount\": 1, \"retweetCount\": 0, \"likeCount\": 3, \"quoteCount\": 0, \"dateonly\": \"2022-04-19T00:00:00\"}, {\"score\": -1.0, \"date\": \"2022-04-19T21:14:15+00:00\", \"filtered\": [\"close\", \"M4\", \"nasty\", \"cod\", \"solodub\", \"m4a1\", \"meta\", \"callofduty\", \"warzoneclips\", \"gamerdad\", \"//t.co/VCgTUJFr40\"], \"replyCount\": 1, \"retweetCount\": 0, \"likeCount\": 6, \"quoteCount\": 0, \"dateonly\": \"2022-04-19T00:00:00\"}, {\"score\": 0.5, \"date\": \"2022-04-19T20:10:00+00:00\", \"filtered\": [\"x\", \"Have\", \"seen\", \"'s\", \"?\", \"will\", \"more\", \"Metakeeper\", \"our\", \"and\", \"with\", \"friends\", \"Here\\ud83e\\udd18https\", \"-\", \"GameFi\", \"Meta\", \"beta\", \"Crypto\", \"BSCGEM\"], \"replyCount\": 4, \"retweetCount\": 0, \"likeCount\": 5, \"quoteCount\": 0, \"dateonly\": \"2022-04-19T00:00:00\"}, {\"score\": 0.3333333333333333, \"date\": \"2022-04-19T20:05:56+00:00\", \"filtered\": [\"//t.co/9MlBtkjdEp\\ud83c\\udccf\", \"Super\", \"Domain\", \"for\", \"Brand\", \"MetaverseCards\", \"MetaverseWorlds\", \"MetaverseGaming\", \"domainforsale\", \"Gaming\", \"MetaverseGameCards\", \"https\"], \"replyCount\": 0, \"retweetCount\": 2, \"likeCount\": 4, \"quoteCount\": 0, \"dateonly\": \"2022-04-19T00:00:00\"}, {\"score\": 0.6, \"date\": \"2022-04-19T19:46:58+00:00\", \"filtered\": [\"Deluxe\", \"Sold\", \"0.401\\u039e\", \"//t.co/mKs2qhJNnc\", \"NFTs\", \"Meta\", \"modernart\", \"https\"], \"replyCount\": 1, \"retweetCount\": 0, \"likeCount\": 4, \"quoteCount\": 1, \"dateonly\": \"2022-04-19T00:00:00\"}, {\"score\": 0.25, \"date\": \"2022-04-19T19:39:44+00:00\", \"filtered\": [\"//t.co/obHGJdMKYo\", \"aware\", \"scams\", \"Whitelist\", \"NFT\", \"nftcolletor\", \"meta\"], \"replyCount\": 0, \"retweetCount\": 0, \"likeCount\": 3, \"quoteCount\": 0, \"dateonly\": \"2022-04-19T00:00:00\"}, {\"score\": 0.5, \"date\": \"2022-04-19T19:35:30+00:00\", \"filtered\": [\"look\", \"to\", \"you\", \"'s\", \"tomorrow\", \"more\", \"nft\", \"NFTs\", \"nftart\", \"btc\", \"ETH\", \"meta\", \"OpenSeaNFT\", \"RFC\", \"https\"], \"replyCount\": 2, \"retweetCount\": 0, \"likeCount\": 8, \"quoteCount\": 2, \"dateonly\": \"2022-04-19T00:00:00\"}, {\"score\": 0.39999999999999997, \"date\": \"2022-04-19T19:04:03+00:00\", \"filtered\": [\"messaging\", \"with\", \"encryption\", \"gaining\", \"In\", \"own\", \"these\", \"Some\", \"are\", \"n't\", \"private\", \"they\", \"to\", \"and\", \"may\", \"too\", \"for\", \"own\", \"digitalart\", \"nft\", \"airdop\", \"DAPS\", \"//t.co/ywIN6Dc1e1\"], \"replyCount\": 2, \"retweetCount\": 1, \"likeCount\": 4, \"quoteCount\": 0, \"dateonly\": \"2022-04-19T00:00:00\"}, {\"score\": 0.2, \"date\": \"2022-04-19T19:00:35+00:00\", \"filtered\": [\"your\", \"ready\", \"the\", \"?\", \"is\", \"the\", \"of\", \"marketing\", \"beyond\", \"'s\", \"you\", \"to\", \"to\", \"via\", \"\\ud83d\\ude80\", \"alternative\", \"\\ud83d\\ude80\", \"\\ud83d\\ude80\", \"metaverse\", \"https\", \"https\"], \"replyCount\": 0, \"retweetCount\": 13, \"likeCount\": 20, \"quoteCount\": 0, \"dateonly\": \"2022-04-19T00:00:00\"}, {\"score\": 0.033333333333333326, \"date\": \"2022-04-19T18:56:22+00:00\", \"filtered\": [\"there\", \"Event\", \"amp\", \"stand\", \"chance\", \"make\", \"in\", \"the\", \"weekly\", \"for\", \"20\", \"users\", \"10th\", \"May\", \"\\ud83d\\udcb0\", \"pool\", \"1\\u20132\", \"Epic\", \"Top\", \"Random\", \"cards\", \"Info\", \"//t.co/Q5APMPwJo1\", \"Gaming\", \"DeFi\", \"https\"], \"replyCount\": 1, \"retweetCount\": 0, \"likeCount\": 30, \"quoteCount\": 0, \"dateonly\": \"2022-04-19T00:00:00\"}, {\"score\": 0.3, \"date\": \"2022-04-19T18:52:28+00:00\", \"filtered\": [\"8\", \"pixel\", \"drip\", \"rare\", \"Price:0.07\", \"//t.co/d3KiHf4OgF\", \"NFTs\", \"NFTCommunity\", \"NFTdrop\", \"OpenSeaNFT\", \"metaverse\", \"nftdrip\", \"https\", \"https\"], \"replyCount\": 6, \"retweetCount\": 3, \"likeCount\": 5, \"quoteCount\": 3, \"dateonly\": \"2022-04-19T00:00:00\"}, {\"score\": 0.1, \"date\": \"2022-04-19T18:50:12+00:00\", \"filtered\": [\"the\", \"to\", \"rocks\", \"future\", \"waiting\", \"it\", \"s\", \"promising\", \"Tuesday\", \"life\", \"family\", \"health\", \"mentalhealth\", \"meta\", \"NFTs\", \"https\"], \"replyCount\": 4, \"retweetCount\": 4, \"likeCount\": 7, \"quoteCount\": 0, \"dateonly\": \"2022-04-19T00:00:00\"}, {\"score\": 0.45000000000000007, \"date\": \"2022-04-19T18:21:41+00:00\", \"filtered\": [\"AR\", \"\\ud83c\\udf0f\", \"GO\", \"Niantic\", \"acquiring\", \"(\", \")\", \"Weber\", \"Wall\", \"create\", \"the\", \"accurate\", \"replica\", \"the\", \"''\", \"more\", \"our\", \"\\u27a1\\ufe0fhttps\", \"meta\", \"https\"], \"replyCount\": 0, \"retweetCount\": 4, \"likeCount\": 26, \"quoteCount\": 0, \"dateonly\": \"2022-04-19T00:00:00\"}, {\"score\": 0.39285714285714285, \"date\": \"2022-04-19T18:17:57+00:00\", \"filtered\": [\"We\", \"Facebook\", \"Instagram\", \"more\", \"by\", \"you\", \"to\", \"``\", \"text\", \"''\", \"can\", \"hunting\", \"promo\", \"right\", \"and\", \"nft\", \"exp\", \"Attention\", \"are\", \"a\", \"number\", \"activations\", \"event\", \"meta\", \"//t.co/M76nP1PCye\"], \"replyCount\": 0, \"retweetCount\": 2, \"likeCount\": 17, \"quoteCount\": 0, \"dateonly\": \"2022-04-19T00:00:00\"}, {\"score\": 0.25, \"date\": \"2022-04-19T18:00:21+00:00\", \"filtered\": [\"From\", \"born\", \"dust\", \"we\", \"'ll\", \"The\", \"in\", \"must\", \"meaningful\", \"for\", \"but\", \"countless\", \"come.\", \"-Abhijit\", \"QuimeraSA_\", \"//t.co/VRwi8ZM4vJ\", \"CryptoNews\", \"FTX\", \"NFTCollection\", \"NFTart\", \"https\"], \"replyCount\": 3, \"retweetCount\": 2, \"likeCount\": 11, \"quoteCount\": 1, \"dateonly\": \"2022-04-19T00:00:00\"}, {\"score\": 0.375, \"date\": \"2022-04-19T17:48:22+00:00\", \"filtered\": [\"Unique\", \"\\u2764\\ufe0f\\u200d\\ud83d\\udd25\", \"\\ud83d\\udc9c\", \"One\", \"The\", \"Owners\", \"0.05\", \"ETH\", \"Each\", \"at\", \"Check\", \"Collection\", \"\\u2b07\\ufe0f\", \"//t.co/Yq4yK1X8eo\", \"//t.co/Fla9ovguJB\", \"NFTcollection\", \"Meta\", \"opensea\", \"cro\", \"https\", \"//t.co/lH2W8J2DPj\"], \"replyCount\": 5, \"retweetCount\": 0, \"likeCount\": 6, \"quoteCount\": 2, \"dateonly\": \"2022-04-19T00:00:00\"}, {\"score\": 0.25, \"date\": \"2022-04-19T17:38:02+00:00\", \"filtered\": [\"\\u2019\", \"betting\", \"on\", \"even\", \"stores\", \"to\", \"to\", \"Shop\", \"Karanjassar\", \"andrewfoxwell\", \"exactly\", \"data\", \"has\", \"iOS14\", \"and\", \"Shops\", \"help\", \"with\", \"this\", \"//t.co/d3KXvR1naq\", \"1/n\"], \"replyCount\": 1, \"retweetCount\": 2, \"likeCount\": 8, \"quoteCount\": 2, \"dateonly\": \"2022-04-19T00:00:00\"}, {\"score\": 0.25, \"date\": \"2022-04-19T17:33:57+00:00\", \"filtered\": [\"'Mute\", \"on\", \"calls\", \"what\", \"think\", \"DuckDuckGo\", \"a\", \"Mac\", \"Meta\", \"plans\", \"release\", \"first\", \"glasses\", \"2024\", \"account\", \"are\", \"biggest\", \"concern\", \"//t.co/7Ba7my3czp\", \"News\", \"Security\"], \"replyCount\": 0, \"retweetCount\": 2, \"likeCount\": 3, \"quoteCount\": 0, \"dateonly\": \"2022-04-19T00:00:00\"}, {\"score\": -0.13333333333333333, \"date\": \"2022-04-19T17:21:09+00:00\", \"filtered\": [\"create\", \"different\", \"projects\", \"metaverse\", \"\\u2019\", \"going\", \"create\", \"world\", \"for\", \"You\", \"enter\", \"game\", \"the\", \"world\", \"create\", \"following\", \"us\", \"nfts\", \"meta\", \"nftcollectors\", \"nftdrop\", \"metaverse\"], \"replyCount\": 2, \"retweetCount\": 0, \"likeCount\": 5, \"quoteCount\": 5, \"dateonly\": \"2022-04-19T00:00:00\"}, {\"score\": -0.3125, \"date\": \"2022-04-19T17:17:46+00:00\", \"filtered\": [\"could\", \"mean\", \"Apartheid\", \"MarkZuckerberg\", \"//t.co/A6PtQqt3oG\"], \"replyCount\": 0, \"retweetCount\": 0, \"likeCount\": 10, \"quoteCount\": 0, \"dateonly\": \"2022-04-19T00:00:00\"}, {\"score\": 0.4, \"date\": \"2022-04-19T17:13:59+00:00\", \"filtered\": [\"//t.co/pKw3DBGaMY\", \"available\", \"dao\", \"web3\", \"meta\", \"https\"], \"replyCount\": 0, \"retweetCount\": 1, \"likeCount\": 4, \"quoteCount\": 1, \"dateonly\": \"2022-04-19T00:00:00\"}, {\"score\": 0.4681818181818182, \"date\": \"2022-04-19T17:06:27+00:00\", \"filtered\": [\"doesn\", \"t\", \"being\", \"?\", \"We\", \"happy\", \"announce\", \"new\", \"event\", \"a\", \"to\", \"your\", \"$\", \"and\", \"$\", \"\\u200band\", \"one\", \"of\", \"the\", \"to\", \"the\", \"city\", \"+\", \"\\ud83d\\udd14Follow\", \"Tag\", \"Friends\", \"amp\", \"BSC\", \"nft\", \"Web3\", \"Meta\", \"//t.co/B1rgpNXb6J\"], \"replyCount\": 2, \"retweetCount\": 3, \"likeCount\": 4, \"quoteCount\": 4, \"dateonly\": \"2022-04-19T00:00:00\"}, {\"score\": 0.25, \"date\": \"2022-04-19T16:43:22+00:00\", \"filtered\": [\"FB\", \"a\", \"here\", \"Weekly\", \"trend\", \"a\", \"reversion\", \"can\", \"valuation\", \"appealing\", \"chart\", \"solid\", \"a\", \"TimeAtMode\", \"KeyHiddenLevels\", \"Meta\", \"//t.co/Ko3hSTCoyu\"], \"replyCount\": 1, \"retweetCount\": 0, \"likeCount\": 3, \"quoteCount\": 0, \"dateonly\": \"2022-04-19T00:00:00\"}, {\"score\": 0.3666666666666667, \"date\": \"2022-04-19T16:42:13+00:00\", \"filtered\": [\"you\", \"golfer\", \"a\", \"fan\", \"Check\", \"BearTigerClub\", \"most\", \"country\", \"to\", \"out\", \"from\", \"own\", \"Big\", \"to\", \"NFTCommunity\", \"NFTsales\", \"Meta\", \"//t.co/qHT2S0M950\"], \"replyCount\": 0, \"retweetCount\": 1, \"likeCount\": 5, \"quoteCount\": 1, \"dateonly\": \"2022-04-19T00:00:00\"}, {\"score\": 0.6, \"date\": \"2022-04-19T16:40:43+00:00\", \"filtered\": [\"Domain\", \"For\", \"https\", \"Lease\", \"own\", \"make\", \"offer\", \"Undeveloped\", \"Metaverse\", \"MetaUFO\", \"MetaverseNFT\", \"metaelites\", \"DAO\", \"NFTs\", \"business\", \"https\"], \"replyCount\": 4, \"retweetCount\": 0, \"likeCount\": 3, \"quoteCount\": 2, \"dateonly\": \"2022-04-19T00:00:00\"}, {\"score\": 0.275, \"date\": \"2022-04-19T16:34:19+00:00\", \"filtered\": [\"thinking\", \"was\", \"'s\", \"%\", \"announcement\", \"way\", \"advertise\", \"?\", \"way\", \"have\", \"free\", \"wherever\", \"like\", \"or\", \"now\", \"all\", \"about\", \"Will\", \"now\", \"their\", \"to\", \"a\", \"normal\", \"?\", \"metaverse\", \"nft\"], \"replyCount\": 0, \"retweetCount\": 1, \"likeCount\": 4, \"quoteCount\": 0, \"dateonly\": \"2022-04-19T00:00:00\"}, {\"score\": 0.5, \"date\": \"2022-04-19T16:28:33+00:00\", \"filtered\": [\"nameliquidate\", \"the\", \"time\", \"me\", \"Many\", \"Meta\", \"for\", \"EpikDotCom\", \"the\", \"below\", \"participate\", \"the\", \"if\", \"you\", \"like\", \"name\", \"//t.co/vS2rtjYBW1\"], \"replyCount\": 2, \"retweetCount\": 4, \"likeCount\": 6, \"quoteCount\": 0, \"dateonly\": \"2022-04-19T00:00:00\"}, {\"score\": -0.02121212121212122, \"date\": \"2022-04-19T16:00:13+00:00\", \"filtered\": [\"4\", \"new\", \"collectibles\", \"just\", \"in\", \"'s\", \"Visit\", \"//t.co/RKK2F0xTQ9\", \"buy\", \"self\", \"rare\", \"collectible\", \"\\ud83d\\udccd\", \"//t.co/NuIw1K8U59\", \"NFTmarketplace\", \"ecommerce\", \"virtualworld\", \"//t.co/Q8OyWorJ3W\"], \"replyCount\": 1, \"retweetCount\": 3, \"likeCount\": 8, \"quoteCount\": 2, \"dateonly\": \"2022-04-19T00:00:00\"}, {\"score\": 0.21428571428571427, \"date\": \"2022-04-19T15:50:18+00:00\", \"filtered\": [\"97\", \"Like\", \"pure\", \"practical\", \"\\u2013\", \"S.\", \"cat\", \"cats\", \"NFT\", \"metaverse\", \"web3\", \"//t.co/5wGMN5GnRK\", \"//t.co/wxmwrVjGj7\"], \"replyCount\": 2, \"retweetCount\": 0, \"likeCount\": 3, \"quoteCount\": 2, \"dateonly\": \"2022-04-19T00:00:00\"}, {\"score\": -0.6, \"date\": \"2022-04-19T15:32:50+00:00\", \"filtered\": [\"is\", \"over\", \"fucking\", \"enviro\", \"NFTCommunity\", \"MagicEden\", \"Meta\", \"//t.co/ObeRkE2biE\"], \"replyCount\": 1, \"retweetCount\": 0, \"likeCount\": 7, \"quoteCount\": 5, \"dateonly\": \"2022-04-19T00:00:00\"}, {\"score\": 0.10416666666666666, \"date\": \"2022-04-19T14:52:50+00:00\", \"filtered\": [\"gamefi\", \"Top\", \"in\", \"books\", \"Immutable\", \"could\", \"hard\", \"everything\", \"out\"], \"replyCount\": 0, \"retweetCount\": 0, \"likeCount\": 5, \"quoteCount\": 0, \"dateonly\": \"2022-04-19T00:00:00\"}, {\"score\": 0.2, \"date\": \"2022-04-19T14:17:12+00:00\", \"filtered\": [\"sunshine\", \"Dublin\", \"be\", \"but\", \"\\u2019\", \"harder\", \"to\", \"beat\", \"number\", \"employers\", \"call\", \"home\", \"Meta\", \"and\", \"are\", \"a\", \"you\", \"find\", \"Grand\", \"Dock\", \"WeAreDCU\", \"//t.co/PbMJBAZp1z\"], \"replyCount\": 0, \"retweetCount\": 1, \"likeCount\": 4, \"quoteCount\": 0, \"dateonly\": \"2022-04-19T00:00:00\"}, {\"score\": 0.39999999999999997, \"date\": \"2022-04-19T14:15:25+00:00\", \"filtered\": [\"FPS\", \"FPS\", \"for\", \"of\", \"year\", \"of\", \"early\", \"lost\", \"and\", \"off\", \"But\", \"everyone\", \"is\", \"on\", \"mode\", \"to\", \"those\", \"held\", \"We\", \"not\", \"in\", \"FPS\", \"it\", \"s\", \"a\", \"good\", \"of\", \"patience\", \"META\", \"https\"], \"replyCount\": 14, \"retweetCount\": 23, \"likeCount\": 48, \"quoteCount\": 1, \"dateonly\": \"2022-04-19T00:00:00\"}, {\"score\": -0.13181818181818183, \"date\": \"2022-04-19T14:10:00+00:00\", \"filtered\": [\"x\", \"New\", \"game\", \"BSC\", \"'s\", \"video\", \"do\", \"forget\", \"click\", \"and\", \"with\", \"firends\\ud83d\\udc97\", \"Watch\", \"Here\\ud83e\\udd18https\", \"-\", \"P2E\", \"NFTGame\", \"Meta\", \"token\", \"KOL\"], \"replyCount\": 2, \"retweetCount\": 0, \"likeCount\": 4, \"quoteCount\": 0, \"dateonly\": \"2022-04-19T00:00:00\"}, {\"score\": -0.125, \"date\": \"2022-04-19T14:06:38+00:00\", \"filtered\": [\"MANA\", \"MANA\", \"quite\", \"make\", \"move\", \"$\", \"Other\", \"prob\", \"$\", \"$\", \"etc\", \"always\", \"an\", \"on\", \"META\", \"projects\", \"You\", \"know\", \"they\", \"going\", \"to\", \"explode\", \"https\", \"https\"], \"replyCount\": 1, \"retweetCount\": 1, \"likeCount\": 8, \"quoteCount\": 0, \"dateonly\": \"2022-04-19T00:00:00\"}, {\"score\": 0.4, \"date\": \"2022-04-19T13:25:28+00:00\", \"filtered\": [\"\\u2026\", \"does\", \"4/20\", \"sound\", \"?\", \"NFT\", \"Meta\", \"Alpha\", \"Agriculture\", \"NFtsForGood\", \"Polygon\", \"Ethereum\", \"//t.co/XlDp6mhQJM\"], \"replyCount\": 1, \"retweetCount\": 3, \"likeCount\": 11, \"quoteCount\": 1, \"dateonly\": \"2022-04-19T00:00:00\"}, {\"score\": -0.2, \"date\": \"2022-04-19T13:15:34+00:00\", \"filtered\": [\"YA\", \"OVER\", \"\\ud83d\\udc4f\\ud83c\\udffd\", \"sneak\", \"is\", \"for\", \"\\ud83e\\udd72\\ud83e\\udd8d\", \"land\", \"secured\", \"the\", \"..\", \"is\", \"and\", \"y\", \"all\", \"\\u2019\", \"wan\", \"miss\", \"\\ud83e\\udd72\", \"DAO\", \"NFTProject\", \"Solana\", \"Airdrop\", \"sxl\", \"daos\", \"meta\", \"//t.co/IP87aqDBXg\"], \"replyCount\": 1, \"retweetCount\": 0, \"likeCount\": 4, \"quoteCount\": 1, \"dateonly\": \"2022-04-19T00:00:00\"}, {\"score\": 0.4, \"date\": \"2022-04-19T13:00:00+00:00\", \"filtered\": [\"is\", \"Virtuosovr\", \"\\ud83c\\udfb9\\ud83e\\udd14\", \"'s\", \"inside\", \"Oorgan\", \"your\", \"pianist\", \"by\", \"the\", \"sound\", \"this\", \"by\", \"\\ud83d\\ude0d\\ud83c\\udfb6\\u2728\", \"//t.co/LlVr0uw9B0\\u2b05\\ufe0f\", \"music\", \"piano\", \"meta\", \"steamvr\", \"//t.co/pM6LdshBBE\"], \"replyCount\": 0, \"retweetCount\": 5, \"likeCount\": 12, \"quoteCount\": 0, \"dateonly\": \"2022-04-19T00:00:00\"}, {\"score\": 0.4, \"date\": \"2022-04-19T12:40:00+00:00\", \"filtered\": [\"\\ud83e\\udddf\\u200d\\u2642\\ufe0f\", \"\\u2019\", \"ready\", \"jump\", \"our\", \"with\", \"own\", \"ZSC\", \"NFT\", \"\\u201c\", \"Unveil\", \"-\", \"\\u23f0\\ud83d\\udea7\", \"NFTS\", \"META\", \"//t.co/pJt2WuLTuu\"], \"replyCount\": 4, \"retweetCount\": 11, \"likeCount\": 18, \"quoteCount\": 3, \"dateonly\": \"2022-04-19T00:00:00\"}, {\"score\": 0.225, \"date\": \"2022-04-19T12:07:47+00:00\", \"filtered\": [\"days\", \"go\", \"the\", \"We\", \"very\", \"to\", \"look\", \"to\", \"insightful\", \"We\", \"pretty\", \"Are\", \"you\", \"?\", \"digitalart\", \"10DaysToGo\", \"NFTA\", \"nftmyers\", \"meta\", \"cybersecurity\", \"https\"], \"replyCount\": 0, \"retweetCount\": 0, \"likeCount\": 5, \"quoteCount\": 0, \"dateonly\": \"2022-04-19T00:00:00\"}, {\"score\": 0.7, \"date\": \"2022-04-19T11:50:28+00:00\", \"filtered\": [\"'re\", \"and\", \"hope\", \"had\", \"good\", \"Check\", \"what\", \"been\", \"world\", \"Web3\", \"us\", \"what\", \"think\", \"in\", \"the\", \"below\", \"nft\", \"metaverse\", \"artist\", \"meta\", \"nftcollector\", \"crypto\", \"https\"], \"replyCount\": 2, \"retweetCount\": 0, \"likeCount\": 12, \"quoteCount\": 3, \"dateonly\": \"2022-04-19T00:00:00\"}, {\"score\": 1.0, \"date\": \"2022-04-19T11:44:13+00:00\", \"filtered\": [\"is\", \"perfect\", \"to\", \"in\", \"metaverse\", \"it\", \"explodes\\ud83d\\udcc8\\ud83d\\udca5\", \"Metaverse\", \"$\", \"$\", \"$\", \"$\"], \"replyCount\": 2, \"retweetCount\": 1, \"likeCount\": 4, \"quoteCount\": 0, \"dateonly\": \"2022-04-19T00:00:00\"}, {\"score\": 0.3333333333333333, \"date\": \"2022-04-19T11:03:51+00:00\", \"filtered\": [\"plans\", \"launch\", \"pilot\", \"posting\", \"sharing\", \"in\", \"This\", \"be\", \"quickly\", \"\\u201d\", \"testing\", \"feature\", \"will\", \"membership\", \"Facebook\", \"based\", \"on\", \"and\", \"(\", \"term\", \"for\", \"creating\", \")\", \"NFT\", \"meta\", \"https\"], \"replyCount\": 1, \"retweetCount\": 0, \"likeCount\": 3, \"quoteCount\": 1, \"dateonly\": \"2022-04-19T00:00:00\"}, {\"score\": 0.25, \"date\": \"2022-04-19T11:01:11+00:00\", \"filtered\": [\"gameplay\", \"Facedance\", \"quite\", \"select\", \"favorite\", \"and\", \"imitating\", \"facial\", \"icons\", \"appear\", \"the\", \"\\ud83c\\udfbcLet\", \"hair\", \"&\", \";\", \"the\", \"with\", \"Musik\", \"Meta\", \"V2E\", \"View2earn\", \"https\"], \"replyCount\": 56, \"retweetCount\": 20, \"likeCount\": 23, \"quoteCount\": 0, \"dateonly\": \"2022-04-19T00:00:00\"}, {\"score\": 0.3, \"date\": \"2022-04-19T10:15:52+00:00\", \"filtered\": [\"it\", \"free\", \"cost\", \"you\", \"ll\", \"be\", \"owning\", \"estate\", \"a\", \"developed\", \"Unreal\", \"5\", \"free\", \"\\u2019\", \"grow\", \"WAGMI\", \"META\", \"ADA\", \"SOL\"], \"replyCount\": 0, \"retweetCount\": 2, \"likeCount\": 10, \"quoteCount\": 0, \"dateonly\": \"2022-04-19T00:00:00\"}, {\"score\": 0.16, \"date\": \"2022-04-19T09:35:48+00:00\", \"filtered\": [\"morning\", \"high\", \"highstreet\", \"Metaverse\", \"//t.co/1gnGCv3HrD\"], \"replyCount\": 0, \"retweetCount\": 2, \"likeCount\": 7, \"quoteCount\": 0, \"dateonly\": \"2022-04-19T00:00:00\"}, {\"score\": 0.25, \"date\": \"2022-04-19T09:25:16+00:00\", \"filtered\": [\"Regular\", \"Make\", \"First\", \"Pot\", \"Gold\", \"with\", \"NFTs\", \"Fantabulous\", \"FANTARIANS-2-BE\\ud83d\\ude0d\", \"out\", \"latest\", \"article\", \"https\", \"\\ud83d\\udc4b\", \"and\", \"it\", \"Play2Earn\", \"NFTgame\", \"BinanceNFT\"], \"replyCount\": 4, \"retweetCount\": 2, \"likeCount\": 4, \"quoteCount\": 0, \"dateonly\": \"2022-04-19T00:00:00\"}, {\"score\": 0.5, \"date\": \"2022-04-19T08:45:44+00:00\", \"filtered\": [\"collaborates\", \"Activision\", \"a\", \"on\", \"and\", \"more\", \"https\", \"Hyundai\", \"Meta\", \"poll\", \"Metaverse\", \"Twitter\"], \"replyCount\": 0, \"retweetCount\": 1, \"likeCount\": 12, \"quoteCount\": 2, \"dateonly\": \"2022-04-19T00:00:00\"}, {\"score\": -0.05, \"date\": \"2022-04-19T08:44:57+00:00\", \"filtered\": [\"fandoms\", \"their\", \"names\", \"themselves\", \"bears\", \"for\", \"since\", \"of\", \"might\", \"to\", \"these\", \"Here\", \"s\", \"long\", \"of\", \"I\", \"some\", \"\\ud83d\\ude0e\", \"ens\", \"Metaverse\", \"ETH\", \"https\", \"//t.co/m2YgkyIG03\"], \"replyCount\": 17, \"retweetCount\": 7, \"likeCount\": 40, \"quoteCount\": 1, \"dateonly\": \"2022-04-19T00:00:00\"}, {\"score\": 0.16818181818181818, \"date\": \"2022-04-19T08:16:34+00:00\", \"filtered\": [\"today\", \"created\", \"new\", \"Collection\", \"number\", \"ready\", \"Metaverse\", \"Follow\", \"evolution\", \"development\", \"David\", \"Proofs\", \"of\", \"creation\", \"NFTCollection\", \"NFTs\", \"Meta\", \"rarible\", \"https\", \"//t.co/99qdirlDE7\"], \"replyCount\": 2, \"retweetCount\": 0, \"likeCount\": 4, \"quoteCount\": 1, \"dateonly\": \"2022-04-19T00:00:00\"}, {\"score\": 0.21666666666666667, \"date\": \"2022-04-19T08:01:28+00:00\", \"filtered\": [\"Modern\", \"collection\", \"1\", \"its\", \"Mac\", \"are\", \"first\", \"of\", \"modern\", \"collection\", \"META\", \"//t.co/YmxvtzuOSp\"], \"replyCount\": 3, \"retweetCount\": 0, \"likeCount\": 3, \"quoteCount\": 0, \"dateonly\": \"2022-04-19T00:00:00\"}, {\"score\": 0.13636363636363635, \"date\": \"2022-04-19T07:59:26+00:00\", \"filtered\": [\"continue\", \"work\", \"of\", \"NFTs\", \"the\", \"network\", \"We\", \"forward\", \"announcing\", \"the\", \"new\", \"within\", \"week\", \"nft\", \"bsc\", \"meta\", \"mefa\", \"mefaverse\", \"//t.co/NFzVswybcg\"], \"replyCount\": 15, \"retweetCount\": 15, \"likeCount\": 29, \"quoteCount\": 2, \"dateonly\": \"2022-04-19T00:00:00\"}, {\"score\": 0.13636363636363635, \"date\": \"2022-04-19T07:48:11+00:00\", \"filtered\": [\"//t.co/IaGYSNf19g\", \"continue\", \"work\", \"of\", \"NFTs\", \"the\", \"network\", \"We\", \"forward\", \"announcing\", \"the\", \"new\", \"within\", \"week\", \"nft\", \"bsc\", \"meta\", \"mefa\", \"mefaverse\", \"//t.co/Pru0Oc8UWg\"], \"replyCount\": 9, \"retweetCount\": 15, \"likeCount\": 25, \"quoteCount\": 2, \"dateonly\": \"2022-04-19T00:00:00\"}, {\"score\": 0.03333333333333333, \"date\": \"2022-04-19T07:21:44+00:00\", \"filtered\": [\"Quiz\", \"social\", \"platform\", \"its\", \"to\", \"NFTs\", \"a\", \"?\", \"Quiz\", \"Facebook\", \"SnapChat\"], \"replyCount\": 6, \"retweetCount\": 40, \"likeCount\": 48, \"quoteCount\": 0, \"dateonly\": \"2022-04-19T00:00:00\"}, {\"score\": 0.5, \"date\": \"2022-04-19T06:48:57+00:00\", \"filtered\": [\"rolled\", \"to\", \"products\", \"feed\", \"to\", \"in\", \"the\", \"US\", \"more\", \"the\", \"feature\", \"https\", \"instagram\", \"Instagram\", \"US\", \"SocialMedia\"], \"replyCount\": 0, \"retweetCount\": 1, \"likeCount\": 3, \"quoteCount\": 0, \"dateonly\": \"2022-04-19T00:00:00\"}, {\"score\": 0.2916666666666667, \"date\": \"2022-04-19T06:40:22+00:00\", \"filtered\": [\"original\", \"paper\", \"ONLY\", \"Interoperability\", \"more\", \"forward\", \"icon\", \"is\", \"the\", \"to\", \"a\", \"chain\", \"Tackling\", \"defi\", \"evm\", \"Interoperability\", \"and\", \"more\\ud83d\\udd25\", \"$\", \"btc\", \"nft\", \"ada\", \"bsc\"], \"replyCount\": 3, \"retweetCount\": 11, \"likeCount\": 63, \"quoteCount\": 1, \"dateonly\": \"2022-04-19T00:00:00\"}, {\"score\": 0.13636363636363635, \"date\": \"2022-04-19T06:03:46+00:00\", \"filtered\": [\"continue\", \"work\", \"of\", \"NFTs\", \"the\", \"network\", \"We\", \"forward\", \"announcing\", \"the\", \"new\", \"within\", \"week\", \"nft\", \"bsc\", \"meta\", \"mefa\", \"mefaverse\"], \"replyCount\": 148, \"retweetCount\": 168, \"likeCount\": 395, \"quoteCount\": 13, \"dateonly\": \"2022-04-19T00:00:00\"}, {\"score\": -0.4, \"date\": \"2022-04-19T05:40:57+00:00\", \"filtered\": [\"22\", \"asking\", \"out\", \"e-meet\", \"If\", \"living\", \"let\", \"\\u2019\", \"the\", \"who\", \"it\", \"\\u2019\", \"s\", \"create\", \"a\", \"real-life\", \"game\", \"nfts\", \"nftcollector\", \"nftproject\", \"nftcommunity\", \"Elonmusk\"], \"replyCount\": 1, \"retweetCount\": 0, \"likeCount\": 3, \"quoteCount\": 1, \"dateonly\": \"2022-04-19T00:00:00\"}, {\"score\": 0.1, \"date\": \"2022-04-19T05:29:44+00:00\", \"filtered\": [\"Sandbox\", \"Collaborate\", \"Accelerate\", \"in\", \"https\", \"crypto\", \"news\", \"binance\", \"shiba\", \"near\", \"egold\", \"dot\", \"russia\", \"blockchain\", \"meta\", \"nftcommunity\"], \"replyCount\": 2, \"retweetCount\": 0, \"likeCount\": 4, \"quoteCount\": 1, \"dateonly\": \"2022-04-19T00:00:00\"}, {\"score\": 0.4, \"date\": \"2022-04-19T05:12:07+00:00\", \"filtered\": [\"Steps\", \"claim\", \"FREE\", \"NFT\", \")\", \"&\", \";\", \"3\", \")\", \"drop\", \"davecotefilm\", \"a\", \"with\", \"wallet\", \"..\", \"your\", \"satellite\", \"DaveCoteFilm\", \"20009\", \"//t.co/fOmLGwQwcM\", \"nfts\", \"nftCommunity\", \"//t.co/QXvQPXIeAs\"], \"replyCount\": 2, \"retweetCount\": 0, \"likeCount\": 9, \"quoteCount\": 8, \"dateonly\": \"2022-04-19T00:00:00\"}, {\"score\": 0.4, \"date\": \"2022-04-19T05:09:28+00:00\", \"filtered\": [\"Steps\", \"claim\", \"FREE\", \"NFT\", \")\", \"&\", \";\", \"3\", \")\", \"drop\", \"davecotefilm\", \"a\", \"with\", \"wallet\", \"..\", \"your\", \"satellite\", \"DaveCoteFilm\", \"20009\", \"//t.co/zT4e5M1zJe\", \"nfts\", \"nftCommunity\", \"//t.co/v66aiObss8\"], \"replyCount\": 1, \"retweetCount\": 1, \"likeCount\": 5, \"quoteCount\": 4, \"dateonly\": \"2022-04-19T00:00:00\"}, {\"score\": 0.5, \"date\": \"2022-04-19T04:00:23+00:00\", \"filtered\": [\"'re\", \"a\", \"creators\", \"you\", \"to\", \"NFT\", \"Get\", \"the\", \"community\", \"to\", \"learn\", \"more\", \"\\u27a1\\ufe0f\", \"//t.co/I90ZL5Drns\", \"nftcreators\", \"meta\", \"https\"], \"replyCount\": 1, \"retweetCount\": 1, \"likeCount\": 3, \"quoteCount\": 0, \"dateonly\": \"2022-04-19T00:00:00\"}, {\"score\": 0.17857142857142858, \"date\": \"2022-04-19T03:03:58+00:00\", \"filtered\": [\"SPECIAL\", \"BURN\", \"All\", \"buys\", \"with\", \"burn\", \"will\", \"be\", \"X2\", \"the\", \"on\", \"STARTING\", \"\\u2764\\ufe0f\\u200d\\ud83d\\udd25\\u2764\\ufe0f\\u200d\\ud83d\\udd25\\u2764\\ufe0f\\u200d\\ud83d\\udd25\", \"our\", \"here\", \"//t.co/YZ2aZ6COdP\", \"Metaverse\", \"Meta\", \"MetaInu\", \"https\", \"//t.co/JTzvzyzbgJ\"], \"replyCount\": 13, \"retweetCount\": 17, \"likeCount\": 29, \"quoteCount\": 2, \"dateonly\": \"2022-04-19T00:00:00\"}, {\"score\": 0.6, \"date\": \"2022-04-19T03:02:57+00:00\", \"filtered\": [\"Deluxe\", \"Sold\", \"0.69\\u039e\", \"//t.co/4Cou6qUGu6\", \"NFTs\", \"artgallery\", \"VirtualWorlds\", \"//t.co/hso3Fgdy9s\"], \"replyCount\": 1, \"retweetCount\": 1, \"likeCount\": 8, \"quoteCount\": 0, \"dateonly\": \"2022-04-19T00:00:00\"}, {\"score\": 0.23611111111111108, \"date\": \"2022-04-19T02:27:46+00:00\", \"filtered\": [\"take\", \"moment\", \"METAFAM\", \"Can\", \"we\", \"thank\", \"4\", \"hard\", \"?\", \"guy\", \"busting\", \"great\", \"APPRECIATE\", \"VERY\", \"Homie\", \"R\", \"others\", \"&\", \"amp\", \";\", \"U\", \"B\", \"soon\", \"\\u23f0\\ud83d\\udd25\\ud83e\\ude73\\ud83d\\udd25\\u23f0\", \"\\ud83e\\udd8b\\ud83e\\udd8b\", \"META\", \"MMAT\", \"MMAX\", \"MMTLP\", \"//t.co/N6CB6ZWc54\", \"//t.co/I3MZHxOr5p\"], \"replyCount\": 1, \"retweetCount\": 2, \"likeCount\": 12, \"quoteCount\": 0, \"dateonly\": \"2022-04-19T00:00:00\"}, {\"score\": 0.03333333333333333, \"date\": \"2022-04-19T00:00:00+00:00\", \"filtered\": [\"with\", \"Israel\", \"''\", \"wave\", \"raids\", \"AlAqsa\", \"pro-\", \"activists\", \"been\", \"it\", \"to\", \"Israeli\", \"against\", \"without\", \"censored\", \"removed\", \"social\", \"platforms\", \"https\"], \"replyCount\": 0, \"retweetCount\": 13, \"likeCount\": 20, \"quoteCount\": 0, \"dateonly\": \"2022-04-19T00:00:00\"}, {\"score\": 0.3, \"date\": \"2022-04-18T23:41:29+00:00\", \"filtered\": [\"?\", \"'re\", \"for\", \"VR\", \"?\", \"'ve\", \"20\", \"of\", \"action\", \"combat\", \"more\", \"jokes\", \"you\", \"shake\", \"sticks\", \"VR\", \"Meta\", \"Pico\", \"Qiyu\", \"IndieDev\", \"//t.co/xX6HQL6FFn\"], \"replyCount\": 8, \"retweetCount\": 12, \"likeCount\": 31, \"quoteCount\": 1, \"dateonly\": \"2022-04-18T00:00:00\"}, {\"score\": 0.5, \"date\": \"2022-04-18T22:48:26+00:00\", \"filtered\": [\"Love\", \"I\", \"You\", \"Like\", \"I\", \"Know\", \"You\", \"F\", \"*\", \"*\", \"*\", \"*\", \"*\", \"*\", \"What\", \"it\", \"?\", \"?\", \"//t.co/Yl7C7xqE2Z\", \"ensdomains\", \"$\", \"meta\", \"domainsforsale\"], \"replyCount\": 1, \"retweetCount\": 3, \"likeCount\": 3, \"quoteCount\": 2, \"dateonly\": \"2022-04-18T00:00:00\"}, {\"score\": 0.07878787878787878, \"date\": \"2022-04-18T20:42:57+00:00\", \"filtered\": [\"Metaverse\", \"new\", \"and\", \"for\", \"legal\", \"As\", \"metaverse\", \"expected\", \"be\", \"operative\", \"the\", \"of\", \"year\", \"and\", \"can\", \"anything\", \"the\", \"virtualreality\", \"meta\", \"//t.co/QJMQZdgbNA\"], \"replyCount\": 0, \"retweetCount\": 2, \"likeCount\": 4, \"quoteCount\": 0, \"dateonly\": \"2022-04-18T00:00:00\"}, {\"score\": 0.35, \"date\": \"2022-04-18T20:39:26+00:00\", \"filtered\": [\"You\", \"going\", \"see\", \"people\", \"have\", \"better\", \"on\", \"MetaVerse\", \"they\", \"build\", \"themselves\", \"in\", \"real\", \"Metaverse\", \"NFT\", \"UBI\", \"//t.co/5Yp3EJO52v\"], \"replyCount\": 1, \"retweetCount\": 0, \"likeCount\": 8, \"quoteCount\": 1, \"dateonly\": \"2022-04-18T00:00:00\"}, {\"score\": 0.25, \"date\": \"2022-04-18T20:22:34+00:00\", \"filtered\": [\"'re\", \"first\", \"up\", \"\\u2708\\ufe0f\\ud83c\\udfb6\", \"you\", \"out\", \"the\", \"virtual\", \"room\", \"ariesvr360\", \"?\", \"SPACE\", \"Metaverse\", \"meta\", \"https\"], \"replyCount\": 0, \"retweetCount\": 4, \"likeCount\": 7, \"quoteCount\": 0, \"dateonly\": \"2022-04-18T00:00:00\"}, {\"score\": 0.4, \"date\": \"2022-04-18T20:17:02+00:00\", \"filtered\": [\"Steps\", \"claim\", \"FREE\", \"NFT\", \")\", \"&\", \";\", \"3\", \")\", \"drop\", \"davecotefilm\", \"a\", \"with\", \"wallet\", \"..\", \"your\", \"satellite\", \"DaveCoteFilm\", \"19952\", \"//t.co/jZlTsipeel\", \"nfts\", \"nftCommunity\", \"//t.co/Vgsw9uFq5l\"], \"replyCount\": 0, \"retweetCount\": 2, \"likeCount\": 6, \"quoteCount\": 1, \"dateonly\": \"2022-04-18T00:00:00\"}, {\"score\": -0.8, \"date\": \"2022-04-18T19:42:15+00:00\", \"filtered\": [\"are\", \"shadowbanned\", \"Instagram\", \"to\", \"contents\", \"storming\", \"AlAqsaMosque\", \"Meta\", \"announced\", \"it\", \"allowance\", \"violent\", \"about\", \"invasion\", \"Ukraine\", \"would\", \"break\", \"rules.DoubleStandards\"], \"replyCount\": 0, \"retweetCount\": 1, \"likeCount\": 4, \"quoteCount\": 0, \"dateonly\": \"2022-04-18T00:00:00\"}, {\"score\": -0.07142857142857142, \"date\": \"2022-04-18T19:32:11+00:00\", \"filtered\": [\"drop\", \"the\", \"Verse\", \"//t.co/AEWFVgOA8V\", \"METARCHITECTURE\", \"name\", \"BUILDING\", \"https\", \"Details\", \"building\", \"2\", \"3\", \"to\", \"&\", \";\", \"with\", \"single\", \"\\ud83e\\udd1dDelegated\", \"the\", \"in\", \"bio\"], \"replyCount\": 1, \"retweetCount\": 2, \"likeCount\": 4, \"quoteCount\": 0, \"dateonly\": \"2022-04-18T00:00:00\"}, {\"score\": 0.16818181818181818, \"date\": \"2022-04-18T19:01:40+00:00\", \"filtered\": [\"today\", \"created\", \"new\", \"Collection\", \"number\", \"ready\", \"Metaverse\", \"Follow\", \"evolution\", \"development\", \"David\", \"Proofs\", \"of\", \"creation\", \"NFTCollection\", \"NFTs\", \"Meta\", \"rarible\", \"https\", \"//t.co/90XV6q3cDl\"], \"replyCount\": 0, \"retweetCount\": 0, \"likeCount\": 3, \"quoteCount\": 1, \"dateonly\": \"2022-04-18T00:00:00\"}, {\"score\": 0.5, \"date\": \"2022-04-18T19:01:08+00:00\", \"filtered\": [\"have\", \"seen\", \"many\", \"pool/billiards\", \"Cueist\", \"changed\", \"Choose\", \"9\", \"UK\", \"8\", \"Ball\", \"amp\", \"Snooker\", \"in\", \"this\", \"pool\", \"It\", \"supports\", \"multiplayer\", \"Quest2\", \"Meta\", \"AppLab\", \"https\", \"//t.co/7Akn9HMA7h\"], \"replyCount\": 1, \"retweetCount\": 2, \"likeCount\": 8, \"quoteCount\": 0, \"dateonly\": \"2022-04-18T00:00:00\"}, {\"score\": -0.25, \"date\": \"2022-04-18T18:32:12+00:00\", \"filtered\": [\"FUC\", \"THE\", \"WEB3\", \"CRYPTO\", \"ALIEN\", \"LIGHTYEAR\", \"https\", \"//t.co/MztQdpY1kU\"], \"replyCount\": 0, \"retweetCount\": 0, \"likeCount\": 4, \"quoteCount\": 1, \"dateonly\": \"2022-04-18T00:00:00\"}, {\"score\": 0.2, \"date\": \"2022-04-18T18:16:21+00:00\", \"filtered\": [\"Meta\", \"She\", \"Ready\", \"the\", \"nft\", \"meta\", \"https\", \"https\"], \"replyCount\": 4, \"retweetCount\": 2, \"likeCount\": 16, \"quoteCount\": 1, \"dateonly\": \"2022-04-18T00:00:00\"}, {\"score\": 0.8, \"date\": \"2022-04-18T18:00:16+00:00\", \"filtered\": [\"the\", \"Easter\", \"FOLLOW\", \"flowelery\", \"&\", \";\", \"TAG\", \"friend\", \"to\", \"win\", \"NFTCommunity\", \"NFTGiveaways\", \"meta\", \"FreeNFT\", \"3D\", \"art\", \"nftcollectors\", \"https\", \"https\"], \"replyCount\": 8, \"retweetCount\": 8, \"likeCount\": 13, \"quoteCount\": 1, \"dateonly\": \"2022-04-18T00:00:00\"}, {\"score\": -0.7142857142857143, \"date\": \"2022-04-18T17:57:44+00:00\", \"filtered\": [\"a\", \"look\", \"this\", \"MetaPlayersGG\", \"Team\", \"working\", \"to\", \"a\", \"ecosystem\", \"crypto\", \"amp\", \"eSports\", \"roadmap\", \"Sick\", \"well\\ud83d\\udd25\", \"also\", \"away\", \"$\", \"tokens\", \"\\ud83d\\udd17\", \"//t.co/iuCphTsxXM\", \"BSCGEM\", \"Metaverse\", \"Moonshot\", \"//t.co/rGow3K7cdQ\"], \"replyCount\": 76, \"retweetCount\": 62, \"likeCount\": 243, \"quoteCount\": 0, \"dateonly\": \"2022-04-18T00:00:00\"}, {\"score\": 0.2, \"date\": \"2022-04-18T17:08:44+00:00\", \"filtered\": [\"look\", \"the\", \"\\ud83d\\udc84\", \"what\", \"I\", \"this\", \"is\", \"real\", \"Would\", \"you\", \"believe\", \"gucci\", \"Try\", \"on\", \"vr\", \"gucci\", \"artificalintelligence\", \"fashion\", \"metaverse\", \"fashionblogger\", \"eyeliner\", \"//t.co/AMAZBnJiIg\"], \"replyCount\": 2, \"retweetCount\": 0, \"likeCount\": 8, \"quoteCount\": 1, \"dateonly\": \"2022-04-18T00:00:00\"}, {\"score\": 0.5, \"date\": \"2022-04-18T17:00:02+00:00\", \"filtered\": [\"\\u2019\", \"fees\", \"the\", \"of\", \"assets\", \"Horizon\", \"are\", \"more\", \"the\", \"%\", \"charges\", \"on\", \"App\", \"Meta\", \"Metaverse\"], \"replyCount\": 0, \"retweetCount\": 1, \"likeCount\": 3, \"quoteCount\": 0, \"dateonly\": \"2022-04-18T00:00:00\"}, {\"score\": 0.35714285714285715, \"date\": \"2022-04-18T16:59:58+00:00\", \"filtered\": [\"or\", \"others\", \"it\", \"YSL\\u2728\", \"letters\", \"influence\", \"fashion\", \"This\", \"piece\", \"a\", \"of\", \"Meta\", \"Collection\", \"special\", \"for\", \"the\", \"brand\", \"to\", \"events\", \"in\", \"the\", \"Futugo\", \"https\"], \"replyCount\": 1, \"retweetCount\": 2, \"likeCount\": 4, \"quoteCount\": 0, \"dateonly\": \"2022-04-18T00:00:00\"}, {\"score\": 0.5, \"date\": \"2022-04-18T16:48:06+00:00\", \"filtered\": [\"anand_narang\", \"Khulood_Almani\", \"CurieuxExplorer\", \"RLDI_Lamy\", \"MargaretSiegien\", \"AlbertoEMachado\", \"cute\", \"quest2\", \"MarketingStrategy\"], \"replyCount\": 0, \"retweetCount\": 0, \"likeCount\": 4, \"quoteCount\": 0, \"dateonly\": \"2022-04-18T00:00:00\"}, {\"score\": -0.16666666666666666, \"date\": \"2022-04-18T16:35:16+00:00\", \"filtered\": [\"Coin\", \"less\", \"3\", \"..........\", \"Meta\", \"Audiovisual\", \"classiccars\", \"Metaverse\", \"p2e\", \"ridethewave\", \"Web3Coin\", \"//t.co/eeuC089BEa\"], \"replyCount\": 37, \"retweetCount\": 113, \"likeCount\": 170, \"quoteCount\": 1, \"dateonly\": \"2022-04-18T00:00:00\"}, {\"score\": 0.2857142857142857, \"date\": \"2022-04-18T16:27:43+00:00\", \"filtered\": [\"Ya\", \"what\", \"be\", \"to\", \"right\", \"?\", \"photos\", \"an\", \"on\", \"Let\", \"see\", \"of\", \"progress\", \"META\", \"$\", \"GoBeyond\"], \"replyCount\": 2, \"retweetCount\": 1, \"likeCount\": 35, \"quoteCount\": 0, \"dateonly\": \"2022-04-18T00:00:00\"}, {\"score\": 0.65, \"date\": \"2022-04-18T16:23:58+00:00\", \"filtered\": [\"Mech\", \"IRON\", \"Just\", \"and\", \"very\", \"meaningful\", \"Let\", \"explain\", \"this\", \"quest\", \"mech\", \"sidequest\", \"//t.co/y3oDpEMb0S\"], \"replyCount\": 0, \"retweetCount\": 6, \"likeCount\": 14, \"quoteCount\": 2, \"dateonly\": \"2022-04-18T00:00:00\"}, {\"score\": 0.5, \"date\": \"2022-04-18T16:00:02+00:00\", \"filtered\": [\"x\", \"\\u2728\", \"has\", \"tested\", \"many\", \"Click\", \"and\", \"the\", \"\\ud83d\\udc97\", \"Giveaway\\ud83e\\udd18https\", \"Watch\", \"//t.co/dKIbLl4g6V\", \"BSC\", \"PlayToEarn\", \"Metaverse\", \"beta\", \"token\", \"NFTGame\"], \"replyCount\": 1, \"retweetCount\": 0, \"likeCount\": 5, \"quoteCount\": 0, \"dateonly\": \"2022-04-18T00:00:00\"}, {\"score\": 0.75, \"date\": \"2022-04-18T15:56:57+00:00\", \"filtered\": [\"good\", \"have\", \"info\", \"Great\", \"of\", \"what\", \"be\", \"tier\", \"weekend\", \"pokemonTCG\", \"meta\", \"HeresTheSwoop\", \"//t.co/exuNdgK5mJ\"], \"replyCount\": 1, \"retweetCount\": 0, \"likeCount\": 3, \"quoteCount\": 0, \"dateonly\": \"2022-04-18T00:00:00\"}, {\"score\": 0.06818181818181818, \"date\": \"2022-04-18T15:53:11+00:00\", \"filtered\": [\"na\", \"next\", \"then\", \"should\", \"//t.co/5QyYxDzUFw\", \"\\u201c\", \"is\", \"new\", \"blockchain\", \"from\", \"ground\", \"up\", \"decentralized\", \"applications\", \"to\", \"one\", \"users\", \"DeSo\", \"ILONSI\", \"META\", \"//t.co/tuJtiTATIJ\"], \"replyCount\": 3, \"retweetCount\": 4, \"likeCount\": 11, \"quoteCount\": 1, \"dateonly\": \"2022-04-18T00:00:00\"}, {\"score\": 0.5, \"date\": \"2022-04-18T15:51:19+00:00\", \"filtered\": [\"your\", \"today\", \"Forbes\", \"under\", \"Named\", \"Top\", \"Expert\", \"by\", \"USA\", \"miami\", \"nft\", \"web3\", \"BlockchainGaming\", \"metaverse\", \"miaminftweek\", \"cryptocurrecy\", \"https\", \"//t.co/NYtzT2k1BZ\"], \"replyCount\": 2, \"retweetCount\": 4, \"likeCount\": 11, \"quoteCount\": 1, \"dateonly\": \"2022-04-18T00:00:00\"}, {\"score\": 0.8, \"date\": \"2022-04-18T15:22:53+00:00\", \"filtered\": [\"the\", \"Easter\", \"FOLLOW\", \"LakeInthe\", \"&\", \";\", \"TAG\", \"friend\", \"to\", \"win\", \"NFTCommmunity\", \"NFTGiveaways\", \"meta\", \"FreeNFT\", \"3D\", \"art\", \"nftcollectors\", \"https\", \"https\"], \"replyCount\": 2, \"retweetCount\": 4, \"likeCount\": 9, \"quoteCount\": 0, \"dateonly\": \"2022-04-18T00:00:00\"}, {\"score\": 0.13636363636363635, \"date\": \"2022-04-18T14:57:29+00:00\", \"filtered\": [\"friends\", \"new\", \"fox\", \"https\", \"nft\", \"NFTcollection\", \"NFTGiveaway\", \"nftart\", \"meta\"], \"replyCount\": 0, \"retweetCount\": 0, \"likeCount\": 4, \"quoteCount\": 1, \"dateonly\": \"2022-04-18T00:00:00\"}, {\"score\": 1.0, \"date\": \"2022-04-18T14:16:01+00:00\", \"filtered\": [\"all\", \"a\", \"you\", \"filter\", \"GirlsWhoCode\", \"DojaCat\", \"Over\", \"the\", \"weekend\", \"Who\", \"Alumni\", \"a\", \"up\", \"Meta\", \"to\", \"learn\", \"AR\", \"amp\", \"created\", \"awesome\", \"filter\", \"for\", \"Cat\", \"meta\", \"coachella\", \"https\"], \"replyCount\": 0, \"retweetCount\": 8, \"likeCount\": 24, \"quoteCount\": 0, \"dateonly\": \"2022-04-18T00:00:00\"}, {\"score\": -0.4, \"date\": \"2022-04-18T14:07:56+00:00\", \"filtered\": [\"music\", \"be\", \"playing\", \"game\", \"reality\", \"created\", \"student\", \"Hackl\", \"part\", \"his\", \"thesis\", \"you\", \"this\", \"the\", \"of\", \"music\", \"music\", \"metaverse\", \"innovation\", \"https\"], \"replyCount\": 0, \"retweetCount\": 0, \"likeCount\": 7, \"quoteCount\": 0, \"dateonly\": \"2022-04-18T00:00:00\"}, {\"score\": 0.9, \"date\": \"2022-04-18T12:24:37+00:00\", \"filtered\": [\"of\", \"brilliant\", \"on\", \"META\\u00ae\\ufe0f\", \"MMAT\", \"\\ud83e\\udd8b\\ud83d\\ude80\", \"//t.co/KHBSCrou6v\"], \"replyCount\": 0, \"retweetCount\": 0, \"likeCount\": 4, \"quoteCount\": 0, \"dateonly\": \"2022-04-18T00:00:00\"}, {\"score\": -0.3277777777777778, \"date\": \"2022-04-18T11:43:00+00:00\", \"filtered\": [\"'s\", \"\\u2018\", \"as\", \"media\", \"to\", \"down\", \"\\u26a0\", \"removed\", \"network\", \"fake\", \"media\", \"with\", \"to\", \"Brazilian\", \"Support\", \"climate\", \"jairbolsonaro\", \"on\", \"WeDontHaveTime\", \"//t.co/beNeDnQa3c\"], \"replyCount\": 0, \"retweetCount\": 13, \"likeCount\": 22, \"quoteCount\": 1, \"dateonly\": \"2022-04-18T00:00:00\"}, {\"score\": -0.3, \"date\": \"2022-04-18T10:32:54+00:00\", \"filtered\": [\"late\", \"yall\", \"Whitelist\", \"NFT\", \"nftcolletor\", \"meta\", \"//t.co/x5aiXw6Bnz\"], \"replyCount\": 2, \"retweetCount\": 1, \"likeCount\": 4, \"quoteCount\": 1, \"dateonly\": \"2022-04-18T00:00:00\"}, {\"score\": 0.35, \"date\": \"2022-04-18T10:32:34+00:00\", \"filtered\": [\"//t.co/bqoHyK3T8y\", \"it\", \"Most\", \"project\", \"much\", \"comming\", \"NFT\", \"Hiddengems\", \"LANDS\", \"AltGemHunter\", \"DaCryptoWhale\", \"ClarissaYorke\", \"BabyApeCoin1\", \"BTC\"], \"replyCount\": 6, \"retweetCount\": 3, \"likeCount\": 8, \"quoteCount\": 1, \"dateonly\": \"2022-04-18T00:00:00\"}, {\"score\": 0.6, \"date\": \"2022-04-18T10:15:04+00:00\", \"filtered\": [\"are\", \"to\", \"moon\", \"Control\", \"own\", \"meta\", \"Priscilla_tuita\", \"https\", \"nft\", \"nftProject\", \"https\"], \"replyCount\": 0, \"retweetCount\": 1, \"likeCount\": 8, \"quoteCount\": 2, \"dateonly\": \"2022-04-18T00:00:00\"}, {\"score\": 0.375, \"date\": \"2022-04-18T10:06:05+00:00\", \"filtered\": [\"you\", \"funny\", \"extremely\", \"and\", \"with\", \"play\", \"in\", \"including\", \"amp\", \"?\", \"now\", \"&\", \"amp\", \";\", \"do\", \"forget\", \"to\", \"share\", \"your\", \"best\", \"moments\", \"with\", \"Musik\", \"Meta\", \"V2E\", \"View2earn\", \"https\"], \"replyCount\": 50, \"retweetCount\": 16, \"likeCount\": 23, \"quoteCount\": 0, \"dateonly\": \"2022-04-18T00:00:00\"}, {\"score\": 0.25, \"date\": \"2022-04-18T10:02:03+00:00\", \"filtered\": [\"awe\", \"is\", \"by\", \"beauties\", \"her\", \"when\", \"at\", \"from\", \"In\", \"you\", \"life\", \"is\", \"how\", \"many\", \"open\", \"to\", \"but\", \"everyone\", \"and\", \"not\", \"notices\", \"while\", \"on\", \"NFT\", \"NFT_toys\", \"//t.co/oM1OIHsK75\"], \"replyCount\": 0, \"retweetCount\": 0, \"likeCount\": 6, \"quoteCount\": 0, \"dateonly\": \"2022-04-18T00:00:00\"}, {\"score\": 0.27878787878787875, \"date\": \"2022-04-18T09:49:28+00:00\", \"filtered\": [\"cool\", \"awaiting\", \"rrreally\", \"meta\", \"growing\", \"while\", \"'re\", \"cool\", \"do\", \"have\", \"ideas\", \"new\", \"?\", \"//t.co/BdC8zEIcDS\"], \"replyCount\": 2, \"retweetCount\": 6, \"likeCount\": 33, \"quoteCount\": 0, \"dateonly\": \"2022-04-18T00:00:00\"}, {\"score\": 0.3, \"date\": \"2022-04-18T09:44:55+00:00\", \"filtered\": [\"doesn\", \"t\", \"rare\", \"//t.co/JVeMdmigtL\"], \"replyCount\": 1, \"retweetCount\": 0, \"likeCount\": 13, \"quoteCount\": 0, \"dateonly\": \"2022-04-18T00:00:00\"}, {\"score\": 0.13636363636363635, \"date\": \"2022-04-18T09:38:04+00:00\", \"filtered\": [\"out\", \"new\", \"by\", \"on\", \"its\", \"to\", \"moon\\ud83d\\ude80\\ud83d\\ude80\\ud83d\\ude80\", \"//t.co/HvOv1ax86v\", \"NFT\", \"NFTs\", \"Solana\", \"art\", \"metaverse\", \"nftclub\", \"NFTCommunity\", \"SolanaNFTs\", \"MagicEden\"], \"replyCount\": 1, \"retweetCount\": 0, \"likeCount\": 5, \"quoteCount\": 2, \"dateonly\": \"2022-04-18T00:00:00\"}, {\"score\": 0.5, \"date\": \"2022-04-18T09:26:03+00:00\", \"filtered\": [\"x\", \"It\", \"glad\", \"invite\", \"to\", \"Metakeeper\", \"version\", \"to\", \"more\", \"?\", \"likes\", \"share\", \"video\", \"Watch\", \"//t.co/wvDtqzVdUK\", \"BSC\", \"PlayToEarn\", \"Metaverse\", \"token\", \"NFTGame\"], \"replyCount\": 0, \"retweetCount\": 1, \"likeCount\": 4, \"quoteCount\": 1, \"dateonly\": \"2022-04-18T00:00:00\"}, {\"score\": 0.5, \"date\": \"2022-04-18T08:57:56+00:00\", \"filtered\": [\"succotash\", \"opinion\", \"doesn\", \"t\", \"If\", \"\\u2019\", \"not\", \"person\", \"the\", \"just\", \"and\", \"going\", \"MondayMotivation\", \"Start\", \"Love\", \"friends\", \"wealth\", \"insomnia\", \"DrumCode\", \"NFTs\", \"BEAT\", \"https\"], \"replyCount\": 2, \"retweetCount\": 1, \"likeCount\": 10, \"quoteCount\": 1, \"dateonly\": \"2022-04-18T00:00:00\"}, {\"score\": 0.3121212121212121, \"date\": \"2022-04-18T07:53:41+00:00\", \"filtered\": [\"Energy\", \"Warm\", \"period\", \"LIVE\", \"(\", \"to\", \")\", \"this\", \"set\", \"Web3Tube\", \"you\", \"re\", \"to\", \"when\", \"campaign\", \"on\", \"at\", \"AM\", \"\\ud83d\\uddd3\", \"ready\", \"\\u2013\", \"will\", \"a\", \"day\", \"before\", \"the\", \"campaign\", \"Blockchain\", \"P2P\", \"https\"], \"replyCount\": 12, \"retweetCount\": 11, \"likeCount\": 25, \"quoteCount\": 2, \"dateonly\": \"2022-04-18T00:00:00\"}, {\"score\": 0.6, \"date\": \"2022-04-18T07:28:06+00:00\", \"filtered\": [\"Deluxe\", \"Sold\", \"0.64\\u039e\", \"//t.co/lGRNCN1UB0\", \"NFTs\", \"Meta\", \"nftmarketplace\", \"generativeart\", \"//t.co/hVPa06ub0a\"], \"replyCount\": 0, \"retweetCount\": 2, \"likeCount\": 15, \"quoteCount\": 2, \"dateonly\": \"2022-04-18T00:00:00\"}, {\"score\": 0.4, \"date\": \"2022-04-18T06:00:24+00:00\", \"filtered\": [\"World\", \"2022\", \"take\", \"in\", \"this\", \"It\", \"s\", \"largest\", \"events\", \"I\", \"up\", \"premium\", \"league\", \"amp\", \"was\", \"all\", \"of\", \"the\", \"clubs\", \"free\", \"to\", \"register\", \"a\", \"ensdomains\", \"web3\", \"meta\", \"Ethereum\", \"//t.co/iXhOmxm6ux\"], \"replyCount\": 2, \"retweetCount\": 2, \"likeCount\": 13, \"quoteCount\": 0, \"dateonly\": \"2022-04-18T00:00:00\"}, {\"score\": 0.25, \"date\": \"2022-04-18T05:55:43+00:00\", \"filtered\": [\"first\", \"-\", \"Sister\", \"from\", \"\\u201c\", \"\\u201d\", \"Check\", \"out\", \"opensea\", \"//t.co/eY2ezoKD8g\", \"nftart\", \"nftcollector\", \"meta\", \"//t.co/LGN0LX2UHR\"], \"replyCount\": 2, \"retweetCount\": 1, \"likeCount\": 5, \"quoteCount\": 0, \"dateonly\": \"2022-04-18T00:00:00\"}, {\"score\": -0.4, \"date\": \"2022-04-18T05:16:29+00:00\", \"filtered\": [\"21\", \"asking\", \"out\", \"e-meet\", \"If\", \"living\", \"let\", \"\\u2019\", \"the\", \"who\", \"it\", \"\\u2019\", \"s\", \"create\", \"a\", \"real-life\", \"game\", \"nfts\", \"nftcollector\", \"nftproject\", \"nftcommunity\", \"Elonmusk\"], \"replyCount\": 3, \"retweetCount\": 1, \"likeCount\": 3, \"quoteCount\": 3, \"dateonly\": \"2022-04-18T00:00:00\"}, {\"score\": 0.5, \"date\": \"2022-04-18T04:17:36+00:00\", \"filtered\": [\"Working\", \"Web\", \"of\", \"To\", \"more\", \"CryptoNews\", \"cryptocurrency\", \"https\", \"//t.co/IzmKTBWhJV\"], \"replyCount\": 0, \"retweetCount\": 1, \"likeCount\": 3, \"quoteCount\": 0, \"dateonly\": \"2022-04-18T00:00:00\"}, {\"score\": -0.1, \"date\": \"2022-04-18T02:31:55+00:00\", \"filtered\": [\"spent\", \"26.8\", \"in\", \"to\", \"its\", \"from\", \"https\", \"gigadgets\", \"MarkZuckerberg\", \"Meta\"], \"replyCount\": 258, \"retweetCount\": 405, \"likeCount\": 2768, \"quoteCount\": 36, \"dateonly\": \"2022-04-18T00:00:00\"}, {\"score\": 0.8, \"date\": \"2022-04-18T01:53:27+00:00\", \"filtered\": [\"is\", \"Great\", \"great\", \"visit\", \"city\", \"nftworldsNFT\", \"mint\", \"at\", \"NukesNFT\", \"Metaverse\", \"NFTs\", \"//t.co/fBrD5ykIXZ\"], \"replyCount\": 2, \"retweetCount\": 0, \"likeCount\": 4, \"quoteCount\": 1, \"dateonly\": \"2022-04-18T00:00:00\"}, {\"score\": 0.2, \"date\": \"2022-04-18T00:12:39+00:00\", \"filtered\": [\"take\", \"moment\", \"like\", \"Facebook\", \"thanks\", \"nftshare\", \"nft\", \"MetaWarsNFT\", \"nftlover\", \"https\", \"//t.co/Kf5smX3Zvg\"], \"replyCount\": 2, \"retweetCount\": 0, \"likeCount\": 10, \"quoteCount\": 2, \"dateonly\": \"2022-04-18T00:00:00\"}, {\"score\": 0.4, \"date\": \"2022-04-17T23:43:47+00:00\", \"filtered\": [\"//t.co/5SnrgvUdoM\", \"available\", \"meta\", \"nfts\", \"https\"], \"replyCount\": 0, \"retweetCount\": 1, \"likeCount\": 3, \"quoteCount\": 0, \"dateonly\": \"2022-04-17T00:00:00\"}, {\"score\": 0.6000000000000001, \"date\": \"2022-04-17T23:31:06+00:00\", \"filtered\": [\"giving\", \"amazing\", \"..\", \"Control\", \"own\", \"meta\", \"JobPreference\", \"https\", \"nft\", \"nftProject\", \"https\"], \"replyCount\": 1, \"retweetCount\": 0, \"likeCount\": 5, \"quoteCount\": 4, \"dateonly\": \"2022-04-17T00:00:00\"}, {\"score\": 0.1, \"date\": \"2022-04-17T20:45:40+00:00\", \"filtered\": [\"we\", \"any\", \"experts\", \"friends\", \"who\", \"help\", \"old\", \"out\", \"a\", \"?\", \"not\", \"thank\", \"\\ud83e\\udd14\\ud83c\\udff4\\u200d\\u2620\\ufe0f\", \"web3\", \"meta\"], \"replyCount\": 1, \"retweetCount\": 0, \"likeCount\": 5, \"quoteCount\": 1, \"dateonly\": \"2022-04-17T00:00:00\"}, {\"score\": 0.3, \"date\": \"2022-04-17T20:00:23+00:00\", \"filtered\": [\"is\", \"plots\", \"of\", \"You\", \"\\ud83c\\udfe1\", \"Mint\", \"NFT\", \"stories\", \"on\", \"your\", \"land\", \"\\ud83d\\udc8e\", \"rare\", \"resources\", \"are\", \"non-\", \"metaverse\", \"grown-\", \"metaversenews\", \"NFTcommunity\", \"digitalart\", \"//t.co/Pk0XD21k4l\"], \"replyCount\": 4, \"retweetCount\": 4, \"likeCount\": 9, \"quoteCount\": 0, \"dateonly\": \"2022-04-17T00:00:00\"}, {\"score\": 0.16818181818181818, \"date\": \"2022-04-17T19:42:45+00:00\", \"filtered\": [\"today\", \"created\", \"new\", \"Collection\", \"number\", \"ready\", \"Metaverse\", \"Follow\", \"evolution\", \"development\", \"David\", \"Proofs\", \"of\", \"creation\", \"NFTCollection\", \"NFTs\", \"Meta\", \"rarible\", \"https\", \"//t.co/h9RrN8vSov\"], \"replyCount\": 0, \"retweetCount\": 0, \"likeCount\": 5, \"quoteCount\": 1, \"dateonly\": \"2022-04-17T00:00:00\"}, {\"score\": 0.3, \"date\": \"2022-04-17T18:38:37+00:00\", \"filtered\": [\"//t.co/BCSTS7U9jK\", \"is\", \"for\", \"acquisition\", \"Metaverse\", \"Rare\"], \"replyCount\": 0, \"retweetCount\": 3, \"likeCount\": 4, \"quoteCount\": 0, \"dateonly\": \"2022-04-17T00:00:00\"}, {\"score\": 0.5, \"date\": \"2022-04-17T18:10:24+00:00\", \"filtered\": [\"n't\", \"Become\", \"Another\", \"For\", \"The\", \"Wealthy\", \"more\", \"Metaverse\", \"metaversegame\", \"decentraland\", \"meta\", \"https\", \"//t.co/NhbEULgHRh\"], \"replyCount\": 0, \"retweetCount\": 0, \"likeCount\": 4, \"quoteCount\": 0, \"dateonly\": \"2022-04-17T00:00:00\"}, {\"score\": 0.30000000000000004, \"date\": \"2022-04-17T18:00:01+00:00\", \"filtered\": [\"out\", \"\\ud83d\\udd25\\ud83d\\udd25\", \"team\", \"Big\", \"\\u2705\", \"Amazing\", \"Metaverse\\u2705\", \"Polygon\\u2705\", \"today\", \"become\", \"of\", \"of\", \"biggest\", \"communities\", \"Polygon\", \"Meta\", \"Web3\", \"Opensea\", \"Matic\", \"https\"], \"replyCount\": 12, \"retweetCount\": 10, \"likeCount\": 21, \"quoteCount\": 0, \"dateonly\": \"2022-04-17T00:00:00\"}, {\"score\": -0.2, \"date\": \"2022-04-17T17:36:26+00:00\", \"filtered\": [\"Meta\", \"arminvanbuuren\", \"SensoriumGalaxy\", \"The\", \"Army\", \"is\", \"to\", \"the\", \"green\", \"\\u2728\\ud83d\\udc4d\", \"Senso\", \"metaverse\", \"kripto\", \"//t.co/kGVic1MVtZ\"], \"replyCount\": 1, \"retweetCount\": 0, \"likeCount\": 7, \"quoteCount\": 1, \"dateonly\": \"2022-04-17T00:00:00\"}, {\"score\": 0.396875, \"date\": \"2022-04-17T17:34:43+00:00\", \"filtered\": [\"watching\", \"playing\", \"itself\", \"is\", \"a\", \"kind\", \"pleasure\", \"champion\", \"a\", \"win\", \"doesn\", \"t\", \"mean\", \"you\", \"go\", \"use\", \"in\", \"directly\", \"more\", \"https\", \"Luckbox\", \"meta\", \"solo\"], \"replyCount\": 0, \"retweetCount\": 0, \"likeCount\": 3, \"quoteCount\": 0, \"dateonly\": \"2022-04-17T00:00:00\"}, {\"score\": 0.125, \"date\": \"2022-04-17T17:15:00+00:00\", \"filtered\": [\"against\", \"open\", \"app\", \"What\", \"say\", \"reasonable\", \"I\", \"think\", \"were\", \"ways\", \"they\", \"cared\", \"the\", \"and\", \"only\", \"Facebook\", \"and\", \"success\", \"//t.co/Vvd6MYstZ4\", \"VR\", \"Meta\"], \"replyCount\": 2, \"retweetCount\": 2, \"likeCount\": 8, \"quoteCount\": 1, \"dateonly\": \"2022-04-17T00:00:00\"}, {\"score\": 0.45, \"date\": \"2022-04-17T16:59:19+00:00\", \"filtered\": [\"You\", \"talkin\", \"gossapegirl\", \"VR\", \"Happy\", \"Easter\", \"WOW\", \"//t.co/qfb5R2WMjH\"], \"replyCount\": 0, \"retweetCount\": 0, \"likeCount\": 6, \"quoteCount\": 0, \"dateonly\": \"2022-04-17T00:00:00\"}, {\"score\": 0.6, \"date\": \"2022-04-17T15:17:55+00:00\", \"filtered\": [\"the\", \"going\", \"here\", \"Nice\", \"may_68_\", \"metaverse\", \"NFTCommunity\", \"meta\", \"web3\", \"https\"], \"replyCount\": 2, \"retweetCount\": 5, \"likeCount\": 18, \"quoteCount\": 2, \"dateonly\": \"2022-04-17T00:00:00\"}, {\"score\": 0.2, \"date\": \"2022-04-17T15:02:10+00:00\", \"filtered\": [\"Wants\", \"50\", \"Profit\", \"All\", \"Sold\", \"its\", \"https\", \"DaveKerpen\", \"HappyTechTweet1\", \"marketingtobe\", \"VirtualReality\", \"VR\", \"Virtual\", \"Technology\", \"NFTCommunity\"], \"replyCount\": 1, \"retweetCount\": 2, \"likeCount\": 3, \"quoteCount\": 0, \"dateonly\": \"2022-04-17T00:00:00\"}, {\"score\": -0.5, \"date\": \"2022-04-17T14:58:53+00:00\", \"filtered\": [\"-\", \"interactions\", \"conversations\", \"fake\", \"by\", \"Meta\", \"Twitter\", \"//t.co/lSjsTogvGe\"], \"replyCount\": 0, \"retweetCount\": 2, \"likeCount\": 3, \"quoteCount\": 0, \"dateonly\": \"2022-04-17T00:00:00\"}, {\"score\": 0.5, \"date\": \"2022-04-17T14:52:38+00:00\", \"filtered\": [\"Just\", \"Vibes\", \"83\", \"hope\", \"like\", \"Just\", \"\\ud83d\\ude4f\\ud83d\\ude4f\\u2764\\ufe0f\\u2764\\ufe0f\", \"m\", \"sexy\", \"and\", \"know\", \"nft\", \"nftart\", \"ethereum\", \"nftcommunity\", \"art\", \"blockchaintechnology\", \"metaverse\", \"superrare\", \"//t.co/EjfcKQLzsT\"], \"replyCount\": 4, \"retweetCount\": 0, \"likeCount\": 13, \"quoteCount\": 2, \"dateonly\": \"2022-04-17T00:00:00\"}, {\"score\": 0.6000000000000001, \"date\": \"2022-04-17T14:38:41+00:00\", \"filtered\": [\"Booooom\", \"Amazing\", \"no\", \"...\", \"n't\", \"it\", \"meta\", \"TCL\"], \"replyCount\": 0, \"retweetCount\": 0, \"likeCount\": 4, \"quoteCount\": 0, \"dateonly\": \"2022-04-17T00:00:00\"}, {\"score\": 0.35, \"date\": \"2022-04-17T14:19:06+00:00\", \"filtered\": [\"is\", \"platform\", \"developers\", \"to\", \"each\", \"collaborate\", \"projects\", \"NFTs\", \"completing\", \"work\", \"connect\", \"talented\", \"building\", \"future\", \"the\", \"metaschool_\", \"nft\", \"web3\", \"https\"], \"replyCount\": 1, \"retweetCount\": 0, \"likeCount\": 6, \"quoteCount\": 0, \"dateonly\": \"2022-04-17T00:00:00\"}, {\"score\": -0.1, \"date\": \"2022-04-17T14:07:04+00:00\", \"filtered\": [\"SOON\", \"RELEASE\", \"\\ud83d\\ude31\\ud83d\\ude31\", \"ready\", \"the\", \"based\", \"GAME\", \"the\", \"\\ud83d\\ude80\", \"PSLIP\", \"META\", \"POLYGON\", \"//t.co/9eoFtHDEUp\"], \"replyCount\": 0, \"retweetCount\": 2, \"likeCount\": 4, \"quoteCount\": 0, \"dateonly\": \"2022-04-17T00:00:00\"}, {\"score\": 0.3583333333333333, \"date\": \"2022-04-17T13:55:24+00:00\", \"filtered\": [\"love\", \"get\", \"insights\", \"tech\", \"social\", \"..\", \"re\", \"on\", \"or\", \"done\", \"interesting\", \"the\", \"DM\", \"or\", \"if\", \"you\", \"know\", \"relevant\", \"TIA\", \"Blockchain\", \"nft\"], \"replyCount\": 1, \"retweetCount\": 0, \"likeCount\": 3, \"quoteCount\": 0, \"dateonly\": \"2022-04-17T00:00:00\"}, {\"score\": 0.2, \"date\": \"2022-04-17T13:55:21+00:00\", \"filtered\": [\"thanks\", \"bsc_daily\", \"making\", \"publicity\", \"will\", \"a\", \"chapter\", \"'s\", \"in\", \"mining\", \"Meta\", \"to\", \"moon\\u2692\\ufe0f\\u2692\\ufe0f\", \"BNBCHAIN\", \"binance\", \"//t.co/WAcQ9mzQou\"], \"replyCount\": 7, \"retweetCount\": 6, \"likeCount\": 12, \"quoteCount\": 0, \"dateonly\": \"2022-04-17T00:00:00\"}, {\"score\": 0.35, \"date\": \"2022-04-17T13:50:46+00:00\", \"filtered\": [\"are\", \"at\", \"turn\", \"n't\", \"off\", \"road\", \"full\", \"of\", \"speed\", \"Choose\", \"your\", \"vehicles\", \"Join\", \"for\", \"https\", \"metaverse\", \"blockchain\", \"Drive\", \"https\"], \"replyCount\": 5, \"retweetCount\": 16, \"likeCount\": 24, \"quoteCount\": 2, \"dateonly\": \"2022-04-17T00:00:00\"}, {\"score\": 0.4, \"date\": \"2022-04-17T13:34:40+00:00\", \"filtered\": [\"\\ud83d\\udd25\\ud83d\\udd25\\ud83d\\udd25\", \"//t.co/Ljxznu9SxI\", \"//t.co/sHTT9pA92t\", \"free\", \"\\ud83d\\udce8\", \"\\ud83d\\udce4Pay\", \"PayPal\", \"Get\", \"\\ud83d\\udd1dStart\\ud83c\\udd99\", \"BlockChain\", \"Domains\", \"domainnames\", \"Metaverse\", \"https\"], \"replyCount\": 0, \"retweetCount\": 1, \"likeCount\": 3, \"quoteCount\": 0, \"dateonly\": \"2022-04-17T00:00:00\"}, {\"score\": -0.2916666666666667, \"date\": \"2022-04-17T13:17:24+00:00\", \"filtered\": [\"kicking\", \"hard\", \"ensdomains\", \"web3\", \"Meta\", \"Ethereum\"], \"replyCount\": 11, \"retweetCount\": 2, \"likeCount\": 32, \"quoteCount\": 0, \"dateonly\": \"2022-04-17T00:00:00\"}, {\"score\": 0.225, \"date\": \"2022-04-17T12:45:00+00:00\", \"filtered\": [\"SAND\", \"$\", \"-\", \"looking\", \"us\", \"fill\", \"descending\", \"with\", \"wicks\", \"and\", \"before\", \"drop\", \"$\", \"demand\", \"This\", \"where\", \"am\", \"to\", \"for\", \"bids\", \"I\", \"the\", \"will\", \"do\", \"very\", \"but\", \"drop\", \"to\", \"first\", \"https\"], \"replyCount\": 19, \"retweetCount\": 18, \"likeCount\": 81, \"quoteCount\": 1, \"dateonly\": \"2022-04-17T00:00:00\"}, {\"score\": 0.25, \"date\": \"2022-04-17T12:11:30+00:00\", \"filtered\": [\"designed\", \"ordered\", \"first\", \"merch\", \"you\", \"too\", \"?\", \"ens\", \"Metaverse\", \"ETH\", \"https\"], \"replyCount\": 13, \"retweetCount\": 1, \"likeCount\": 42, \"quoteCount\": 0, \"dateonly\": \"2022-04-17T00:00:00\"}, {\"score\": 0.13636363636363635, \"date\": \"2022-04-17T12:03:07+00:00\", \"filtered\": [\"WhatsApp\", \"announced\", \"new\", \"that\", \"soon\", \"introduced\", \"its\", \"billion\", \"-\", \"being\", \"the\", \"launch\", \"of\", \"\\u2018\", \"\\u2019\", \"are\", \"new\", \"?\", \"here\", \"https\", \"WhatsApp\", \"Meta\"], \"replyCount\": 1, \"retweetCount\": 2, \"likeCount\": 8, \"quoteCount\": 0, \"dateonly\": \"2022-04-17T00:00:00\"}, {\"score\": 0.25, \"date\": \"2022-04-17T11:23:33+00:00\", \"filtered\": [\"Labs\", \"NFT\", \"KalosLabs\", \"among\", \"first\", \"to\", \"know\", \"the\", \"Metaverse\", \"NFT\", \"AR\", \"our\", \"https\", \"https\"], \"replyCount\": 1, \"retweetCount\": 1, \"likeCount\": 3, \"quoteCount\": 0, \"dateonly\": \"2022-04-17T00:00:00\"}, {\"score\": 0.3, \"date\": \"2022-04-17T11:00:38+00:00\", \"filtered\": [\"dropped\", \"video\", \"my\", \"go\", \"it\", \"Shoutout\", \"Warzone_Loadout\", \"the\", \"Loadout\", \"had\", \"lot\", \"fun\", \"this\", \"|\", \"rebirthisland\", \"loadout\", \"https\"], \"replyCount\": 0, \"retweetCount\": 1, \"likeCount\": 4, \"quoteCount\": 0, \"dateonly\": \"2022-04-17T00:00:00\"}, {\"score\": -0.30000000000000004, \"date\": \"2022-04-17T10:34:01+00:00\", \"filtered\": [\"family\", \"slowly\", \"\\ud83d\\ude42\\ud83d\\ude80\", \"NFTCommunity\", \"Crypto_Bull_NFT\", \"Ethereum\", \"blockchain\", \"Web3\", \"irl\", \"Tokenomics\", \"GalyArtist\", \"//t.co/OuVkjq3V5q\"], \"replyCount\": 5, \"retweetCount\": 0, \"likeCount\": 3, \"quoteCount\": 2, \"dateonly\": \"2022-04-17T00:00:00\"}, {\"score\": 0.8, \"date\": \"2022-04-17T10:30:04+00:00\", \"filtered\": [\"metaverse\", \"great\", \"\\u2014\", \"great\", \"https\", \"AIEthics\", \"AI\", \"DeepLearning\", \"100DaysOfCode\", \"insurtech\", \"bitcoin\", \"cybersecurite\", \"https\"], \"replyCount\": 5, \"retweetCount\": 39, \"likeCount\": 25, \"quoteCount\": 0, \"dateonly\": \"2022-04-17T00:00:00\"}, {\"score\": 0.5, \"date\": \"2022-04-17T10:16:26+00:00\", \"filtered\": [\"under\", \"over\", \"Instagram\", \"&\", \";\", \"say\", \"have\", \"\\u2019\", \"to\", \"child\", \"sexual\", \"AIMCnews\", \"DigitalParenting\", \"SaferInternetForKids\", \"CSAM\", \"//t.co/B0QpPvLZKM\"], \"replyCount\": 2, \"retweetCount\": 6, \"likeCount\": 5, \"quoteCount\": 1, \"dateonly\": \"2022-04-17T00:00:00\"}, {\"score\": 0.2738095238095238, \"date\": \"2022-04-17T10:03:02+00:00\", \"filtered\": [\"word-\", \"MONEY\", \"Smart\", \"after\", \"both\", \"Meta\", \"that\", \"as\", \"as\", \"needs\", \"ends\", \"super\", \"This\", \"is\", \"without\", \"regard\", \"how\", \"the\", \"money\", \"is\", \"made\", \"vs\", \"value\", \"people\", \"money\"], \"replyCount\": 1, \"retweetCount\": 5, \"likeCount\": 5, \"quoteCount\": 0, \"dateonly\": \"2022-04-17T00:00:00\"}, {\"score\": 0.31212121212121213, \"date\": \"2022-04-17T09:57:31+00:00\", \"filtered\": [\"Tenancy\", \"Welcome\", \"metaverse\", \"\\ud83d\\ude80\\ud83d\\ude80\\ud83c\\udf89\\ud83c\\udf89\", \"new\", \"and\", \"focus\", \"technical\", \"in\", \"the\", \"NFT\", \"\\ud83e\\udd1d\", \"times\", \"$\", \"blokarmy\", \"Meta\", \"https\", \"https\"], \"replyCount\": 7, \"retweetCount\": 5, \"likeCount\": 14, \"quoteCount\": 0, \"dateonly\": \"2022-04-17T00:00:00\"}, {\"score\": 0.19642857142857142, \"date\": \"2022-04-17T08:33:36+00:00\", \"filtered\": [\"reported\", \"scammer\", \"to\", \"me\", \"only\", \"my\", \"they\", \"an\", \"that\", \"already\", \"and\", \"me\", \"further\", \"right\", \"I\", \"had\", \"many\", \"Facebook\", \"I\", \"I\", \"done\", \"with\", \"Meta\", \"facts\", \"https\"], \"replyCount\": 7, \"retweetCount\": 35, \"likeCount\": 31, \"quoteCount\": 0, \"dateonly\": \"2022-04-17T00:00:00\"}, {\"score\": 0.4333333333333333, \"date\": \"2022-04-17T07:04:40+00:00\", \"filtered\": [\"PsychonautApeD\", \"nftcollectors\", \"nftart\", \"meta\", \"ETH\", \"eth\", \"PAD\", \"Community\", \"strong\", \"//t.co/W1Sw3P8ODE\"], \"replyCount\": 1, \"retweetCount\": 0, \"likeCount\": 10, \"quoteCount\": 4, \"dateonly\": \"2022-04-17T00:00:00\"}, {\"score\": 0.3181818181818182, \"date\": \"2022-04-17T06:40:39+00:00\", \"filtered\": [\"testing\", \"new\", \"to\", \"the\", \"seen\", \"which\", \"allow\", \"to\", \"the\", \"they\", \"to\", \"the\", \"from.\\ud83d\\udcf1\", \"more\", \"it\\u23ec\", \"//t.co/ZMdsoEiLV8\", \"WhatsApp\", \"WhatsAppNewFeature\", \"TechNews\"], \"replyCount\": 0, \"retweetCount\": 0, \"likeCount\": 8, \"quoteCount\": 0, \"dateonly\": \"2022-04-17T00:00:00\"}, {\"score\": -0.4, \"date\": \"2022-04-17T06:17:52+00:00\", \"filtered\": [\"20\", \"asking\", \"out\", \"e-meet\", \"If\", \"living\", \"let\", \"\\u2019\", \"the\", \"who\", \"it\", \"\\u2019\", \"s\", \"create\", \"a\", \"real-life\", \"game\", \"nfts\", \"nftcollector\", \"nftproject\", \"nftcommunity\", \"Elonmusk\"], \"replyCount\": 0, \"retweetCount\": 0, \"likeCount\": 7, \"quoteCount\": 0, \"dateonly\": \"2022-04-17T00:00:00\"}, {\"score\": -0.01249999999999999, \"date\": \"2022-04-17T05:05:57+00:00\", \"filtered\": [\"of\", \"``\", \"issue\", \"for\", \"\\u201c\", \"will\", \"up\", \"Meta\", \"other\", \"players\", \"the\", \"to\", \"these\", \"out\", \"clear\", \"ethics\", \"\\u201c\", \"//t.co/CdWvnqRD9I\", \"by\", \"by\", \"InformationAge\", \"ipfconline1\", \"https\"], \"replyCount\": 3, \"retweetCount\": 3, \"likeCount\": 4, \"quoteCount\": 0, \"dateonly\": \"2022-04-17T00:00:00\"}, {\"score\": 0.35000000000000003, \"date\": \"2022-04-17T04:16:47+00:00\", \"filtered\": [\"future\", \"bright\", \"all\", \"blind\\u2026\", \"soon\", \"with\", \"bread\", \"monika\", \"metaverse\", \"Oculus\", \"NFTCommmunity\", \"https\"], \"replyCount\": 1, \"retweetCount\": 0, \"likeCount\": 9, \"quoteCount\": 2, \"dateonly\": \"2022-04-17T00:00:00\"}, {\"score\": -0.2, \"date\": \"2022-04-17T03:53:36+00:00\", \"filtered\": [\"&\", \";\", \"Ends\", \"22/04/2022\", \"1\", \"0.0003\", \"Round\", \"Round\", \"3\", \"0.0007\", \"Listing\", \"Price\", \"0.0015\", \"$\", \"Join\", \"Presale\", \"https\", \"Listing\", \"Pancakeswap\", \"pancakeswap\", \"nft\", \"hotbit\"], \"replyCount\": 96, \"retweetCount\": 345, \"likeCount\": 424, \"quoteCount\": 27, \"dateonly\": \"2022-04-17T00:00:00\"}, {\"score\": 0.6, \"date\": \"2022-04-17T02:42:54+00:00\", \"filtered\": [\"Deluxe\", \"Sold\", \"0.6\\u039e\", \"//t.co/N4Dt5ax0O1\", \"NFTs\", \"NFTdrop\", \"opensea\", \"https\"], \"replyCount\": 0, \"retweetCount\": 0, \"likeCount\": 6, \"quoteCount\": 4, \"dateonly\": \"2022-04-17T00:00:00\"}, {\"score\": 0.13636363636363635, \"date\": \"2022-04-17T01:00:10+00:00\", \"filtered\": [\"this\", \"and\", \"up\", \"our\", \"Pre-sales\", \"on\", \"//t.co/Qh6nkYQSPi\", \"us\", \"-\", \"//t.co/5er5VQChS1\", \"ChickeyChiktokens\", \"presale\", \"nftcommunity\", \"live\", \"subscribe\", \"meta\", \"//t.co/EhAP89bIid\"], \"replyCount\": 1, \"retweetCount\": 2, \"likeCount\": 3, \"quoteCount\": 1, \"dateonly\": \"2022-04-17T00:00:00\"}, {\"score\": 0.125, \"date\": \"2022-04-17T00:34:08+00:00\", \"filtered\": [\"has\", \"included\", \"contract\", \"which\", \"open\", \"and\", \"and\", \"technical\", \"will\", \"rich\", \"ecology\", \"meta\", \"//t.co/xaz7AlYmGv\"], \"replyCount\": 5, \"retweetCount\": 4, \"likeCount\": 14, \"quoteCount\": 0, \"dateonly\": \"2022-04-17T00:00:00\"}, {\"score\": 0.5, \"date\": \"2022-04-17T00:16:49+00:00\", \"filtered\": [\"love\", \"FB\", \"Meta\", \"$\", \"https\"], \"replyCount\": 1, \"retweetCount\": 0, \"likeCount\": 6, \"quoteCount\": 0, \"dateonly\": \"2022-04-17T00:00:00\"}, {\"score\": 0.2, \"date\": \"2022-04-16T23:54:31+00:00\", \"filtered\": [\"daftpunk\", \"gossapegirl\", \"META\", \"2032\", \"ready\", \"https\"], \"replyCount\": 2, \"retweetCount\": 0, \"likeCount\": 6, \"quoteCount\": 0, \"dateonly\": \"2022-04-16T00:00:00\"}, {\"score\": 0.5, \"date\": \"2022-04-16T23:38:43+00:00\", \"filtered\": [\"We\", \"got\", \"2\", \"domains\", \"for\", \"including\", \"//t.co/PUWbhyz0lx\", \"//t.co/2CDr6Uic1n\", \"//t.co/k60jbRU9hM\", \"many\", \"here\", \"//t.co/Q5QzijtXft\", \"Metaverse\", \"domains\", \"Web3\", \"cryptocurrency\", \"//t.co/53hSwXeKCf\"], \"replyCount\": 0, \"retweetCount\": 2, \"likeCount\": 3, \"quoteCount\": 0, \"dateonly\": \"2022-04-16T00:00:00\"}, {\"score\": 0.19545454545454546, \"date\": \"2022-04-16T23:28:46+00:00\", \"filtered\": [\"x\", \"Legends\", \"live\", \"\\u2705\", \"go\", \"discord\", \"//t.co/SqZmx0ouWd\", \"go\", \"general\", \"&\", \";\", \"up\", \"type\", \"in\", \"search\", \"``\", \"''\", \"fill\", \"forms\", \"secure\", \"poap\", \"poapxyz\", \"FreeNfts\", \"metaverse\", \"//t.co/l25SHxGni4\"], \"replyCount\": 3, \"retweetCount\": 1, \"likeCount\": 6, \"quoteCount\": 0, \"dateonly\": \"2022-04-16T00:00:00\"}, {\"score\": 0.55, \"date\": \"2022-04-16T23:00:00+00:00\", \"filtered\": [\"//t.co/N97TcX6J8f\", \"sale\", \"and\", \"Suitable\", \"use\", \"the\", \"service\", \"example\", \"Salon\", \"sedo\", \"websites\", \"onlinebusiness\", \"MarketingStrategy\", \"hairstyle\", \"metafi\", \"bobcut\", \"https\"], \"replyCount\": 0, \"retweetCount\": 2, \"likeCount\": 3, \"quoteCount\": 0, \"dateonly\": \"2022-04-16T00:00:00\"}, {\"score\": -0.4, \"date\": \"2022-04-16T21:46:39+00:00\", \"filtered\": [\"cheat\", \"GAME\", \"your\", \"are\", \"on\", \"..\", \"META\", \"sluggerFP\", \"//t.co/HvyJwmOkY6\"], \"replyCount\": 5, \"retweetCount\": 5, \"likeCount\": 44, \"quoteCount\": 1, \"dateonly\": \"2022-04-16T00:00:00\"}, {\"score\": 0.06818181818181818, \"date\": \"2022-04-16T20:56:00+00:00\", \"filtered\": [\"you\", \"Jack\", \"new\", \"personal\", \"bot\", \"him\", \"0800\", \")\", \"nftart\", \"meta\", \"cryptotrading\", \"solana\", \"artgallery\", \"digitalart\", \"gymbuddy\", \"https\"], \"replyCount\": 2, \"retweetCount\": 1, \"likeCount\": 5, \"quoteCount\": 0, \"dateonly\": \"2022-04-16T00:00:00\"}, {\"score\": 0.2, \"date\": \"2022-04-16T20:53:50+00:00\", \"filtered\": [\"are\", \"me\", \"did\", \"revive\", \"Instagram\", \"a\", \"year\", \"Simply\", \"I\", \"really\", \"the\", \"Meta\", \"heading\", \"meta\"], \"replyCount\": 2, \"retweetCount\": 0, \"likeCount\": 4, \"quoteCount\": 0, \"dateonly\": \"2022-04-16T00:00:00\"}, {\"score\": 0.275, \"date\": \"2022-04-16T20:01:10+00:00\", \"filtered\": [\"you\", \"escape\", \"style\", \"like\", \"Room\", \"Red\", \"you\", \"love\", \"one\", \"VR\", \"game\", \"added\", \"SideQuest\", \"it\", \"AWESOME\", \"//t.co/hxP3MrgoeA\", \"MetaQuest2\", \"Metaverse\", \"metaquest\", \"AtlasMysteryVR\", \"//t.co/NGkqPRKdkZ\"], \"replyCount\": 1, \"retweetCount\": 4, \"likeCount\": 11, \"quoteCount\": 0, \"dateonly\": \"2022-04-16T00:00:00\"}, {\"score\": 0.16818181818181818, \"date\": \"2022-04-16T20:00:51+00:00\", \"filtered\": [\"today\", \"created\", \"new\", \"Collection\", \"number\", \"ready\", \"Metaverse\", \"Follow\", \"evolution\", \"development\", \"David\", \"Proofs\", \"of\", \"creation\", \"NFTCollection\", \"NFTs\", \"Meta\", \"rarible\", \"https\", \"//t.co/PTbUlTgkUE\"], \"replyCount\": 0, \"retweetCount\": 1, \"likeCount\": 5, \"quoteCount\": 2, \"dateonly\": \"2022-04-16T00:00:00\"}, {\"score\": 0.2, \"date\": \"2022-04-16T20:00:34+00:00\", \"filtered\": [\"really\", \"to\", \"a\", \"project\", \"an\", \"community\", \"should\", \"be\", \"nftcollectors\", \"nftart\", \"meta\", \"ETH\", \"eth\"], \"replyCount\": 64, \"retweetCount\": 13, \"likeCount\": 37, \"quoteCount\": 0, \"dateonly\": \"2022-04-16T00:00:00\"}, {\"score\": 0.46666666666666673, \"date\": \"2022-04-16T19:40:51+00:00\", \"filtered\": [\"author\", \"this\", \"read\", \"maghanmcd\", \"i\", \"is\", \"most\", \"most\", \"most\", \"and\", \"far\", \"best\", \"kindness\", \"fashion-tech\", \"in\", \"whole\", \"\\ud83e\\udd70\", \"web3\", \"Ethereum\", \"https\"], \"replyCount\": 1, \"retweetCount\": 1, \"likeCount\": 7, \"quoteCount\": 0, \"dateonly\": \"2022-04-16T00:00:00\"}, {\"score\": 1.0, \"date\": \"2022-04-16T19:39:37+00:00\", \"filtered\": [\"is\", \"Grab\", \"best\", \"Domain\", \"in\", \"market\", \"web3\", \"Crypto\", \"https\"], \"replyCount\": 0, \"retweetCount\": 2, \"likeCount\": 3, \"quoteCount\": 0, \"dateonly\": \"2022-04-16T00:00:00\"}, {\"score\": 1.0, \"date\": \"2022-04-16T19:38:01+00:00\", \"filtered\": [\"is\", \"Grab\", \"best\", \"Domain\", \"in\", \"market\", \"web3\", \"Crypto\", \"https\"], \"replyCount\": 2, \"retweetCount\": 4, \"likeCount\": 4, \"quoteCount\": 0, \"dateonly\": \"2022-04-16T00:00:00\"}, {\"score\": 1.0, \"date\": \"2022-04-16T19:36:26+00:00\", \"filtered\": [\"is\", \"Grab\", \"best\", \"Domain\", \"in\", \"market\", \"web3\", \"Crypto\", \"https\"], \"replyCount\": 0, \"retweetCount\": 2, \"likeCount\": 3, \"quoteCount\": 0, \"dateonly\": \"2022-04-16T00:00:00\"}, {\"score\": 1.0, \"date\": \"2022-04-16T19:34:53+00:00\", \"filtered\": [\"is\", \"Grab\", \"best\", \"Domain\", \"in\", \"market\", \"web3\", \"Crypto\", \"https\"], \"replyCount\": 0, \"retweetCount\": 2, \"likeCount\": 4, \"quoteCount\": 1, \"dateonly\": \"2022-04-16T00:00:00\"}, {\"score\": 1.0, \"date\": \"2022-04-16T19:32:56+00:00\", \"filtered\": [\"is\", \"Grab\", \"best\", \"Domain\", \"in\", \"market\", \"web3\", \"Crypto\", \"https\"], \"replyCount\": 0, \"retweetCount\": 2, \"likeCount\": 3, \"quoteCount\": 0, \"dateonly\": \"2022-04-16T00:00:00\"}, {\"score\": 0.13636363636363635, \"date\": \"2022-04-16T19:06:59+00:00\", \"filtered\": [\"to\", \"new\", \"StarCitizen\", \"headtracking\", \"meta\", \"https\"], \"replyCount\": 31, \"retweetCount\": 21, \"likeCount\": 123, \"quoteCount\": 2, \"dateonly\": \"2022-04-16T00:00:00\"}, {\"score\": -0.08333333333333333, \"date\": \"2022-04-16T18:42:03+00:00\", \"filtered\": [\"parent\", \"Platforms\", \"charge\", \"around\", \"%\", \"sales\", \"digital\", \"and\", \"the\", \"'s\", \"platform\", \"Meta\", \"take\", \"half\", \"sales\", \"made\", \"by\", \"metaverse\", \"as\", \"https\", \"https\"], \"replyCount\": 0, \"retweetCount\": 3, \"likeCount\": 5, \"quoteCount\": 0, \"dateonly\": \"2022-04-16T00:00:00\"}, {\"score\": -0.16666666666666666, \"date\": \"2022-04-16T17:29:01+00:00\", \"filtered\": [\"Meta\", \"will\", \"a\", \"$\", \"If\", \"of\", \"posts\", \"viral\", \"it\", \"say\", \"likes\", \"you\", \"\\u2019\", \"get\", \"$\", \"less\", \"(\", \"%\", \"What\", \"you\", \"about\", \"model\", \"meta\", \"nft\"], \"replyCount\": 0, \"retweetCount\": 0, \"likeCount\": 4, \"quoteCount\": 1, \"dateonly\": \"2022-04-16T00:00:00\"}, {\"score\": 1.0, \"date\": \"2022-04-16T17:27:57+00:00\", \"filtered\": [\"(\", \")\", \"billions\", \"the\", \"idea\", \"hired\", \"of\", \"to\", \"the\", \"company\", \"this\", \"nft\", \"nfts\", \"they\", \"some\", \"the\", \"ahead\", \"still\", \"perfectly\", \"Meta\", \"https\"], \"replyCount\": 4, \"retweetCount\": 6, \"likeCount\": 23, \"quoteCount\": 5, \"dateonly\": \"2022-04-16T00:00:00\"}, {\"score\": 0.13636363636363635, \"date\": \"2022-04-16T17:14:28+00:00\", \"filtered\": [\"New\", \"for\", \"Creators\", \"Earn\", \"via\", \"socialVR\", \"CreatorEconomy\", \"https\", \"//t.co/PYyLuShn07\"], \"replyCount\": 1, \"retweetCount\": 4, \"likeCount\": 10, \"quoteCount\": 0, \"dateonly\": \"2022-04-16T00:00:00\"}, {\"score\": 0.55, \"date\": \"2022-04-16T17:00:00+00:00\", \"filtered\": [\"//t.co/Z5DPEI0O7M\", \"sale\", \"and\", \"Suitable\", \"use\", \"the\", \"industry\", \"example\", \"platform\", \"sedo\", \"websites\", \"onlinebusiness\", \"MarketingStrategy\", \"Metaverse\", \"metafi\", \"business\", \"//t.co/r2SwZ1d48d\"], \"replyCount\": 1, \"retweetCount\": 1, \"likeCount\": 3, \"quoteCount\": 0, \"dateonly\": \"2022-04-16T00:00:00\"}, {\"score\": 0.39999999999999997, \"date\": \"2022-04-16T16:50:01+00:00\", \"filtered\": [\"to\", \"for\", \"EPIC\", \"of\", \"Our\", \"is\", \"talented\", \"WarriorCode\", \"NFTs\", \"opensea\", \"SWC\", \"ETH\", \"digitalart\", \"sandbox\", \"https\"], \"replyCount\": 19, \"retweetCount\": 25, \"likeCount\": 36, \"quoteCount\": 3, \"dateonly\": \"2022-04-16T00:00:00\"}, {\"score\": 0.35714285714285715, \"date\": \"2022-04-16T16:37:06+00:00\", \"filtered\": [\"is\", \"special\", \"to\", \"party\", \"don\", \"t\", \"na\", \"meta_nightclub\", \"//t.co/MjwmILy2eO\", \"Meta\", \"NFT\"], \"replyCount\": 1, \"retweetCount\": 0, \"likeCount\": 7, \"quoteCount\": 3, \"dateonly\": \"2022-04-16T00:00:00\"}, {\"score\": 0.13636363636363635, \"date\": \"2022-04-16T15:08:15+00:00\", \"filtered\": [\"is\", \"to\", \"out\", \"test\", \"a\", \"of\", \"that\", \"let\", \"sell\", \"items\", \"effects\", \"their\", \"They\", \"announced\", \"new\", \"monetization\", \"meta\", \"zuck\", \"https\"], \"replyCount\": 0, \"retweetCount\": 0, \"likeCount\": 9, \"quoteCount\": 0, \"dateonly\": \"2022-04-16T00:00:00\"}, {\"score\": 0.3333333333333333, \"date\": \"2022-04-16T14:44:06+00:00\", \"filtered\": [\"MoneySoot\", \"Drop\", \"nice\", \"have\", \"chime\", \"Dr.\", \"Thanks\", \"the\", \"Much\", \"Wishing\", \"and\", \"of\", \"a\", \"Passove/Easter\", \"Weekend\", \"https\"], \"replyCount\": 1, \"retweetCount\": 0, \"likeCount\": 12, \"quoteCount\": 0, \"dateonly\": \"2022-04-16T00:00:00\"}, {\"score\": 0.00714285714285714, \"date\": \"2022-04-16T14:05:33+00:00\", \"filtered\": [\"Metape6\", \"MoneySoot\", \"not\", \"into\", \"detail\", \"such\", \"I\", \"small\", \"in\", \"I\", \"just\", \"pickup\", \"the\", \"basic\", \"what\", \"going\", \"Rest\", \"I\", \"simply\", \"to\", \"that\", \"will\", \"what\", \"right\", \"the\", \"of\", \"the\", \"and\", \"investors\"], \"replyCount\": 1, \"retweetCount\": 0, \"likeCount\": 3, \"quoteCount\": 0, \"dateonly\": \"2022-04-16T00:00:00\"}, {\"score\": 0.3333333333333333, \"date\": \"2022-04-16T13:20:37+00:00\", \"filtered\": [\"you\", \"all\", \"everything\", \"kiwidesign02\", \"it\", \"some\", \"Super\", \"with\", \"the\", \"strap\", \"and\", \"with\", \"the\", \"came\", \"VR\", \"Meta\", \"VRgamer\", \"//t.co/jZ53R4ToV7\"], \"replyCount\": 0, \"retweetCount\": 1, \"likeCount\": 3, \"quoteCount\": 0, \"dateonly\": \"2022-04-16T00:00:00\"}, {\"score\": 1.0, \"date\": \"2022-04-16T13:00:00+00:00\", \"filtered\": [\"//t.co/TUpApozOzx\", \"sale\", \"and\", \"Best\", \"for\", \"in\", \"Cyptocurrency\", \"For\", \"DeFi\", \"domainsforsale\", \"domains\", \"blogger\", \"seo\", \"web3\", \"NFT\", \"Metaverse\", \"nfts\", \"https\"], \"replyCount\": 1, \"retweetCount\": 1, \"likeCount\": 4, \"quoteCount\": 0, \"dateonly\": \"2022-04-16T00:00:00\"}, {\"score\": -0.025000000000000022, \"date\": \"2022-04-16T12:32:36+00:00\", \"filtered\": [\"launched\", \"Full\", \"\\ud83d\\udd25\", \"played\", \"MetaxyMXY\", \"game\", \"then\", \"are\", \"you\", \"waiting\", \"Play\", \"..\", \"Meta\", \"Defigaming\", \"https\"], \"replyCount\": 0, \"retweetCount\": 6, \"likeCount\": 12, \"quoteCount\": 0, \"dateonly\": \"2022-04-16T00:00:00\"}, {\"score\": 0.35, \"date\": \"2022-04-16T11:52:18+00:00\", \"filtered\": [\"finally\", \"around\", \"placing\", \"gorgeous\", \"on\", \"avi\", \"you\", \"officialmimiart\", \"this\", \"work\", \"art\", \"vr\", \"meta\", \"digitalart\", \"//t.co/nNupiRBEbK\"], \"replyCount\": 1, \"retweetCount\": 3, \"likeCount\": 4, \"quoteCount\": 0, \"dateonly\": \"2022-04-16T00:00:00\"}, {\"score\": -0.1875, \"date\": \"2022-04-16T11:33:00+00:00\", \"filtered\": [\"23\", \"since\", \"disabled\", \"&\", \";\", \"vaguely\", \"violation\", \"``\", \"standards\", \"No\", \"to\", \"and\", \"care\", \"economic\", \"to\", \"small\", \"business\", \"Who\", \"help\", \"Facebook\", \"MetaNewsroom\", \"instagram\", \"RepRoKhanna\", \"//t.co/nnClE7nOWo\"], \"replyCount\": 15, \"retweetCount\": 1, \"likeCount\": 7, \"quoteCount\": 1, \"dateonly\": \"2022-04-16T00:00:00\"}, {\"score\": 0.4, \"date\": \"2022-04-16T11:25:16+00:00\", \"filtered\": [\"//t.co/fK8cFMyXeD\", \"available\", \"sale\", \"domainnames\", \"startups\", \"defi\", \"cryptocurrency\", \"crypto\", \"ethereum\", \"bigdata\", \"business\", \"Entrepreneur\", \"Metaverse\", \"Web3\", \"runner\"], \"replyCount\": 2, \"retweetCount\": 2, \"likeCount\": 9, \"quoteCount\": 0, \"dateonly\": \"2022-04-16T00:00:00\"}, {\"score\": 0.1, \"date\": \"2022-04-16T11:13:41+00:00\", \"filtered\": [\"birthday\", \"Enjin\", \"holder\", \"34\", \"old\", \"old\", \"pionner\", \"\\ud83c\\udf8a\\ud83c\\udf8a\\ud83c\\udf8a\\ud83c\\udf8a\", \"metaverse\", \"pionner\", \"NFT\", \"//t.co/hAfDMZvE3a\"], \"replyCount\": 3, \"retweetCount\": 0, \"likeCount\": 7, \"quoteCount\": 1, \"dateonly\": \"2022-04-16T00:00:00\"}, {\"score\": 0.5, \"date\": \"2022-04-16T11:07:11+00:00\", \"filtered\": [\"Infinity\", \"Twitter\\ud83d\\ude80\", \"reality\", \"with\", \"Infinity\\u2747\\ufe0f\", \"step\", \"to\", \"change\", \"the\", \"world\\u2747\\ufe0f\", \"sure\", \"have\", \"turned\", \"Metaverse\", \"MIT\", \"MIT\"], \"replyCount\": 1, \"retweetCount\": 0, \"likeCount\": 107, \"quoteCount\": 0, \"dateonly\": \"2022-04-16T00:00:00\"}, {\"score\": 0.6, \"date\": \"2022-04-16T10:44:06+00:00\", \"filtered\": [\"Deluxe\", \"Sold\", \"0.58\\u039e\", \"//t.co/SYTUzVQQcI\", \"NFTs\", \"cryptoart\", \"nftcollector\", \"nftcrypto\", \"//t.co/SJRvnWmYOq\"], \"replyCount\": 4, \"retweetCount\": 4, \"likeCount\": 13, \"quoteCount\": 3, \"dateonly\": \"2022-04-16T00:00:00\"}, {\"score\": 0.7, \"date\": \"2022-04-16T10:30:01+00:00\", \"filtered\": [\"//t.co/r9jVYwcQbN\", \"Perfect\", \"available\", \"acquisition\", \"nfts\", \"domains\", \"domainsforsale\", \"meta\", \"metaverse\", \"dao\", \"Bitcoin\", \"data\", \"stream\"], \"replyCount\": 2, \"retweetCount\": 3, \"likeCount\": 4, \"quoteCount\": 2, \"dateonly\": \"2022-04-16T00:00:00\"}, {\"score\": 0.1, \"date\": \"2022-04-16T09:47:02+00:00\", \"filtered\": [\"young\", \"\\u2019\", \"attitude\", \"her\", \"makes\", \"heart\", \"Well\", \"Nimra\", \"being\", \"a\", \"and\", \"student\", \"readyforrecall\", \"alwaysstudent\", \"\\ud83e\\udd84\", \"https\"], \"replyCount\": 2, \"retweetCount\": 1, \"likeCount\": 27, \"quoteCount\": 0, \"dateonly\": \"2022-04-16T00:00:00\"}, {\"score\": 0.13636363636363635, \"date\": \"2022-04-16T09:35:23+00:00\", \"filtered\": [\"is\", \"new\", \"metaverse\", \"artyfact_art\", \"Be\", \"to\", \"about\", \"the\", \"Metanews\", \"meta\", \"VR\", \"Join\", \"community\", \"//t.co/pz78ao2N2A\", \"//t.co/UBHHCHN2QU\"], \"replyCount\": 1, \"retweetCount\": 0, \"likeCount\": 3, \"quoteCount\": 1, \"dateonly\": \"2022-04-16T00:00:00\"}, {\"score\": 0.4, \"date\": \"2022-04-16T08:22:55+00:00\", \"filtered\": [\"nft\", \"Do\", \"the\", \"lights\", \"is\", \"NFT\", \"nftcollector\", \"NFTartist\", \"Polygon\", \"NFTs\", \"opensea\", \"Ethereum\", \"meta\", \"Light\", \"//t.co/QBbC39G4Pf\"], \"replyCount\": 2, \"retweetCount\": 0, \"likeCount\": 10, \"quoteCount\": 12, \"dateonly\": \"2022-04-16T00:00:00\"}, {\"score\": 0.04545454545454545, \"date\": \"2022-04-16T07:47:27+00:00\", \"filtered\": [\"WhatsApp\", \"announced\", \"new\", \"named\", \"It\", \"allow\", \"to\", \"bring\", \"separate\", \"under\", \"community\", \"community\", \"be\", \"a\", \"local\", \"restaurants\", \"religious\", \"etc\", \"//t.co/yrLIWkJhZB\"], \"replyCount\": 0, \"retweetCount\": 0, \"likeCount\": 5, \"quoteCount\": 0, \"dateonly\": \"2022-04-16T00:00:00\"}, {\"score\": 0.5, \"date\": \"2022-04-16T07:00:00+00:00\", \"filtered\": [\"//t.co/VRLyqxuroC\", \"sale\", \"letter\", \"memorable\", \"catchy\", \"for\", \"your\", \"business\", \"example\", \"Type\", \"Bar\", \"sedo\", \"websites\", \"onlinebusiness\", \"web3\", \"Metaverse\", \"metafi\", \"seo\", \"//t.co/8ZTqJJaYFo\"], \"replyCount\": 0, \"retweetCount\": 2, \"likeCount\": 3, \"quoteCount\": 0, \"dateonly\": \"2022-04-16T00:00:00\"}, {\"score\": -0.4, \"date\": \"2022-04-16T06:02:06+00:00\", \"filtered\": [\"19\", \"asking\", \"out\", \"e-meet\", \"If\", \"living\", \"let\", \"\\u2019\", \"the\", \"who\", \"it\", \"\\u2019\", \"s\", \"create\", \"a\", \"real-life\", \"game\", \"nfts\", \"nftcollector\", \"nftproject\", \"nftcommunity\", \"Elonmusk\"], \"replyCount\": 3, \"retweetCount\": 0, \"likeCount\": 3, \"quoteCount\": 2, \"dateonly\": \"2022-04-16T00:00:00\"}, {\"score\": 0.8, \"date\": \"2022-04-16T05:00:08+00:00\", \"filtered\": [\"metaverse\", \"great\", \"\\u2014\", \"great\", \"https\", \"AIEthics\", \"AI\", \"DeepLearning\", \"100DaysOfCode\", \"insurtech\", \"bitcoin\", \"cybersecurite\", \"https\"], \"replyCount\": 0, \"retweetCount\": 19, \"likeCount\": 15, \"quoteCount\": 0, \"dateonly\": \"2022-04-16T00:00:00\"}, {\"score\": -0.05, \"date\": \"2022-04-16T04:42:10+00:00\", \"filtered\": [\"We\", \"mental\", \"Our\", \"consists\", \"therapists\", \"different\", \"to\", \"\\ud83d\\udc96\", \"and\", \"peace\", \"\\ud83e\\udef6\", \"NFTs\", \"NFTCommunity\", \"nftcollector\", \"Airdrops\", \"Crypto\", \"Metaverse\", \"//t.co/rUeP8wnVcP\"], \"replyCount\": 15, \"retweetCount\": 94, \"likeCount\": 103, \"quoteCount\": 6, \"dateonly\": \"2022-04-16T00:00:00\"}, {\"score\": 0.05, \"date\": \"2022-04-16T04:32:06+00:00\", \"filtered\": [\"are\", \"young\", \"glued\", \"their\", \"rather\", \"chatting\", \"dining\", \"But\", \"gentleman\", \"taking\", \"to\", \"next\", \"Harbingers\", \"things\", \"to\", \"come\", \"the\", \"Meta\", \"?\", \"//t.co/V6hc7dKXEe\"], \"replyCount\": 1, \"retweetCount\": 1, \"likeCount\": 10, \"quoteCount\": 0, \"dateonly\": \"2022-04-16T00:00:00\"}, {\"score\": 0.13636363636363635, \"date\": \"2022-04-16T03:38:59+00:00\", \"filtered\": [\"from\", \"in\", \"live\", \"twitch\", \"https\", \"https\", \"PARCELPARTIES\", \"ManaDaiquiriDCL\", \"tangpoko\", \"father_fin\", \"meta\", \"https\"], \"replyCount\": 0, \"retweetCount\": 3, \"likeCount\": 10, \"quoteCount\": 0, \"dateonly\": \"2022-04-16T00:00:00\"}, {\"score\": 0.4166666666666667, \"date\": \"2022-04-16T03:07:00+00:00\", \"filtered\": [\"has\", \"successfully\", \"on\", \"But\", \"have\", \"exhibited\", \"few\", \"Please\", \"a\", \"if\", \"have\", \"It\", \"also\", \"to\", \"Please\", \"good\", \"with\", \"nft\", \"opensea\", \"https\"], \"replyCount\": 1, \"retweetCount\": 0, \"likeCount\": 4, \"quoteCount\": 0, \"dateonly\": \"2022-04-16T00:00:00\"}, {\"score\": -0.5, \"date\": \"2022-04-16T01:53:48+00:00\", \"filtered\": [\"The\", \"will\", \"day\", \"the\", \"source\", \"all\", \"interaction\", \"Sorry\", \"but\", \"think\", \"'ve\", \"a\", \"too\", \"to\", \"FUDtheMetaverse\", \"Metamask\", \"NFT\", \"nftart\", \"nftcollectors\", \"NFTshill\", \"NFTGiveaways\", \"//t.co/aowprMHYgO\"], \"replyCount\": 2, \"retweetCount\": 2, \"likeCount\": 8, \"quoteCount\": 2, \"dateonly\": \"2022-04-16T00:00:00\"}, {\"score\": 0.5, \"date\": \"2022-04-16T00:49:24+00:00\", \"filtered\": [\"video\", \"tonight\", \"the\", \"DONT\", \"IT\", \"*\", \"*\", \"the\", \"bell\", \"my\", \"&\", \";\", \"sure\", \"subscribe\", \"M16\", \"Loadout\", \"YouTube\", \"https\", \"//t.co/CbWKccv0S5\"], \"replyCount\": 0, \"retweetCount\": 3, \"likeCount\": 9, \"quoteCount\": 0, \"dateonly\": \"2022-04-16T00:00:00\"}, {\"score\": -0.125, \"date\": \"2022-04-15T23:17:16+00:00\", \"filtered\": [\"//t.co/m40WbR9loL\", \"for\", \"at\", \"Lower\", \"``\", \"dictionary\", \"domains\", \"extremely\", \"making\", \"domain\", \"desirable\", \"io\", \"Phrases\", \"AI\", \"NFT\", \"Metaverse\", \"domainforsale\", \"Brandable\"], \"replyCount\": 1, \"retweetCount\": 2, \"likeCount\": 5, \"quoteCount\": 0, \"dateonly\": \"2022-04-15T00:00:00\"}, {\"score\": 0.1, \"date\": \"2022-04-15T23:01:14+00:00\", \"filtered\": [\"much\", \"this\", \"We\", \"to\", \"reviews\", \"to\", \"help\", \"on\", \"Have\", \"you\", \"left\", \"review\", \"?\", \"link\", \"https\", \"oculus\", \"vrgame\", \"https\"], \"replyCount\": 0, \"retweetCount\": 2, \"likeCount\": 5, \"quoteCount\": 0, \"dateonly\": \"2022-04-15T00:00:00\"}, {\"score\": -0.4, \"date\": \"2022-04-15T22:20:25+00:00\", \"filtered\": [\"Update\", \"out\", \"the\", \"RELOADING\", \"https\", \"meta\", \"game\", \"news\", \"gamedev\"], \"replyCount\": 0, \"retweetCount\": 14, \"likeCount\": 13, \"quoteCount\": 0, \"dateonly\": \"2022-04-15T00:00:00\"}, {\"score\": 0.5, \"date\": \"2022-04-15T22:07:10+00:00\", \"filtered\": [\"that\", \"minted\", \"when\", \"where\", \"to\", \"what\", \"can\", \"Please\", \"one\", \"many\", \"of\", \"team\", \"and\", \"the\", \"work\", \"put\", \"us\", \"Metaverse\", \"SolanaNFT\", \"NFT\", \"//t.co/oHWh1hnh7T\"], \"replyCount\": 1, \"retweetCount\": 0, \"likeCount\": 5, \"quoteCount\": 0, \"dateonly\": \"2022-04-15T00:00:00\"}, {\"score\": 1.0, \"date\": \"2022-04-15T21:45:51+00:00\", \"filtered\": [\"is\", \"best\", \"on\", \"No\", \"here\", \"Island\", \"Loadout\", \"CAP\", \"C58\", \"MP40\", \"30\", \"https\", \"via\", \"Warzone\", \"Rebirth\", \"RebirthIsland\", \"METALoadout\"], \"replyCount\": 0, \"retweetCount\": 0, \"likeCount\": 4, \"quoteCount\": 0, \"dateonly\": \"2022-04-15T00:00:00\"}, {\"score\": 0.5340909090909091, \"date\": \"2022-04-15T21:45:06+00:00\", \"filtered\": [\"happens\", \"entertainment\", \"with\", \"creation\", \"The\", \"This\", \"is\", \"an\", \"world\", \"users\", \"able\", \"live\", \"meta\", \"You\", \"by\", \"what\", \"love\", \"best\", \"and\", \"NFTCommunity\", \"//t.co/Slv9KtPCzF\"], \"replyCount\": 5, \"retweetCount\": 1, \"likeCount\": 26, \"quoteCount\": 1, \"dateonly\": \"2022-04-15T00:00:00\"}, {\"score\": -0.0625, \"date\": \"2022-04-15T21:35:04+00:00\", \"filtered\": [\"possibilities\", \"is\", \"users\", \"it\", \"all\", \"the\", \"families\", \"up\", \"do\", \"and\", \"jobs\", \"other\", \"resorts\", \"workers\", \"can\", \"extract\", \"by\", \"daily\", \"Sabai\", \"Metaverse\", \"NFT\", \"https\"], \"replyCount\": 4, \"retweetCount\": 3, \"likeCount\": 26, \"quoteCount\": 0, \"dateonly\": \"2022-04-15T00:00:00\"}, {\"score\": 0.13636363636363635, \"date\": \"2022-04-15T21:15:13+00:00\", \"filtered\": [\"us\", \"MetaZone\", \"Call\", \"starts\", \"45min\", \"call\", \"happen\", \"//t.co/FDfHUTWBEJ\", \"live\", \"in\", \"our\", \"Be\", \"to\", \"POAP\", \"and\", \"a\", \"chance\", \"at\", \"a\", \"META\", \"UtilityNFTs\", \"META\", \"https\", \"//t.co/zAvRSo9NZO\"], \"replyCount\": 0, \"retweetCount\": 7, \"likeCount\": 22, \"quoteCount\": 1, \"dateonly\": \"2022-04-15T00:00:00\"}, {\"score\": 0.16818181818181818, \"date\": \"2022-04-15T19:50:56+00:00\", \"filtered\": [\"today\", \"created\", \"new\", \"Collection\", \"number\", \"ready\", \"Metaverse\", \"Follow\", \"evolution\", \"development\", \"David\", \"Proofs\", \"of\", \"creation\", \"NFTCollection\", \"NFTs\", \"Meta\", \"rarible\", \"https\", \"//t.co/HPTrvsrB2s\"], \"replyCount\": 0, \"retweetCount\": 1, \"likeCount\": 7, \"quoteCount\": 0, \"dateonly\": \"2022-04-15T00:00:00\"}, {\"score\": 0.8, \"date\": \"2022-04-15T19:46:00+00:00\", \"filtered\": [\"Games\", \"happy\", \"participate\", \"the\", \"multi\", \"giveaway\", \"Alongside\", \"NakamotoGames\", \"fifteen\", \"play2earn\", \"meta\", \"we\", \"giving\", \"a\", \"of\", \"20,000\", \"NFT\", \"and\", \"Like\", \"and\", \"the\", \"https\"], \"replyCount\": 0, \"retweetCount\": 4, \"likeCount\": 11, \"quoteCount\": 0, \"dateonly\": \"2022-04-15T00:00:00\"}, {\"score\": 0.225, \"date\": \"2022-04-15T18:36:00+00:00\", \"filtered\": [\"MetaVas\", \"we\", \"call\", \"own\", \"MetaVas\", \"depicts\", \"'s\", \"culture\", \"afrocentric\", \"like\", \"other\", \"A\", \"Metaverse\", \"the\", \"If\", \"are\", \"this\", \"'re\", \"very\", \"MetaVas\", \"Meta\", \"metaverse\", \"Africa\", \"afrospace\"], \"replyCount\": 1, \"retweetCount\": 2, \"likeCount\": 14, \"quoteCount\": 0, \"dateonly\": \"2022-04-15T00:00:00\"}, {\"score\": 0.2, \"date\": \"2022-04-15T18:27:10+00:00\", \"filtered\": [\"response\", \"\\u2019\", \"motion\", \"to\", \"dismiss\", \"\\u2018\", \"anti-censorship\", \"My\", \"absolutely\", \"their\", \"for\", \"(\", \"\\u2019\", \"motion\", \"is\", \"attached\", \"the\", \")\", \"is\", \"21.\", \"//t.co/uXs9xEAWrA\", \"meta\", \"facebook\", \"//t.co/v4yq4IxwNM\"], \"replyCount\": 1, \"retweetCount\": 4, \"likeCount\": 7, \"quoteCount\": 0, \"dateonly\": \"2022-04-15T00:00:00\"}, {\"score\": 0.3416666666666667, \"date\": \"2022-04-15T18:13:55+00:00\", \"filtered\": [\"has\", \"advantage\", \"bringing\", \"1\", \"exponentially\", \"CF\", \"&\", \";\", \")\", \"\\u2013\", \"it\", \"lead\", \"a\", \"higher\", \"valuation\", \"compared\", \"the\", \"market\", \"HODL\", \"strong\", \"DeFi\", \"eth\", \"nft\", \"//t.co/3muN77w6GS\"], \"replyCount\": 22, \"retweetCount\": 50, \"likeCount\": 105, \"quoteCount\": 1, \"dateonly\": \"2022-04-15T00:00:00\"}, {\"score\": -0.0625, \"date\": \"2022-04-15T18:00:35+00:00\", \"filtered\": [\"is\", \"I\", \"been\", \"Take\", \"current\", \"merge\", \"with\", \"mad\", \"and\", \"evolution\", \"it\", \"s\", \"You\", \"build\", \"best\", \"lines\", \"the\", \"MAD\", \"\\ud83d\\udd25\", \"eth\", \"NFTgame\", \"GameFi\", \"https\"], \"replyCount\": 0, \"retweetCount\": 1, \"likeCount\": 4, \"quoteCount\": 1, \"dateonly\": \"2022-04-15T00:00:00\"}, {\"score\": 0.35, \"date\": \"2022-04-15T17:50:22+00:00\", \"filtered\": [\"Enthusiats\\ud83e\\udd73\\ud83e\\udd73THANK\", \"20,000\", \"done\", \"thank\", \"very\", \"``\", \"''\", \"are\", \"great\", \"nftcommunity\", \"next\", \"25,000\", \"Click\\ud83d\\udd14\\ud83d\\udc48dont\", \"anything\", \"support\", \"free\", \"NFTdrops\", \"META\"], \"replyCount\": 0, \"retweetCount\": 0, \"likeCount\": 3, \"quoteCount\": 1, \"dateonly\": \"2022-04-15T00:00:00\"}, {\"score\": 1.0, \"date\": \"2022-04-15T17:41:37+00:00\", \"filtered\": [\"awesome\", \"mypethooligan\", \"metaverse\", \"https\"], \"replyCount\": 1, \"retweetCount\": 0, \"likeCount\": 3, \"quoteCount\": 0, \"dateonly\": \"2022-04-15T00:00:00\"}, {\"score\": 0.25, \"date\": \"2022-04-15T17:38:29+00:00\", \"filtered\": [\"COUNTDOWN\", \"Games\", \"\\ud83d\\udd25PRESALE\", \"Do\", \"miss\", \"chance\", \"buy\", \"first\", \"exclusive\", \"-\", \"us\", \"in\", \"Telegram\", \"check\", \"our\", \"website\\ud83d\\udc47\\ud83c\\udffc\", \"//t.co/L0kO9PFAsr\", \"meta\", \"presale\", \"//t.co/sfBvuH7xye\"], \"replyCount\": 6, \"retweetCount\": 1, \"likeCount\": 9, \"quoteCount\": 3, \"dateonly\": \"2022-04-15T00:00:00\"}, {\"score\": 0.1, \"date\": \"2022-04-15T17:30:14+00:00\", \"filtered\": [\"will\", \"the\", \"battle\", \"commercially\", \"there\", \"a\", \"answer\", \"Really\", \"your\", \"metaverse\", \"tech\", \"blockchain\", \"P2E\", \"$\", \"$\", \"$\", \"(\", \"ipo\", \"$\", \")\"], \"replyCount\": 5, \"retweetCount\": 4, \"likeCount\": 11, \"quoteCount\": 2, \"dateonly\": \"2022-04-15T00:00:00\"}, {\"score\": 0.5, \"date\": \"2022-04-15T16:53:00+00:00\", \"filtered\": [\"is\", \"?\", \"a\", \"more\", \"this\", \"technology\", \"Gartner_inc\", \"Tech\", \"Innovation\", \"AI\", \"Hype\", \"//t.co/mjXDDL4ky7\", \"https\", \"//t.co/m5FlPUN01y\"], \"replyCount\": 2, \"retweetCount\": 0, \"likeCount\": 7, \"quoteCount\": 1, \"dateonly\": \"2022-04-15T00:00:00\"}, {\"score\": 0.13636363636363635, \"date\": \"2022-04-15T16:52:09+00:00\", \"filtered\": [\"everyone\", \"The\", \"Netwrk\", \"Official\", \"Twitter\", \"Live\", \"eastern\", \"is\", \"\\u2019\", \"stop\", \"at\", \"before\", \"the\", \"Metaverse\\ud83e\\udd2d\\ud83e\\udd10\\ud83d\\ude0e\\ud83d\\ude80\\ud83d\\ude80\\ud83d\\ude80\", \"https\", \"//t.co/L48DBRujBW\", \"P2E\", \"cryptocurrency\", \"Telegram\", \"LAUNCH\"], \"replyCount\": 1, \"retweetCount\": 1, \"likeCount\": 3, \"quoteCount\": 1, \"dateonly\": \"2022-04-15T00:00:00\"}, {\"score\": -0.03181818181818183, \"date\": \"2022-04-15T16:44:27+00:00\", \"filtered\": [\"META\", \"WAR\", \"LIVE\", \"CLAIM\", \"here\", \"//t.co/AEZNq5Nt9t\", \"ROUND\", \"(\", \"-\", \")\", \"Price\", \"MAWT=0.0003\", \"Referral\", \"%\", \"Invite\", \"to\", \"get\", \"20000\", \"MAWT\", \"Token\", \"on\", \"every\", \"META\", \"https\"], \"replyCount\": 102, \"retweetCount\": 464, \"likeCount\": 596, \"quoteCount\": 58, \"dateonly\": \"2022-04-15T00:00:00\"}, {\"score\": 0.3, \"date\": \"2022-04-15T16:42:59+00:00\", \"filtered\": [\"vladtenev\", \"Today\", \"META\", \"laugh\", \"..\", \"and\", \"laugh\", \"//t.co/ulSNqkjGmK\"], \"replyCount\": 2, \"retweetCount\": 1, \"likeCount\": 3, \"quoteCount\": 0, \"dateonly\": \"2022-04-15T00:00:00\"}, {\"score\": 0.5, \"date\": \"2022-04-15T16:00:42+00:00\", \"filtered\": [\"we\", \"just\", \"another\", \"with\", \"USD\", \"million\", \"paid\", \"to\", \"in\", \"arena\", \"Visit\", \"//t.co/RKK2F0xTQ9\", \"more\", \"NFTcommunity\", \"metaverse\", \"virtualworld\", \"//t.co/xUDzWKGu4g\"], \"replyCount\": 1, \"retweetCount\": 4, \"likeCount\": 13, \"quoteCount\": 1, \"dateonly\": \"2022-04-15T00:00:00\"}, {\"score\": -0.06666666666666667, \"date\": \"2022-04-15T15:52:08+00:00\", \"filtered\": [\"facebookapp\", \"foisting\", \"security\", \"that\", \"not\", \"ready\", \"launch\", \"frustrating\", \"takes\", \"the\", \"fun\", \"of\", \"your\", \"Setting\", \"two\", \"authentication\", \"your\", \"process\", \"not\", \"Facebook\"], \"replyCount\": 4, \"retweetCount\": 0, \"likeCount\": 4, \"quoteCount\": 0, \"dateonly\": \"2022-04-15T00:00:00\"}, {\"score\": 0.5, \"date\": \"2022-04-15T15:50:18+00:00\", \"filtered\": [\"$\", \"KyberNetwork\", \"only\", \"10\", \"1/Layer\", \"chains\", \"perform\", \"on\", \"it\", \"'s\", \"than\", \"and\", \"utilize\", \"pools\", \"multiswaps\", \"to\", \"achieve\", \"best\", \"pricing\", \"ETH\", \"LRC\", \"MATIC\", \"DEFI\", \"https\"], \"replyCount\": 0, \"retweetCount\": 0, \"likeCount\": 3, \"quoteCount\": 0, \"dateonly\": \"2022-04-15T00:00:00\"}, {\"score\": 0.3, \"date\": \"2022-04-15T15:46:13+00:00\", \"filtered\": [\"the\", \"fun\", \"''\", \"of\", \"with\", \"blockchain\", \"blockchainnews\", \"bitcoin\", \"nft\", \"btcpics\", \"bitcoinnews\", \"bitcoinprice\", \"blockchaingames\", \"nft\", \"meta\", \"//t.co/QyNsAFjUi1\"], \"replyCount\": 5, \"retweetCount\": 2, \"likeCount\": 6, \"quoteCount\": 1, \"dateonly\": \"2022-04-15T00:00:00\"}, {\"score\": 0.6, \"date\": \"2022-04-15T15:12:19+00:00\", \"filtered\": [\"Deluxe\", \"Sold\", \"0.61\\u039e\", \"//t.co/hjND8YMhLM\", \"NFTs\", \"opensea\", \"nftcreator\", \"//t.co/HKbU5zUO5R\"], \"replyCount\": 3, \"retweetCount\": 3, \"likeCount\": 14, \"quoteCount\": 3, \"dateonly\": \"2022-04-15T00:00:00\"}, {\"score\": 0.25, \"date\": \"2022-04-15T15:10:00+00:00\", \"filtered\": [\"fees\", \"creators\", \"sales\", \"the\", \"by\", \"-\", \"to\", \"%\", \"think\", \"pretty\", \"rate\", \"the\", \"...\", \"''\", \"Vivek\", \"Meta\", \"'s\", \"VP\", \"Horizon\", \"they\", \"rates\", \"\\ud83d\\udcac\", \"article\", \"\\ud83d\\udcf0\", \"//t.co/1VvkUN9Eo5\"], \"replyCount\": 0, \"retweetCount\": 1, \"likeCount\": 3, \"quoteCount\": 0, \"dateonly\": \"2022-04-15T00:00:00\"}, {\"score\": 0.11666666666666665, \"date\": \"2022-04-15T14:28:08+00:00\", \"filtered\": [\"is\", \"out\", \"time\", \"we\", \"like\", \"inform\", \"of\", \"the\", \"have\", \"made\\u203c\\ufe0f\", \"you\", \"curious\", \"which\", \"changes\", \"?\", \"quickly\", \"the\", \"below\\u2b07\\ufe0f\", \"//t.co/rWEObp7XMA\", \"CWE\", \"P2E\", \"NFTCommunity\", \"https\"], \"replyCount\": 8, \"retweetCount\": 18, \"likeCount\": 38, \"quoteCount\": 2, \"dateonly\": \"2022-04-15T00:00:00\"}, {\"score\": 0.4000000000000001, \"date\": \"2022-04-15T14:00:37+00:00\", \"filtered\": [\"this\", \"of\", \"weekly\", \"\\ud83d\\udd39\", \"leads\", \"huge\", \"for\", \"\\ud83d\\udd39\", \"\\u2019\", \"50\", \"fees\", \"tongues\", \"\\ud83d\\udd39Behold\", \"NexoCard\", \"https\"], \"replyCount\": 2, \"retweetCount\": 17, \"likeCount\": 76, \"quoteCount\": 0, \"dateonly\": \"2022-04-15T00:00:00\"}, {\"score\": 0.25, \"date\": \"2022-04-15T13:51:56+00:00\", \"filtered\": [\"training\", \"jobs\", \"of\", \"the\", \"metaverse\", \"change\", \"the\", \"face\", \"of\", \"work\", \"but\", \"exactly\", \"Read\", \"from\", \"and\", \"https\", \"Meta\", \"Web3\", \"https\"], \"replyCount\": 1, \"retweetCount\": 1, \"likeCount\": 4, \"quoteCount\": 0, \"dateonly\": \"2022-04-15T00:00:00\"}, {\"score\": 0.2, \"date\": \"2022-04-15T13:37:00+00:00\", \"filtered\": [\"is\", \"its\", \"Horizon\", \"metaverse\", \"its\", \"to\", \"virtual\", \"via\", \"platform\", \"also\", \"to\", \"take\", \"hefty\", \"of\", \"pie\", \"much\", \"Read\", \"https\", \"NFTPlazas\", \"NFTCommunity\", \"Zuckerberg\"], \"replyCount\": 1, \"retweetCount\": 4, \"likeCount\": 8, \"quoteCount\": 0, \"dateonly\": \"2022-04-15T00:00:00\"}, {\"score\": -0.5, \"date\": \"2022-04-15T13:30:48+00:00\", \"filtered\": [\"zerozerocoins\", \"I\", \"an\", \"in\", \"\\u201e\", \"Gazette\", \"about\", \"random\", \"of\", \"making\", \"sprouts\", \"like\", \"'s\", \"rolls\", \"you\", \"?\", \"ens\", \"Metaverse\", \"ETH\"], \"replyCount\": 2, \"retweetCount\": 2, \"likeCount\": 8, \"quoteCount\": 0, \"dateonly\": \"2022-04-15T00:00:00\"}, {\"score\": 0.1, \"date\": \"2022-04-15T13:29:43+00:00\", \"filtered\": [\"$\", \"CONTEST\", \"Complete\", \"and\", \"$\", \"tokens\", \"4/4\", \"MetaverseNFT\", \"BSCGemsAlert\"], \"replyCount\": 0, \"retweetCount\": 5, \"likeCount\": 12, \"quoteCount\": 0, \"dateonly\": \"2022-04-15T00:00:00\"}, {\"score\": 0.37878787878787873, \"date\": \"2022-04-15T13:29:02+00:00\", \"filtered\": [\"B2BMarketingNews\", \"explores\\ud83c\\udf99\", \"B2B\", \"podcasting\", \"LinkedIn\", \"new\", \"Page\", \"\\ud83c\\udf20\", \"s\", \"3D\", \"&\", \";\", \"Instagram\", \"\\u2019\", \"s\", \"responses\", \"has\", \"&\", \";\", \"more\", \"top\", \"stories\", \"insight\", \"tamadear\", \"https\", \"https\"], \"replyCount\": 0, \"retweetCount\": 2, \"likeCount\": 4, \"quoteCount\": 0, \"dateonly\": \"2022-04-15T00:00:00\"}, {\"score\": 0.2, \"date\": \"2022-04-15T13:22:00+00:00\", \"filtered\": [\"Decentraland\", \"metaverse\", \"the\", \"meta\", \"A\", \"from\", \"got\", \"before\", \"guests\", \"law\", \"for\", \"registration\", \"received\", \"NFT\", \"certificate\", \"couple\", \"been\", \"for\", \"years\", \"real\", \"https\"], \"replyCount\": 1, \"retweetCount\": 1, \"likeCount\": 8, \"quoteCount\": 0, \"dateonly\": \"2022-04-15T00:00:00\"}, {\"score\": 0.03333333333333333, \"date\": \"2022-04-15T13:14:33+00:00\", \"filtered\": [\"is\", \"on\", \"of\", \"Horizon\", \"It\", \"planning\", \"bring\", \"Horizon\", \"social\", \"metaverse\", \"platform\", \"the\", \"web\", \"It\", \"make\", \"easier\", \"acces\", \"Meta\", \"https\"], \"replyCount\": 1, \"retweetCount\": 4, \"likeCount\": 3, \"quoteCount\": 0, \"dateonly\": \"2022-04-15T00:00:00\"}, {\"score\": 0.4000000000000001, \"date\": \"2022-04-15T13:04:40+00:00\", \"filtered\": [\"just\", \"'NFT\", \"Huge\", \"for\", \"Meta\", \"Logan\", \"trading\", \"plus\", \"and\", \"of\", \"to\", \"NFTs\", \"//t.co/158ZvwIvHP\", \"metavers\", \"meta\", \"SOL\"], \"replyCount\": 1, \"retweetCount\": 1, \"likeCount\": 7, \"quoteCount\": 1, \"dateonly\": \"2022-04-15T00:00:00\"}, {\"score\": 0.2, \"date\": \"2022-04-15T12:52:57+00:00\", \"filtered\": [\"\\u2019\", \"all\", \"Web3\", \"the\", \"but\", \"this\", \"much\", \"\\ud83d\\ude05\", \"nfts\", \"web3\", \"MetaverseNFT\", \"//t.co/ConE1LcNCr\"], \"replyCount\": 5, \"retweetCount\": 4, \"likeCount\": 14, \"quoteCount\": 4, \"dateonly\": \"2022-04-15T00:00:00\"}, {\"score\": 0.1, \"date\": \"2022-04-15T12:21:13+00:00\", \"filtered\": [\"BlockchainTechnology\", \"Shelt\", \"sensitive\", \"with\", \"//t.co/aKAEkY3Snj\", \"just\", \"Feel\", \"to\", \"me\", \"by\", \"\\ud83d\\udce5\", \"authCode\", \"Commerce\", \"Meta\", \"BlockChain\", \"Domains\", \"CyberSecurity\", \"https\"], \"replyCount\": 4, \"retweetCount\": 2, \"likeCount\": 3, \"quoteCount\": 1, \"dateonly\": \"2022-04-15T00:00:00\"}, {\"score\": 0.25, \"date\": \"2022-04-15T12:11:15+00:00\", \"filtered\": [\"BlockchainTechnology\", \"Shelt\", \"sensitive\", \"with\", \"//t.co/aKAEkY3Snj\", \"this\", \"//t.co/i2AjhRyMe4\", \"free\", \"\\ud83d\\udce8\", \"\\ud83d\\udce4Pay\", \"Sedo\", \"Get\", \"\\ud83d\\udd1dStart\\ud83c\\udd99\", \"Metaverse\", \"Crypto\", \"ETH\", \"NFTs\", \"AIoT\"], \"replyCount\": 1, \"retweetCount\": 2, \"likeCount\": 4, \"quoteCount\": 4, \"dateonly\": \"2022-04-15T00:00:00\"}, {\"score\": 0.35714285714285715, \"date\": \"2022-04-15T12:03:55+00:00\", \"filtered\": [\"special\", \"these\", \"will\", \"a\", \"while\", \"MXY\", \"Metaxy\", \"NFT\", \"NFTgaming\", \"//t.co/3mIwFhQIoL\"], \"replyCount\": 2, \"retweetCount\": 7, \"likeCount\": 11, \"quoteCount\": 0, \"dateonly\": \"2022-04-15T00:00:00\"}, {\"score\": 0.2, \"date\": \"2022-04-15T12:02:28+00:00\", \"filtered\": [\"much\", \"being\", \"to\", \"tbings\", \"increse\", \"price\", \"the\", \"MXY\", \"..\", \"Meta\", \"Defigaming\", \"https\"], \"replyCount\": 1, \"retweetCount\": 6, \"likeCount\": 11, \"quoteCount\": 0, \"dateonly\": \"2022-04-15T00:00:00\"}, {\"score\": 0.03333333333333333, \"date\": \"2022-04-15T12:00:03+00:00\", \"filtered\": [\"to\", \"Horizon\", \"Social\", \"Verse\", \"on\", \"Metaverse\", \"nft\", \"web3\", \"https\"], \"replyCount\": 1, \"retweetCount\": 2, \"likeCount\": 4, \"quoteCount\": 1, \"dateonly\": \"2022-04-15T00:00:00\"}, {\"score\": 0.5, \"date\": \"2022-04-15T11:57:41+00:00\", \"filtered\": [\"\\ud83e\\udd73\", \"AliceeExplorer\", \"cripthough\", \"bitbini\", \"CamelliaCrypt\", \"KeithKwL1\", \"won\", \"10\", \"spots\", \"More\", \"are\", \"\\ud83d\\ude80\", \"tuned\", \"OpenVerse\", \"web3\", \"//t.co/sfc0xvXmqA\"], \"replyCount\": 5, \"retweetCount\": 17, \"likeCount\": 53, \"quoteCount\": 0, \"dateonly\": \"2022-04-15T00:00:00\"}, {\"score\": -0.05, \"date\": \"2022-04-15T11:11:20+00:00\", \"filtered\": [\"META\", \"nft\", \"CozomoMedici\", \"nftart\", \"it\", \"is\", \"next\", \"&\", \";\", \"your\", \"project\", \"rocket\", \"unknown\", \"to\", \"celebrity\", \"Keep\", \"keep\", \"do\", \"n't\", \"stop\", \"https\"], \"replyCount\": 8, \"retweetCount\": 4, \"likeCount\": 6, \"quoteCount\": 3, \"dateonly\": \"2022-04-15T00:00:00\"}, {\"score\": 0.152, \"date\": \"2022-04-15T11:07:32+00:00\", \"filtered\": [\"High\", \"term\", \"huge\", \"accumulation\", \"At\", \"and\", \"last\", \"slowly\", \"and\", \"surely\", \"will\", \"\\ud83d\\udc4c\", \"meta\", \"jasmy\", \"Ach\", \"Lina\", \"Mdx\", \"$\", \"SXP\", \"$\", \"Grt\", \"//t.co/TVrvFbmH2j\"], \"replyCount\": 3, \"retweetCount\": 2, \"likeCount\": 4, \"quoteCount\": 0, \"dateonly\": \"2022-04-15T00:00:00\"}, {\"score\": 0.2916666666666667, \"date\": \"2022-04-15T10:57:27+00:00\", \"filtered\": [\")\", \"companies\", \"buy\", \"domains\", \"a\", \"of\", \"You\", \"probably\", \"observing\", \"p2e\", \"and\", \"gaming\", \"in\", \"are\", \"widely\", \"do\", \"miss\", \"chance\", \"own\", \"unique\", \"Thank\", \"for\", \"attention\", \"domains\", \"p2e\", \"//t.co/CPcvSXu1X8\"], \"replyCount\": 0, \"retweetCount\": 0, \"likeCount\": 4, \"quoteCount\": 0, \"dateonly\": \"2022-04-15T00:00:00\"}, {\"score\": 0.375, \"date\": \"2022-04-15T10:53:27+00:00\", \"filtered\": [\"peskypenguins\", \"to\", \"original\", \"PFP\", \"What\", \"deserves\", \"attention\", \"Can\", \"get\", \"n00t\", \"or\", \"FamousFoxFed\", \"SolanaNFT\", \"Web3\", \"//t.co/5uK7cmmCMQ\"], \"replyCount\": 30, \"retweetCount\": 10, \"likeCount\": 81, \"quoteCount\": 0, \"dateonly\": \"2022-04-15T00:00:00\"}, {\"score\": 0.5, \"date\": \"2022-04-15T10:15:55+00:00\", \"filtered\": [\"are\", \"the\", \"streamers\", \"?\", \"can\", \"think\", \"two\", \"xLilChaosx\", \"BrownraddadT\", \"Tag\", \"favorite\", \"nominate\", \"awards\", \"ContentCreator\", \"Meta\", \"//t.co/rboRMKc2vL\"], \"replyCount\": 0, \"retweetCount\": 0, \"likeCount\": 3, \"quoteCount\": 0, \"dateonly\": \"2022-04-15T00:00:00\"}, {\"score\": 0.19642857142857142, \"date\": \"2022-04-15T10:03:45+00:00\", \"filtered\": [\"were\", \"first\", \"in\", \"Pretty\", \"right\", \"They\", \"is\", \"future\", \"so\", \"\\u201e\", \"Meta\", \"was\", \"i\", \"for\", \"I\", \"m\", \"embarrassed\", \"some\", \"i\", \"hope\", \"will\", \"their\", \"to\", \"a\", \"buyer\", \"can\", \"them\", \"web3\", \"meta\", \"https\"], \"replyCount\": 7, \"retweetCount\": 0, \"likeCount\": 25, \"quoteCount\": 0, \"dateonly\": \"2022-04-15T00:00:00\"}, {\"score\": 0.03333333333333333, \"date\": \"2022-04-15T10:00:09+00:00\", \"filtered\": [\"to\", \"Horizon\", \"social\", \"platform\", \"web\", \"MarkZuckerberg\", \"Metaverse\", \"SocialMetaversePlatform\", \"https\"], \"replyCount\": 1, \"retweetCount\": 1, \"likeCount\": 4, \"quoteCount\": 0, \"dateonly\": \"2022-04-15T00:00:00\"}, {\"score\": 0.13636363636363635, \"date\": \"2022-04-15T09:30:09+00:00\", \"filtered\": [\"New\", \"will\", \"1\", \"reactions\", \"chat\", \"Upto\", \"PDF\", \"sharing\", \"Admins\", \"delete\", \"message\", \"others\", \"32\", \"group\", \"calls\", \"Community\", \"(\", \"business\", \"etc\", \"WhatsApp\", \"updates\"], \"replyCount\": 0, \"retweetCount\": 0, \"likeCount\": 3, \"quoteCount\": 0, \"dateonly\": \"2022-04-15T00:00:00\"}, {\"score\": 0.6, \"date\": \"2022-04-15T09:24:04+00:00\", \"filtered\": [\"Is\", \"Releasing\", \"Own\", \"Glasses\", \"2024\", \"//t.co/0WzVdJcKhe\", \"HYPEBEAST\", \"Meta\", \"//t.co/tjSy05gmrF\"], \"replyCount\": 0, \"retweetCount\": 0, \"likeCount\": 4, \"quoteCount\": 0, \"dateonly\": \"2022-04-15T00:00:00\"}, {\"score\": 0.4, \"date\": \"2022-04-15T08:39:44+00:00\", \"filtered\": [\"one\", \"stop\", \"Free\", \"go\", \"and\", \"TheNextInternet\", \"is\", \"Metapolis\", \"Metaverse\", \"ZilFam\", \"NFTs\", \"Meta\", \"//t.co/jA3AxpVy7b\"], \"replyCount\": 3, \"retweetCount\": 0, \"likeCount\": 4, \"quoteCount\": 3, \"dateonly\": \"2022-04-15T00:00:00\"}, {\"score\": -0.25, \"date\": \"2022-04-15T07:54:04+00:00\", \"filtered\": [\"for\", \"with\", \"on\", \"week\", \"'s\", \"mysterious\", \"conclude\", \"visit\", \"the\", \"and\", \"of\", \"depression\", \"superhero\", \"webcomic\", \"Superheroes\", \"comics\", \"weird\", \"FridayFeeling\", \"//t.co/vWwfcziEqz\"], \"replyCount\": 0, \"retweetCount\": 1, \"likeCount\": 6, \"quoteCount\": 0, \"dateonly\": \"2022-04-15T00:00:00\"}, {\"score\": 0.04285714285714287, \"date\": \"2022-04-15T07:23:37+00:00\", \"filtered\": [\"ManonLoyacono\", \"bought\", \"properties\", \"San\", \"lol\", \"is\", \"na\", \"sick\", \"nft\", \"SanFrancisco\", \"AxieInfinity\", \"meta\", \"ElonMusk\"], \"replyCount\": 2, \"retweetCount\": 0, \"likeCount\": 3, \"quoteCount\": 1, \"dateonly\": \"2022-04-15T00:00:00\"}, {\"score\": -0.4, \"date\": \"2022-04-15T07:22:55+00:00\", \"filtered\": [\"18\", \"asking\", \"out\", \"e-meet\", \"If\", \"living\", \"let\", \"\\u2019\", \"the\", \"who\", \"it\", \"\\u2019\", \"s\", \"create\", \"a\", \"real-life\", \"game\", \"nfts\", \"nftcollector\", \"nftproject\", \"nftcommunity\", \"Elonmusk\"], \"replyCount\": 2, \"retweetCount\": 0, \"likeCount\": 6, \"quoteCount\": 3, \"dateonly\": \"2022-04-15T00:00:00\"}, {\"score\": 0.225, \"date\": \"2022-04-15T07:16:24+00:00\", \"filtered\": [\"Games\", \"happy\", \"participate\", \"multi\", \"giveaway\", \"Alongside\", \"other\", \"projects\", \"'re\", \"away\", \"total\", \"$\", \"in\", \"'s\", \"and\", \"tokens\", \"retweet\", \"and\", \"fill\", \"the\", \"form\", \"grab\", \"slice\", \"the\", \"https\"], \"replyCount\": 18, \"retweetCount\": 268, \"likeCount\": 847, \"quoteCount\": 2, \"dateonly\": \"2022-04-15T00:00:00\"}, {\"score\": 0.35, \"date\": \"2022-04-15T07:10:19+00:00\", \"filtered\": [\"is\", \"an\", \"before\", \"Full\", \"Release\", \"2hours\", \"in\", \"Do\", \"miss\", \"AMA\", \"will\", \"so\", \"things\", \"the\", \"and\", \"Full\", \"Release\", \"Time\", \"AM\", \"-\", \"15th\", \"Metaxy\", \"NFT\", \"https\", \"//t.co/KRq6CXaEHF\"], \"replyCount\": 0, \"retweetCount\": 6, \"likeCount\": 10, \"quoteCount\": 0, \"dateonly\": \"2022-04-15T00:00:00\"}, {\"score\": -0.1, \"date\": \"2022-04-15T07:06:31+00:00\", \"filtered\": [\"game\", \"3\", \"LEFT\", \"\\u23f0\", \"8\", \"UTC\", \"15th\", \"Set\", \"You\", \"enjoy\", \"game\", \"their\", \"system\", \"Metaxy\", \"Meta\", \"Defigaming\", \"https\"], \"replyCount\": 1, \"retweetCount\": 7, \"likeCount\": 9, \"quoteCount\": 0, \"dateonly\": \"2022-04-15T00:00:00\"}, {\"score\": 0.11666666666666665, \"date\": \"2022-04-15T07:03:08+00:00\", \"filtered\": [\"ready\", \"few\", \"are\", \"in\", \"Full\", \"Release\", \"Metaxy\", \"NFT\", \"NFTgaming\", \"//t.co/q40LEFcM5o\"], \"replyCount\": 0, \"retweetCount\": 6, \"likeCount\": 10, \"quoteCount\": 2, \"dateonly\": \"2022-04-15T00:00:00\"}, {\"score\": 0.13636363636363635, \"date\": \"2022-04-15T06:00:09+00:00\", \"filtered\": [\"\\u2019\", \"new\", \"feature\", \"a\", \"row\", \"CommunityFeature\", \"CyberLawyer\", \"MVASApps\", \"WhatsAppNewFeatures\", \"//t.co/qlrs0EANeH\"], \"replyCount\": 0, \"retweetCount\": 0, \"likeCount\": 7, \"quoteCount\": 0, \"dateonly\": \"2022-04-15T00:00:00\"}, {\"score\": 0.5, \"date\": \"2022-04-15T05:33:57+00:00\", \"filtered\": [\"us\", \"favorite\", \"outfits/wearables\", \"Decentraland\", \"DCL\"], \"replyCount\": 4, \"retweetCount\": 3, \"likeCount\": 6, \"quoteCount\": 2, \"dateonly\": \"2022-04-15T00:00:00\"}, {\"score\": 0.35, \"date\": \"2022-04-15T05:21:31+00:00\", \"filtered\": [\"have\", \"reading\", \"in\", \"articles\", \"internet\", \"Gaming\", \"should\", \"NFTs\", \"it\", \"s\", \"\\u201d\", \"we\", \"about\", \"and\", \"the\", \"plays\", \"big\", \"role\", \"and\", \"believe\", \"should\", \"it\", \"s\", \"fairly\", \"Meta\"], \"replyCount\": 0, \"retweetCount\": 0, \"likeCount\": 7, \"quoteCount\": 1, \"dateonly\": \"2022-04-15T00:00:00\"}, {\"score\": -0.4, \"date\": \"2022-04-15T04:47:34+00:00\", \"filtered\": [\"meta\", \"so\", \"game\", \"now\", \"non\", \"FNCompetitive\", \"meta\"], \"replyCount\": 2, \"retweetCount\": 0, \"likeCount\": 4, \"quoteCount\": 0, \"dateonly\": \"2022-04-15T00:00:00\"}, {\"score\": 0.375, \"date\": \"2022-04-15T04:41:00+00:00\", \"filtered\": [\"promo\", \"medium\", \"and\", \"for\", \"will\", \"out\", \"1-2weeks\", \"excited\", \"share\", \"all\", \"are\", \"talks\", \"with\", \"some\", \"projects\", \"wish\", \"part\", \"the\", \"NFTCommunity\", \"NFTs\", \"Metaverse\"], \"replyCount\": 10, \"retweetCount\": 12, \"likeCount\": 37, \"quoteCount\": 2, \"dateonly\": \"2022-04-15T00:00:00\"}, {\"score\": 0.25, \"date\": \"2022-04-15T04:17:22+00:00\", \"filtered\": [\"Inu\", \"Virtual\", \"Of\", \"Sell\", \"Hot\", \"shiba\", \"meta\", \"//t.co/dGMmY36W5V\"], \"replyCount\": 1, \"retweetCount\": 4, \"likeCount\": 11, \"quoteCount\": 0, \"dateonly\": \"2022-04-15T00:00:00\"}, {\"score\": 0.8333333333333334, \"date\": \"2022-04-15T04:12:00+00:00\", \"filtered\": [\"are\", \"a\", \"announcement\", \"want\", \"to\", \"make\", \"all\", \"and\", \"always\", \"we\", \"KNOW\", \"best\", \"to\", \"best\", \"is\", \"with\", \"community\", \"So\", \"'s\", \"favorite\", \"for\", \"Meta\", \"and\", \"news\"], \"replyCount\": 10, \"retweetCount\": 14, \"likeCount\": 54, \"quoteCount\": 2, \"dateonly\": \"2022-04-15T00:00:00\"}, {\"score\": 0.35, \"date\": \"2022-04-15T03:59:03+00:00\", \"filtered\": [\"out\", \"and\", \"all\", \"sweet\", \"they\", \"going\", \"\\ud83c\\udfdd\", \"40\", \"with\", \"Affiliate\", \"on\", \"Purchases\", \"\\u2b50\\ufe0f\", \"\\u2b50\\ufe0f\", \"WAX_io\", \"Meta\", \"blockchains\", \"NFT\", \"https\"], \"replyCount\": 0, \"retweetCount\": 0, \"likeCount\": 4, \"quoteCount\": 0, \"dateonly\": \"2022-04-15T00:00:00\"}, {\"score\": 0.22727272727272727, \"date\": \"2022-04-15T03:05:47+00:00\", \"filtered\": [\"came\", \"us\", \"and\", \"Ganesha\", \"you\", \"It\", \"a\", \"celebration\", \"positive\", \")\", \"gallery20\", \"cryptovoxels\", \"denshipilovart\", \"Ilwheel\", \"meta\", \"cryptoart\", \"//t.co/2dQOvgOhwk\"], \"replyCount\": 2, \"retweetCount\": 2, \"likeCount\": 8, \"quoteCount\": 0, \"dateonly\": \"2022-04-15T00:00:00\"}, {\"score\": 0.15, \"date\": \"2022-04-15T02:40:15+00:00\", \"filtered\": [\"ALaN83BuLL\", \"AlexiaAnnuk\", \"nbea_h\", \"IsoaG\", \"Sasha_1I\", \"learockerita\", \"faragdomyat\", \"Alit1_Kawulo\", \"Drmughalazam\", \"Sound_of_power\", \"StephenCurry30\", \"MargaretAUGrad\", \"JohnC32116200\", \"QueenHollyFayO1\", \"DrStevenGreer\", \"Christo20234340\", \"BrightFame34\", \"nflcommish\", \"Ezhilar11174545\", \"TIGERWOODSRENEW\", \"BraakselK\", \"CNBC\", \"DirexionLETFs\", \"CubanMofo_\", \"$\", \"ABC\", \"Correction\", \"$\", \"Safe\", \"Say\", \"Will\", \"You\", \"Looking\", \"to\", \"$\", \"$\", \"\\ud83d\\udcde\", \"by\", \"Destroying\", \"Equity\", \"a\", \"Chop\", \"Chop\", \"indeed\", \"idea\", \"\\ud83d\\udcb0\", \"Infrastructure\", \"\\u2795\", \"\\ud83d\\udc8b\", \"//t.co/D8MfeM7RAv\", \"//t.co/fIyxXkdk9z\"], \"replyCount\": 1, \"retweetCount\": 5, \"likeCount\": 6, \"quoteCount\": 0, \"dateonly\": \"2022-04-15T00:00:00\"}, {\"score\": 0.18888888888888888, \"date\": \"2022-04-15T02:33:37+00:00\", \"filtered\": [\"Zucks\", \"?\", \"going\", \"\\u201c\", \"\\u201d\", \"doing\", \"own\", \"commercial\", \"it\", \"he\", \"know\", \"trust\", \"numbers\", \"in\", \"toilet\", \"to\", \"to\", \"%\", \"to\", \"an\", \"?\", \"this\", \"I\", \"he\", \"be\", \"in\", \"room\", \"in\", \"and\", \"on\", \"juice\", \"//t.co/gFDxnUMzI2\"], \"replyCount\": 1, \"retweetCount\": 0, \"likeCount\": 3, \"quoteCount\": 0, \"dateonly\": \"2022-04-15T00:00:00\"}, {\"score\": 0.25, \"date\": \"2022-04-15T01:49:04+00:00\", \"filtered\": [\"Meta\", \"that\", \"company\", \"planning\", \"launch\", \"first\", \"(\", \")\", \"by\", \"technology\", \"Meta\", \"AR\", \"immersive\", \"//t.co/bNNruocDja\"], \"replyCount\": 1, \"retweetCount\": 1, \"likeCount\": 3, \"quoteCount\": 0, \"dateonly\": \"2022-04-15T00:00:00\"}, {\"score\": 0.13636363636363635, \"date\": \"2022-04-15T01:41:31+00:00\", \"filtered\": [\"holders\", \"receive\", \"access\", \"Live\", \"with\", \"sport\", \"from\", \"world\", \"Our\", \"NFT\", \"NFTs\", \"Ethereum\", \"muscles\", \"bodybuilding\", \"Meta\", \"NYC\", \"https\", \"//t.co/C6MeNjs2ME\"], \"replyCount\": 1, \"retweetCount\": 1, \"likeCount\": 6, \"quoteCount\": 1, \"dateonly\": \"2022-04-15T00:00:00\"}, {\"score\": 0.6, \"date\": \"2022-04-15T01:28:09+00:00\", \"filtered\": [\"Deluxe\", \"Sold\", \"0.54\\u039e\", \"//t.co/cWxG2D0tzn\", \"NFTs\", \"Meta\", \"ethereum\", \"https\"], \"replyCount\": 1, \"retweetCount\": 3, \"likeCount\": 5, \"quoteCount\": 0, \"dateonly\": \"2022-04-15T00:00:00\"}, {\"score\": 0.13636363636363635, \"date\": \"2022-04-15T00:51:21+00:00\", \"filtered\": [\"ep\", \"live\", \"Should\", \"endorsements\", \"made\", \"?\", \"meta\", \"cnft\", \"https\"], \"replyCount\": 0, \"retweetCount\": 1, \"likeCount\": 3, \"quoteCount\": 0, \"dateonly\": \"2022-04-15T00:00:00\"}, {\"score\": 0.21666666666666667, \"date\": \"2022-04-15T00:40:51+00:00\", \"filtered\": [\"announce\", \"plans\", \"the\", \"WTF\", \"Their\", \"are\", \"``\", \"''\", \"and\", \"fly\", \"the\", \"true\", \"decentralized\", \"metaverse\", \"outlines\", \"pillars\", \"of\", \"an\", \"Metaverse\", \"//t.co/zzLKIrcw9J\", \"BanklessHQ\", \"openmetaverse\"], \"replyCount\": 0, \"retweetCount\": 0, \"likeCount\": 3, \"quoteCount\": 0, \"dateonly\": \"2022-04-15T00:00:00\"}, {\"score\": 0.44285714285714284, \"date\": \"2022-04-15T00:36:41+00:00\", \"filtered\": [\"they\", \"getting\", \"kind\", \"right\", \"https\", \"meta\", \"cryptocurrency\", \"NFTCommunity\"], \"replyCount\": 3, \"retweetCount\": 1, \"likeCount\": 3, \"quoteCount\": 0, \"dateonly\": \"2022-04-15T00:00:00\"}, {\"score\": 0.2625, \"date\": \"2022-04-15T00:16:15+00:00\", \"filtered\": [\"\\u2019\", \"Ready\", \"Explore\", \"Own\", \"Property\", \"Only\", \"Yachts\", \"be\", \"for\", \"first\", \"Mint\", \"Any\", \"with\", \"tweet\", \"to\", \"you\", \"a\", \"WL\", \"NFTs\", \"vrhouse\", \"digitalland\", \"VR\", \"META\", \"SOLANA\", \"https\"], \"replyCount\": 2, \"retweetCount\": 1, \"likeCount\": 10, \"quoteCount\": 6, \"dateonly\": \"2022-04-15T00:00:00\"}, {\"score\": 0.39285714285714285, \"date\": \"2022-04-14T23:55:12+00:00\", \"filtered\": [\"insight\", \"why\", \"is\", \"of\", \"top\", \"NFT\", \"right\", \"and\", \"be\", \"1\", \"soon\", \"NFTGame\", \"NFTCommunity\", \"Metaverse\", \"RumbleKong\", \"play2earn\", \"Sandbox\", \"LooksRare\", \"coinbasenft\", \"https\"], \"replyCount\": 4, \"retweetCount\": 0, \"likeCount\": 8, \"quoteCount\": 3, \"dateonly\": \"2022-04-14T00:00:00\"}, {\"score\": 0.23750000000000002, \"date\": \"2022-04-14T23:50:24+00:00\", \"filtered\": [\"cool\", \"photos\", \"themselves\", \"more\", \"taking\", \"of\", \"time\", \"you\", \"are\", \"yourself\", \"the\", \"you\", \"most\", \"in\", \"the\", \"world\", \"your\", \"you\", \"ll\", \"the\", \"behind\", \"image\", \"from\", \"Meta\", \"selfhelp\"], \"replyCount\": 0, \"retweetCount\": 1, \"likeCount\": 8, \"quoteCount\": 0, \"dateonly\": \"2022-04-14T00:00:00\"}, {\"score\": -0.07142857142857144, \"date\": \"2022-04-14T23:48:27+00:00\", \"filtered\": [\"nfts\", \"in\", \"2022\", \"above\", \"David\", \"right\", \"wrong\", \"\\ud83e\\uddd0\\ud83e\\udee0\", \"meta\", \"bowie\", \"NFT\", \"NFTartist\", \"NFTs\", \"NFTGame\", \"nftcollectors\", \"NFTcollection\", \"NFTsales\", \"//t.co/GUdw5puPJo\"], \"replyCount\": 4, \"retweetCount\": 0, \"likeCount\": 6, \"quoteCount\": 1, \"dateonly\": \"2022-04-14T00:00:00\"}, {\"score\": -0.05, \"date\": \"2022-04-14T22:26:02+00:00\", \"filtered\": [\"cant\", \"\\ud83d\\ude05\\ud83e\\udd1f\", \"is\", \"Monkey\", \"?\", \"are\", \"?\", \"TheKingdom_meta\", \"NFTCommunity\", \"ETH\", \"Meta\", \"https\"], \"replyCount\": 6, \"retweetCount\": 9, \"likeCount\": 19, \"quoteCount\": 3, \"dateonly\": \"2022-04-14T00:00:00\"}, {\"score\": 0.1340909090909091, \"date\": \"2022-04-14T21:52:00+00:00\", \"filtered\": [\"new\", \"meta\", \"make\", \"free\", \"low\", \"cost\", \"then\", \"it\", \"well\", \"a\", \"larger\", \"that\", \"a\", \"mint\", \"royalties\", \"that\", \"the\", \"holders\", \"whitelist\"], \"replyCount\": 0, \"retweetCount\": 0, \"likeCount\": 4, \"quoteCount\": 0, \"dateonly\": \"2022-04-14T00:00:00\"}, {\"score\": -0.1, \"date\": \"2022-04-14T21:38:26+00:00\", \"filtered\": [\"you\", \"an\", \"career\", \"tech\", \"working\", \"a\", \"that\", \"s\", \"the\", \"in\", \"and\", \"?\", \"is\", \"a\", \"Unity\", \"to\", \"our\", \"\\u2728\", \"here\", \"to\", \"apply\", \"https\", \"BadVR\", \"Remote\", \"https\"], \"replyCount\": 0, \"retweetCount\": 2, \"likeCount\": 4, \"quoteCount\": 0, \"dateonly\": \"2022-04-14T00:00:00\"}, {\"score\": 0.5, \"date\": \"2022-04-14T20:53:26+00:00\", \"filtered\": [\"Being\", \"totally\", \"most\", \"the\", \"Videogames\", \"the\", \"thing\", \"make\", \"bearable.\", \"-\", \"Cline\", \"Player\", \"Agree\", \"\\ud83d\\udc4d\\ud83c\\udffc\", \"Disagree\", \"\\ud83d\\udc4e\\ud83c\\udffc\", \"GoMetaRail\", \"gamergirl\", \"goMetaRail\", \"meta\", \"Sandbox\"], \"replyCount\": 1, \"retweetCount\": 1, \"likeCount\": 3, \"quoteCount\": 1, \"dateonly\": \"2022-04-14T00:00:00\"}, {\"score\": 0.45, \"date\": \"2022-04-14T20:47:17+00:00\", \"filtered\": [\"themetacloud\", \"offering\", \"Free\", \"amp\", \"Customizable\", \"option\", \"sounds\", \"better\", \"Meta\", \"Facebook\", \"$\", \"is\", \"way\", \"Presale\", \"https\"], \"replyCount\": 2, \"retweetCount\": 8, \"likeCount\": 22, \"quoteCount\": 0, \"dateonly\": \"2022-04-14T00:00:00\"}, {\"score\": 0.44999999999999996, \"date\": \"2022-04-14T20:33:42+00:00\", \"filtered\": [\"with\", \"good\", \"in\", \"Metaverse\", \"advise\", \"?\", \"a\", \"promising\", \"?\", \"Web3\", \"NFTCommunity\"], \"replyCount\": 3, \"retweetCount\": 0, \"likeCount\": 4, \"quoteCount\": 0, \"dateonly\": \"2022-04-14T00:00:00\"}, {\"score\": -0.5, \"date\": \"2022-04-14T20:14:11+00:00\", \"filtered\": [\"for\", \"art\", \"go\", \"A\", \"are\", \"pass\", \"a\", \"community\", \"to\", \"the\", \"of\", \"If\", \"don\", \"\\u2019\", \"t\", \"that\", \"you\", \"\\u2019\", \"re\", \"in\", \"the\", \"wrong\", \"meta\", \"nftlover\", \"Web3\", \"//t.co/nOJzBxQXdU\"], \"replyCount\": 2, \"retweetCount\": 0, \"likeCount\": 8, \"quoteCount\": 1, \"dateonly\": \"2022-04-14T00:00:00\"}, {\"score\": -0.05000000000000002, \"date\": \"2022-04-14T20:01:12+00:00\", \"filtered\": [\"'s\", \"exciting\", \"fast-paced\", \"hoverbike\", \"game\", \"supports\", \"too\", \"check\", \"out\", \"race\", \"your\", \"HoverBlade\", \"SideQuest\", \"https\", \"imitera\", \"MetaQuest2\", \"Metaverse\", \"metaquest\", \"https\"], \"replyCount\": 0, \"retweetCount\": 4, \"likeCount\": 12, \"quoteCount\": 2, \"dateonly\": \"2022-04-14T00:00:00\"}, {\"score\": 0.1, \"date\": \"2022-04-14T19:51:11+00:00\", \"filtered\": [\"...\", \"plans\", \"take\", \"nearly\", \"%\", \"on\", \"asset\", \"in\", \"metaverse\", \"efipm\", \"leimer\", \"//t.co/ASJpgmqxgy\", \"Sam_L_Shead\", \"https\"], \"replyCount\": 1, \"retweetCount\": 5, \"likeCount\": 5, \"quoteCount\": 0, \"dateonly\": \"2022-04-14T00:00:00\"}, {\"score\": 0.375, \"date\": \"2022-04-14T19:34:35+00:00\", \"filtered\": [\"than\", \"hours\", \"my\", \"JaduAVAs\", \"\\ud83d\\udc40\", \"say\", \"excited\", \"is\", \"an\", \"On\", \"Jadu\", \"of\", \"3\", \"\\ud83d\\udd25\\ud83d\\udd25\\ud83d\\udd25\", \"can\", \"\\u2019\", \"t\", \"how\", \"it\", \"to\", \"part\", \"of\", \"this\", \"the\", \"beginning\", \"nft\", \"meta\", \"https\"], \"replyCount\": 3, \"retweetCount\": 5, \"likeCount\": 34, \"quoteCount\": 0, \"dateonly\": \"2022-04-14T00:00:00\"}, {\"score\": -0.2, \"date\": \"2022-04-14T19:29:43+00:00\", \"filtered\": [\"weird\", \"packed\", \"?\", \"does\", \"Arcaxer\", \"20\", \"of\", \"pounding\", \"and\", \"story\", \"that\", \"keep\", \"you\", \"fighting\", \"way\", \"the\", \"Get\", \"it\", \"//t.co/exPLEF7a4N\", \"Quest\", \"RPG\", \"Action\", \"IndieGameDev\", \"//t.co/BYDLyxYEXz\"], \"replyCount\": 0, \"retweetCount\": 5, \"likeCount\": 10, \"quoteCount\": 0, \"dateonly\": \"2022-04-14T00:00:00\"}, {\"score\": 0.25, \"date\": \"2022-04-14T19:24:47+00:00\", \"filtered\": [\"instagram\", \"amp\", \"guys\", \"to\", \"up\", \"better\", \"to\", \"people\", \"getting\", \"The\", \"that\", \"been\", \"actually\", \"fixit\", \"Meta\", \"instagram\"], \"replyCount\": 11, \"retweetCount\": 0, \"likeCount\": 5, \"quoteCount\": 3, \"dateonly\": \"2022-04-14T00:00:00\"}, {\"score\": 0.35, \"date\": \"2022-04-14T19:21:16+00:00\", \"filtered\": [\"only\", \"them\", \"it\", \"NFT\", \"it\", \"fair\", \"transparent.\\ud83d\\udcaf\", \"with\", \"I\", \"just\", \"for\", \"to\", \"soon\", \"It\", \"will\", \"an\", \"MMORPG\", \"where\", \"can\", \"immersed\", \"their\", \"and\"], \"replyCount\": 2, \"retweetCount\": 0, \"likeCount\": 4, \"quoteCount\": 0, \"dateonly\": \"2022-04-14T00:00:00\"}, {\"score\": -0.25, \"date\": \"2022-04-14T19:15:47+00:00\", \"filtered\": [\"on\", \"skin\", \"with\", \"scattering\", \"nft\", \"Alien\", \"NFTGiveaway\", \"3dart\", \"//t.co/7cqh5ZsFnF\"], \"replyCount\": 2, \"retweetCount\": 0, \"likeCount\": 5, \"quoteCount\": 0, \"dateonly\": \"2022-04-14T00:00:00\"}, {\"score\": 0.6000000000000001, \"date\": \"2022-04-14T19:14:08+00:00\", \"filtered\": [\"NFTGiveaways\", \"'re\", \"away\", \"FREE\", \"of\", \"in\", \"on\", \"Here\", \"how\", \"win\", \"Follow\", \"2\", \"our\", \"/\", \"//t.co/KSRKyMnpF5\", \"NFTProject\", \"Metaverse\", \"designtwitter\", \"3Danimation\", \"gaming\", \"//t.co/aBN5m5cRv7\"], \"replyCount\": 1, \"retweetCount\": 5, \"likeCount\": 7, \"quoteCount\": 0, \"dateonly\": \"2022-04-14T00:00:00\"}, {\"score\": 0.2, \"date\": \"2022-04-14T19:01:06+00:00\", \"filtered\": [\"so\", \"saying\", \"get\", \"keep\", \"%\", \"earnings\", \"things\", \"created\", \"marketed\", \"sold\", \"?\", \"The\", \"doesn\", \"\\u2019\", \"t\", \"Thanks\", \"You\", \"pancake\", \"markzuckerberg\", \"metaverse\", \"aaravfy\", \"cryptonews\", \"https\"], \"replyCount\": 4, \"retweetCount\": 4, \"likeCount\": 8, \"quoteCount\": 0, \"dateonly\": \"2022-04-14T00:00:00\"}, {\"score\": 0.8, \"date\": \"2022-04-14T18:54:46+00:00\", \"filtered\": [\"out\", \"article\", \"how\", \"Meta\", \"Not\", \"\\u201d\", \"needs\", \"stay\", \"in\", \"and\", \"all\", \"our\", \"intelligent\", \"master\", \"space\", \"just\", \"CORPORATION\", \"Web3\", \"cryptocurrency\", \"nft\", \"NFTgaming\", \"community\", \"https\"], \"replyCount\": 0, \"retweetCount\": 1, \"likeCount\": 8, \"quoteCount\": 0, \"dateonly\": \"2022-04-14T00:00:00\"}, {\"score\": 0.2, \"date\": \"2022-04-14T18:42:20+00:00\", \"filtered\": [\"again\", \"2\", \"triathlons\", \"summer\", \"still\", \"far\", \"race\", \"tbh\", \"me\", \"my\", \"ensdomains\", \"i\", \"will\", \"useful\", \"ensdomains\", \"web3\", \"META\", \"Ethereum\", \"NFTs\", \"vegan\", \"veganfood\", \"https\"], \"replyCount\": 11, \"retweetCount\": 7, \"likeCount\": 34, \"quoteCount\": 4, \"dateonly\": \"2022-04-14T00:00:00\"}, {\"score\": -0.2, \"date\": \"2022-04-14T18:31:01+00:00\", \"filtered\": [\"'s\", \"AppleTLDR\", \"April\", \"\\ud83d\\udc47\", \"comes\", \"guns\", \"in\", \"war\", \"Facebook\", \"announces\", \"suppliers\", \"doubled\", \"usage\", \"consider\", \"RT\", \"you\", \"value\", \"this\", \"\\ud83d\\ude4f\", \"appstore\", \"green\", \"https\"], \"replyCount\": 1, \"retweetCount\": 1, \"likeCount\": 6, \"quoteCount\": 0, \"dateonly\": \"2022-04-14T00:00:00\"}, {\"score\": -0.4, \"date\": \"2022-04-14T18:20:44+00:00\", \"filtered\": [\"but\", \"broken\", \"Ukrainian\", \"women\", \"UkraineWar\", \"//t.co/TofUMp2Xoi\"], \"replyCount\": 4, \"retweetCount\": 1, \"likeCount\": 8, \"quoteCount\": 1, \"dateonly\": \"2022-04-14T00:00:00\"}, {\"score\": 0.2, \"date\": \"2022-04-14T18:08:30+00:00\", \"filtered\": [\"'s\", \"real\", \"rent\", \"probably\", \"affordable\", \"Desert\", \"anyways\", \"SPACE\", \"SPACEMetaverse\", \"nft\", \"web3\", \"//t.co/nXLXfj3A3E\"], \"replyCount\": 2, \"retweetCount\": 6, \"likeCount\": 14, \"quoteCount\": 2, \"dateonly\": \"2022-04-14T00:00:00\"}, {\"score\": 0.35, \"date\": \"2022-04-14T18:00:40+00:00\", \"filtered\": [\"featured\", \"Tech\", \"We\", \"launched\", \"very\", \"in-\", \"publication\", \"The\", \"broadcasts\", \"latest\", \"in\", \"Lootverse\", \"and\", \"to\", \"our\", \"well\", \"Read\", \"https\", \"metaversenews\", \"meta\"], \"replyCount\": 0, \"retweetCount\": 0, \"likeCount\": 4, \"quoteCount\": 0, \"dateonly\": \"2022-04-14T00:00:00\"}, {\"score\": 0.25, \"date\": \"2022-04-14T17:48:03+00:00\", \"filtered\": [\"out\", \"are\", \"interested\", \"the\", \"either\", \"Meta\", \"Crypto\", \"//t.co/B5vWI5IlGR\", \"//t.co/bHlj0UNzNe\"], \"replyCount\": 1, \"retweetCount\": 2, \"likeCount\": 3, \"quoteCount\": 1, \"dateonly\": \"2022-04-14T00:00:00\"}, {\"score\": -0.4, \"date\": \"2022-04-14T17:44:54+00:00\", \"filtered\": [\"is\", \"Game\", \"NFT\", \"are\", \"to\", \"our\", \"Giveaways\", \"at\", \"Door\", \"NFT\", \"Clytie\", \"ElonMuskTwitter\", \"meta\", \"cashapp\", \"KuCoin\", \"Ethereum\", \"//t.co/BEh8xNqYOr\"], \"replyCount\": 6, \"retweetCount\": 7, \"likeCount\": 19, \"quoteCount\": 2, \"dateonly\": \"2022-04-14T00:00:00\"}, {\"score\": 0.4, \"date\": \"2022-04-14T17:42:07+00:00\", \"filtered\": [\"our\", \"\\ud83e\\udd81\", \"free\", \"all\", \"holders\", \"supply\", \"these\", \"NFTs\", \"determined\", \"how\", \"holders\", \"for\", \"airdrop\", \"holders\", \"will\", \"have\", \"pick\", \"land\", \"and\", \"access\", \"the\", \"meta\", \"world\"], \"replyCount\": 4, \"retweetCount\": 30, \"likeCount\": 58, \"quoteCount\": 2, \"dateonly\": \"2022-04-14T00:00:00\"}, {\"score\": 0.2, \"date\": \"2022-04-14T17:04:14+00:00\", \"filtered\": [\"change\", \"real\", \"according\", \"Larry\", \"it\", \"s\", \"biggest\", \"opportunity\", \"the\", \"\\u201e\", \"CEOs\", \"for\", \"We\", \"on\", \"not\", \"environmentalists\", \"because\", \"we\", \"are\", \"\\u201c\", \"\\u2019\", \"prepared\\u263a\\ufe0f\", \"ens\", \"ETH\", \"https\"], \"replyCount\": 4, \"retweetCount\": 1, \"likeCount\": 18, \"quoteCount\": 0, \"dateonly\": \"2022-04-14T00:00:00\"}, {\"score\": -0.4, \"date\": \"2022-04-14T17:02:09+00:00\", \"filtered\": [\"Plane\", \"minting\", \"now\", \"//t.co/BnQSCb5M4O\", \"NFT\", \"Metaverse\", \"MetaverseGame\", \"GAME\", \"GENESIS\", \"//t.co/V3Yo1qdx9d\"], \"replyCount\": 0, \"retweetCount\": 1, \"likeCount\": 7, \"quoteCount\": 2, \"dateonly\": \"2022-04-14T00:00:00\"}, {\"score\": -0.07142857142857142, \"date\": \"2022-04-14T16:58:45+00:00\", \"filtered\": [\"Meta\", \"Supermarket\", \"Details\", \"purpose\", \"Supply\", \"25\", \"25\", \"After\", \"with\", \"single\", \"you\", \"deploy\", \"on\", \"land\", \"delegate\", \"to\", \"landowner\", \"https\", \"//t.co/ArVCIT5Inz\"], \"replyCount\": 0, \"retweetCount\": 1, \"likeCount\": 7, \"quoteCount\": 0, \"dateonly\": \"2022-04-14T00:00:00\"}, {\"score\": 0.15, \"date\": \"2022-04-14T16:54:20+00:00\", \"filtered\": [\"is\", \"with\", \"thedogecapital\", \"Just\", \"this\", \"\\ud83d\\ude0d\", \"fud\", \"the\", \"is\", \"Solid\", \"Worth\", \"em\", \"Can\", \"get\", \"Woof\", \"?\", \"SolanaNFT\", \"Web3\", \"//t.co/HARp1FJrb2\"], \"replyCount\": 15, \"retweetCount\": 12, \"likeCount\": 53, \"quoteCount\": 1, \"dateonly\": \"2022-04-14T00:00:00\"}, {\"score\": 0.058333333333333334, \"date\": \"2022-04-14T16:52:03+00:00\", \"filtered\": [\"BTC\", \"exactly\", \"our\", \"resistance\", \"dumped\", \"as\", \"BTC\", \"from\", \"43k\", \"and\", \"$\", \"are\", \"active\", \"bitcoins\", \"cryptomemes\", \"binance\", \"meta\", \"dogecoin\", \"//t.co/Dyp2j1TLSO\", \"//t.co/FQsa9EOrQo\"], \"replyCount\": 3, \"retweetCount\": 1, \"likeCount\": 4, \"quoteCount\": 0, \"dateonly\": \"2022-04-14T00:00:00\"}, {\"score\": 0.1, \"date\": \"2022-04-14T16:31:11+00:00\", \"filtered\": [\"$\", \"the\", \"It\", \"unclear\", \"Epic\", \"Games\", \"plans\", \"to\", \"tap\", \"blockchain\", \"NFTs\", \"cryptocurrency\", \"its\", \"plans\", \"metaverse\", \"decentraland\", \"polygon\", \"https\"], \"replyCount\": 1, \"retweetCount\": 0, \"likeCount\": 4, \"quoteCount\": 4, \"dateonly\": \"2022-04-14T00:00:00\"}, {\"score\": 0.2, \"date\": \"2022-04-14T16:30:00+00:00\", \"filtered\": [\"WhatsApp\", \"said\", \"its\", \"reliable\", \"secure\", \"will\", \"adoption\", \"unified\", \"interface\", \"UPI\", \"for\", \"next\", \"million\", \"https\"], \"replyCount\": 0, \"retweetCount\": 4, \"likeCount\": 3, \"quoteCount\": 0, \"dateonly\": \"2022-04-14T00:00:00\"}, {\"score\": -0.5, \"date\": \"2022-04-14T16:28:55+00:00\", \"filtered\": [\"Fail\", \"Prank\", \"vrscary\", \"vrhorror\", \"quest2\", \"vrfails\", \"horrorprank\", \"//t.co/PDP19zxIlq\"], \"replyCount\": 1, \"retweetCount\": 2, \"likeCount\": 4, \"quoteCount\": 0, \"dateonly\": \"2022-04-14T00:00:00\"}, {\"score\": 0.35, \"date\": \"2022-04-14T16:27:01+00:00\", \"filtered\": [\"out\", \"Meta\", \"&\", \";\", \"3\", \"domains\", \"//t.co/PUWbhyz0lx\", \"//t.co/XDSYLSSJ3K\", \"//t.co/fBt3xJIf9Q\", \"on\", \"See\", \"full\", \"for\", \"sale\", \"here\", \"//t.co/Q5QzijtXft\", \"Metaverse\", \"GameFi\", \"domains\", \"Web3\"], \"replyCount\": 0, \"retweetCount\": 3, \"likeCount\": 3, \"quoteCount\": 0, \"dateonly\": \"2022-04-14T00:00:00\"}, {\"score\": 0.06818181818181818, \"date\": \"2022-04-14T16:20:04+00:00\", \"filtered\": [\"out\", \"new\", \"on\", \"via\", \"NFTCommunity\", \"meta\", \"blockchain\", \"artwork\", \"art\", \"NFTdrops\", \"nfts\", \"digital\", \"bitcoin\", \"https\", \"//t.co/Jx6OHgMRuu\"], \"replyCount\": 3, \"retweetCount\": 0, \"likeCount\": 7, \"quoteCount\": 7, \"dateonly\": \"2022-04-14T00:00:00\"}, {\"score\": 0.5, \"date\": \"2022-04-14T16:17:50+00:00\", \"filtered\": [\"...\", \"environment\", \"mostly\", \"Now\", \"'s\", \"for\", \"lil\", \"Also\", \"have\", \"working\", \"3D\", \"avatars\", \"nothing\", \"nftart\", \"meta\", \"Solians\", \"//t.co/WaRoSxtYQZ\"], \"replyCount\": 5, \"retweetCount\": 6, \"likeCount\": 11, \"quoteCount\": 0, \"dateonly\": \"2022-04-14T00:00:00\"}, {\"score\": 0.21428571428571427, \"date\": \"2022-04-14T16:05:19+00:00\", \"filtered\": [\"this\", \"to\", \"people\", \"myself\", \"2\", \"colleagues\", \"know\", \"must\", \"had\", \"large\", \"Facebook\", \"facebookdisabled\", \"//t.co/1YvuoCjNuO\"], \"replyCount\": 4, \"retweetCount\": 0, \"likeCount\": 5, \"quoteCount\": 1, \"dateonly\": \"2022-04-14T00:00:00\"}, {\"score\": -0.05555555555555556, \"date\": \"2022-04-14T15:54:23+00:00\", \"filtered\": [\"responsibility\", \"social\", \"platforms\", \"the\", \"behind\", \"have\", \"Kenya\", \"elections\", \"\\ud83c\\uddf0\\ud83c\\uddea\", \"why\", \"they\", \"really\", \"to\", \"?\", \"recommend\", \"Odanga\", \"'s\", \"in\", \"guardian\", \"disinformation\", \"https\"], \"replyCount\": 1, \"retweetCount\": 5, \"likeCount\": 228, \"quoteCount\": 0, \"dateonly\": \"2022-04-14T00:00:00\"}, {\"score\": 0.13636363636363635, \"date\": \"2022-04-14T15:48:36+00:00\", \"filtered\": [\"out\", \"new\", \"on\", \"via\", \"nft\", \"NFTCommunity\", \"NFTGiveaways\", \"NFTGiveaway\", \"Ethereum\", \"ETHGiveaway\", \"MATIC\", \"meta\", \"apes\", \"https\", \"//t.co/7NRviuZ6Pw\"], \"replyCount\": 1, \"retweetCount\": 0, \"likeCount\": 4, \"quoteCount\": 3, \"dateonly\": \"2022-04-14T00:00:00\"}, {\"score\": 0.2, \"date\": \"2022-04-14T15:30:20+00:00\", \"filtered\": [\"Wants\", \"50\", \"Profit\", \"All\", \"Sold\", \"its\", \"https\", \"DaveKerpen\", \"HappyTechTweet1\", \"marketingtobe\", \"VirtualReality\", \"VR\", \"Virtual\", \"Technology\", \"NFTCommunity\"], \"replyCount\": 8, \"retweetCount\": 13, \"likeCount\": 18, \"quoteCount\": 3, \"dateonly\": \"2022-04-14T00:00:00\"}, {\"score\": -0.08333333333333333, \"date\": \"2022-04-14T15:23:03+00:00\", \"filtered\": [\"parent\", \"Platforms\", \"charge\", \"around\", \"%\", \"sales\", \"digital\", \"and\", \"the\", \"'s\", \"platform\", \"Meta\", \"take\", \"half\", \"sales\", \"made\", \"by\", \"metaverse\", \"as\", \"https\", \"https\"], \"replyCount\": 4, \"retweetCount\": 2, \"likeCount\": 3, \"quoteCount\": 1, \"dateonly\": \"2022-04-14T00:00:00\"}, {\"score\": 0.5, \"date\": \"2022-04-14T15:13:08+00:00\", \"filtered\": [\"Meta\", \"won\", \"t\", \"able\", \"compete\", \"the\", \"Still\", \"Web2\", \"like\", \"or\", \"Facebook\", \"always\", \"to\", \"monitor\", \"share\", \"date\", \"meta\", \"nft\", \"Avalanche\", \"P2E\", \"BabyDoge\", \"ElonMuskTwitter\", \"web3\"], \"replyCount\": 0, \"retweetCount\": 4, \"likeCount\": 5, \"quoteCount\": 0, \"dateonly\": \"2022-04-14T00:00:00\"}, {\"score\": 0.5, \"date\": \"2022-04-14T14:59:50+00:00\", \"filtered\": [\"all\", \"will\", \"App\", \"bankrupt\", \"stick\", \"over\", \"I\", \"'ll\", \"it\", \";\", \"will\", \"be\", \"better\", \"and\", \"something\", \"that\", \"does\", \"have\", \"the\", \"stench\", \"MrHostileTakeover\", \"it\", \"that\", \"the\", \"GoodbyeTwitter\"], \"replyCount\": 0, \"retweetCount\": 1, \"likeCount\": 3, \"quoteCount\": 0, \"dateonly\": \"2022-04-14T00:00:00\"}, {\"score\": 0.5, \"date\": \"2022-04-14T14:47:25+00:00\", \"filtered\": [\"Interesting\", \"running\", \"KamalZakaria15\", \"FabbamFaith\", \"Airdrops\", \"bitcoin\", \"token\", \"money\", \"cryptocurrency\", \"meta\"], \"replyCount\": 1, \"retweetCount\": 0, \"likeCount\": 3, \"quoteCount\": 0, \"dateonly\": \"2022-04-14T00:00:00\"}, {\"score\": 0.4, \"date\": \"2022-04-14T14:39:47+00:00\", \"filtered\": [\"about\", \"Meta\", \"Quest\", \"Business\", \"in\", \"detailed\", \"up\", \"vrvisioninc\", \"CEO\", \"https\", \"VR\", \"Oculus\", \"MetaQuest\", \"Meta\"], \"replyCount\": 0, \"retweetCount\": 2, \"likeCount\": 3, \"quoteCount\": 0, \"dateonly\": \"2022-04-14T00:00:00\"}, {\"score\": 0.2, \"date\": \"2022-04-14T14:31:00+00:00\", \"filtered\": [\"wants\", \"%\", \"Zuckerburg\", \"n't\", \"a\", \"NFT\", \"NFTGANG\"], \"replyCount\": 0, \"retweetCount\": 1, \"likeCount\": 3, \"quoteCount\": 4, \"dateonly\": \"2022-04-14T00:00:00\"}, {\"score\": 0.1875, \"date\": \"2022-04-14T14:30:42+00:00\", \"filtered\": [\"tools\", \"be\", \"initially\", \"select\", \"of\", \"company\", \"immersive\", \"accessible\", \"VR\", \"and\", \"them\", \"sell\", \"accessories\", \"to\", \"testing\", \"tools\", \"its\", \"https\", \"https\"], \"replyCount\": 1, \"retweetCount\": 7, \"likeCount\": 10, \"quoteCount\": 0, \"dateonly\": \"2022-04-14T00:00:00\"}, {\"score\": 1.0, \"date\": \"2022-04-14T14:04:08+00:00\", \"filtered\": [\"EASTER\", \"\\ud83d\\udc30\", \"you\", \"that\", \"(\", \")\", \"one\", \"Jesus\", \"\\u2018\", \"best\", \"and\", \"DaVincis\", \"Artwork\", \"the\", \"supper\", \"?\", \"nft\", \"nftart\", \"nftcollectors\", \"nftdrops\", \"nftproject\", \"meta\", \"opense\", \"//t.co/cz44aDhwRP\"], \"replyCount\": 1, \"retweetCount\": 0, \"likeCount\": 5, \"quoteCount\": 2, \"dateonly\": \"2022-04-14T00:00:00\"}, {\"score\": 0.06818181818181818, \"date\": \"2022-04-14T13:49:50+00:00\", \"filtered\": [\"-\", \"is\", \"short\", \"live\", \"the\", \"Instagram\", \"twitter\", \"instagram\", \"Twitter\"], \"replyCount\": 1, \"retweetCount\": 7, \"likeCount\": 8, \"quoteCount\": 0, \"dateonly\": \"2022-04-14T00:00:00\"}, {\"score\": 0.8, \"date\": \"2022-04-14T13:21:45+00:00\", \"filtered\": [\"Great\", \"\\u201d\", \"nftartist\", \"nftcollector\", \"metaverse\", \"//t.co/EKIvhHwIxe\"], \"replyCount\": 0, \"retweetCount\": 1, \"likeCount\": 3, \"quoteCount\": 2, \"dateonly\": \"2022-04-14T00:00:00\"}, {\"score\": 0.1, \"date\": \"2022-04-14T13:07:03+00:00\", \"filtered\": [\"week\", \"It\", \"n't\", \"without\", \"a\", \"mirror\", \"We\", \"to\", \"with\", \"idea\", \"this\", \"featuring\", \"Uncertain\", \"superhero\", \"MentalHealthMatters\", \"webcomics\", \"meta\", \"experimental\", \"https\"], \"replyCount\": 0, \"retweetCount\": 1, \"likeCount\": 4, \"quoteCount\": 0, \"dateonly\": \"2022-04-14T00:00:00\"}, {\"score\": 0.25, \"date\": \"2022-04-14T12:53:41+00:00\", \"filtered\": [\"plans\", \"take\", \"to\", \"goods\", \"on\", \"store\", \"higher\", \"Apple\", \"30\", \"%\", \"App\", \"fees\", \"Apple\", \"is\", \"calling\", \"out\", \"their\", \"Apple\", \"Meta\", \"https\", \"https\"], \"replyCount\": 0, \"retweetCount\": 1, \"likeCount\": 19, \"quoteCount\": 1, \"dateonly\": \"2022-04-14T00:00:00\"}, {\"score\": -0.08750000000000002, \"date\": \"2022-04-14T12:22:07+00:00\", \"filtered\": [\"market\", \"red\", \"$\", \"is\", \"green\", \"it\", \"the\", \"NFT\", \"game\", \"made\", \"expect\", \"to\", \"a\", \"hot\", \"this\", \"So\", \"bought\", \"poker\", \"NFTdrops\", \"100xgem\", \"Airdrop\", \"binance\", \"https\", \"https\"], \"replyCount\": 0, \"retweetCount\": 0, \"likeCount\": 4, \"quoteCount\": 0, \"dateonly\": \"2022-04-14T00:00:00\"}, {\"score\": 0.2, \"date\": \"2022-04-14T12:18:59+00:00\", \"filtered\": [\"wants\", \"%\", \"NFTs\", \"Coke\", \"s\", \"flavor\", \"and\", \"https\", \"via\"], \"replyCount\": 1, \"retweetCount\": 0, \"likeCount\": 3, \"quoteCount\": 0, \"dateonly\": \"2022-04-14T00:00:00\"}, {\"score\": 0.8, \"date\": \"2022-04-14T12:06:50+00:00\", \"filtered\": [\"did\", \"start\", \"Bitcoin\", \"polker\", \"satisfies\", \"I\", \"continue\", \"HODL\", \"PKR\", \"2022\", \"than\", \"polker_PKR\", \"has\", \"great\", \"planning\", \"polkertothemoon\", \"Meta\", \"BinanceSmartChain\", \"KuCoin\", \"Solana\", \"//t.co/el4g2xfrJF\", \"//t.co/18h4f6rdR6\"], \"replyCount\": 0, \"retweetCount\": 0, \"likeCount\": 3, \"quoteCount\": 0, \"dateonly\": \"2022-04-14T00:00:00\"}, {\"score\": 0.1, \"date\": \"2022-04-14T12:00:00+00:00\", \"filtered\": [\"to\", \"nearly\", \"of\", \"made\", \"its\", \"creators\", \"fees\", \"Metaverse\", \"NFTCommunity\", \"Facebook\", \"NFTartist\", \"//t.co/p8fwfz4orc\"], \"replyCount\": 2, \"retweetCount\": 2, \"likeCount\": 4, \"quoteCount\": 1, \"dateonly\": \"2022-04-14T00:00:00\"}, {\"score\": 0.24318181818181817, \"date\": \"2022-04-14T11:53:14+00:00\", \"filtered\": [\"a\", \"bite\", \"the\", \"sweet\", \"cash\", \"platform\", \"announced\", \"to\", \"47.5\", \"on\", \"item\", \"on\", \"new\", \"Meta\", \"Quest\", \"store\", \"nonfungible\", \"https\", \"Coinzone\", \"Blockchain\", \"DeFi\", \"CryptoNews\"], \"replyCount\": 1, \"retweetCount\": 0, \"likeCount\": 3, \"quoteCount\": 2, \"dateonly\": \"2022-04-14T00:00:00\"}, {\"score\": -0.08750000000000002, \"date\": \"2022-04-14T11:51:29+00:00\", \"filtered\": [\"market\", \"red\", \"$\", \"is\", \"green\", \"it\", \"the\", \"NFT\", \"game\", \"made\", \"expect\", \"to\", \"a\", \"hot\", \"this\", \"So\", \"bought\", \"poker\", \"NFTdrops\", \"100xgem\", \"Airdrop\", \"binance\", \"https\"], \"replyCount\": 0, \"retweetCount\": 0, \"likeCount\": 3, \"quoteCount\": 0, \"dateonly\": \"2022-04-14T00:00:00\"}, {\"score\": 0.5, \"date\": \"2022-04-14T11:51:26+00:00\", \"filtered\": [\"is\", \"I\", \"many\", \"to\", \"with\", \"Maybe\", \"you\", \"want\", \"ensdomain\", \"suits\", \"hobby\", \"\\u26f3\\ufe0f\\ud83c\\udfcc\\ufe0f\\u200d\\u2640\\ufe0f\", \"ens\", \"Metaverse\", \"ETH\", \"golf\", \"golfschool\", \"golfcoach\", \"BAYC\", \"NFTs\", \"https\"], \"replyCount\": 3, \"retweetCount\": 2, \"likeCount\": 15, \"quoteCount\": 3, \"dateonly\": \"2022-04-14T00:00:00\"}, {\"score\": 0.16818181818181818, \"date\": \"2022-04-14T11:47:16+00:00\", \"filtered\": [\"check\", \"PKR\", \"'s\", \"very\", \"asset\", \"achieved\", \"new\", \"on\", \"polker_PKR\", \"has\", \"a\", \"development\", \"poker\", \"polkertothemoon\", \"Meta\", \"BinanceSmartChain\", \"KuCoin\", \"Solana\", \"//t.co/BU2aYVP6kT\", \"//t.co/4lkITXUwVV\"], \"replyCount\": 0, \"retweetCount\": 0, \"likeCount\": 4, \"quoteCount\": 0, \"dateonly\": \"2022-04-14T00:00:00\"}, {\"score\": -0.25, \"date\": \"2022-04-14T11:39:53+00:00\", \"filtered\": [\"Alien\", \"\\u201c\", \"is\", \"but\", \"destroys\", \"what\", \"considers\", \"be\", \"limiting\", \"vision.\", \"\\u2015\", \"Dali\", \"//t.co/4t30VXOsFG\", \"cryptocom\", \"NFTs\", \"Metaverse\", \"Meta\", \"metaufo\", \"https\"], \"replyCount\": 5, \"retweetCount\": 0, \"likeCount\": 6, \"quoteCount\": 4, \"dateonly\": \"2022-04-14T00:00:00\"}, {\"score\": 0.12499999999999999, \"date\": \"2022-04-14T11:37:04+00:00\", \"filtered\": [\"https\", \"//t.co/B0LVFaLICw\", \"cryptocom\", \"full\", \"empty\", \"be\", \"NFT\", \"NFTs\", \"Metaverse\", \"META\", \"Desert\", \"MetaverseWorlds\", \"https\"], \"replyCount\": 3, \"retweetCount\": 0, \"likeCount\": 4, \"quoteCount\": 6, \"dateonly\": \"2022-04-14T00:00:00\"}, {\"score\": 0.5, \"date\": \"2022-04-14T11:34:10+00:00\", \"filtered\": [\"is\", \"favorite\", \"guild\", \"Me\", \"Space\", \"GUILD\", \"by\", \"GUIDLersOfTheMetaverse\", \"cryptocurrency\", \"nft\", \"meta\", \"web3\", \"pump\", \"https\"], \"replyCount\": 4, \"retweetCount\": 0, \"likeCount\": 6, \"quoteCount\": 2, \"dateonly\": \"2022-04-14T00:00:00\"}, {\"score\": 0.25, \"date\": \"2022-04-14T11:19:24+00:00\", \"filtered\": [\"inaugurates\", \"metaverse\", \"datchatapp\", \"among\", \"first\", \"know\", \"the\", \"Metaverse\", \"NFT\", \"AR\", \"our\", \"https\", \"https\"], \"replyCount\": 0, \"retweetCount\": 1, \"likeCount\": 5, \"quoteCount\": 0, \"dateonly\": \"2022-04-14T00:00:00\"}, {\"score\": 0.5, \"date\": \"2022-04-14T11:02:24+00:00\", \"filtered\": [\"sure\", \"\\ud83c\\udf89\\ud83d\\udc36\\ud83d\\ude0e\", \"BabyDogeCoin\", \"BabyDoge\", \"BSC\", \"https\"], \"replyCount\": 2, \"retweetCount\": 5, \"likeCount\": 15, \"quoteCount\": 0, \"dateonly\": \"2022-04-14T00:00:00\"}, {\"score\": 0.5, \"date\": \"2022-04-14T10:51:50+00:00\", \"filtered\": [\"Awesome\", \"Twitter\", \"now\", \"Next\", \"Meta\", \"..\"], \"replyCount\": 1, \"retweetCount\": 0, \"likeCount\": 6, \"quoteCount\": 0, \"dateonly\": \"2022-04-14T00:00:00\"}, {\"score\": 0.1, \"date\": \"2022-04-14T10:40:01+00:00\", \"filtered\": [\"\\ud83d\\udcf0\", \"Will\", \"Nearly\", \"%\", \"on\", \"Made\", \"its\", \"Read\", \"https\", \"Facebook\", \"NFT\", \"cryptocurrency\"], \"replyCount\": 1, \"retweetCount\": 1, \"likeCount\": 4, \"quoteCount\": 3, \"dateonly\": \"2022-04-14T00:00:00\"}, {\"score\": -0.4, \"date\": \"2022-04-14T10:27:26+00:00\", \"filtered\": [\"did\", \"understand\", \"game\", \"will\", \"creators\", \"of\", \"%\", \"to\", \"sell\", \"wares\", \"its\", \"\\ud83e\\udd2f\\ud83d\\ude24\", \"community\", \"not\", \"you\", \"create\", \"ourselves\", \"NFTCommunity\", \"bayc\", \"//t.co/7ZapM4nlmr\"], \"replyCount\": 13, \"retweetCount\": 5, \"likeCount\": 57, \"quoteCount\": 4, \"dateonly\": \"2022-04-14T00:00:00\"}, {\"score\": 0.2916666666666667, \"date\": \"2022-04-14T10:06:53+00:00\", \"filtered\": [\"science\", \"to\", \"the\", \"word\", \"everyone\", \"lips\", \"like\", \"AR\", \"everything\", \"But\", \"most\", \"excitedly\", \"the\", \"to\", \"it\", \"hand\", \"is\", \"metaverse\", \"the\", \"big\", \"?\", \"thread\", \"1/5\", \"Metaverse\", \"meta\"], \"replyCount\": 1, \"retweetCount\": 5, \"likeCount\": 8, \"quoteCount\": 0, \"dateonly\": \"2022-04-14T00:00:00\"}, {\"score\": 0.31666666666666665, \"date\": \"2022-04-14T09:59:11+00:00\", \"filtered\": [\"\\u2019\", \"Meta-Nun\", \"Woke\", \"and\", \"first\", \"when\", \"I\", \"log\", \"twitter\", \"my\", \"family\", \"love\", \"you\", \"much\", \"NFTCommunity\", \"Web3\", \"OpenSeaNFT\", \"https\", \"//t.co/pQSRS5nGeM\"], \"replyCount\": 6, \"retweetCount\": 18, \"likeCount\": 27, \"quoteCount\": 3, \"dateonly\": \"2022-04-14T00:00:00\"}, {\"score\": 0.4, \"date\": \"2022-04-14T09:56:44+00:00\", \"filtered\": [\"//t.co/dAwmuNHLjY\", \"4sale\", \"free\", \"\\ud83d\\udce8\", \"Alert\", \"AIoT\", \"Bitcoin\", \"ETH\", \"Domains\", \"DigitalAssets\", \"//t.co/FoMc2INj9A\"], \"replyCount\": 1, \"retweetCount\": 1, \"likeCount\": 3, \"quoteCount\": 0, \"dateonly\": \"2022-04-14T00:00:00\"}, {\"score\": 0.08333333333333334, \"date\": \"2022-04-14T09:40:46+00:00\", \"filtered\": [\")\", \"privacy\", \"advertising\", \"using\", \"at\", \"advertisers\", \"about\", \"privacy\", \"(\", \"seriously\", \")\", \"Meta\", \"we\", \"more\", \"on\", \"*\", \"*\", \"(\", \"is\", \")\", \";\", \"All\", \"source\", \"realworldcrypto\", \"https\"], \"replyCount\": 1, \"retweetCount\": 1, \"likeCount\": 10, \"quoteCount\": 1, \"dateonly\": \"2022-04-14T00:00:00\"}, {\"score\": 0.6, \"date\": \"2022-04-14T09:40:11+00:00\", \"filtered\": [\"about\", \"Title\\uff1aEmirates\", \"Expand\", \"the\", \"and\", \"Own\", \"-\", \"https\", \"Metaverse\", \"crypto\", \"bitcoin\"], \"replyCount\": 40, \"retweetCount\": 14, \"likeCount\": 33, \"quoteCount\": 2, \"dateonly\": \"2022-04-14T00:00:00\"}, {\"score\": 0.25, \"date\": \"2022-04-14T09:31:43+00:00\", \"filtered\": [\"happens\", \"metaverse\", \"steals\", \"digital\", \"engages\", \"in\", \"stalking\", \"amp\", \"harassment\", \"sexually\", \"a\", \"?\", \"suffer\", \"there\", \"no\", \"Protect\", \"by\", \"out\", \"the\", \"Hell\", \"Meta\", \"https\", \"https\"], \"replyCount\": 1, \"retweetCount\": 3, \"likeCount\": 11, \"quoteCount\": 3, \"dateonly\": \"2022-04-14T00:00:00\"}, {\"score\": -0.033333333333333326, \"date\": \"2022-04-14T09:15:30+00:00\", \"filtered\": [\"this\", \"regulated\", \"But\", \"to\", \"happens\", \"in\", \"the\", \"black\", \"''\", \"and\", \"Binance\", \"Complete\", \"?\", \"BNB\", \"BTC\", \"Tether\", \"FTX\", \"BUSD\", \"ETH\", \"DOGE\", \"Binance\", \"FTT\", \"SOL\", \"CBDC\", \"DeFi\", \"//t.co/AO2bX7QdYj\"], \"replyCount\": 3, \"retweetCount\": 0, \"likeCount\": 6, \"quoteCount\": 1, \"dateonly\": \"2022-04-14T00:00:00\"}, {\"score\": -0.09999999999999999, \"date\": \"2022-04-14T08:34:20+00:00\", \"filtered\": [\"plans\", \"take\", \"nearly\", \"on\", \"asset\", \"made\", \"metaverse\", \"the\", \"has\", \"months\", \"it\", \"complained\", \"the\", \"30\", \"%\", \"cut\", \"Apple\", \"for\", \"through\", \"the\", \"App\", \"\\ud83e\\udd37\\u200d\\u2642\\ufe0f\", \"//t.co/VC6mmqAn8y\"], \"replyCount\": 0, \"retweetCount\": 0, \"likeCount\": 4, \"quoteCount\": 0, \"dateonly\": \"2022-04-14T00:00:00\"}, {\"score\": -0.33333333333333337, \"date\": \"2022-04-14T08:30:29+00:00\", \"filtered\": [\"'s\", \"is\", \"aka\", \"Game\", \"the\", \"Kobold\", \"Building\", \"Game\", \"Metaverse\", \"DeFi\", \"&\", \";\", \"Just\", \"active\", \"&\", \";\", \"over\", \"Holder\", \"growing\", \"50x\", \"DYOR\", \"Gaming\", \"Meta\", \"Game\", \"//t.co/zl2VtRQqUv\"], \"replyCount\": 18, \"retweetCount\": 20, \"likeCount\": 29, \"quoteCount\": 2, \"dateonly\": \"2022-04-14T00:00:00\"}, {\"score\": -0.45, \"date\": \"2022-04-14T08:05:31+00:00\", \"filtered\": [\"plans\", \"charge\", \"total\", \"%\", \"sale\", \"digitalassets\", \"on\", \"its\", \"platform\", \"The\", \"responded\", \"with\", \"outraged\", \"discover\", \"the\", \"whopping\", \"the\", \"plan\", \"take\", \"users\", \"NFTs\", \"//t.co/GJN4kWGU9Q\"], \"replyCount\": 0, \"retweetCount\": 1, \"likeCount\": 6, \"quoteCount\": 3, \"dateonly\": \"2022-04-14T00:00:00\"}, {\"score\": 0.1, \"date\": \"2022-04-14T07:54:04+00:00\", \"filtered\": [\"week\", \"here\", \"SuperDepressed\", \"'s\", \"Robotham\", \"what\", \"is\", \"be\", \"depression\", \"webcomic\", \"Superheroes\", \"comics\", \"experimental\", \"thursdayvibes\", \"https\"], \"replyCount\": 0, \"retweetCount\": 1, \"likeCount\": 3, \"quoteCount\": 0, \"dateonly\": \"2022-04-14T00:00:00\"}, {\"score\": 0.2, \"date\": \"2022-04-14T07:50:04+00:00\", \"filtered\": [\"really\", \"to\", \"the\", \"of\", \"NFTCommunity\", \"Decentraland\", \"coordenates\", \"-21\", \"you\", \"will\", \"stuff\", \"our\", \"place\", \"meta\", \"deployed\", \"some\", \"community\", \"at\", \"1\", \"2\", \"and\", \"them\", \"https\"], \"replyCount\": 1, \"retweetCount\": 0, \"likeCount\": 6, \"quoteCount\": 2, \"dateonly\": \"2022-04-14T00:00:00\"}, {\"score\": 0.39999999999999997, \"date\": \"2022-04-14T07:32:58+00:00\", \"filtered\": [\"BIG\", \"company\", \"ve\", \"this\", \"for\", \"a\", \"&\", \";\", \"still\", \"feel\", \"\\u2019\", \"m\", \"\\ud83d\\ude48\", \"again\", \"I\", \"always\", \"\\u201c\", \"before\", \"\\u2019\", \"ready.\", \"Oh\", \"come\", \"may\", \"I\", \"did\", \"best\", \"prepare\", \"for\", \"this\", \"Wish\", \"luck\", \"Meta\", \"https\"], \"replyCount\": 8, \"retweetCount\": 1, \"likeCount\": 20, \"quoteCount\": 0, \"dateonly\": \"2022-04-14T00:00:00\"}, {\"score\": 0.16666666666666666, \"date\": \"2022-04-14T07:30:03+00:00\", \"filtered\": [\"strive\", \"greater\", \"planning\", \"take\", \"massive\", \"from\", \"creators\", \"sell\", \"digital\", \"in\", \"its\", \"Metaverse\", \"NFT\", \"NFTCommunity\", \"Meta\"], \"replyCount\": 2, \"retweetCount\": 0, \"likeCount\": 4, \"quoteCount\": 5, \"dateonly\": \"2022-04-14T00:00:00\"}, {\"score\": 0.2, \"date\": \"2022-04-14T07:29:06+00:00\", \"filtered\": [\"WhatsApp\", \"WhatsApp\", \"said\", \"its\", \"reliable\", \"secure\", \"will\", \"adoption\", \"unified\", \"interface\", \"(\", \"UPI\", \")\", \"for\", \"next\", \"million\", \"https\"], \"replyCount\": 0, \"retweetCount\": 0, \"likeCount\": 3, \"quoteCount\": 0, \"dateonly\": \"2022-04-14T00:00:00\"}, {\"score\": 0.8, \"date\": \"2022-04-14T07:05:41+00:00\", \"filtered\": [\"have\", \"Holders\", \"now\", \"ANY\", \"on\", \"NFTCollection\", \"everyone\\ud83d\\udc9a\", \"You\", \"can\", \"win\", \"1\", \"SoggyNori\", \"LIKE\", \"amp\", \"RT\", \"LEAVE\", \"ETH\", \"NFTCommunity\", \"NFTs\", \"NFTdrop\", \"OpenSeaNFT\", \"Meta\", \"https\"], \"replyCount\": 3, \"retweetCount\": 4, \"likeCount\": 6, \"quoteCount\": 1, \"dateonly\": \"2022-04-14T00:00:00\"}, {\"score\": 0.8, \"date\": \"2022-04-14T07:05:20+00:00\", \"filtered\": [\"have\", \"Holders\", \"now\", \"ANY\", \"on\", \"NFTCollection\", \"everyone\\ud83d\\udc9a\", \"You\", \"can\", \"win\", \"1\", \"SoggyNori\", \"LIKE\", \"amp\", \"RT\", \"LEAVE\", \"ETH\", \"NFTCommunity\", \"NFTs\", \"NFTdrop\", \"OpenSeaNFT\", \"Meta\", \"https\"], \"replyCount\": 4, \"retweetCount\": 6, \"likeCount\": 6, \"quoteCount\": 1, \"dateonly\": \"2022-04-14T00:00:00\"}, {\"score\": 0.21428571428571427, \"date\": \"2022-04-14T06:36:56+00:00\", \"filtered\": [\"Zuckerberg\", \"Smart\", \"trying\", \"bring\", \"to\", \"?\", \"details\", \"//t.co/p02DygywCt\", \"Smart\", \"reality\", \"IronMan\", \"news\", \"newsmedia\", \"https\"], \"replyCount\": 3, \"retweetCount\": 1, \"likeCount\": 5, \"quoteCount\": 0, \"dateonly\": \"2022-04-14T00:00:00\"}, {\"score\": 0.225, \"date\": \"2022-04-14T06:33:41+00:00\", \"filtered\": [\"project\", \"will\", \"first\", \"of\", \"year\", \"content\", \"a\", \"of\", \"and\", \"streaming\", \"would\", \"to\", \"out\", \"distribution\", \"in\", \"both\", \"the\", \"real\", \"and\", \"the\", \"nft\", \"Metaverse\", \"meta\", \"Bitcoin\"], \"replyCount\": 0, \"retweetCount\": 0, \"likeCount\": 3, \"quoteCount\": 1, \"dateonly\": \"2022-04-14T00:00:00\"}, {\"score\": 0.8, \"date\": \"2022-04-14T06:30:04+00:00\", \"filtered\": [\"metaverse\", \"great\", \"\\u2014\", \"great\", \"https\", \"AIEthics\", \"AI\", \"DeepLearning\", \"100DaysOfCode\", \"insurtech\", \"bitcoin\", \"cybersecurite\", \"https\"], \"replyCount\": 2, \"retweetCount\": 27, \"likeCount\": 13, \"quoteCount\": 0, \"dateonly\": \"2022-04-14T00:00:00\"}, {\"score\": 0.5, \"date\": \"2022-04-14T06:28:58+00:00\", \"filtered\": [\"made\", \"art\", \"it\", \"you\", \"it\", \"will\", \"a\", \"more\", \"the\", \"Family\", \"toromilano58\", \"jameskwho\", \"brandonsalim\", \"NFTSupaman\", \"im\", \"NFT\", \"KarafuruWorldwide\", \"blockchain\", \"https\"], \"replyCount\": 0, \"retweetCount\": 0, \"likeCount\": 4, \"quoteCount\": 1, \"dateonly\": \"2022-04-14T00:00:00\"}, {\"score\": 0.2333333333333333, \"date\": \"2022-04-14T06:23:35+00:00\", \"filtered\": [\"own\", \"game\", \"about\", \"make\", \"waves\", \"\\ud83c\\udfa3\", \"has\", \"designed\", \"a\", \"range\", \"players\", \"a\", \"and\", \"vibe.\\u263a\\ufe0f\", \"more\", \"Metaverse\", \"NFTGames\", \"Gmatrixs\", \"MetaAttack\", \"https\", \"//t.co/KRzGugzpFw\"], \"replyCount\": 3, \"retweetCount\": 4, \"likeCount\": 7, \"quoteCount\": 0, \"dateonly\": \"2022-04-14T00:00:00\"}, {\"score\": 0.04545454545454545, \"date\": \"2022-04-14T06:02:52+00:00\", \"filtered\": [\"is\", \"to\", \"Android\", \"iOS\", \"it\", \"new\", \"$\", \"has\", \"had\", \"such\", \"-Omnichannel\", \"to\", \"physical\", \"-Manufacturing\", \"supply\", \"to\", \"https\", \"via\"], \"replyCount\": 1, \"retweetCount\": 2, \"likeCount\": 3, \"quoteCount\": 0, \"dateonly\": \"2022-04-14T00:00:00\"}, {\"score\": -0.4, \"date\": \"2022-04-14T05:56:14+00:00\", \"filtered\": [\"17\", \"asking\", \"out\", \"e-meet\", \"If\", \"living\", \"let\", \"\\u2019\", \"the\", \"who\", \"it\", \"\\u2019\", \"s\", \"create\", \"a\", \"real-life\", \"game\", \"nfts\", \"nftcollector\", \"nftproject\", \"nftcommunity\", \"Elonmusk\"], \"replyCount\": 2, \"retweetCount\": 1, \"likeCount\": 3, \"quoteCount\": 3, \"dateonly\": \"2022-04-14T00:00:00\"}, {\"score\": 0.22916666666666666, \"date\": \"2022-04-14T05:00:51+00:00\", \"filtered\": [\"do\", \"mean\", \"But\", \"stick\", \"Pepsi\", \"Buffet\", \"we\", \"okay\", \"stick\", \"META\", \"we\", \"'ll\", \"be\", \"okay\", \"stock\", \"is\", \"money\", \"for\", \"money\", \"to\", \"the\", \"patient\", \"//t.co/Y60moGEft3\"], \"replyCount\": 1, \"retweetCount\": 0, \"likeCount\": 4, \"quoteCount\": 0, \"dateonly\": \"2022-04-14T00:00:00\"}, {\"score\": 0.1, \"date\": \"2022-04-14T05:00:10+00:00\", \"filtered\": [\"to\", \"nearly\", \"of\", \"made\", \"its\", \"creators\", \"fees\", \"MarkZuckerberg\", \"HorizonVenues\", \"Internet\", \"Metaverse\", \"TechnologyNews\", \"//t.co/wkKRo4WI6z\"], \"replyCount\": 1, \"retweetCount\": 0, \"likeCount\": 3, \"quoteCount\": 0, \"dateonly\": \"2022-04-14T00:00:00\"}, {\"score\": 0.35, \"date\": \"2022-04-14T04:14:53+00:00\", \"filtered\": [\"reportedly\", \"to\", \"its\", \"true\", \"glasses\", \"the\", \"by\", \"Meta\", \"AR\", \"Wearable\", \"Launch\", \"Rumors\", \"https\", \"//t.co/sxUNrlg9p0\"], \"replyCount\": 0, \"retweetCount\": 3, \"likeCount\": 13, \"quoteCount\": 0, \"dateonly\": \"2022-04-14T00:00:00\"}, {\"score\": -0.4, \"date\": \"2022-04-14T03:36:24+00:00\", \"filtered\": [\"fuck\", \"Zuck\", \"ta\", \"now\", \"NFT\", \"are\", \"to\", \"their\", \"apes\", \"comment\", \"made\", \"game\", \"getting\", \"gouged\", \"with\", \"%\", \"any\", \"store\", \"of\", \"meta\", \"Metaverse\", \"https\"], \"replyCount\": 0, \"retweetCount\": 0, \"likeCount\": 4, \"quoteCount\": 0, \"dateonly\": \"2022-04-14T00:00:00\"}, {\"score\": 0.3181818181818182, \"date\": \"2022-04-14T02:58:27+00:00\", \"filtered\": [\"me\", \"your\", \"are\", \"new\", \"%\", \"on\", \"Items\", \"\\ud83d\\ude32\", \"out\", \"article\", \"more\", \"NFTCommunity\", \"Metaverse\", \"meta\", \"DiscordNFT\"], \"replyCount\": 2, \"retweetCount\": 0, \"likeCount\": 48, \"quoteCount\": 0, \"dateonly\": \"2022-04-14T00:00:00\"}, {\"score\": 0.7, \"date\": \"2022-04-14T02:46:46+00:00\", \"filtered\": [\"am\", \"bullish\", \"galaxy_eggs\", \"The\", \"is\", \"more\", \"just\", \"incredible\", \"20\", \"of\", \"and\", \"from\", \"have\", \"into\", \"I\", \"to\", \"this\", \"GalaxyWarriors\", \"Metaverse\", \"NFTs\", \"nftart\", \"https\", \"https\"], \"replyCount\": 2, \"retweetCount\": 8, \"likeCount\": 14, \"quoteCount\": 4, \"dateonly\": \"2022-04-14T00:00:00\"}, {\"score\": 0.3, \"date\": \"2022-04-14T01:47:35+00:00\", \"filtered\": [\"check\", \"my\", \"tweet\", \"help\", \"LIKE\\ud83d\\udc9a\", \"amp\", \"RT\", \"for\", \"please\", \"you\", \"n\", \"\\u2019\", \"forget\", \"smile\", \"BSCGems\", \"Apes\", \"Anfield\", \"MoonKnight\", \"NFTs\", \"DeadFellaz\", \"sips\", \"*\"], \"replyCount\": 0, \"retweetCount\": 0, \"likeCount\": 7, \"quoteCount\": 1, \"dateonly\": \"2022-04-14T00:00:00\"}, {\"score\": 0.13636363636363635, \"date\": \"2022-04-14T01:21:24+00:00\", \"filtered\": [\"friends\", \"Friday\", \"\\u2019\", \"gon\", \"co-host\", \"twitter\", \"and\", \"\\u2019\", \"gon\", \"talk\", \"\\u2019\", \"new\", \"for\", \"Sharkcity\", \"and\", \"about\", \"sandbox\", \"na\", \"chill\", \"and\", \"can\", \"learn\", \"together\", \"sandbox\", \"meta\"], \"replyCount\": 3, \"retweetCount\": 6, \"likeCount\": 7, \"quoteCount\": 1, \"dateonly\": \"2022-04-14T00:00:00\"}, {\"score\": 0.016666666666666666, \"date\": \"2022-04-14T01:10:01+00:00\", \"filtered\": [\"Metaverse\", \"In\", \"next\", \"years\", \"will\", \"transition\", \"people\", \"us\", \"as\", \"social\", \"being\", \"metaverse\", \"company\", \"~Mark\", \"The\", \"of\", \"is\", \"metaverse\", \"Waters\", \"//t.co/Bfj3WkJwlr\", \"VR\", \"AI\"], \"replyCount\": 0, \"retweetCount\": 5, \"likeCount\": 4, \"quoteCount\": 0, \"dateonly\": \"2022-04-14T00:00:00\"}, {\"score\": 0.45, \"date\": \"2022-04-14T00:57:49+00:00\", \"filtered\": [\"DEMO\", \"In\", \"Demigod\", \"will\", \"the\", \"as\", \"combine\", \"fantastic\", \"in\", \"ways\", \"take\", \"ninjas\", \"agents\", \"amp\", \"more\", \"out\", \"VR\", \"on\", \"-\", \"//t.co/SmT08drxDY\", \"MetaQuest2\", \"Metaverse\", \"https\"], \"replyCount\": 2, \"retweetCount\": 1, \"likeCount\": 11, \"quoteCount\": 0, \"dateonly\": \"2022-04-14T00:00:00\"}, {\"score\": 0.13636363636363635, \"date\": \"2022-04-14T00:11:47+00:00\", \"filtered\": [\"looking\", \"carve\", \"some\", \"taxes\", \"creators\", \"new\", \"businesses\", \"//t.co/nlsbaN2cac\"], \"replyCount\": 1, \"retweetCount\": 0, \"likeCount\": 4, \"quoteCount\": 1, \"dateonly\": \"2022-04-14T00:00:00\"}, {\"score\": 0.2, \"date\": \"2022-04-14T00:03:08+00:00\", \"filtered\": [\"Meta\", \"Island\", \"been\", \"on\", \"Solana\", \"Are\", \"ready\", \"begin\", \"adventure\", \"Our\", \"begins\", \"2222\", \"who\", \"the\", \"\\ud83d\\udc09\", \"you\", \"fire\", \"the\", \"faction\", \"\\ud83d\\udd25\\ud83d\\udc32\", \"solnft\"], \"replyCount\": 17, \"retweetCount\": 13, \"likeCount\": 49, \"quoteCount\": 0, \"dateonly\": \"2022-04-14T00:00:00\"}, {\"score\": 0.35, \"date\": \"2022-04-13T23:42:28+00:00\", \"filtered\": [\"the\", \"April\", \"gift\", \"of\", \"The\", \"True\", \"chiko_roko\", \"can\", \"your\", \"NFT\", \"chiko\", \"nft\", \"metaverse\", \"https\", \"//t.co/J9pXa7EM7N\"], \"replyCount\": 0, \"retweetCount\": 0, \"likeCount\": 4, \"quoteCount\": 1, \"dateonly\": \"2022-04-13T00:00:00\"}, {\"score\": -0.3333333333333333, \"date\": \"2022-04-13T23:39:51+00:00\", \"filtered\": [\"Meta\", \"to\", \"a\", \"%\", \"sales\", \"amp\", \"transactions\", \"of\", \"digital\", \"in\", \"Metaverse\", \"insane\", \"Metaverse\", \"to\", \"open\", \"amp\", \"decentralized\", \"all\", \"DigiByte\", \"https\"], \"replyCount\": 4, \"retweetCount\": 15, \"likeCount\": 67, \"quoteCount\": 1, \"dateonly\": \"2022-04-13T00:00:00\"}, {\"score\": 0.2, \"date\": \"2022-04-13T23:00:14+00:00\", \"filtered\": [\"Web3\", \"promise\", \"have\", \"influences\", \"corrupted\", \"?\", \"'s\", \"up\", \"with\", \"taking\", \"50\", \"cut\", \"digitalassets\", \"in\", \"its\", \"virtual\", \"?\", \"CamiRusso\", \"amp\", \"IamSuperMassive\", \"this\", \"amp\", \"much\", \"https\"], \"replyCount\": 0, \"retweetCount\": 5, \"likeCount\": 9, \"quoteCount\": 0, \"dateonly\": \"2022-04-13T00:00:00\"}, {\"score\": -0.4, \"date\": \"2022-04-13T22:37:17+00:00\", \"filtered\": [\"are\", \"on\", \"functions\", \"missions\", \"be\", \"within\", \"game\", \"talk\", \"about\", \"in\", \"official\", \"Channels\", \"metaverse\", \"nfts\", \"crypto\", \"decentraland\", \"NFT\", \"TruckCompany\", \"//t.co/NG7U4Buw2i\"], \"replyCount\": 0, \"retweetCount\": 0, \"likeCount\": 3, \"quoteCount\": 1, \"dateonly\": \"2022-04-13T00:00:00\"}, {\"score\": 0.13636363636363635, \"date\": \"2022-04-13T21:55:15+00:00\", \"filtered\": [\"of\", \"META\", \"NFT\", \"IS\", \"wE\", \"new\", \"tiS\", \"SO\", \"can\", \"together\", \"make\", \"\\u201c\", \"\\u201d\", \"TheHumanoidsNFT\", \"surreal_azee\", \"KryptoWaifu\", \"We\", \"WAGMI2022\", \"\\ud83d\\udc99\", \"https\"], \"replyCount\": 9, \"retweetCount\": 19, \"likeCount\": 43, \"quoteCount\": 1, \"dateonly\": \"2022-04-13T00:00:00\"}, {\"score\": -0.15000000000000002, \"date\": \"2022-04-13T21:53:03+00:00\", \"filtered\": [\"are\", \"PRESALES\", \"don\", \"t\", \"the\", \"in\", \"in\", \"\\ud83d\\udcb8\\ud83e\\udd11\\ud83d\\ude4c\\ud83c\\udffb\", \"Games\", \"Join\", \"in\", \"community\", \"get\", \"\\ud83e\\udd1d\", \"https\", \"META\", \"Game\", \"will\", \"developed\", \"serves\", \"purposes\", \"\\ud83d\\udc7e\\ud83c\\udfae\\ud83d\\udcb8\", \"meta\"], \"replyCount\": 3, \"retweetCount\": 3, \"likeCount\": 5, \"quoteCount\": 0, \"dateonly\": \"2022-04-13T00:00:00\"}, {\"score\": 1.0, \"date\": \"2022-04-13T21:48:32+00:00\", \"filtered\": [\"Perfect\", \"\\u2728\\ud83d\\udcaf\\ud83d\\udcaf\", \"$\", \"crypto\", \"meta\", \"btc\", \"ceek\", \"sand\", \"axs\", \"concert\", \"SensoToken\", \"//t.co/GrruLV2UmG\"], \"replyCount\": 10, \"retweetCount\": 3, \"likeCount\": 10, \"quoteCount\": 0, \"dateonly\": \"2022-04-13T00:00:00\"}, {\"score\": 0.10000000000000002, \"date\": \"2022-04-13T21:22:36+00:00\", \"filtered\": [\"(\", \"Facebook\", \"wants\", \"nearly\", \"%\", \"on\", \"sold\", \"it\", \"Metaverse\", \"Totally\", \"https\"], \"replyCount\": 2, \"retweetCount\": 3, \"likeCount\": 7, \"quoteCount\": 1, \"dateonly\": \"2022-04-13T00:00:00\"}, {\"score\": 0.3, \"date\": \"2022-04-13T21:09:40+00:00\", \"filtered\": [\"SOMETHING\", \"FUN\", \"after\", \"discussion\", \"ashihadah\", \"goaL\", \"TheHumanoidsNFT\", \"META\", \"AFTER\", \"PARTNERSHIP\", \"COINBASE\", \"CAN\", \"HELP\", \"\\ud83e\\uddbe\", \"NFTCommumity\", \"SleepyGhost1158\", \"//t.co/57wjycut1D\"], \"replyCount\": 6, \"retweetCount\": 12, \"likeCount\": 38, \"quoteCount\": 0, \"dateonly\": \"2022-04-13T00:00:00\"}, {\"score\": 0.6000000000000001, \"date\": \"2022-04-13T21:09:06+00:00\", \"filtered\": [\"NFTGiveaways\", \"'re\", \"away\", \"FREE\", \"of\", \"in\", \"on\", \"Here\", \"how\", \"win\", \"Follow\", \"2\", \"our\", \"/\", \"//t.co/QFuIEkiwpg\", \"NFTProject\", \"Metaverse\", \"designtwitter\", \"3Danimation\", \"gaming\", \"//t.co/2rc5lBQQ9N\"], \"replyCount\": 2, \"retweetCount\": 4, \"likeCount\": 9, \"quoteCount\": 0, \"dateonly\": \"2022-04-13T00:00:00\"}, {\"score\": -0.4, \"date\": \"2022-04-13T20:54:55+00:00\", \"filtered\": [\"How\", \"we\", \"Meta\", \"worse\", \"oh\", \"have\", \"idea\", \"Let\", \"rip\", \"off\", \"pretend\", \"it\", \"just\", \"business\", \"https\"], \"replyCount\": 1, \"retweetCount\": 0, \"likeCount\": 3, \"quoteCount\": 0, \"dateonly\": \"2022-04-13T00:00:00\"}, {\"score\": 0.2, \"date\": \"2022-04-13T20:41:44+00:00\", \"filtered\": [\"/\", \"woke\", \"/\", \"pro-female\", \"company\", \"there\", \"Yet\", \"time\", \"log\", \"all\", \"is\", \"shows\", \"is\", \"I\", \"m\", \"complaining\", \"I\", \"find\", \"ironic\", \"Facebook\", \"instagram\", \"instaboobs\", \"//t.co/ay3UUr7wQj\"], \"replyCount\": 1, \"retweetCount\": 1, \"likeCount\": 3, \"quoteCount\": 0, \"dateonly\": \"2022-04-13T00:00:00\"}, {\"score\": 0.21666666666666667, \"date\": \"2022-04-13T20:28:12+00:00\", \"filtered\": [\"said\", \"would\", \"easy\", \"dice\", \"outnumbered\", \"breaking\", \"all\", \"almost\", \"in\", \"levels\", \"just\", \"to\", \"Or\", \"it\", \"enough\", \"Hardcore\", \"will\", \"a\", \"in\", \"VR.\", \"vr\", \"vrgames\", \"oculus\", \"meta\", \"//t.co/pZLmIPmJHV\"], \"replyCount\": 2, \"retweetCount\": 1, \"likeCount\": 4, \"quoteCount\": 1, \"dateonly\": \"2022-04-13T00:00:00\"}, {\"score\": 0.5, \"date\": \"2022-04-13T20:14:13+00:00\", \"filtered\": [\"company\", \"s\", \"structure\", \"include\", \"hardware\", \"30\", \"made\", \"the\", \"Quest\", \"and\", \"additional\", \"%\", \"fee\", \"for\", \"Worlds\", \"do\", \"think\", \"this\", \"fee\", \"\\ud83d\\ude33\", \"thenftist\", \"for\", \"more\", \"news\", \"meta\", \"https\"], \"replyCount\": 0, \"retweetCount\": 1, \"likeCount\": 6, \"quoteCount\": 0, \"dateonly\": \"2022-04-13T00:00:00\"}, {\"score\": 0.25, \"date\": \"2022-04-13T20:12:31+00:00\", \"filtered\": [\"will\", \"47.5\", \"fees\", \"creators\", \"higher\", \"what\", \"charges\", \"on\", \"App\", \"\\ud83e\\udd14\", \"meta\", \"//t.co/kIF756d6M2\"], \"replyCount\": 1, \"retweetCount\": 0, \"likeCount\": 3, \"quoteCount\": 0, \"dateonly\": \"2022-04-13T00:00:00\"}, {\"score\": 1.0, \"date\": \"2022-04-13T20:01:23+00:00\", \"filtered\": [\"is\", \"Best\", \"Token\", \"The\", \"NowMeta\", \"NMETA\", \"On\", \"Buy\", \"gamingcommunity\", \"GameFi\", \"Meta\", \"Metaverse\", \"//t.co/dxkDjkIoPi\", \"//t.co/B80tX0cPr5\"], \"replyCount\": 3, \"retweetCount\": 10, \"likeCount\": 9, \"quoteCount\": 0, \"dateonly\": \"2022-04-13T00:00:00\"}, {\"score\": 0.5, \"date\": \"2022-04-13T20:00:18+00:00\", \"filtered\": [\"Miners\", \"now\", \"up\", \"they\", \"sell\", \"LTT\", \"to\", \"your\", \"OTC\", \"licence\", \"more\", \"OTC\", \"desks\", \"here\", \"https\", \"//t.co/lyYjxripFT\", \"LTT\", \"meta\", \"LootNFT\", \"NFT\", \"https\"], \"replyCount\": 0, \"retweetCount\": 4, \"likeCount\": 12, \"quoteCount\": 1, \"dateonly\": \"2022-04-13T00:00:00\"}, {\"score\": 0.65, \"date\": \"2022-04-13T19:42:37+00:00\", \"filtered\": [\"Island\", \"and\", \"island\", \"you\", \"go\", \"vacation\", \"Island\", \"hosts\", \"a\", \"lot\", \"great\", \"that\", \"you\", \"more\", \"non-fungible\", \"NiftyIsland\", \"NFT\"], \"replyCount\": 1, \"retweetCount\": 1, \"likeCount\": 10, \"quoteCount\": 0, \"dateonly\": \"2022-04-13T00:00:00\"}, {\"score\": -0.625, \"date\": \"2022-04-13T19:38:22+00:00\", \"filtered\": [\"you\", \"mad\", \"nft\", \"meta\", \"//t.co/OTJfmvWYsq\"], \"replyCount\": 1, \"retweetCount\": 0, \"likeCount\": 3, \"quoteCount\": 2, \"dateonly\": \"2022-04-13T00:00:00\"}, {\"score\": 0.1, \"date\": \"2022-04-13T19:30:00+00:00\", \"filtered\": [\"to\", \"nearly\", \"of\", \"made\", \"its\", \"creators\", \"fees\", \"//t.co/s25NFrI3qe\"], \"replyCount\": 0, \"retweetCount\": 0, \"likeCount\": 3, \"quoteCount\": 0, \"dateonly\": \"2022-04-13T00:00:00\"}, {\"score\": -0.16666666666666666, \"date\": \"2022-04-13T19:29:48+00:00\", \"filtered\": [\"Wisdom61877318\", \"Facebook\", \"\\ud83d\\uddd1\\ufe0f\", \"half\", \"Zuck\", \"and\", \"``\", \"''\", \"of\", \"Do\", \"enable\", \"the\", \"problem\", \"solves\"], \"replyCount\": 0, \"retweetCount\": 0, \"likeCount\": 7, \"quoteCount\": 0, \"dateonly\": \"2022-04-13T00:00:00\"}, {\"score\": 0.16818181818181818, \"date\": \"2022-04-13T19:08:58+00:00\", \"filtered\": [\"today\", \"created\", \"new\", \"Collection\", \"number\", \"ready\", \"Metaverse\", \"Follow\", \"evolution\", \"development\", \"David\", \"Proofs\", \"of\", \"creation\", \"NFTCollection\", \"NFTs\", \"Meta\", \"rarible\", \"https\", \"//t.co/CW05DlI6H0\"], \"replyCount\": 1, \"retweetCount\": 1, \"likeCount\": 6, \"quoteCount\": 1, \"dateonly\": \"2022-04-13T00:00:00\"}, {\"score\": -1.0, \"date\": \"2022-04-13T18:56:51+00:00\", \"filtered\": [\"(\", \")\", \"to\", \"a\", \"%\", \"on\", \"NFT\", \"on\", \"virtual\", \"platform\", \"Worlds\", \"we\", \"opensea\", \"terrible\", \"$\", \"$\", \"$\", \"$\", \"$\", \"$\", \"$\", \"$\", \"$\", \"https\"], \"replyCount\": 1, \"retweetCount\": 2, \"likeCount\": 7, \"quoteCount\": 0, \"dateonly\": \"2022-04-13T00:00:00\"}, {\"score\": 0.2, \"date\": \"2022-04-13T18:56:09+00:00\", \"filtered\": [\"this\", \"peak\", \"``\", \"''\", \"tell\", \"what\", \"did\", \"but\", \"their\", \"system\", \"been\", \"for\", \"3\", \"straight\", \"FacebookJail\", \"Meta\", \"facebookdisabledme\", \"//t.co/IRKpoUPEwZ\"], \"replyCount\": 0, \"retweetCount\": 2, \"likeCount\": 3, \"quoteCount\": 1, \"dateonly\": \"2022-04-13T00:00:00\"}, {\"score\": -0.13333333333333333, \"date\": \"2022-04-13T18:55:15+00:00\", \"filtered\": [\"as\", \"Meta\", \"trying\", \"actively\", \"people\", \"them\", \"that\", \"data\", \"\\u2019\", \"be\", \"if\", \"didn\", \"\\u2019\", \"t\", \"it\", \"decide\", \"decisions\", \"be\", \"received\", \"nfts\"], \"replyCount\": 0, \"retweetCount\": 0, \"likeCount\": 3, \"quoteCount\": 0, \"dateonly\": \"2022-04-13T00:00:00\"}, {\"score\": -0.8, \"date\": \"2022-04-13T18:26:42+00:00\", \"filtered\": [\"forgot\", \"annoying\", \"is\", \"grind\", \"WL\\u2026\", \"we\", \"a\", \"WL\", \"plz\", \"?\", \"?\", \"NFTCommunity\", \"SOL\", \"Meta\"], \"replyCount\": 0, \"retweetCount\": 0, \"likeCount\": 3, \"quoteCount\": 1, \"dateonly\": \"2022-04-13T00:00:00\"}, {\"score\": 0.4, \"date\": \"2022-04-13T18:06:22+00:00\", \"filtered\": [\"1/2\", \"OF\", \"DAY\\u203c\\ufe0f\", \"https\", \"Creator\", \"THE\", \"JenaPlissken72\", \"META\", \"name\", \"Portofino\\ud83c\\udfe1\", \"https\", \"Details\", \"villa\", \"terraces\", \"Size\", \"of\", \"available\", \"META\", \"NFTs\\u26a0\\ufe0f\"], \"replyCount\": 1, \"retweetCount\": 1, \"likeCount\": 9, \"quoteCount\": 3, \"dateonly\": \"2022-04-13T00:00:00\"}, {\"score\": 0.14999999999999997, \"date\": \"2022-04-13T18:05:58+00:00\", \"filtered\": [\"topic\", \"still\", \"How\", \"good\", \"Hamo\", \"become\", \"be\", \"game\", \"\\ud83e\\udd14\", \"//t.co/aPBa2PP1Fh\", \"NFTs\", \"NFTCommmunity\", \"OpenSea\", \"ETH\", \"Meta\", \"IOST\", \"//t.co/5iuJBPOaus\"], \"replyCount\": 1, \"retweetCount\": 3, \"likeCount\": 9, \"quoteCount\": 2, \"dateonly\": \"2022-04-13T00:00:00\"}, {\"score\": 0.5, \"date\": \"2022-04-13T17:34:37+00:00\", \"filtered\": [\"is\", \"than\", \"taxation\", \"assets\", \"some\", \"Meta\", \"rework\", \"on\", \"its\", \"model\", \"it\", \"lose\", \"Many\", \"in\", \"world\", \"build\", \"the\", \"aim\", \"the\", \"and\", \"maximum\", \"cryptocurrency\", \"//t.co/6rBnHccocN\"], \"replyCount\": 0, \"retweetCount\": 0, \"likeCount\": 3, \"quoteCount\": 0, \"dateonly\": \"2022-04-13T00:00:00\"}, {\"score\": -0.2916666666666667, \"date\": \"2022-04-13T17:13:52+00:00\", \"filtered\": [\"2021\", \"Apple\", \"s\", \"%\", \"on\", \"make\", \"hard\", \"Zuck\", \"Facebook\", \"will\", \"creators\", \"of\", \"%\", \"to\", \"sell\", \"in\", \"metaverse.\", \"\\u201d\", \"GTFO\"], \"replyCount\": 0, \"retweetCount\": 0, \"likeCount\": 3, \"quoteCount\": 0, \"dateonly\": \"2022-04-13T00:00:00\"}, {\"score\": 0.2, \"date\": \"2022-04-13T17:07:24+00:00\", \"filtered\": [\"can\", \"so\", \"we\", \"need\", \"shut\", \"off\", \"and\", \"real\", \"Just\", \"a\", \"&\", \";\", \"bread\", \"the\", \"Cost\", \"0.00\", \"Infinite\", \"ens\", \"Metaverse\", \"ETH\", \"https\"], \"replyCount\": 7, \"retweetCount\": 3, \"likeCount\": 23, \"quoteCount\": 0, \"dateonly\": \"2022-04-13T00:00:00\"}, {\"score\": 0.14545454545454548, \"date\": \"2022-04-13T17:02:57+00:00\", \"filtered\": [\"people\", \"surprised\", \"wants\", \"take\", \"%\", \"w/e\", \"your\", \"profits\", \"See\", \"Twitch\", \"Partner\", \"Program\", \"Adsense\", \"'s\", \"in\", \"model\", \"using\", \"a\", \"new\", \"to\", \"to\", \"bottom\", \"...\"], \"replyCount\": 0, \"retweetCount\": 1, \"likeCount\": 5, \"quoteCount\": 1, \"dateonly\": \"2022-04-13T00:00:00\"}, {\"score\": 0.13636363636363635, \"date\": \"2022-04-13T17:02:30+00:00\", \"filtered\": [\"ALL\", \"Creators\\ud83d\\udea8\", \"creation\", \"new\", \"now\", \"distributed\", \"NFTs\", \"will\", \"of\", \"creations\", \"rights\", \"for\", \"the\", \"deets\\ud83d\\udc49\", \"//t.co/YxxzpRgPGw\", \"I.P\", \"is\", \"for\", \"you\", \"?\", \"\\ud83e\\uddf5\", \"\\ud83d\\udc47\"], \"replyCount\": 2, \"retweetCount\": 4, \"likeCount\": 14, \"quoteCount\": 3, \"dateonly\": \"2022-04-13T00:00:00\"}, {\"score\": 0.10714285714285714, \"date\": \"2022-04-13T17:01:25+00:00\", \"filtered\": [\"is\", \"the\", \"Give\", \"an\", \"easter\", \"by\", \"out\", \"article\", \"Metaverse\", \"with\", \"potential\", \"April\", \"out\", \"we\", \"Alienworlds\", \"this\", \"and\", \"make\", \"smart\", \"Read\\ud83d\\udc47\\ud83c\\udfff\\ud83d\\udc47\\ud83c\\udfff\", \"//t.co/rhDTry3Vqp\", \"Crypto/\"], \"replyCount\": 0, \"retweetCount\": 8, \"likeCount\": 14, \"quoteCount\": 0, \"dateonly\": \"2022-04-13T00:00:00\"}, {\"score\": 0.39444444444444443, \"date\": \"2022-04-13T16:59:50+00:00\", \"filtered\": [\"full\", \"version\", \"just\", \"days\", \"Now\", \"'s\", \"to\", \"more\", \"skills\", \"MetaxyMXY\", \"God\", \"Storm\", \"3\", \"Super\", \"Strength\", \"The\", \"demonstrates\", \"a\", \"performs\", \"God\", \"Storm\", \"Info\", \"//t.co/EiqXbf1Xnd\", \"NFTGaming\", \"MXY\", \"//t.co/Yk8M5sjqSo\"], \"replyCount\": 3, \"retweetCount\": 0, \"likeCount\": 33, \"quoteCount\": 0, \"dateonly\": \"2022-04-13T00:00:00\"}, {\"score\": 0.2, \"date\": \"2022-04-13T16:36:24+00:00\", \"filtered\": [\"n't\", \"this\", \"if\", \"tried\", \"Zuckerberg\", \"``\", \"30\", \"fees\", \"Apple\", \"on\", \"make\", \"harder\", \"do\", \"...\", \"now\", \"can\", \"more\", \"Also\", \"2022\", \"Meta\", \"charge\", \"fees\", \"up\", \"47.5\", \"to\", \"NFT\"], \"replyCount\": 1, \"retweetCount\": 1, \"likeCount\": 3, \"quoteCount\": 0, \"dateonly\": \"2022-04-13T00:00:00\"}, {\"score\": -0.6999999999999998, \"date\": \"2022-04-13T16:11:30+00:00\", \"filtered\": [\"%\", \"it\", \"s\", \"bad\", \"be\", \"it\", \"is\"], \"replyCount\": 1, \"retweetCount\": 0, \"likeCount\": 4, \"quoteCount\": 0, \"dateonly\": \"2022-04-13T00:00:00\"}, {\"score\": 0.1, \"date\": \"2022-04-13T15:22:05+00:00\", \"filtered\": [\"plans\", \"take\", \"nearly\", \"%\", \"on\", \"asset\", \"in\", \"metaverse\", \"Metaverse\"], \"replyCount\": 1, \"retweetCount\": 3, \"likeCount\": 7, \"quoteCount\": 1, \"dateonly\": \"2022-04-13T00:00:00\"}, {\"score\": 0.4, \"date\": \"2022-04-13T15:20:43+00:00\", \"filtered\": [\"//t.co/xnq0ryk5jF\", \"4sale\", \"free\", \"\\ud83d\\udce8\", \"Domains\", \"BullMart\", \"BullsNation\", \"BAYC\", \"BlockChain\", \"https\"], \"replyCount\": 0, \"retweetCount\": 1, \"likeCount\": 3, \"quoteCount\": 1, \"dateonly\": \"2022-04-13T00:00:00\"}, {\"score\": -0.2, \"date\": \"2022-04-13T15:16:24+00:00\", \"filtered\": [\"I\", \"wan\", \"scare\", \"but\", \"you\", \"in\", \"terms\", \"the\", \"you\", \"\\u2019\", \"ll\", \"out\", \"there\", \"people\", \"on\", \"Some\", \"them\", \"are\", \"even\", \"stuff.\\ud83e\\udd2d\", \"ens\", \"Metaverse\", \"ETH\"], \"replyCount\": 5, \"retweetCount\": 1, \"likeCount\": 5, \"quoteCount\": 0, \"dateonly\": \"2022-04-13T00:00:00\"}, {\"score\": 0.3181818181818182, \"date\": \"2022-04-13T15:15:12+00:00\", \"filtered\": [\"on\", \"LIVE\", \"ZoltanPozsar\", \"again\", \"Meta\", \"Greedy\", \"CNN\", \"getting\", \"than\", \"viewers\", \"raises\", \"Basis\", \"Pegasus\", \"Deal\", \"PEGA\", \"that\", \"more\", \"12noon\", \"Click\", \"//t.co/MYIeJG3aro\", \"//t.co/odZDaclDFO\"], \"replyCount\": 0, \"retweetCount\": 2, \"likeCount\": 3, \"quoteCount\": 0, \"dateonly\": \"2022-04-13T00:00:00\"}, {\"score\": -0.3, \"date\": \"2022-04-13T15:07:27+00:00\", \"filtered\": [\"to\", \"a\", \"rude\", \"Web\", \"is\", \"to\", \"up\", \"FAAMG\", \"Adapt\", \"die\", \"and\", \"level\", \"field\", \"is\", \"the\", \"of\", \"https\"], \"replyCount\": 1, \"retweetCount\": 0, \"likeCount\": 3, \"quoteCount\": 0, \"dateonly\": \"2022-04-13T00:00:00\"}, {\"score\": 1.0, \"date\": \"2022-04-13T14:39:16+00:00\", \"filtered\": [\"content\", \"this\", \"w3\", \"nft\", \"excellent\", \"BoluAbiodun1\", \"//t.co/qylttgxEI2\"], \"replyCount\": 1, \"retweetCount\": 0, \"likeCount\": 5, \"quoteCount\": 0, \"dateonly\": \"2022-04-13T00:00:00\"}, {\"score\": 0.13636363636363635, \"date\": \"2022-04-13T14:36:08+00:00\", \"filtered\": [\"NEW\", \"\\ud83d\\ude0d\\ud83d\\ude80\\ud83d\\udea8LFG\", \"Mcap\\u2705\", \"ETH\", \"meta\", \"NFTGiveaway\", \"NFTCommunity\", \"JamesBrKing\", \"$\", \"SHIBTR\", \"shib\", \"0x076877073D287Ee8c10878B190d7166367899fdA\", \"//t.co/3seJDJ0KmL\"], \"replyCount\": 11, \"retweetCount\": 22, \"likeCount\": 36, \"quoteCount\": 5, \"dateonly\": \"2022-04-13T00:00:00\"}, {\"score\": 0.1, \"date\": \"2022-04-13T14:34:03+00:00\", \"filtered\": [\"week\", \"at\", \"Depressed\", \"here\", \"'s\", \"one\", \"our\", \"superheroes\", \"Mentelle\", \"a\", \"adventure\", \"the\", \"depression\", \"webcomic\", \"webcomics\", \"meta\", \"experimental\", \"Wednesday\", \"https\"], \"replyCount\": 0, \"retweetCount\": 0, \"likeCount\": 4, \"quoteCount\": 0, \"dateonly\": \"2022-04-13T00:00:00\"}, {\"score\": 0.14999999999999997, \"date\": \"2022-04-13T13:56:31+00:00\", \"filtered\": [\"welcome\", \"as\", \"newest\", \"to\", \"ArcadeNetwork\", \"a\", \"of\", \"markets\", \"Casual\", \"\\ud83c\\udfaf\", \"P2E\", \"gaming\", \"Metaverse\", \"Blockchain\", \"//t.co/Emoz9faSHg\"], \"replyCount\": 5, \"retweetCount\": 20, \"likeCount\": 46, \"quoteCount\": 2, \"dateonly\": \"2022-04-13T00:00:00\"}, {\"score\": 0.13636363636363635, \"date\": \"2022-04-13T13:47:19+00:00\", \"filtered\": [\"//t.co/Qj1xMij5Sb\", \"22,500\", \"Premium\", \"For\", \"Sedo\", \"VR\", \"AI\", \"BigData\", \"AR\", \"Domains\", \"NFT\", \"ML\", \"web3\", \"fintech\", \"LIVE\", \"Crypto\", \"DAO\", \"MetaverseNFT\", \"DAOs\", \"//t.co/MZ4lkCYt4m\"], \"replyCount\": 0, \"retweetCount\": 4, \"likeCount\": 10, \"quoteCount\": 0, \"dateonly\": \"2022-04-13T00:00:00\"}, {\"score\": 0.25, \"date\": \"2022-04-13T13:43:49+00:00\", \"filtered\": [\"Horizon\", \"to\", \"cut\", \"25\", \"of\", \"remaining\", \"will\", \"to\", \"Meta\", \"That\", \"more\", \"oft-criticized\", \"30\", \"%\", \"App\", \"Store\", \"and\", \"larger\", \"what\", \"traders\", \"accustomed\", \"Meta\", \"Oculus\", \"AppStore\", \"Apple\"], \"replyCount\": 2, \"retweetCount\": 0, \"likeCount\": 3, \"quoteCount\": 0, \"dateonly\": \"2022-04-13T00:00:00\"}, {\"score\": 0.2675, \"date\": \"2022-04-13T13:41:15+00:00\", \"filtered\": [\"'m\", \"a\", \"of\", \"dunking\", \"on\", \"Meta\", \"this\", \"high\", \"but\", \"ignoring\", \"Roblox\", \"is\", \"significantly\", \"https\"], \"replyCount\": 0, \"retweetCount\": 0, \"likeCount\": 4, \"quoteCount\": 0, \"dateonly\": \"2022-04-13T00:00:00\"}, {\"score\": 0.18939393939393936, \"date\": \"2022-04-13T13:35:22+00:00\", \"filtered\": [\"'s\", \"today\", \"surely\", \"as\", \"kick\", \"to\", \"who\", \"found\", \"in\", \"new\", \"spaces\", \"question\", \"will\", \"be\", \"the\", \"only\", \"left\", \"Meta\", \"digital\", \"creative\", \"Meta\", \"metaverse\"], \"replyCount\": 2, \"retweetCount\": 2, \"likeCount\": 12, \"quoteCount\": 0, \"dateonly\": \"2022-04-13T00:00:00\"}, {\"score\": -0.16666666666666666, \"date\": \"2022-04-13T13:29:41+00:00\", \"filtered\": [\"partner\", \"us\", \"sell\", \"virtual\", \"at\", \"We\", \"we\", \"n't\", \"half\", \"Meta\", \"to\", \"a\", \"50\", \"cut\", \"virtual\", \"sales\", \"its\", \"https\", \"NFT\", \"nftart\"], \"replyCount\": 2, \"retweetCount\": 3, \"likeCount\": 9, \"quoteCount\": 3, \"dateonly\": \"2022-04-13T00:00:00\"}, {\"score\": 0.55, \"date\": \"2022-04-13T13:27:07+00:00\", \"filtered\": [\"team\", \"happy\", \"Kar\", \"our\", \"I\", \"have\", \"known\", \"for\", \"time\", \"his\", \"combined\", \"mine\", \"are\", \"up\", \"something\", \"intriguing\", \"and\", \"insightful\", \"a\", \"to\", \"world\", \"of\", \"meta-universe.\\ud83e\\udd29\", \"//t.co/IK5AfPbRkR\"], \"replyCount\": 3, \"retweetCount\": 4, \"likeCount\": 21, \"quoteCount\": 0, \"dateonly\": \"2022-04-13T00:00:00\"}, {\"score\": 0.5, \"date\": \"2022-04-13T13:23:36+00:00\", \"filtered\": [\"story\", \"'Check\", \"SocialMedia\", \"is\", \"most\", \"Metaverse\", \"DataScience\", \"Analytics\", \"Tech\", \"TensorFlow\", \"Programming\", \"100DaysofCode\", \"\\u2026\", \"//t.co/9onRsCrLMm\", \"more\", \"//t.co/7OObO7yyOU\"], \"replyCount\": 0, \"retweetCount\": 8, \"likeCount\": 5, \"quoteCount\": 0, \"dateonly\": \"2022-04-13T00:00:00\"}, {\"score\": 0.175, \"date\": \"2022-04-13T13:19:00+00:00\", \"filtered\": [\"wants\", \"take\", \"%\", \"off\", \"sale\", \"digital\", \"on\", \"metaverse\", \"That\", \"s\", \"lot\", \"my\", \"because\", \"similar\", \"take\", \"%\", \"more\", \"understand\", \"https\", \"meta\", \"Metaverse\"], \"replyCount\": 0, \"retweetCount\": 0, \"likeCount\": 3, \"quoteCount\": 3, \"dateonly\": \"2022-04-13T00:00:00\"}, {\"score\": 0.35, \"date\": \"2022-04-13T13:15:48+00:00\", \"filtered\": [\"cool\", \"reveal\", \"side\", \"you\", \"choose\", \"\\ud83d\\udd25\\ud83d\\udd25\", \"us\", \"know\", \"in\", \"comments\", \"dont\", \"to\", \"that\", \"an\", \"button\", \"CWE\", \"P2E\", \"MetaverseNFT\", \"https\"], \"replyCount\": 10, \"retweetCount\": 11, \"likeCount\": 28, \"quoteCount\": 0, \"dateonly\": \"2022-04-13T00:00:00\"}, {\"score\": -0.2, \"date\": \"2022-04-13T13:08:41+00:00\", \"filtered\": [\"dominic_w\", \"an\", \"dead\", \"?\", \"rip\"], \"replyCount\": 0, \"retweetCount\": 0, \"likeCount\": 7, \"quoteCount\": 0, \"dateonly\": \"2022-04-13T00:00:00\"}, {\"score\": -0.5, \"date\": \"2022-04-13T12:58:14+00:00\", \"filtered\": [\"%\", \"Wtf\", \"?\", \"Zuck\", \"Meta\", \"the\", \"to\", \"and\", \"in\", \"https\"], \"replyCount\": 3, \"retweetCount\": 0, \"likeCount\": 4, \"quoteCount\": 0, \"dateonly\": \"2022-04-13T00:00:00\"}, {\"score\": 0.055, \"date\": \"2022-04-13T12:42:00+00:00\", \"filtered\": [\"of\", \"\\ud83d\\ude27\", \"virtual\", \"inside\", \"metaverse\", \"HorizonWorlds\", \"were\", \"by\", \"high\", \"a\", \"that\", \"long\", \"out\", \"Apple\", \"s\", \"%\", \"Store\", \"fees\", \"the\", \"\\u201c\", \"\\u201d\", \"is\", \"being\", \"around\"], \"replyCount\": 1, \"retweetCount\": 1, \"likeCount\": 3, \"quoteCount\": 0, \"dateonly\": \"2022-04-13T00:00:00\"}, {\"score\": 0.2857142857142857, \"date\": \"2022-04-13T12:36:25+00:00\", \"filtered\": [\"is\", \"virtual\", \"looks\", \"right\", \"virtualhuman\", \"NFT\", \"//t.co/sPFZKZvcQT\"], \"replyCount\": 6, \"retweetCount\": 103, \"likeCount\": 40, \"quoteCount\": 0, \"dateonly\": \"2022-04-13T00:00:00\"}, {\"score\": -0.16666666666666666, \"date\": \"2022-04-13T12:35:00+00:00\", \"filtered\": [\"do\", \"need\", \"Facebook\", \"NFTs\", \"to\", \"survive\", \"%\", \"Here\", \"half\", \"my\", \"pizza\", \"worked\", \"to\", \"meta\", \"nftart\"], \"replyCount\": 1, \"retweetCount\": 1, \"likeCount\": 4, \"quoteCount\": 0, \"dateonly\": \"2022-04-13T00:00:00\"}, {\"score\": 0.4, \"date\": \"2022-04-13T12:24:54+00:00\", \"filtered\": [\"great\", \"big\", \"gouging\", \"/\", \"developers\", \"this\", \"just\", \"facebook\", \"metaverse\", \"https\"], \"replyCount\": 2, \"retweetCount\": 2, \"likeCount\": 4, \"quoteCount\": 0, \"dateonly\": \"2022-04-13T00:00:00\"}, {\"score\": 0.13636363636363635, \"date\": \"2022-04-13T12:24:25+00:00\", \"filtered\": [\"New\", \"``\", \"META\", \"Make\", \"and\", \"Crypto\", \"Exchange\", \"''\", \"Spreaker\", \"exchance\", \"meta\", \"//t.co/6vv9vaNkIA\"], \"replyCount\": 1, \"retweetCount\": 2, \"likeCount\": 4, \"quoteCount\": 0, \"dateonly\": \"2022-04-13T00:00:00\"}, {\"score\": 0.8333333333333334, \"date\": \"2022-04-13T12:13:06+00:00\", \"filtered\": [\"Splendid\", \"Marvel026\", \"Call_Me_Baron\", \"NFTCommmunity\", \"NFTshill\", \"meta\"], \"replyCount\": 1, \"retweetCount\": 0, \"likeCount\": 6, \"quoteCount\": 0, \"dateonly\": \"2022-04-13T00:00:00\"}, {\"score\": 0.5, \"date\": \"2022-04-13T12:04:36+00:00\", \"filtered\": [\"will\", \"creators\", \"of\", \"%\", \"to\", \"sell\", \"wares\", \"its\", \"\\u2013\", \"more\", \"Apple\", \"developers\", \"its\", \"Store\", \"Metaverse\", \"crypto\", \"fb\", \"nfts\", \"//t.co/sDXpOk1TUw\"], \"replyCount\": 2, \"retweetCount\": 0, \"likeCount\": 5, \"quoteCount\": 1, \"dateonly\": \"2022-04-13T00:00:00\"}, {\"score\": 0.13636363636363635, \"date\": \"2022-04-13T12:02:02+00:00\", \"filtered\": [\"New\", \"On\", \"METASWAP\", \"META\", \"MetaSwap_\", \"Do\", \"HODL\", \"of\", \"?\", \"BKEX\", \"or\", \"//t.co/ycnNm7Cu3B\", \"know\", \"them\", \"link\", \"//t.co/6Nla92IuiH\", \"//t.co/lbCi6RpAiD\"], \"replyCount\": 21, \"retweetCount\": 3, \"likeCount\": 12, \"quoteCount\": 0, \"dateonly\": \"2022-04-13T00:00:00\"}, {\"score\": 0.8, \"date\": \"2022-04-13T12:00:19+00:00\", \"filtered\": [\"metaverse\", \"great\", \"\\u2014\", \"great\", \"https\", \"AIEthics\", \"AI\", \"DeepLearning\", \"100DaysOfCode\", \"insurtech\", \"bitcoin\", \"cybersecurite\", \"https\"], \"replyCount\": 0, \"retweetCount\": 5, \"likeCount\": 4, \"quoteCount\": 0, \"dateonly\": \"2022-04-13T00:00:00\"}, {\"score\": 0.1, \"date\": \"2022-04-13T11:49:31+00:00\", \"filtered\": [\"plans\", \"nearly\", \"%\", \"sales\", \"its\", \"Facebook-parent\", \"is\", \"to\", \"take\", \"a\", \"of\", \"to\", \"%\", \"the\", \"of\", \"assets\", \"on\", \"its\", \"reality\", \"Horizon\", \"https\", \"Meta\", \"NFT\"], \"replyCount\": 3, \"retweetCount\": 4, \"likeCount\": 17, \"quoteCount\": 2, \"dateonly\": \"2022-04-13T00:00:00\"}, {\"score\": 0.1, \"date\": \"2022-04-13T10:44:47+00:00\", \"filtered\": [\"plans\", \"take\", \"nearly\", \"on\", \"The\", \"%\", \"includes\", \"hardware\", \"fee\", \"30\", \"%\", \"for\", \"sales\", \"made\", \"the\", \"Quest\", \"where\", \"sells\", \"and\", \"for\", \"its\", \"virtual\", \"headsets\", \"FB\", \"CassiusCuvee\", \"//t.co/IezVFcxBmB\"], \"replyCount\": 4, \"retweetCount\": 1, \"likeCount\": 5, \"quoteCount\": 2, \"dateonly\": \"2022-04-13T00:00:00\"}, {\"score\": 0.4, \"date\": \"2022-04-13T10:22:52+00:00\", \"filtered\": [\"google\", \"meta\", \"tolerate\", \"hateful\", \"being\", \"spread\", \"their\", \"Bot\", \"are\", \"their\", \"freely\", \"'s\", \"about\", \"freedom\", \"'s\", \"of\", \"of\", \"democratic\", \"https\"], \"replyCount\": 0, \"retweetCount\": 2, \"likeCount\": 3, \"quoteCount\": 0, \"dateonly\": \"2022-04-13T00:00:00\"}, {\"score\": -0.8, \"date\": \"2022-04-13T10:21:19+00:00\", \"filtered\": [\"Profiting\", \"hate\", \"misinformation\", \"to\", \"hardwired\", \"META\", \"business\", \"This\", \"change\", \"freepress\", \"AttorneyNora\", \"our\", \"kcoyer\", \"in\", \"op-ed\", \"in\", \"'s\", \"https\", \"RussianPropaganda\", \"https\"], \"replyCount\": 0, \"retweetCount\": 5, \"likeCount\": 6, \"quoteCount\": 0, \"dateonly\": \"2022-04-13T00:00:00\"}, {\"score\": -0.1875, \"date\": \"2022-04-13T10:15:47+00:00\", \"filtered\": [\"the\", \"newcomers\", \"'s\", \"little\", \"of\", \"we\", \"chainlink\", \"with\", \"Loot\", \"Integrating\", \"VRF\", \"Help\", \"Verifiably\", \"Loot\", \"\\ud83d\\udcaa\", \"info\", \"https\", \"CWE\", \"P2E\", \"NFTCommunity\", \"Meta\"], \"replyCount\": 11, \"retweetCount\": 12, \"likeCount\": 26, \"quoteCount\": 1, \"dateonly\": \"2022-04-13T00:00:00\"}, {\"score\": -0.7999999999999999, \"date\": \"2022-04-13T10:15:01+00:00\", \"filtered\": [\"Facebook\", \"Meta\", \"any\", \"stupid\", \"%\", \"all\", \"sales\", \"What\", \"they\", \"?\", \"blockchain\", \"//t.co/RIdCbiTHae\"], \"replyCount\": 4, \"retweetCount\": 1, \"likeCount\": 6, \"quoteCount\": 0, \"dateonly\": \"2022-04-13T00:00:00\"}, {\"score\": 0.25, \"date\": \"2022-04-13T09:52:55+00:00\", \"filtered\": [\"it\", \"and\", \"open\", \"can\", \"be\", \"downloaded\", \"our\", \"and\", \"software\", \"If\", \"want\", \"stay\", \"top\", \"the\", \"news\", \"n't\", \"to\", \"our\", \"Telegram\\u2b07\\ufe0f\\u2b07\\ufe0f\", \"//t.co/RPIknL1okt\", \"P2E\", \"Meta\", \"NFTCommunity\", \"https\"], \"replyCount\": 18, \"retweetCount\": 14, \"likeCount\": 34, \"quoteCount\": 2, \"dateonly\": \"2022-04-13T00:00:00\"}, {\"score\": 0.32272727272727275, \"date\": \"2022-04-13T09:28:34+00:00\", \"filtered\": [\"more\", \"just\", \"fun\", \"The\", \"of\", \"technology\", \"players\", \"most\", \"emotions\", \"a\", \"new\", \"world\", \"many\", \"genres\", \"such\", \"Pop\", \"hop\", \"and\", \"EDM\", \"Musik\", \"Metaverse\", \"AR\", \"Viewtoearn\", \"Playtoearn\", \"//t.co/D5xpO5pcrY\"], \"replyCount\": 28, \"retweetCount\": 3, \"likeCount\": 28, \"quoteCount\": 0, \"dateonly\": \"2022-04-13T00:00:00\"}, {\"score\": 0.05000000000000002, \"date\": \"2022-04-13T09:18:06+00:00\", \"filtered\": [\"you\", \"late\", \"and\", \"important\", \"Send\", \"the\", \"stock\", \"0\", \"Meta\", \"NFT\", \"https\"], \"replyCount\": 1, \"retweetCount\": 0, \"likeCount\": 5, \"quoteCount\": 0, \"dateonly\": \"2022-04-13T00:00:00\"}, {\"score\": 0.26666666666666666, \"date\": \"2022-04-13T08:55:43+00:00\", \"filtered\": [\"NFT\", \"2\", \"and\", \"directly\", \"on\", \"social\", \"media\", \"platforms\", \"Making\", \"more\", \"to\", \"masses\", \"web3\", \"NFT\", \"SocialFi\", \"//t.co/UIC7nqUCla\"], \"replyCount\": 0, \"retweetCount\": 0, \"likeCount\": 3, \"quoteCount\": 0, \"dateonly\": \"2022-04-13T00:00:00\"}, {\"score\": 0.4166666666666667, \"date\": \"2022-04-13T08:54:07+00:00\", \"filtered\": [\"feels\", \"to\", \"fine\", \"into\", \"crypto\", \"bitcoin\", \"eth\", \"meta\", \"ethereum\", \"//t.co/s2dNbTAJMg\"], \"replyCount\": 3, \"retweetCount\": 0, \"likeCount\": 8, \"quoteCount\": 0, \"dateonly\": \"2022-04-13T00:00:00\"}, {\"score\": 0.25, \"date\": \"2022-04-13T08:52:09+00:00\", \"filtered\": [\"is\", \"to\", \"50\", \"NFT\", \"Funny\", \"looks\", \"the\", \"\\ud83e\\uddd0\", \"chose\", \"%\", \"fee\", \"\\ud83d\\udfea\", \"//t.co/wYqVbRlakV\", \"before\", \"listing\", \"can\", \"exactly\", \"you\", \"get\", \"to\", \"the\", \"creators\", \"and\", \"fees\", \"https\"], \"replyCount\": 1, \"retweetCount\": 9, \"likeCount\": 24, \"quoteCount\": 0, \"dateonly\": \"2022-04-13T00:00:00\"}, {\"score\": 0.13636363636363635, \"date\": \"2022-04-13T08:23:07+00:00\", \"filtered\": [\"new\", \"gaming\", \"kicks\", \"will\", \"the\", \"5\", \"\\ud83d\\ude80\\ud83d\\ude80\", \"our\", \"group\", \"and\", \"become\", \"winner\", \"communication\", \"token\", \"NFT\", \"challenge\", \"https\", \"//t.co/qcv8lEiR45\", \"https\"], \"replyCount\": 0, \"retweetCount\": 3, \"likeCount\": 7, \"quoteCount\": 1, \"dateonly\": \"2022-04-13T00:00:00\"}, {\"score\": 0.26666666666666666, \"date\": \"2022-04-13T08:19:33+00:00\", \"filtered\": [\"That\", \"what\", \"team\", \"MetaLifeSocial\", \"aiming\", \"It\", \"is\", \"SPOT\", \"Find\", \"more\", \"our\", \"coinmarketcap\", \"p2e\", \"socializetoearn\", \"crypto\", \"metaverse\", \"social\", \"community\", \"https\", \"//t.co/Nqzh0DgAFN\"], \"replyCount\": 2, \"retweetCount\": 1, \"likeCount\": 6, \"quoteCount\": 0, \"dateonly\": \"2022-04-13T00:00:00\"}, {\"score\": -0.4, \"date\": \"2022-04-13T07:58:18+00:00\", \"filtered\": [\"24\", \"roulette\", \"in\", \"//t.co/C2EiZJuLkV\", \"my\", \"luck\", \"here\", \"NFTs\", \"NFTGiveaway\", \"nftart\", \"trippies\", \"TrippiesIsland\", \"game\", \"Meta\", \"NFT\\u5ba3\\u4f1d\\u67a0\", \"https\"], \"replyCount\": 1, \"retweetCount\": 4, \"likeCount\": 13, \"quoteCount\": 2, \"dateonly\": \"2022-04-13T00:00:00\"}, {\"score\": 0.25, \"date\": \"2022-04-13T07:54:17+00:00\", \"filtered\": [\"Meta\", \"Network\", \"\\ud83d\\udc8e\", \"Meta\", \"is\", \"of\", \"OnePad\", \"\\u2019\", \"s\", \"core\", \"and\", \"of\", \"first\", \"Networks\", \"on\", \"\\ud83c\\udf1f\", \"expect\", \"change\", \"advertising\", \"and\", \"users\", \"a\", \"yet\", \"solution\", \"their\", \"revenue\", \"//t.co/O01ind0OcP\"], \"replyCount\": 2, \"retweetCount\": 2, \"likeCount\": 116, \"quoteCount\": 0, \"dateonly\": \"2022-04-13T00:00:00\"}, {\"score\": -0.3, \"date\": \"2022-04-13T07:54:03+00:00\", \"filtered\": [\"joke\", \"mental\", \"sometimes\", \"go\", \"for\", \"feels\", \"times\", \"we\", \"go\", \"depression\", \"webcomic\", \"Superheroes\", \"comics\", \"weird\", \"wednesdaythought\", \"Wednesdayvibe\", \"//t.co/3J7H1IEXnk\"], \"replyCount\": 0, \"retweetCount\": 1, \"likeCount\": 6, \"quoteCount\": 0, \"dateonly\": \"2022-04-13T00:00:00\"}, {\"score\": 0.13636363636363635, \"date\": \"2022-04-13T07:40:18+00:00\", \"filtered\": [\"about\", \"Title\\uff1aMeta\", \"New\", \"%\", \"on\", \"Items\", \"NFT\", \"Pissed\", \"CNET\", \"//t.co/0jDUAWPu0W\", \"meta\", \"BTC\"], \"replyCount\": 44, \"retweetCount\": 11, \"likeCount\": 38, \"quoteCount\": 3, \"dateonly\": \"2022-04-13T00:00:00\"}, {\"score\": 0.25, \"date\": \"2022-04-13T07:26:04+00:00\", \"filtered\": [\"\\ud83d\\udd38Meta\", \"charge\", \"creators\", \"50\", \"to\", \"VR\", \")\", \"to\", \"'s\", \"of\", \"Horizon\", \"Vivek\", \"this\", \"a\", \"pretty\", \"rate\", \"in\", \"the\", \"''\", \"Meta\", \"Metaverse\"], \"replyCount\": 1, \"retweetCount\": 3, \"likeCount\": 7, \"quoteCount\": 0, \"dateonly\": \"2022-04-13T00:00:00\"}, {\"score\": 0.6, \"date\": \"2022-04-13T06:55:58+00:00\", \"filtered\": [\"Meta\", \"FrRonconi\", \"labordeolivier\", \"Shi4Tech\", \"mvollmer1\", \"JeroenBartelse\", \"CurieuxExplorer\", \"WSWMUC\", \"I\", \"\\u2019\", \"think\", \"\\ud83c\\udfa5\", \"good\", \"a\", \"of\", \"sort\", \"of\", \"diverse\", \"experiences\", \"us\", \"My\", \"Antarctica\\ud83c\\udde6\\ud83c\\uddf6\", \"\\ud83d\\udea3\\u200d\\u2640\\ufe0f\", \"exp\\ud83d\\udc27via\", \"gives\", \"a\", \"better\", \"of\", \"the\", \"possibilities\", \"https\"], \"replyCount\": 0, \"retweetCount\": 3, \"likeCount\": 5, \"quoteCount\": 0, \"dateonly\": \"2022-04-13T00:00:00\"}, {\"score\": 0.3, \"date\": \"2022-04-13T06:45:45+00:00\", \"filtered\": [\"we\", \"some\", \"news\", \"Epic\", \"has\", \"RealityScan\", \"AR\", \"for\", \"3d\", \"using\", \"smartphone\", \"more\", \"our\", \"\\u263a\\ufe0f\", \"//t.co/AWyPv5Lv5a\", \"https\"], \"replyCount\": 1, \"retweetCount\": 5, \"likeCount\": 20, \"quoteCount\": 0, \"dateonly\": \"2022-04-13T00:00:00\"}, {\"score\": 0.13636363636363635, \"date\": \"2022-04-13T06:34:40+00:00\", \"filtered\": [\"New\", \"|\", \"\\ud83d\\udd36\", \"will\", \"METASWAP\", \"META\", \"/USDT\\ud83d\\ude80\\ud83d\\ude80\", \"type\", \"\\ud83d\\udd38Deposit\", \"\\ud83d\\udd38Trade\", \"on\", \"13\", \"UTC+8\", \"\\ud83d\\udd38Withdrawal\", \"on\", \"14\", \"UTC+8\", \"\\ud83d\\udd36Details\", \"//t.co/kYUgTF7In0\", \"Blockchain\", \"BKEXNewListing\", \"//t.co/L57qY8KxuU\"], \"replyCount\": 7, \"retweetCount\": 1, \"likeCount\": 6, \"quoteCount\": 1, \"dateonly\": \"2022-04-13T00:00:00\"}, {\"score\": -0.6, \"date\": \"2022-04-13T06:26:06+00:00\", \"filtered\": [\"in\", \"Desert\", \"It\", \"must\", \"\\ud83d\\ude0d\", \"wonder\", \"you\", \"be\", \"to\", \"the\", \"cold\", \"in\", \"?\", \"NFT\", \"nftart\", \"RealEstate\", \"//t.co/b6fki2p4aO\"], \"replyCount\": 1, \"retweetCount\": 1, \"likeCount\": 10, \"quoteCount\": 1, \"dateonly\": \"2022-04-13T00:00:00\"}, {\"score\": 0.6, \"date\": \"2022-04-13T05:59:10+00:00\", \"filtered\": [\"Deluxe\", \"Sold\", \"0.64\\u039e\", \"//t.co/hClLmoLQ07\", \"NFTs\", \"Meta\", \"digitalillustration\", \"//t.co/G4KluVaNgJ\"], \"replyCount\": 0, \"retweetCount\": 0, \"likeCount\": 4, \"quoteCount\": 1, \"dateonly\": \"2022-04-13T00:00:00\"}, {\"score\": -0.4, \"date\": \"2022-04-13T05:38:54+00:00\", \"filtered\": [\"16\", \"asking\", \"out\", \"e-meet\", \"If\", \"living\", \"let\", \"\\u2019\", \"the\", \"who\", \"it\", \"\\u2019\", \"s\", \"create\", \"a\", \"real-life\", \"game\", \"nfts\", \"nftcollector\", \"nftproject\", \"nftcommunity\", \"Elonmusk\"], \"replyCount\": 0, \"retweetCount\": 0, \"likeCount\": 3, \"quoteCount\": 6, \"dateonly\": \"2022-04-13T00:00:00\"}, {\"score\": -0.16666666666666666, \"date\": \"2022-04-13T05:31:10+00:00\", \"filtered\": [\"take\", \"your\", \"you\", \"the\", \"half\", \"https\"], \"replyCount\": 1, \"retweetCount\": 1, \"likeCount\": 3, \"quoteCount\": 0, \"dateonly\": \"2022-04-13T00:00:00\"}, {\"score\": 0.13636363636363635, \"date\": \"2022-04-13T05:30:13+00:00\", \"filtered\": [\"launches\", \"new\", \"funding\", \"to\", \"of\", \"the\", \"Metaverse\", \"Metaverse\"], \"replyCount\": 1, \"retweetCount\": 3, \"likeCount\": 6, \"quoteCount\": 0, \"dateonly\": \"2022-04-13T00:00:00\"}, {\"score\": 0.16, \"date\": \"2022-04-13T04:56:49+00:00\", \"filtered\": [\"SOON\", \"will\", \"airdrops\", \"to\", \"board\", \"users\", \"board\", \"node\", \"airdrop\", \"will\", \"launched\", \"after\", \"so\", \"tuned\", \"Participate\", \"Meta\", \"and\", \"high\", \"\\ud83d\\udcb0\\ud83d\\udcb0\", \"MT\"], \"replyCount\": 2, \"retweetCount\": 21, \"likeCount\": 24, \"quoteCount\": 0, \"dateonly\": \"2022-04-13T00:00:00\"}, {\"score\": 0.2, \"date\": \"2022-04-13T03:30:33+00:00\", \"filtered\": [\"will\", \"tasty\", \"in\", \"a\", \"modern\", \")\", \"you\", \"Metacat007\", \"the\", \"and\", \"https\", \"metagallery20\", \"cryptogallery\", \"cryptovoxelsgallery\", \"Ilwheel\", \"MetaverseNFT\", \"https\"], \"replyCount\": 0, \"retweetCount\": 1, \"likeCount\": 7, \"quoteCount\": 0, \"dateonly\": \"2022-04-13T00:00:00\"}, {\"score\": 0.5, \"date\": \"2022-04-13T03:12:35+00:00\", \"filtered\": [\"more\", \"\\ud83e\\udd21\", \"https\"], \"replyCount\": 5, \"retweetCount\": 2, \"likeCount\": 30, \"quoteCount\": 1, \"dateonly\": \"2022-04-13T00:00:00\"}, {\"score\": 0.26666666666666666, \"date\": \"2022-04-13T03:04:32+00:00\", \"filtered\": [\"In\", \"Day\", \"Today\", \"are\", \"Metaverse\", \"future\", \"great\", \"for\", \"parallel\", \"Health\", \"sector\", \"be\", \"benefited\", \"the\", \"of\", \"health\", \"shardeum\", \"shardeumtimes\", \"https\"], \"replyCount\": 4, \"retweetCount\": 3, \"likeCount\": 14, \"quoteCount\": 0, \"dateonly\": \"2022-04-13T00:00:00\"}, {\"score\": 0.3361111111111111, \"date\": \"2022-04-13T02:36:46+00:00\", \"filtered\": [\"match\", \"Cycle\", \"-\", \"2\", \"Quick\", \"Win\", \"Team\", \"of\", \"min\", \"39\", \"You\", \"not\", \"to\", \"this\", \"of\", \"from\", \"other\", \"HyperDashVR\", \"esports\", \"Meta\", \"vr_sports_havoc\", \"https\"], \"replyCount\": 3, \"retweetCount\": 6, \"likeCount\": 11, \"quoteCount\": 0, \"dateonly\": \"2022-04-13T00:00:00\"}, {\"score\": 0.16666666666666666, \"date\": \"2022-04-13T02:15:22+00:00\", \"filtered\": [\"platform\", \"currently\", \"a\", \"test\", \"its\", \"\\u0430\\u0455\\u0435t\", \"tool\", \"reality\", \"VR\", \"platform\", \"World\", \"is\", \"key\", \"the\", \"of\", \"the\", \"more\", \"//t.co/GmP59HA9Db\", \"facebook\", \"metaverse\"], \"replyCount\": 3, \"retweetCount\": 15, \"likeCount\": 15, \"quoteCount\": 0, \"dateonly\": \"2022-04-13T00:00:00\"}, {\"score\": 0.05, \"date\": \"2022-04-13T01:28:57+00:00\", \"filtered\": [\"charge\", \"fees\", \"up\", \"47.5\", \"virtual\", \"in\", \"metaverse\", \"Much\", \"than\", \"expected\", \"to\", \"be\", \"NFT\", \"Meta\", \"MarkZuckerberg\", \"https\", \"//t.co/QNCEdulp5U\"], \"replyCount\": 12, \"retweetCount\": 12, \"likeCount\": 12, \"quoteCount\": 1, \"dateonly\": \"2022-04-13T00:00:00\"}, {\"score\": 0.13636363636363635, \"date\": \"2022-04-13T00:52:12+00:00\", \"filtered\": [\"NEW\", \"\\ud83d\\ude0d\\ud83d\\ude80\\ud83d\\udea8LFG\", \"Mcap\\u2705\", \"ETH\", \"meta\", \"NFTGiveaway\", \"NFTCommunity\", \"JamesBrKing\", \"$\", \"SHIBTR\", \"Erc20\", \"https\"], \"replyCount\": 4, \"retweetCount\": 14, \"likeCount\": 28, \"quoteCount\": 0, \"dateonly\": \"2022-04-13T00:00:00\"}, {\"score\": 0.25, \"date\": \"2022-04-13T00:44:50+00:00\", \"filtered\": [\"Meta\", \"basically\", \"pretending\", \"do\", \"but\", \"tricks\", \"amp\", \"fees\", \"led\", \"of\", \"in\", \"the\", \"first\", \"..\", \"will\", \"motivate\", \"with\", \"rates\", \"\\ud83e\\uddd0\", \"example\", \"Libra\", \"they\", \"a\", \"of\", \"of\", \"the\", \"environment\"], \"replyCount\": 1, \"retweetCount\": 1, \"likeCount\": 15, \"quoteCount\": 0, \"dateonly\": \"2022-04-13T00:00:00\"}, {\"score\": 0.5, \"date\": \"2022-04-13T00:35:35+00:00\", \"filtered\": [\"with\", \"on\", \"beach\", \"MiamiNFTWeek\", \"Metaverse\", \"love\", \"https\"], \"replyCount\": 4, \"retweetCount\": 1, \"likeCount\": 16, \"quoteCount\": 0, \"dateonly\": \"2022-04-13T00:00:00\"}, {\"score\": 0.05, \"date\": \"2022-04-13T00:29:46+00:00\", \"filtered\": [\"funny\", \"that\", \"\\u2019\", \"too\", \"off\", \"usual\", \"\\u2019\", \"I\", \"\\u2019\", \"ve\", \"zero\", \"and\", \"zero\", \"gas\", \"Please\", \"into\", \"future\", \"us\", \"it\", \"very\", \"\\ud83e\\udd13\\ud83e\\udd78\", \"crypto\", \"freegas\", \"gasprices\", \"soon_labs\", \"iota\", \"meta\", \"https\"], \"replyCount\": 0, \"retweetCount\": 2, \"likeCount\": 8, \"quoteCount\": 0, \"dateonly\": \"2022-04-13T00:00:00\"}, {\"score\": 0.5, \"date\": \"2022-04-13T00:27:01+00:00\", \"filtered\": [\"are\", \"opinions\", \"the\", \"and\", \"are\", \"most\", \"for\", \"\\ud83e\\udd11\", \"NFTGiveaway\", \"Metaverse\", \"cryptocurrency\"], \"replyCount\": 0, \"retweetCount\": 0, \"likeCount\": 4, \"quoteCount\": 0, \"dateonly\": \"2022-04-13T00:00:00\"}, {\"score\": -0.4, \"date\": \"2022-04-12T22:52:02+00:00\", \"filtered\": [\"Auggie\", \"year\", \"think\", \"deserve\", \"all\", \"do\", \"is\", \"log\", \"to\", \"website\", \"vote\", \"for\", \"us\", \"``\", \"Game\", \"Toy\", \"And\", \"if\", \"you\", \"have\", \"n't\", \"yet\", \"us\", \"VR\", \"Auggie\", \"Quest\", \"IndieGames\", \"https\", \"//t.co/ocZ84dLlNH\"], \"replyCount\": 2, \"retweetCount\": 4, \"likeCount\": 14, \"quoteCount\": 0, \"dateonly\": \"2022-04-12T00:00:00\"}, {\"score\": 0.10000000000000002, \"date\": \"2022-04-12T22:03:45+00:00\", \"filtered\": [\"big\", \"wants\", \"charge\", \"47.5\", \"creator\", \"Meta\", \"early\", \"to\", \"say\", \"Metaverse\", \"now\", \"rekt\", \"stayrekt\", \"Zuckerberg\", \"https\"], \"replyCount\": 3, \"retweetCount\": 2, \"likeCount\": 4, \"quoteCount\": 3, \"dateonly\": \"2022-04-12T00:00:00\"}, {\"score\": -0.4, \"date\": \"2022-04-12T22:01:22+00:00\", \"filtered\": [\"are\", \"remainders\", \"of\", \"skills\", \"be\", \"as\", \"the\", \"MetaxyMXY\", \"game\", \"about\", \"be\", \"1\", \"Ape\", \"2\", \"aura\", \"3\", \"Mode\", \"Get\", \"info\", \"//t.co/tl7EJwrVb9\", \"DeFi\", \"meta\", \"metaxy\", \"//t.co/bzfuJSV3EP\"], \"replyCount\": 1, \"retweetCount\": 0, \"likeCount\": 26, \"quoteCount\": 0, \"dateonly\": \"2022-04-12T00:00:00\"}, {\"score\": 0.13636363636363635, \"date\": \"2022-04-12T20:40:55+00:00\", \"filtered\": [\"you\", \"find\", \"new\", \"website\", \"you\", \"find\", \"web-based\", \"of\", \"\\ud83d\\ude0d\", \"makes\", \"playable\", \"on\", \"Windows\", \"Android\", \"your\", \"\\ud83d\\udd25\\ud83d\\udd25\", \"Gamefi\", \"Metaverse\", \"NFTCommmunity\", \"https\"], \"replyCount\": 9, \"retweetCount\": 15, \"likeCount\": 32, \"quoteCount\": 0, \"dateonly\": \"2022-04-12T00:00:00\"}, {\"score\": -0.1875, \"date\": \"2022-04-12T20:27:42+00:00\", \"filtered\": [\"statistics\", \"a\", \"of\", \"billion\", \"companies\", \"mint\", \"ensdomains\", \"impressions\", \"retweet\", \"likes\", \"to\", \"off\", \"follows\", \"impressions\", \"retweets\", \"likes\", \"\\u2019\", \"e\", \"a\", \"little\", \"ensdomain\", \"web3\", \"meta\"], \"replyCount\": 1, \"retweetCount\": 0, \"likeCount\": 16, \"quoteCount\": 0, \"dateonly\": \"2022-04-12T00:00:00\"}, {\"score\": 0.5, \"date\": \"2022-04-12T20:17:59+00:00\", \"filtered\": [\"another\", \"example\", \"ingenious\", \"and\", \"on\", \"twitter\", \"/\", \"Thx\", \"the\", \"PLNKAZ\", \"ensdomains\", \"web3\", \"Meta\", \"Ethereum\", \"//t.co/WPg5FPMavQ\"], \"replyCount\": 3, \"retweetCount\": 0, \"likeCount\": 9, \"quoteCount\": 0, \"dateonly\": \"2022-04-12T00:00:00\"}, {\"score\": 0.03333333333333333, \"date\": \"2022-04-12T19:47:49+00:00\", \"filtered\": [\"need\", \"because\", \"war\", \"Reminder\", \"how\", \"do\", \"how\", \"get\", \"of\", \";\", \"help\", \"else\", \"override\", \"shadowbanning\", \"social\", \"platforms\", \"Instagram\", \"Meta\", \"Instagram\", \"TikTok\", \"ShadowBan\", \"https\"], \"replyCount\": 1, \"retweetCount\": 2, \"likeCount\": 4, \"quoteCount\": 0, \"dateonly\": \"2022-04-12T00:00:00\"}, {\"score\": 0.25, \"date\": \"2022-04-12T19:42:27+00:00\", \"filtered\": [\"community\", \"would\", \"to\", \"before\", \"mint\", \"MonkeyKingdom_\", \"the\", \"belongs\", \"every\", \"Interested\", \"Or\", \"n't\", \"you\", \"know\", \"i\", \"talking\", \"?\", \"you\", \"read\", \"this\", \"NFT\", \"ETH\", \"opensea\", \"Meta\"], \"replyCount\": 11, \"retweetCount\": 17, \"likeCount\": 44, \"quoteCount\": 2, \"dateonly\": \"2022-04-12T00:00:00\"}, {\"score\": 0.5, \"date\": \"2022-04-12T19:40:14+00:00\", \"filtered\": [\"has\", \"STARS\", \"meta\", \"FB\", \"$\", \"more\", \"$\", \"$\", \"ElonMusk\", \"https\"], \"replyCount\": 0, \"retweetCount\": 1, \"likeCount\": 4, \"quoteCount\": 0, \"dateonly\": \"2022-04-12T00:00:00\"}, {\"score\": 0.16818181818181818, \"date\": \"2022-04-12T19:21:32+00:00\", \"filtered\": [\"today\", \"created\", \"new\", \"Collection\", \"number\", \"ready\", \"Metaverse\", \"Follow\", \"evolution\", \"development\", \"David\", \"Proofs\", \"of\", \"creation\", \"NFTCollection\", \"NFTs\", \"Meta\", \"rarible\", \"https\", \"//t.co/JXhYVUSAKk\"], \"replyCount\": 0, \"retweetCount\": 1, \"likeCount\": 6, \"quoteCount\": 1, \"dateonly\": \"2022-04-12T00:00:00\"}, {\"score\": 0.3, \"date\": \"2022-04-12T18:45:19+00:00\", \"filtered\": [\"you\", \"BUT\", \"this\", \"Follow\", \"for\", \"color\", \"your\", \"life\", \"\\u2665\\ufe0f\", \"nfts\", \"nftartist\", \"nftcollectors\", \"nftdrops\", \"nftgiveaway\", \"metamorphmoses\", \"ethnft\", \"rare\", \"//t.co/8PUvWMiTeJ\"], \"replyCount\": 3, \"retweetCount\": 0, \"likeCount\": 6, \"quoteCount\": 6, \"dateonly\": \"2022-04-12T00:00:00\"}, {\"score\": 0.5, \"date\": \"2022-04-12T18:00:02+00:00\", \"filtered\": [\"land\", \"\\u2019\", \"sure\", \"dazzle\\ud83d\\udcab\", \"the\", \"is\", \"hassle\\u2728\", \"now\", \"//t.co/Lj3u7AfgPw\", \"VR\", \"Meta\", \"VirtualReality\", \"IndieDevs\", \"miketeevee\", \"VRPuzzle\", \"//t.co/wK4tbgHhiB\"], \"replyCount\": 0, \"retweetCount\": 4, \"likeCount\": 7, \"quoteCount\": 0, \"dateonly\": \"2022-04-12T00:00:00\"}, {\"score\": 0.5, \"date\": \"2022-04-12T17:56:05+00:00\", \"filtered\": [\"\\u2019\", \"love\", \"share\", \"story\", \"a\", \"Latino\", \"honor\", \"student\", \"this\", \"from\", \"trying\", \"get\", \"a\", \"media\", \"at\", \"influencer\", \"interviewme\", \"college\", \"viral\", \"sacramentostate\", \"facebook\", \"https\"], \"replyCount\": 6, \"retweetCount\": 3, \"likeCount\": 8, \"quoteCount\": 0, \"dateonly\": \"2022-04-12T00:00:00\"}, {\"score\": 0.35, \"date\": \"2022-04-12T17:31:16+00:00\", \"filtered\": [\"Meta\", \"System\", \"\\ud83d\\udcfb\", \"\\ud83d\\udc47\", \"//t.co/aL8ObMMs5C\", \"Full\", \"controls\", \"Supply\", \"149\", \"150\", \"Verse\", \"//t.co/eZ6baLdhYO\", \"purchasing\", \"one\", \"click\", \"can\", \"on\", \"your\", \"land\", \"delegate\", \"to\", \"land\"], \"replyCount\": 0, \"retweetCount\": 0, \"likeCount\": 6, \"quoteCount\": 0, \"dateonly\": \"2022-04-12T00:00:00\"}, {\"score\": 0.5, \"date\": \"2022-04-12T17:30:32+00:00\", \"filtered\": [\"NFT\", \"DROPS\", \"THE\", \"\\ud83d\\ude81\\ud83d\\ude80\\ud83d\\udcfb\", \"name\", \"DCL\", \"\\ud83d\\udc47\", \"//t.co/ecdWNsxBwf\", \"Revenue\", \"many\", \"options\", \"more\", \"Supply\", \"24\", \"25\", \"Verse\", \"//t.co/eZ6baLdhYO\", \"metas\", \"NFTs\\u26a0\\ufe0f\", \"//t.co/k1Lr6WIAlr\"], \"replyCount\": 1, \"retweetCount\": 5, \"likeCount\": 17, \"quoteCount\": 2, \"dateonly\": \"2022-04-12T00:00:00\"}, {\"score\": 0.3333333333333333, \"date\": \"2022-04-12T17:00:05+00:00\", \"filtered\": [\"\\u2019\", \"super\", \"to\", \"our\", \"WL\", \"\\ud83d\\ude80\\ud83d\\ude80\", \"Giveaway\", \"Rules\", \"1\\u20e3\", \"LaputaNFTs\", \"Like\", \"amp\", \"RT\\ud83d\\udd01\", \"Tag\", \"friends\", \"Join\", \"https\", \"\\u23f0\\uff1a7\", \"NFTgiveaways\", \"picknava\", \"NFT\", \"Airdrop\", \"https\"], \"replyCount\": 51, \"retweetCount\": 136, \"likeCount\": 846, \"quoteCount\": 9, \"dateonly\": \"2022-04-12T00:00:00\"}, {\"score\": 0.1875, \"date\": \"2022-04-12T16:23:03+00:00\", \"filtered\": [\"tools\", \"be\", \"initially\", \"select\", \"of\", \"company\", \"immersive\", \"accessible\", \"VR\", \"and\", \"them\", \"sell\", \"accessories\", \"to\", \"testing\", \"tools\", \"its\", \"https\", \"https\"], \"replyCount\": 2, \"retweetCount\": 4, \"likeCount\": 4, \"quoteCount\": 0, \"dateonly\": \"2022-04-12T00:00:00\"}, {\"score\": 0.4, \"date\": \"2022-04-12T14:41:41+00:00\", \"filtered\": [\"series\", \"available\", \"on\", \"NFTCommunity\", \"nftart\", \"Ethereum\", \"Meta\", \"ADA\", \"https\", \"//t.co/UH5PA99jct\"], \"replyCount\": 1, \"retweetCount\": 2, \"likeCount\": 5, \"quoteCount\": 0, \"dateonly\": \"2022-04-12T00:00:00\"}, {\"score\": -0.4, \"date\": \"2022-04-12T14:39:22+00:00\", \"filtered\": [\"Website\", \"//t.co/ipdBtaKzui\", \"https\", \"Lottery\", \"https\", \"//t.co/VcVERciMb3\", \"https\", \"(\", \"Coming\", \"Soon\", \")\", \"bsc\", \"lottery\", \"meta\", \"game\", \"https\"], \"replyCount\": 1, \"retweetCount\": 0, \"likeCount\": 34, \"quoteCount\": 0, \"dateonly\": \"2022-04-12T00:00:00\"}, {\"score\": -0.4, \"date\": \"2022-04-12T14:25:55+00:00\", \"filtered\": [\"meta\", \"the\", \"Worlds\", \"In\", \"blog\", \"Meta\", \"the\", \"that\", \"has\", \"begun\", \"testing\", \"features\", \"the\", \"Metaverse\", \"company\", \"that\", \"will\", \"10\", \"$\", \"game\", \"nft\", \"cryptocurrecy\", \"//t.co/FEVHQba67k\"], \"replyCount\": 3, \"retweetCount\": 0, \"likeCount\": 6, \"quoteCount\": 3, \"dateonly\": \"2022-04-12T00:00:00\"}, {\"score\": 0.25, \"date\": \"2022-04-12T14:07:42+00:00\", \"filtered\": [\"Pasulka\", \"to\", \"in\", \"book\", \"lectures\", \"is\", \"meta-researcher\", \"is\", \"a\", \"level\", \"consistently\", \"my\", \"Thank\", \"for\", \"of\", \"work\", \"ufotwitter\", \"Meta\", \"//t.co/TLLylHbGYY\"], \"replyCount\": 0, \"retweetCount\": 2, \"likeCount\": 23, \"quoteCount\": 0, \"dateonly\": \"2022-04-12T00:00:00\"}, {\"score\": 0.3055555555555555, \"date\": \"2022-04-12T13:48:48+00:00\", \"filtered\": [\"has\", \"monetizing\", \"(\", \")\", \"let\", \"creators\", \"virtual\", \"to\", \"in\", \"main\", \"Horizon\", \"\\ud83e\\uddd0This\", \"help\", \"purchase\", \"goods\", \"and\", \"unique\", \"\\ud83d\\ude0eAre\", \"excited\", \"the\", \"Metaverse\", \"?\", \"//t.co/oX9r3AnBF0\"], \"replyCount\": 2, \"retweetCount\": 4, \"likeCount\": 13, \"quoteCount\": 0, \"dateonly\": \"2022-04-12T00:00:00\"}, {\"score\": 0.25, \"date\": \"2022-04-12T13:32:57+00:00\", \"filtered\": [\"$\", \"about\", \"break\", \"of\", \"daily\", \"it\", \"s\", \"forming\", \"\\ud83e\\udd14\", \"sure\", \"so\", \"everything\", \"have\", \"on\", \"could\", \"of\", \"the\", \"$\", \"moon\", \"100xgem\", \"1000xgem\", \"$\", \"crypto\", \"META\", \"https\"], \"replyCount\": 3, \"retweetCount\": 5, \"likeCount\": 13, \"quoteCount\": 0, \"dateonly\": \"2022-04-12T00:00:00\"}, {\"score\": 0.18095238095238092, \"date\": \"2022-04-12T13:27:29+00:00\", \"filtered\": [\"If\", \"sold\", \"single\", \"CWE\", \"the\", \"that\", \"have\", \"strong\", \"\\u203c\\ufe0f\", \"CWE\", \"NFT\", \"Meta\", \"P2E\", \"//t.co/FZemQBbVXj\"], \"replyCount\": 10, \"retweetCount\": 17, \"likeCount\": 28, \"quoteCount\": 0, \"dateonly\": \"2022-04-12T00:00:00\"}, {\"score\": -0.1, \"date\": \"2022-04-12T13:22:33+00:00\", \"filtered\": [\"spent\", \"26.8\", \"on\", \"Mark\", \"security.\", \"meta\", \"https\"], \"replyCount\": 2, \"retweetCount\": 2, \"likeCount\": 5, \"quoteCount\": 1, \"dateonly\": \"2022-04-12T00:00:00\"}, {\"score\": 0.35, \"date\": \"2022-04-12T13:00:02+00:00\", \"filtered\": [\"Virtuoso\", \"blessed\", \"with\", \"ORIGINALSONG\", \"including\", \")\", \"after\", \"our\", \"\\ud83d\\ude0d\\u2728\\ud83c\\udfb6\", \"to\", \"full\", \"here\", \"//t.co/KmehAwkLS3\", \"made\", \"Virtuosovr\", \"not\", \"that\", \"away\", \"\\ud83d\\ude0e\\ud83d\\udcaa\\u2728\", \"music\", \"song\", \"https\"], \"replyCount\": 0, \"retweetCount\": 0, \"likeCount\": 6, \"quoteCount\": 0, \"dateonly\": \"2022-04-12T00:00:00\"}, {\"score\": 0.2, \"date\": \"2022-04-12T12:57:07+00:00\", \"filtered\": [\"'ve\", \"earned\", \"Reuters\", \"Thanks\", \"Reuters\", \"Journalism\", \"Project\", \"this\", \"informative\", \"Reuters\", \"Meta\", \"MetaJournalismProject\", \"//t.co/JDaBolgmBS\"], \"replyCount\": 0, \"retweetCount\": 0, \"likeCount\": 3, \"quoteCount\": 0, \"dateonly\": \"2022-04-12T00:00:00\"}, {\"score\": 0.6, \"date\": \"2022-04-12T12:45:19+00:00\", \"filtered\": [\"is\", \"kind\", \"virtual\", \"With\", \"technology\", \"can\", \"the\", \"world\", \"virtual\", \"According\", \"you\", \"is\", \"?\", \"?\", \"?\", \"Metaverse\", \"technology\", \"VR\", \"3dworld\", \"//t.co/MXQO6Aoqyw\"], \"replyCount\": 2, \"retweetCount\": 2, \"likeCount\": 8, \"quoteCount\": 1, \"dateonly\": \"2022-04-12T00:00:00\"}, {\"score\": -0.008333333333333333, \"date\": \"2022-04-12T12:25:23+00:00\", \"filtered\": [\"pre-market\", \"\\ud83d\\udccaUS\", \"to\", \"investors\", \"key\", \"report\", \"Meta\", \"focus\", \"Metaverse\", \"plans\", \"European\", \"ended\", \"flat\", \"to\", \"\\u26a1\\ufe0fRising\", \"yields\", \"inflation\", \"to\", \"investors\"], \"replyCount\": 1, \"retweetCount\": 2, \"likeCount\": 6, \"quoteCount\": 0, \"dateonly\": \"2022-04-12T00:00:00\"}, {\"score\": 0.2681818181818182, \"date\": \"2022-04-12T12:17:34+00:00\", \"filtered\": [\"The\", \"episode\", \"the\", \"natalieeminae\", \"live\", \"https\", \"In\", \"video\", \"managed\", \"fit\", \"a\", \"of\", \"from\", \"instagram\", \"linkedin\", \"and\", \"in\", \"than\", \"hour\"], \"replyCount\": 1, \"retweetCount\": 1, \"likeCount\": 3, \"quoteCount\": 0, \"dateonly\": \"2022-04-12T00:00:00\"}, {\"score\": 0.6, \"date\": \"2022-04-12T12:00:31+00:00\", \"filtered\": [\"Storage\", \"thrilled\", \"be\", \"Data_Awards\", \"Data\", \"Company\", \"the\", \"https\", \"data\", \"AI\", \"CustomerExperience\", \"Analytics\", \"FlashMemory\", \"CloudStorage\", \"cyberattack\", \"StAAS\", \"https\"], \"replyCount\": 0, \"retweetCount\": 12, \"likeCount\": 14, \"quoteCount\": 2, \"dateonly\": \"2022-04-12T00:00:00\"}, {\"score\": 0.25, \"date\": \"2022-04-12T11:56:03+00:00\", \"filtered\": [\"It\", \"been\", \"a\", \"more\", \"a\", \"smh\", \"how\", \"a\", \"corp\", \"have\", \"human\", \"at\", \"...\", \"Facebook\", \"facebookdisabled\", \"https\"], \"replyCount\": 4, \"retweetCount\": 1, \"likeCount\": 4, \"quoteCount\": 1, \"dateonly\": \"2022-04-12T00:00:00\"}, {\"score\": -0.5, \"date\": \"2022-04-12T11:55:21+00:00\", \"filtered\": [\"to\", \"Bored\", \"Yacht\", \"Movie\", \"https\", \"nft\", \"crypto\", \"metaverse\", \"design\", \"movies\", \"technology\", \"etherum\", \"digitalart\", \"https\"], \"replyCount\": 2, \"retweetCount\": 0, \"likeCount\": 7, \"quoteCount\": 2, \"dateonly\": \"2022-04-12T00:00:00\"}, {\"score\": 0.2, \"date\": \"2022-04-12T11:45:09+00:00\", \"filtered\": [\"means\", \"\\ud83d\\udcc8\", \"ready\", \"Xrmoon\", \"XRPArmy\", \"NFT\", \"crypto\", \"XRPCommunity\", \"altcoins\", \"100xgem\", \"NFTCommunity\", \"https\", \"//t.co/rsvuJtHEtm\"], \"replyCount\": 5, \"retweetCount\": 6, \"likeCount\": 25, \"quoteCount\": 2, \"dateonly\": \"2022-04-12T00:00:00\"}, {\"score\": 0.65, \"date\": \"2022-04-12T11:36:47+00:00\", \"filtered\": [\"Love\", \"collaboration\", \"content\", \"stand\", \"and\", \"proud\", \"be\", \"visitvegasplaces\", \"lasvegas\", \"creator\", \"coyal\", \"influencers\", \"https\"], \"replyCount\": 0, \"retweetCount\": 1, \"likeCount\": 3, \"quoteCount\": 0, \"dateonly\": \"2022-04-12T00:00:00\"}, {\"score\": 0.19318181818181818, \"date\": \"2022-04-12T11:28:46+00:00\", \"filtered\": [\"heart\", \"skips\", \"beat\", \"I\", \"notis\", \"these\", \"think\", \"first\", \"it\", \"\\u201e\", \"has\", \"new\", \"of\", \"eth\\u2026\", \"\\ud83e\\udd2f\", \"ens\", \"Metaverse\", \"ETH\", \"https\"], \"replyCount\": 0, \"retweetCount\": 0, \"likeCount\": 9, \"quoteCount\": 0, \"dateonly\": \"2022-04-12T00:00:00\"}, {\"score\": 0.2, \"date\": \"2022-04-12T11:15:03+00:00\", \"filtered\": [\"CEO\", \"Huang\", \"metaverse\", \"can\", \"companies\", \"of\", \"in\", \"the\", \"real\", \"https\", \"meta\", \"twin\", \"VR\", \"AI\", \"MTTR\"], \"replyCount\": 0, \"retweetCount\": 6, \"likeCount\": 4, \"quoteCount\": 0, \"dateonly\": \"2022-04-12T00:00:00\"}, {\"score\": 0.16666666666666666, \"date\": \"2022-04-12T09:46:26+00:00\", \"filtered\": [\"will\", \"content\", \"to\", \"virtual\", \"to\", \"in\", \"Worlds\", \"main\", \"in\", \"metaverse\", \"the\", \"company\", \"CryptoDecoding\", \"https\"], \"replyCount\": 2, \"retweetCount\": 1, \"likeCount\": 4, \"quoteCount\": 0, \"dateonly\": \"2022-04-12T00:00:00\"}, {\"score\": 0.1, \"date\": \"2022-04-12T09:26:16+00:00\", \"filtered\": [\"are\", \"feeling\", \"Friends\", \"begins\", \"Battle\", \"and\", \"the\", \"daily\", \"of\", \"Are\", \"ready\", \"Let\", \"wish\", \"studios\", \"luck\", \"meta\", \"https\"], \"replyCount\": 1, \"retweetCount\": 9, \"likeCount\": 21, \"quoteCount\": 0, \"dateonly\": \"2022-04-12T00:00:00\"}, {\"score\": 0.13636363636363635, \"date\": \"2022-04-12T09:15:00+00:00\", \"filtered\": [\"announced\", \"is\", \"new\", \"in\", \"its\", \"reality\", \"VR\", \"app\", \"will\", \"creators\", \"virtualitems\", \"make\", \"https\"], \"replyCount\": 0, \"retweetCount\": 2, \"likeCount\": 3, \"quoteCount\": 0, \"dateonly\": \"2022-04-12T00:00:00\"}, {\"score\": 0.25, \"date\": \"2022-04-12T09:09:08+00:00\", \"filtered\": [\"unveils\", \"during\", \"Week\", \"parisnft_day\", \"among\", \"first\", \"know\", \"the\", \"Metaverse\", \"NFT\", \"AR\", \"our\", \"https\", \"https\"], \"replyCount\": 3, \"retweetCount\": 0, \"likeCount\": 3, \"quoteCount\": 0, \"dateonly\": \"2022-04-12T00:00:00\"}, {\"score\": 0.25, \"date\": \"2022-04-12T09:07:33+00:00\", \"filtered\": [\"Employment\", \"Another\", \"Accenture\", \"JulieSweet\", \"among\", \"first\", \"to\", \"know\", \"the\", \"Metaverse\", \"NFT\", \"AR\", \"our\", \"https\", \"https\"], \"replyCount\": 2, \"retweetCount\": 0, \"likeCount\": 4, \"quoteCount\": 0, \"dateonly\": \"2022-04-12T00:00:00\"}, {\"score\": 0.25, \"date\": \"2022-04-12T09:07:21+00:00\", \"filtered\": [\"is\", \"Advertising\", \"in\", \"Metaverse\", \"among\", \"first\", \"know\", \"the\", \"Metaverse\", \"NFT\", \"AR\", \"our\", \"https\", \"https\"], \"replyCount\": 0, \"retweetCount\": 0, \"likeCount\": 4, \"quoteCount\": 1, \"dateonly\": \"2022-04-12T00:00:00\"}, {\"score\": 0.5, \"date\": \"2022-04-12T09:00:01+00:00\", \"filtered\": [\"is\", \"magical\", \"seed\", \"a\", \"block\", \"life\", \"metaverse\", \"Read\", \"about\", \"in\", \"the\", \"latest\", \"\\ud83d\\udc47\", \"//t.co/QRt3htB7F9\", \"crypto\", \"NFTGame\", \"meta\", \"sustainability\", \"//t.co/bmebgHWkT3\"], \"replyCount\": 5, \"retweetCount\": 12, \"likeCount\": 50, \"quoteCount\": 0, \"dateonly\": \"2022-04-12T00:00:00\"}, {\"score\": 0.09454545454545454, \"date\": \"2022-04-12T08:20:05+00:00\", \"filtered\": [\"Beta\", \"only\", \"few\", \"steps\", \"from\", \"live\", \"the\", \"let\", \"enjoy\", \"new\", \"NFT\\ud83e\\udd24\", \"P2E\", \"META\", \"Metaverse\", \"$\", \"https\"], \"replyCount\": 9, \"retweetCount\": 13, \"likeCount\": 31, \"quoteCount\": 1, \"dateonly\": \"2022-04-12T00:00:00\"}, {\"score\": 0.5, \"date\": \"2022-04-12T08:08:01+00:00\", \"filtered\": [\"MORNING\", \"you\", \"just\", \"Moses\", \"having\", \"fun\", \"at\", \"fair\", \"\\u2665\\ufe0f\", \"nfts\", \"nftartist\", \"nftcollectors\", \"nftdrops\", \"nftgiveaway\", \"metamorphmoses\", \"ethnft\", \"rarenft\", \"https\"], \"replyCount\": 3, \"retweetCount\": 2, \"likeCount\": 7, \"quoteCount\": 1, \"dateonly\": \"2022-04-12T00:00:00\"}, {\"score\": 0.13636363636363635, \"date\": \"2022-04-12T08:00:50+00:00\", \"filtered\": [\"technology\", \"has\", \"number\", \"backers\", \"the\", \"of\", \"a\", \"new\", \"that\", \"to\", \"the\", \"to\", \"a\", \"new\", \"of\", \"interactivity\", \"scalability\", \"us\", \"-\", \"//t.co/5er5VQCPHz\", \"meta\", \"//t.co/R0b6fzSC3X\"], \"replyCount\": 2, \"retweetCount\": 6, \"likeCount\": 10, \"quoteCount\": 1, \"dateonly\": \"2022-04-12T00:00:00\"}, {\"score\": 0.03333333333333333, \"date\": \"2022-04-12T08:00:01+00:00\", \"filtered\": [\"creators\", \"virtual\", \"in\", \"social\", \"app\", \"Worlds\", \"Meta\", \"//t.co/svouBCszEE\", \"Metaverse\"], \"replyCount\": 0, \"retweetCount\": 1, \"likeCount\": 3, \"quoteCount\": 0, \"dateonly\": \"2022-04-12T00:00:00\"}, {\"score\": -0.4, \"date\": \"2022-04-12T07:54:58+00:00\", \"filtered\": [\"15\", \"asking\", \"out\", \"e-meet\", \"If\", \"living\", \"let\", \"\\u2019\", \"the\", \"who\", \"it\", \"\\u2019\", \"s\", \"create\", \"a\", \"real-life\", \"game\", \"nfts\", \"nftcollector\", \"nftproject\", \"nftcommunity\", \"Elonmusk\"], \"replyCount\": 2, \"retweetCount\": 1, \"likeCount\": 4, \"quoteCount\": 2, \"dateonly\": \"2022-04-12T00:00:00\"}, {\"score\": 0.3, \"date\": \"2022-04-12T07:54:04+00:00\", \"filtered\": [\"This\", \"we\", \"posting\", \"weirder\", \"more\", \"superhero\", \"MentalHealthMatters\", \"webcomics\", \"comics\", \"meta\", \"experimental\", \"Tuesday\", \"//t.co/XApGaAu0XS\"], \"replyCount\": 0, \"retweetCount\": 2, \"likeCount\": 9, \"quoteCount\": 0, \"dateonly\": \"2022-04-12T00:00:00\"}, {\"score\": 0.4, \"date\": \"2022-04-12T06:42:15+00:00\", \"filtered\": [\"gets\", \"2nd.Eth\", \"of\", \"don\", \"t\", \"one\", \"\\u2066\", \"web3\", \"meta\", \"available\", \"\\u2019\", \"Crypto\", \"Registers\", \".Eth\", \"as\", \"Files\", \"4\", \"Trademarks\", \"//t.co/TzS4d47rjJ\"], \"replyCount\": 1, \"retweetCount\": 0, \"likeCount\": 9, \"quoteCount\": 1, \"dateonly\": \"2022-04-12T00:00:00\"}, {\"score\": 0.2215909090909091, \"date\": \"2022-04-12T05:47:32+00:00\", \"filtered\": [\"from\", \"President\", \"President\", \"live\", \"at\", \"Digital\", \"2\", \"event\", \"who\", \"interested\", \"find\", \"more\", \"the\", \"and\", \"President\", \"send\", \"via\", \"wilddigital\", \"meta\", \"https\"], \"replyCount\": 2, \"retweetCount\": 2, \"likeCount\": 7, \"quoteCount\": 0, \"dateonly\": \"2022-04-12T00:00:00\"}, {\"score\": -0.3, \"date\": \"2022-04-12T04:37:20+00:00\", \"filtered\": [\"Bulgaria\", \"is\", \"for\", \"propaganda\", \"a\", \"basis\", \"fake\", \"incite\", \"and\", \"as\", \"as\", \"of\", \"government\", \"our\", \"to\", \"these\", \"profiles\", \"are\", \"vain\", \"Zuckerberg\", \"for\"], \"replyCount\": 16, \"retweetCount\": 38, \"likeCount\": 163, \"quoteCount\": 3, \"dateonly\": \"2022-04-12T00:00:00\"}, {\"score\": -0.15000000000000002, \"date\": \"2022-04-12T04:27:10+00:00\", \"filtered\": [\"Epic\", \"GAME\", \"Meta\", \"DCL\", \"DOGERIO\\ud83d\\udd25\", \"The\", \"MetaDoge3D\", \"is\", \"SOON\", \"\\ud83c\\udfc61\", \"SPOT\", \"\\ud83c\\udfc65\", \"MetaDogeNFT\\u2764\\ufe0f\", \"metadogeNFT\", \"\\u2705\\u2764\\ufe0f\", \"\\u2705Tag\", \"Friends\", \"ETH\", \"https\", \"//t.co/ytmfha41FR\"], \"replyCount\": 27, \"retweetCount\": 24, \"likeCount\": 27, \"quoteCount\": 0, \"dateonly\": \"2022-04-12T00:00:00\"}, {\"score\": 0.35, \"date\": \"2022-04-12T03:43:19+00:00\", \"filtered\": [\"are\", \"our\", \"ready\", \"a\", \"peek\", \"what\", \"\\u2019\", \"working\", \"by\", \"us\", \"on\", \"NFT\", \"Unicorns\", \"UnicornNFT\", \"UnicornNFT\", \"magical\", \"nftarts\", \"metaverse\", \"//t.co/Gkk1OrglNv\"], \"replyCount\": 3, \"retweetCount\": 0, \"likeCount\": 3, \"quoteCount\": 3, \"dateonly\": \"2022-04-12T00:00:00\"}, {\"score\": -0.5, \"date\": \"2022-04-12T03:39:45+00:00\", \"filtered\": [\"Bored\", \"Need\", \"\\ud83d\\udea8\", \"boredapeneedclub\", \"https\", \"nft\", \"dijaux\", \"explorepage\", \"teachnft\", \"Polygon\", \"meta\", \"https\"], \"replyCount\": 2, \"retweetCount\": 1, \"likeCount\": 5, \"quoteCount\": 1, \"dateonly\": \"2022-04-12T00:00:00\"}, {\"score\": 0.3333333333333333, \"date\": \"2022-04-12T01:38:53+00:00\", \"filtered\": [\"traders\", \"investors\", \"different\", \"toward\", \"investment\", \"'s\", \"more\", \"9\", \"since\", \"We\", \"META\", \"quickly\", \"OFF\", \"Torchlight\", \"the\", \"runs\", \"How\", \"more\", \"to\", \"?\", \"//t.co/4JCMcGXrkF\"], \"replyCount\": 1, \"retweetCount\": 1, \"likeCount\": 4, \"quoteCount\": 1, \"dateonly\": \"2022-04-12T00:00:00\"}, {\"score\": -0.09642857142857142, \"date\": \"2022-04-12T01:28:23+00:00\", \"filtered\": [\"is\", \"to\", \"the\", \"Metaverse\", \"Spent\", \"\\u2b07\\ufe0f\\u2b07\\ufe0f\", \"Universe\", \"&\", \";\", \"small\", \"medium\", \"large\", \"\\ud83d\\udcaa\", \"Nation\", \"&\", \";\", \"small\", \"medium\", \"\\ud83d\\udd25\", \"Estimated\", \"17,500\", \"Estimated\", \"PROFIT\", \"15,850\", \"ADA\", \"\\ud83e\\udd11\\ud83e\\udd11\", \"SGSinvestors\", \"https\"], \"replyCount\": 11, \"retweetCount\": 38, \"likeCount\": 131, \"quoteCount\": 5, \"dateonly\": \"2022-04-12T00:00:00\"}, {\"score\": 0.6666666666666666, \"date\": \"2022-04-12T01:28:18+00:00\", \"filtered\": [\"said\", \"Time\", \"priceless\", \"amp\", \"money\", \"invented\", \"try\", \"buy\", \"with\", \"success.\", \"?\", \"NFTCommunity\", \"wise\", \"superwise\", \"meta\", \"https\"], \"replyCount\": 0, \"retweetCount\": 1, \"likeCount\": 5, \"quoteCount\": 2, \"dateonly\": \"2022-04-12T00:00:00\"}, {\"score\": 0.13636363636363635, \"date\": \"2022-04-12T01:22:20+00:00\", \"filtered\": [\"(\", \")\", \"creating\", \"new\", \"economy\", \"for\", \"Metaverse\", \"nonfungibletokens\", \"//t.co/n3Hc6cpdE9\"], \"replyCount\": 0, \"retweetCount\": 0, \"likeCount\": 4, \"quoteCount\": 1, \"dateonly\": \"2022-04-12T00:00:00\"}, {\"score\": 0.03333333333333333, \"date\": \"2022-04-12T00:16:03+00:00\", \"filtered\": [\"Launches\", \"Creator\", \"Programs\", \"Fuel\", \"of\", \"Metaverse\", \"Social\", \"Today\", \"//t.co/lUX71HghL7\", \"BTC\", \"//t.co/NvvKJPmPAy\", \"crypto\", \"virtual\", \"meta\", \"//t.co/5S4WGNYDqv\"], \"replyCount\": 0, \"retweetCount\": 0, \"likeCount\": 3, \"quoteCount\": 0, \"dateonly\": \"2022-04-12T00:00:00\"}, {\"score\": -0.4, \"date\": \"2022-04-12T00:12:42+00:00\", \"filtered\": [\"Meta\", \"implementing\", \"goods\", \"their\", \"game\", \"Worlds\", \"//t.co/IlxxNqWrw7\"], \"replyCount\": 4, \"retweetCount\": 11, \"likeCount\": 15, \"quoteCount\": 0, \"dateonly\": \"2022-04-12T00:00:00\"}, {\"score\": 0.13636363636363635, \"date\": \"2022-04-11T23:43:15+00:00\", \"filtered\": [\"Meta\", \"Software\", \"Adds\", \"New\", \"Environment\", \"to\", \"on\", \"and\", \"cc\", \"meta\", \"vr\", \"https\"], \"replyCount\": 0, \"retweetCount\": 1, \"likeCount\": 3, \"quoteCount\": 0, \"dateonly\": \"2022-04-11T00:00:00\"}, {\"score\": 0.625, \"date\": \"2022-04-11T23:30:41+00:00\", \"filtered\": [\"vrgotham\", \"RT\", \"Still\", \"of\", \"Best\", \"Investments\", \"Matterport\", \"rjpittman\", \"among\", \"first\", \"know\", \"the\", \"Metaverse\", \"NFT\", \"AR\", \"our\", \"\\u2026\", \"https\", \"//t.co/prS80tKYYN\"], \"replyCount\": 0, \"retweetCount\": 0, \"likeCount\": 4, \"quoteCount\": 1, \"dateonly\": \"2022-04-11T00:00:00\"}, {\"score\": 0.5, \"date\": \"2022-04-11T23:30:10+00:00\", \"filtered\": [\"plans\", \"Zuck\", \"\\u2019\", \"coins\", \"Facebook\", \"Instagram\", \"Find\", \"more\", \"Meta\", \"Metaverse\", \"NFTs\", \"NFTCollector\", \"NFTArtist\", \"NFT\", \"NFTNews\", \"https\"], \"replyCount\": 0, \"retweetCount\": 1, \"likeCount\": 9, \"quoteCount\": 1, \"dateonly\": \"2022-04-11T00:00:00\"}, {\"score\": 0.4, \"date\": \"2022-04-11T23:22:34+00:00\", \"filtered\": [\"success\", \"the\", \"2\", \"headset\", \"looks\", \"up\", \"the\", \"ante\", \"an\", \"better\", \"https\"], \"replyCount\": 0, \"retweetCount\": 1, \"likeCount\": 6, \"quoteCount\": 1, \"dateonly\": \"2022-04-11T00:00:00\"}, {\"score\": 0.4, \"date\": \"2022-04-11T23:12:13+00:00\", \"filtered\": [\"Fashion\", \"'boohoo\", \"the\", \"with\", \"Free\", \"NFT\", \"By\", \"-\", \"//t.co/BNIQ6yLr73\", \"//t.co/n97XeWcIxq\", \"BTC\", \"//t.co/NvvKJPmPAy\", \"crypto\", \"oculusrift\", \"meta\", \"//t.co/OVQksNK7Fe\"], \"replyCount\": 5, \"retweetCount\": 1, \"likeCount\": 3, \"quoteCount\": 0, \"dateonly\": \"2022-04-11T00:00:00\"}, {\"score\": 0.6666666666666666, \"date\": \"2022-04-11T22:43:29+00:00\", \"filtered\": [\"are\", \"legendary\", \"shapes\", \"form\", \"Cant\", \"what\", \"member\", \"has\", \"store\", \"visual\", \"can\", \"added\", \"to\", \"plots\", \"\\ud83d\\uddb1\\ufe0f\\ud83d\\uddb1\\ufe0f\", \"gamefi\", \"iotex\", \"iotx\", \"legendary\", \"gems\", \"//t.co/PfqcCWufg8\"], \"replyCount\": 5, \"retweetCount\": 11, \"likeCount\": 27, \"quoteCount\": 0, \"dateonly\": \"2022-04-11T00:00:00\"}, {\"score\": 0.6, \"date\": \"2022-04-11T21:00:33+00:00\", \"filtered\": [\"cops\", \"Kind\", \"has\", \"Home\", \"feeling\", \"Apple\", \"police\", \"cybercrime\", \"https\", \"https\"], \"replyCount\": 1, \"retweetCount\": 5, \"likeCount\": 5, \"quoteCount\": 0, \"dateonly\": \"2022-04-11T00:00:00\"}, {\"score\": 0.35714285714285715, \"date\": \"2022-04-11T20:51:41+00:00\", \"filtered\": [\"Join\", \"'s\", \"this\", \"4/15\", \"12:00pm\", \"for\", \"April\", \"Virtual\", \"on\", \"Access\", \"Capital\", \"Special\", \"speakers\", \"Meta\", \"jpmorgan\\ud83d\\udc68\\ud83c\\udffd\\u200d\\ud83c\\udfebRegister\", \"\\u2705\", \"Supplier\", \"Meta\", \"Network\", \"https\", \"//t.co/RvtjmSdDt1\"], \"replyCount\": 0, \"retweetCount\": 0, \"likeCount\": 3, \"quoteCount\": 0, \"dateonly\": \"2022-04-11T00:00:00\"}, {\"score\": 0.8, \"date\": \"2022-04-11T20:45:02+00:00\", \"filtered\": [\"Giveaway\", \"Follow\", \"amp\", \"join\", \"on\", \"this\", \"3pm\", \"\\u27a1\\ufe0fhttps\", \"For\", \"chance\", \"win\", \"unity3d\", \"system\", \"pack\", \"Meta\", \"//t.co/5ZY3ji7fuq\", \"madewithunity\", \"gamedeveloper\", \"metaquest\", \"https\"], \"replyCount\": 0, \"retweetCount\": 2, \"likeCount\": 7, \"quoteCount\": 0, \"dateonly\": \"2022-04-11T00:00:00\"}, {\"score\": 0.4000000000000001, \"date\": \"2022-04-11T20:14:25+00:00\", \"filtered\": [\"is\", \"How\", \"some\", \"Onlinewagers.eth\", \"or\", \"\\ud83c\\udfb0\", \"or\", \"HUGE\", \"in\", \"florida\", \"BIoomCapitaI\", \"BTC\", \"meta\", \"//t.co/HrGUpDewfJ\"], \"replyCount\": 1, \"retweetCount\": 3, \"likeCount\": 9, \"quoteCount\": 1, \"dateonly\": \"2022-04-11T00:00:00\"}, {\"score\": -0.25, \"date\": \"2022-04-11T20:09:16+00:00\", \"filtered\": [\"Alien\", \"\\u201c\", \"is\", \"but\", \"destroys\", \"what\", \"considers\", \"be\", \"limiting\", \"vision\", \"//t.co/4t30VXOsFG\", \"cryptocom\", \"NFTs\", \"Metaverse\", \"Meta\", \"metaufo\", \"AlienWorlds\", \"https\"], \"replyCount\": 1, \"retweetCount\": 1, \"likeCount\": 8, \"quoteCount\": 1, \"dateonly\": \"2022-04-11T00:00:00\"}, {\"score\": 0.45, \"date\": \"2022-04-11T20:00:28+00:00\", \"filtered\": [\"has\", \"filled\", \"trademark\", \"for\", \"and\", \"Find\", \"more\", \"Mastercard\", \"Metaverse\", \"Meta\", \"NFTNews\", \"NFTs\", \"NFTCollector\", \"NFTArtist\", \"NFT\", \"//t.co/9O31kU09yT\"], \"replyCount\": 1, \"retweetCount\": 0, \"likeCount\": 7, \"quoteCount\": 0, \"dateonly\": \"2022-04-11T00:00:00\"}, {\"score\": 0.18333333333333335, \"date\": \"2022-04-11T19:36:15+00:00\", \"filtered\": [\"watch\", \"Rubber\", \"2010\", \"Whether\", \"meta\", \"satire\", \"doesn\", \"\\u2019\", \"t\", \"work\", \"me\", \"comes\", \"pretentious\", \"some\", \"moments\", \"couple\", \"gore\", \"&\", \"amp\", \";\", \"concept\", \"it\", \"but\", \"average\", \"best.\", \"horrorfamily\", \"https\"], \"replyCount\": 1, \"retweetCount\": 0, \"likeCount\": 4, \"quoteCount\": 0, \"dateonly\": \"2022-04-11T00:00:00\"}, {\"score\": 1.0, \"date\": \"2022-04-11T19:33:43+00:00\", \"filtered\": [\"is\", \"perfect\", \"for\", \"developments\", \"\\u2019\", \"go\", \"and\", \"ThetaMetachain\", \"Theta\", \"Meta\", \"TDROP\", \"//t.co/bWHgTi2nv2\"], \"replyCount\": 2, \"retweetCount\": 9, \"likeCount\": 32, \"quoteCount\": 0, \"dateonly\": \"2022-04-11T00:00:00\"}, {\"score\": 0.13636363636363635, \"date\": \"2022-04-11T19:12:27+00:00\", \"filtered\": [\"Meta\", \"A\", \"new\", \"is\", \"here\", \"metamaterials\", \"META\", \"Varta\", \"https\", \"https\"], \"replyCount\": 1, \"retweetCount\": 13, \"likeCount\": 49, \"quoteCount\": 4, \"dateonly\": \"2022-04-11T00:00:00\"}, {\"score\": 0.1, \"date\": \"2022-04-11T19:01:53+00:00\", \"filtered\": [\"now\", \"thank\", \"later\", \"Start\", \"your\", \"from\", \"very\", \"\\ud83e\\udd1d\\ud83e\\udd1d\\ud83e\\udd1djust\", \"click\", \"PULI\", \"PULI\", \"DAO\", \"NFT\", \"DeFi\", \"RBX\", \"Link\", \"website\", \"//t.co/EYl2Hw9ANp\", \"https\", \"//t.co/9lWE5kjlvj\"], \"replyCount\": 6, \"retweetCount\": 20, \"likeCount\": 21, \"quoteCount\": 0, \"dateonly\": \"2022-04-11T00:00:00\"}, {\"score\": 0.2, \"date\": \"2022-04-11T18:41:04+00:00\", \"filtered\": [\"is\", \"our\", \"today\", \"join\", \"as\", \"attempt\", \"enter\", \"the\", \"Put\", \"mask\", \"and\", \"ready\", \"to\", \"earn\", \"//t.co/8SoiqwQNZW\", \"nft\", \"meta\", \"eth\", \"gamefi\", \"airdrop\", \"nftart\", \"web3\", \"//t.co/DT62VuaXsf\"], \"replyCount\": 12, \"retweetCount\": 18, \"likeCount\": 35, \"quoteCount\": 5, \"dateonly\": \"2022-04-11T00:00:00\"}, {\"score\": 0.016666666666666666, \"date\": \"2022-04-11T18:30:00+00:00\", \"filtered\": [\"to\", \"some\", \"employees\", \"frustration\", \"an\", \"social\", \"about\", \"fact\", \"Ukrainians\", \"being\", \"an\", \"exception\", \"no\", \"users\", \"conflict-torn\", \"such\", \"the\", \"have\", \"before\", \"//t.co/QaYC1ukdDj\"], \"replyCount\": 0, \"retweetCount\": 10, \"likeCount\": 12, \"quoteCount\": 1, \"dateonly\": \"2022-04-11T00:00:00\"}, {\"score\": 0.25, \"date\": \"2022-04-11T18:11:08+00:00\", \"filtered\": [\"first\", \"META\", \"IS\", \"and\", \"out\", \"META\", \"Bonito\", \"Shop\", \"A\", \"to\", \"nfts\", \"in\", \"Mint\", \"1\", \"BonitoFlakes995\", \"//t.co/XqVHmEZEpq\", \"Date\", \"All\", \"https\"], \"replyCount\": 0, \"retweetCount\": 3, \"likeCount\": 13, \"quoteCount\": 1, \"dateonly\": \"2022-04-11T00:00:00\"}, {\"score\": 0.16818181818181818, \"date\": \"2022-04-11T17:59:20+00:00\", \"filtered\": [\"today\", \"created\", \"new\", \"Collection\", \"number\", \"ready\", \"Metaverse\", \"Follow\", \"evolution\", \"development\", \"David\", \"Proofs\", \"of\", \"creation\", \"NFTCollection\", \"NFTs\", \"Meta\", \"rarible\", \"https\", \"//t.co/cXrwH2oBYJ\"], \"replyCount\": 0, \"retweetCount\": 0, \"likeCount\": 7, \"quoteCount\": 3, \"dateonly\": \"2022-04-11T00:00:00\"}, {\"score\": 0.16666666666666666, \"date\": \"2022-04-11T17:40:19+00:00\", \"filtered\": [\"Metaverse\", \"teams\", \"acquire\", \"classic\", \"web3\", \"GameFi\", \"NFT\", \"https\"], \"replyCount\": 4, \"retweetCount\": 3, \"likeCount\": 8, \"quoteCount\": 3, \"dateonly\": \"2022-04-11T00:00:00\"}, {\"score\": 0.5, \"date\": \"2022-04-11T17:30:39+00:00\", \"filtered\": [\"PRICE\", \"&\", \";\", \"ETH\", \"This\", \"my\", \"most\", \"domain\", \"of\", \"nft\", \"domains\", \"metaverse\", \"domainsforsale\", \"https\", \"via\", \"https\"], \"replyCount\": 7, \"retweetCount\": 3, \"likeCount\": 18, \"quoteCount\": 1, \"dateonly\": \"2022-04-11T00:00:00\"}, {\"score\": 0.6333333333333334, \"date\": \"2022-04-11T17:26:23+00:00\", \"filtered\": [\"celebrate\", \"we\", \"made\", \"HUGE\", \"to\", \"\\ud83c\\udf89\\ud83d\\udc36\", \"animals\", \"around\", \"world\", \"sharing\", \"joy\", \"beloved\", \"give\", \"every\", \"\\u2764\\ufe0f\\ud83d\\udc36\", \"Meta\", \"MetaInu\", \"//t.co/GdFbbXNuOx\"], \"replyCount\": 2, \"retweetCount\": 7, \"likeCount\": 17, \"quoteCount\": 1, \"dateonly\": \"2022-04-11T00:00:00\"}, {\"score\": 0.5, \"date\": \"2022-04-11T17:15:20+00:00\", \"filtered\": [\"had\", \"attendance\", \"our\", \"last\", \"which\", \"consider\", \"be\", \"best\", \"that\", \"are\", \"about\", \"the\", \"way\", \"nft\", \"web3\", \"metaslavs\"], \"replyCount\": 0, \"retweetCount\": 0, \"likeCount\": 8, \"quoteCount\": 1, \"dateonly\": \"2022-04-11T00:00:00\"}, {\"score\": -0.125, \"date\": \"2022-04-11T17:15:19+00:00\", \"filtered\": [\"and\", \"we\", \"extremely\", \"with\", \"launch\", \"GPNX\", \"and\", \"the\", \"ensuing\", \"on\", \"and\", \"media\", \"nfts\", \"nftinsider\", \"meta\"], \"replyCount\": 1, \"retweetCount\": 0, \"likeCount\": 8, \"quoteCount\": 1, \"dateonly\": \"2022-04-11T00:00:00\"}, {\"score\": 0.06666666666666667, \"date\": \"2022-04-11T16:56:08+00:00\", \"filtered\": [\"you\", \"for\", \"epic\", \"in\", \"?\", \"is\", \"20+\", \"RPG\", \"all\", \"quirky\", \"you\", \"from\", \"indiegame\", \"//t.co/exPLEF7a4N\", \"action\", \"meta\", \"Oculus\"], \"replyCount\": 1, \"retweetCount\": 6, \"likeCount\": 12, \"quoteCount\": 0, \"dateonly\": \"2022-04-11T00:00:00\"}, {\"score\": -0.3666666666666667, \"date\": \"2022-04-11T16:45:26+00:00\", \"filtered\": [\"Facebook\", \"for\", \"ship\", \"using\", \"of\", \"as\", \"a\", \"poor\", \"to\", \"unable\", \"a\", \"incident\", \"creator\", \"Facebook\", \"+\", \"Instagram\", \"&\", \";\", \"Partners\", \"to\", \"disabled\", \"Meta\", \"instagramhacked\", \"//t.co/dRaH185zDk\"], \"replyCount\": 3, \"retweetCount\": 5, \"likeCount\": 6, \"quoteCount\": 0, \"dateonly\": \"2022-04-11T00:00:00\"}, {\"score\": 0.03333333333333333, \"date\": \"2022-04-11T16:42:16+00:00\", \"filtered\": [\"going\", \"drink\", \"'s\", \"\\ud83d\\ude0b\\ud83e\\uddcb\", \"all\", \"content\", \"the\", \"social\", \"sites\", \"your\", \"account\", \"'s\", \"Bring\", \"TheDodester\", \"DeleteFacebook\", \"Instagram\", \"Facebook\", \"GoDigitalage\", \"HPNN\", \"ThereWillBeBlood\", \"//t.co/etm8GCR5sp\", \"//t.co/4ULEZ4Y1mw\"], \"replyCount\": 0, \"retweetCount\": 1, \"likeCount\": 3, \"quoteCount\": 0, \"dateonly\": \"2022-04-11T00:00:00\"}, {\"score\": 0.20000000000000004, \"date\": \"2022-04-11T15:57:56+00:00\", \"filtered\": [\"we\", \"Huge\", \"to\", \"for\", \"big\", \"Working\", \"another\", \"now\", \"coming\", \"soon\", \"Likes\", \"RT\", \"appreciated\", \"roblox\", \"robloxdev\", \"blender\", \"meta\", \"https\", \"https\"], \"replyCount\": 1, \"retweetCount\": 1, \"likeCount\": 3, \"quoteCount\": 0, \"dateonly\": \"2022-04-11T00:00:00\"}, {\"score\": 0.13636363636363635, \"date\": \"2022-04-11T15:49:30+00:00\", \"filtered\": [\"NEW\", \"\\ud83d\\ude0d\\ud83d\\ude80\\ud83d\\udea8LFG\", \"NFTs\", \"cryptocurrecy\", \"Metaverse\", \"NFTGiveaway\", \"Shibtropolis\", \"RockstarGames\", \"Erc20\", \"https\"], \"replyCount\": 4, \"retweetCount\": 16, \"likeCount\": 30, \"quoteCount\": 8, \"dateonly\": \"2022-04-11T00:00:00\"}, {\"score\": 0.6, \"date\": \"2022-04-11T15:39:06+00:00\", \"filtered\": [\"Deluxe\", \"Honeycomb\", \"for\", \"https\", \"NFT\", \"NFTsales\", \"Ethereum\", \"https\"], \"replyCount\": 0, \"retweetCount\": 0, \"likeCount\": 6, \"quoteCount\": 1, \"dateonly\": \"2022-04-11T00:00:00\"}, {\"score\": 0.1, \"date\": \"2022-04-11T15:33:33+00:00\", \"filtered\": [\"When\", \"gives\", \"JPEGS\", \"stake\", \"merge\", \"delist\", \"&\", \";\", \"put\", \"on\", \"shirt\", \"for\", \"a\", \"in\", \"Kern\", \"NFT\", \"ART\", \"DOT\", \"Near\", \"meta\", \"//t.co/9uasM9UxFj\"], \"replyCount\": 2, \"retweetCount\": 1, \"likeCount\": 5, \"quoteCount\": 0, \"dateonly\": \"2022-04-11T00:00:00\"}, {\"score\": 0.2375, \"date\": \"2022-04-11T15:29:25+00:00\", \"filtered\": [\"Meta\", \"expressed\", \"that\", \"are\", \"granted\", \"unprecedented\", \"that\", \"other\", \"from\", \"regions\", \"as\", \"MiddleEast\", \"received\", \"Ukraine\", \"https\"], \"replyCount\": 0, \"retweetCount\": 1, \"likeCount\": 6, \"quoteCount\": 0, \"dateonly\": \"2022-04-11T00:00:00\"}, {\"score\": 0.13636363636363635, \"date\": \"2022-04-11T15:16:54+00:00\", \"filtered\": [\"is\", \"live\", \"Bitmart\", \"the\", \"of\", \"Keep\", \"wallets\", \"OfficialXiaShel\", \"NFTs\", \"Meta\", \"memecoin\", \"Doggy_Style\", \"Shibu\", \"https\"], \"replyCount\": 2, \"retweetCount\": 0, \"likeCount\": 3, \"quoteCount\": 0, \"dateonly\": \"2022-04-11T00:00:00\"}, {\"score\": 0.2785714285714286, \"date\": \"2022-04-11T15:07:03+00:00\", \"filtered\": [\"5pm\", \"girlswhocode\", \"for\", \"special\", \"in\", \"panel\", \"where\", \"can\", \"engineers\", \"the\", \"life\", \"Meta\", \"much\", \"Hear\", \"about\", \"recruitment\", \"and\", \"resume\", \"NYUTandonMade\", \"//t.co/fzlXlyTBIs\", \"//t.co/ca9OsE1ep3\"], \"replyCount\": 0, \"retweetCount\": 2, \"likeCount\": 4, \"quoteCount\": 0, \"dateonly\": \"2022-04-11T00:00:00\"}, {\"score\": 0.7, \"date\": \"2022-04-11T14:55:27+00:00\", \"filtered\": [\"NationalPetDay\", \"all\", \"beloved\", \"around\", \"world\", \"Who\", \"your\", \"loved\", \"?\", \"Tag\", \"that\", \"join\", \"and\", \"their\", \"with\", \"Metaverse\", \"Meta\", \"BabyDogeCoin\"], \"replyCount\": 3, \"retweetCount\": 6, \"likeCount\": 22, \"quoteCount\": 1, \"dateonly\": \"2022-04-11T00:00:00\"}, {\"score\": 0.375, \"date\": \"2022-04-11T14:45:28+00:00\", \"filtered\": [\"are\", \"honored\", \"excited\", \"our\", \"pieces\", \"up\", \"the\", \"stoemanangels\", \"Thank\", \"for\", \"support\", \"\\u27a1\\ufe0f\", \"//t.co/c1AlqOLSIW\", \"NFTCommunity\", \"ethereum\", \"nftyoutube\", \"meta\", \"MetaverseNFT\", \"//t.co/OKTcyHINPh\"], \"replyCount\": 1, \"retweetCount\": 1, \"likeCount\": 11, \"quoteCount\": 3, \"dateonly\": \"2022-04-11T00:00:00\"}, {\"score\": 0.16818181818181818, \"date\": \"2022-04-11T14:41:02+00:00\", \"filtered\": [\"about\", \"20mins\", \"UNIVERSE\", \"live\", \"pancakeswap\", \"those\", \"ready\", \"cg\", \"//t.co/LlgO6JV7qR\"], \"replyCount\": 0, \"retweetCount\": 1, \"likeCount\": 4, \"quoteCount\": 0, \"dateonly\": \"2022-04-11T00:00:00\"}, {\"score\": -0.4, \"date\": \"2022-04-11T13:56:00+00:00\", \"filtered\": [\"is\", \"playable\", \"like.Not\", \"a\", \"whitepaper\", \"trailer\", \"//t.co/QKqsiMoDjj\", \"game\", \"Turret\", \"2022\", \"Metaverse\", \"MetaWars\", \"XMETA\", \"NFTgame\", \"NFTGames\", \"P2E\", \"https\"], \"replyCount\": 12, \"retweetCount\": 36, \"likeCount\": 82, \"quoteCount\": 1, \"dateonly\": \"2022-04-11T00:00:00\"}, {\"score\": 0.3, \"date\": \"2022-04-11T13:00:02+00:00\", \"filtered\": [\"2218\", \"have\", \"shared\", \"far\", \"our\", \"library\", \"In\", \"everyone\", \"listen\", \"and\", \"remix\", \"shared\", \"Do\", \"have\", \"favorite\", \"or\", \"composer\", \"?\", \"songs\", \"quest2\", \"https\"], \"replyCount\": 5, \"retweetCount\": 4, \"likeCount\": 24, \"quoteCount\": 1, \"dateonly\": \"2022-04-11T00:00:00\"}, {\"score\": -0.5, \"date\": \"2022-04-11T12:06:33+00:00\", \"filtered\": [\"Unable\", \"Manage\", \"Problems\", \"Now\", \"the\", \"Investors\", \"Report\", \"https\"], \"replyCount\": 0, \"retweetCount\": 2, \"likeCount\": 6, \"quoteCount\": 0, \"dateonly\": \"2022-04-11T00:00:00\"}, {\"score\": 0.41666666666666663, \"date\": \"2022-04-11T11:47:34+00:00\", \"filtered\": [\"We\", \"goal\", \"World\", \"to\", \"1M\", \"by\", \"\\u201d\", \"Matt\", \"CEO\", \"MetaWorld\", \"Dracarys\", \"a\", \"projects\", \"'ll\", \"build\", \"a\", \"community\", \"loyal\", \"&\", \";\", \"the\", \"of\", \"one\", \"the\", \"top\", \"networks\"], \"replyCount\": 636, \"retweetCount\": 1570, \"likeCount\": 1628, \"quoteCount\": 525, \"dateonly\": \"2022-04-11T00:00:00\"}, {\"score\": 0.5, \"date\": \"2022-04-11T11:33:53+00:00\", \"filtered\": [\"about\", \"Title\\uff1aHow\", \"Favorite\", \"Will\", \"You\", \"the\", \"-\", \"https\", \"Metaverse\", \"crypto\", \"bitcoin\"], \"replyCount\": 3, \"retweetCount\": 2, \"likeCount\": 12, \"quoteCount\": 0, \"dateonly\": \"2022-04-11T00:00:00\"}, {\"score\": 0.25, \"date\": \"2022-04-11T11:31:03+00:00\", \"filtered\": [\"launches\", \"application\", \"hilmarg\", \"among\", \"first\", \"know\", \"the\", \"Metaverse\", \"NFT\", \"VR\", \"AR\", \"our\", \"https\", \"https\"], \"replyCount\": 1, \"retweetCount\": 1, \"likeCount\": 6, \"quoteCount\": 0, \"dateonly\": \"2022-04-11T00:00:00\"}, {\"score\": 0.7, \"date\": \"2022-04-11T11:30:36+00:00\", \"filtered\": [\"Good\", \"muhaimintphp\", \"mufarrohahtphp\", \"NFTCommmunity\", \"NFTshill\", \"meta\"], \"replyCount\": 1, \"retweetCount\": 1, \"likeCount\": 4, \"quoteCount\": 0, \"dateonly\": \"2022-04-11T00:00:00\"}, {\"score\": -0.1875, \"date\": \"2022-04-11T11:19:00+00:00\", \"filtered\": [\"'s\", \"18\", \"since\", \"disabled\", \"&\", \"vaguely\", \"of\", \"community\", \"''\", \"specifics\", \";\", \"no\", \"about\", \"economic\", \"to\", \"a\", \"small\", \"business\", \"Facebook\", \"Meta\", \"InstagramComms\", \"SenSchumer\", \"//t.co/nnClE7FpNW\"], \"replyCount\": 18, \"retweetCount\": 3, \"likeCount\": 8, \"quoteCount\": 1, \"dateonly\": \"2022-04-11T00:00:00\"}, {\"score\": 0.5, \"date\": \"2022-04-11T10:40:26+00:00\", \"filtered\": [\"a\", \"at\", \"featured\", \"https\", \"today\", \"and\", \"like\", \"it\", \"at\", \"portfolio\", \"via\", \"Godaddy\", \"Dan\", \"more\", \"entrepreneur\", \"virtualreality\", \"metaverse\", \"optical\", \"https\"], \"replyCount\": 4, \"retweetCount\": 3, \"likeCount\": 12, \"quoteCount\": 0, \"dateonly\": \"2022-04-11T00:00:00\"}, {\"score\": 0.4, \"date\": \"2022-04-11T10:36:00+00:00\", \"filtered\": [\"many\", \"rules\", \"worth\", \"expressed\", \"Web3\", \"web\", \"Crypto\", \"GameFi\", \"meta\", \"opensea\", \"NFTs\", \"//t.co/urboTtwnPz\"], \"replyCount\": 3, \"retweetCount\": 1, \"likeCount\": 7, \"quoteCount\": 1, \"dateonly\": \"2022-04-11T00:00:00\"}, {\"score\": 0.3, \"date\": \"2022-04-11T10:33:48+00:00\", \"filtered\": [\"about\", \"Title\\uff1aMetaverse\", \"Size\", \"2022-2029\", \"Worth\", \"1527.55\", \"|\", \"a\", \"of\", \"%\", \"GlobeNewswire\", \"//t.co/yrTeBuy37p\", \"meta\", \"BTC\"], \"replyCount\": 1, \"retweetCount\": 1, \"likeCount\": 3, \"quoteCount\": 0, \"dateonly\": \"2022-04-11T00:00:00\"}, {\"score\": 0.5, \"date\": \"2022-04-11T10:25:29+00:00\", \"filtered\": [\"has\", \"a\", \"business\", \"'Robux\", \"Meta\", \"able\", \"pull\", \"off\", \"?\", \"on\", \"link\", \"to\", \"all\", \"the\", \"Zuck\", \"''\", \"https\", \"news\", \"digitalcurrency\", \"Roblox\", \"launch\", \"https\"], \"replyCount\": 1, \"retweetCount\": 2, \"likeCount\": 6, \"quoteCount\": 0, \"dateonly\": \"2022-04-11T00:00:00\"}, {\"score\": 0.25, \"date\": \"2022-04-11T09:37:50+00:00\", \"filtered\": [\"is\", \"Red\", \"Finance\", \"ScorpFin\", \"is\", \"the\", \"Top\", \"in\", \"in\", \"META\", \"NFT\", \"category\", \"//t.co/StQKOFkjlg\"], \"replyCount\": 16, \"retweetCount\": 15, \"likeCount\": 33, \"quoteCount\": 2, \"dateonly\": \"2022-04-11T00:00:00\"}, {\"score\": 0.4, \"date\": \"2022-04-11T08:30:00+00:00\", \"filtered\": [\"is\", \"an\", \"existing\", \"that\", \"users\", \"to\", \"post\", \"residential\", \"of\", \"on\", \"platforms\", \"it\", \"``\", \"available\", \"elsewhere\", \"//t.co/6CkapKuJmp\"], \"replyCount\": 0, \"retweetCount\": 1, \"likeCount\": 3, \"quoteCount\": 0, \"dateonly\": \"2022-04-11T00:00:00\"}, {\"score\": 0.25, \"date\": \"2022-04-11T08:07:45+00:00\", \"filtered\": [\"love\", \"MetaFluencer\", \"that\", \"be\", \"we\", \"only\", \"3\", \"a\", \"\\ud83d\\ude22\", \"soon\\u2026\\ud83d\\udc47\\ud83c\\udffc\", \"//t.co/1jC5u7Mqhl\", \"NFTProject\", \"NFTdrop\", \"META\", \"https\"], \"replyCount\": 7, \"retweetCount\": 7, \"likeCount\": 19, \"quoteCount\": 1, \"dateonly\": \"2022-04-11T00:00:00\"}, {\"score\": 0.4666666666666666, \"date\": \"2022-04-11T08:02:22+00:00\", \"filtered\": [\"account\", \"their\", \"censorship\", \"s3xual\", \"'s\", \"we\", \"thrilled\", \"be\", \"by\", \"clue\", \"HOWL\", \"&\", \"amp\", \";\", \"Smile\", \"If\", \"have\", \"censorship\", \"the\", \"space\", \"we\", \"\\u2019\", \"love\", \"chat\", \"to\", \"you\", \"Meta\", \"https\"], \"replyCount\": 1, \"retweetCount\": 0, \"likeCount\": 3, \"quoteCount\": 1, \"dateonly\": \"2022-04-11T00:00:00\"}, {\"score\": 0.1619047619047619, \"date\": \"2022-04-11T08:00:01+00:00\", \"filtered\": [\"\\u2019\", \"CEO\", \"Larby\", \"recently\", \"in\", \"forbes\", \"about\", \"real\", \"probably\", \"right\", \"\\ud83d\\ude09\", \"//t.co/EwyAVJ09OL\", \"P2E\", \"REALM\", \"crypto\", \"P2EGame\", \"forbes\"], \"replyCount\": 12, \"retweetCount\": 36, \"likeCount\": 118, \"quoteCount\": 2, \"dateonly\": \"2022-04-11T00:00:00\"}, {\"score\": -0.1, \"date\": \"2022-04-11T07:27:06+00:00\", \"filtered\": [\"have\", \"dream\", \"create\", \"open-world\", \"of\", \"a\", \"real\", \"To\", \"9tyBrands\", \"create\", \"nfts\", \"items/skins\", \"And\", \"of\", \"the\", \"sales\", \"goes\", \"fund\", \"the\", \"game\", \"nftcollector\", \"nftproject\", \"nftdrop\"], \"replyCount\": 3, \"retweetCount\": 1, \"likeCount\": 7, \"quoteCount\": 3, \"dateonly\": \"2022-04-11T00:00:00\"}, {\"score\": 0.35, \"date\": \"2022-04-11T07:25:30+00:00\", \"filtered\": [\"cool\", \"one\", \"us\", \"Klark\", \"drop\", \"soon\", \"tuned\", \"nftart\", \"nftdrop\", \"nftcollection\", \"cryptoart\", \"klark\", \"metaverse\", \"collectibles\", \"meta\", \"//t.co/fYPCH30CVs\"], \"replyCount\": 1, \"retweetCount\": 1, \"likeCount\": 4, \"quoteCount\": 2, \"dateonly\": \"2022-04-11T00:00:00\"}, {\"score\": 0.1, \"date\": \"2022-04-11T07:20:07+00:00\", \"filtered\": [\"Can\", \"Wild\", \"Metaverse\", \"Los\", \"Business\", \"https\", \"Buy\", \"https\", \"metaverse\", \"nft\", \"blockchaintechnology\", \"https\"], \"replyCount\": 3, \"retweetCount\": 1, \"likeCount\": 4, \"quoteCount\": 2, \"dateonly\": \"2022-04-11T00:00:00\"}, {\"score\": 0.35, \"date\": \"2022-04-11T07:09:32+00:00\", \"filtered\": [\"money\", \"bargains\", \"//t.co/UnfDCRBzqF\", \"//t.co/cADyEcxDI9\", \"//t.co/WcC77jJkON\", \"on\", \"See\", \"full\", \"for\", \"here\", \"//t.co/Q5QzijtXft\", \"MetaverseNFT\", \"metaverge\", \"NFTs\", \"investing\", \"cryptocurrency\"], \"replyCount\": 0, \"retweetCount\": 2, \"likeCount\": 4, \"quoteCount\": 0, \"dateonly\": \"2022-04-11T00:00:00\"}, {\"score\": 0.1, \"date\": \"2022-04-11T06:26:43+00:00\", \"filtered\": [\"SXSW\", \"few\", \"back\", \"Zuckerberg\", \"that\", \"will\", \"coming\", \"Instagram\", \"the\", \"near\", \"\\u201d\", \"that\", \"&\", \";\", \"what\", \"can\", \"expect\", \"NFTs\", \"Instagram\", \"Find\", \"in\", \"latest\", \"meta\", \"Marketing\", \"https\"], \"replyCount\": 1, \"retweetCount\": 5, \"likeCount\": 14, \"quoteCount\": 2, \"dateonly\": \"2022-04-11T00:00:00\"}, {\"score\": 0.5, \"date\": \"2022-04-11T05:38:57+00:00\", \"filtered\": [\"but\", \"an\", \"source\", \"is\", \"brand\", \"defi\", \"combining\", \"Nodes\", \"gambling\", \"sure\", \"get\", \"there\", \"https\", \"DeFi\", \"NFT\", \"https\"], \"replyCount\": 3, \"retweetCount\": 0, \"likeCount\": 6, \"quoteCount\": 1, \"dateonly\": \"2022-04-11T00:00:00\"}, {\"score\": 0.3, \"date\": \"2022-04-11T05:00:14+00:00\", \"filtered\": [\"Monday\", \"11th\", \"honor\", \"interviewing\", \"They\", \"have\", \"shown\", \"love\", \"have\", \"me\", \"to\", \"to\", \"this\", \"all\", \"it\", \"offers\", \"'re\", \"to\", \"talking\", \"Web3\", \"NFT\", \"Hip-Hop\", \"then\", \"``\", \"cipher\", \"meta\", \"xr\", \"//t.co/mL5LoJXWSh\"], \"replyCount\": 1, \"retweetCount\": 3, \"likeCount\": 11, \"quoteCount\": 0, \"dateonly\": \"2022-04-11T00:00:00\"}, {\"score\": -0.4, \"date\": \"2022-04-11T04:32:26+00:00\", \"filtered\": [\"14\", \"asking\", \"out\", \"e-meet\", \"If\", \"living\", \"let\", \"\\u2019\", \"the\", \"who\", \"it\", \"\\u2019\", \"s\", \"create\", \"a\", \"real-life\", \"game\", \"nfts\", \"nftcollector\", \"nftproject\", \"nftcommunity\", \"Elonmusk\"], \"replyCount\": 3, \"retweetCount\": 0, \"likeCount\": 9, \"quoteCount\": 3, \"dateonly\": \"2022-04-11T00:00:00\"}, {\"score\": -0.2, \"date\": \"2022-04-11T04:02:24+00:00\", \"filtered\": [\"is\", \"abstract\", \"my\", \"and\", \"few\", \"on\", \"topic\", \"meta\", \"Meta\", \"the\", \"in\", \"article\", \"meta\", \"spatialcomputing\", \"https\", \"//t.co/PXKCd8f2Fv\"], \"replyCount\": 2, \"retweetCount\": 1, \"likeCount\": 4, \"quoteCount\": 0, \"dateonly\": \"2022-04-11T00:00:00\"}, {\"score\": 0.35, \"date\": \"2022-04-11T03:32:59+00:00\", \"filtered\": [\"went\", \"visit\", \"BITPIXI\", \"BAR\", \"Cool\", \")\", \")\", \"gallery20\", \"cryptovoxels\", \"denshipilovart\", \"meta\", \"Cryptoartists\", \"//t.co/P1Kn41Cehl\"], \"replyCount\": 1, \"retweetCount\": 3, \"likeCount\": 14, \"quoteCount\": 1, \"dateonly\": \"2022-04-11T00:00:00\"}, {\"score\": -0.1, \"date\": \"2022-04-11T03:17:39+00:00\", \"filtered\": [\"SEC\", \"Corporation\", \"let\", \"vote\", \"its\", \"strategy\", \"\\ud83d\\udc49\\ud83c\\udffbFollow\", \"join\", \"to\", \"about\", \"industry\", \"\\ud83d\\udd17https\", \"Meta\", \"DeFi\", \"https\"], \"replyCount\": 0, \"retweetCount\": 2, \"likeCount\": 7, \"quoteCount\": 0, \"dateonly\": \"2022-04-11T00:00:00\"}, {\"score\": -0.2, \"date\": \"2022-04-11T01:28:28+00:00\", \"filtered\": [\"Ape\", \"Mint\", \"Green\", \"Sold\", \"0.0199\\u039e\", \"NFTs\", \"Meta\", \"nftcrypto\", \"//t.co/u9t5kjaW5c\"], \"replyCount\": 16, \"retweetCount\": 5, \"likeCount\": 16, \"quoteCount\": 3, \"dateonly\": \"2022-04-11T00:00:00\"}, {\"score\": 0.1, \"date\": \"2022-04-11T00:00:49+00:00\", \"filtered\": [\"he\", \"'s\", \"just\", \"deep\", \"my\", \"and\", \"figured\", \"how\", \"sell\", \"for\", \"ad\", \"Absolute\", \"meta\", \"//t.co/v119hDoXx3\"], \"replyCount\": 1, \"retweetCount\": 1, \"likeCount\": 4, \"quoteCount\": 0, \"dateonly\": \"2022-04-11T00:00:00\"}]}}, {\"actions\": false, \"mode\": \"vega-lite\"});\n</script>",
      "text/plain": "alt.Chart(...)"
     },
     "metadata": {}
    }
   ]
  },
  {
   "cell_type": "code",
   "metadata": {
    "cell_id": "f7ae0f1113974ce2ae0562a8a4ab9055",
    "tags": [],
    "deepnote_to_be_reexecuted": false,
    "source_hash": "d7758cc0",
    "execution_start": 1651003266006,
    "execution_millis": 0,
    "deepnote_cell_type": "code",
    "deepnote_cell_height": 76
   },
   "source": "df_datemeta = df_meta2.groupby('dateonly').mean()",
   "execution_count": null,
   "outputs": []
  },
  {
   "cell_type": "code",
   "metadata": {
    "cell_id": "ee1e86ec98464e51b8a40e38f2222631",
    "tags": [],
    "deepnote_to_be_reexecuted": false,
    "source_hash": "21803cd9",
    "execution_start": 1651003273182,
    "execution_millis": 821,
    "deepnote_table_state": {
     "pageSize": 10,
     "pageIndex": 1,
     "filters": [],
     "sortBy": []
    },
    "deepnote_table_loading": false,
    "deepnote_cell_type": "code",
    "deepnote_cell_height": 498
   },
   "source": "#Stock price data(per day)\nfrom pandas_datareader import data\n\ndf_stockmeta = data.get_data_yahoo(\"FB\",start=\"2022-04-01\",end=\"2022-04-23\")\ndf_stockmeta = df_stockmeta.rename_axis('date').reset_index()\ndf_stockmeta[\"dateonly\"] = pd.to_datetime(df_stockmeta[\"date\"]).dt.date\ndf_stockmeta",
   "execution_count": null,
   "outputs": [
    {
     "output_type": "execute_result",
     "execution_count": 10,
     "data": {
      "application/vnd.deepnote.dataframe.v3+json": {
       "column_count": 8,
       "row_count": 15,
       "columns": [
        {
         "name": "date",
         "dtype": "datetime64[ns]",
         "stats": {
          "unique_count": 15,
          "nan_count": 0,
          "min": "2022-04-01 00:00:00",
          "max": "2022-04-22 00:00:00",
          "histogram": [
           {
            "bin_start": 1648771200000000000,
            "bin_end": 1648952640000000000,
            "count": 1
           },
           {
            "bin_start": 1648952640000000000,
            "bin_end": 1649134080000000000,
            "count": 2
           },
           {
            "bin_start": 1649134080000000000,
            "bin_end": 1649315520000000000,
            "count": 2
           },
           {
            "bin_start": 1649315520000000000,
            "bin_end": 1649496960000000000,
            "count": 1
           },
           {
            "bin_start": 1649496960000000000,
            "bin_end": 1649678400000000000,
            "count": 1
           },
           {
            "bin_start": 1649678400000000000,
            "bin_end": 1649859840000000000,
            "count": 2
           },
           {
            "bin_start": 1649859840000000000,
            "bin_end": 1650041280000000000,
            "count": 1
           },
           {
            "bin_start": 1650041280000000000,
            "bin_end": 1650222720000000000,
            "count": 0
           },
           {
            "bin_start": 1650222720000000000,
            "bin_end": 1650404160000000000,
            "count": 2
           },
           {
            "bin_start": 1650404160000000000,
            "bin_end": 1650585600000000000,
            "count": 3
           }
          ]
         }
        },
        {
         "name": "High",
         "dtype": "float64",
         "stats": {
          "unique_count": 15,
          "nan_count": 0,
          "min": "192.72000122070312",
          "max": "236.86000061035156",
          "histogram": [
           {
            "bin_start": 192.72000122070312,
            "bin_end": 197.13400115966797,
            "count": 1
           },
           {
            "bin_start": 197.13400115966797,
            "bin_end": 201.54800109863282,
            "count": 0
           },
           {
            "bin_start": 201.54800109863282,
            "bin_end": 205.96200103759764,
            "count": 1
           },
           {
            "bin_start": 205.96200103759764,
            "bin_end": 210.3760009765625,
            "count": 0
           },
           {
            "bin_start": 210.3760009765625,
            "bin_end": 214.79000091552734,
            "count": 2
           },
           {
            "bin_start": 214.79000091552734,
            "bin_end": 219.2040008544922,
            "count": 3
           },
           {
            "bin_start": 219.2040008544922,
            "bin_end": 223.61800079345704,
            "count": 2
           },
           {
            "bin_start": 223.61800079345704,
            "bin_end": 228.03200073242186,
            "count": 3
           },
           {
            "bin_start": 228.03200073242186,
            "bin_end": 232.4460006713867,
            "count": 1
           },
           {
            "bin_start": 232.4460006713867,
            "bin_end": 236.86000061035156,
            "count": 2
           }
          ]
         }
        },
        {
         "name": "Low",
         "dtype": "float64",
         "stats": {
          "unique_count": 15,
          "nan_count": 0,
          "min": "183.27000427246094",
          "max": "231.02000427246094",
          "histogram": [
           {
            "bin_start": 183.27000427246094,
            "bin_end": 188.04500427246094,
            "count": 2
           },
           {
            "bin_start": 188.04500427246094,
            "bin_end": 192.82000427246095,
            "count": 0
           },
           {
            "bin_start": 192.82000427246095,
            "bin_end": 197.59500427246093,
            "count": 0
           },
           {
            "bin_start": 197.59500427246093,
            "bin_end": 202.37000427246093,
            "count": 1
           },
           {
            "bin_start": 202.37000427246093,
            "bin_end": 207.14500427246094,
            "count": 0
           },
           {
            "bin_start": 207.14500427246094,
            "bin_end": 211.92000427246094,
            "count": 4
           },
           {
            "bin_start": 211.92000427246094,
            "bin_end": 216.69500427246095,
            "count": 2
           },
           {
            "bin_start": 216.69500427246095,
            "bin_end": 221.47000427246093,
            "count": 3
           },
           {
            "bin_start": 221.47000427246093,
            "bin_end": 226.24500427246093,
            "count": 2
           },
           {
            "bin_start": 226.24500427246093,
            "bin_end": 231.02000427246094,
            "count": 1
           }
          ]
         }
        },
        {
         "name": "Open",
         "dtype": "float64",
         "stats": {
          "unique_count": 15,
          "nan_count": 0,
          "min": "190.3699951171875",
          "max": "234.0800018310547",
          "histogram": [
           {
            "bin_start": 190.3699951171875,
            "bin_end": 194.74099578857422,
            "count": 1
           },
           {
            "bin_start": 194.74099578857422,
            "bin_end": 199.11199645996095,
            "count": 0
           },
           {
            "bin_start": 199.11199645996095,
            "bin_end": 203.48299713134764,
            "count": 1
           },
           {
            "bin_start": 203.48299713134764,
            "bin_end": 207.85399780273437,
            "count": 0
           },
           {
            "bin_start": 207.85399780273437,
            "bin_end": 212.2249984741211,
            "count": 3
           },
           {
            "bin_start": 212.2249984741211,
            "bin_end": 216.59599914550782,
            "count": 2
           },
           {
            "bin_start": 216.59599914550782,
            "bin_end": 220.96699981689454,
            "count": 2
           },
           {
            "bin_start": 220.96699981689454,
            "bin_end": 225.33800048828124,
            "count": 3
           },
           {
            "bin_start": 225.33800048828124,
            "bin_end": 229.70900115966796,
            "count": 2
           },
           {
            "bin_start": 229.70900115966796,
            "bin_end": 234.0800018310547,
            "count": 1
           }
          ]
         }
        },
        {
         "name": "Close",
         "dtype": "float64",
         "stats": {
          "unique_count": 15,
          "nan_count": 0,
          "min": "184.11000061035156",
          "max": "233.88999938964844",
          "histogram": [
           {
            "bin_start": 184.11000061035156,
            "bin_end": 189.08800048828124,
            "count": 2
           },
           {
            "bin_start": 189.08800048828124,
            "bin_end": 194.06600036621094,
            "count": 0
           },
           {
            "bin_start": 194.06600036621094,
            "bin_end": 199.04400024414062,
            "count": 0
           },
           {
            "bin_start": 199.04400024414062,
            "bin_end": 204.02200012207032,
            "count": 1
           },
           {
            "bin_start": 204.02200012207032,
            "bin_end": 209,
            "count": 0
           },
           {
            "bin_start": 209,
            "bin_end": 213.97799987792968,
            "count": 2
           },
           {
            "bin_start": 213.97799987792968,
            "bin_end": 218.95599975585938,
            "count": 4
           },
           {
            "bin_start": 218.95599975585938,
            "bin_end": 223.93399963378906,
            "count": 3
           },
           {
            "bin_start": 223.93399963378906,
            "bin_end": 228.91199951171876,
            "count": 1
           },
           {
            "bin_start": 228.91199951171876,
            "bin_end": 233.88999938964844,
            "count": 2
           }
          ]
         }
        },
        {
         "name": "Volume",
         "dtype": "int64",
         "stats": {
          "unique_count": 15,
          "nan_count": 0,
          "min": "16580800",
          "max": "49954100",
          "histogram": [
           {
            "bin_start": 16580800,
            "bin_end": 19918130,
            "count": 5
           },
           {
            "bin_start": 19918130,
            "bin_end": 23255460,
            "count": 4
           },
           {
            "bin_start": 23255460,
            "bin_end": 26592790,
            "count": 0
           },
           {
            "bin_start": 26592790,
            "bin_end": 29930120,
            "count": 3
           },
           {
            "bin_start": 29930120,
            "bin_end": 33267450,
            "count": 0
           },
           {
            "bin_start": 33267450,
            "bin_end": 36604780,
            "count": 1
           },
           {
            "bin_start": 36604780,
            "bin_end": 39942110,
            "count": 0
           },
           {
            "bin_start": 39942110,
            "bin_end": 43279440,
            "count": 1
           },
           {
            "bin_start": 43279440,
            "bin_end": 46616770,
            "count": 0
           },
           {
            "bin_start": 46616770,
            "bin_end": 49954100,
            "count": 1
           }
          ]
         }
        },
        {
         "name": "Adj Close",
         "dtype": "float64",
         "stats": {
          "unique_count": 15,
          "nan_count": 0,
          "min": "184.11000061035156",
          "max": "233.88999938964844",
          "histogram": [
           {
            "bin_start": 184.11000061035156,
            "bin_end": 189.08800048828124,
            "count": 2
           },
           {
            "bin_start": 189.08800048828124,
            "bin_end": 194.06600036621094,
            "count": 0
           },
           {
            "bin_start": 194.06600036621094,
            "bin_end": 199.04400024414062,
            "count": 0
           },
           {
            "bin_start": 199.04400024414062,
            "bin_end": 204.02200012207032,
            "count": 1
           },
           {
            "bin_start": 204.02200012207032,
            "bin_end": 209,
            "count": 0
           },
           {
            "bin_start": 209,
            "bin_end": 213.97799987792968,
            "count": 2
           },
           {
            "bin_start": 213.97799987792968,
            "bin_end": 218.95599975585938,
            "count": 4
           },
           {
            "bin_start": 218.95599975585938,
            "bin_end": 223.93399963378906,
            "count": 3
           },
           {
            "bin_start": 223.93399963378906,
            "bin_end": 228.91199951171876,
            "count": 1
           },
           {
            "bin_start": 228.91199951171876,
            "bin_end": 233.88999938964844,
            "count": 2
           }
          ]
         }
        },
        {
         "name": "dateonly",
         "dtype": "object",
         "stats": {
          "unique_count": 15,
          "nan_count": 0,
          "categories": [
           {
            "name": "2022-04-01",
            "count": 1
           },
           {
            "name": "2022-04-04",
            "count": 1
           },
           {
            "name": "13 others",
            "count": 13
           }
          ]
         }
        },
        {
         "name": "_deepnote_index_column",
         "dtype": "int64"
        }
       ],
       "rows": [
        {
         "date": "2022-04-18T00:00:00.000000",
         "High": 213.3800048828125,
         "Low": 208.3000030517578,
         "Open": 210,
         "Close": 210.77000427246094,
         "Volume": 16580800,
         "Adj Close": 210.77000427246094,
         "dateonly": "2022-04-18",
         "_deepnote_index_column": 10
        },
        {
         "date": "2022-04-19T00:00:00.000000",
         "High": 218.42999267578125,
         "Low": 209,
         "Open": 210.52000427246094,
         "Close": 217.30999755859375,
         "Volume": 20089900,
         "Adj Close": 217.30999755859375,
         "dateonly": "2022-04-19",
         "_deepnote_index_column": 11
        },
        {
         "date": "2022-04-20T00:00:00.000000",
         "High": 214.16000366210938,
         "Low": 198.9199981689453,
         "Open": 213.61000061035156,
         "Close": 200.4199981689453,
         "Volume": 43036500,
         "Adj Close": 200.4199981689453,
         "dateonly": "2022-04-20",
         "_deepnote_index_column": 12
        },
        {
         "date": "2022-04-21T00:00:00.000000",
         "High": 202.97000122070312,
         "Low": 185.5800018310547,
         "Open": 201.60000610351562,
         "Close": 188.07000732421875,
         "Volume": 49954100,
         "Adj Close": 188.07000732421875,
         "dateonly": "2022-04-21",
         "_deepnote_index_column": 13
        },
        {
         "date": "2022-04-22T00:00:00.000000",
         "High": 192.72000122070312,
         "Low": 183.27000427246094,
         "Open": 190.3699951171875,
         "Close": 184.11000061035156,
         "Volume": 36374100,
         "Adj Close": 184.11000061035156,
         "dateonly": "2022-04-22",
         "_deepnote_index_column": 14
        }
       ]
      },
      "text/plain": "         date        High         Low        Open       Close    Volume  \\\n0  2022-04-01  227.279999  222.699997  224.550003  224.850006  19533300   \n1  2022-04-04  234.350006  225.860001  225.979996  233.889999  28054800   \n2  2022-04-05  236.860001  231.020004  234.080002  231.839996  29727200   \n3  2022-04-06  228.990005  221.410004  226.910004  223.300003  28995100   \n4  2022-04-07  225.520004  218.559998  223.929993  222.949997  21037200   \n5  2022-04-08  225.130005  220.029999  222.380005  222.330002  18363700   \n6  2022-04-11  220.610001  215.220001  218.419998  216.460007  20516600   \n7  2022-04-12  222.029999  213.130005  220.240005  214.139999  20128800   \n8  2022-04-13  216.610001  211.330002  211.820007  214.990005  19231800   \n9  2022-04-14  214.990005  210.000000  214.889999  210.179993  18332700   \n10 2022-04-18  213.380005  208.300003  210.000000  210.770004  16580800   \n11 2022-04-19  218.429993  209.000000  210.520004  217.309998  20089900   \n12 2022-04-20  214.160004  198.919998  213.610001  200.419998  43036500   \n13 2022-04-21  202.970001  185.580002  201.600006  188.070007  49954100   \n14 2022-04-22  192.720001  183.270004  190.369995  184.110001  36374100   \n\n     Adj Close    dateonly  \n0   224.850006  2022-04-01  \n1   233.889999  2022-04-04  \n2   231.839996  2022-04-05  \n3   223.300003  2022-04-06  \n4   222.949997  2022-04-07  \n5   222.330002  2022-04-08  \n6   216.460007  2022-04-11  \n7   214.139999  2022-04-12  \n8   214.990005  2022-04-13  \n9   210.179993  2022-04-14  \n10  210.770004  2022-04-18  \n11  217.309998  2022-04-19  \n12  200.419998  2022-04-20  \n13  188.070007  2022-04-21  \n14  184.110001  2022-04-22  ",
      "text/html": "<div>\n<style scoped>\n    .dataframe tbody tr th:only-of-type {\n        vertical-align: middle;\n    }\n\n    .dataframe tbody tr th {\n        vertical-align: top;\n    }\n\n    .dataframe thead th {\n        text-align: right;\n    }\n</style>\n<table border=\"1\" class=\"dataframe\">\n  <thead>\n    <tr style=\"text-align: right;\">\n      <th></th>\n      <th>date</th>\n      <th>High</th>\n      <th>Low</th>\n      <th>Open</th>\n      <th>Close</th>\n      <th>Volume</th>\n      <th>Adj Close</th>\n      <th>dateonly</th>\n    </tr>\n  </thead>\n  <tbody>\n    <tr>\n      <th>0</th>\n      <td>2022-04-01</td>\n      <td>227.279999</td>\n      <td>222.699997</td>\n      <td>224.550003</td>\n      <td>224.850006</td>\n      <td>19533300</td>\n      <td>224.850006</td>\n      <td>2022-04-01</td>\n    </tr>\n    <tr>\n      <th>1</th>\n      <td>2022-04-04</td>\n      <td>234.350006</td>\n      <td>225.860001</td>\n      <td>225.979996</td>\n      <td>233.889999</td>\n      <td>28054800</td>\n      <td>233.889999</td>\n      <td>2022-04-04</td>\n    </tr>\n    <tr>\n      <th>2</th>\n      <td>2022-04-05</td>\n      <td>236.860001</td>\n      <td>231.020004</td>\n      <td>234.080002</td>\n      <td>231.839996</td>\n      <td>29727200</td>\n      <td>231.839996</td>\n      <td>2022-04-05</td>\n    </tr>\n    <tr>\n      <th>3</th>\n      <td>2022-04-06</td>\n      <td>228.990005</td>\n      <td>221.410004</td>\n      <td>226.910004</td>\n      <td>223.300003</td>\n      <td>28995100</td>\n      <td>223.300003</td>\n      <td>2022-04-06</td>\n    </tr>\n    <tr>\n      <th>4</th>\n      <td>2022-04-07</td>\n      <td>225.520004</td>\n      <td>218.559998</td>\n      <td>223.929993</td>\n      <td>222.949997</td>\n      <td>21037200</td>\n      <td>222.949997</td>\n      <td>2022-04-07</td>\n    </tr>\n    <tr>\n      <th>5</th>\n      <td>2022-04-08</td>\n      <td>225.130005</td>\n      <td>220.029999</td>\n      <td>222.380005</td>\n      <td>222.330002</td>\n      <td>18363700</td>\n      <td>222.330002</td>\n      <td>2022-04-08</td>\n    </tr>\n    <tr>\n      <th>6</th>\n      <td>2022-04-11</td>\n      <td>220.610001</td>\n      <td>215.220001</td>\n      <td>218.419998</td>\n      <td>216.460007</td>\n      <td>20516600</td>\n      <td>216.460007</td>\n      <td>2022-04-11</td>\n    </tr>\n    <tr>\n      <th>7</th>\n      <td>2022-04-12</td>\n      <td>222.029999</td>\n      <td>213.130005</td>\n      <td>220.240005</td>\n      <td>214.139999</td>\n      <td>20128800</td>\n      <td>214.139999</td>\n      <td>2022-04-12</td>\n    </tr>\n    <tr>\n      <th>8</th>\n      <td>2022-04-13</td>\n      <td>216.610001</td>\n      <td>211.330002</td>\n      <td>211.820007</td>\n      <td>214.990005</td>\n      <td>19231800</td>\n      <td>214.990005</td>\n      <td>2022-04-13</td>\n    </tr>\n    <tr>\n      <th>9</th>\n      <td>2022-04-14</td>\n      <td>214.990005</td>\n      <td>210.000000</td>\n      <td>214.889999</td>\n      <td>210.179993</td>\n      <td>18332700</td>\n      <td>210.179993</td>\n      <td>2022-04-14</td>\n    </tr>\n    <tr>\n      <th>10</th>\n      <td>2022-04-18</td>\n      <td>213.380005</td>\n      <td>208.300003</td>\n      <td>210.000000</td>\n      <td>210.770004</td>\n      <td>16580800</td>\n      <td>210.770004</td>\n      <td>2022-04-18</td>\n    </tr>\n    <tr>\n      <th>11</th>\n      <td>2022-04-19</td>\n      <td>218.429993</td>\n      <td>209.000000</td>\n      <td>210.520004</td>\n      <td>217.309998</td>\n      <td>20089900</td>\n      <td>217.309998</td>\n      <td>2022-04-19</td>\n    </tr>\n    <tr>\n      <th>12</th>\n      <td>2022-04-20</td>\n      <td>214.160004</td>\n      <td>198.919998</td>\n      <td>213.610001</td>\n      <td>200.419998</td>\n      <td>43036500</td>\n      <td>200.419998</td>\n      <td>2022-04-20</td>\n    </tr>\n    <tr>\n      <th>13</th>\n      <td>2022-04-21</td>\n      <td>202.970001</td>\n      <td>185.580002</td>\n      <td>201.600006</td>\n      <td>188.070007</td>\n      <td>49954100</td>\n      <td>188.070007</td>\n      <td>2022-04-21</td>\n    </tr>\n    <tr>\n      <th>14</th>\n      <td>2022-04-22</td>\n      <td>192.720001</td>\n      <td>183.270004</td>\n      <td>190.369995</td>\n      <td>184.110001</td>\n      <td>36374100</td>\n      <td>184.110001</td>\n      <td>2022-04-22</td>\n    </tr>\n  </tbody>\n</table>\n</div>"
     },
     "metadata": {}
    }
   ]
  },
  {
   "cell_type": "code",
   "metadata": {
    "cell_id": "57d7f28d7a69481d8b718f5b4094f7cd",
    "tags": [],
    "deepnote_to_be_reexecuted": false,
    "source_hash": "87be6c4d",
    "execution_start": 1651003349708,
    "execution_millis": 89,
    "deepnote_cell_type": "code",
    "deepnote_cell_height": 608
   },
   "source": "#Conbine 2 dataframe\ndf_meta3 = pd.merge(df_datemeta,df_stockmeta,on=\"dateonly\")\ndf_meta3[\"average\"]=(df_meta3[\"High\"]+df_meta3[\"Low\"])/2\ndf_meta3",
   "execution_count": null,
   "outputs": [
    {
     "output_type": "execute_result",
     "execution_count": 11,
     "data": {
      "application/vnd.deepnote.dataframe.v3+json": {
       "column_count": 14,
       "row_count": 9,
       "columns": [
        {
         "name": "dateonly",
         "dtype": "object",
         "stats": {
          "unique_count": 9,
          "nan_count": 0,
          "categories": [
           {
            "name": "2022-04-11",
            "count": 1
           },
           {
            "name": "2022-04-12",
            "count": 1
           },
           {
            "name": "7 others",
            "count": 7
           }
          ]
         }
        },
        {
         "name": "score",
         "dtype": "float64",
         "stats": {
          "unique_count": 9,
          "nan_count": 0,
          "min": "0.1368636707208136",
          "max": "0.2703297258297259",
          "histogram": [
           {
            "bin_start": 0.1368636707208136,
            "bin_end": 0.15021027623170483,
            "count": 1
           },
           {
            "bin_start": 0.15021027623170483,
            "bin_end": 0.16355688174259606,
            "count": 1
           },
           {
            "bin_start": 0.16355688174259606,
            "bin_end": 0.1769034872534873,
            "count": 0
           },
           {
            "bin_start": 0.1769034872534873,
            "bin_end": 0.19025009276437854,
            "count": 0
           },
           {
            "bin_start": 0.19025009276437854,
            "bin_end": 0.20359669827526977,
            "count": 1
           },
           {
            "bin_start": 0.20359669827526977,
            "bin_end": 0.216943303786161,
            "count": 1
           },
           {
            "bin_start": 0.216943303786161,
            "bin_end": 0.23028990929705223,
            "count": 1
           },
           {
            "bin_start": 0.23028990929705223,
            "bin_end": 0.24363651480794346,
            "count": 1
           },
           {
            "bin_start": 0.24363651480794346,
            "bin_end": 0.2569831203188347,
            "count": 2
           },
           {
            "bin_start": 0.2569831203188347,
            "bin_end": 0.2703297258297259,
            "count": 1
           }
          ]
         }
        },
        {
         "name": "replyCount",
         "dtype": "float64",
         "stats": {
          "unique_count": 9,
          "nan_count": 0,
          "min": "1.5714285714285714",
          "max": "12.102941176470589",
          "histogram": [
           {
            "bin_start": 1.5714285714285714,
            "bin_end": 2.624579831932773,
            "count": 1
           },
           {
            "bin_start": 2.624579831932773,
            "bin_end": 3.677731092436975,
            "count": 4
           },
           {
            "bin_start": 3.677731092436975,
            "bin_end": 4.730882352941176,
            "count": 1
           },
           {
            "bin_start": 4.730882352941176,
            "bin_end": 5.784033613445378,
            "count": 1
           },
           {
            "bin_start": 5.784033613445378,
            "bin_end": 6.83718487394958,
            "count": 0
           },
           {
            "bin_start": 6.83718487394958,
            "bin_end": 7.890336134453781,
            "count": 0
           },
           {
            "bin_start": 7.890336134453781,
            "bin_end": 8.943487394957984,
            "count": 0
           },
           {
            "bin_start": 8.943487394957984,
            "bin_end": 9.996638655462185,
            "count": 1
           },
           {
            "bin_start": 9.996638655462185,
            "bin_end": 11.049789915966386,
            "count": 0
           },
           {
            "bin_start": 11.049789915966386,
            "bin_end": 12.102941176470589,
            "count": 1
           }
          ]
         }
        },
        {
         "name": "retweetCount",
         "dtype": "float64",
         "stats": {
          "unique_count": 9,
          "nan_count": 0,
          "min": "3.196261682242991",
          "max": "27.397058823529413",
          "histogram": [
           {
            "bin_start": 3.196261682242991,
            "bin_end": 5.616341396371633,
            "count": 4
           },
           {
            "bin_start": 5.616341396371633,
            "bin_end": 8.036421110500275,
            "count": 3
           },
           {
            "bin_start": 8.036421110500275,
            "bin_end": 10.456500824628918,
            "count": 0
           },
           {
            "bin_start": 10.456500824628918,
            "bin_end": 12.87658053875756,
            "count": 0
           },
           {
            "bin_start": 12.87658053875756,
            "bin_end": 15.296660252886202,
            "count": 1
           },
           {
            "bin_start": 15.296660252886202,
            "bin_end": 17.716739967014846,
            "count": 0
           },
           {
            "bin_start": 17.716739967014846,
            "bin_end": 20.136819681143486,
            "count": 0
           },
           {
            "bin_start": 20.136819681143486,
            "bin_end": 22.55689939527213,
            "count": 0
           },
           {
            "bin_start": 22.55689939527213,
            "bin_end": 24.976979109400773,
            "count": 0
           },
           {
            "bin_start": 24.976979109400773,
            "bin_end": 27.397058823529413,
            "count": 1
           }
          ]
         }
        },
        {
         "name": "likeCount",
         "dtype": "float64",
         "stats": {
          "unique_count": 9,
          "nan_count": 0,
          "min": "12.22429906542056",
          "max": "73.04",
          "histogram": [
           {
            "bin_start": 12.22429906542056,
            "bin_end": 18.305869158878505,
            "count": 4
           },
           {
            "bin_start": 18.305869158878505,
            "bin_end": 24.38743925233645,
            "count": 2
           },
           {
            "bin_start": 24.38743925233645,
            "bin_end": 30.469009345794394,
            "count": 1
           },
           {
            "bin_start": 30.469009345794394,
            "bin_end": 36.55057943925234,
            "count": 0
           },
           {
            "bin_start": 36.55057943925234,
            "bin_end": 42.63214953271029,
            "count": 1
           },
           {
            "bin_start": 42.63214953271029,
            "bin_end": 48.71371962616823,
            "count": 0
           },
           {
            "bin_start": 48.71371962616823,
            "bin_end": 54.795289719626176,
            "count": 0
           },
           {
            "bin_start": 54.795289719626176,
            "bin_end": 60.87685981308412,
            "count": 0
           },
           {
            "bin_start": 60.87685981308412,
            "bin_end": 66.95842990654205,
            "count": 0
           },
           {
            "bin_start": 66.95842990654205,
            "bin_end": 73.04,
            "count": 1
           }
          ]
         }
        },
        {
         "name": "quoteCount",
         "dtype": "float64",
         "stats": {
          "unique_count": 9,
          "nan_count": 0,
          "min": "0.580952380952381",
          "max": "8.691176470588236",
          "histogram": [
           {
            "bin_start": 0.580952380952381,
            "bin_end": 1.3919747899159665,
            "count": 6
           },
           {
            "bin_start": 1.3919747899159665,
            "bin_end": 2.202997198879552,
            "count": 2
           },
           {
            "bin_start": 2.202997198879552,
            "bin_end": 3.0140196078431374,
            "count": 0
           },
           {
            "bin_start": 3.0140196078431374,
            "bin_end": 3.825042016806723,
            "count": 0
           },
           {
            "bin_start": 3.825042016806723,
            "bin_end": 4.636064425770308,
            "count": 0
           },
           {
            "bin_start": 4.636064425770308,
            "bin_end": 5.447086834733893,
            "count": 0
           },
           {
            "bin_start": 5.447086834733893,
            "bin_end": 6.258109243697479,
            "count": 0
           },
           {
            "bin_start": 6.258109243697479,
            "bin_end": 7.069131652661064,
            "count": 0
           },
           {
            "bin_start": 7.069131652661064,
            "bin_end": 7.8801540616246495,
            "count": 0
           },
           {
            "bin_start": 7.8801540616246495,
            "bin_end": 8.691176470588236,
            "count": 1
           }
          ]
         }
        },
        {
         "name": "date",
         "dtype": "datetime64[ns]",
         "stats": {
          "unique_count": 9,
          "nan_count": 0,
          "min": "2022-04-11 00:00:00",
          "max": "2022-04-22 00:00:00",
          "histogram": [
           {
            "bin_start": 1649635200000000000,
            "bin_end": 1649730240000000000,
            "count": 2
           },
           {
            "bin_start": 1649730240000000000,
            "bin_end": 1649825280000000000,
            "count": 1
           },
           {
            "bin_start": 1649825280000000000,
            "bin_end": 1649920320000000000,
            "count": 1
           },
           {
            "bin_start": 1649920320000000000,
            "bin_end": 1650015360000000000,
            "count": 0
           },
           {
            "bin_start": 1650015360000000000,
            "bin_end": 1650110400000000000,
            "count": 0
           },
           {
            "bin_start": 1650110400000000000,
            "bin_end": 1650205440000000000,
            "count": 0
           },
           {
            "bin_start": 1650205440000000000,
            "bin_end": 1650300480000000000,
            "count": 1
           },
           {
            "bin_start": 1650300480000000000,
            "bin_end": 1650395520000000000,
            "count": 1
           },
           {
            "bin_start": 1650395520000000000,
            "bin_end": 1650490560000000000,
            "count": 1
           },
           {
            "bin_start": 1650490560000000000,
            "bin_end": 1650585600000000000,
            "count": 2
           }
          ]
         }
        },
        {
         "name": "High",
         "dtype": "float64",
         "stats": {
          "unique_count": 9,
          "nan_count": 0,
          "min": "192.72000122070312",
          "max": "222.02999877929688",
          "histogram": [
           {
            "bin_start": 192.72000122070312,
            "bin_end": 195.6510009765625,
            "count": 1
           },
           {
            "bin_start": 195.6510009765625,
            "bin_end": 198.58200073242188,
            "count": 0
           },
           {
            "bin_start": 198.58200073242188,
            "bin_end": 201.51300048828125,
            "count": 0
           },
           {
            "bin_start": 201.51300048828125,
            "bin_end": 204.44400024414062,
            "count": 1
           },
           {
            "bin_start": 204.44400024414062,
            "bin_end": 207.375,
            "count": 0
           },
           {
            "bin_start": 207.375,
            "bin_end": 210.30599975585938,
            "count": 0
           },
           {
            "bin_start": 210.30599975585938,
            "bin_end": 213.23699951171875,
            "count": 0
           },
           {
            "bin_start": 213.23699951171875,
            "bin_end": 216.16799926757812,
            "count": 3
           },
           {
            "bin_start": 216.16799926757812,
            "bin_end": 219.0989990234375,
            "count": 2
           },
           {
            "bin_start": 219.0989990234375,
            "bin_end": 222.02999877929688,
            "count": 2
           }
          ]
         }
        },
        {
         "name": "Low",
         "dtype": "float64",
         "stats": {
          "unique_count": 9,
          "nan_count": 0,
          "min": "183.27000427246094",
          "max": "215.22000122070312",
          "histogram": [
           {
            "bin_start": 183.27000427246094,
            "bin_end": 186.46500396728516,
            "count": 2
           },
           {
            "bin_start": 186.46500396728516,
            "bin_end": 189.66000366210938,
            "count": 0
           },
           {
            "bin_start": 189.66000366210938,
            "bin_end": 192.8550033569336,
            "count": 0
           },
           {
            "bin_start": 192.8550033569336,
            "bin_end": 196.0500030517578,
            "count": 0
           },
           {
            "bin_start": 196.0500030517578,
            "bin_end": 199.24500274658203,
            "count": 1
           },
           {
            "bin_start": 199.24500274658203,
            "bin_end": 202.44000244140625,
            "count": 0
           },
           {
            "bin_start": 202.44000244140625,
            "bin_end": 205.63500213623047,
            "count": 0
           },
           {
            "bin_start": 205.63500213623047,
            "bin_end": 208.8300018310547,
            "count": 1
           },
           {
            "bin_start": 208.8300018310547,
            "bin_end": 212.0250015258789,
            "count": 3
           },
           {
            "bin_start": 212.0250015258789,
            "bin_end": 215.22000122070312,
            "count": 2
           }
          ]
         }
        },
        {
         "name": "Open",
         "dtype": "float64",
         "stats": {
          "unique_count": 9,
          "nan_count": 0,
          "min": "190.3699951171875",
          "max": "220.24000549316406",
          "histogram": [
           {
            "bin_start": 190.3699951171875,
            "bin_end": 193.35699615478515,
            "count": 1
           },
           {
            "bin_start": 193.35699615478515,
            "bin_end": 196.3439971923828,
            "count": 0
           },
           {
            "bin_start": 196.3439971923828,
            "bin_end": 199.33099822998048,
            "count": 0
           },
           {
            "bin_start": 199.33099822998048,
            "bin_end": 202.31799926757813,
            "count": 1
           },
           {
            "bin_start": 202.31799926757813,
            "bin_end": 205.30500030517578,
            "count": 0
           },
           {
            "bin_start": 205.30500030517578,
            "bin_end": 208.29200134277343,
            "count": 0
           },
           {
            "bin_start": 208.29200134277343,
            "bin_end": 211.27900238037108,
            "count": 2
           },
           {
            "bin_start": 211.27900238037108,
            "bin_end": 214.26600341796876,
            "count": 2
           },
           {
            "bin_start": 214.26600341796876,
            "bin_end": 217.2530044555664,
            "count": 1
           },
           {
            "bin_start": 217.2530044555664,
            "bin_end": 220.24000549316406,
            "count": 2
           }
          ]
         }
        },
        {
         "name": "Close",
         "dtype": "float64",
         "stats": {
          "unique_count": 9,
          "nan_count": 0,
          "min": "184.11000061035156",
          "max": "217.30999755859375",
          "histogram": [
           {
            "bin_start": 184.11000061035156,
            "bin_end": 187.43000030517578,
            "count": 1
           },
           {
            "bin_start": 187.43000030517578,
            "bin_end": 190.75,
            "count": 1
           },
           {
            "bin_start": 190.75,
            "bin_end": 194.06999969482422,
            "count": 0
           },
           {
            "bin_start": 194.06999969482422,
            "bin_end": 197.38999938964844,
            "count": 0
           },
           {
            "bin_start": 197.38999938964844,
            "bin_end": 200.70999908447266,
            "count": 1
           },
           {
            "bin_start": 200.70999908447266,
            "bin_end": 204.02999877929688,
            "count": 0
           },
           {
            "bin_start": 204.02999877929688,
            "bin_end": 207.3499984741211,
            "count": 0
           },
           {
            "bin_start": 207.3499984741211,
            "bin_end": 210.6699981689453,
            "count": 1
           },
           {
            "bin_start": 210.6699981689453,
            "bin_end": 213.98999786376953,
            "count": 1
           },
           {
            "bin_start": 213.98999786376953,
            "bin_end": 217.30999755859375,
            "count": 4
           }
          ]
         }
        },
        {
         "name": "Volume",
         "dtype": "int64",
         "stats": {
          "unique_count": 9,
          "nan_count": 0,
          "min": "16580800",
          "max": "49954100",
          "histogram": [
           {
            "bin_start": 16580800,
            "bin_end": 19918130,
            "count": 3
           },
           {
            "bin_start": 19918130,
            "bin_end": 23255460,
            "count": 3
           },
           {
            "bin_start": 23255460,
            "bin_end": 26592790,
            "count": 0
           },
           {
            "bin_start": 26592790,
            "bin_end": 29930120,
            "count": 0
           },
           {
            "bin_start": 29930120,
            "bin_end": 33267450,
            "count": 0
           },
           {
            "bin_start": 33267450,
            "bin_end": 36604780,
            "count": 1
           },
           {
            "bin_start": 36604780,
            "bin_end": 39942110,
            "count": 0
           },
           {
            "bin_start": 39942110,
            "bin_end": 43279440,
            "count": 1
           },
           {
            "bin_start": 43279440,
            "bin_end": 46616770,
            "count": 0
           },
           {
            "bin_start": 46616770,
            "bin_end": 49954100,
            "count": 1
           }
          ]
         }
        },
        {
         "name": "Adj Close",
         "dtype": "float64",
         "stats": {
          "unique_count": 9,
          "nan_count": 0,
          "min": "184.11000061035156",
          "max": "217.30999755859375",
          "histogram": [
           {
            "bin_start": 184.11000061035156,
            "bin_end": 187.43000030517578,
            "count": 1
           },
           {
            "bin_start": 187.43000030517578,
            "bin_end": 190.75,
            "count": 1
           },
           {
            "bin_start": 190.75,
            "bin_end": 194.06999969482422,
            "count": 0
           },
           {
            "bin_start": 194.06999969482422,
            "bin_end": 197.38999938964844,
            "count": 0
           },
           {
            "bin_start": 197.38999938964844,
            "bin_end": 200.70999908447266,
            "count": 1
           },
           {
            "bin_start": 200.70999908447266,
            "bin_end": 204.02999877929688,
            "count": 0
           },
           {
            "bin_start": 204.02999877929688,
            "bin_end": 207.3499984741211,
            "count": 0
           },
           {
            "bin_start": 207.3499984741211,
            "bin_end": 210.6699981689453,
            "count": 1
           },
           {
            "bin_start": 210.6699981689453,
            "bin_end": 213.98999786376953,
            "count": 1
           },
           {
            "bin_start": 213.98999786376953,
            "bin_end": 217.30999755859375,
            "count": 4
           }
          ]
         }
        },
        {
         "name": "average",
         "dtype": "float64",
         "stats": {
          "unique_count": 9,
          "nan_count": 0,
          "min": "187.99500274658203",
          "max": "217.91500091552734",
          "histogram": [
           {
            "bin_start": 187.99500274658203,
            "bin_end": 190.98700256347655,
            "count": 1
           },
           {
            "bin_start": 190.98700256347655,
            "bin_end": 193.9790023803711,
            "count": 0
           },
           {
            "bin_start": 193.9790023803711,
            "bin_end": 196.97100219726562,
            "count": 1
           },
           {
            "bin_start": 196.97100219726562,
            "bin_end": 199.96300201416017,
            "count": 0
           },
           {
            "bin_start": 199.96300201416017,
            "bin_end": 202.9550018310547,
            "count": 0
           },
           {
            "bin_start": 202.9550018310547,
            "bin_end": 205.9470016479492,
            "count": 0
           },
           {
            "bin_start": 205.9470016479492,
            "bin_end": 208.93900146484376,
            "count": 1
           },
           {
            "bin_start": 208.93900146484376,
            "bin_end": 211.93100128173828,
            "count": 1
           },
           {
            "bin_start": 211.93100128173828,
            "bin_end": 214.92300109863282,
            "count": 3
           },
           {
            "bin_start": 214.92300109863282,
            "bin_end": 217.91500091552734,
            "count": 2
           }
          ]
         }
        },
        {
         "name": "_deepnote_index_column",
         "dtype": "int64"
        }
       ],
       "rows": [
        {
         "dateonly": "2022-04-11",
         "score": 0.24908486121721427,
         "replyCount": 12.102941176470589,
         "retweetCount": 27.397058823529413,
         "likeCount": 37,
         "quoteCount": 8.691176470588236,
         "date": "2022-04-11T00:00:00.000000",
         "High": 220.61000061035156,
         "Low": 215.22000122070312,
         "Open": 218.4199981689453,
         "Close": 216.4600067138672,
         "Volume": 20516600,
         "Adj Close": 216.4600067138672,
         "average": 217.91500091552734,
         "_deepnote_index_column": 0
        },
        {
         "dateonly": "2022-04-12",
         "score": 0.1592400386351999,
         "replyCount": 3.661290322580645,
         "retweetCount": 6.806451612903226,
         "likeCount": 29.048387096774192,
         "quoteCount": 0.9354838709677419,
         "date": "2022-04-12T00:00:00.000000",
         "High": 222.02999877929688,
         "Low": 213.1300048828125,
         "Open": 220.24000549316406,
         "Close": 214.13999938964844,
         "Volume": 20128800,
         "Adj Close": 214.13999938964844,
         "average": 217.5800018310547,
         "_deepnote_index_column": 1
        },
        {
         "dateonly": "2022-04-13",
         "score": 0.1368636707208136,
         "replyCount": 3.019047619047619,
         "retweetCount": 4.514285714285714,
         "likeCount": 12.371428571428572,
         "quoteCount": 0.580952380952381,
         "date": "2022-04-13T00:00:00.000000",
         "High": 216.61000061035156,
         "Low": 211.3300018310547,
         "Open": 211.82000732421875,
         "Close": 214.99000549316406,
         "Volume": 19231800,
         "Adj Close": 214.99000549316406,
         "average": 213.97000122070312,
         "_deepnote_index_column": 2
        },
        {
         "dateonly": "2022-04-14",
         "score": 0.19250836131677257,
         "replyCount": 2.7476635514018692,
         "retweetCount": 3.196261682242991,
         "likeCount": 12.22429906542056,
         "quoteCount": 1.102803738317757,
         "date": "2022-04-14T00:00:00.000000",
         "High": 214.99000549316406,
         "Low": 210,
         "Open": 214.88999938964844,
         "Close": 210.17999267578125,
         "Volume": 18332700,
         "Adj Close": 210.17999267578125,
         "average": 212.49500274658203,
         "_deepnote_index_column": 3
        },
        {
         "dateonly": "2022-04-18",
         "score": 0.2703297258297259,
         "replyCount": 9.92,
         "retweetCount": 14.16,
         "likeCount": 73.04,
         "quoteCount": 1.42,
         "date": "2022-04-18T00:00:00.000000",
         "High": 213.3800048828125,
         "Low": 208.3000030517578,
         "Open": 210,
         "Close": 210.77000427246094,
         "Volume": 16580800,
         "Adj Close": 210.77000427246094,
         "average": 210.84000396728516,
         "_deepnote_index_column": 4
        },
        {
         "dateonly": "2022-04-19",
         "score": 0.22418686868686868,
         "replyCount": 5.214285714285714,
         "retweetCount": 5.985714285714286,
         "likeCount": 17.071428571428573,
         "quoteCount": 1.1571428571428573,
         "date": "2022-04-19T00:00:00.000000",
         "High": 218.42999267578125,
         "Low": 209,
         "Open": 210.52000427246094,
         "Close": 217.30999755859375,
         "Volume": 20089900,
         "Adj Close": 217.30999755859375,
         "average": 213.71499633789062,
         "_deepnote_index_column": 5
        },
        {
         "dateonly": "2022-04-20",
         "score": 0.23932524221809942,
         "replyCount": 1.5714285714285714,
         "retweetCount": 4.0285714285714285,
         "likeCount": 18.457142857142856,
         "quoteCount": 0.8714285714285714,
         "date": "2022-04-20T00:00:00.000000",
         "High": 214.16000366210938,
         "Low": 198.9199981689453,
         "Open": 213.61000061035156,
         "Close": 200.4199981689453,
         "Volume": 43036500,
         "Adj Close": 200.4199981689453,
         "average": 206.54000091552734,
         "_deepnote_index_column": 6
        },
        {
         "dateonly": "2022-04-21",
         "score": 0.24666600212652848,
         "replyCount": 3.4078947368421053,
         "retweetCount": 3.8157894736842106,
         "likeCount": 16,
         "quoteCount": 0.9473684210526315,
         "date": "2022-04-21T00:00:00.000000",
         "High": 202.97000122070312,
         "Low": 185.5800018310547,
         "Open": 201.60000610351562,
         "Close": 188.07000732421875,
         "Volume": 49954100,
         "Adj Close": 188.07000732421875,
         "average": 194.2750015258789,
         "_deepnote_index_column": 7
        },
        {
         "dateonly": "2022-04-22",
         "score": 0.21379769158981113,
         "replyCount": 3.9347826086956523,
         "retweetCount": 6.913043478260869,
         "likeCount": 19.358695652173914,
         "quoteCount": 1.4130434782608696,
         "date": "2022-04-22T00:00:00.000000",
         "High": 192.72000122070312,
         "Low": 183.27000427246094,
         "Open": 190.3699951171875,
         "Close": 184.11000061035156,
         "Volume": 36374100,
         "Adj Close": 184.11000061035156,
         "average": 187.99500274658203,
         "_deepnote_index_column": 8
        }
       ]
      },
      "text/plain": "     dateonly     score  replyCount  retweetCount  likeCount  quoteCount  \\\n0  2022-04-11  0.249085   12.102941     27.397059  37.000000    8.691176   \n1  2022-04-12  0.159240    3.661290      6.806452  29.048387    0.935484   \n2  2022-04-13  0.136864    3.019048      4.514286  12.371429    0.580952   \n3  2022-04-14  0.192508    2.747664      3.196262  12.224299    1.102804   \n4  2022-04-18  0.270330    9.920000     14.160000  73.040000    1.420000   \n5  2022-04-19  0.224187    5.214286      5.985714  17.071429    1.157143   \n6  2022-04-20  0.239325    1.571429      4.028571  18.457143    0.871429   \n7  2022-04-21  0.246666    3.407895      3.815789  16.000000    0.947368   \n8  2022-04-22  0.213798    3.934783      6.913043  19.358696    1.413043   \n\n        date        High         Low        Open       Close    Volume  \\\n0 2022-04-11  220.610001  215.220001  218.419998  216.460007  20516600   \n1 2022-04-12  222.029999  213.130005  220.240005  214.139999  20128800   \n2 2022-04-13  216.610001  211.330002  211.820007  214.990005  19231800   \n3 2022-04-14  214.990005  210.000000  214.889999  210.179993  18332700   \n4 2022-04-18  213.380005  208.300003  210.000000  210.770004  16580800   \n5 2022-04-19  218.429993  209.000000  210.520004  217.309998  20089900   \n6 2022-04-20  214.160004  198.919998  213.610001  200.419998  43036500   \n7 2022-04-21  202.970001  185.580002  201.600006  188.070007  49954100   \n8 2022-04-22  192.720001  183.270004  190.369995  184.110001  36374100   \n\n    Adj Close     average  \n0  216.460007  217.915001  \n1  214.139999  217.580002  \n2  214.990005  213.970001  \n3  210.179993  212.495003  \n4  210.770004  210.840004  \n5  217.309998  213.714996  \n6  200.419998  206.540001  \n7  188.070007  194.275002  \n8  184.110001  187.995003  ",
      "text/html": "<div>\n<style scoped>\n    .dataframe tbody tr th:only-of-type {\n        vertical-align: middle;\n    }\n\n    .dataframe tbody tr th {\n        vertical-align: top;\n    }\n\n    .dataframe thead th {\n        text-align: right;\n    }\n</style>\n<table border=\"1\" class=\"dataframe\">\n  <thead>\n    <tr style=\"text-align: right;\">\n      <th></th>\n      <th>dateonly</th>\n      <th>score</th>\n      <th>replyCount</th>\n      <th>retweetCount</th>\n      <th>likeCount</th>\n      <th>quoteCount</th>\n      <th>date</th>\n      <th>High</th>\n      <th>Low</th>\n      <th>Open</th>\n      <th>Close</th>\n      <th>Volume</th>\n      <th>Adj Close</th>\n      <th>average</th>\n    </tr>\n  </thead>\n  <tbody>\n    <tr>\n      <th>0</th>\n      <td>2022-04-11</td>\n      <td>0.249085</td>\n      <td>12.102941</td>\n      <td>27.397059</td>\n      <td>37.000000</td>\n      <td>8.691176</td>\n      <td>2022-04-11</td>\n      <td>220.610001</td>\n      <td>215.220001</td>\n      <td>218.419998</td>\n      <td>216.460007</td>\n      <td>20516600</td>\n      <td>216.460007</td>\n      <td>217.915001</td>\n    </tr>\n    <tr>\n      <th>1</th>\n      <td>2022-04-12</td>\n      <td>0.159240</td>\n      <td>3.661290</td>\n      <td>6.806452</td>\n      <td>29.048387</td>\n      <td>0.935484</td>\n      <td>2022-04-12</td>\n      <td>222.029999</td>\n      <td>213.130005</td>\n      <td>220.240005</td>\n      <td>214.139999</td>\n      <td>20128800</td>\n      <td>214.139999</td>\n      <td>217.580002</td>\n    </tr>\n    <tr>\n      <th>2</th>\n      <td>2022-04-13</td>\n      <td>0.136864</td>\n      <td>3.019048</td>\n      <td>4.514286</td>\n      <td>12.371429</td>\n      <td>0.580952</td>\n      <td>2022-04-13</td>\n      <td>216.610001</td>\n      <td>211.330002</td>\n      <td>211.820007</td>\n      <td>214.990005</td>\n      <td>19231800</td>\n      <td>214.990005</td>\n      <td>213.970001</td>\n    </tr>\n    <tr>\n      <th>3</th>\n      <td>2022-04-14</td>\n      <td>0.192508</td>\n      <td>2.747664</td>\n      <td>3.196262</td>\n      <td>12.224299</td>\n      <td>1.102804</td>\n      <td>2022-04-14</td>\n      <td>214.990005</td>\n      <td>210.000000</td>\n      <td>214.889999</td>\n      <td>210.179993</td>\n      <td>18332700</td>\n      <td>210.179993</td>\n      <td>212.495003</td>\n    </tr>\n    <tr>\n      <th>4</th>\n      <td>2022-04-18</td>\n      <td>0.270330</td>\n      <td>9.920000</td>\n      <td>14.160000</td>\n      <td>73.040000</td>\n      <td>1.420000</td>\n      <td>2022-04-18</td>\n      <td>213.380005</td>\n      <td>208.300003</td>\n      <td>210.000000</td>\n      <td>210.770004</td>\n      <td>16580800</td>\n      <td>210.770004</td>\n      <td>210.840004</td>\n    </tr>\n    <tr>\n      <th>5</th>\n      <td>2022-04-19</td>\n      <td>0.224187</td>\n      <td>5.214286</td>\n      <td>5.985714</td>\n      <td>17.071429</td>\n      <td>1.157143</td>\n      <td>2022-04-19</td>\n      <td>218.429993</td>\n      <td>209.000000</td>\n      <td>210.520004</td>\n      <td>217.309998</td>\n      <td>20089900</td>\n      <td>217.309998</td>\n      <td>213.714996</td>\n    </tr>\n    <tr>\n      <th>6</th>\n      <td>2022-04-20</td>\n      <td>0.239325</td>\n      <td>1.571429</td>\n      <td>4.028571</td>\n      <td>18.457143</td>\n      <td>0.871429</td>\n      <td>2022-04-20</td>\n      <td>214.160004</td>\n      <td>198.919998</td>\n      <td>213.610001</td>\n      <td>200.419998</td>\n      <td>43036500</td>\n      <td>200.419998</td>\n      <td>206.540001</td>\n    </tr>\n    <tr>\n      <th>7</th>\n      <td>2022-04-21</td>\n      <td>0.246666</td>\n      <td>3.407895</td>\n      <td>3.815789</td>\n      <td>16.000000</td>\n      <td>0.947368</td>\n      <td>2022-04-21</td>\n      <td>202.970001</td>\n      <td>185.580002</td>\n      <td>201.600006</td>\n      <td>188.070007</td>\n      <td>49954100</td>\n      <td>188.070007</td>\n      <td>194.275002</td>\n    </tr>\n    <tr>\n      <th>8</th>\n      <td>2022-04-22</td>\n      <td>0.213798</td>\n      <td>3.934783</td>\n      <td>6.913043</td>\n      <td>19.358696</td>\n      <td>1.413043</td>\n      <td>2022-04-22</td>\n      <td>192.720001</td>\n      <td>183.270004</td>\n      <td>190.369995</td>\n      <td>184.110001</td>\n      <td>36374100</td>\n      <td>184.110001</td>\n      <td>187.995003</td>\n    </tr>\n  </tbody>\n</table>\n</div>"
     },
     "metadata": {}
    }
   ]
  },
  {
   "cell_type": "code",
   "metadata": {
    "cell_id": "e4886081c61148719b2e98a4ea7676d9",
    "tags": [],
    "deepnote_to_be_reexecuted": false,
    "source_hash": "ce79ff06",
    "execution_start": 1651006656938,
    "execution_millis": 453,
    "deepnote_cell_type": "code",
    "deepnote_cell_height": 760,
    "deepnote_output_heights": [
     null,
     400
    ]
   },
   "source": "#Draw line graph with 2 y axes\nfig,ax1=plt.subplots(figsize=(16,8))\nax2=plt.twinx(ax1)\n\nax1.plot(df_meta3[\"dateonly\"],df_meta3['score'],label='sentiment score', color='orange',marker='^')\nax2.plot(df_meta3[\"dateonly\"],df_meta3['High'],label='Highest stock price', color='blue', marker='^')\n\n\nplt.grid()\nhandler1, label1 = ax1.get_legend_handles_labels()\nhandler2, label2 = ax2.get_legend_handles_labels()\nax1.legend(handler1 + handler2, label1 + label2)\n",
   "execution_count": null,
   "outputs": [
    {
     "output_type": "execute_result",
     "execution_count": 25,
     "data": {
      "text/plain": "<matplotlib.legend.Legend at 0x7f5dfbe62d90>"
     },
     "metadata": {}
    },
    {
     "data": {
      "text/plain": "<Figure size 1152x576 with 2 Axes>",
      "image/png": "[encoded data removed]"
     },
     "metadata": {
      "image/png": {
       "width": 1081,
       "height": 498
      }
     },
     "output_type": "display_data"
    }
   ]
  },
  {
   "cell_type": "code",
   "metadata": {
    "cell_id": "56b52b51f37746bea786a5aaf1d6e100",
    "tags": [],
    "deepnote_to_be_reexecuted": false,
    "source_hash": "2630239c",
    "allow_embed": false,
    "execution_start": 1651006667217,
    "execution_millis": 763,
    "owner_user_id": "10f995c7-1888-48bc-b018-86b92ad2eda0",
    "deepnote_cell_type": "code",
    "deepnote_cell_height": 760,
    "deepnote_output_heights": [
     null,
     400
    ]
   },
   "source": "#Draw line graph with 2 y axes\nfig,ax1=plt.subplots(figsize=(16,8))\nax2=plt.twinx(ax1)\n\nax1.plot(df_meta3[\"dateonly\"],df_meta3['score'],label='sentiment score', color='orange',marker='^')\nax2.plot(df_meta3[\"dateonly\"],df_meta3['average'],label='Average stock price', color='blue', marker='^')\n\n\nplt.grid()\nhandler1, label1 = ax1.get_legend_handles_labels()\nhandler2, label2 = ax2.get_legend_handles_labels()\nax1.legend(handler1 + handler2, label1 + label2)\n",
   "execution_count": null,
   "outputs": [
    {
     "output_type": "execute_result",
     "execution_count": 26,
     "data": {
      "text/plain": "<matplotlib.legend.Legend at 0x7f5dfbe2eeb0>"
     },
     "metadata": {}
    },
    {
     "data": {
      "text/plain": "<Figure size 1152x576 with 2 Axes>",
      "image/png": "[encoded data removed]"
     },
     "metadata": {
      "image/png": {
       "width": 1081,
       "height": 498
      }
     },
     "output_type": "display_data"
    }
   ]
  },
  {
   "cell_type": "code",
   "metadata": {
    "cell_id": "ecd1c03d15444ce9975d7c86602f96ca",
    "tags": [],
    "deepnote_to_be_reexecuted": false,
    "source_hash": "5bcdc658",
    "execution_start": 1650789556726,
    "execution_millis": 128,
    "deepnote_cell_type": "code",
    "deepnote_cell_height": 94
   },
   "source": "#save the graph as png file\nfig.savefig(\"meta.png\")",
   "execution_count": null,
   "outputs": []
  },
  {
   "cell_type": "markdown",
   "source": "<a style='text-decoration:none;line-height:16px;display:flex;color:#5B5B62;padding:10px;justify-content:end;' href='https://deepnote.com?utm_source=created-in-deepnote-cell&projectId=bc974696-5c14-40f5-86a4-29ffa8a96f2c' target=\"_blank\">\n<img alt='Created in deepnote.com' style='display:inline;max-height:16px;margin:0px;margin-right:7.5px;' src='data:image/svg+xml;base64,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' > </img>\nCreated in <span style='font-weight:600;margin-left:4px;'>Deepnote</span></a>",
   "metadata": {
    "tags": [],
    "created_in_deepnote_cell": true,
    "deepnote_cell_type": "markdown"
   }
  }
 ],
 "nbformat": 4,
 "nbformat_minor": 2,
 "metadata": {
  "orig_nbformat": 2,
  "deepnote": {
   "is_reactive": false
  },
  "deepnote_notebook_id": "128d22b1-a496-4b90-91e0-42171b2671e9",
  "deepnote_execution_queue": []
 }
}