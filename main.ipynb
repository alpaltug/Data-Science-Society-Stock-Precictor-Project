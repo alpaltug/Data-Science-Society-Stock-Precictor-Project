{
 "cells": [
  {
   "cell_type": "code",
   "metadata": {
    "tags": [],
    "cell_id": "799a6e65-36e2-445e-94af-4f9ab4d97115",
    "deepnote_to_be_reexecuted": false,
    "source_hash": "3cbd734a",
    "execution_start": 1659559232708,
    "execution_millis": 9566,
    "deepnote_cell_type": "code",
    "deepnote_cell_height": 1160
   },
   "source": "import pandas as pd\nimport json\nfrom textblob import TextBlob\nimport nltk\nnltk.download('punkt')\nfrom nltk.corpus import stopwords\nfrom nltk.tokenize import word_tokenize\n\n\nimport numpy as np\nimport pandas as pd\nimport seaborn as sns\nimport matplotlib\nimport matplotlib.ticker as ticker\nfrom matplotlib import pyplot as plt\nimport datetime\n \n\nimport numpy as np\nfrom datascience import *\n\n# These lines do some fancy plotting magic.\nimport matplotlib\n%matplotlib inline\nimport matplotlib.pyplot as plots\nplots.style.use('fivethirtyeight')\nimport warnings\nwarnings.simplefilter('ignore', FutureWarning)\n\n! pip install -U textblob\n! python -m textblob.download_corpora\n\n",
   "execution_count": 1,
   "outputs": [
    {
     "name": "stderr",
     "text": "[nltk_data] Downloading package punkt to /root/nltk_data...\n[nltk_data]   Unzipping tokenizers/punkt.zip.\nRequirement already satisfied: textblob in /shared-libs/python3.9/py/lib/python3.9/site-packages (0.17.1)\nRequirement already satisfied: nltk>=3.1 in /shared-libs/python3.9/py/lib/python3.9/site-packages (from textblob) (3.7)\nRequirement already satisfied: tqdm in /shared-libs/python3.9/py/lib/python3.9/site-packages (from nltk>=3.1->textblob) (4.64.0)\nRequirement already satisfied: click in /shared-libs/python3.9/py/lib/python3.9/site-packages (from nltk>=3.1->textblob) (8.1.3)\nRequirement already satisfied: joblib in /shared-libs/python3.9/py/lib/python3.9/site-packages (from nltk>=3.1->textblob) (1.1.0)\nRequirement already satisfied: regex>=2021.8.3 in /shared-libs/python3.9/py/lib/python3.9/site-packages (from nltk>=3.1->textblob) (2022.7.25)\n\u001b[33mWARNING: You are using pip version 22.0.4; however, version 22.2.2 is available.\nYou should consider upgrading via the '/root/venv/bin/python -m pip install --upgrade pip' command.\u001b[0m\u001b[33m\n\u001b[0m[nltk_data] Downloading package brown to /root/nltk_data...\n[nltk_data]   Unzipping corpora/brown.zip.\n[nltk_data] Downloading package punkt to /root/nltk_data...\n[nltk_data]   Package punkt is already up-to-date!\n[nltk_data] Downloading package wordnet to /root/nltk_data...\n[nltk_data] Downloading package averaged_perceptron_tagger to\n[nltk_data]     /root/nltk_data...\n[nltk_data]   Unzipping taggers/averaged_perceptron_tagger.zip.\n[nltk_data] Downloading package conll2000 to /root/nltk_data...\n[nltk_data]   Unzipping corpora/conll2000.zip.\n[nltk_data] Downloading package movie_reviews to /root/nltk_data...\n[nltk_data]   Unzipping corpora/movie_reviews.zip.\nFinished.\n",
     "output_type": "stream"
    }
   ]
  },
  {
   "cell_type": "code",
   "metadata": {
    "cell_id": "7cb03f4fa6244ef287648b2d4bef94a4",
    "tags": [],
    "deepnote_to_be_reexecuted": false,
    "source_hash": "368c58d0",
    "execution_start": 1659559242275,
    "execution_millis": 203,
    "deepnote_cell_type": "code",
    "deepnote_cell_height": 803
   },
   "source": "list_meta = []\nprint(\"Started Reading JSON file which contains multiple JSON document\")\nwith open('/work/data/meta.txt') as f:\n    for jsonObj in f:\n        tweet = json.loads(jsonObj)\n        list_meta.append(tweet)\n\ndf_meta = pd.DataFrame(list_meta)\ndf_meta = df_meta[df_meta['lang'] == 'en']\ndf_meta",
   "execution_count": 2,
   "outputs": [
    {
     "name": "stdout",
     "text": "Started Reading JSON file which contains multiple JSON document\n",
     "output_type": "stream"
    },
    {
     "output_type": "execute_result",
     "execution_count": 2,
     "data": {
      "application/vnd.deepnote.dataframe.v3+json": {
       "column_count": 28,
       "row_count": 588,
       "columns": [
        {
         "name": "_type",
         "dtype": "object",
         "stats": {
          "unique_count": 1,
          "nan_count": 0,
          "categories": [
           {
            "name": "snscrape.modules.twitter.Tweet",
            "count": 588
           }
          ]
         }
        },
        {
         "name": "url",
         "dtype": "object",
         "stats": {
          "unique_count": 588,
          "nan_count": 0,
          "categories": [
           {
            "name": "https://twitter.com/sayurmayur795/status/1503942672326672388",
            "count": 1
           },
           {
            "name": "https://twitter.com/MdNurHabib6/status/1503942410292043777",
            "count": 1
           },
           {
            "name": "586 others",
            "count": 586
           }
          ]
         }
        },
        {
         "name": "date",
         "dtype": "object",
         "stats": {
          "unique_count": 543,
          "nan_count": 0,
          "categories": [
           {
            "name": "2022-03-15T14:47:28+00:00",
            "count": 16
           },
           {
            "name": "2022-03-15T14:50:02+00:00",
            "count": 9
           },
           {
            "name": "541 others",
            "count": 563
           }
          ]
         }
        },
        {
         "name": "content",
         "dtype": "object",
         "stats": {
          "unique_count": 580,
          "nan_count": 0,
          "categories": [
           {
            "name": "@SonicForces365 It's a very wonderful project !!!! I feel avant-garde and sharpened sensibility!!!! I'm so happy if you give me this one i'm very very thankyou\n\n@Elahe_abedi1296\n \n@NavidM1\n \n@nima1908\n\n#meta #gamefi #Sonic",
            "count": 4
           },
           {
            "name": "Who ever told you your Hacked Facebook, WhatsApp, Twitter, Instagram, Snapchat, Tiktok etc \nIs Gone is a lier\nI'm Available for Hacking services 24/7\n#instagram #Facebook #Meta #snapchatdown #SpotifyDown #fypシ",
            "count": 2
           },
           {
            "name": "578 others",
            "count": 582
           }
          ]
         }
        },
        {
         "name": "renderedContent",
         "dtype": "object",
         "stats": {
          "unique_count": 541,
          "nan_count": 0,
          "categories": [
           {
            "name": "Have you had an email from Facebook asking you switch on extra security? It’s called Facebook Protect, and they’re enabling it for people in the “public eye”. Is that you? #Facebook #FacebookProtect #Meta theverge.com/22965320/faceb…",
            "count": 27
           },
           {
            "name": "#SouthAfrica regulator refers #Meta to #tribunal over #dominance - #africa #tech #platform #GovChat furtherafrica.com/2022/03/16/sou…",
            "count": 11
           },
           {
            "name": "539 others",
            "count": 550
           }
          ]
         }
        },
        {
         "name": "id",
         "dtype": "int64",
         "stats": {
          "unique_count": 588,
          "nan_count": 0,
          "min": "1503722824556773376",
          "max": "1503942672326672388",
          "histogram": [
           {
            "bin_start": 1503722824556773400,
            "bin_end": 1503744809333763300,
            "count": 76
           },
           {
            "bin_start": 1503744809333763300,
            "bin_end": 1503766794110753300,
            "count": 90
           },
           {
            "bin_start": 1503766794110753300,
            "bin_end": 1503788778887743000,
            "count": 57
           },
           {
            "bin_start": 1503788778887743000,
            "bin_end": 1503810763664733000,
            "count": 61
           },
           {
            "bin_start": 1503810763664733000,
            "bin_end": 1503832748441723000,
            "count": 54
           },
           {
            "bin_start": 1503832748441723000,
            "bin_end": 1503854733218712800,
            "count": 59
           },
           {
            "bin_start": 1503854733218712800,
            "bin_end": 1503876717995702800,
            "count": 35
           },
           {
            "bin_start": 1503876717995702800,
            "bin_end": 1503898702772692500,
            "count": 43
           },
           {
            "bin_start": 1503898702772692500,
            "bin_end": 1503920687549682400,
            "count": 65
           },
           {
            "bin_start": 1503920687549682400,
            "bin_end": 1503942672326672400,
            "count": 48
           }
          ]
         }
        },
        {
         "name": "user",
         "dtype": "object",
         "stats": {
          "unique_count": 588,
          "nan_count": 0,
          "categories": [
           {
            "name": "{'_type': 'snscrape.modules.twitter.User', 'username': 'additionalrules', 'id': 1181590684362395650, 'displayname': 'crypto&NFT&Metaverse news', 'description': 'fly me to the moon!!! #crypto #暗号資産 #가상통화 #NFT #自動配信 #followme #BTC #Metaverse', 'rawDescription': 'fly me to the moon!!! #crypto #暗号資産 #가상통화 #NFT #自動配信 #followme #BTC #Metaverse', 'descriptionUrls': None, 'verified': False, 'created': '2019-10-08T15:22:45+00:00', 'followersCount': 805, 'friendsCount': 10, 'statusesCount': 23138, 'favouritesCount': 117, 'listedCount': 8, 'mediaCount': 2, 'location': 'MOON', 'protected': False, 'linkUrl': None, 'linkTcourl': None, 'profileImageUrl': 'https://pbs.twimg.com/profile_images/1481330337733279745/C_kVERrC_normal.jpg', 'profileBannerUrl': 'https://pbs.twimg.com/profile_banners/1181590684362395650/1642011584', 'label': None, 'url': 'https://twitter.com/additionalrules'}",
            "count": 45
           },
           {
            "name": "{'_type': 'snscrape.modules.twitter.User', 'username': 'nfteventz', 'id': 157389279, 'displayname': 'NFT Events', 'description': 'NFT and Events. Welcome to the future.', 'rawDescription': 'NFT and Events. Welcome to the future.', 'descriptionUrls': None, 'verified': False, 'created': '2010-06-19T17:19:37+00:00', 'followersCount': 4949, 'friendsCount': 128, 'statusesCount': 1280, 'favouritesCount': 282, 'listedCount': 23, 'mediaCount': 187, 'location': 'Port Orange, FL', 'protected': False, 'linkUrl': 'https://nfteventz.com', 'linkTcourl': 'https://t.co/LiqAKJgHRH', 'profileImageUrl': 'https://pbs.twimg.com/profile_images/1473082198462980107/rDtyvbdn_normal.jpg', 'profileBannerUrl': 'https://pbs.twimg.com/profile_banners/157389279/1639311895', 'label': None, 'url': 'https://twitter.com/nfteventz'}",
            "count": 17
           },
           {
            "name": "444 others",
            "count": 526
           }
          ]
         }
        },
        {
         "name": "replyCount",
         "dtype": "int64",
         "stats": {
          "unique_count": 11,
          "nan_count": 0,
          "min": "0",
          "max": "20",
          "histogram": [
           {
            "bin_start": 0,
            "bin_end": 2,
            "count": 554
           },
           {
            "bin_start": 2,
            "bin_end": 4,
            "count": 26
           },
           {
            "bin_start": 4,
            "bin_end": 6,
            "count": 2
           },
           {
            "bin_start": 6,
            "bin_end": 8,
            "count": 3
           },
           {
            "bin_start": 8,
            "bin_end": 10,
            "count": 0
           },
           {
            "bin_start": 10,
            "bin_end": 12,
            "count": 1
           },
           {
            "bin_start": 12,
            "bin_end": 14,
            "count": 0
           },
           {
            "bin_start": 14,
            "bin_end": 16,
            "count": 1
           },
           {
            "bin_start": 16,
            "bin_end": 18,
            "count": 0
           },
           {
            "bin_start": 18,
            "bin_end": 20,
            "count": 1
           }
          ]
         }
        },
        {
         "name": "retweetCount",
         "dtype": "int64",
         "stats": {
          "unique_count": 14,
          "nan_count": 0,
          "min": "0",
          "max": "32",
          "histogram": [
           {
            "bin_start": 0,
            "bin_end": 3.2,
            "count": 575
           },
           {
            "bin_start": 3.2,
            "bin_end": 6.4,
            "count": 5
           },
           {
            "bin_start": 6.4,
            "bin_end": 9.600000000000001,
            "count": 2
           },
           {
            "bin_start": 9.600000000000001,
            "bin_end": 12.8,
            "count": 2
           },
           {
            "bin_start": 12.8,
            "bin_end": 16,
            "count": 1
           },
           {
            "bin_start": 16,
            "bin_end": 19.200000000000003,
            "count": 0
           },
           {
            "bin_start": 19.200000000000003,
            "bin_end": 22.400000000000002,
            "count": 1
           },
           {
            "bin_start": 22.400000000000002,
            "bin_end": 25.6,
            "count": 0
           },
           {
            "bin_start": 25.6,
            "bin_end": 28.8,
            "count": 1
           },
           {
            "bin_start": 28.8,
            "bin_end": 32,
            "count": 1
           }
          ]
         }
        },
        {
         "name": "likeCount",
         "dtype": "int64",
         "stats": {
          "unique_count": 24,
          "nan_count": 0,
          "min": "0",
          "max": "94",
          "histogram": [
           {
            "bin_start": 0,
            "bin_end": 9.4,
            "count": 565
           },
           {
            "bin_start": 9.4,
            "bin_end": 18.8,
            "count": 15
           },
           {
            "bin_start": 18.8,
            "bin_end": 28.200000000000003,
            "count": 2
           },
           {
            "bin_start": 28.200000000000003,
            "bin_end": 37.6,
            "count": 2
           },
           {
            "bin_start": 37.6,
            "bin_end": 47,
            "count": 0
           },
           {
            "bin_start": 47,
            "bin_end": 56.400000000000006,
            "count": 2
           },
           {
            "bin_start": 56.400000000000006,
            "bin_end": 65.8,
            "count": 0
           },
           {
            "bin_start": 65.8,
            "bin_end": 75.2,
            "count": 1
           },
           {
            "bin_start": 75.2,
            "bin_end": 84.60000000000001,
            "count": 0
           },
           {
            "bin_start": 84.60000000000001,
            "bin_end": 94,
            "count": 1
           }
          ]
         }
        },
        {
         "name": "quoteCount",
         "dtype": "int64",
         "stats": {
          "unique_count": 7,
          "nan_count": 0,
          "min": "0",
          "max": "6",
          "histogram": [
           {
            "bin_start": 0,
            "bin_end": 0.6,
            "count": 468
           },
           {
            "bin_start": 0.6,
            "bin_end": 1.2,
            "count": 86
           },
           {
            "bin_start": 1.2,
            "bin_end": 1.7999999999999998,
            "count": 0
           },
           {
            "bin_start": 1.7999999999999998,
            "bin_end": 2.4,
            "count": 18
           },
           {
            "bin_start": 2.4,
            "bin_end": 3,
            "count": 0
           },
           {
            "bin_start": 3,
            "bin_end": 3.5999999999999996,
            "count": 10
           },
           {
            "bin_start": 3.5999999999999996,
            "bin_end": 4.2,
            "count": 4
           },
           {
            "bin_start": 4.2,
            "bin_end": 4.8,
            "count": 0
           },
           {
            "bin_start": 4.8,
            "bin_end": 5.3999999999999995,
            "count": 1
           },
           {
            "bin_start": 5.3999999999999995,
            "bin_end": 6,
            "count": 1
           }
          ]
         }
        },
        {
         "name": "conversationId",
         "dtype": "int64",
         "stats": {
          "unique_count": 472,
          "nan_count": 0,
          "min": "1499892001344421888",
          "max": "1503941507266531329",
          "histogram": [
           {
            "bin_start": 1499892001344422000,
            "bin_end": 1500296951936632800,
            "count": 1
           },
           {
            "bin_start": 1500296951936632800,
            "bin_end": 1500701902528843800,
            "count": 0
           },
           {
            "bin_start": 1500701902528843800,
            "bin_end": 1501106853121054700,
            "count": 1
           },
           {
            "bin_start": 1501106853121054700,
            "bin_end": 1501511803713265700,
            "count": 0
           },
           {
            "bin_start": 1501511803713265700,
            "bin_end": 1501916754305476600,
            "count": 1
           },
           {
            "bin_start": 1501916754305476600,
            "bin_end": 1502321704897687600,
            "count": 0
           },
           {
            "bin_start": 1502321704897687600,
            "bin_end": 1502726655489898500,
            "count": 0
           },
           {
            "bin_start": 1502726655489898500,
            "bin_end": 1503131606082109400,
            "count": 0
           },
           {
            "bin_start": 1503131606082109400,
            "bin_end": 1503536556674320400,
            "count": 3
           },
           {
            "bin_start": 1503536556674320400,
            "bin_end": 1503941507266531300,
            "count": 582
           }
          ]
         }
        },
        {
         "name": "lang",
         "dtype": "object",
         "stats": {
          "unique_count": 1,
          "nan_count": 0,
          "categories": [
           {
            "name": "en",
            "count": 588
           }
          ]
         }
        },
        {
         "name": "source",
         "dtype": "object",
         "stats": {
          "unique_count": 45,
          "nan_count": 0,
          "categories": [
           {
            "name": "<a href=\"https://mobile.twitter.com\" rel=\"nofollow\">Twitter Web App</a>",
            "count": 170
           },
           {
            "name": "<a href=\"http://twitter.com/download/android\" rel=\"nofollow\">Twitter for Android</a>",
            "count": 111
           },
           {
            "name": "43 others",
            "count": 307
           }
          ]
         }
        },
        {
         "name": "sourceUrl",
         "dtype": "object",
         "stats": {
          "unique_count": 41,
          "nan_count": 0,
          "categories": [
           {
            "name": "https://mobile.twitter.com",
            "count": 170
           },
           {
            "name": "http://twitter.com/download/android",
            "count": 111
           },
           {
            "name": "39 others",
            "count": 307
           }
          ]
         }
        },
        {
         "name": "sourceLabel",
         "dtype": "object",
         "stats": {
          "unique_count": 45,
          "nan_count": 0,
          "categories": [
           {
            "name": "Twitter Web App",
            "count": 170
           },
           {
            "name": "Twitter for Android",
            "count": 111
           },
           {
            "name": "43 others",
            "count": 307
           }
          ]
         }
        },
        {
         "name": "outlinks",
         "dtype": "object",
         "stats": {
          "unique_count": 588,
          "nan_count": 234,
          "categories": [
           {
            "name": "['https://www.theverge.com/22965320/facebook-protect-how-to-security']",
            "count": 31
           },
           {
            "name": "301 others",
            "count": 323
           },
           {
            "name": "Missing",
            "count": 234
           }
          ]
         }
        },
        {
         "name": "tcooutlinks",
         "dtype": "object",
         "stats": {
          "unique_count": 588,
          "nan_count": 234,
          "categories": [
           {
            "name": "['https://t.co/YF3WzpbYc1']",
            "count": 2
           },
           {
            "name": "351 others",
            "count": 352
           },
           {
            "name": "Missing",
            "count": 234
           }
          ]
         }
        },
        {
         "name": "media",
         "dtype": "object",
         "stats": {
          "unique_count": 588,
          "nan_count": 475,
          "categories": [
           {
            "name": "[{'_type': 'snscrape.modules.twitter.Photo', 'previewUrl': 'https://pbs.twimg.com/media/FN8K-cDXEAM3BAP?format=png&name=small', 'fullUrl': 'https://pbs.twimg.com/media/FN8K-cDXEAM3BAP?format=png&name=large'}]",
            "count": 1
           },
           {
            "name": "112 others",
            "count": 112
           },
           {
            "name": "Missing",
            "count": 475
           }
          ]
         }
        },
        {
         "name": "retweetedTweet",
         "dtype": "object",
         "stats": {
          "unique_count": 0,
          "nan_count": 588,
          "categories": [
           {
            "name": "Missing",
            "count": 588
           }
          ]
         }
        },
        {
         "name": "quotedTweet",
         "dtype": "object",
         "stats": {
          "unique_count": 588,
          "nan_count": 567,
          "categories": [
           {
            "name": "{'_type': 'snscrape.modules.twitter.Tweet', 'url': 'https://twitter.com/BestofUs2022/status/1503798172577144839', 'date': '2022-03-15T18:19:58+00:00', 'content': 'Facebook is down 50% from high.  Do you think Facebook will come back? https://t.co/8mPheNtWxA', 'renderedContent': 'Facebook is down 50% from high.  Do you think Facebook will come back? https://t.co/8mPheNtWxA', 'id': 1503798172577144839, 'user': {'_type': 'snscrape.modules.twitter.User', 'username': 'BestofUs2022', 'id': 1286124650259460098, 'displayname': 'BestOfUsInvestors', 'description': 'We invest in companies that will \"Change The Way We Live\".  We don\\'t play the 90Day Wall Street Game.  We study our niche and beat Wall Street at the long game.', 'rawDescription': 'We invest in companies that will \"Change The Way We Live\".  We don\\'t play the 90Day Wall Street Game.  We study our niche and beat Wall Street at the long game.', 'descriptionUrls': None, 'verified': False, 'created': '2020-07-23T02:23:13+00:00', 'followersCount': 4054, 'friendsCount': 92, 'statusesCount': 534, 'favouritesCount': 70, 'listedCount': 20, 'mediaCount': 249, 'location': 'Birmingham, Alabama', 'protected': False, 'linkUrl': 'https://www.youtube.com/channel/UC-hq1OIl97y7h0DiJx45N3w', 'linkTcourl': 'https://t.co/OThvOXvdlc', 'profileImageUrl': 'https://pbs.twimg.com/profile_images/1478773244538859520/B7ZFCe4u_normal.jpg', 'profileBannerUrl': 'https://pbs.twimg.com/profile_banners/1286124650259460098/1595906254', 'label': None, 'url': 'https://twitter.com/BestofUs2022'}, 'replyCount': 2, 'retweetCount': 1, 'likeCount': 3, 'quoteCount': 4, 'conversationId': 1503798172577144839, 'lang': 'en', 'source': '<a href=\"https://mobile.twitter.com\" rel=\"nofollow\">Twitter Web App</a>', 'sourceUrl': 'https://mobile.twitter.com', 'sourceLabel': 'Twitter Web App', 'outlinks': None, 'tcooutlinks': None, 'media': [{'_type': 'snscrape.modules.twitter.Photo', 'previewUrl': 'https://pbs.twimg.com/media/FN6QaFKWQAUY1QE?format=png&name=small', 'fullUrl': 'https://pbs.twimg.com/media/FN6QaFKWQAUY1QE?format=png&name=large'}], 'retweetedTweet': None, 'quotedTweet': None, 'inReplyToTweetId': None, 'inReplyToUser': None, 'mentionedUsers': None, 'coordinates': None, 'place': None, 'hashtags': None, 'cashtags': None}",
            "count": 4
           },
           {
            "name": "17 others",
            "count": 17
           },
           {
            "name": "Missing",
            "count": 567
           }
          ]
         }
        },
        {
         "name": "inReplyToTweetId",
         "dtype": "float64",
         "stats": {
          "unique_count": 37,
          "nan_count": 446,
          "min": "1.499892001344422e+18",
          "max": "1.5039341723179704e+18",
          "histogram": [
           {
            "bin_start": 1499892001344422000,
            "bin_end": 1500296218441776600,
            "count": 1
           },
           {
            "bin_start": 1500296218441776600,
            "bin_end": 1500700435539131600,
            "count": 0
           },
           {
            "bin_start": 1500700435539131600,
            "bin_end": 1501104652636486400,
            "count": 1
           },
           {
            "bin_start": 1501104652636486400,
            "bin_end": 1501508869733841400,
            "count": 0
           },
           {
            "bin_start": 1501508869733841400,
            "bin_end": 1501913086831196200,
            "count": 1
           },
           {
            "bin_start": 1501913086831196200,
            "bin_end": 1502317303928551000,
            "count": 0
           },
           {
            "bin_start": 1502317303928551000,
            "bin_end": 1502721521025906000,
            "count": 0
           },
           {
            "bin_start": 1502721521025906000,
            "bin_end": 1503125738123260700,
            "count": 0
           },
           {
            "bin_start": 1503125738123260700,
            "bin_end": 1503529955220615700,
            "count": 3
           },
           {
            "bin_start": 1503529955220615700,
            "bin_end": 1503934172317970400,
            "count": 136
           }
          ]
         }
        },
        {
         "name": "inReplyToUser",
         "dtype": "object",
         "stats": {
          "unique_count": 588,
          "nan_count": 446,
          "categories": [
           {
            "name": "{'_type': 'snscrape.modules.twitter.User', 'username': 'SonicForces365', 'id': 1496523332958945280, 'displayname': 'Sonic Forces 🇺🇸', 'description': None, 'rawDescription': None, 'descriptionUrls': None, 'verified': None, 'created': None, 'followersCount': None, 'friendsCount': None, 'statusesCount': None, 'favouritesCount': None, 'listedCount': None, 'mediaCount': None, 'location': None, 'protected': None, 'linkUrl': None, 'linkTcourl': None, 'profileImageUrl': None, 'profileBannerUrl': None, 'label': None, 'url': 'https://twitter.com/SonicForces365'}",
            "count": 89
           },
           {
            "name": "22 others",
            "count": 53
           },
           {
            "name": "Missing",
            "count": 446
           }
          ]
         }
        },
        {
         "name": "mentionedUsers",
         "dtype": "object",
         "stats": {
          "unique_count": 588,
          "nan_count": 382,
          "categories": [
           {
            "name": "[{'_type': 'snscrape.modules.twitter.User', 'username': 'SonicForces365', 'id': 1496523332958945280, 'displayname': 'Sonic Forces 🇺🇸', 'description': None, 'rawDescription': None, 'descriptionUrls': None, 'verified': None, 'created': None, 'followersCount': None, 'friendsCount': None, 'statusesCount': None, 'favouritesCount': None, 'listedCount': None, 'mediaCount': None, 'location': None, 'protected': None, 'linkUrl': None, 'linkTcourl': None, 'profileImageUrl': None, 'profileBannerUrl': None, 'label': None, 'url': 'https://twitter.com/SonicForces365'}]",
            "count": 24
           },
           {
            "name": "146 others",
            "count": 182
           },
           {
            "name": "Missing",
            "count": 382
           }
          ]
         }
        },
        {
         "name": "coordinates",
         "dtype": "object",
         "stats": {
          "unique_count": 588,
          "nan_count": 585,
          "categories": [
           {
            "name": "{'_type': 'snscrape.modules.twitter.Coordinates', 'longitude': 72.9214, 'latitude': 34.0179}",
            "count": 1
           },
           {
            "name": "2 others",
            "count": 2
           },
           {
            "name": "Missing",
            "count": 585
           }
          ]
         }
        },
        {
         "name": "place",
         "dtype": "object",
         "stats": {
          "unique_count": 588,
          "nan_count": 585,
          "categories": [
           {
            "name": "{'_type': 'snscrape.modules.twitter.Place', 'fullName': 'Haripur, Pakistan', 'name': 'Haripur', 'type': 'city', 'country': 'Pakistan', 'countryCode': 'PK'}",
            "count": 1
           },
           {
            "name": "2 others",
            "count": 2
           },
           {
            "name": "Missing",
            "count": 585
           }
          ]
         }
        },
        {
         "name": "hashtags",
         "dtype": "object",
         "stats": {
          "unique_count": 588,
          "nan_count": 0,
          "categories": [
           {
            "name": "['Facebook', 'FacebookProtect', 'Meta']",
            "count": 61
           },
           {
            "name": "['meta', 'gamefi', 'sonic']",
            "count": 47
           },
           {
            "name": "291 others",
            "count": 480
           }
          ]
         }
        },
        {
         "name": "cashtags",
         "dtype": "object",
         "stats": {
          "unique_count": 588,
          "nan_count": 566,
          "categories": [
           {
            "name": "['FB']",
            "count": 10
           },
           {
            "name": "12 others",
            "count": 12
           },
           {
            "name": "Missing",
            "count": 566
           }
          ]
         }
        },
        {
         "name": "_deepnote_index_column",
         "dtype": "int64"
        }
       ],
       "rows": [
        {
         "_type": "snscrape.modules.twitter.Tweet",
         "url": "https://twitter.com/sayurmayur795/status/1503942672326672388",
         "date": "2022-03-16T03:54:09+00:00",
         "content": "@SonicForces365 great project\n@Maskulin232 @wawan5252 @JepeTeros \n\n#meta #GameFi #Sonic",
         "renderedContent": "@SonicForces365 great project\n@Maskulin232 @wawan5252 @JepeTeros \n\n#meta #GameFi #Sonic",
         "id": 1503942672326672400,
         "user": "{'_type': 'snscrape.modules.twitter.User', 'username': 'sayurmayur795', 'id': 1470066560429551619, 'displayname': 'sayur mayur', 'description': '', 'rawDescription': '', 'descriptionUrls': None, 'verified': False, 'created': '2021-12-12T16:22:47+00:00', 'followersCount': 11, 'friendsCount': 213, 'statusesCount': 233, 'favouritesCount': 72, 'listedCount': 0, 'mediaCount': 1, 'location': '', 'protected': False, 'linkUrl': None, 'linkTcourl': None, 'profileImageUrl': 'https://pbs.twimg.com/profile_images/1470066980954673161/0Grugxm8_normal.jpg', 'profileBannerUrl': None, 'label': None, 'url': 'https://twitter.com/sayurmayur795'}",
         "replyCount": 0,
         "retweetCount": 0,
         "likeCount": 0,
         "quoteCount": 0,
         "conversationId": 1503707507247947800,
         "lang": "en",
         "source": "<a href=\"http://twitter.com/download/android\" rel=\"nofollow\">Twitter for Android</a>",
         "sourceUrl": "http://twitter.com/download/android",
         "sourceLabel": "Twitter for Android",
         "outlinks": "None",
         "tcooutlinks": "None",
         "media": "None",
         "retweetedTweet": "None",
         "quotedTweet": "None",
         "inReplyToTweetId": 1503707507247947800,
         "inReplyToUser": "{'_type': 'snscrape.modules.twitter.User', 'username': 'SonicForces365', 'id': 1496523332958945280, 'displayname': 'Sonic Forces 🇺🇸', 'description': None, 'rawDescription': None, 'descriptionUrls': None, 'verified': None, 'created': None, 'followersCount': None, 'friendsCount': None, 'statusesCount': None, 'favouritesCount': None, 'listedCount': None, 'mediaCount': None, 'location': None, 'protected': None, 'linkUrl': None, 'linkTcourl': None, 'profileImageUrl': None, 'profileBannerUrl': None, 'label': None, 'url': 'https://twitter.com/SonicForces365'}",
         "mentionedUsers": "[{'_type': 'snscrape.modules.twitter.User', 'username': 'SonicForces365', 'id': 1496523332958945280, 'displayname': 'Sonic Forces 🇺🇸', 'description': None, 'rawDescription': None, 'descriptionUrls': None, 'verified': None, 'created': None, 'followersCount': None, 'friendsCount': None, 'statusesCount': None, 'favouritesCount': None, 'listedCount': None, 'mediaCount': None, 'location': None, 'protected': None, 'linkUrl': None, 'linkTcourl': None, 'profileImageUrl': None, 'profileBannerUrl': None, 'label': None, 'url': 'https://twitter.com/SonicForces365'}, {'_type': 'snscrape.modules.twitter.User', 'username': 'Maskulin232', 'id': 1262403574492872709, 'displayname': 'Maskulin', 'description': None, 'rawDescription': None, 'descriptionUrls': None, 'verified': None, 'created': None, 'followersCount': None, 'friendsCount': None, 'statusesCount': None, 'favouritesCount': None, 'listedCount': None, 'mediaCount': None, 'location': None, 'protected': None, 'linkUrl': None, 'linkTcourl': None, …",
         "coordinates": "None",
         "place": "None",
         "hashtags": "['meta', 'GameFi', 'Sonic']",
         "cashtags": "None",
         "_deepnote_index_column": 1
        },
        {
         "_type": "snscrape.modules.twitter.Tweet",
         "url": "https://twitter.com/MdNurHabib6/status/1503942410292043777",
         "date": "2022-03-16T03:53:07+00:00",
         "content": "@SonicForces365 #meta #gamefi #Sonic\nGood and strong project\nThanks for opportunities 💞☺️\n@Marudislam \n@MehediH92566526 \n@Jihad03847183",
         "renderedContent": "@SonicForces365 #meta #gamefi #Sonic\nGood and strong project\nThanks for opportunities 💞☺️\n@Marudislam \n@MehediH92566526 \n@Jihad03847183",
         "id": 1503942410292043800,
         "user": "{'_type': 'snscrape.modules.twitter.User', 'username': 'MdNurHabib6', 'id': 1368494208512913408, 'displayname': 'Md Nur Habib', 'description': 'I am a simple boy.', 'rawDescription': 'I am a simple boy.', 'descriptionUrls': None, 'verified': False, 'created': '2021-03-07T09:30:45+00:00', 'followersCount': 74, 'friendsCount': 1500, 'statusesCount': 4350, 'favouritesCount': 3395, 'listedCount': 3, 'mediaCount': 107, 'location': 'Bangladesh', 'protected': False, 'linkUrl': None, 'linkTcourl': None, 'profileImageUrl': 'https://pbs.twimg.com/profile_images/1493604957098057730/5H4W8GIE_normal.jpg', 'profileBannerUrl': 'https://pbs.twimg.com/profile_banners/1368494208512913408/1626777136', 'label': None, 'url': 'https://twitter.com/MdNurHabib6'}",
         "replyCount": 0,
         "retweetCount": 0,
         "likeCount": 0,
         "quoteCount": 0,
         "conversationId": 1503707507247947800,
         "lang": "en",
         "source": "<a href=\"http://twitter.com/download/android\" rel=\"nofollow\">Twitter for Android</a>",
         "sourceUrl": "http://twitter.com/download/android",
         "sourceLabel": "Twitter for Android",
         "outlinks": "None",
         "tcooutlinks": "None",
         "media": "None",
         "retweetedTweet": "None",
         "quotedTweet": "None",
         "inReplyToTweetId": 1503707507247947800,
         "inReplyToUser": "{'_type': 'snscrape.modules.twitter.User', 'username': 'SonicForces365', 'id': 1496523332958945280, 'displayname': 'Sonic Forces 🇺🇸', 'description': None, 'rawDescription': None, 'descriptionUrls': None, 'verified': None, 'created': None, 'followersCount': None, 'friendsCount': None, 'statusesCount': None, 'favouritesCount': None, 'listedCount': None, 'mediaCount': None, 'location': None, 'protected': None, 'linkUrl': None, 'linkTcourl': None, 'profileImageUrl': None, 'profileBannerUrl': None, 'label': None, 'url': 'https://twitter.com/SonicForces365'}",
         "mentionedUsers": "[{'_type': 'snscrape.modules.twitter.User', 'username': 'SonicForces365', 'id': 1496523332958945280, 'displayname': 'Sonic Forces 🇺🇸', 'description': None, 'rawDescription': None, 'descriptionUrls': None, 'verified': None, 'created': None, 'followersCount': None, 'friendsCount': None, 'statusesCount': None, 'favouritesCount': None, 'listedCount': None, 'mediaCount': None, 'location': None, 'protected': None, 'linkUrl': None, 'linkTcourl': None, 'profileImageUrl': None, 'profileBannerUrl': None, 'label': None, 'url': 'https://twitter.com/SonicForces365'}, {'_type': 'snscrape.modules.twitter.User', 'username': 'MehediH92566526', 'id': 1379705477781577729, 'displayname': 'Mehedi Hasan', 'description': None, 'rawDescription': None, 'descriptionUrls': None, 'verified': None, 'created': None, 'followersCount': None, 'friendsCount': None, 'statusesCount': None, 'favouritesCount': None, 'listedCount': None, 'mediaCount': None, 'location': None, 'protected': None, 'linkUrl': None, 'linkTcourl'…",
         "coordinates": "None",
         "place": "None",
         "hashtags": "['meta', 'gamefi', 'Sonic']",
         "cashtags": "None",
         "_deepnote_index_column": 2
        },
        {
         "_type": "snscrape.modules.twitter.Tweet",
         "url": "https://twitter.com/koinhopper/status/1503941507266531329",
         "date": "2022-03-16T03:49:31+00:00",
         "content": "“We’re working on bringing #NFTs to #Instagram in the near term,” the #Meta CEO stated, adding that he hopes NFT minting will be available in the coming months. https://t.co/f08SjEgZI4",
         "renderedContent": "“We’re working on bringing #NFTs to #Instagram in the near term,” the #Meta CEO stated, adding that he hopes NFT minting will be available in the coming months. cointelegraph.com/news/instagram…",
         "id": 1503941507266531300,
         "user": "{'_type': 'snscrape.modules.twitter.User', 'username': 'koinhopper', 'id': 1361449489719046144, 'displayname': '🪙 ķoinḥopper.wallet', 'description': '#cryptonews to #document #crypto #trends🧐#DYOR 🚀🌜in the #amazing #Canada🇨🇦#canadacrypto🦾🤖#eh #wearetheNorth #DECENTRALIZE🔎 YOUR🔑YOUR🪙 #DMusNOT⛔️', 'rawDescription': '#cryptonews to #document #crypto #trends🧐#DYOR 🚀🌜in the #amazing #Canada🇨🇦#canadacrypto🦾🤖#eh #wearetheNorth #DECENTRALIZE🔎 YOUR🔑YOUR🪙 #DMusNOT⛔️', 'descriptionUrls': None, 'verified': False, 'created': '2021-02-15T22:57:37+00:00', 'followersCount': 383, 'friendsCount': 279, 'statusesCount': 6338, 'favouritesCount': 18046, 'listedCount': 3, 'mediaCount': 1668, 'location': 'up in aboôt 🌙', 'protected': False, 'linkUrl': 'http://bit.ly/koinhopper', 'linkTcourl': 'https://t.co/PPx78pLdth', 'profileImageUrl': 'https://pbs.twimg.com/profile_images/1495133574802067459/aNP3gouA_normal.jpg', 'profileBannerUrl': 'https://pbs.twimg.com/profile_banners/1361449489719046144/1616277501', '…",
         "replyCount": 0,
         "retweetCount": 0,
         "likeCount": 0,
         "quoteCount": 0,
         "conversationId": 1503941507266531300,
         "lang": "en",
         "source": "<a href=\"http://twitter.com/download/iphone\" rel=\"nofollow\">Twitter for iPhone</a>",
         "sourceUrl": "http://twitter.com/download/iphone",
         "sourceLabel": "Twitter for iPhone",
         "outlinks": "['https://cointelegraph.com/news/instagram-is-adding-nfts-soon-says-mark-zuckerberg']",
         "tcooutlinks": "['https://t.co/f08SjEgZI4']",
         "media": "None",
         "retweetedTweet": "None",
         "quotedTweet": "None",
         "inReplyToTweetId": "nan",
         "inReplyToUser": "None",
         "mentionedUsers": "None",
         "coordinates": "None",
         "place": "None",
         "hashtags": "['NFTs', 'Instagram', 'Meta']",
         "cashtags": "None",
         "_deepnote_index_column": 4
        },
        {
         "_type": "snscrape.modules.twitter.Tweet",
         "url": "https://twitter.com/John011987/status/1503941476379725824",
         "date": "2022-03-16T03:49:24+00:00",
         "content": "@SonicForces365 great project..\n\n#meta\n#GameFi \n#sonic",
         "renderedContent": "@SonicForces365 great project..\n\n#meta\n#GameFi \n#sonic",
         "id": 1503941476379725800,
         "user": "{'_type': 'snscrape.modules.twitter.User', 'username': 'John011987', 'id': 1476567573902807040, 'displayname': 'John Carlo Lacanilao', 'description': 'Simple', 'rawDescription': 'Simple', 'descriptionUrls': None, 'verified': False, 'created': '2021-12-30T14:55:31+00:00', 'followersCount': 1, 'friendsCount': 252, 'statusesCount': 519, 'favouritesCount': 2, 'listedCount': 3, 'mediaCount': 3, 'location': '', 'protected': False, 'linkUrl': None, 'linkTcourl': None, 'profileImageUrl': 'https://pbs.twimg.com/profile_images/1476567846150971397/-Q5NgkOI_normal.jpg', 'profileBannerUrl': None, 'label': None, 'url': 'https://twitter.com/John011987'}",
         "replyCount": 0,
         "retweetCount": 0,
         "likeCount": 0,
         "quoteCount": 0,
         "conversationId": 1503941476379725800,
         "lang": "en",
         "source": "<a href=\"http://twitter.com/download/android\" rel=\"nofollow\">Twitter for Android</a>",
         "sourceUrl": "http://twitter.com/download/android",
         "sourceLabel": "Twitter for Android",
         "outlinks": "None",
         "tcooutlinks": "None",
         "media": "None",
         "retweetedTweet": "None",
         "quotedTweet": "None",
         "inReplyToTweetId": "nan",
         "inReplyToUser": "None",
         "mentionedUsers": "[{'_type': 'snscrape.modules.twitter.User', 'username': 'SonicForces365', 'id': 1496523332958945280, 'displayname': 'Sonic Forces 🇺🇸', 'description': None, 'rawDescription': None, 'descriptionUrls': None, 'verified': None, 'created': None, 'followersCount': None, 'friendsCount': None, 'statusesCount': None, 'favouritesCount': None, 'listedCount': None, 'mediaCount': None, 'location': None, 'protected': None, 'linkUrl': None, 'linkTcourl': None, 'profileImageUrl': None, 'profileBannerUrl': None, 'label': None, 'url': 'https://twitter.com/SonicForces365'}]",
         "coordinates": "None",
         "place": "None",
         "hashtags": "['meta', 'GameFi', 'sonic']",
         "cashtags": "None",
         "_deepnote_index_column": 5
        },
        {
         "_type": "snscrape.modules.twitter.Tweet",
         "url": "https://twitter.com/IbingSilat/status/1503941465172758529",
         "date": "2022-03-16T03:49:21+00:00",
         "content": "@AirdropMars @SonicForces365 Lets goo🔥 amazing project\n@AndienMutiara \n@SalmaSulistian \n@sutsatsetset \n\n#meta #gamefi #sonic",
         "renderedContent": "@AirdropMars @SonicForces365 Lets goo🔥 amazing project\n@AndienMutiara \n@SalmaSulistian \n@sutsatsetset \n\n#meta #gamefi #sonic",
         "id": 1503941465172758500,
         "user": "{'_type': 'snscrape.modules.twitter.User', 'username': 'IbingSilat', 'id': 1480408653941252105, 'displayname': 'Seni ibing Pencak silat', 'description': 'Sameut ngeusi lawang lorongkrang', 'rawDescription': 'Sameut ngeusi lawang lorongkrang', 'descriptionUrls': None, 'verified': False, 'created': '2022-01-10T05:18:33+00:00', 'followersCount': 26, 'friendsCount': 122, 'statusesCount': 885, 'favouritesCount': 123, 'listedCount': 2, 'mediaCount': 4, 'location': 'Garut, Indonesia', 'protected': False, 'linkUrl': 'https://youtube.com/c/SeniibingPencaksilat1', 'linkTcourl': 'https://t.co/ltfM0bObCm', 'profileImageUrl': 'https://pbs.twimg.com/profile_images/1480566829349158912/lzd5lXjV_normal.jpg', 'profileBannerUrl': 'https://pbs.twimg.com/profile_banners/1480408653941252105/1642450914', 'label': None, 'url': 'https://twitter.com/IbingSilat'}",
         "replyCount": 0,
         "retweetCount": 0,
         "likeCount": 0,
         "quoteCount": 0,
         "conversationId": 1503735172629377000,
         "lang": "en",
         "source": "<a href=\"http://twitter.com/download/android\" rel=\"nofollow\">Twitter for Android</a>",
         "sourceUrl": "http://twitter.com/download/android",
         "sourceLabel": "Twitter for Android",
         "outlinks": "None",
         "tcooutlinks": "None",
         "media": "None",
         "retweetedTweet": "None",
         "quotedTweet": "None",
         "inReplyToTweetId": 1503735172629377000,
         "inReplyToUser": "{'_type': 'snscrape.modules.twitter.User', 'username': 'AirdropMars', 'id': 1460654312745435140, 'displayname': 'AirdropMars', 'description': None, 'rawDescription': None, 'descriptionUrls': None, 'verified': None, 'created': None, 'followersCount': None, 'friendsCount': None, 'statusesCount': None, 'favouritesCount': None, 'listedCount': None, 'mediaCount': None, 'location': None, 'protected': None, 'linkUrl': None, 'linkTcourl': None, 'profileImageUrl': None, 'profileBannerUrl': None, 'label': None, 'url': 'https://twitter.com/AirdropMars'}",
         "mentionedUsers": "[{'_type': 'snscrape.modules.twitter.User', 'username': 'AirdropMars', 'id': 1460654312745435140, 'displayname': 'AirdropMars', 'description': None, 'rawDescription': None, 'descriptionUrls': None, 'verified': None, 'created': None, 'followersCount': None, 'friendsCount': None, 'statusesCount': None, 'favouritesCount': None, 'listedCount': None, 'mediaCount': None, 'location': None, 'protected': None, 'linkUrl': None, 'linkTcourl': None, 'profileImageUrl': None, 'profileBannerUrl': None, 'label': None, 'url': 'https://twitter.com/AirdropMars'}, {'_type': 'snscrape.modules.twitter.User', 'username': 'SonicForces365', 'id': 1496523332958945280, 'displayname': 'Sonic Forces 🇺🇸', 'description': None, 'rawDescription': None, 'descriptionUrls': None, 'verified': None, 'created': None, 'followersCount': None, 'friendsCount': None, 'statusesCount': None, 'favouritesCount': None, 'listedCount': None, 'mediaCount': None, 'location': None, 'protected': None, 'linkUrl': None, 'linkTcourl': None, …",
         "coordinates": "None",
         "place": "None",
         "hashtags": "['meta', 'gamefi', 'sonic']",
         "cashtags": "None",
         "_deepnote_index_column": 6
        },
        {
         "_type": "snscrape.modules.twitter.Tweet",
         "url": "https://twitter.com/entrepreneur_cm/status/1503941138037714946",
         "date": "2022-03-16T03:48:03+00:00",
         "content": "Diem team members raise $200M to launch blockchain derived from it https://t.co/QQEYbO1C1x #Meta #Facebook #Novi #Diem #Aptos",
         "renderedContent": "Diem team members raise $200M to launch blockchain derived from it dlvr.it/SLmfQT #Meta #Facebook #Novi #Diem #Aptos",
         "id": 1503941138037715000,
         "user": "{'_type': 'snscrape.modules.twitter.User', 'username': 'entrepreneur_cm', 'id': 31471175, 'displayname': 'Entrepreneurship', 'description': '#Entrepreneurs, in sense; identify a need, any need: and fill it. It’s primordial urge, independent of product, service, industry, or market. | @VitalyVTennant', 'rawDescription': '#Entrepreneurs, in sense; identify a need, any need: and fill it. It’s primordial urge, independent of product, service, industry, or market. | @VitalyVTennant', 'descriptionUrls': None, 'verified': False, 'created': '2009-04-15T18:07:20+00:00', 'followersCount': 81230, 'friendsCount': 1525, 'statusesCount': 59754, 'favouritesCount': 442, 'listedCount': 1631, 'mediaCount': 11444, 'location': 'Analog, Digital, Space', 'protected': False, 'linkUrl': 'https://Entrepreneurship.VitalyTennant.com', 'linkTcourl': 'https://t.co/u7HgeKsrC4', 'profileImageUrl': 'https://pbs.twimg.com/profile_images/1434322583541932034/xGYbLc4G_normal.jpg', 'profileBannerUrl': 'https://pbs.twimg.…",
         "replyCount": 0,
         "retweetCount": 0,
         "likeCount": 0,
         "quoteCount": 0,
         "conversationId": 1503941138037715000,
         "lang": "en",
         "source": "<a href=\"https://dlvrit.com/\" rel=\"nofollow\">dlvr.it</a>",
         "sourceUrl": "https://dlvrit.com/",
         "sourceLabel": "dlvr.it",
         "outlinks": "['http://dlvr.it/SLmfQT']",
         "tcooutlinks": "['https://t.co/QQEYbO1C1x']",
         "media": "None",
         "retweetedTweet": "None",
         "quotedTweet": "None",
         "inReplyToTweetId": "nan",
         "inReplyToUser": "None",
         "mentionedUsers": "None",
         "coordinates": "None",
         "place": "None",
         "hashtags": "['Meta', 'Facebook', 'Novi', 'Diem', 'Aptos']",
         "cashtags": "None",
         "_deepnote_index_column": 7
        },
        {
         "_type": "snscrape.modules.twitter.Tweet",
         "url": "https://twitter.com/thope0902/status/1503941089119465472",
         "date": "2022-03-16T03:47:52+00:00",
         "content": "@AirdropMars @SonicForces365 It's a very wonderful project !!!! I feel avant-garde and sharpened sensibility!!!! I'm so happy if you give me this one i'm very very thankyou\n\n@Elahe_abedi1296\n \n@NavidM1\n \n@nima1908\n\n#meta #gamefi #Sonic",
         "renderedContent": "@AirdropMars @SonicForces365 It's a very wonderful project !!!! I feel avant-garde and sharpened sensibility!!!! I'm so happy if you give me this one i'm very very thankyou\n\n@Elahe_abedi1296\n \n@NavidM1\n \n@nima1908\n\n#meta #gamefi #Sonic",
         "id": 1503941089119465500,
         "user": "{'_type': 'snscrape.modules.twitter.User', 'username': 'thope0902', 'id': 1254731638308605953, 'displayname': 'S k', 'description': '', 'rawDescription': '', 'descriptionUrls': None, 'verified': False, 'created': '2020-04-27T11:18:42+00:00', 'followersCount': 10, 'friendsCount': 172, 'statusesCount': 3555, 'favouritesCount': 646, 'listedCount': 1, 'mediaCount': 38, 'location': 'Hyderabad, India', 'protected': False, 'linkUrl': None, 'linkTcourl': None, 'profileImageUrl': 'https://pbs.twimg.com/profile_images/1498948735862448128/DyS0Pq9n_normal.jpg', 'profileBannerUrl': None, 'label': None, 'url': 'https://twitter.com/thope0902'}",
         "replyCount": 0,
         "retweetCount": 0,
         "likeCount": 0,
         "quoteCount": 0,
         "conversationId": 1503735172629377000,
         "lang": "en",
         "source": "<a href=\"http://twitter.com/download/android\" rel=\"nofollow\">Twitter for Android</a>",
         "sourceUrl": "http://twitter.com/download/android",
         "sourceLabel": "Twitter for Android",
         "outlinks": "None",
         "tcooutlinks": "None",
         "media": "None",
         "retweetedTweet": "None",
         "quotedTweet": "None",
         "inReplyToTweetId": 1503735172629377000,
         "inReplyToUser": "{'_type': 'snscrape.modules.twitter.User', 'username': 'AirdropMars', 'id': 1460654312745435140, 'displayname': 'AirdropMars', 'description': None, 'rawDescription': None, 'descriptionUrls': None, 'verified': None, 'created': None, 'followersCount': None, 'friendsCount': None, 'statusesCount': None, 'favouritesCount': None, 'listedCount': None, 'mediaCount': None, 'location': None, 'protected': None, 'linkUrl': None, 'linkTcourl': None, 'profileImageUrl': None, 'profileBannerUrl': None, 'label': None, 'url': 'https://twitter.com/AirdropMars'}",
         "mentionedUsers": "[{'_type': 'snscrape.modules.twitter.User', 'username': 'AirdropMars', 'id': 1460654312745435140, 'displayname': 'AirdropMars', 'description': None, 'rawDescription': None, 'descriptionUrls': None, 'verified': None, 'created': None, 'followersCount': None, 'friendsCount': None, 'statusesCount': None, 'favouritesCount': None, 'listedCount': None, 'mediaCount': None, 'location': None, 'protected': None, 'linkUrl': None, 'linkTcourl': None, 'profileImageUrl': None, 'profileBannerUrl': None, 'label': None, 'url': 'https://twitter.com/AirdropMars'}, {'_type': 'snscrape.modules.twitter.User', 'username': 'SonicForces365', 'id': 1496523332958945280, 'displayname': 'Sonic Forces 🇺🇸', 'description': None, 'rawDescription': None, 'descriptionUrls': None, 'verified': None, 'created': None, 'followersCount': None, 'friendsCount': None, 'statusesCount': None, 'favouritesCount': None, 'listedCount': None, 'mediaCount': None, 'location': None, 'protected': None, 'linkUrl': None, 'linkTcourl': None, …",
         "coordinates": "None",
         "place": "None",
         "hashtags": "['meta', 'gamefi', 'Sonic']",
         "cashtags": "None",
         "_deepnote_index_column": 8
        },
        {
         "_type": "snscrape.modules.twitter.Tweet",
         "url": "https://twitter.com/thope0902/status/1503941003530563585",
         "date": "2022-03-16T03:47:31+00:00",
         "content": "@SonicForces365 It's a very wonderful project !!!! I feel avant-garde and sharpened sensibility!!!! I'm so happy if you give me this one i'm very very thankyou\n\n@Elahe_abedi1296\n \n@NavidM1\n \n@nima1908\n\n#meta #gamefi #Sonic",
         "renderedContent": "@SonicForces365 It's a very wonderful project !!!! I feel avant-garde and sharpened sensibility!!!! I'm so happy if you give me this one i'm very very thankyou\n\n@Elahe_abedi1296\n \n@NavidM1\n \n@nima1908\n\n#meta #gamefi #Sonic",
         "id": 1503941003530563600,
         "user": "{'_type': 'snscrape.modules.twitter.User', 'username': 'thope0902', 'id': 1254731638308605953, 'displayname': 'S k', 'description': '', 'rawDescription': '', 'descriptionUrls': None, 'verified': False, 'created': '2020-04-27T11:18:42+00:00', 'followersCount': 10, 'friendsCount': 172, 'statusesCount': 3555, 'favouritesCount': 646, 'listedCount': 1, 'mediaCount': 38, 'location': 'Hyderabad, India', 'protected': False, 'linkUrl': None, 'linkTcourl': None, 'profileImageUrl': 'https://pbs.twimg.com/profile_images/1498948735862448128/DyS0Pq9n_normal.jpg', 'profileBannerUrl': None, 'label': None, 'url': 'https://twitter.com/thope0902'}",
         "replyCount": 0,
         "retweetCount": 0,
         "likeCount": 0,
         "quoteCount": 0,
         "conversationId": 1503707507247947800,
         "lang": "en",
         "source": "<a href=\"http://twitter.com/download/android\" rel=\"nofollow\">Twitter for Android</a>",
         "sourceUrl": "http://twitter.com/download/android",
         "sourceLabel": "Twitter for Android",
         "outlinks": "None",
         "tcooutlinks": "None",
         "media": "None",
         "retweetedTweet": "None",
         "quotedTweet": "None",
         "inReplyToTweetId": 1503707507247947800,
         "inReplyToUser": "{'_type': 'snscrape.modules.twitter.User', 'username': 'SonicForces365', 'id': 1496523332958945280, 'displayname': 'Sonic Forces 🇺🇸', 'description': None, 'rawDescription': None, 'descriptionUrls': None, 'verified': None, 'created': None, 'followersCount': None, 'friendsCount': None, 'statusesCount': None, 'favouritesCount': None, 'listedCount': None, 'mediaCount': None, 'location': None, 'protected': None, 'linkUrl': None, 'linkTcourl': None, 'profileImageUrl': None, 'profileBannerUrl': None, 'label': None, 'url': 'https://twitter.com/SonicForces365'}",
         "mentionedUsers": "[{'_type': 'snscrape.modules.twitter.User', 'username': 'SonicForces365', 'id': 1496523332958945280, 'displayname': 'Sonic Forces 🇺🇸', 'description': None, 'rawDescription': None, 'descriptionUrls': None, 'verified': None, 'created': None, 'followersCount': None, 'friendsCount': None, 'statusesCount': None, 'favouritesCount': None, 'listedCount': None, 'mediaCount': None, 'location': None, 'protected': None, 'linkUrl': None, 'linkTcourl': None, 'profileImageUrl': None, 'profileBannerUrl': None, 'label': None, 'url': 'https://twitter.com/SonicForces365'}, {'_type': 'snscrape.modules.twitter.User', 'username': 'Elahe_abedi1296', 'id': 1491855209731182598, 'displayname': 'elahe abedi', 'description': None, 'rawDescription': None, 'descriptionUrls': None, 'verified': None, 'created': None, 'followersCount': None, 'friendsCount': None, 'statusesCount': None, 'favouritesCount': None, 'listedCount': None, 'mediaCount': None, 'location': None, 'protected': None, 'linkUrl': None, 'linkTcourl':…",
         "coordinates": "None",
         "place": "None",
         "hashtags": "['meta', 'gamefi', 'Sonic']",
         "cashtags": "None",
         "_deepnote_index_column": 9
        },
        {
         "_type": "snscrape.modules.twitter.Tweet",
         "url": "https://twitter.com/Dadanherdiansa8/status/1503940444698587141",
         "date": "2022-03-16T03:45:18+00:00",
         "content": "@SonicForces365 Good\n#meta #gamefi #sonic",
         "renderedContent": "@SonicForces365 Good\n#meta #gamefi #sonic",
         "id": 1503940444698587100,
         "user": "{'_type': 'snscrape.modules.twitter.User', 'username': 'Dadanherdiansa8', 'id': 1353953218477264896, 'displayname': 'Dadan herdiansah', 'description': '', 'rawDescription': '', 'descriptionUrls': None, 'verified': False, 'created': '2021-01-26T06:29:49+00:00', 'followersCount': 5, 'friendsCount': 319, 'statusesCount': 475, 'favouritesCount': 287, 'listedCount': 4, 'mediaCount': 10, 'location': '', 'protected': False, 'linkUrl': None, 'linkTcourl': None, 'profileImageUrl': 'https://pbs.twimg.com/profile_images/1502330461166526464/R-hAuh-r_normal.jpg', 'profileBannerUrl': 'https://pbs.twimg.com/profile_banners/1353953218477264896/1647018501', 'label': None, 'url': 'https://twitter.com/Dadanherdiansa8'}",
         "replyCount": 0,
         "retweetCount": 0,
         "likeCount": 0,
         "quoteCount": 0,
         "conversationId": 1503707507247947800,
         "lang": "en",
         "source": "<a href=\"https://mobile.twitter.com\" rel=\"nofollow\">Twitter Web App</a>",
         "sourceUrl": "https://mobile.twitter.com",
         "sourceLabel": "Twitter Web App",
         "outlinks": "None",
         "tcooutlinks": "None",
         "media": "None",
         "retweetedTweet": "None",
         "quotedTweet": "None",
         "inReplyToTweetId": 1503707507247947800,
         "inReplyToUser": "{'_type': 'snscrape.modules.twitter.User', 'username': 'SonicForces365', 'id': 1496523332958945280, 'displayname': 'Sonic Forces 🇺🇸', 'description': None, 'rawDescription': None, 'descriptionUrls': None, 'verified': None, 'created': None, 'followersCount': None, 'friendsCount': None, 'statusesCount': None, 'favouritesCount': None, 'listedCount': None, 'mediaCount': None, 'location': None, 'protected': None, 'linkUrl': None, 'linkTcourl': None, 'profileImageUrl': None, 'profileBannerUrl': None, 'label': None, 'url': 'https://twitter.com/SonicForces365'}",
         "mentionedUsers": "[{'_type': 'snscrape.modules.twitter.User', 'username': 'SonicForces365', 'id': 1496523332958945280, 'displayname': 'Sonic Forces 🇺🇸', 'description': None, 'rawDescription': None, 'descriptionUrls': None, 'verified': None, 'created': None, 'followersCount': None, 'friendsCount': None, 'statusesCount': None, 'favouritesCount': None, 'listedCount': None, 'mediaCount': None, 'location': None, 'protected': None, 'linkUrl': None, 'linkTcourl': None, 'profileImageUrl': None, 'profileBannerUrl': None, 'label': None, 'url': 'https://twitter.com/SonicForces365'}]",
         "coordinates": "None",
         "place": "None",
         "hashtags": "['meta', 'gamefi', 'sonic']",
         "cashtags": "None",
         "_deepnote_index_column": 11
        },
        {
         "_type": "snscrape.modules.twitter.Tweet",
         "url": "https://twitter.com/mizanur802/status/1503940339555770368",
         "date": "2022-03-16T03:44:53+00:00",
         "content": "@SonicForces365 Great project \n#sonic\n#meta\n#gamefi",
         "renderedContent": "@SonicForces365 Great project \n#sonic\n#meta\n#gamefi",
         "id": 1503940339555770400,
         "user": "{'_type': 'snscrape.modules.twitter.User', 'username': 'mizanur802', 'id': 1429871596819255297, 'displayname': '@Mizanur802', 'description': '', 'rawDescription': '', 'descriptionUrls': None, 'verified': False, 'created': '2021-08-23T18:22:26+00:00', 'followersCount': 14, 'friendsCount': 930, 'statusesCount': 2235, 'favouritesCount': 809, 'listedCount': 3, 'mediaCount': 6, 'location': '', 'protected': False, 'linkUrl': None, 'linkTcourl': None, 'profileImageUrl': 'https://pbs.twimg.com/profile_images/1430007764982456320/wTueqabU_normal.jpg', 'profileBannerUrl': None, 'label': None, 'url': 'https://twitter.com/mizanur802'}",
         "replyCount": 0,
         "retweetCount": 0,
         "likeCount": 0,
         "quoteCount": 0,
         "conversationId": 1503707507247947800,
         "lang": "en",
         "source": "<a href=\"http://twitter.com/download/android\" rel=\"nofollow\">Twitter for Android</a>",
         "sourceUrl": "http://twitter.com/download/android",
         "sourceLabel": "Twitter for Android",
         "outlinks": "None",
         "tcooutlinks": "None",
         "media": "None",
         "retweetedTweet": "None",
         "quotedTweet": "None",
         "inReplyToTweetId": 1503707507247947800,
         "inReplyToUser": "{'_type': 'snscrape.modules.twitter.User', 'username': 'SonicForces365', 'id': 1496523332958945280, 'displayname': 'Sonic Forces 🇺🇸', 'description': None, 'rawDescription': None, 'descriptionUrls': None, 'verified': None, 'created': None, 'followersCount': None, 'friendsCount': None, 'statusesCount': None, 'favouritesCount': None, 'listedCount': None, 'mediaCount': None, 'location': None, 'protected': None, 'linkUrl': None, 'linkTcourl': None, 'profileImageUrl': None, 'profileBannerUrl': None, 'label': None, 'url': 'https://twitter.com/SonicForces365'}",
         "mentionedUsers": "[{'_type': 'snscrape.modules.twitter.User', 'username': 'SonicForces365', 'id': 1496523332958945280, 'displayname': 'Sonic Forces 🇺🇸', 'description': None, 'rawDescription': None, 'descriptionUrls': None, 'verified': None, 'created': None, 'followersCount': None, 'friendsCount': None, 'statusesCount': None, 'favouritesCount': None, 'listedCount': None, 'mediaCount': None, 'location': None, 'protected': None, 'linkUrl': None, 'linkTcourl': None, 'profileImageUrl': None, 'profileBannerUrl': None, 'label': None, 'url': 'https://twitter.com/SonicForces365'}]",
         "coordinates": "None",
         "place": "None",
         "hashtags": "['sonic', 'meta', 'gamefi']",
         "cashtags": "None",
         "_deepnote_index_column": 12
        }
       ]
      },
      "text/plain": "                              _type  \\\n1    snscrape.modules.twitter.Tweet   \n2    snscrape.modules.twitter.Tweet   \n4    snscrape.modules.twitter.Tweet   \n5    snscrape.modules.twitter.Tweet   \n6    snscrape.modules.twitter.Tweet   \n..                              ...   \n989  snscrape.modules.twitter.Tweet   \n990  snscrape.modules.twitter.Tweet   \n993  snscrape.modules.twitter.Tweet   \n995  snscrape.modules.twitter.Tweet   \n998  snscrape.modules.twitter.Tweet   \n\n                                                   url  \\\n1    https://twitter.com/sayurmayur795/status/15039...   \n2    https://twitter.com/MdNurHabib6/status/1503942...   \n4    https://twitter.com/koinhopper/status/15039415...   \n5    https://twitter.com/John011987/status/15039414...   \n6    https://twitter.com/IbingSilat/status/15039414...   \n..                                                 ...   \n989  https://twitter.com/vu_nguyen9/status/15037244...   \n990  https://twitter.com/vu_nguyen9/status/15037238...   \n993  https://twitter.com/GenesisSarl/status/1503723...   \n995  https://twitter.com/cryptscp/status/1503722962...   \n998  https://twitter.com/camvy24062015/status/15037...   \n\n                          date  \\\n1    2022-03-16T03:54:09+00:00   \n2    2022-03-16T03:53:07+00:00   \n4    2022-03-16T03:49:31+00:00   \n5    2022-03-16T03:49:24+00:00   \n6    2022-03-16T03:49:21+00:00   \n..                         ...   \n989  2022-03-15T13:26:55+00:00   \n990  2022-03-15T13:24:39+00:00   \n993  2022-03-15T13:21:40+00:00   \n995  2022-03-15T13:21:06+00:00   \n998  2022-03-15T13:20:33+00:00   \n\n                                               content  \\\n1    @SonicForces365 great project\\n@Maskulin232 @w...   \n2    @SonicForces365 #meta #gamefi #Sonic\\nGood and...   \n4    “We’re working on bringing #NFTs to #Instagram...   \n5    @SonicForces365 great project..\\n\\n#meta\\n#Gam...   \n6    @AirdropMars @SonicForces365 Lets goo🔥 amazing...   \n..                                                 ...   \n989  @SonicForces365 Good project\\n#meta #gamefi #S...   \n990  @SonicForces365 Good project\\n#meta #gamefi #s...   \n993      @AirdropRampage Best project, #Meta-elonverse   \n995  Metaverse May Be Tempting But It's Unregulated...   \n998  @SonicForces365 Good luck! @hungdng1979  @camv...   \n\n                                       renderedContent                   id  \\\n1    @SonicForces365 great project\\n@Maskulin232 @w...  1503942672326672388   \n2    @SonicForces365 #meta #gamefi #Sonic\\nGood and...  1503942410292043777   \n4    “We’re working on bringing #NFTs to #Instagram...  1503941507266531329   \n5    @SonicForces365 great project..\\n\\n#meta\\n#Gam...  1503941476379725824   \n6    @AirdropMars @SonicForces365 Lets goo🔥 amazing...  1503941465172758529   \n..                                                 ...                  ...   \n989  @SonicForces365 Good project\\n#meta #gamefi #S...  1503724426239508481   \n990  @SonicForces365 Good project\\n#meta #gamefi #s...  1503723854539096067   \n993      @AirdropRampage Best project, #Meta-elonverse  1503723105797214212   \n995  Metaverse May Be Tempting But It's Unregulated...  1503722962075086849   \n998  @SonicForces365 Good luck! @hungdng1979  @camv...  1503722824556773376   \n\n                                                  user  replyCount  \\\n1    {'_type': 'snscrape.modules.twitter.User', 'us...           0   \n2    {'_type': 'snscrape.modules.twitter.User', 'us...           0   \n4    {'_type': 'snscrape.modules.twitter.User', 'us...           0   \n5    {'_type': 'snscrape.modules.twitter.User', 'us...           0   \n6    {'_type': 'snscrape.modules.twitter.User', 'us...           0   \n..                                                 ...         ...   \n989  {'_type': 'snscrape.modules.twitter.User', 'us...           0   \n990  {'_type': 'snscrape.modules.twitter.User', 'us...           0   \n993  {'_type': 'snscrape.modules.twitter.User', 'us...           0   \n995  {'_type': 'snscrape.modules.twitter.User', 'us...           2   \n998  {'_type': 'snscrape.modules.twitter.User', 'us...           0   \n\n     retweetCount  likeCount  ...  \\\n1               0          0  ...   \n2               0          0  ...   \n4               0          0  ...   \n5               0          0  ...   \n6               0          0  ...   \n..            ...        ...  ...   \n989             0          0  ...   \n990             0          0  ...   \n993             0          0  ...   \n995             0          5  ...   \n998             0          0  ...   \n\n                                                 media  retweetedTweet  \\\n1                                                 None            None   \n2                                                 None            None   \n4                                                 None            None   \n5                                                 None            None   \n6                                                 None            None   \n..                                                 ...             ...   \n989                                               None            None   \n990                                               None            None   \n993                                               None            None   \n995  [{'_type': 'snscrape.modules.twitter.Photo', '...            None   \n998                                               None            None   \n\n    quotedTweet inReplyToTweetId  \\\n1          None     1.503708e+18   \n2          None     1.503708e+18   \n4          None              NaN   \n5          None              NaN   \n6          None     1.503735e+18   \n..          ...              ...   \n989        None     1.503708e+18   \n990        None     1.503708e+18   \n993        None     1.501795e+18   \n995        None              NaN   \n998        None     1.503708e+18   \n\n                                         inReplyToUser  \\\n1    {'_type': 'snscrape.modules.twitter.User', 'us...   \n2    {'_type': 'snscrape.modules.twitter.User', 'us...   \n4                                                 None   \n5                                                 None   \n6    {'_type': 'snscrape.modules.twitter.User', 'us...   \n..                                                 ...   \n989  {'_type': 'snscrape.modules.twitter.User', 'us...   \n990  {'_type': 'snscrape.modules.twitter.User', 'us...   \n993  {'_type': 'snscrape.modules.twitter.User', 'us...   \n995                                               None   \n998  {'_type': 'snscrape.modules.twitter.User', 'us...   \n\n                                        mentionedUsers coordinates place  \\\n1    [{'_type': 'snscrape.modules.twitter.User', 'u...        None  None   \n2    [{'_type': 'snscrape.modules.twitter.User', 'u...        None  None   \n4                                                 None        None  None   \n5    [{'_type': 'snscrape.modules.twitter.User', 'u...        None  None   \n6    [{'_type': 'snscrape.modules.twitter.User', 'u...        None  None   \n..                                                 ...         ...   ...   \n989  [{'_type': 'snscrape.modules.twitter.User', 'u...        None  None   \n990  [{'_type': 'snscrape.modules.twitter.User', 'u...        None  None   \n993  [{'_type': 'snscrape.modules.twitter.User', 'u...        None  None   \n995                                               None        None  None   \n998  [{'_type': 'snscrape.modules.twitter.User', 'u...        None  None   \n\n                                             hashtags cashtags  \n1                               [meta, GameFi, Sonic]     None  \n2                               [meta, gamefi, Sonic]     None  \n4                             [NFTs, Instagram, Meta]     None  \n5                               [meta, GameFi, sonic]     None  \n6                               [meta, gamefi, sonic]     None  \n..                                                ...      ...  \n989                             [meta, gamefi, Sonic]     None  \n990                             [meta, gamefi, sonic]     None  \n993                                            [Meta]     None  \n995  [metaverse, crypto, nft, meta, tech, oculusrift]     None  \n998                             [meta, gamefi, sonic]     None  \n\n[588 rows x 28 columns]",
      "text/html": "<div>\n<style scoped>\n    .dataframe tbody tr th:only-of-type {\n        vertical-align: middle;\n    }\n\n    .dataframe tbody tr th {\n        vertical-align: top;\n    }\n\n    .dataframe thead th {\n        text-align: right;\n    }\n</style>\n<table border=\"1\" class=\"dataframe\">\n  <thead>\n    <tr style=\"text-align: right;\">\n      <th></th>\n      <th>_type</th>\n      <th>url</th>\n      <th>date</th>\n      <th>content</th>\n      <th>renderedContent</th>\n      <th>id</th>\n      <th>user</th>\n      <th>replyCount</th>\n      <th>retweetCount</th>\n      <th>likeCount</th>\n      <th>...</th>\n      <th>media</th>\n      <th>retweetedTweet</th>\n      <th>quotedTweet</th>\n      <th>inReplyToTweetId</th>\n      <th>inReplyToUser</th>\n      <th>mentionedUsers</th>\n      <th>coordinates</th>\n      <th>place</th>\n      <th>hashtags</th>\n      <th>cashtags</th>\n    </tr>\n  </thead>\n  <tbody>\n    <tr>\n      <th>1</th>\n      <td>snscrape.modules.twitter.Tweet</td>\n      <td>https://twitter.com/sayurmayur795/status/15039...</td>\n      <td>2022-03-16T03:54:09+00:00</td>\n      <td>@SonicForces365 great project\\n@Maskulin232 @w...</td>\n      <td>@SonicForces365 great project\\n@Maskulin232 @w...</td>\n      <td>1503942672326672388</td>\n      <td>{'_type': 'snscrape.modules.twitter.User', 'us...</td>\n      <td>0</td>\n      <td>0</td>\n      <td>0</td>\n      <td>...</td>\n      <td>None</td>\n      <td>None</td>\n      <td>None</td>\n      <td>1.503708e+18</td>\n      <td>{'_type': 'snscrape.modules.twitter.User', 'us...</td>\n      <td>[{'_type': 'snscrape.modules.twitter.User', 'u...</td>\n      <td>None</td>\n      <td>None</td>\n      <td>[meta, GameFi, Sonic]</td>\n      <td>None</td>\n    </tr>\n    <tr>\n      <th>2</th>\n      <td>snscrape.modules.twitter.Tweet</td>\n      <td>https://twitter.com/MdNurHabib6/status/1503942...</td>\n      <td>2022-03-16T03:53:07+00:00</td>\n      <td>@SonicForces365 #meta #gamefi #Sonic\\nGood and...</td>\n      <td>@SonicForces365 #meta #gamefi #Sonic\\nGood and...</td>\n      <td>1503942410292043777</td>\n      <td>{'_type': 'snscrape.modules.twitter.User', 'us...</td>\n      <td>0</td>\n      <td>0</td>\n      <td>0</td>\n      <td>...</td>\n      <td>None</td>\n      <td>None</td>\n      <td>None</td>\n      <td>1.503708e+18</td>\n      <td>{'_type': 'snscrape.modules.twitter.User', 'us...</td>\n      <td>[{'_type': 'snscrape.modules.twitter.User', 'u...</td>\n      <td>None</td>\n      <td>None</td>\n      <td>[meta, gamefi, Sonic]</td>\n      <td>None</td>\n    </tr>\n    <tr>\n      <th>4</th>\n      <td>snscrape.modules.twitter.Tweet</td>\n      <td>https://twitter.com/koinhopper/status/15039415...</td>\n      <td>2022-03-16T03:49:31+00:00</td>\n      <td>“We’re working on bringing #NFTs to #Instagram...</td>\n      <td>“We’re working on bringing #NFTs to #Instagram...</td>\n      <td>1503941507266531329</td>\n      <td>{'_type': 'snscrape.modules.twitter.User', 'us...</td>\n      <td>0</td>\n      <td>0</td>\n      <td>0</td>\n      <td>...</td>\n      <td>None</td>\n      <td>None</td>\n      <td>None</td>\n      <td>NaN</td>\n      <td>None</td>\n      <td>None</td>\n      <td>None</td>\n      <td>None</td>\n      <td>[NFTs, Instagram, Meta]</td>\n      <td>None</td>\n    </tr>\n    <tr>\n      <th>5</th>\n      <td>snscrape.modules.twitter.Tweet</td>\n      <td>https://twitter.com/John011987/status/15039414...</td>\n      <td>2022-03-16T03:49:24+00:00</td>\n      <td>@SonicForces365 great project..\\n\\n#meta\\n#Gam...</td>\n      <td>@SonicForces365 great project..\\n\\n#meta\\n#Gam...</td>\n      <td>1503941476379725824</td>\n      <td>{'_type': 'snscrape.modules.twitter.User', 'us...</td>\n      <td>0</td>\n      <td>0</td>\n      <td>0</td>\n      <td>...</td>\n      <td>None</td>\n      <td>None</td>\n      <td>None</td>\n      <td>NaN</td>\n      <td>None</td>\n      <td>[{'_type': 'snscrape.modules.twitter.User', 'u...</td>\n      <td>None</td>\n      <td>None</td>\n      <td>[meta, GameFi, sonic]</td>\n      <td>None</td>\n    </tr>\n    <tr>\n      <th>6</th>\n      <td>snscrape.modules.twitter.Tweet</td>\n      <td>https://twitter.com/IbingSilat/status/15039414...</td>\n      <td>2022-03-16T03:49:21+00:00</td>\n      <td>@AirdropMars @SonicForces365 Lets goo🔥 amazing...</td>\n      <td>@AirdropMars @SonicForces365 Lets goo🔥 amazing...</td>\n      <td>1503941465172758529</td>\n      <td>{'_type': 'snscrape.modules.twitter.User', 'us...</td>\n      <td>0</td>\n      <td>0</td>\n      <td>0</td>\n      <td>...</td>\n      <td>None</td>\n      <td>None</td>\n      <td>None</td>\n      <td>1.503735e+18</td>\n      <td>{'_type': 'snscrape.modules.twitter.User', 'us...</td>\n      <td>[{'_type': 'snscrape.modules.twitter.User', 'u...</td>\n      <td>None</td>\n      <td>None</td>\n      <td>[meta, gamefi, sonic]</td>\n      <td>None</td>\n    </tr>\n    <tr>\n      <th>...</th>\n      <td>...</td>\n      <td>...</td>\n      <td>...</td>\n      <td>...</td>\n      <td>...</td>\n      <td>...</td>\n      <td>...</td>\n      <td>...</td>\n      <td>...</td>\n      <td>...</td>\n      <td>...</td>\n      <td>...</td>\n      <td>...</td>\n      <td>...</td>\n      <td>...</td>\n      <td>...</td>\n      <td>...</td>\n      <td>...</td>\n      <td>...</td>\n      <td>...</td>\n      <td>...</td>\n    </tr>\n    <tr>\n      <th>989</th>\n      <td>snscrape.modules.twitter.Tweet</td>\n      <td>https://twitter.com/vu_nguyen9/status/15037244...</td>\n      <td>2022-03-15T13:26:55+00:00</td>\n      <td>@SonicForces365 Good project\\n#meta #gamefi #S...</td>\n      <td>@SonicForces365 Good project\\n#meta #gamefi #S...</td>\n      <td>1503724426239508481</td>\n      <td>{'_type': 'snscrape.modules.twitter.User', 'us...</td>\n      <td>0</td>\n      <td>0</td>\n      <td>0</td>\n      <td>...</td>\n      <td>None</td>\n      <td>None</td>\n      <td>None</td>\n      <td>1.503708e+18</td>\n      <td>{'_type': 'snscrape.modules.twitter.User', 'us...</td>\n      <td>[{'_type': 'snscrape.modules.twitter.User', 'u...</td>\n      <td>None</td>\n      <td>None</td>\n      <td>[meta, gamefi, Sonic]</td>\n      <td>None</td>\n    </tr>\n    <tr>\n      <th>990</th>\n      <td>snscrape.modules.twitter.Tweet</td>\n      <td>https://twitter.com/vu_nguyen9/status/15037238...</td>\n      <td>2022-03-15T13:24:39+00:00</td>\n      <td>@SonicForces365 Good project\\n#meta #gamefi #s...</td>\n      <td>@SonicForces365 Good project\\n#meta #gamefi #s...</td>\n      <td>1503723854539096067</td>\n      <td>{'_type': 'snscrape.modules.twitter.User', 'us...</td>\n      <td>0</td>\n      <td>0</td>\n      <td>0</td>\n      <td>...</td>\n      <td>None</td>\n      <td>None</td>\n      <td>None</td>\n      <td>1.503708e+18</td>\n      <td>{'_type': 'snscrape.modules.twitter.User', 'us...</td>\n      <td>[{'_type': 'snscrape.modules.twitter.User', 'u...</td>\n      <td>None</td>\n      <td>None</td>\n      <td>[meta, gamefi, sonic]</td>\n      <td>None</td>\n    </tr>\n    <tr>\n      <th>993</th>\n      <td>snscrape.modules.twitter.Tweet</td>\n      <td>https://twitter.com/GenesisSarl/status/1503723...</td>\n      <td>2022-03-15T13:21:40+00:00</td>\n      <td>@AirdropRampage Best project, #Meta-elonverse</td>\n      <td>@AirdropRampage Best project, #Meta-elonverse</td>\n      <td>1503723105797214212</td>\n      <td>{'_type': 'snscrape.modules.twitter.User', 'us...</td>\n      <td>0</td>\n      <td>0</td>\n      <td>0</td>\n      <td>...</td>\n      <td>None</td>\n      <td>None</td>\n      <td>None</td>\n      <td>1.501795e+18</td>\n      <td>{'_type': 'snscrape.modules.twitter.User', 'us...</td>\n      <td>[{'_type': 'snscrape.modules.twitter.User', 'u...</td>\n      <td>None</td>\n      <td>None</td>\n      <td>[Meta]</td>\n      <td>None</td>\n    </tr>\n    <tr>\n      <th>995</th>\n      <td>snscrape.modules.twitter.Tweet</td>\n      <td>https://twitter.com/cryptscp/status/1503722962...</td>\n      <td>2022-03-15T13:21:06+00:00</td>\n      <td>Metaverse May Be Tempting But It's Unregulated...</td>\n      <td>Metaverse May Be Tempting But It's Unregulated...</td>\n      <td>1503722962075086849</td>\n      <td>{'_type': 'snscrape.modules.twitter.User', 'us...</td>\n      <td>2</td>\n      <td>0</td>\n      <td>5</td>\n      <td>...</td>\n      <td>[{'_type': 'snscrape.modules.twitter.Photo', '...</td>\n      <td>None</td>\n      <td>None</td>\n      <td>NaN</td>\n      <td>None</td>\n      <td>None</td>\n      <td>None</td>\n      <td>None</td>\n      <td>[metaverse, crypto, nft, meta, tech, oculusrift]</td>\n      <td>None</td>\n    </tr>\n    <tr>\n      <th>998</th>\n      <td>snscrape.modules.twitter.Tweet</td>\n      <td>https://twitter.com/camvy24062015/status/15037...</td>\n      <td>2022-03-15T13:20:33+00:00</td>\n      <td>@SonicForces365 Good luck! @hungdng1979  @camv...</td>\n      <td>@SonicForces365 Good luck! @hungdng1979  @camv...</td>\n      <td>1503722824556773376</td>\n      <td>{'_type': 'snscrape.modules.twitter.User', 'us...</td>\n      <td>0</td>\n      <td>0</td>\n      <td>0</td>\n      <td>...</td>\n      <td>None</td>\n      <td>None</td>\n      <td>None</td>\n      <td>1.503708e+18</td>\n      <td>{'_type': 'snscrape.modules.twitter.User', 'us...</td>\n      <td>[{'_type': 'snscrape.modules.twitter.User', 'u...</td>\n      <td>None</td>\n      <td>None</td>\n      <td>[meta, gamefi, sonic]</td>\n      <td>None</td>\n    </tr>\n  </tbody>\n</table>\n<p>588 rows × 28 columns</p>\n</div>"
     },
     "metadata": {}
    }
   ]
  },
  {
   "cell_type": "code",
   "metadata": {
    "cell_id": "73f3ecf3e5c0400488ecf59cd209daa2",
    "tags": [],
    "deepnote_to_be_reexecuted": false,
    "source_hash": "b2b55231",
    "execution_start": 1659559242476,
    "execution_millis": 102,
    "deepnote_cell_type": "code",
    "deepnote_cell_height": 613
   },
   "source": "df_meta = df_meta[df_meta['likeCount'] > 2]\ndf_meta",
   "execution_count": 3,
   "outputs": [
    {
     "output_type": "execute_result",
     "execution_count": 3,
     "data": {
      "application/vnd.deepnote.dataframe.v3+json": {
       "column_count": 28,
       "row_count": 130,
       "columns": [
        {
         "name": "_type",
         "dtype": "object",
         "stats": {
          "unique_count": 1,
          "nan_count": 0,
          "categories": [
           {
            "name": "snscrape.modules.twitter.Tweet",
            "count": 130
           }
          ]
         }
        },
        {
         "name": "url",
         "dtype": "object",
         "stats": {
          "unique_count": 130,
          "nan_count": 0,
          "categories": [
           {
            "name": "https://twitter.com/newage_gods/status/1503936941280018435",
            "count": 1
           },
           {
            "name": "https://twitter.com/MoonApeSale/status/1503932870250930177",
            "count": 1
           },
           {
            "name": "128 others",
            "count": 128
           }
          ]
         }
        },
        {
         "name": "date",
         "dtype": "object",
         "stats": {
          "unique_count": 129,
          "nan_count": 0,
          "categories": [
           {
            "name": "2022-03-15T13:51:25+00:00",
            "count": 2
           },
           {
            "name": "2022-03-16T03:31:23+00:00",
            "count": 1
           },
           {
            "name": "127 others",
            "count": 127
           }
          ]
         }
        },
        {
         "name": "content",
         "dtype": "object",
         "stats": {
          "unique_count": 130,
          "nan_count": 0,
          "categories": [
           {
            "name": "What do you think of Mark Zukerberg's announcement 📢 today on #NFTs coming to Instagram 📷, would you mint 🚀 on Instagram? #NFTdrop #NFTartist #NFTCommmunity #Instagram #Meta #Zuckerberg",
            "count": 1
           },
           {
            "name": "Rare Loot  #1263 Sold for 0.08Ξ #NFT #NFTs #NFTsales #cryptoartist #nftartist #blockchain #NFTGiveaway #Meta https://t.co/gNOv4OHvHI",
            "count": 1
           },
           {
            "name": "128 others",
            "count": 128
           }
          ]
         }
        },
        {
         "name": "renderedContent",
         "dtype": "object",
         "stats": {
          "unique_count": 128,
          "nan_count": 0,
          "categories": [
           {
            "name": "New Ducksters NFT out Now 1/1 NFT\nDKST\n1/1\nopensea.io/assets/matic/0…\n\n#nfts #nftdrop #openseanfts #opensea \n@opensea\n\n #nftart #nftartist #NFTdrops #nftdrop #meta #vr #metaverse",
            "count": 2
           },
           {
            "name": "New #nft out now\n1/1 CryptoBoys NFT (CRYB)\n\nopensea.io/assets/matic/0…\n\n#nfts #nftdrop #openseanfts #opensea \n@opensea\n\n #nftart #nftartist #NFTdrops #nftdrop #meta #vr #metaverse\n\nCheck us out now!\n1/1 NFTs (rare)",
            "count": 2
           },
           {
            "name": "126 others",
            "count": 126
           }
          ]
         }
        },
        {
         "name": "id",
         "dtype": "int64",
         "stats": {
          "unique_count": 130,
          "nan_count": 0,
          "min": "1503722962075086849",
          "max": "1503936941280018435",
          "histogram": [
           {
            "bin_start": 1503722962075086800,
            "bin_end": 1503744359995580000,
            "count": 16
           },
           {
            "bin_start": 1503744359995580000,
            "bin_end": 1503765757916073200,
            "count": 18
           },
           {
            "bin_start": 1503765757916073200,
            "bin_end": 1503787155836566300,
            "count": 9
           },
           {
            "bin_start": 1503787155836566300,
            "bin_end": 1503808553757059600,
            "count": 19
           },
           {
            "bin_start": 1503808553757059600,
            "bin_end": 1503829951677552600,
            "count": 13
           },
           {
            "bin_start": 1503829951677552600,
            "bin_end": 1503851349598045700,
            "count": 16
           },
           {
            "bin_start": 1503851349598045700,
            "bin_end": 1503872747518539000,
            "count": 9
           },
           {
            "bin_start": 1503872747518539000,
            "bin_end": 1503894145439032000,
            "count": 14
           },
           {
            "bin_start": 1503894145439032000,
            "bin_end": 1503915543359525400,
            "count": 9
           },
           {
            "bin_start": 1503915543359525400,
            "bin_end": 1503936941280018400,
            "count": 7
           }
          ]
         }
        },
        {
         "name": "user",
         "dtype": "object",
         "stats": {
          "unique_count": 130,
          "nan_count": 0,
          "categories": [
           {
            "name": "{'_type': 'snscrape.modules.twitter.User', 'username': 'metanews_com', 'id': 747893755, 'displayname': 'MetaNews', 'description': 'Your Official Metaverse Source', 'rawDescription': 'Your Official Metaverse Source', 'descriptionUrls': None, 'verified': False, 'created': '2012-08-09T20:34:06+00:00', 'followersCount': 17537, 'friendsCount': 45, 'statusesCount': 4611, 'favouritesCount': 34, 'listedCount': 18, 'mediaCount': 78, 'location': 'United Kingdom', 'protected': False, 'linkUrl': 'http://metanews.com', 'linkTcourl': 'https://t.co/8MeXUNc5v4', 'profileImageUrl': 'https://pbs.twimg.com/profile_images/1494183325304782849/mlcfzkZn_normal.jpg', 'profileBannerUrl': 'https://pbs.twimg.com/profile_banners/747893755/1638277243', 'label': None, 'url': 'https://twitter.com/metanews_com'}",
            "count": 11
           },
           {
            "name": "{'_type': 'snscrape.modules.twitter.User', 'username': 'MazManStudios', 'id': 1467936297604030476, 'displayname': 'MazMan Studios \\uea00', 'description': 'We make NFTs. We changed so much from BurgerBros to LongMile. Now we are finalizing ourselves. Brand New Series!\\nS1:BurgerBro\\nS2:LongMile\\nS3:MazMan\\n#cyberoasis', 'rawDescription': 'We make NFTs. We changed so much from BurgerBros to LongMile. Now we are finalizing ourselves. Brand New Series!\\nS1:BurgerBro\\nS2:LongMile\\nS3:MazMan\\n#cyberoasis', 'descriptionUrls': None, 'verified': False, 'created': '2021-12-06T19:17:54+00:00', 'followersCount': 90, 'friendsCount': 132, 'statusesCount': 403, 'favouritesCount': 485, 'listedCount': 6, 'mediaCount': 12, 'location': 'NJ', 'protected': False, 'linkUrl': 'http://bit.ly/longmileNFTs', 'linkTcourl': 'https://t.co/Lq0lxr6MuS', 'profileImageUrl': 'https://pbs.twimg.com/profile_images/1502761292678905858/N9nZAiEB_normal.jpg', 'profileBannerUrl': 'https://pbs.twimg.com/profile_banners/1467936297604030476/1647121187', 'label': None, 'url': 'https://twitter.com/MazManStudios'}",
            "count": 10
           },
           {
            "name": "84 others",
            "count": 109
           }
          ]
         }
        },
        {
         "name": "replyCount",
         "dtype": "int64",
         "stats": {
          "unique_count": 10,
          "nan_count": 0,
          "min": "0",
          "max": "20",
          "histogram": [
           {
            "bin_start": 0,
            "bin_end": 2,
            "count": 109
           },
           {
            "bin_start": 2,
            "bin_end": 4,
            "count": 14
           },
           {
            "bin_start": 4,
            "bin_end": 6,
            "count": 1
           },
           {
            "bin_start": 6,
            "bin_end": 8,
            "count": 3
           },
           {
            "bin_start": 8,
            "bin_end": 10,
            "count": 0
           },
           {
            "bin_start": 10,
            "bin_end": 12,
            "count": 1
           },
           {
            "bin_start": 12,
            "bin_end": 14,
            "count": 0
           },
           {
            "bin_start": 14,
            "bin_end": 16,
            "count": 1
           },
           {
            "bin_start": 16,
            "bin_end": 18,
            "count": 0
           },
           {
            "bin_start": 18,
            "bin_end": 20,
            "count": 1
           }
          ]
         }
        },
        {
         "name": "retweetCount",
         "dtype": "int64",
         "stats": {
          "unique_count": 14,
          "nan_count": 0,
          "min": "0",
          "max": "32",
          "histogram": [
           {
            "bin_start": 0,
            "bin_end": 3.2,
            "count": 117
           },
           {
            "bin_start": 3.2,
            "bin_end": 6.4,
            "count": 5
           },
           {
            "bin_start": 6.4,
            "bin_end": 9.600000000000001,
            "count": 2
           },
           {
            "bin_start": 9.600000000000001,
            "bin_end": 12.8,
            "count": 2
           },
           {
            "bin_start": 12.8,
            "bin_end": 16,
            "count": 1
           },
           {
            "bin_start": 16,
            "bin_end": 19.200000000000003,
            "count": 0
           },
           {
            "bin_start": 19.200000000000003,
            "bin_end": 22.400000000000002,
            "count": 1
           },
           {
            "bin_start": 22.400000000000002,
            "bin_end": 25.6,
            "count": 0
           },
           {
            "bin_start": 25.6,
            "bin_end": 28.8,
            "count": 1
           },
           {
            "bin_start": 28.8,
            "bin_end": 32,
            "count": 1
           }
          ]
         }
        },
        {
         "name": "likeCount",
         "dtype": "int64",
         "stats": {
          "unique_count": 21,
          "nan_count": 0,
          "min": "3",
          "max": "94",
          "histogram": [
           {
            "bin_start": 3,
            "bin_end": 12.1,
            "count": 117
           },
           {
            "bin_start": 12.1,
            "bin_end": 21.2,
            "count": 5
           },
           {
            "bin_start": 21.2,
            "bin_end": 30.299999999999997,
            "count": 4
           },
           {
            "bin_start": 30.299999999999997,
            "bin_end": 39.4,
            "count": 0
           },
           {
            "bin_start": 39.4,
            "bin_end": 48.5,
            "count": 0
           },
           {
            "bin_start": 48.5,
            "bin_end": 57.599999999999994,
            "count": 2
           },
           {
            "bin_start": 57.599999999999994,
            "bin_end": 66.69999999999999,
            "count": 0
           },
           {
            "bin_start": 66.69999999999999,
            "bin_end": 75.8,
            "count": 1
           },
           {
            "bin_start": 75.8,
            "bin_end": 84.89999999999999,
            "count": 0
           },
           {
            "bin_start": 84.89999999999999,
            "bin_end": 94,
            "count": 1
           }
          ]
         }
        },
        {
         "name": "quoteCount",
         "dtype": "int64",
         "stats": {
          "unique_count": 7,
          "nan_count": 0,
          "min": "0",
          "max": "6",
          "histogram": [
           {
            "bin_start": 0,
            "bin_end": 0.6,
            "count": 62
           },
           {
            "bin_start": 0.6,
            "bin_end": 1.2,
            "count": 38
           },
           {
            "bin_start": 1.2,
            "bin_end": 1.7999999999999998,
            "count": 0
           },
           {
            "bin_start": 1.7999999999999998,
            "bin_end": 2.4,
            "count": 16
           },
           {
            "bin_start": 2.4,
            "bin_end": 3,
            "count": 0
           },
           {
            "bin_start": 3,
            "bin_end": 3.5999999999999996,
            "count": 8
           },
           {
            "bin_start": 3.5999999999999996,
            "bin_end": 4.2,
            "count": 4
           },
           {
            "bin_start": 4.2,
            "bin_end": 4.8,
            "count": 0
           },
           {
            "bin_start": 4.8,
            "bin_end": 5.3999999999999995,
            "count": 1
           },
           {
            "bin_start": 5.3999999999999995,
            "bin_end": 6,
            "count": 1
           }
          ]
         }
        },
        {
         "name": "conversationId",
         "dtype": "int64",
         "stats": {
          "unique_count": 121,
          "nan_count": 0,
          "min": "1503598259750776834",
          "max": "1503936941280018435",
          "histogram": [
           {
            "bin_start": 1503598259750776800,
            "bin_end": 1503632127903701000,
            "count": 1
           },
           {
            "bin_start": 1503632127903701000,
            "bin_end": 1503665996056625200,
            "count": 0
           },
           {
            "bin_start": 1503665996056625200,
            "bin_end": 1503699864209549300,
            "count": 0
           },
           {
            "bin_start": 1503699864209549300,
            "bin_end": 1503733732362473500,
            "count": 15
           },
           {
            "bin_start": 1503733732362473500,
            "bin_end": 1503767600515397600,
            "count": 24
           },
           {
            "bin_start": 1503767600515397600,
            "bin_end": 1503801468668321800,
            "count": 15
           },
           {
            "bin_start": 1503801468668321800,
            "bin_end": 1503835336821246000,
            "count": 23
           },
           {
            "bin_start": 1503835336821246000,
            "bin_end": 1503869204974170000,
            "count": 20
           },
           {
            "bin_start": 1503869204974170000,
            "bin_end": 1503903073127094300,
            "count": 21
           },
           {
            "bin_start": 1503903073127094300,
            "bin_end": 1503936941280018400,
            "count": 11
           }
          ]
         }
        },
        {
         "name": "lang",
         "dtype": "object",
         "stats": {
          "unique_count": 1,
          "nan_count": 0,
          "categories": [
           {
            "name": "en",
            "count": 130
           }
          ]
         }
        },
        {
         "name": "source",
         "dtype": "object",
         "stats": {
          "unique_count": 18,
          "nan_count": 0,
          "categories": [
           {
            "name": "<a href=\"https://mobile.twitter.com\" rel=\"nofollow\">Twitter Web App</a>",
            "count": 64
           },
           {
            "name": "<a href=\"http://twitter.com/download/iphone\" rel=\"nofollow\">Twitter for iPhone</a>",
            "count": 21
           },
           {
            "name": "16 others",
            "count": 45
           }
          ]
         }
        },
        {
         "name": "sourceUrl",
         "dtype": "object",
         "stats": {
          "unique_count": 17,
          "nan_count": 0,
          "categories": [
           {
            "name": "https://mobile.twitter.com",
            "count": 64
           },
           {
            "name": "http://twitter.com/download/iphone",
            "count": 21
           },
           {
            "name": "15 others",
            "count": 45
           }
          ]
         }
        },
        {
         "name": "sourceLabel",
         "dtype": "object",
         "stats": {
          "unique_count": 18,
          "nan_count": 0,
          "categories": [
           {
            "name": "Twitter Web App",
            "count": 64
           },
           {
            "name": "Twitter for iPhone",
            "count": 21
           },
           {
            "name": "16 others",
            "count": 45
           }
          ]
         }
        },
        {
         "name": "outlinks",
         "dtype": "object",
         "stats": {
          "unique_count": 130,
          "nan_count": 51,
          "categories": [
           {
            "name": "['https://www.coindesk.com/business/2022/03/15/mark-zuckerberg-says-nfts-are-coming-soon-to-instagram/']",
            "count": 3
           },
           {
            "name": "76 others",
            "count": 76
           },
           {
            "name": "Missing",
            "count": 51
           }
          ]
         }
        },
        {
         "name": "tcooutlinks",
         "dtype": "object",
         "stats": {
          "unique_count": 130,
          "nan_count": 51,
          "categories": [
           {
            "name": "['https://t.co/GK8TCpBx7g']",
            "count": 1
           },
           {
            "name": "78 others",
            "count": 78
           },
           {
            "name": "Missing",
            "count": 51
           }
          ]
         }
        },
        {
         "name": "media",
         "dtype": "object",
         "stats": {
          "unique_count": 130,
          "nan_count": 81,
          "categories": [
           {
            "name": "[{'_type': 'snscrape.modules.twitter.Photo', 'previewUrl': 'https://pbs.twimg.com/media/FN8K-cDXEAM3BAP?format=png&name=small', 'fullUrl': 'https://pbs.twimg.com/media/FN8K-cDXEAM3BAP?format=png&name=large'}]",
            "count": 1
           },
           {
            "name": "48 others",
            "count": 48
           },
           {
            "name": "Missing",
            "count": 81
           }
          ]
         }
        },
        {
         "name": "retweetedTweet",
         "dtype": "object",
         "stats": {
          "unique_count": 0,
          "nan_count": 130,
          "categories": [
           {
            "name": "Missing",
            "count": 130
           }
          ]
         }
        },
        {
         "name": "quotedTweet",
         "dtype": "object",
         "stats": {
          "unique_count": 130,
          "nan_count": 125,
          "categories": [
           {
            "name": "{'_type': 'snscrape.modules.twitter.Tweet', 'url': 'https://twitter.com/Adopt_A_Boxer/status/1503884825949876225', 'date': '2022-03-16T00:04:17+00:00', 'content': 'Winnie came out of an overflowing \\u2066@ACCTPhilly\\u2069 shelter. Winnie was fully vetted last week. She got a dental, a spay and everything she needed.Winnie loves everyone. She’s in foster with multiple dogs outside of Phila. #adoptme #shelterpet #boxerdog #boxersoftwitter #dog https://t.co/dNRLp92gqk', 'renderedContent': 'Winnie came out of an overflowing \\u2066@ACCTPhilly\\u2069 shelter. Winnie was fully vetted last week. She got a dental, a spay and everything she needed.Winnie loves everyone. She’s in foster with multiple dogs outside of Phila. #adoptme #shelterpet #boxerdog #boxersoftwitter #dog https://t.co/dNRLp92gqk', 'id': 1503884825949876225, 'user': {'_type': 'snscrape.modules.twitter.User', 'username': 'Adopt_A_Boxer', 'id': 31004065, 'displayname': 'Adopt a Boxer Rescue', 'description': 'Adopt A Boxer Rescue is a 501(c)3 all-volunteer charitable organization formed to rescue, rehabilitate, and re-home unwanted and abandoned Boxers. Based in PA', 'rawDescription': 'Adopt A Boxer Rescue is a 501(c)3 all-volunteer charitable organization formed to rescue, rehabilitate, and re-home unwanted and abandoned Boxers. Based in PA', 'descriptionUrls': None, 'verified': False, 'created': '2009-04-14T00:24:25+00:00', 'followersCount': 6170, 'friendsCount': 1639, 'statusesCount': 6165, 'favouritesCount': 7247, 'listedCount': 114, 'mediaCount': 2974, 'location': 'Serving PA NY NJ CT DC metro', 'protected': False, 'linkUrl': 'http://adoptaboxerrescue.com', 'linkTcourl': 'https://t.co/G4vm0h1bn3', 'profileImageUrl': 'https://pbs.twimg.com/profile_images/1453873625921171499/Xxu2j1jw_normal.jpg', 'profileBannerUrl': 'https://pbs.twimg.com/profile_banners/31004065/1578150916', 'label': None, 'url': 'https://twitter.com/Adopt_A_Boxer'}, 'replyCount': 2, 'retweetCount': 13, 'likeCount': 55, 'quoteCount': 2, 'conversationId': 1503884825949876225, 'lang': 'en', 'source': '<a href=\"http://twitter.com/download/iphone\" rel=\"nofollow\">Twitter for iPhone</a>', 'sourceUrl': 'http://twitter.com/download/iphone', 'sourceLabel': 'Twitter for iPhone', 'outlinks': None, 'tcooutlinks': None, 'media': [{'_type': 'snscrape.modules.twitter.Photo', 'previewUrl': 'https://pbs.twimg.com/media/FN7fRnCXMAYa5sK?format=jpg&name=small', 'fullUrl': 'https://pbs.twimg.com/media/FN7fRnCXMAYa5sK?format=jpg&name=large'}], 'retweetedTweet': None, 'quotedTweet': None, 'inReplyToTweetId': None, 'inReplyToUser': None, 'mentionedUsers': [{'_type': 'snscrape.modules.twitter.User', 'username': 'ACCTPhilly', 'id': 94795923, 'displayname': 'ACCT Philly', 'description': None, 'rawDescription': None, 'descriptionUrls': None, 'verified': None, 'created': None, 'followersCount': None, 'friendsCount': None, 'statusesCount': None, 'favouritesCount': None, 'listedCount': None, 'mediaCount': None, 'location': None, 'protected': None, 'linkUrl': None, 'linkTcourl': None, 'profileImageUrl': None, 'profileBannerUrl': None, 'label': None, 'url': 'https://twitter.com/ACCTPhilly'}], 'coordinates': None, 'place': None, 'hashtags': ['adoptme', 'shelterpet', 'boxerdog', 'boxersoftwitter', 'dog'], 'cashtags': None}",
            "count": 1
           },
           {
            "name": "4 others",
            "count": 4
           },
           {
            "name": "Missing",
            "count": 125
           }
          ]
         }
        },
        {
         "name": "inReplyToTweetId",
         "dtype": "float64",
         "stats": {
          "unique_count": 12,
          "nan_count": 115,
          "min": "1.5035982597507768e+18",
          "max": "1.5038830443687608e+18",
          "histogram": [
           {
            "bin_start": 1503598259750776800,
            "bin_end": 1503626738212575200,
            "count": 1
           },
           {
            "bin_start": 1503626738212575200,
            "bin_end": 1503655216674373600,
            "count": 0
           },
           {
            "bin_start": 1503655216674373600,
            "bin_end": 1503683695136172000,
            "count": 0
           },
           {
            "bin_start": 1503683695136172000,
            "bin_end": 1503712173597970400,
            "count": 3
           },
           {
            "bin_start": 1503712173597970400,
            "bin_end": 1503740652059768800,
            "count": 8
           },
           {
            "bin_start": 1503740652059768800,
            "bin_end": 1503769130521567200,
            "count": 0
           },
           {
            "bin_start": 1503769130521567200,
            "bin_end": 1503797608983365600,
            "count": 1
           },
           {
            "bin_start": 1503797608983365600,
            "bin_end": 1503826087445164000,
            "count": 1
           },
           {
            "bin_start": 1503826087445164000,
            "bin_end": 1503854565906962400,
            "count": 0
           },
           {
            "bin_start": 1503854565906962400,
            "bin_end": 1503883044368760800,
            "count": 1
           }
          ]
         }
        },
        {
         "name": "inReplyToUser",
         "dtype": "object",
         "stats": {
          "unique_count": 130,
          "nan_count": 115,
          "categories": [
           {
            "name": "{'_type': 'snscrape.modules.twitter.User', 'username': 'MetaSlavs', 'id': 1438645467613642752, 'displayname': 'MetaSlavs NFT 🤙', 'description': '1250 hand-drawn MetaSlavs NFTs available now! 🤙\\nJoin discord.gg/metaslavs & immortalize squatting Slavs 🔥 \\n🚀 We are Sold Out', 'rawDescription': '1250 hand-drawn MetaSlavs NFTs available now! 🤙\\nJoin https://t.co/Uhcb0JFfHU & immortalize squatting Slavs 🔥 \\n🚀 We are Sold Out', 'descriptionUrls': [{'text': 'discord.gg/metaslavs', 'url': 'http://discord.gg/metaslavs', 'tcourl': 'https://t.co/Uhcb0JFfHU', 'indices': [53, 76]}], 'verified': False, 'created': '2021-09-16T23:26:33+00:00', 'followersCount': 15877, 'friendsCount': 199, 'statusesCount': 754, 'favouritesCount': 1464, 'listedCount': 12, 'mediaCount': 362, 'location': 'Slavs everywhere', 'protected': False, 'linkUrl': 'https://discord.gg/metaslavs', 'linkTcourl': 'https://t.co/KRqX1eMO0t', 'profileImageUrl': 'https://pbs.twimg.com/profile_images/1463509712884969476/fpFtJLGr_normal.jpg', 'profileBannerUrl': 'https://pbs.twimg.com/profile_banners/1438645467613642752/1644339702', 'label': None, 'url': 'https://twitter.com/MetaSlavs'}",
            "count": 6
           },
           {
            "name": "5 others",
            "count": 9
           },
           {
            "name": "Missing",
            "count": 115
           }
          ]
         }
        },
        {
         "name": "mentionedUsers",
         "dtype": "object",
         "stats": {
          "unique_count": 130,
          "nan_count": 82,
          "categories": [
           {
            "name": "[{'_type': 'snscrape.modules.twitter.User', 'username': 'opensea', 'id': 946213559213555712, 'displayname': 'OpenSea', 'description': None, 'rawDescription': None, 'descriptionUrls': None, 'verified': None, 'created': None, 'followersCount': None, 'friendsCount': None, 'statusesCount': None, 'favouritesCount': None, 'listedCount': None, 'mediaCount': None, 'location': None, 'protected': None, 'linkUrl': None, 'linkTcourl': None, 'profileImageUrl': None, 'profileBannerUrl': None, 'label': None, 'url': 'https://twitter.com/opensea'}]",
            "count": 12
           },
           {
            "name": "34 others",
            "count": 36
           },
           {
            "name": "Missing",
            "count": 82
           }
          ]
         }
        },
        {
         "name": "coordinates",
         "dtype": "object",
         "stats": {
          "unique_count": 130,
          "nan_count": 128,
          "categories": [
           {
            "name": "{'_type': 'snscrape.modules.twitter.Coordinates', 'longitude': -71.01153, 'latitude': 42.444954}",
            "count": 1
           },
           {
            "name": "{'_type': 'snscrape.modules.twitter.Coordinates', 'longitude': -65.85182, 'latitude': 46.256755}",
            "count": 1
           },
           {
            "name": "Missing",
            "count": 128
           }
          ]
         }
        },
        {
         "name": "place",
         "dtype": "object",
         "stats": {
          "unique_count": 130,
          "nan_count": 128,
          "categories": [
           {
            "name": "{'_type': 'snscrape.modules.twitter.Place', 'fullName': 'Lynn, MA', 'name': 'Lynn', 'type': 'city', 'country': 'United States', 'countryCode': 'US'}",
            "count": 1
           },
           {
            "name": "{'_type': 'snscrape.modules.twitter.Place', 'fullName': 'Kent, New Brunswick', 'name': 'Kent', 'type': 'admin', 'country': 'Canada', 'countryCode': 'CA'}",
            "count": 1
           },
           {
            "name": "Missing",
            "count": 128
           }
          ]
         }
        },
        {
         "name": "hashtags",
         "dtype": "object",
         "stats": {
          "unique_count": 130,
          "nan_count": 0,
          "categories": [
           {
            "name": "['Metanews', 'Metaverse', 'meta', 'NFT', 'VR', 'AR']",
            "count": 11
           },
           {
            "name": "['Metaverse', 'meta', 'crypto', 'BTC', 'bitcoin']",
            "count": 7
           },
           {
            "name": "92 others",
            "count": 112
           }
          ]
         }
        },
        {
         "name": "cashtags",
         "dtype": "object",
         "stats": {
          "unique_count": 130,
          "nan_count": 127,
          "categories": [
           {
            "name": "['Eth']",
            "count": 1
           },
           {
            "name": "2 others",
            "count": 2
           },
           {
            "name": "Missing",
            "count": 127
           }
          ]
         }
        },
        {
         "name": "_deepnote_index_column",
         "dtype": "int64"
        }
       ],
       "rows": [
        {
         "_type": "snscrape.modules.twitter.Tweet",
         "url": "https://twitter.com/newage_gods/status/1503936941280018435",
         "date": "2022-03-16T03:31:23+00:00",
         "content": "What do you think of Mark Zukerberg's announcement 📢 today on #NFTs coming to Instagram 📷, would you mint 🚀 on Instagram? #NFTdrop #NFTartist #NFTCommmunity #Instagram #Meta #Zuckerberg",
         "renderedContent": "What do you think of Mark Zukerberg's announcement 📢 today on #NFTs coming to Instagram 📷, would you mint 🚀 on Instagram? #NFTdrop #NFTartist #NFTCommmunity #Instagram #Meta #Zuckerberg",
         "id": 1503936941280018400,
         "user": "{'_type': 'snscrape.modules.twitter.User', 'username': 'newage_gods', 'id': 1488801468073209859, 'displayname': 'Stylish Shiva Pretty Parvati', 'description': 'NFT Movie Project 🎬 | Animation 🎦 | Forming a 🌏 community for Indian 🇮🇳 Mythology fans 🔥Uniting Hindus through 1K NFT PFPs 👨\\u200d🏫👩\\u200d🏫 for social causes', 'rawDescription': 'NFT Movie Project 🎬 | Animation 🎦 | Forming a 🌏 community for Indian 🇮🇳 Mythology fans 🔥Uniting Hindus through 1K NFT PFPs 👨\\u200d🏫👩\\u200d🏫 for social causes', 'descriptionUrls': None, 'verified': False, 'created': '2022-02-02T09:08:34+00:00', 'followersCount': 325, 'friendsCount': 523, 'statusesCount': 59, 'favouritesCount': 2350, 'listedCount': 4, 'mediaCount': 23, 'location': 'Metaverse', 'protected': False, 'linkUrl': 'https://opensea.io/collection/stylish-shiva-pretty-parvati', 'linkTcourl': 'https://t.co/bR5FnuFjDQ', 'profileImageUrl': 'https://pbs.twimg.com/profile_images/1500653679501721600/V3RGqd1d_normal.jpg', 'profileBannerUrl': 'https://pbs…",
         "replyCount": 0,
         "retweetCount": 0,
         "likeCount": 5,
         "quoteCount": 1,
         "conversationId": 1503936941280018400,
         "lang": "en",
         "source": "<a href=\"https://mobile.twitter.com\" rel=\"nofollow\">Twitter Web App</a>",
         "sourceUrl": "https://mobile.twitter.com",
         "sourceLabel": "Twitter Web App",
         "outlinks": "None",
         "tcooutlinks": "None",
         "media": "None",
         "retweetedTweet": "None",
         "quotedTweet": "None",
         "inReplyToTweetId": "nan",
         "inReplyToUser": "None",
         "mentionedUsers": "None",
         "coordinates": "None",
         "place": "None",
         "hashtags": "['NFTs', 'NFTdrop', 'NFTartist', 'NFTCommmunity', 'Instagram', 'Meta', 'Zuckerberg']",
         "cashtags": "None",
         "_deepnote_index_column": 24
        },
        {
         "_type": "snscrape.modules.twitter.Tweet",
         "url": "https://twitter.com/MoonApeSale/status/1503932870250930177",
         "date": "2022-03-16T03:15:12+00:00",
         "content": "Rare Loot  #1263 Sold for 0.08Ξ #NFT #NFTs #NFTsales #cryptoartist #nftartist #blockchain #NFTGiveaway #Meta https://t.co/gNOv4OHvHI",
         "renderedContent": "Rare Loot  #1263 Sold for 0.08Ξ #NFT #NFTs #NFTsales #cryptoartist #nftartist #blockchain #NFTGiveaway #Meta https://t.co/gNOv4OHvHI",
         "id": 1503932870250930200,
         "user": "{'_type': 'snscrape.modules.twitter.User', 'username': 'MoonApeSale', 'id': 1487857969559703556, 'displayname': 'Moon Ape Lab Sales', 'description': 'Moon Ape Lab Sales Feed\\nA community managed bot created by @SlushPerson\\nTurn ON notifications! Tap That BELL for immediate alerts!', 'rawDescription': 'Moon Ape Lab Sales Feed\\nA community managed bot created by @SlushPerson\\nTurn ON notifications! Tap That BELL for immediate alerts!', 'descriptionUrls': None, 'verified': False, 'created': '2022-01-30T18:39:36+00:00', 'followersCount': 576, 'friendsCount': 2, 'statusesCount': 2888, 'favouritesCount': 14, 'listedCount': 0, 'mediaCount': 2853, 'location': '', 'protected': False, 'linkUrl': None, 'linkTcourl': None, 'profileImageUrl': 'https://pbs.twimg.com/profile_images/1487858109964034049/iKEKFju2_normal.jpg', 'profileBannerUrl': 'https://pbs.twimg.com/profile_banners/1487857969559703556/1643568163', 'label': None, 'url': 'https://twitter.com/MoonApeSale'}",
         "replyCount": 0,
         "retweetCount": 0,
         "likeCount": 4,
         "quoteCount": 4,
         "conversationId": 1503932870250930200,
         "lang": "en",
         "source": "<a href=\"https://help.twitter.com/en/using-twitter/how-to-tweet#source-labels\" rel=\"nofollow\">TrippyFeed</a>",
         "sourceUrl": "https://help.twitter.com/en/using-twitter/how-to-tweet#source-labels",
         "sourceLabel": "TrippyFeed",
         "outlinks": "None",
         "tcooutlinks": "None",
         "media": "[{'_type': 'snscrape.modules.twitter.Photo', 'previewUrl': 'https://pbs.twimg.com/media/FN8K-cDXEAM3BAP?format=png&name=small', 'fullUrl': 'https://pbs.twimg.com/media/FN8K-cDXEAM3BAP?format=png&name=large'}]",
         "retweetedTweet": "None",
         "quotedTweet": "None",
         "inReplyToTweetId": "nan",
         "inReplyToUser": "None",
         "mentionedUsers": "None",
         "coordinates": "None",
         "place": "None",
         "hashtags": "['NFT', 'NFTs', 'NFTsales', 'cryptoartist', 'nftartist', 'blockchain', 'NFTGiveaway', 'Meta']",
         "cashtags": "None",
         "_deepnote_index_column": 40
        },
        {
         "_type": "snscrape.modules.twitter.Tweet",
         "url": "https://twitter.com/Mikehuntisbig19/status/1503932626637312006",
         "date": "2022-03-16T03:14:14+00:00",
         "content": "https://t.co/GK8TCpBx7g\n\nHave you guys checked out cyptoduckz?? #meta #nft #nfts",
         "renderedContent": "opensea.io/collection/cry…\n\nHave you guys checked out cyptoduckz?? #meta #nft #nfts",
         "id": 1503932626637312000,
         "user": "{'_type': 'snscrape.modules.twitter.User', 'username': 'Mikehuntisbig19', 'id': 1452450053679837187, 'displayname': 'Nobadcypto', 'description': \"Hey I'm nobadcypto I make nfts! nd invest into cypto. 🌬 Creator of Cyptoduckz 🐤\", 'rawDescription': \"Hey I'm nobadcypto I make nfts! nd invest into cypto. 🌬 Creator of Cyptoduckz 🐤\", 'descriptionUrls': None, 'verified': False, 'created': '2021-10-25T01:41:03+00:00', 'followersCount': 40, 'friendsCount': 79, 'statusesCount': 1308, 'favouritesCount': 448, 'listedCount': 7, 'mediaCount': 375, 'location': '🇨🇦', 'protected': False, 'linkUrl': 'https://opensea.io/nobadcrypto', 'linkTcourl': 'https://t.co/oPLO2JFJ8U', 'profileImageUrl': 'https://pbs.twimg.com/profile_images/1496756141568802827/JpL0YpQn_normal.jpg', 'profileBannerUrl': 'https://pbs.twimg.com/profile_banners/1452450053679837187/1645522350', 'label': None, 'url': 'https://twitter.com/Mikehuntisbig19'}",
         "replyCount": 0,
         "retweetCount": 0,
         "likeCount": 5,
         "quoteCount": 2,
         "conversationId": 1503932626637312000,
         "lang": "en",
         "source": "<a href=\"https://mobile.twitter.com\" rel=\"nofollow\">Twitter Web App</a>",
         "sourceUrl": "https://mobile.twitter.com",
         "sourceLabel": "Twitter Web App",
         "outlinks": "['https://opensea.io/collection/cryptoduckz?search[sortAscending]=false&search[sortBy]=FAVORITE_COUNT']",
         "tcooutlinks": "['https://t.co/GK8TCpBx7g']",
         "media": "None",
         "retweetedTweet": "None",
         "quotedTweet": "None",
         "inReplyToTweetId": "nan",
         "inReplyToUser": "None",
         "mentionedUsers": "None",
         "coordinates": "None",
         "place": "None",
         "hashtags": "['meta', 'nft', 'nfts']",
         "cashtags": "None",
         "_deepnote_index_column": 42
        },
        {
         "_type": "snscrape.modules.twitter.Tweet",
         "url": "https://twitter.com/GXT25075644/status/1503931569437700097",
         "date": "2022-03-16T03:10:02+00:00",
         "content": "#BAYC - Yuga Labs of  NFT BAYC will sell virtual land of metaverse this month, and are expecting that it will increase the company's sale for three to four times.\n\n#META - Mark Zuckerberg, META CEO,  said during #SXSW(South by Southwest) that they will add NFTs in Instagram soon. https://t.co/SH8bIbwXgp",
         "renderedContent": "#BAYC - Yuga Labs of  NFT BAYC will sell virtual land of metaverse this month, and are expecting that it will increase the company's sale for three to four times.\n\n#META - Mark Zuckerberg, META CEO,  said during #SXSW(South by Southwest) that they will add NFTs in Instagram soon. https://t.co/SH8bIbwXgp",
         "id": 1503931569437700000,
         "user": "{'_type': 'snscrape.modules.twitter.User', 'username': 'GXT25075644', 'id': 1174570754303594496, 'displayname': 'GXT', 'description': \"This is GXT Global's official twitter. \\n👉🏻gemmanetwork.com\\n👉t.me/gxtglobal_offi…\\n👉🏻linktr.ee/gxtglobal\", 'rawDescription': \"This is GXT Global's official twitter. \\n👉🏻https://t.co/IBUrhEWvFj\\n👉https://t.co/ekkfWVDZlu…\\n👉🏻https://t.co/nMiqINcIMB\", 'descriptionUrls': [{'text': 'gemmanetwork.com', 'url': 'https://gemmanetwork.com/', 'tcourl': 'https://t.co/IBUrhEWvFj', 'indices': [42, 65]}, {'text': 't.me/gxtglobal_offi', 'url': 'http://t.me/gxtglobal_offi', 'tcourl': 'https://t.co/ekkfWVDZlu', 'indices': [67, 90]}, {'text': 'linktr.ee/gxtglobal', 'url': 'http://linktr.ee/gxtglobal', 'tcourl': 'https://t.co/nMiqINcIMB', 'indices': [94, 117]}], 'verified': False, 'created': '2019-09-19T06:27:51+00:00', 'followersCount': 17674, 'friendsCount': 206, 'statusesCount': 1099, 'favouritesCount': 1132, 'listedCount': 17, 'mediaCount': 494, 'location': 'BVI, SG'…",
         "replyCount": 0,
         "retweetCount": 1,
         "likeCount": 3,
         "quoteCount": 0,
         "conversationId": 1503931569437700000,
         "lang": "en",
         "source": "<a href=\"https://mobile.twitter.com\" rel=\"nofollow\">Twitter Web App</a>",
         "sourceUrl": "https://mobile.twitter.com",
         "sourceLabel": "Twitter Web App",
         "outlinks": "None",
         "tcooutlinks": "None",
         "media": "[{'_type': 'snscrape.modules.twitter.Photo', 'previewUrl': 'https://pbs.twimg.com/media/FN8JsCHVIAQL_0u?format=jpg&name=small', 'fullUrl': 'https://pbs.twimg.com/media/FN8JsCHVIAQL_0u?format=jpg&name=large'}]",
         "retweetedTweet": "None",
         "quotedTweet": "None",
         "inReplyToTweetId": "nan",
         "inReplyToUser": "None",
         "mentionedUsers": "None",
         "coordinates": "None",
         "place": "None",
         "hashtags": "['BAYC', 'META', 'SXSW']",
         "cashtags": "None",
         "_deepnote_index_column": 45
        },
        {
         "_type": "snscrape.modules.twitter.Tweet",
         "url": "https://twitter.com/MoonApeSale/status/1503930929663852550",
         "date": "2022-03-16T03:07:29+00:00",
         "content": "Moon Ape Lab #6496 Rarity# 7768\n  Sold for 0.188Ξ #NFT #NFTs #NFTsales #NFTGame #nftmarketplace #nfts #Meta #NFTCommunity https://t.co/Y36mAbVBVD",
         "renderedContent": "Moon Ape Lab #6496 Rarity# 7768\n  Sold for 0.188Ξ #NFT #NFTs #NFTsales #NFTGame #nftmarketplace #nfts #Meta #NFTCommunity https://t.co/Y36mAbVBVD",
         "id": 1503930929663852500,
         "user": "{'_type': 'snscrape.modules.twitter.User', 'username': 'MoonApeSale', 'id': 1487857969559703556, 'displayname': 'Moon Ape Lab Sales', 'description': 'Moon Ape Lab Sales Feed\\nA community managed bot created by @SlushPerson\\nTurn ON notifications! Tap That BELL for immediate alerts!', 'rawDescription': 'Moon Ape Lab Sales Feed\\nA community managed bot created by @SlushPerson\\nTurn ON notifications! Tap That BELL for immediate alerts!', 'descriptionUrls': None, 'verified': False, 'created': '2022-01-30T18:39:36+00:00', 'followersCount': 576, 'friendsCount': 2, 'statusesCount': 2888, 'favouritesCount': 14, 'listedCount': 0, 'mediaCount': 2853, 'location': '', 'protected': False, 'linkUrl': None, 'linkTcourl': None, 'profileImageUrl': 'https://pbs.twimg.com/profile_images/1487858109964034049/iKEKFju2_normal.jpg', 'profileBannerUrl': 'https://pbs.twimg.com/profile_banners/1487857969559703556/1643568163', 'label': None, 'url': 'https://twitter.com/MoonApeSale'}",
         "replyCount": 1,
         "retweetCount": 0,
         "likeCount": 8,
         "quoteCount": 3,
         "conversationId": 1503930929663852500,
         "lang": "en",
         "source": "<a href=\"https://help.twitter.com/en/using-twitter/how-to-tweet#source-labels\" rel=\"nofollow\">TrippyFeed</a>",
         "sourceUrl": "https://help.twitter.com/en/using-twitter/how-to-tweet#source-labels",
         "sourceLabel": "TrippyFeed",
         "outlinks": "None",
         "tcooutlinks": "None",
         "media": "[{'_type': 'snscrape.modules.twitter.Photo', 'previewUrl': 'https://pbs.twimg.com/media/FN8JNfCXIAYY4f6?format=png&name=small', 'fullUrl': 'https://pbs.twimg.com/media/FN8JNfCXIAYY4f6?format=png&name=large'}]",
         "retweetedTweet": "None",
         "quotedTweet": "None",
         "inReplyToTweetId": "nan",
         "inReplyToUser": "None",
         "mentionedUsers": "None",
         "coordinates": "None",
         "place": "None",
         "hashtags": "['NFT', 'NFTs', 'NFTsales', 'NFTGame', 'nftmarketplace', 'nfts', 'Meta', 'NFTCommunity']",
         "cashtags": "None",
         "_deepnote_index_column": 48
        },
        {
         "_type": "snscrape.modules.twitter.Tweet",
         "url": "https://twitter.com/MoonApeSale/status/1503928340071301120",
         "date": "2022-03-16T02:57:12+00:00",
         "content": "Legendary Loot  #3281 Sold for 0.21Ξ #NFT #NFTs #NFTsales #nftcollector #Meta #nftartist https://t.co/5w85Kuh9Qy",
         "renderedContent": "Legendary Loot  #3281 Sold for 0.21Ξ #NFT #NFTs #NFTsales #nftcollector #Meta #nftartist https://t.co/5w85Kuh9Qy",
         "id": 1503928340071301000,
         "user": "{'_type': 'snscrape.modules.twitter.User', 'username': 'MoonApeSale', 'id': 1487857969559703556, 'displayname': 'Moon Ape Lab Sales', 'description': 'Moon Ape Lab Sales Feed\\nA community managed bot created by @SlushPerson\\nTurn ON notifications! Tap That BELL for immediate alerts!', 'rawDescription': 'Moon Ape Lab Sales Feed\\nA community managed bot created by @SlushPerson\\nTurn ON notifications! Tap That BELL for immediate alerts!', 'descriptionUrls': None, 'verified': False, 'created': '2022-01-30T18:39:36+00:00', 'followersCount': 576, 'friendsCount': 2, 'statusesCount': 2888, 'favouritesCount': 14, 'listedCount': 0, 'mediaCount': 2853, 'location': '', 'protected': False, 'linkUrl': None, 'linkTcourl': None, 'profileImageUrl': 'https://pbs.twimg.com/profile_images/1487858109964034049/iKEKFju2_normal.jpg', 'profileBannerUrl': 'https://pbs.twimg.com/profile_banners/1487857969559703556/1643568163', 'label': None, 'url': 'https://twitter.com/MoonApeSale'}",
         "replyCount": 1,
         "retweetCount": 1,
         "likeCount": 11,
         "quoteCount": 4,
         "conversationId": 1503928340071301000,
         "lang": "en",
         "source": "<a href=\"https://help.twitter.com/en/using-twitter/how-to-tweet#source-labels\" rel=\"nofollow\">TrippyFeed</a>",
         "sourceUrl": "https://help.twitter.com/en/using-twitter/how-to-tweet#source-labels",
         "sourceLabel": "TrippyFeed",
         "outlinks": "None",
         "tcooutlinks": "None",
         "media": "[{'_type': 'snscrape.modules.twitter.Photo', 'previewUrl': 'https://pbs.twimg.com/media/FN8G2xKXMAEnZ0N?format=png&name=small', 'fullUrl': 'https://pbs.twimg.com/media/FN8G2xKXMAEnZ0N?format=png&name=large'}]",
         "retweetedTweet": "None",
         "quotedTweet": "None",
         "inReplyToTweetId": "nan",
         "inReplyToUser": "None",
         "mentionedUsers": "None",
         "coordinates": "None",
         "place": "None",
         "hashtags": "['NFT', 'NFTs', 'NFTsales', 'nftcollector', 'Meta', 'nftartist']",
         "cashtags": "None",
         "_deepnote_index_column": 53
        },
        {
         "_type": "snscrape.modules.twitter.Tweet",
         "url": "https://twitter.com/MoonApeSale/status/1503928210505048068",
         "date": "2022-03-16T02:56:41+00:00",
         "content": "Legendary Loot  #4873 Sold for 0.23Ξ #NFT #NFTs #NFTsales #Metaverse #Meta #NFTdrop https://t.co/pcKWRYQg9Q",
         "renderedContent": "Legendary Loot  #4873 Sold for 0.23Ξ #NFT #NFTs #NFTsales #Metaverse #Meta #NFTdrop https://t.co/pcKWRYQg9Q",
         "id": 1503928210505048000,
         "user": "{'_type': 'snscrape.modules.twitter.User', 'username': 'MoonApeSale', 'id': 1487857969559703556, 'displayname': 'Moon Ape Lab Sales', 'description': 'Moon Ape Lab Sales Feed\\nA community managed bot created by @SlushPerson\\nTurn ON notifications! Tap That BELL for immediate alerts!', 'rawDescription': 'Moon Ape Lab Sales Feed\\nA community managed bot created by @SlushPerson\\nTurn ON notifications! Tap That BELL for immediate alerts!', 'descriptionUrls': None, 'verified': False, 'created': '2022-01-30T18:39:36+00:00', 'followersCount': 576, 'friendsCount': 2, 'statusesCount': 2888, 'favouritesCount': 14, 'listedCount': 0, 'mediaCount': 2853, 'location': '', 'protected': False, 'linkUrl': None, 'linkTcourl': None, 'profileImageUrl': 'https://pbs.twimg.com/profile_images/1487858109964034049/iKEKFju2_normal.jpg', 'profileBannerUrl': 'https://pbs.twimg.com/profile_banners/1487857969559703556/1643568163', 'label': None, 'url': 'https://twitter.com/MoonApeSale'}",
         "replyCount": 1,
         "retweetCount": 1,
         "likeCount": 9,
         "quoteCount": 1,
         "conversationId": 1503928210505048000,
         "lang": "en",
         "source": "<a href=\"https://help.twitter.com/en/using-twitter/how-to-tweet#source-labels\" rel=\"nofollow\">TrippyFeed</a>",
         "sourceUrl": "https://help.twitter.com/en/using-twitter/how-to-tweet#source-labels",
         "sourceLabel": "TrippyFeed",
         "outlinks": "None",
         "tcooutlinks": "None",
         "media": "[{'_type': 'snscrape.modules.twitter.Photo', 'previewUrl': 'https://pbs.twimg.com/media/FN8GvN8X0AATdcb?format=png&name=small', 'fullUrl': 'https://pbs.twimg.com/media/FN8GvN8X0AATdcb?format=png&name=large'}]",
         "retweetedTweet": "None",
         "quotedTweet": "None",
         "inReplyToTweetId": "nan",
         "inReplyToUser": "None",
         "mentionedUsers": "None",
         "coordinates": "None",
         "place": "None",
         "hashtags": "['NFT', 'NFTs', 'NFTsales', 'Metaverse', 'Meta', 'NFTdrop']",
         "cashtags": "None",
         "_deepnote_index_column": 54
        },
        {
         "_type": "snscrape.modules.twitter.Tweet",
         "url": "https://twitter.com/Basikamii/status/1503911780883566593",
         "date": "2022-03-16T01:51:24+00:00",
         "content": "NFTs are coming to Instagram Says Meta CEO\n\nRead more via link on bio\n\n#NFTs #are #coming #to #Instagram #Says #Meta #CEO https://t.co/gqTJylwH4j https://t.co/3bKcRvwoki",
         "renderedContent": "NFTs are coming to Instagram Says Meta CEO\n\nRead more via link on bio\n\n#NFTs #are #coming #to #Instagram #Says #Meta #CEO instagr.am/p/CbJUVXtK_cQ/ https://t.co/3bKcRvwoki",
         "id": 1503911780883566600,
         "user": "{'_type': 'snscrape.modules.twitter.User', 'username': 'Basikamii', 'id': 968899961764089856, 'displayname': 'Basi Kamii', 'description': '', 'rawDescription': '', 'descriptionUrls': None, 'verified': False, 'created': '2018-02-28T17:25:26+00:00', 'followersCount': 404, 'friendsCount': 4784, 'statusesCount': 327, 'favouritesCount': 10, 'listedCount': 2, 'mediaCount': 260, 'location': 'Global', 'protected': False, 'linkUrl': 'http://basikamii.com', 'linkTcourl': 'https://t.co/fsN0fxTaGX', 'profileImageUrl': 'https://pbs.twimg.com/profile_images/1492980472544116745/vr2WeYnu_normal.jpg', 'profileBannerUrl': 'https://pbs.twimg.com/profile_banners/968899961764089856/1606343836', 'label': None, 'url': 'https://twitter.com/Basikamii'}",
         "replyCount": 0,
         "retweetCount": 0,
         "likeCount": 4,
         "quoteCount": 3,
         "conversationId": 1503911780883566600,
         "lang": "en",
         "source": "<a href=\"https://ifttt.com\" rel=\"nofollow\">IFTTT</a>",
         "sourceUrl": "https://ifttt.com",
         "sourceLabel": "IFTTT",
         "outlinks": "['https://instagr.am/p/CbJUVXtK_cQ/']",
         "tcooutlinks": "['https://t.co/gqTJylwH4j']",
         "media": "[{'_type': 'snscrape.modules.twitter.Photo', 'previewUrl': 'https://pbs.twimg.com/media/FN73y4PWUAEjZAK?format=jpg&name=small', 'fullUrl': 'https://pbs.twimg.com/media/FN73y4PWUAEjZAK?format=jpg&name=large'}]",
         "retweetedTweet": "None",
         "quotedTweet": "None",
         "inReplyToTweetId": "nan",
         "inReplyToUser": "None",
         "mentionedUsers": "None",
         "coordinates": "None",
         "place": "None",
         "hashtags": "['NFTs', 'are', 'coming', 'to', 'Instagram', 'Says', 'Meta', 'CEO']",
         "cashtags": "None",
         "_deepnote_index_column": 109
        },
        {
         "_type": "snscrape.modules.twitter.Tweet",
         "url": "https://twitter.com/ZT_exchange/status/1503911757395693570",
         "date": "2022-03-16T01:51:18+00:00",
         "content": "🪐Mark Zuckerberg Says NFTs Are Coming Soon to Instagram\n\n#NFT #Meta #Instagram \nhttps://t.co/VSmIKbqKEs",
         "renderedContent": "🪐Mark Zuckerberg Says NFTs Are Coming Soon to Instagram\n\n#NFT #Meta #Instagram \ncoindesk.com/business/2022/…",
         "id": 1503911757395693600,
         "user": "{'_type': 'snscrape.modules.twitter.User', 'username': 'ZT_exchange', 'id': 1097321391609839616, 'displayname': 'ZT', 'description': 'Telegram:t.me/coinbetter_En\\nDiscord:discord.com/invite/nwuJKCP…\\nYoutube:ztb.app.link/NsNIQO2LQnb\\nFacebook:facebook.com/ZT.exchange', 'rawDescription': 'Telegram:https://t.co/ihEw2Gpipx\\nDiscord:https://t.co/LCAaBdGnkz\\nYoutube:https://t.co/nziJ7eF5Gb\\nFacebook:https://t.co/sgwNrAlYnm', 'descriptionUrls': [{'text': 't.me/coinbetter_En', 'url': 'http://t.me/coinbetter_En', 'tcourl': 'https://t.co/ihEw2Gpipx', 'indices': [9, 32]}, {'text': 'discord.com/invite/nwuJKCP…', 'url': 'https://discord.com/invite/nwuJKCPqtw', 'tcourl': 'https://t.co/LCAaBdGnkz', 'indices': [41, 64]}, {'text': 'ztb.app.link/NsNIQO2LQnb', 'url': 'http://ztb.app.link/NsNIQO2LQnb', 'tcourl': 'https://t.co/nziJ7eF5Gb', 'indices': [73, 96]}, {'text': 'facebook.com/ZT.exchange', 'url': 'http://facebook.com/ZT.exchange', 'tcourl': 'https://t.co/sgwNrAlYnm', 'indices': [106, 129]}], 'ver…",
         "replyCount": 0,
         "retweetCount": 0,
         "likeCount": 13,
         "quoteCount": 2,
         "conversationId": 1503911757395693600,
         "lang": "en",
         "source": "<a href=\"https://mobile.twitter.com\" rel=\"nofollow\">Twitter Web App</a>",
         "sourceUrl": "https://mobile.twitter.com",
         "sourceLabel": "Twitter Web App",
         "outlinks": "['https://www.coindesk.com/business/2022/03/15/mark-zuckerberg-says-nfts-are-coming-soon-to-instagram/']",
         "tcooutlinks": "['https://t.co/VSmIKbqKEs']",
         "media": "None",
         "retweetedTweet": "None",
         "quotedTweet": "None",
         "inReplyToTweetId": "nan",
         "inReplyToUser": "None",
         "mentionedUsers": "None",
         "coordinates": "None",
         "place": "None",
         "hashtags": "['NFT', 'Meta', 'Instagram']",
         "cashtags": "None",
         "_deepnote_index_column": 110
        },
        {
         "_type": "snscrape.modules.twitter.Tweet",
         "url": "https://twitter.com/osldotcom/status/1503910129158467593",
         "date": "2022-03-16T01:44:50+00:00",
         "content": "Mark Zuckerberg announced that #NFTs are coming to #Instagram short-term and he believes it's the future to integrate them into #Meta.\n\nhttps://t.co/vt7BCgDxvM",
         "renderedContent": "Mark Zuckerberg announced that #NFTs are coming to #Instagram short-term and he believes it's the future to integrate them into #Meta.\n\ncoindesk.com/business/2022/…",
         "id": 1503910129158467600,
         "user": "{'_type': 'snscrape.modules.twitter.User', 'username': 'osldotcom', 'id': 1006846612319039489, 'displayname': 'OSL', 'description': 'Leading #digitalasset platform providing SaaS, brokerage, custody and exchange products. Licensed by the SFC in HK. Follow us for company updates, news and more', 'rawDescription': 'Leading #digitalasset platform providing SaaS, brokerage, custody and exchange products. Licensed by the SFC in HK. Follow us for company updates, news and more', 'descriptionUrls': None, 'verified': True, 'created': '2018-06-13T10:31:53+00:00', 'followersCount': 11337, 'friendsCount': 514, 'statusesCount': 2140, 'favouritesCount': 2082, 'listedCount': 125, 'mediaCount': 1216, 'location': 'Hong Kong', 'protected': False, 'linkUrl': 'http://www.osl.com', 'linkTcourl': 'https://t.co/ktK32AzBn2', 'profileImageUrl': 'https://pbs.twimg.com/profile_images/1410053969078939652/w0HM_-eC_normal.jpg', 'profileBannerUrl': 'https://pbs.twimg.com/profile_banners/1006846612319039489/1638944…",
         "replyCount": 0,
         "retweetCount": 0,
         "likeCount": 3,
         "quoteCount": 0,
         "conversationId": 1503910129158467600,
         "lang": "en",
         "source": "<a href=\"https://mobile.twitter.com\" rel=\"nofollow\">Twitter Web App</a>",
         "sourceUrl": "https://mobile.twitter.com",
         "sourceLabel": "Twitter Web App",
         "outlinks": "['https://www.coindesk.com/business/2022/03/15/mark-zuckerberg-says-nfts-are-coming-soon-to-instagram/']",
         "tcooutlinks": "['https://t.co/vt7BCgDxvM']",
         "media": "None",
         "retweetedTweet": "None",
         "quotedTweet": "None",
         "inReplyToTweetId": "nan",
         "inReplyToUser": "None",
         "mentionedUsers": "None",
         "coordinates": "None",
         "place": "None",
         "hashtags": "['NFTs', 'Instagram', 'Meta']",
         "cashtags": "None",
         "_deepnote_index_column": 116
        }
       ]
      },
      "text/plain": "                              _type  \\\n24   snscrape.modules.twitter.Tweet   \n40   snscrape.modules.twitter.Tweet   \n42   snscrape.modules.twitter.Tweet   \n45   snscrape.modules.twitter.Tweet   \n48   snscrape.modules.twitter.Tweet   \n..                              ...   \n968  snscrape.modules.twitter.Tweet   \n969  snscrape.modules.twitter.Tweet   \n970  snscrape.modules.twitter.Tweet   \n974  snscrape.modules.twitter.Tweet   \n995  snscrape.modules.twitter.Tweet   \n\n                                                   url  \\\n24   https://twitter.com/newage_gods/status/1503936...   \n40   https://twitter.com/MoonApeSale/status/1503932...   \n42   https://twitter.com/Mikehuntisbig19/status/150...   \n45   https://twitter.com/GXT25075644/status/1503931...   \n48   https://twitter.com/MoonApeSale/status/1503930...   \n..                                                 ...   \n968  https://twitter.com/MetaSlavs/status/150373059...   \n969  https://twitter.com/MetaSlavs/status/150373059...   \n970  https://twitter.com/MetaSlavs/status/150373058...   \n974  https://twitter.com/TIMOFFICIAL94/status/15037...   \n995  https://twitter.com/cryptscp/status/1503722962...   \n\n                          date  \\\n24   2022-03-16T03:31:23+00:00   \n40   2022-03-16T03:15:12+00:00   \n42   2022-03-16T03:14:14+00:00   \n45   2022-03-16T03:10:02+00:00   \n48   2022-03-16T03:07:29+00:00   \n..                         ...   \n968  2022-03-15T13:51:25+00:00   \n969  2022-03-15T13:51:25+00:00   \n970  2022-03-15T13:51:24+00:00   \n974  2022-03-15T13:46:12+00:00   \n995  2022-03-15T13:21:06+00:00   \n\n                                               content  \\\n24   What do you think of Mark Zukerberg's announce...   \n40   Rare Loot  #1263 Sold for 0.08Ξ #NFT #NFTs #NF...   \n42   https://t.co/GK8TCpBx7g\\n\\nHave you guys check...   \n45   #BAYC - Yuga Labs of  NFT BAYC will sell virtu...   \n48   Moon Ape Lab #6496 Rarity# 7768\\n  Sold for 0....   \n..                                                 ...   \n968  There are a total of 5 different sports discip...   \n969  Join us and prepare for the olympiad 🏅 \\n\\n Ve...   \n970  🏃🏾‍♂️ GET FIT WITH METASLAVS! 🏃🏾‍♂️ \\n\\nIt's a...   \n974  Meta's cofounder Mark Zuckerberg\\nseemed a lit...   \n995  Metaverse May Be Tempting But It's Unregulated...   \n\n                                       renderedContent                   id  \\\n24   What do you think of Mark Zukerberg's announce...  1503936941280018435   \n40   Rare Loot  #1263 Sold for 0.08Ξ #NFT #NFTs #NF...  1503932870250930177   \n42   opensea.io/collection/cry…\\n\\nHave you guys ch...  1503932626637312006   \n45   #BAYC - Yuga Labs of  NFT BAYC will sell virtu...  1503931569437700097   \n48   Moon Ape Lab #6496 Rarity# 7768\\n  Sold for 0....  1503930929663852550   \n..                                                 ...                  ...   \n968  There are a total of 5 different sports discip...  1503730592860577793   \n969  Join us and prepare for the olympiad 🏅 \\n\\n Ve...  1503730590192967685   \n970  🏃🏾‍♂️ GET FIT WITH METASLAVS! 🏃🏾‍♂️ \\n\\nIt's a...  1503730586317471746   \n974  Meta's cofounder Mark Zuckerberg\\nseemed a lit...  1503729277379915778   \n995  Metaverse May Be Tempting But It's Unregulated...  1503722962075086849   \n\n                                                  user  replyCount  \\\n24   {'_type': 'snscrape.modules.twitter.User', 'us...           0   \n40   {'_type': 'snscrape.modules.twitter.User', 'us...           0   \n42   {'_type': 'snscrape.modules.twitter.User', 'us...           0   \n45   {'_type': 'snscrape.modules.twitter.User', 'us...           0   \n48   {'_type': 'snscrape.modules.twitter.User', 'us...           1   \n..                                                 ...         ...   \n968  {'_type': 'snscrape.modules.twitter.User', 'us...           2   \n969  {'_type': 'snscrape.modules.twitter.User', 'us...           2   \n970  {'_type': 'snscrape.modules.twitter.User', 'us...           2   \n974  {'_type': 'snscrape.modules.twitter.User', 'us...           0   \n995  {'_type': 'snscrape.modules.twitter.User', 'us...           2   \n\n     retweetCount  likeCount  ...  \\\n24              0          5  ...   \n40              0          4  ...   \n42              0          5  ...   \n45              1          3  ...   \n48              0          8  ...   \n..            ...        ...  ...   \n968             0          3  ...   \n969             0          3  ...   \n970             2          3  ...   \n974             1          3  ...   \n995             0          5  ...   \n\n                                                 media  retweetedTweet  \\\n24                                                None            None   \n40   [{'_type': 'snscrape.modules.twitter.Photo', '...            None   \n42                                                None            None   \n45   [{'_type': 'snscrape.modules.twitter.Photo', '...            None   \n48   [{'_type': 'snscrape.modules.twitter.Photo', '...            None   \n..                                                 ...             ...   \n968                                               None            None   \n969                                               None            None   \n970  [{'_type': 'snscrape.modules.twitter.Photo', '...            None   \n974  [{'_type': 'snscrape.modules.twitter.Photo', '...            None   \n995  [{'_type': 'snscrape.modules.twitter.Photo', '...            None   \n\n    quotedTweet inReplyToTweetId  \\\n24         None              NaN   \n40         None              NaN   \n42         None              NaN   \n45         None              NaN   \n48         None              NaN   \n..          ...              ...   \n968        None     1.503731e+18   \n969        None     1.503731e+18   \n970        None              NaN   \n974        None              NaN   \n995        None              NaN   \n\n                                         inReplyToUser  \\\n24                                                None   \n40                                                None   \n42                                                None   \n45                                                None   \n48                                                None   \n..                                                 ...   \n968  {'_type': 'snscrape.modules.twitter.User', 'us...   \n969  {'_type': 'snscrape.modules.twitter.User', 'us...   \n970                                               None   \n974                                               None   \n995                                               None   \n\n                                        mentionedUsers coordinates place  \\\n24                                                None        None  None   \n40                                                None        None  None   \n42                                                None        None  None   \n45                                                None        None  None   \n48                                                None        None  None   \n..                                                 ...         ...   ...   \n968                                               None        None  None   \n969                                               None        None  None   \n970                                               None        None  None   \n974  [{'_type': 'snscrape.modules.twitter.User', 'u...        None  None   \n995                                               None        None  None   \n\n                                              hashtags cashtags  \n24   [NFTs, NFTdrop, NFTartist, NFTCommmunity, Inst...     None  \n40   [NFT, NFTs, NFTsales, cryptoartist, nftartist,...     None  \n42                                   [meta, nft, nfts]     None  \n45                                  [BAYC, META, SXSW]     None  \n48   [NFT, NFTs, NFTsales, NFTGame, nftmarketplace,...     None  \n..                                                 ...      ...  \n968  [nft, nfts, olympiad, web3, meta, metaverse, p...     None  \n969  [nft, nfts, olympiad, web3, meta, metaverse, p...     None  \n970  [nft, nfts, olympiad, web3, meta, metaverse, p...     None  \n974  [markzuckerberg, meta, facebook, socialmedia, ...     None  \n995   [metaverse, crypto, nft, meta, tech, oculusrift]     None  \n\n[130 rows x 28 columns]",
      "text/html": "<div>\n<style scoped>\n    .dataframe tbody tr th:only-of-type {\n        vertical-align: middle;\n    }\n\n    .dataframe tbody tr th {\n        vertical-align: top;\n    }\n\n    .dataframe thead th {\n        text-align: right;\n    }\n</style>\n<table border=\"1\" class=\"dataframe\">\n  <thead>\n    <tr style=\"text-align: right;\">\n      <th></th>\n      <th>_type</th>\n      <th>url</th>\n      <th>date</th>\n      <th>content</th>\n      <th>renderedContent</th>\n      <th>id</th>\n      <th>user</th>\n      <th>replyCount</th>\n      <th>retweetCount</th>\n      <th>likeCount</th>\n      <th>...</th>\n      <th>media</th>\n      <th>retweetedTweet</th>\n      <th>quotedTweet</th>\n      <th>inReplyToTweetId</th>\n      <th>inReplyToUser</th>\n      <th>mentionedUsers</th>\n      <th>coordinates</th>\n      <th>place</th>\n      <th>hashtags</th>\n      <th>cashtags</th>\n    </tr>\n  </thead>\n  <tbody>\n    <tr>\n      <th>24</th>\n      <td>snscrape.modules.twitter.Tweet</td>\n      <td>https://twitter.com/newage_gods/status/1503936...</td>\n      <td>2022-03-16T03:31:23+00:00</td>\n      <td>What do you think of Mark Zukerberg's announce...</td>\n      <td>What do you think of Mark Zukerberg's announce...</td>\n      <td>1503936941280018435</td>\n      <td>{'_type': 'snscrape.modules.twitter.User', 'us...</td>\n      <td>0</td>\n      <td>0</td>\n      <td>5</td>\n      <td>...</td>\n      <td>None</td>\n      <td>None</td>\n      <td>None</td>\n      <td>NaN</td>\n      <td>None</td>\n      <td>None</td>\n      <td>None</td>\n      <td>None</td>\n      <td>[NFTs, NFTdrop, NFTartist, NFTCommmunity, Inst...</td>\n      <td>None</td>\n    </tr>\n    <tr>\n      <th>40</th>\n      <td>snscrape.modules.twitter.Tweet</td>\n      <td>https://twitter.com/MoonApeSale/status/1503932...</td>\n      <td>2022-03-16T03:15:12+00:00</td>\n      <td>Rare Loot  #1263 Sold for 0.08Ξ #NFT #NFTs #NF...</td>\n      <td>Rare Loot  #1263 Sold for 0.08Ξ #NFT #NFTs #NF...</td>\n      <td>1503932870250930177</td>\n      <td>{'_type': 'snscrape.modules.twitter.User', 'us...</td>\n      <td>0</td>\n      <td>0</td>\n      <td>4</td>\n      <td>...</td>\n      <td>[{'_type': 'snscrape.modules.twitter.Photo', '...</td>\n      <td>None</td>\n      <td>None</td>\n      <td>NaN</td>\n      <td>None</td>\n      <td>None</td>\n      <td>None</td>\n      <td>None</td>\n      <td>[NFT, NFTs, NFTsales, cryptoartist, nftartist,...</td>\n      <td>None</td>\n    </tr>\n    <tr>\n      <th>42</th>\n      <td>snscrape.modules.twitter.Tweet</td>\n      <td>https://twitter.com/Mikehuntisbig19/status/150...</td>\n      <td>2022-03-16T03:14:14+00:00</td>\n      <td>https://t.co/GK8TCpBx7g\\n\\nHave you guys check...</td>\n      <td>opensea.io/collection/cry…\\n\\nHave you guys ch...</td>\n      <td>1503932626637312006</td>\n      <td>{'_type': 'snscrape.modules.twitter.User', 'us...</td>\n      <td>0</td>\n      <td>0</td>\n      <td>5</td>\n      <td>...</td>\n      <td>None</td>\n      <td>None</td>\n      <td>None</td>\n      <td>NaN</td>\n      <td>None</td>\n      <td>None</td>\n      <td>None</td>\n      <td>None</td>\n      <td>[meta, nft, nfts]</td>\n      <td>None</td>\n    </tr>\n    <tr>\n      <th>45</th>\n      <td>snscrape.modules.twitter.Tweet</td>\n      <td>https://twitter.com/GXT25075644/status/1503931...</td>\n      <td>2022-03-16T03:10:02+00:00</td>\n      <td>#BAYC - Yuga Labs of  NFT BAYC will sell virtu...</td>\n      <td>#BAYC - Yuga Labs of  NFT BAYC will sell virtu...</td>\n      <td>1503931569437700097</td>\n      <td>{'_type': 'snscrape.modules.twitter.User', 'us...</td>\n      <td>0</td>\n      <td>1</td>\n      <td>3</td>\n      <td>...</td>\n      <td>[{'_type': 'snscrape.modules.twitter.Photo', '...</td>\n      <td>None</td>\n      <td>None</td>\n      <td>NaN</td>\n      <td>None</td>\n      <td>None</td>\n      <td>None</td>\n      <td>None</td>\n      <td>[BAYC, META, SXSW]</td>\n      <td>None</td>\n    </tr>\n    <tr>\n      <th>48</th>\n      <td>snscrape.modules.twitter.Tweet</td>\n      <td>https://twitter.com/MoonApeSale/status/1503930...</td>\n      <td>2022-03-16T03:07:29+00:00</td>\n      <td>Moon Ape Lab #6496 Rarity# 7768\\n  Sold for 0....</td>\n      <td>Moon Ape Lab #6496 Rarity# 7768\\n  Sold for 0....</td>\n      <td>1503930929663852550</td>\n      <td>{'_type': 'snscrape.modules.twitter.User', 'us...</td>\n      <td>1</td>\n      <td>0</td>\n      <td>8</td>\n      <td>...</td>\n      <td>[{'_type': 'snscrape.modules.twitter.Photo', '...</td>\n      <td>None</td>\n      <td>None</td>\n      <td>NaN</td>\n      <td>None</td>\n      <td>None</td>\n      <td>None</td>\n      <td>None</td>\n      <td>[NFT, NFTs, NFTsales, NFTGame, nftmarketplace,...</td>\n      <td>None</td>\n    </tr>\n    <tr>\n      <th>...</th>\n      <td>...</td>\n      <td>...</td>\n      <td>...</td>\n      <td>...</td>\n      <td>...</td>\n      <td>...</td>\n      <td>...</td>\n      <td>...</td>\n      <td>...</td>\n      <td>...</td>\n      <td>...</td>\n      <td>...</td>\n      <td>...</td>\n      <td>...</td>\n      <td>...</td>\n      <td>...</td>\n      <td>...</td>\n      <td>...</td>\n      <td>...</td>\n      <td>...</td>\n      <td>...</td>\n    </tr>\n    <tr>\n      <th>968</th>\n      <td>snscrape.modules.twitter.Tweet</td>\n      <td>https://twitter.com/MetaSlavs/status/150373059...</td>\n      <td>2022-03-15T13:51:25+00:00</td>\n      <td>There are a total of 5 different sports discip...</td>\n      <td>There are a total of 5 different sports discip...</td>\n      <td>1503730592860577793</td>\n      <td>{'_type': 'snscrape.modules.twitter.User', 'us...</td>\n      <td>2</td>\n      <td>0</td>\n      <td>3</td>\n      <td>...</td>\n      <td>None</td>\n      <td>None</td>\n      <td>None</td>\n      <td>1.503731e+18</td>\n      <td>{'_type': 'snscrape.modules.twitter.User', 'us...</td>\n      <td>None</td>\n      <td>None</td>\n      <td>None</td>\n      <td>[nft, nfts, olympiad, web3, meta, metaverse, p...</td>\n      <td>None</td>\n    </tr>\n    <tr>\n      <th>969</th>\n      <td>snscrape.modules.twitter.Tweet</td>\n      <td>https://twitter.com/MetaSlavs/status/150373059...</td>\n      <td>2022-03-15T13:51:25+00:00</td>\n      <td>Join us and prepare for the olympiad 🏅 \\n\\n Ve...</td>\n      <td>Join us and prepare for the olympiad 🏅 \\n\\n Ve...</td>\n      <td>1503730590192967685</td>\n      <td>{'_type': 'snscrape.modules.twitter.User', 'us...</td>\n      <td>2</td>\n      <td>0</td>\n      <td>3</td>\n      <td>...</td>\n      <td>None</td>\n      <td>None</td>\n      <td>None</td>\n      <td>1.503731e+18</td>\n      <td>{'_type': 'snscrape.modules.twitter.User', 'us...</td>\n      <td>None</td>\n      <td>None</td>\n      <td>None</td>\n      <td>[nft, nfts, olympiad, web3, meta, metaverse, p...</td>\n      <td>None</td>\n    </tr>\n    <tr>\n      <th>970</th>\n      <td>snscrape.modules.twitter.Tweet</td>\n      <td>https://twitter.com/MetaSlavs/status/150373058...</td>\n      <td>2022-03-15T13:51:24+00:00</td>\n      <td>🏃🏾‍♂️ GET FIT WITH METASLAVS! 🏃🏾‍♂️ \\n\\nIt's a...</td>\n      <td>🏃🏾‍♂️ GET FIT WITH METASLAVS! 🏃🏾‍♂️ \\n\\nIt's a...</td>\n      <td>1503730586317471746</td>\n      <td>{'_type': 'snscrape.modules.twitter.User', 'us...</td>\n      <td>2</td>\n      <td>2</td>\n      <td>3</td>\n      <td>...</td>\n      <td>[{'_type': 'snscrape.modules.twitter.Photo', '...</td>\n      <td>None</td>\n      <td>None</td>\n      <td>NaN</td>\n      <td>None</td>\n      <td>None</td>\n      <td>None</td>\n      <td>None</td>\n      <td>[nft, nfts, olympiad, web3, meta, metaverse, p...</td>\n      <td>None</td>\n    </tr>\n    <tr>\n      <th>974</th>\n      <td>snscrape.modules.twitter.Tweet</td>\n      <td>https://twitter.com/TIMOFFICIAL94/status/15037...</td>\n      <td>2022-03-15T13:46:12+00:00</td>\n      <td>Meta's cofounder Mark Zuckerberg\\nseemed a lit...</td>\n      <td>Meta's cofounder Mark Zuckerberg\\nseemed a lit...</td>\n      <td>1503729277379915778</td>\n      <td>{'_type': 'snscrape.modules.twitter.User', 'us...</td>\n      <td>0</td>\n      <td>1</td>\n      <td>3</td>\n      <td>...</td>\n      <td>[{'_type': 'snscrape.modules.twitter.Photo', '...</td>\n      <td>None</td>\n      <td>None</td>\n      <td>NaN</td>\n      <td>None</td>\n      <td>[{'_type': 'snscrape.modules.twitter.User', 'u...</td>\n      <td>None</td>\n      <td>None</td>\n      <td>[markzuckerberg, meta, facebook, socialmedia, ...</td>\n      <td>None</td>\n    </tr>\n    <tr>\n      <th>995</th>\n      <td>snscrape.modules.twitter.Tweet</td>\n      <td>https://twitter.com/cryptscp/status/1503722962...</td>\n      <td>2022-03-15T13:21:06+00:00</td>\n      <td>Metaverse May Be Tempting But It's Unregulated...</td>\n      <td>Metaverse May Be Tempting But It's Unregulated...</td>\n      <td>1503722962075086849</td>\n      <td>{'_type': 'snscrape.modules.twitter.User', 'us...</td>\n      <td>2</td>\n      <td>0</td>\n      <td>5</td>\n      <td>...</td>\n      <td>[{'_type': 'snscrape.modules.twitter.Photo', '...</td>\n      <td>None</td>\n      <td>None</td>\n      <td>NaN</td>\n      <td>None</td>\n      <td>None</td>\n      <td>None</td>\n      <td>None</td>\n      <td>[metaverse, crypto, nft, meta, tech, oculusrift]</td>\n      <td>None</td>\n    </tr>\n  </tbody>\n</table>\n<p>130 rows × 28 columns</p>\n</div>"
     },
     "metadata": {}
    }
   ]
  },
  {
   "cell_type": "code",
   "metadata": {
    "cell_id": "3921b7d11f134d00a6df3331a003f1fd",
    "tags": [],
    "deepnote_to_be_reexecuted": false,
    "source_hash": "c3ef6dd1",
    "execution_start": 1659559242621,
    "execution_millis": 320,
    "deepnote_cell_type": "code",
    "deepnote_cell_height": 757,
    "deepnote_output_heights": [
     611
    ]
   },
   "source": "stop_words = set(stopwords.words('english'))\n\n# word_tokens = word_tokenize(example_sent)\nlist(stop_words)",
   "execution_count": 4,
   "outputs": [
    {
     "output_type": "error",
     "ename": "LookupError",
     "evalue": "\n**********************************************************************\n  Resource \u001b[93mstopwords\u001b[0m not found.\n  Please use the NLTK Downloader to obtain the resource:\n\n  \u001b[31m>>> import nltk\n  >>> nltk.download('stopwords')\n  \u001b[0m\n  For more information see: https://www.nltk.org/data.html\n\n  Attempted to load \u001b[93mcorpora/stopwords\u001b[0m\n\n  Searched in:\n    - '/root/nltk_data'\n    - '/usr/local/nltk_data'\n    - '/usr/local/share/nltk_data'\n    - '/usr/local/lib/nltk_data'\n    - '/usr/share/nltk_data'\n    - '/usr/local/share/nltk_data'\n    - '/usr/lib/nltk_data'\n    - '/usr/local/lib/nltk_data'\n**********************************************************************\n",
     "traceback": [
      "\u001b[0;31m---------------------------------------------------------------------------\u001b[0m",
      "\u001b[0;31mLookupError\u001b[0m                               Traceback (most recent call last)",
      "\u001b[0;32m/shared-libs/python3.9/py/lib/python3.9/site-packages/nltk/corpus/util.py\u001b[0m in \u001b[0;36m__load\u001b[0;34m(self)\u001b[0m\n\u001b[1;32m     83\u001b[0m                 \u001b[0;32mtry\u001b[0m\u001b[0;34m:\u001b[0m\u001b[0;34m\u001b[0m\u001b[0;34m\u001b[0m\u001b[0m\n\u001b[0;32m---> 84\u001b[0;31m                     \u001b[0mroot\u001b[0m \u001b[0;34m=\u001b[0m \u001b[0mnltk\u001b[0m\u001b[0;34m.\u001b[0m\u001b[0mdata\u001b[0m\u001b[0;34m.\u001b[0m\u001b[0mfind\u001b[0m\u001b[0;34m(\u001b[0m\u001b[0;34mf\"{self.subdir}/{zip_name}\"\u001b[0m\u001b[0;34m)\u001b[0m\u001b[0;34m\u001b[0m\u001b[0;34m\u001b[0m\u001b[0m\n\u001b[0m\u001b[1;32m     85\u001b[0m                 \u001b[0;32mexcept\u001b[0m \u001b[0mLookupError\u001b[0m\u001b[0;34m:\u001b[0m\u001b[0;34m\u001b[0m\u001b[0;34m\u001b[0m\u001b[0m\n",
      "\u001b[0;32m/shared-libs/python3.9/py/lib/python3.9/site-packages/nltk/data.py\u001b[0m in \u001b[0;36mfind\u001b[0;34m(resource_name, paths)\u001b[0m\n\u001b[1;32m    582\u001b[0m     \u001b[0mresource_not_found\u001b[0m \u001b[0;34m=\u001b[0m \u001b[0;34mf\"\\n{sep}\\n{msg}\\n{sep}\\n\"\u001b[0m\u001b[0;34m\u001b[0m\u001b[0;34m\u001b[0m\u001b[0m\n\u001b[0;32m--> 583\u001b[0;31m     \u001b[0;32mraise\u001b[0m \u001b[0mLookupError\u001b[0m\u001b[0;34m(\u001b[0m\u001b[0mresource_not_found\u001b[0m\u001b[0;34m)\u001b[0m\u001b[0;34m\u001b[0m\u001b[0;34m\u001b[0m\u001b[0m\n\u001b[0m\u001b[1;32m    584\u001b[0m \u001b[0;34m\u001b[0m\u001b[0m\n",
      "\u001b[0;31mLookupError\u001b[0m: \n**********************************************************************\n  Resource \u001b[93mstopwords\u001b[0m not found.\n  Please use the NLTK Downloader to obtain the resource:\n\n  \u001b[31m>>> import nltk\n  >>> nltk.download('stopwords')\n  \u001b[0m\n  For more information see: https://www.nltk.org/data.html\n\n  Attempted to load \u001b[93mcorpora/stopwords.zip/stopwords/\u001b[0m\n\n  Searched in:\n    - '/root/nltk_data'\n    - '/usr/local/nltk_data'\n    - '/usr/local/share/nltk_data'\n    - '/usr/local/lib/nltk_data'\n    - '/usr/share/nltk_data'\n    - '/usr/local/share/nltk_data'\n    - '/usr/lib/nltk_data'\n    - '/usr/local/lib/nltk_data'\n**********************************************************************\n",
      "\nDuring handling of the above exception, another exception occurred:\n",
      "\u001b[0;31mLookupError\u001b[0m                               Traceback (most recent call last)",
      "\u001b[0;32m<ipython-input-4-9427e4c05e2d>\u001b[0m in \u001b[0;36m<cell line: 1>\u001b[0;34m()\u001b[0m\n\u001b[0;32m----> 1\u001b[0;31m \u001b[0mstop_words\u001b[0m \u001b[0;34m=\u001b[0m \u001b[0mset\u001b[0m\u001b[0;34m(\u001b[0m\u001b[0mstopwords\u001b[0m\u001b[0;34m.\u001b[0m\u001b[0mwords\u001b[0m\u001b[0;34m(\u001b[0m\u001b[0;34m'english'\u001b[0m\u001b[0;34m)\u001b[0m\u001b[0;34m)\u001b[0m\u001b[0;34m\u001b[0m\u001b[0;34m\u001b[0m\u001b[0m\n\u001b[0m\u001b[1;32m      2\u001b[0m \u001b[0;34m\u001b[0m\u001b[0m\n\u001b[1;32m      3\u001b[0m \u001b[0;31m# word_tokens = word_tokenize(example_sent)\u001b[0m\u001b[0;34m\u001b[0m\u001b[0;34m\u001b[0m\u001b[0m\n\u001b[1;32m      4\u001b[0m \u001b[0mlist\u001b[0m\u001b[0;34m(\u001b[0m\u001b[0mstop_words\u001b[0m\u001b[0;34m)\u001b[0m\u001b[0;34m\u001b[0m\u001b[0;34m\u001b[0m\u001b[0m\n",
      "\u001b[0;32m/shared-libs/python3.9/py/lib/python3.9/site-packages/nltk/corpus/util.py\u001b[0m in \u001b[0;36m__getattr__\u001b[0;34m(self, attr)\u001b[0m\n\u001b[1;32m    119\u001b[0m             \u001b[0;32mraise\u001b[0m \u001b[0mAttributeError\u001b[0m\u001b[0;34m(\u001b[0m\u001b[0;34m\"LazyCorpusLoader object has no attribute '__bases__'\"\u001b[0m\u001b[0;34m)\u001b[0m\u001b[0;34m\u001b[0m\u001b[0;34m\u001b[0m\u001b[0m\n\u001b[1;32m    120\u001b[0m \u001b[0;34m\u001b[0m\u001b[0m\n\u001b[0;32m--> 121\u001b[0;31m         \u001b[0mself\u001b[0m\u001b[0;34m.\u001b[0m\u001b[0m__load\u001b[0m\u001b[0;34m(\u001b[0m\u001b[0;34m)\u001b[0m\u001b[0;34m\u001b[0m\u001b[0;34m\u001b[0m\u001b[0m\n\u001b[0m\u001b[1;32m    122\u001b[0m         \u001b[0;31m# This looks circular, but its not, since __load() changes our\u001b[0m\u001b[0;34m\u001b[0m\u001b[0;34m\u001b[0m\u001b[0m\n\u001b[1;32m    123\u001b[0m         \u001b[0;31m# __class__ to something new:\u001b[0m\u001b[0;34m\u001b[0m\u001b[0;34m\u001b[0m\u001b[0m\n",
      "\u001b[0;32m/shared-libs/python3.9/py/lib/python3.9/site-packages/nltk/corpus/util.py\u001b[0m in \u001b[0;36m__load\u001b[0;34m(self)\u001b[0m\n\u001b[1;32m     84\u001b[0m                     \u001b[0mroot\u001b[0m \u001b[0;34m=\u001b[0m \u001b[0mnltk\u001b[0m\u001b[0;34m.\u001b[0m\u001b[0mdata\u001b[0m\u001b[0;34m.\u001b[0m\u001b[0mfind\u001b[0m\u001b[0;34m(\u001b[0m\u001b[0;34mf\"{self.subdir}/{zip_name}\"\u001b[0m\u001b[0;34m)\u001b[0m\u001b[0;34m\u001b[0m\u001b[0;34m\u001b[0m\u001b[0m\n\u001b[1;32m     85\u001b[0m                 \u001b[0;32mexcept\u001b[0m \u001b[0mLookupError\u001b[0m\u001b[0;34m:\u001b[0m\u001b[0;34m\u001b[0m\u001b[0;34m\u001b[0m\u001b[0m\n\u001b[0;32m---> 86\u001b[0;31m                     \u001b[0;32mraise\u001b[0m \u001b[0me\u001b[0m\u001b[0;34m\u001b[0m\u001b[0;34m\u001b[0m\u001b[0m\n\u001b[0m\u001b[1;32m     87\u001b[0m \u001b[0;34m\u001b[0m\u001b[0m\n\u001b[1;32m     88\u001b[0m         \u001b[0;31m# Load the corpus.\u001b[0m\u001b[0;34m\u001b[0m\u001b[0;34m\u001b[0m\u001b[0m\n",
      "\u001b[0;32m/shared-libs/python3.9/py/lib/python3.9/site-packages/nltk/corpus/util.py\u001b[0m in \u001b[0;36m__load\u001b[0;34m(self)\u001b[0m\n\u001b[1;32m     79\u001b[0m         \u001b[0;32melse\u001b[0m\u001b[0;34m:\u001b[0m\u001b[0;34m\u001b[0m\u001b[0;34m\u001b[0m\u001b[0m\n\u001b[1;32m     80\u001b[0m             \u001b[0;32mtry\u001b[0m\u001b[0;34m:\u001b[0m\u001b[0;34m\u001b[0m\u001b[0;34m\u001b[0m\u001b[0m\n\u001b[0;32m---> 81\u001b[0;31m                 \u001b[0mroot\u001b[0m \u001b[0;34m=\u001b[0m \u001b[0mnltk\u001b[0m\u001b[0;34m.\u001b[0m\u001b[0mdata\u001b[0m\u001b[0;34m.\u001b[0m\u001b[0mfind\u001b[0m\u001b[0;34m(\u001b[0m\u001b[0;34mf\"{self.subdir}/{self.__name}\"\u001b[0m\u001b[0;34m)\u001b[0m\u001b[0;34m\u001b[0m\u001b[0;34m\u001b[0m\u001b[0m\n\u001b[0m\u001b[1;32m     82\u001b[0m             \u001b[0;32mexcept\u001b[0m \u001b[0mLookupError\u001b[0m \u001b[0;32mas\u001b[0m \u001b[0me\u001b[0m\u001b[0;34m:\u001b[0m\u001b[0;34m\u001b[0m\u001b[0;34m\u001b[0m\u001b[0m\n\u001b[1;32m     83\u001b[0m                 \u001b[0;32mtry\u001b[0m\u001b[0;34m:\u001b[0m\u001b[0;34m\u001b[0m\u001b[0;34m\u001b[0m\u001b[0m\n",
      "\u001b[0;32m/shared-libs/python3.9/py/lib/python3.9/site-packages/nltk/data.py\u001b[0m in \u001b[0;36mfind\u001b[0;34m(resource_name, paths)\u001b[0m\n\u001b[1;32m    581\u001b[0m     \u001b[0msep\u001b[0m \u001b[0;34m=\u001b[0m \u001b[0;34m\"*\"\u001b[0m \u001b[0;34m*\u001b[0m \u001b[0;36m70\u001b[0m\u001b[0;34m\u001b[0m\u001b[0;34m\u001b[0m\u001b[0m\n\u001b[1;32m    582\u001b[0m     \u001b[0mresource_not_found\u001b[0m \u001b[0;34m=\u001b[0m \u001b[0;34mf\"\\n{sep}\\n{msg}\\n{sep}\\n\"\u001b[0m\u001b[0;34m\u001b[0m\u001b[0;34m\u001b[0m\u001b[0m\n\u001b[0;32m--> 583\u001b[0;31m     \u001b[0;32mraise\u001b[0m \u001b[0mLookupError\u001b[0m\u001b[0;34m(\u001b[0m\u001b[0mresource_not_found\u001b[0m\u001b[0;34m)\u001b[0m\u001b[0;34m\u001b[0m\u001b[0;34m\u001b[0m\u001b[0m\n\u001b[0m\u001b[1;32m    584\u001b[0m \u001b[0;34m\u001b[0m\u001b[0m\n\u001b[1;32m    585\u001b[0m \u001b[0;34m\u001b[0m\u001b[0m\n",
      "\u001b[0;31mLookupError\u001b[0m: \n**********************************************************************\n  Resource \u001b[93mstopwords\u001b[0m not found.\n  Please use the NLTK Downloader to obtain the resource:\n\n  \u001b[31m>>> import nltk\n  >>> nltk.download('stopwords')\n  \u001b[0m\n  For more information see: https://www.nltk.org/data.html\n\n  Attempted to load \u001b[93mcorpora/stopwords\u001b[0m\n\n  Searched in:\n    - '/root/nltk_data'\n    - '/usr/local/nltk_data'\n    - '/usr/local/share/nltk_data'\n    - '/usr/local/lib/nltk_data'\n    - '/usr/share/nltk_data'\n    - '/usr/local/share/nltk_data'\n    - '/usr/lib/nltk_data'\n    - '/usr/local/lib/nltk_data'\n**********************************************************************\n"
     ]
    }
   ]
  },
  {
   "cell_type": "code",
   "metadata": {
    "cell_id": "f7a1c7caa03e4cd8abc4ea9cf3766e29",
    "tags": [],
    "deepnote_to_be_reexecuted": true,
    "source_hash": "f4011378",
    "execution_start": 1650226379759,
    "execution_millis": 775,
    "deepnote_cell_type": "code",
    "deepnote_cell_height": 1125.0625
   },
   "source": "file_object = open('english.txt', 'a')\nfile_object.write(\"@\")\n\nnltk.download('stopwords')\nstop_words = list([set(stopwords.words('english'))])\nstop_words.extend((\"#\", \"@\", '\\'', ':', '.', ',', '!'))\n\nfiltered = []\nfor i in df_meta['content']:\n    i = word_tokenize(i)\n    i = [w for w in i if not w.lower() in stop_words]\n    for x in i:\n        if x in stop_words:\n            i.remove(x)\n        if \"https\" or \"http\" or \"//\" in x:\n            i.remove(x)\n    filtered.append(i)\n\ndf_meta[\"filtered\"] = filtered\ndf_meta",
   "execution_count": null,
   "outputs": [
    {
     "name": "stderr",
     "text": "[nltk_data] Downloading package stopwords to /root/nltk_data...\n[nltk_data]   Package stopwords is already up-to-date!\n<ipython-input-88-37da1bb0feb9>:19: SettingWithCopyWarning: \nA value is trying to be set on a copy of a slice from a DataFrame.\nTry using .loc[row_indexer,col_indexer] = value instead\n\nSee the caveats in the documentation: https://pandas.pydata.org/pandas-docs/stable/user_guide/indexing.html#returning-a-view-versus-a-copy\n  df_meta[\"filtered\"] = filtered\n",
     "output_type": "stream"
    },
    {
     "output_type": "execute_result",
     "execution_count": 88,
     "data": {
      "application/vnd.deepnote.dataframe.v3+json": {
       "column_count": 29,
       "row_count": 130,
       "columns": [
        {
         "name": "_type",
         "dtype": "object",
         "stats": {
          "unique_count": 1,
          "nan_count": 0,
          "categories": [
           {
            "name": "snscrape.modules.twitter.Tweet",
            "count": 130
           }
          ]
         }
        },
        {
         "name": "url",
         "dtype": "object",
         "stats": {
          "unique_count": 130,
          "nan_count": 0,
          "categories": [
           {
            "name": "https://twitter.com/newage_gods/status/1503936941280018435",
            "count": 1
           },
           {
            "name": "https://twitter.com/MoonApeSale/status/1503932870250930177",
            "count": 1
           },
           {
            "name": "128 others",
            "count": 128
           }
          ]
         }
        },
        {
         "name": "date",
         "dtype": "object",
         "stats": {
          "unique_count": 129,
          "nan_count": 0,
          "categories": [
           {
            "name": "2022-03-15T13:51:25+00:00",
            "count": 2
           },
           {
            "name": "2022-03-16T03:31:23+00:00",
            "count": 1
           },
           {
            "name": "127 others",
            "count": 127
           }
          ]
         }
        },
        {
         "name": "content",
         "dtype": "object",
         "stats": {
          "unique_count": 130,
          "nan_count": 0,
          "categories": [
           {
            "name": "What do you think of Mark Zukerberg's announcement 📢 today on #NFTs coming to Instagram 📷, would you mint 🚀 on Instagram? #NFTdrop #NFTartist #NFTCommmunity #Instagram #Meta #Zuckerberg",
            "count": 1
           },
           {
            "name": "Rare Loot  #1263 Sold for 0.08Ξ #NFT #NFTs #NFTsales #cryptoartist #nftartist #blockchain #NFTGiveaway #Meta https://t.co/gNOv4OHvHI",
            "count": 1
           },
           {
            "name": "128 others",
            "count": 128
           }
          ]
         }
        },
        {
         "name": "renderedContent",
         "dtype": "object",
         "stats": {
          "unique_count": 128,
          "nan_count": 0,
          "categories": [
           {
            "name": "New Ducksters NFT out Now 1/1 NFT\nDKST\n1/1\nopensea.io/assets/matic/0…\n\n#nfts #nftdrop #openseanfts #opensea \n@opensea\n\n #nftart #nftartist #NFTdrops #nftdrop #meta #vr #metaverse",
            "count": 2
           },
           {
            "name": "New #nft out now\n1/1 CryptoBoys NFT (CRYB)\n\nopensea.io/assets/matic/0…\n\n#nfts #nftdrop #openseanfts #opensea \n@opensea\n\n #nftart #nftartist #NFTdrops #nftdrop #meta #vr #metaverse\n\nCheck us out now!\n1/1 NFTs (rare)",
            "count": 2
           },
           {
            "name": "126 others",
            "count": 126
           }
          ]
         }
        },
        {
         "name": "id",
         "dtype": "int64",
         "stats": {
          "unique_count": 130,
          "nan_count": 0,
          "min": "1503722962075086849",
          "max": "1503936941280018435",
          "histogram": [
           {
            "bin_start": 1503722962075086800,
            "bin_end": 1503744359995580000,
            "count": 16
           },
           {
            "bin_start": 1503744359995580000,
            "bin_end": 1503765757916073200,
            "count": 18
           },
           {
            "bin_start": 1503765757916073200,
            "bin_end": 1503787155836566300,
            "count": 9
           },
           {
            "bin_start": 1503787155836566300,
            "bin_end": 1503808553757059600,
            "count": 19
           },
           {
            "bin_start": 1503808553757059600,
            "bin_end": 1503829951677552600,
            "count": 13
           },
           {
            "bin_start": 1503829951677552600,
            "bin_end": 1503851349598045700,
            "count": 16
           },
           {
            "bin_start": 1503851349598045700,
            "bin_end": 1503872747518539000,
            "count": 9
           },
           {
            "bin_start": 1503872747518539000,
            "bin_end": 1503894145439032000,
            "count": 14
           },
           {
            "bin_start": 1503894145439032000,
            "bin_end": 1503915543359525400,
            "count": 9
           },
           {
            "bin_start": 1503915543359525400,
            "bin_end": 1503936941280018400,
            "count": 7
           }
          ]
         }
        },
        {
         "name": "user",
         "dtype": "object",
         "stats": {
          "unique_count": 130,
          "nan_count": 0,
          "categories": [
           {
            "name": "{'_type': 'snscrape.modules.twitter.User', 'username': 'metanews_com', 'id': 747893755, 'displayname': 'MetaNews', 'description': 'Your Official Metaverse Source', 'rawDescription': 'Your Official Metaverse Source', 'descriptionUrls': None, 'verified': False, 'created': '2012-08-09T20:34:06+00:00', 'followersCount': 17537, 'friendsCount': 45, 'statusesCount': 4611, 'favouritesCount': 34, 'listedCount': 18, 'mediaCount': 78, 'location': 'United Kingdom', 'protected': False, 'linkUrl': 'http://metanews.com', 'linkTcourl': 'https://t.co/8MeXUNc5v4', 'profileImageUrl': 'https://pbs.twimg.com/profile_images/1494183325304782849/mlcfzkZn_normal.jpg', 'profileBannerUrl': 'https://pbs.twimg.com/profile_banners/747893755/1638277243', 'label': None, 'url': 'https://twitter.com/metanews_com'}",
            "count": 11
           },
           {
            "name": "{'_type': 'snscrape.modules.twitter.User', 'username': 'MazManStudios', 'id': 1467936297604030476, 'displayname': 'MazMan Studios \\uea00', 'description': 'We make NFTs. We changed so much from BurgerBros to LongMile. Now we are finalizing ourselves. Brand New Series!\\nS1:BurgerBro\\nS2:LongMile\\nS3:MazMan\\n#cyberoasis', 'rawDescription': 'We make NFTs. We changed so much from BurgerBros to LongMile. Now we are finalizing ourselves. Brand New Series!\\nS1:BurgerBro\\nS2:LongMile\\nS3:MazMan\\n#cyberoasis', 'descriptionUrls': None, 'verified': False, 'created': '2021-12-06T19:17:54+00:00', 'followersCount': 90, 'friendsCount': 132, 'statusesCount': 403, 'favouritesCount': 485, 'listedCount': 6, 'mediaCount': 12, 'location': 'NJ', 'protected': False, 'linkUrl': 'http://bit.ly/longmileNFTs', 'linkTcourl': 'https://t.co/Lq0lxr6MuS', 'profileImageUrl': 'https://pbs.twimg.com/profile_images/1502761292678905858/N9nZAiEB_normal.jpg', 'profileBannerUrl': 'https://pbs.twimg.com/profile_banners/1467936297604030476/1647121187', 'label': None, 'url': 'https://twitter.com/MazManStudios'}",
            "count": 10
           },
           {
            "name": "84 others",
            "count": 109
           }
          ]
         }
        },
        {
         "name": "replyCount",
         "dtype": "int64",
         "stats": {
          "unique_count": 10,
          "nan_count": 0,
          "min": "0",
          "max": "20",
          "histogram": [
           {
            "bin_start": 0,
            "bin_end": 2,
            "count": 109
           },
           {
            "bin_start": 2,
            "bin_end": 4,
            "count": 14
           },
           {
            "bin_start": 4,
            "bin_end": 6,
            "count": 1
           },
           {
            "bin_start": 6,
            "bin_end": 8,
            "count": 3
           },
           {
            "bin_start": 8,
            "bin_end": 10,
            "count": 0
           },
           {
            "bin_start": 10,
            "bin_end": 12,
            "count": 1
           },
           {
            "bin_start": 12,
            "bin_end": 14,
            "count": 0
           },
           {
            "bin_start": 14,
            "bin_end": 16,
            "count": 1
           },
           {
            "bin_start": 16,
            "bin_end": 18,
            "count": 0
           },
           {
            "bin_start": 18,
            "bin_end": 20,
            "count": 1
           }
          ]
         }
        },
        {
         "name": "retweetCount",
         "dtype": "int64",
         "stats": {
          "unique_count": 14,
          "nan_count": 0,
          "min": "0",
          "max": "32",
          "histogram": [
           {
            "bin_start": 0,
            "bin_end": 3.2,
            "count": 117
           },
           {
            "bin_start": 3.2,
            "bin_end": 6.4,
            "count": 5
           },
           {
            "bin_start": 6.4,
            "bin_end": 9.600000000000001,
            "count": 2
           },
           {
            "bin_start": 9.600000000000001,
            "bin_end": 12.8,
            "count": 2
           },
           {
            "bin_start": 12.8,
            "bin_end": 16,
            "count": 1
           },
           {
            "bin_start": 16,
            "bin_end": 19.200000000000003,
            "count": 0
           },
           {
            "bin_start": 19.200000000000003,
            "bin_end": 22.400000000000002,
            "count": 1
           },
           {
            "bin_start": 22.400000000000002,
            "bin_end": 25.6,
            "count": 0
           },
           {
            "bin_start": 25.6,
            "bin_end": 28.8,
            "count": 1
           },
           {
            "bin_start": 28.8,
            "bin_end": 32,
            "count": 1
           }
          ]
         }
        },
        {
         "name": "likeCount",
         "dtype": "int64",
         "stats": {
          "unique_count": 21,
          "nan_count": 0,
          "min": "3",
          "max": "94",
          "histogram": [
           {
            "bin_start": 3,
            "bin_end": 12.1,
            "count": 117
           },
           {
            "bin_start": 12.1,
            "bin_end": 21.2,
            "count": 5
           },
           {
            "bin_start": 21.2,
            "bin_end": 30.299999999999997,
            "count": 4
           },
           {
            "bin_start": 30.299999999999997,
            "bin_end": 39.4,
            "count": 0
           },
           {
            "bin_start": 39.4,
            "bin_end": 48.5,
            "count": 0
           },
           {
            "bin_start": 48.5,
            "bin_end": 57.599999999999994,
            "count": 2
           },
           {
            "bin_start": 57.599999999999994,
            "bin_end": 66.69999999999999,
            "count": 0
           },
           {
            "bin_start": 66.69999999999999,
            "bin_end": 75.8,
            "count": 1
           },
           {
            "bin_start": 75.8,
            "bin_end": 84.89999999999999,
            "count": 0
           },
           {
            "bin_start": 84.89999999999999,
            "bin_end": 94,
            "count": 1
           }
          ]
         }
        },
        {
         "name": "quoteCount",
         "dtype": "int64",
         "stats": {
          "unique_count": 7,
          "nan_count": 0,
          "min": "0",
          "max": "6",
          "histogram": [
           {
            "bin_start": 0,
            "bin_end": 0.6,
            "count": 62
           },
           {
            "bin_start": 0.6,
            "bin_end": 1.2,
            "count": 38
           },
           {
            "bin_start": 1.2,
            "bin_end": 1.7999999999999998,
            "count": 0
           },
           {
            "bin_start": 1.7999999999999998,
            "bin_end": 2.4,
            "count": 16
           },
           {
            "bin_start": 2.4,
            "bin_end": 3,
            "count": 0
           },
           {
            "bin_start": 3,
            "bin_end": 3.5999999999999996,
            "count": 8
           },
           {
            "bin_start": 3.5999999999999996,
            "bin_end": 4.2,
            "count": 4
           },
           {
            "bin_start": 4.2,
            "bin_end": 4.8,
            "count": 0
           },
           {
            "bin_start": 4.8,
            "bin_end": 5.3999999999999995,
            "count": 1
           },
           {
            "bin_start": 5.3999999999999995,
            "bin_end": 6,
            "count": 1
           }
          ]
         }
        },
        {
         "name": "conversationId",
         "dtype": "int64",
         "stats": {
          "unique_count": 121,
          "nan_count": 0,
          "min": "1503598259750776834",
          "max": "1503936941280018435",
          "histogram": [
           {
            "bin_start": 1503598259750776800,
            "bin_end": 1503632127903701000,
            "count": 1
           },
           {
            "bin_start": 1503632127903701000,
            "bin_end": 1503665996056625200,
            "count": 0
           },
           {
            "bin_start": 1503665996056625200,
            "bin_end": 1503699864209549300,
            "count": 0
           },
           {
            "bin_start": 1503699864209549300,
            "bin_end": 1503733732362473500,
            "count": 15
           },
           {
            "bin_start": 1503733732362473500,
            "bin_end": 1503767600515397600,
            "count": 24
           },
           {
            "bin_start": 1503767600515397600,
            "bin_end": 1503801468668321800,
            "count": 15
           },
           {
            "bin_start": 1503801468668321800,
            "bin_end": 1503835336821246000,
            "count": 23
           },
           {
            "bin_start": 1503835336821246000,
            "bin_end": 1503869204974170000,
            "count": 20
           },
           {
            "bin_start": 1503869204974170000,
            "bin_end": 1503903073127094300,
            "count": 21
           },
           {
            "bin_start": 1503903073127094300,
            "bin_end": 1503936941280018400,
            "count": 11
           }
          ]
         }
        },
        {
         "name": "lang",
         "dtype": "object",
         "stats": {
          "unique_count": 1,
          "nan_count": 0,
          "categories": [
           {
            "name": "en",
            "count": 130
           }
          ]
         }
        },
        {
         "name": "source",
         "dtype": "object",
         "stats": {
          "unique_count": 18,
          "nan_count": 0,
          "categories": [
           {
            "name": "<a href=\"https://mobile.twitter.com\" rel=\"nofollow\">Twitter Web App</a>",
            "count": 64
           },
           {
            "name": "<a href=\"http://twitter.com/download/iphone\" rel=\"nofollow\">Twitter for iPhone</a>",
            "count": 21
           },
           {
            "name": "16 others",
            "count": 45
           }
          ]
         }
        },
        {
         "name": "sourceUrl",
         "dtype": "object",
         "stats": {
          "unique_count": 17,
          "nan_count": 0,
          "categories": [
           {
            "name": "https://mobile.twitter.com",
            "count": 64
           },
           {
            "name": "http://twitter.com/download/iphone",
            "count": 21
           },
           {
            "name": "15 others",
            "count": 45
           }
          ]
         }
        },
        {
         "name": "sourceLabel",
         "dtype": "object",
         "stats": {
          "unique_count": 18,
          "nan_count": 0,
          "categories": [
           {
            "name": "Twitter Web App",
            "count": 64
           },
           {
            "name": "Twitter for iPhone",
            "count": 21
           },
           {
            "name": "16 others",
            "count": 45
           }
          ]
         }
        },
        {
         "name": "outlinks",
         "dtype": "object",
         "stats": {
          "unique_count": 130,
          "nan_count": 51,
          "categories": [
           {
            "name": "['https://www.coindesk.com/business/2022/03/15/mark-zuckerberg-says-nfts-are-coming-soon-to-instagram/']",
            "count": 3
           },
           {
            "name": "76 others",
            "count": 76
           },
           {
            "name": "Missing",
            "count": 51
           }
          ]
         }
        },
        {
         "name": "tcooutlinks",
         "dtype": "object",
         "stats": {
          "unique_count": 130,
          "nan_count": 51,
          "categories": [
           {
            "name": "['https://t.co/GK8TCpBx7g']",
            "count": 1
           },
           {
            "name": "78 others",
            "count": 78
           },
           {
            "name": "Missing",
            "count": 51
           }
          ]
         }
        },
        {
         "name": "media",
         "dtype": "object",
         "stats": {
          "unique_count": 130,
          "nan_count": 81,
          "categories": [
           {
            "name": "[{'_type': 'snscrape.modules.twitter.Photo', 'previewUrl': 'https://pbs.twimg.com/media/FN8K-cDXEAM3BAP?format=png&name=small', 'fullUrl': 'https://pbs.twimg.com/media/FN8K-cDXEAM3BAP?format=png&name=large'}]",
            "count": 1
           },
           {
            "name": "48 others",
            "count": 48
           },
           {
            "name": "Missing",
            "count": 81
           }
          ]
         }
        },
        {
         "name": "retweetedTweet",
         "dtype": "object",
         "stats": {
          "unique_count": 0,
          "nan_count": 130,
          "categories": [
           {
            "name": "Missing",
            "count": 130
           }
          ]
         }
        },
        {
         "name": "quotedTweet",
         "dtype": "object",
         "stats": {
          "unique_count": 130,
          "nan_count": 125,
          "categories": [
           {
            "name": "{'_type': 'snscrape.modules.twitter.Tweet', 'url': 'https://twitter.com/Adopt_A_Boxer/status/1503884825949876225', 'date': '2022-03-16T00:04:17+00:00', 'content': 'Winnie came out of an overflowing \\u2066@ACCTPhilly\\u2069 shelter. Winnie was fully vetted last week. She got a dental, a spay and everything she needed.Winnie loves everyone. She’s in foster with multiple dogs outside of Phila. #adoptme #shelterpet #boxerdog #boxersoftwitter #dog https://t.co/dNRLp92gqk', 'renderedContent': 'Winnie came out of an overflowing \\u2066@ACCTPhilly\\u2069 shelter. Winnie was fully vetted last week. She got a dental, a spay and everything she needed.Winnie loves everyone. She’s in foster with multiple dogs outside of Phila. #adoptme #shelterpet #boxerdog #boxersoftwitter #dog https://t.co/dNRLp92gqk', 'id': 1503884825949876225, 'user': {'_type': 'snscrape.modules.twitter.User', 'username': 'Adopt_A_Boxer', 'id': 31004065, 'displayname': 'Adopt a Boxer Rescue', 'description': 'Adopt A Boxer Rescue is a 501(c)3 all-volunteer charitable organization formed to rescue, rehabilitate, and re-home unwanted and abandoned Boxers. Based in PA', 'rawDescription': 'Adopt A Boxer Rescue is a 501(c)3 all-volunteer charitable organization formed to rescue, rehabilitate, and re-home unwanted and abandoned Boxers. Based in PA', 'descriptionUrls': None, 'verified': False, 'created': '2009-04-14T00:24:25+00:00', 'followersCount': 6170, 'friendsCount': 1639, 'statusesCount': 6165, 'favouritesCount': 7247, 'listedCount': 114, 'mediaCount': 2974, 'location': 'Serving PA NY NJ CT DC metro', 'protected': False, 'linkUrl': 'http://adoptaboxerrescue.com', 'linkTcourl': 'https://t.co/G4vm0h1bn3', 'profileImageUrl': 'https://pbs.twimg.com/profile_images/1453873625921171499/Xxu2j1jw_normal.jpg', 'profileBannerUrl': 'https://pbs.twimg.com/profile_banners/31004065/1578150916', 'label': None, 'url': 'https://twitter.com/Adopt_A_Boxer'}, 'replyCount': 2, 'retweetCount': 13, 'likeCount': 55, 'quoteCount': 2, 'conversationId': 1503884825949876225, 'lang': 'en', 'source': '<a href=\"http://twitter.com/download/iphone\" rel=\"nofollow\">Twitter for iPhone</a>', 'sourceUrl': 'http://twitter.com/download/iphone', 'sourceLabel': 'Twitter for iPhone', 'outlinks': None, 'tcooutlinks': None, 'media': [{'_type': 'snscrape.modules.twitter.Photo', 'previewUrl': 'https://pbs.twimg.com/media/FN7fRnCXMAYa5sK?format=jpg&name=small', 'fullUrl': 'https://pbs.twimg.com/media/FN7fRnCXMAYa5sK?format=jpg&name=large'}], 'retweetedTweet': None, 'quotedTweet': None, 'inReplyToTweetId': None, 'inReplyToUser': None, 'mentionedUsers': [{'_type': 'snscrape.modules.twitter.User', 'username': 'ACCTPhilly', 'id': 94795923, 'displayname': 'ACCT Philly', 'description': None, 'rawDescription': None, 'descriptionUrls': None, 'verified': None, 'created': None, 'followersCount': None, 'friendsCount': None, 'statusesCount': None, 'favouritesCount': None, 'listedCount': None, 'mediaCount': None, 'location': None, 'protected': None, 'linkUrl': None, 'linkTcourl': None, 'profileImageUrl': None, 'profileBannerUrl': None, 'label': None, 'url': 'https://twitter.com/ACCTPhilly'}], 'coordinates': None, 'place': None, 'hashtags': ['adoptme', 'shelterpet', 'boxerdog', 'boxersoftwitter', 'dog'], 'cashtags': None}",
            "count": 1
           },
           {
            "name": "4 others",
            "count": 4
           },
           {
            "name": "Missing",
            "count": 125
           }
          ]
         }
        },
        {
         "name": "inReplyToTweetId",
         "dtype": "float64",
         "stats": {
          "unique_count": 12,
          "nan_count": 115,
          "min": "1.5035982597507768e+18",
          "max": "1.5038830443687608e+18",
          "histogram": [
           {
            "bin_start": 1503598259750776800,
            "bin_end": 1503626738212575200,
            "count": 1
           },
           {
            "bin_start": 1503626738212575200,
            "bin_end": 1503655216674373600,
            "count": 0
           },
           {
            "bin_start": 1503655216674373600,
            "bin_end": 1503683695136172000,
            "count": 0
           },
           {
            "bin_start": 1503683695136172000,
            "bin_end": 1503712173597970400,
            "count": 3
           },
           {
            "bin_start": 1503712173597970400,
            "bin_end": 1503740652059768800,
            "count": 8
           },
           {
            "bin_start": 1503740652059768800,
            "bin_end": 1503769130521567200,
            "count": 0
           },
           {
            "bin_start": 1503769130521567200,
            "bin_end": 1503797608983365600,
            "count": 1
           },
           {
            "bin_start": 1503797608983365600,
            "bin_end": 1503826087445164000,
            "count": 1
           },
           {
            "bin_start": 1503826087445164000,
            "bin_end": 1503854565906962400,
            "count": 0
           },
           {
            "bin_start": 1503854565906962400,
            "bin_end": 1503883044368760800,
            "count": 1
           }
          ]
         }
        },
        {
         "name": "inReplyToUser",
         "dtype": "object",
         "stats": {
          "unique_count": 130,
          "nan_count": 115,
          "categories": [
           {
            "name": "{'_type': 'snscrape.modules.twitter.User', 'username': 'MetaSlavs', 'id': 1438645467613642752, 'displayname': 'MetaSlavs NFT 🤙', 'description': '1250 hand-drawn MetaSlavs NFTs available now! 🤙\\nJoin discord.gg/metaslavs & immortalize squatting Slavs 🔥 \\n🚀 We are Sold Out', 'rawDescription': '1250 hand-drawn MetaSlavs NFTs available now! 🤙\\nJoin https://t.co/Uhcb0JFfHU & immortalize squatting Slavs 🔥 \\n🚀 We are Sold Out', 'descriptionUrls': [{'text': 'discord.gg/metaslavs', 'url': 'http://discord.gg/metaslavs', 'tcourl': 'https://t.co/Uhcb0JFfHU', 'indices': [53, 76]}], 'verified': False, 'created': '2021-09-16T23:26:33+00:00', 'followersCount': 15877, 'friendsCount': 199, 'statusesCount': 754, 'favouritesCount': 1464, 'listedCount': 12, 'mediaCount': 362, 'location': 'Slavs everywhere', 'protected': False, 'linkUrl': 'https://discord.gg/metaslavs', 'linkTcourl': 'https://t.co/KRqX1eMO0t', 'profileImageUrl': 'https://pbs.twimg.com/profile_images/1463509712884969476/fpFtJLGr_normal.jpg', 'profileBannerUrl': 'https://pbs.twimg.com/profile_banners/1438645467613642752/1644339702', 'label': None, 'url': 'https://twitter.com/MetaSlavs'}",
            "count": 6
           },
           {
            "name": "5 others",
            "count": 9
           },
           {
            "name": "Missing",
            "count": 115
           }
          ]
         }
        },
        {
         "name": "mentionedUsers",
         "dtype": "object",
         "stats": {
          "unique_count": 130,
          "nan_count": 82,
          "categories": [
           {
            "name": "[{'_type': 'snscrape.modules.twitter.User', 'username': 'opensea', 'id': 946213559213555712, 'displayname': 'OpenSea', 'description': None, 'rawDescription': None, 'descriptionUrls': None, 'verified': None, 'created': None, 'followersCount': None, 'friendsCount': None, 'statusesCount': None, 'favouritesCount': None, 'listedCount': None, 'mediaCount': None, 'location': None, 'protected': None, 'linkUrl': None, 'linkTcourl': None, 'profileImageUrl': None, 'profileBannerUrl': None, 'label': None, 'url': 'https://twitter.com/opensea'}]",
            "count": 12
           },
           {
            "name": "34 others",
            "count": 36
           },
           {
            "name": "Missing",
            "count": 82
           }
          ]
         }
        },
        {
         "name": "coordinates",
         "dtype": "object",
         "stats": {
          "unique_count": 130,
          "nan_count": 128,
          "categories": [
           {
            "name": "{'_type': 'snscrape.modules.twitter.Coordinates', 'longitude': -71.01153, 'latitude': 42.444954}",
            "count": 1
           },
           {
            "name": "{'_type': 'snscrape.modules.twitter.Coordinates', 'longitude': -65.85182, 'latitude': 46.256755}",
            "count": 1
           },
           {
            "name": "Missing",
            "count": 128
           }
          ]
         }
        },
        {
         "name": "place",
         "dtype": "object",
         "stats": {
          "unique_count": 130,
          "nan_count": 128,
          "categories": [
           {
            "name": "{'_type': 'snscrape.modules.twitter.Place', 'fullName': 'Lynn, MA', 'name': 'Lynn', 'type': 'city', 'country': 'United States', 'countryCode': 'US'}",
            "count": 1
           },
           {
            "name": "{'_type': 'snscrape.modules.twitter.Place', 'fullName': 'Kent, New Brunswick', 'name': 'Kent', 'type': 'admin', 'country': 'Canada', 'countryCode': 'CA'}",
            "count": 1
           },
           {
            "name": "Missing",
            "count": 128
           }
          ]
         }
        },
        {
         "name": "hashtags",
         "dtype": "object",
         "stats": {
          "unique_count": 130,
          "nan_count": 0,
          "categories": [
           {
            "name": "['Metanews', 'Metaverse', 'meta', 'NFT', 'VR', 'AR']",
            "count": 11
           },
           {
            "name": "['Metaverse', 'meta', 'crypto', 'BTC', 'bitcoin']",
            "count": 7
           },
           {
            "name": "92 others",
            "count": 112
           }
          ]
         }
        },
        {
         "name": "cashtags",
         "dtype": "object",
         "stats": {
          "unique_count": 130,
          "nan_count": 127,
          "categories": [
           {
            "name": "['Eth']",
            "count": 1
           },
           {
            "name": "2 others",
            "count": 2
           },
           {
            "name": "Missing",
            "count": 127
           }
          ]
         }
        },
        {
         "name": "filtered",
         "dtype": "object",
         "stats": {
          "unique_count": 130,
          "nan_count": 0,
          "categories": [
           {
            "name": "['Ducksters', 'out', 'DKST', '1/1', 'https', 'nfts', 'openseanfts', 'opensea', 'nftartist', 'nftdrop', 'vr']",
            "count": 3
           },
           {
            "name": "['do', 'think', 'Mark', \"'s\", '📢', 'on', 'coming', 'would', 'mint', 'on', 'Instagram', '?', 'NFTartist', 'Instagram', 'Zuckerberg']",
            "count": 1
           },
           {
            "name": "126 others",
            "count": 126
           }
          ]
         }
        },
        {
         "name": "_deepnote_index_column",
         "dtype": "int64"
        }
       ],
       "rows": [
        {
         "_type": "snscrape.modules.twitter.Tweet",
         "url": "https://twitter.com/newage_gods/status/1503936941280018435",
         "date": "2022-03-16T03:31:23+00:00",
         "content": "What do you think of Mark Zukerberg's announcement 📢 today on #NFTs coming to Instagram 📷, would you mint 🚀 on Instagram? #NFTdrop #NFTartist #NFTCommmunity #Instagram #Meta #Zuckerberg",
         "renderedContent": "What do you think of Mark Zukerberg's announcement 📢 today on #NFTs coming to Instagram 📷, would you mint 🚀 on Instagram? #NFTdrop #NFTartist #NFTCommmunity #Instagram #Meta #Zuckerberg",
         "id": 1503936941280018400,
         "user": "{'_type': 'snscrape.modules.twitter.User', 'username': 'newage_gods', 'id': 1488801468073209859, 'displayname': 'Stylish Shiva Pretty Parvati', 'description': 'NFT Movie Project 🎬 | Animation 🎦 | Forming a 🌏 community for Indian 🇮🇳 Mythology fans 🔥Uniting Hindus through 1K NFT PFPs 👨\\u200d🏫👩\\u200d🏫 for social causes', 'rawDescription': 'NFT Movie Project 🎬 | Animation 🎦 | Forming a 🌏 community for Indian 🇮🇳 Mythology fans 🔥Uniting Hindus through 1K NFT PFPs 👨\\u200d🏫👩\\u200d🏫 for social causes', 'descriptionUrls': None, 'verified': False, 'created': '2022-02-02T09:08:34+00:00', 'followersCount': 325, 'friendsCount': 523, 'statusesCount': 59, 'favouritesCount': 2350, 'listedCount': 4, 'mediaCount': 23, 'location': 'Metaverse', 'protected': False, 'linkUrl': 'https://opensea.io/collection/stylish-shiva-pretty-parvati', 'linkTcourl': 'https://t.co/bR5FnuFjDQ', 'profileImageUrl': 'https://pbs.twimg.com/profile_images/1500653679501721600/V3RGqd1d_normal.jpg', 'profileBannerUrl': 'https://pbs…",
         "replyCount": 0,
         "retweetCount": 0,
         "likeCount": 5,
         "quoteCount": 1,
         "conversationId": 1503936941280018400,
         "lang": "en",
         "source": "<a href=\"https://mobile.twitter.com\" rel=\"nofollow\">Twitter Web App</a>",
         "sourceUrl": "https://mobile.twitter.com",
         "sourceLabel": "Twitter Web App",
         "outlinks": "None",
         "tcooutlinks": "None",
         "media": "None",
         "retweetedTweet": "None",
         "quotedTweet": "None",
         "inReplyToTweetId": "nan",
         "inReplyToUser": "None",
         "mentionedUsers": "None",
         "coordinates": "None",
         "place": "None",
         "hashtags": "['NFTs', 'NFTdrop', 'NFTartist', 'NFTCommmunity', 'Instagram', 'Meta', 'Zuckerberg']",
         "cashtags": "None",
         "filtered": "['do', 'think', 'Mark', \"'s\", '📢', 'on', 'coming', 'would', 'mint', 'on', 'Instagram', '?', 'NFTartist', 'Instagram', 'Zuckerberg']",
         "_deepnote_index_column": 24
        },
        {
         "_type": "snscrape.modules.twitter.Tweet",
         "url": "https://twitter.com/MoonApeSale/status/1503932870250930177",
         "date": "2022-03-16T03:15:12+00:00",
         "content": "Rare Loot  #1263 Sold for 0.08Ξ #NFT #NFTs #NFTsales #cryptoartist #nftartist #blockchain #NFTGiveaway #Meta https://t.co/gNOv4OHvHI",
         "renderedContent": "Rare Loot  #1263 Sold for 0.08Ξ #NFT #NFTs #NFTsales #cryptoartist #nftartist #blockchain #NFTGiveaway #Meta https://t.co/gNOv4OHvHI",
         "id": 1503932870250930200,
         "user": "{'_type': 'snscrape.modules.twitter.User', 'username': 'MoonApeSale', 'id': 1487857969559703556, 'displayname': 'Moon Ape Lab Sales', 'description': 'Moon Ape Lab Sales Feed\\nA community managed bot created by @SlushPerson\\nTurn ON notifications! Tap That BELL for immediate alerts!', 'rawDescription': 'Moon Ape Lab Sales Feed\\nA community managed bot created by @SlushPerson\\nTurn ON notifications! Tap That BELL for immediate alerts!', 'descriptionUrls': None, 'verified': False, 'created': '2022-01-30T18:39:36+00:00', 'followersCount': 576, 'friendsCount': 2, 'statusesCount': 2888, 'favouritesCount': 14, 'listedCount': 0, 'mediaCount': 2853, 'location': '', 'protected': False, 'linkUrl': None, 'linkTcourl': None, 'profileImageUrl': 'https://pbs.twimg.com/profile_images/1487858109964034049/iKEKFju2_normal.jpg', 'profileBannerUrl': 'https://pbs.twimg.com/profile_banners/1487857969559703556/1643568163', 'label': None, 'url': 'https://twitter.com/MoonApeSale'}",
         "replyCount": 0,
         "retweetCount": 0,
         "likeCount": 4,
         "quoteCount": 4,
         "conversationId": 1503932870250930200,
         "lang": "en",
         "source": "<a href=\"https://help.twitter.com/en/using-twitter/how-to-tweet#source-labels\" rel=\"nofollow\">TrippyFeed</a>",
         "sourceUrl": "https://help.twitter.com/en/using-twitter/how-to-tweet#source-labels",
         "sourceLabel": "TrippyFeed",
         "outlinks": "None",
         "tcooutlinks": "None",
         "media": "[{'_type': 'snscrape.modules.twitter.Photo', 'previewUrl': 'https://pbs.twimg.com/media/FN8K-cDXEAM3BAP?format=png&name=small', 'fullUrl': 'https://pbs.twimg.com/media/FN8K-cDXEAM3BAP?format=png&name=large'}]",
         "retweetedTweet": "None",
         "quotedTweet": "None",
         "inReplyToTweetId": "nan",
         "inReplyToUser": "None",
         "mentionedUsers": "None",
         "coordinates": "None",
         "place": "None",
         "hashtags": "['NFT', 'NFTs', 'NFTsales', 'cryptoartist', 'nftartist', 'blockchain', 'NFTGiveaway', 'Meta']",
         "cashtags": "None",
         "filtered": "['Loot', 'Sold', '0.08Ξ', 'NFTs', 'cryptoartist', 'blockchain', 'Meta', '//t.co/gNOv4OHvHI']",
         "_deepnote_index_column": 40
        },
        {
         "_type": "snscrape.modules.twitter.Tweet",
         "url": "https://twitter.com/Mikehuntisbig19/status/1503932626637312006",
         "date": "2022-03-16T03:14:14+00:00",
         "content": "https://t.co/GK8TCpBx7g\n\nHave you guys checked out cyptoduckz?? #meta #nft #nfts",
         "renderedContent": "opensea.io/collection/cry…\n\nHave you guys checked out cyptoduckz?? #meta #nft #nfts",
         "id": 1503932626637312000,
         "user": "{'_type': 'snscrape.modules.twitter.User', 'username': 'Mikehuntisbig19', 'id': 1452450053679837187, 'displayname': 'Nobadcypto', 'description': \"Hey I'm nobadcypto I make nfts! nd invest into cypto. 🌬 Creator of Cyptoduckz 🐤\", 'rawDescription': \"Hey I'm nobadcypto I make nfts! nd invest into cypto. 🌬 Creator of Cyptoduckz 🐤\", 'descriptionUrls': None, 'verified': False, 'created': '2021-10-25T01:41:03+00:00', 'followersCount': 40, 'friendsCount': 79, 'statusesCount': 1308, 'favouritesCount': 448, 'listedCount': 7, 'mediaCount': 375, 'location': '🇨🇦', 'protected': False, 'linkUrl': 'https://opensea.io/nobadcrypto', 'linkTcourl': 'https://t.co/oPLO2JFJ8U', 'profileImageUrl': 'https://pbs.twimg.com/profile_images/1496756141568802827/JpL0YpQn_normal.jpg', 'profileBannerUrl': 'https://pbs.twimg.com/profile_banners/1452450053679837187/1645522350', 'label': None, 'url': 'https://twitter.com/Mikehuntisbig19'}",
         "replyCount": 0,
         "retweetCount": 0,
         "likeCount": 5,
         "quoteCount": 2,
         "conversationId": 1503932626637312000,
         "lang": "en",
         "source": "<a href=\"https://mobile.twitter.com\" rel=\"nofollow\">Twitter Web App</a>",
         "sourceUrl": "https://mobile.twitter.com",
         "sourceLabel": "Twitter Web App",
         "outlinks": "['https://opensea.io/collection/cryptoduckz?search[sortAscending]=false&search[sortBy]=FAVORITE_COUNT']",
         "tcooutlinks": "['https://t.co/GK8TCpBx7g']",
         "media": "None",
         "retweetedTweet": "None",
         "quotedTweet": "None",
         "inReplyToTweetId": "nan",
         "inReplyToUser": "None",
         "mentionedUsers": "None",
         "coordinates": "None",
         "place": "None",
         "hashtags": "['meta', 'nft', 'nfts']",
         "cashtags": "None",
         "filtered": "['//t.co/GK8TCpBx7g', 'you', 'checked', 'cyptoduckz', '?', 'nft']",
         "_deepnote_index_column": 42
        },
        {
         "_type": "snscrape.modules.twitter.Tweet",
         "url": "https://twitter.com/GXT25075644/status/1503931569437700097",
         "date": "2022-03-16T03:10:02+00:00",
         "content": "#BAYC - Yuga Labs of  NFT BAYC will sell virtual land of metaverse this month, and are expecting that it will increase the company's sale for three to four times.\n\n#META - Mark Zuckerberg, META CEO,  said during #SXSW(South by Southwest) that they will add NFTs in Instagram soon. https://t.co/SH8bIbwXgp",
         "renderedContent": "#BAYC - Yuga Labs of  NFT BAYC will sell virtual land of metaverse this month, and are expecting that it will increase the company's sale for three to four times.\n\n#META - Mark Zuckerberg, META CEO,  said during #SXSW(South by Southwest) that they will add NFTs in Instagram soon. https://t.co/SH8bIbwXgp",
         "id": 1503931569437700000,
         "user": "{'_type': 'snscrape.modules.twitter.User', 'username': 'GXT25075644', 'id': 1174570754303594496, 'displayname': 'GXT', 'description': \"This is GXT Global's official twitter. \\n👉🏻gemmanetwork.com\\n👉t.me/gxtglobal_offi…\\n👉🏻linktr.ee/gxtglobal\", 'rawDescription': \"This is GXT Global's official twitter. \\n👉🏻https://t.co/IBUrhEWvFj\\n👉https://t.co/ekkfWVDZlu…\\n👉🏻https://t.co/nMiqINcIMB\", 'descriptionUrls': [{'text': 'gemmanetwork.com', 'url': 'https://gemmanetwork.com/', 'tcourl': 'https://t.co/IBUrhEWvFj', 'indices': [42, 65]}, {'text': 't.me/gxtglobal_offi', 'url': 'http://t.me/gxtglobal_offi', 'tcourl': 'https://t.co/ekkfWVDZlu', 'indices': [67, 90]}, {'text': 'linktr.ee/gxtglobal', 'url': 'http://linktr.ee/gxtglobal', 'tcourl': 'https://t.co/nMiqINcIMB', 'indices': [94, 117]}], 'verified': False, 'created': '2019-09-19T06:27:51+00:00', 'followersCount': 17674, 'friendsCount': 206, 'statusesCount': 1099, 'favouritesCount': 1132, 'listedCount': 17, 'mediaCount': 494, 'location': 'BVI, SG'…",
         "replyCount": 0,
         "retweetCount": 1,
         "likeCount": 3,
         "quoteCount": 0,
         "conversationId": 1503931569437700000,
         "lang": "en",
         "source": "<a href=\"https://mobile.twitter.com\" rel=\"nofollow\">Twitter Web App</a>",
         "sourceUrl": "https://mobile.twitter.com",
         "sourceLabel": "Twitter Web App",
         "outlinks": "None",
         "tcooutlinks": "None",
         "media": "[{'_type': 'snscrape.modules.twitter.Photo', 'previewUrl': 'https://pbs.twimg.com/media/FN8JsCHVIAQL_0u?format=jpg&name=small', 'fullUrl': 'https://pbs.twimg.com/media/FN8JsCHVIAQL_0u?format=jpg&name=large'}]",
         "retweetedTweet": "None",
         "quotedTweet": "None",
         "inReplyToTweetId": "nan",
         "inReplyToUser": "None",
         "mentionedUsers": "None",
         "coordinates": "None",
         "place": "None",
         "hashtags": "['BAYC', 'META', 'SXSW']",
         "cashtags": "None",
         "filtered": "['Labs', 'NFT', 'virtual', 'of', 'this', 'and', 'expecting', 'it', 'will', 'increase', 'company', 'sale', 'three', 'four', 'META', '-', 'Mark', 'META', 'said', 'SXSW', 'South', 'Southwest', 'that', 'will', 'NFTs', 'Instagram', 'https']",
         "_deepnote_index_column": 45
        },
        {
         "_type": "snscrape.modules.twitter.Tweet",
         "url": "https://twitter.com/MoonApeSale/status/1503930929663852550",
         "date": "2022-03-16T03:07:29+00:00",
         "content": "Moon Ape Lab #6496 Rarity# 7768\n  Sold for 0.188Ξ #NFT #NFTs #NFTsales #NFTGame #nftmarketplace #nfts #Meta #NFTCommunity https://t.co/Y36mAbVBVD",
         "renderedContent": "Moon Ape Lab #6496 Rarity# 7768\n  Sold for 0.188Ξ #NFT #NFTs #NFTsales #NFTGame #nftmarketplace #nfts #Meta #NFTCommunity https://t.co/Y36mAbVBVD",
         "id": 1503930929663852500,
         "user": "{'_type': 'snscrape.modules.twitter.User', 'username': 'MoonApeSale', 'id': 1487857969559703556, 'displayname': 'Moon Ape Lab Sales', 'description': 'Moon Ape Lab Sales Feed\\nA community managed bot created by @SlushPerson\\nTurn ON notifications! Tap That BELL for immediate alerts!', 'rawDescription': 'Moon Ape Lab Sales Feed\\nA community managed bot created by @SlushPerson\\nTurn ON notifications! Tap That BELL for immediate alerts!', 'descriptionUrls': None, 'verified': False, 'created': '2022-01-30T18:39:36+00:00', 'followersCount': 576, 'friendsCount': 2, 'statusesCount': 2888, 'favouritesCount': 14, 'listedCount': 0, 'mediaCount': 2853, 'location': '', 'protected': False, 'linkUrl': None, 'linkTcourl': None, 'profileImageUrl': 'https://pbs.twimg.com/profile_images/1487858109964034049/iKEKFju2_normal.jpg', 'profileBannerUrl': 'https://pbs.twimg.com/profile_banners/1487857969559703556/1643568163', 'label': None, 'url': 'https://twitter.com/MoonApeSale'}",
         "replyCount": 1,
         "retweetCount": 0,
         "likeCount": 8,
         "quoteCount": 3,
         "conversationId": 1503930929663852500,
         "lang": "en",
         "source": "<a href=\"https://help.twitter.com/en/using-twitter/how-to-tweet#source-labels\" rel=\"nofollow\">TrippyFeed</a>",
         "sourceUrl": "https://help.twitter.com/en/using-twitter/how-to-tweet#source-labels",
         "sourceLabel": "TrippyFeed",
         "outlinks": "None",
         "tcooutlinks": "None",
         "media": "[{'_type': 'snscrape.modules.twitter.Photo', 'previewUrl': 'https://pbs.twimg.com/media/FN8JNfCXIAYY4f6?format=png&name=small', 'fullUrl': 'https://pbs.twimg.com/media/FN8JNfCXIAYY4f6?format=png&name=large'}]",
         "retweetedTweet": "None",
         "quotedTweet": "None",
         "inReplyToTweetId": "nan",
         "inReplyToUser": "None",
         "mentionedUsers": "None",
         "coordinates": "None",
         "place": "None",
         "hashtags": "['NFT', 'NFTs', 'NFTsales', 'NFTGame', 'nftmarketplace', 'nfts', 'Meta', 'NFTCommunity']",
         "cashtags": "None",
         "filtered": "['Ape', '6496', '7768', 'for', 'NFT', 'NFTsales', 'nftmarketplace', 'Meta', 'https']",
         "_deepnote_index_column": 48
        },
        {
         "_type": "snscrape.modules.twitter.Tweet",
         "url": "https://twitter.com/MoonApeSale/status/1503928340071301120",
         "date": "2022-03-16T02:57:12+00:00",
         "content": "Legendary Loot  #3281 Sold for 0.21Ξ #NFT #NFTs #NFTsales #nftcollector #Meta #nftartist https://t.co/5w85Kuh9Qy",
         "renderedContent": "Legendary Loot  #3281 Sold for 0.21Ξ #NFT #NFTs #NFTsales #nftcollector #Meta #nftartist https://t.co/5w85Kuh9Qy",
         "id": 1503928340071301000,
         "user": "{'_type': 'snscrape.modules.twitter.User', 'username': 'MoonApeSale', 'id': 1487857969559703556, 'displayname': 'Moon Ape Lab Sales', 'description': 'Moon Ape Lab Sales Feed\\nA community managed bot created by @SlushPerson\\nTurn ON notifications! Tap That BELL for immediate alerts!', 'rawDescription': 'Moon Ape Lab Sales Feed\\nA community managed bot created by @SlushPerson\\nTurn ON notifications! Tap That BELL for immediate alerts!', 'descriptionUrls': None, 'verified': False, 'created': '2022-01-30T18:39:36+00:00', 'followersCount': 576, 'friendsCount': 2, 'statusesCount': 2888, 'favouritesCount': 14, 'listedCount': 0, 'mediaCount': 2853, 'location': '', 'protected': False, 'linkUrl': None, 'linkTcourl': None, 'profileImageUrl': 'https://pbs.twimg.com/profile_images/1487858109964034049/iKEKFju2_normal.jpg', 'profileBannerUrl': 'https://pbs.twimg.com/profile_banners/1487857969559703556/1643568163', 'label': None, 'url': 'https://twitter.com/MoonApeSale'}",
         "replyCount": 1,
         "retweetCount": 1,
         "likeCount": 11,
         "quoteCount": 4,
         "conversationId": 1503928340071301000,
         "lang": "en",
         "source": "<a href=\"https://help.twitter.com/en/using-twitter/how-to-tweet#source-labels\" rel=\"nofollow\">TrippyFeed</a>",
         "sourceUrl": "https://help.twitter.com/en/using-twitter/how-to-tweet#source-labels",
         "sourceLabel": "TrippyFeed",
         "outlinks": "None",
         "tcooutlinks": "None",
         "media": "[{'_type': 'snscrape.modules.twitter.Photo', 'previewUrl': 'https://pbs.twimg.com/media/FN8G2xKXMAEnZ0N?format=png&name=small', 'fullUrl': 'https://pbs.twimg.com/media/FN8G2xKXMAEnZ0N?format=png&name=large'}]",
         "retweetedTweet": "None",
         "quotedTweet": "None",
         "inReplyToTweetId": "nan",
         "inReplyToUser": "None",
         "mentionedUsers": "None",
         "coordinates": "None",
         "place": "None",
         "hashtags": "['NFT', 'NFTs', 'NFTsales', 'nftcollector', 'Meta', 'nftartist']",
         "cashtags": "None",
         "filtered": "['Loot', 'Sold', '0.21Ξ', 'NFTs', 'nftcollector', 'nftartist', '//t.co/5w85Kuh9Qy']",
         "_deepnote_index_column": 53
        },
        {
         "_type": "snscrape.modules.twitter.Tweet",
         "url": "https://twitter.com/MoonApeSale/status/1503928210505048068",
         "date": "2022-03-16T02:56:41+00:00",
         "content": "Legendary Loot  #4873 Sold for 0.23Ξ #NFT #NFTs #NFTsales #Metaverse #Meta #NFTdrop https://t.co/pcKWRYQg9Q",
         "renderedContent": "Legendary Loot  #4873 Sold for 0.23Ξ #NFT #NFTs #NFTsales #Metaverse #Meta #NFTdrop https://t.co/pcKWRYQg9Q",
         "id": 1503928210505048000,
         "user": "{'_type': 'snscrape.modules.twitter.User', 'username': 'MoonApeSale', 'id': 1487857969559703556, 'displayname': 'Moon Ape Lab Sales', 'description': 'Moon Ape Lab Sales Feed\\nA community managed bot created by @SlushPerson\\nTurn ON notifications! Tap That BELL for immediate alerts!', 'rawDescription': 'Moon Ape Lab Sales Feed\\nA community managed bot created by @SlushPerson\\nTurn ON notifications! Tap That BELL for immediate alerts!', 'descriptionUrls': None, 'verified': False, 'created': '2022-01-30T18:39:36+00:00', 'followersCount': 576, 'friendsCount': 2, 'statusesCount': 2888, 'favouritesCount': 14, 'listedCount': 0, 'mediaCount': 2853, 'location': '', 'protected': False, 'linkUrl': None, 'linkTcourl': None, 'profileImageUrl': 'https://pbs.twimg.com/profile_images/1487858109964034049/iKEKFju2_normal.jpg', 'profileBannerUrl': 'https://pbs.twimg.com/profile_banners/1487857969559703556/1643568163', 'label': None, 'url': 'https://twitter.com/MoonApeSale'}",
         "replyCount": 1,
         "retweetCount": 1,
         "likeCount": 9,
         "quoteCount": 1,
         "conversationId": 1503928210505048000,
         "lang": "en",
         "source": "<a href=\"https://help.twitter.com/en/using-twitter/how-to-tweet#source-labels\" rel=\"nofollow\">TrippyFeed</a>",
         "sourceUrl": "https://help.twitter.com/en/using-twitter/how-to-tweet#source-labels",
         "sourceLabel": "TrippyFeed",
         "outlinks": "None",
         "tcooutlinks": "None",
         "media": "[{'_type': 'snscrape.modules.twitter.Photo', 'previewUrl': 'https://pbs.twimg.com/media/FN8GvN8X0AATdcb?format=png&name=small', 'fullUrl': 'https://pbs.twimg.com/media/FN8GvN8X0AATdcb?format=png&name=large'}]",
         "retweetedTweet": "None",
         "quotedTweet": "None",
         "inReplyToTweetId": "nan",
         "inReplyToUser": "None",
         "mentionedUsers": "None",
         "coordinates": "None",
         "place": "None",
         "hashtags": "['NFT', 'NFTs', 'NFTsales', 'Metaverse', 'Meta', 'NFTdrop']",
         "cashtags": "None",
         "filtered": "['Loot', 'Sold', '0.23Ξ', 'NFTs', 'Metaverse', 'NFTdrop', '//t.co/pcKWRYQg9Q']",
         "_deepnote_index_column": 54
        },
        {
         "_type": "snscrape.modules.twitter.Tweet",
         "url": "https://twitter.com/Basikamii/status/1503911780883566593",
         "date": "2022-03-16T01:51:24+00:00",
         "content": "NFTs are coming to Instagram Says Meta CEO\n\nRead more via link on bio\n\n#NFTs #are #coming #to #Instagram #Says #Meta #CEO https://t.co/gqTJylwH4j https://t.co/3bKcRvwoki",
         "renderedContent": "NFTs are coming to Instagram Says Meta CEO\n\nRead more via link on bio\n\n#NFTs #are #coming #to #Instagram #Says #Meta #CEO instagr.am/p/CbJUVXtK_cQ/ https://t.co/3bKcRvwoki",
         "id": 1503911780883566600,
         "user": "{'_type': 'snscrape.modules.twitter.User', 'username': 'Basikamii', 'id': 968899961764089856, 'displayname': 'Basi Kamii', 'description': '', 'rawDescription': '', 'descriptionUrls': None, 'verified': False, 'created': '2018-02-28T17:25:26+00:00', 'followersCount': 404, 'friendsCount': 4784, 'statusesCount': 327, 'favouritesCount': 10, 'listedCount': 2, 'mediaCount': 260, 'location': 'Global', 'protected': False, 'linkUrl': 'http://basikamii.com', 'linkTcourl': 'https://t.co/fsN0fxTaGX', 'profileImageUrl': 'https://pbs.twimg.com/profile_images/1492980472544116745/vr2WeYnu_normal.jpg', 'profileBannerUrl': 'https://pbs.twimg.com/profile_banners/968899961764089856/1606343836', 'label': None, 'url': 'https://twitter.com/Basikamii'}",
         "replyCount": 0,
         "retweetCount": 0,
         "likeCount": 4,
         "quoteCount": 3,
         "conversationId": 1503911780883566600,
         "lang": "en",
         "source": "<a href=\"https://ifttt.com\" rel=\"nofollow\">IFTTT</a>",
         "sourceUrl": "https://ifttt.com",
         "sourceLabel": "IFTTT",
         "outlinks": "['https://instagr.am/p/CbJUVXtK_cQ/']",
         "tcooutlinks": "['https://t.co/gqTJylwH4j']",
         "media": "[{'_type': 'snscrape.modules.twitter.Photo', 'previewUrl': 'https://pbs.twimg.com/media/FN73y4PWUAEjZAK?format=jpg&name=small', 'fullUrl': 'https://pbs.twimg.com/media/FN73y4PWUAEjZAK?format=jpg&name=large'}]",
         "retweetedTweet": "None",
         "quotedTweet": "None",
         "inReplyToTweetId": "nan",
         "inReplyToUser": "None",
         "mentionedUsers": "None",
         "coordinates": "None",
         "place": "None",
         "hashtags": "['NFTs', 'are', 'coming', 'to', 'Instagram', 'Says', 'Meta', 'CEO']",
         "cashtags": "None",
         "filtered": "['are', 'to', 'Says', 'CEO', 'more', 'link', 'bio', 'are', 'to', 'Says', 'CEO', '//t.co/gqTJylwH4j', '//t.co/3bKcRvwoki']",
         "_deepnote_index_column": 109
        },
        {
         "_type": "snscrape.modules.twitter.Tweet",
         "url": "https://twitter.com/ZT_exchange/status/1503911757395693570",
         "date": "2022-03-16T01:51:18+00:00",
         "content": "🪐Mark Zuckerberg Says NFTs Are Coming Soon to Instagram\n\n#NFT #Meta #Instagram \nhttps://t.co/VSmIKbqKEs",
         "renderedContent": "🪐Mark Zuckerberg Says NFTs Are Coming Soon to Instagram\n\n#NFT #Meta #Instagram \ncoindesk.com/business/2022/…",
         "id": 1503911757395693600,
         "user": "{'_type': 'snscrape.modules.twitter.User', 'username': 'ZT_exchange', 'id': 1097321391609839616, 'displayname': 'ZT', 'description': 'Telegram:t.me/coinbetter_En\\nDiscord:discord.com/invite/nwuJKCP…\\nYoutube:ztb.app.link/NsNIQO2LQnb\\nFacebook:facebook.com/ZT.exchange', 'rawDescription': 'Telegram:https://t.co/ihEw2Gpipx\\nDiscord:https://t.co/LCAaBdGnkz\\nYoutube:https://t.co/nziJ7eF5Gb\\nFacebook:https://t.co/sgwNrAlYnm', 'descriptionUrls': [{'text': 't.me/coinbetter_En', 'url': 'http://t.me/coinbetter_En', 'tcourl': 'https://t.co/ihEw2Gpipx', 'indices': [9, 32]}, {'text': 'discord.com/invite/nwuJKCP…', 'url': 'https://discord.com/invite/nwuJKCPqtw', 'tcourl': 'https://t.co/LCAaBdGnkz', 'indices': [41, 64]}, {'text': 'ztb.app.link/NsNIQO2LQnb', 'url': 'http://ztb.app.link/NsNIQO2LQnb', 'tcourl': 'https://t.co/nziJ7eF5Gb', 'indices': [73, 96]}, {'text': 'facebook.com/ZT.exchange', 'url': 'http://facebook.com/ZT.exchange', 'tcourl': 'https://t.co/sgwNrAlYnm', 'indices': [106, 129]}], 'ver…",
         "replyCount": 0,
         "retweetCount": 0,
         "likeCount": 13,
         "quoteCount": 2,
         "conversationId": 1503911757395693600,
         "lang": "en",
         "source": "<a href=\"https://mobile.twitter.com\" rel=\"nofollow\">Twitter Web App</a>",
         "sourceUrl": "https://mobile.twitter.com",
         "sourceLabel": "Twitter Web App",
         "outlinks": "['https://www.coindesk.com/business/2022/03/15/mark-zuckerberg-says-nfts-are-coming-soon-to-instagram/']",
         "tcooutlinks": "['https://t.co/VSmIKbqKEs']",
         "media": "None",
         "retweetedTweet": "None",
         "quotedTweet": "None",
         "inReplyToTweetId": "nan",
         "inReplyToUser": "None",
         "mentionedUsers": "None",
         "coordinates": "None",
         "place": "None",
         "hashtags": "['NFT', 'Meta', 'Instagram']",
         "cashtags": "None",
         "filtered": "['Zuckerberg', 'NFTs', 'Coming', 'to', 'NFT', 'Instagram', '//t.co/VSmIKbqKEs']",
         "_deepnote_index_column": 110
        },
        {
         "_type": "snscrape.modules.twitter.Tweet",
         "url": "https://twitter.com/osldotcom/status/1503910129158467593",
         "date": "2022-03-16T01:44:50+00:00",
         "content": "Mark Zuckerberg announced that #NFTs are coming to #Instagram short-term and he believes it's the future to integrate them into #Meta.\n\nhttps://t.co/vt7BCgDxvM",
         "renderedContent": "Mark Zuckerberg announced that #NFTs are coming to #Instagram short-term and he believes it's the future to integrate them into #Meta.\n\ncoindesk.com/business/2022/…",
         "id": 1503910129158467600,
         "user": "{'_type': 'snscrape.modules.twitter.User', 'username': 'osldotcom', 'id': 1006846612319039489, 'displayname': 'OSL', 'description': 'Leading #digitalasset platform providing SaaS, brokerage, custody and exchange products. Licensed by the SFC in HK. Follow us for company updates, news and more', 'rawDescription': 'Leading #digitalasset platform providing SaaS, brokerage, custody and exchange products. Licensed by the SFC in HK. Follow us for company updates, news and more', 'descriptionUrls': None, 'verified': True, 'created': '2018-06-13T10:31:53+00:00', 'followersCount': 11337, 'friendsCount': 514, 'statusesCount': 2140, 'favouritesCount': 2082, 'listedCount': 125, 'mediaCount': 1216, 'location': 'Hong Kong', 'protected': False, 'linkUrl': 'http://www.osl.com', 'linkTcourl': 'https://t.co/ktK32AzBn2', 'profileImageUrl': 'https://pbs.twimg.com/profile_images/1410053969078939652/w0HM_-eC_normal.jpg', 'profileBannerUrl': 'https://pbs.twimg.com/profile_banners/1006846612319039489/1638944…",
         "replyCount": 0,
         "retweetCount": 0,
         "likeCount": 3,
         "quoteCount": 0,
         "conversationId": 1503910129158467600,
         "lang": "en",
         "source": "<a href=\"https://mobile.twitter.com\" rel=\"nofollow\">Twitter Web App</a>",
         "sourceUrl": "https://mobile.twitter.com",
         "sourceLabel": "Twitter Web App",
         "outlinks": "['https://www.coindesk.com/business/2022/03/15/mark-zuckerberg-says-nfts-are-coming-soon-to-instagram/']",
         "tcooutlinks": "['https://t.co/vt7BCgDxvM']",
         "media": "None",
         "retweetedTweet": "None",
         "quotedTweet": "None",
         "inReplyToTweetId": "nan",
         "inReplyToUser": "None",
         "mentionedUsers": "None",
         "coordinates": "None",
         "place": "None",
         "hashtags": "['NFTs', 'Instagram', 'Meta']",
         "cashtags": "None",
         "filtered": "['Zuckerberg', 'that', 'are', 'to', 'short-term', 'he', 'it', 'the', 'to', 'them', 'Meta', '//t.co/vt7BCgDxvM']",
         "_deepnote_index_column": 116
        }
       ]
      },
      "text/plain": "                              _type  \\\n24   snscrape.modules.twitter.Tweet   \n40   snscrape.modules.twitter.Tweet   \n42   snscrape.modules.twitter.Tweet   \n45   snscrape.modules.twitter.Tweet   \n48   snscrape.modules.twitter.Tweet   \n..                              ...   \n968  snscrape.modules.twitter.Tweet   \n969  snscrape.modules.twitter.Tweet   \n970  snscrape.modules.twitter.Tweet   \n974  snscrape.modules.twitter.Tweet   \n995  snscrape.modules.twitter.Tweet   \n\n                                                   url  \\\n24   https://twitter.com/newage_gods/status/1503936...   \n40   https://twitter.com/MoonApeSale/status/1503932...   \n42   https://twitter.com/Mikehuntisbig19/status/150...   \n45   https://twitter.com/GXT25075644/status/1503931...   \n48   https://twitter.com/MoonApeSale/status/1503930...   \n..                                                 ...   \n968  https://twitter.com/MetaSlavs/status/150373059...   \n969  https://twitter.com/MetaSlavs/status/150373059...   \n970  https://twitter.com/MetaSlavs/status/150373058...   \n974  https://twitter.com/TIMOFFICIAL94/status/15037...   \n995  https://twitter.com/cryptscp/status/1503722962...   \n\n                          date  \\\n24   2022-03-16T03:31:23+00:00   \n40   2022-03-16T03:15:12+00:00   \n42   2022-03-16T03:14:14+00:00   \n45   2022-03-16T03:10:02+00:00   \n48   2022-03-16T03:07:29+00:00   \n..                         ...   \n968  2022-03-15T13:51:25+00:00   \n969  2022-03-15T13:51:25+00:00   \n970  2022-03-15T13:51:24+00:00   \n974  2022-03-15T13:46:12+00:00   \n995  2022-03-15T13:21:06+00:00   \n\n                                               content  \\\n24   What do you think of Mark Zukerberg's announce...   \n40   Rare Loot  #1263 Sold for 0.08Ξ #NFT #NFTs #NF...   \n42   https://t.co/GK8TCpBx7g\\n\\nHave you guys check...   \n45   #BAYC - Yuga Labs of  NFT BAYC will sell virtu...   \n48   Moon Ape Lab #6496 Rarity# 7768\\n  Sold for 0....   \n..                                                 ...   \n968  There are a total of 5 different sports discip...   \n969  Join us and prepare for the olympiad 🏅 \\n\\n Ve...   \n970  🏃🏾‍♂️ GET FIT WITH METASLAVS! 🏃🏾‍♂️ \\n\\nIt's a...   \n974  Meta's cofounder Mark Zuckerberg\\nseemed a lit...   \n995  Metaverse May Be Tempting But It's Unregulated...   \n\n                                       renderedContent                   id  \\\n24   What do you think of Mark Zukerberg's announce...  1503936941280018435   \n40   Rare Loot  #1263 Sold for 0.08Ξ #NFT #NFTs #NF...  1503932870250930177   \n42   opensea.io/collection/cry…\\n\\nHave you guys ch...  1503932626637312006   \n45   #BAYC - Yuga Labs of  NFT BAYC will sell virtu...  1503931569437700097   \n48   Moon Ape Lab #6496 Rarity# 7768\\n  Sold for 0....  1503930929663852550   \n..                                                 ...                  ...   \n968  There are a total of 5 different sports discip...  1503730592860577793   \n969  Join us and prepare for the olympiad 🏅 \\n\\n Ve...  1503730590192967685   \n970  🏃🏾‍♂️ GET FIT WITH METASLAVS! 🏃🏾‍♂️ \\n\\nIt's a...  1503730586317471746   \n974  Meta's cofounder Mark Zuckerberg\\nseemed a lit...  1503729277379915778   \n995  Metaverse May Be Tempting But It's Unregulated...  1503722962075086849   \n\n                                                  user  replyCount  \\\n24   {'_type': 'snscrape.modules.twitter.User', 'us...           0   \n40   {'_type': 'snscrape.modules.twitter.User', 'us...           0   \n42   {'_type': 'snscrape.modules.twitter.User', 'us...           0   \n45   {'_type': 'snscrape.modules.twitter.User', 'us...           0   \n48   {'_type': 'snscrape.modules.twitter.User', 'us...           1   \n..                                                 ...         ...   \n968  {'_type': 'snscrape.modules.twitter.User', 'us...           2   \n969  {'_type': 'snscrape.modules.twitter.User', 'us...           2   \n970  {'_type': 'snscrape.modules.twitter.User', 'us...           2   \n974  {'_type': 'snscrape.modules.twitter.User', 'us...           0   \n995  {'_type': 'snscrape.modules.twitter.User', 'us...           2   \n\n     retweetCount  likeCount  ...  retweetedTweet  quotedTweet  \\\n24              0          5  ...            None         None   \n40              0          4  ...            None         None   \n42              0          5  ...            None         None   \n45              1          3  ...            None         None   \n48              0          8  ...            None         None   \n..            ...        ...  ...             ...          ...   \n968             0          3  ...            None         None   \n969             0          3  ...            None         None   \n970             2          3  ...            None         None   \n974             1          3  ...            None         None   \n995             0          5  ...            None         None   \n\n    inReplyToTweetId                                      inReplyToUser  \\\n24               NaN                                               None   \n40               NaN                                               None   \n42               NaN                                               None   \n45               NaN                                               None   \n48               NaN                                               None   \n..               ...                                                ...   \n968     1.503731e+18  {'_type': 'snscrape.modules.twitter.User', 'us...   \n969     1.503731e+18  {'_type': 'snscrape.modules.twitter.User', 'us...   \n970              NaN                                               None   \n974              NaN                                               None   \n995              NaN                                               None   \n\n                                        mentionedUsers coordinates place  \\\n24                                                None        None  None   \n40                                                None        None  None   \n42                                                None        None  None   \n45                                                None        None  None   \n48                                                None        None  None   \n..                                                 ...         ...   ...   \n968                                               None        None  None   \n969                                               None        None  None   \n970                                               None        None  None   \n974  [{'_type': 'snscrape.modules.twitter.User', 'u...        None  None   \n995                                               None        None  None   \n\n                                              hashtags cashtags  \\\n24   [NFTs, NFTdrop, NFTartist, NFTCommmunity, Inst...     None   \n40   [NFT, NFTs, NFTsales, cryptoartist, nftartist,...     None   \n42                                   [meta, nft, nfts]     None   \n45                                  [BAYC, META, SXSW]     None   \n48   [NFT, NFTs, NFTsales, NFTGame, nftmarketplace,...     None   \n..                                                 ...      ...   \n968  [nft, nfts, olympiad, web3, meta, metaverse, p...     None   \n969  [nft, nfts, olympiad, web3, meta, metaverse, p...     None   \n970  [nft, nfts, olympiad, web3, meta, metaverse, p...     None   \n974  [markzuckerberg, meta, facebook, socialmedia, ...     None   \n995   [metaverse, crypto, nft, meta, tech, oculusrift]     None   \n\n                                              filtered  \n24   [do, think, Mark, 's, 📢, on, coming, would, mi...  \n40   [Loot, Sold, 0.08Ξ, NFTs, cryptoartist, blockc...  \n42   [//t.co/GK8TCpBx7g, you, checked, cyptoduckz, ...  \n45   [Labs, NFT, virtual, of, this, and, expecting,...  \n48   [Ape, 6496, 7768, for, NFT, NFTsales, nftmarke...  \n..                                                 ...  \n968  [total, 5, to, from, sports, on, the, agenda, ...  \n969  [us, prepare, the, 🏅, 🔥Radio, Time, CET, Ushan...  \n970  [GET, WITH, 🏃🏾‍♂️, 's, time, weather, come, Me...  \n974  ['s, Mark, seemed, little, He, vocal, it, He, ...  \n995  [May, Tempting, It, Unregulated, With, -, Coun...  \n\n[130 rows x 29 columns]",
      "text/html": "<div>\n<style scoped>\n    .dataframe tbody tr th:only-of-type {\n        vertical-align: middle;\n    }\n\n    .dataframe tbody tr th {\n        vertical-align: top;\n    }\n\n    .dataframe thead th {\n        text-align: right;\n    }\n</style>\n<table border=\"1\" class=\"dataframe\">\n  <thead>\n    <tr style=\"text-align: right;\">\n      <th></th>\n      <th>_type</th>\n      <th>url</th>\n      <th>date</th>\n      <th>content</th>\n      <th>renderedContent</th>\n      <th>id</th>\n      <th>user</th>\n      <th>replyCount</th>\n      <th>retweetCount</th>\n      <th>likeCount</th>\n      <th>...</th>\n      <th>retweetedTweet</th>\n      <th>quotedTweet</th>\n      <th>inReplyToTweetId</th>\n      <th>inReplyToUser</th>\n      <th>mentionedUsers</th>\n      <th>coordinates</th>\n      <th>place</th>\n      <th>hashtags</th>\n      <th>cashtags</th>\n      <th>filtered</th>\n    </tr>\n  </thead>\n  <tbody>\n    <tr>\n      <th>24</th>\n      <td>snscrape.modules.twitter.Tweet</td>\n      <td>https://twitter.com/newage_gods/status/1503936...</td>\n      <td>2022-03-16T03:31:23+00:00</td>\n      <td>What do you think of Mark Zukerberg's announce...</td>\n      <td>What do you think of Mark Zukerberg's announce...</td>\n      <td>1503936941280018435</td>\n      <td>{'_type': 'snscrape.modules.twitter.User', 'us...</td>\n      <td>0</td>\n      <td>0</td>\n      <td>5</td>\n      <td>...</td>\n      <td>None</td>\n      <td>None</td>\n      <td>NaN</td>\n      <td>None</td>\n      <td>None</td>\n      <td>None</td>\n      <td>None</td>\n      <td>[NFTs, NFTdrop, NFTartist, NFTCommmunity, Inst...</td>\n      <td>None</td>\n      <td>[do, think, Mark, 's, 📢, on, coming, would, mi...</td>\n    </tr>\n    <tr>\n      <th>40</th>\n      <td>snscrape.modules.twitter.Tweet</td>\n      <td>https://twitter.com/MoonApeSale/status/1503932...</td>\n      <td>2022-03-16T03:15:12+00:00</td>\n      <td>Rare Loot  #1263 Sold for 0.08Ξ #NFT #NFTs #NF...</td>\n      <td>Rare Loot  #1263 Sold for 0.08Ξ #NFT #NFTs #NF...</td>\n      <td>1503932870250930177</td>\n      <td>{'_type': 'snscrape.modules.twitter.User', 'us...</td>\n      <td>0</td>\n      <td>0</td>\n      <td>4</td>\n      <td>...</td>\n      <td>None</td>\n      <td>None</td>\n      <td>NaN</td>\n      <td>None</td>\n      <td>None</td>\n      <td>None</td>\n      <td>None</td>\n      <td>[NFT, NFTs, NFTsales, cryptoartist, nftartist,...</td>\n      <td>None</td>\n      <td>[Loot, Sold, 0.08Ξ, NFTs, cryptoartist, blockc...</td>\n    </tr>\n    <tr>\n      <th>42</th>\n      <td>snscrape.modules.twitter.Tweet</td>\n      <td>https://twitter.com/Mikehuntisbig19/status/150...</td>\n      <td>2022-03-16T03:14:14+00:00</td>\n      <td>https://t.co/GK8TCpBx7g\\n\\nHave you guys check...</td>\n      <td>opensea.io/collection/cry…\\n\\nHave you guys ch...</td>\n      <td>1503932626637312006</td>\n      <td>{'_type': 'snscrape.modules.twitter.User', 'us...</td>\n      <td>0</td>\n      <td>0</td>\n      <td>5</td>\n      <td>...</td>\n      <td>None</td>\n      <td>None</td>\n      <td>NaN</td>\n      <td>None</td>\n      <td>None</td>\n      <td>None</td>\n      <td>None</td>\n      <td>[meta, nft, nfts]</td>\n      <td>None</td>\n      <td>[//t.co/GK8TCpBx7g, you, checked, cyptoduckz, ...</td>\n    </tr>\n    <tr>\n      <th>45</th>\n      <td>snscrape.modules.twitter.Tweet</td>\n      <td>https://twitter.com/GXT25075644/status/1503931...</td>\n      <td>2022-03-16T03:10:02+00:00</td>\n      <td>#BAYC - Yuga Labs of  NFT BAYC will sell virtu...</td>\n      <td>#BAYC - Yuga Labs of  NFT BAYC will sell virtu...</td>\n      <td>1503931569437700097</td>\n      <td>{'_type': 'snscrape.modules.twitter.User', 'us...</td>\n      <td>0</td>\n      <td>1</td>\n      <td>3</td>\n      <td>...</td>\n      <td>None</td>\n      <td>None</td>\n      <td>NaN</td>\n      <td>None</td>\n      <td>None</td>\n      <td>None</td>\n      <td>None</td>\n      <td>[BAYC, META, SXSW]</td>\n      <td>None</td>\n      <td>[Labs, NFT, virtual, of, this, and, expecting,...</td>\n    </tr>\n    <tr>\n      <th>48</th>\n      <td>snscrape.modules.twitter.Tweet</td>\n      <td>https://twitter.com/MoonApeSale/status/1503930...</td>\n      <td>2022-03-16T03:07:29+00:00</td>\n      <td>Moon Ape Lab #6496 Rarity# 7768\\n  Sold for 0....</td>\n      <td>Moon Ape Lab #6496 Rarity# 7768\\n  Sold for 0....</td>\n      <td>1503930929663852550</td>\n      <td>{'_type': 'snscrape.modules.twitter.User', 'us...</td>\n      <td>1</td>\n      <td>0</td>\n      <td>8</td>\n      <td>...</td>\n      <td>None</td>\n      <td>None</td>\n      <td>NaN</td>\n      <td>None</td>\n      <td>None</td>\n      <td>None</td>\n      <td>None</td>\n      <td>[NFT, NFTs, NFTsales, NFTGame, nftmarketplace,...</td>\n      <td>None</td>\n      <td>[Ape, 6496, 7768, for, NFT, NFTsales, nftmarke...</td>\n    </tr>\n    <tr>\n      <th>...</th>\n      <td>...</td>\n      <td>...</td>\n      <td>...</td>\n      <td>...</td>\n      <td>...</td>\n      <td>...</td>\n      <td>...</td>\n      <td>...</td>\n      <td>...</td>\n      <td>...</td>\n      <td>...</td>\n      <td>...</td>\n      <td>...</td>\n      <td>...</td>\n      <td>...</td>\n      <td>...</td>\n      <td>...</td>\n      <td>...</td>\n      <td>...</td>\n      <td>...</td>\n      <td>...</td>\n    </tr>\n    <tr>\n      <th>968</th>\n      <td>snscrape.modules.twitter.Tweet</td>\n      <td>https://twitter.com/MetaSlavs/status/150373059...</td>\n      <td>2022-03-15T13:51:25+00:00</td>\n      <td>There are a total of 5 different sports discip...</td>\n      <td>There are a total of 5 different sports discip...</td>\n      <td>1503730592860577793</td>\n      <td>{'_type': 'snscrape.modules.twitter.User', 'us...</td>\n      <td>2</td>\n      <td>0</td>\n      <td>3</td>\n      <td>...</td>\n      <td>None</td>\n      <td>None</td>\n      <td>1.503731e+18</td>\n      <td>{'_type': 'snscrape.modules.twitter.User', 'us...</td>\n      <td>None</td>\n      <td>None</td>\n      <td>None</td>\n      <td>[nft, nfts, olympiad, web3, meta, metaverse, p...</td>\n      <td>None</td>\n      <td>[total, 5, to, from, sports, on, the, agenda, ...</td>\n    </tr>\n    <tr>\n      <th>969</th>\n      <td>snscrape.modules.twitter.Tweet</td>\n      <td>https://twitter.com/MetaSlavs/status/150373059...</td>\n      <td>2022-03-15T13:51:25+00:00</td>\n      <td>Join us and prepare for the olympiad 🏅 \\n\\n Ve...</td>\n      <td>Join us and prepare for the olympiad 🏅 \\n\\n Ve...</td>\n      <td>1503730590192967685</td>\n      <td>{'_type': 'snscrape.modules.twitter.User', 'us...</td>\n      <td>2</td>\n      <td>0</td>\n      <td>3</td>\n      <td>...</td>\n      <td>None</td>\n      <td>None</td>\n      <td>1.503731e+18</td>\n      <td>{'_type': 'snscrape.modules.twitter.User', 'us...</td>\n      <td>None</td>\n      <td>None</td>\n      <td>None</td>\n      <td>[nft, nfts, olympiad, web3, meta, metaverse, p...</td>\n      <td>None</td>\n      <td>[us, prepare, the, 🏅, 🔥Radio, Time, CET, Ushan...</td>\n    </tr>\n    <tr>\n      <th>970</th>\n      <td>snscrape.modules.twitter.Tweet</td>\n      <td>https://twitter.com/MetaSlavs/status/150373058...</td>\n      <td>2022-03-15T13:51:24+00:00</td>\n      <td>🏃🏾‍♂️ GET FIT WITH METASLAVS! 🏃🏾‍♂️ \\n\\nIt's a...</td>\n      <td>🏃🏾‍♂️ GET FIT WITH METASLAVS! 🏃🏾‍♂️ \\n\\nIt's a...</td>\n      <td>1503730586317471746</td>\n      <td>{'_type': 'snscrape.modules.twitter.User', 'us...</td>\n      <td>2</td>\n      <td>2</td>\n      <td>3</td>\n      <td>...</td>\n      <td>None</td>\n      <td>None</td>\n      <td>NaN</td>\n      <td>None</td>\n      <td>None</td>\n      <td>None</td>\n      <td>None</td>\n      <td>[nft, nfts, olympiad, web3, meta, metaverse, p...</td>\n      <td>None</td>\n      <td>[GET, WITH, 🏃🏾‍♂️, 's, time, weather, come, Me...</td>\n    </tr>\n    <tr>\n      <th>974</th>\n      <td>snscrape.modules.twitter.Tweet</td>\n      <td>https://twitter.com/TIMOFFICIAL94/status/15037...</td>\n      <td>2022-03-15T13:46:12+00:00</td>\n      <td>Meta's cofounder Mark Zuckerberg\\nseemed a lit...</td>\n      <td>Meta's cofounder Mark Zuckerberg\\nseemed a lit...</td>\n      <td>1503729277379915778</td>\n      <td>{'_type': 'snscrape.modules.twitter.User', 'us...</td>\n      <td>0</td>\n      <td>1</td>\n      <td>3</td>\n      <td>...</td>\n      <td>None</td>\n      <td>None</td>\n      <td>NaN</td>\n      <td>None</td>\n      <td>[{'_type': 'snscrape.modules.twitter.User', 'u...</td>\n      <td>None</td>\n      <td>None</td>\n      <td>[markzuckerberg, meta, facebook, socialmedia, ...</td>\n      <td>None</td>\n      <td>['s, Mark, seemed, little, He, vocal, it, He, ...</td>\n    </tr>\n    <tr>\n      <th>995</th>\n      <td>snscrape.modules.twitter.Tweet</td>\n      <td>https://twitter.com/cryptscp/status/1503722962...</td>\n      <td>2022-03-15T13:21:06+00:00</td>\n      <td>Metaverse May Be Tempting But It's Unregulated...</td>\n      <td>Metaverse May Be Tempting But It's Unregulated...</td>\n      <td>1503722962075086849</td>\n      <td>{'_type': 'snscrape.modules.twitter.User', 'us...</td>\n      <td>2</td>\n      <td>0</td>\n      <td>5</td>\n      <td>...</td>\n      <td>None</td>\n      <td>None</td>\n      <td>NaN</td>\n      <td>None</td>\n      <td>None</td>\n      <td>None</td>\n      <td>None</td>\n      <td>[metaverse, crypto, nft, meta, tech, oculusrift]</td>\n      <td>None</td>\n      <td>[May, Tempting, It, Unregulated, With, -, Coun...</td>\n    </tr>\n  </tbody>\n</table>\n<p>130 rows × 29 columns</p>\n</div>"
     },
     "metadata": {}
    }
   ]
  },
  {
   "cell_type": "code",
   "metadata": {
    "cell_id": "0d25cf0374fb40dd85cf3f641c752764",
    "tags": [],
    "deepnote_to_be_reexecuted": true,
    "source_hash": "10a7ac67",
    "execution_start": 1650226380038,
    "execution_millis": 498,
    "deepnote_table_state": {
     "pageSize": 10,
     "pageIndex": 2,
     "filters": [],
     "sortBy": []
    },
    "deepnote_table_loading": false,
    "deepnote_cell_type": "code",
    "deepnote_cell_height": 965
   },
   "source": "\nlist_meta = []\nfor i in df_meta['filtered']:\n    blob = TextBlob(str(i))\n    list_meta.append(blob.sentiment.polarity)\n           \n\ndf_meta[\"score\"] = list_meta\ndf_meta = df_meta[['score', 'date', 'filtered', 'replyCount', 'retweetCount', 'likeCount', 'quoteCount']] \ndf_meta = df_meta[df_meta['score'] != 0]\ndf_meta\n\ndf_meta",
   "execution_count": null,
   "outputs": [
    {
     "name": "stderr",
     "text": "<ipython-input-89-958a30ca5874>:9: SettingWithCopyWarning: \nA value is trying to be set on a copy of a slice from a DataFrame.\nTry using .loc[row_indexer,col_indexer] = value instead\n\nSee the caveats in the documentation: https://pandas.pydata.org/pandas-docs/stable/user_guide/indexing.html#returning-a-view-versus-a-copy\n  df_meta[\"score\"] = list_meta\n",
     "output_type": "stream"
    },
    {
     "output_type": "execute_result",
     "execution_count": 89,
     "data": {
      "application/vnd.deepnote.dataframe.v3+json": {
       "column_count": 7,
       "row_count": 51,
       "columns": [
        {
         "name": "score",
         "dtype": "float64",
         "stats": {
          "unique_count": 24,
          "nan_count": 0,
          "min": "-0.3125",
          "max": "1.0",
          "histogram": [
           {
            "bin_start": -0.3125,
            "bin_end": -0.18125,
            "count": 2
           },
           {
            "bin_start": -0.18125,
            "bin_end": -0.04999999999999999,
            "count": 3
           },
           {
            "bin_start": -0.04999999999999999,
            "bin_end": 0.08125000000000004,
            "count": 1
           },
           {
            "bin_start": 0.08125000000000004,
            "bin_end": 0.21250000000000002,
            "count": 11
           },
           {
            "bin_start": 0.21250000000000002,
            "bin_end": 0.34375,
            "count": 15
           },
           {
            "bin_start": 0.34375,
            "bin_end": 0.4750000000000001,
            "count": 4
           },
           {
            "bin_start": 0.4750000000000001,
            "bin_end": 0.6062500000000001,
            "count": 8
           },
           {
            "bin_start": 0.6062500000000001,
            "bin_end": 0.7375,
            "count": 3
           },
           {
            "bin_start": 0.7375,
            "bin_end": 0.8687500000000001,
            "count": 2
           },
           {
            "bin_start": 0.8687500000000001,
            "bin_end": 1,
            "count": 2
           }
          ]
         }
        },
        {
         "name": "date",
         "dtype": "object",
         "stats": {
          "unique_count": 51,
          "nan_count": 0,
          "categories": [
           {
            "name": "2022-03-16T01:51:24+00:00",
            "count": 1
           },
           {
            "name": "2022-03-16T01:24:49+00:00",
            "count": 1
           },
           {
            "name": "49 others",
            "count": 49
           }
          ]
         }
        },
        {
         "name": "filtered",
         "dtype": "object",
         "stats": {
          "unique_count": 51,
          "nan_count": 0,
          "categories": [
           {
            "name": "['are', 'to', 'Says', 'CEO', 'more', 'link', 'bio', 'are', 'to', 'Says', 'CEO', '//t.co/gqTJylwH4j', '//t.co/3bKcRvwoki']",
            "count": 1
           },
           {
            "name": "['out', 'new', 'on', 'Meta-Cool', '22', '//t.co/zbom22spEh', 'opensea']",
            "count": 1
           },
           {
            "name": "49 others",
            "count": 49
           }
          ]
         }
        },
        {
         "name": "replyCount",
         "dtype": "int64",
         "stats": {
          "unique_count": 8,
          "nan_count": 0,
          "min": "0",
          "max": "14",
          "histogram": [
           {
            "bin_start": 0,
            "bin_end": 1.4,
            "count": 42
           },
           {
            "bin_start": 1.4,
            "bin_end": 2.8,
            "count": 3
           },
           {
            "bin_start": 2.8,
            "bin_end": 4.199999999999999,
            "count": 2
           },
           {
            "bin_start": 4.199999999999999,
            "bin_end": 5.6,
            "count": 0
           },
           {
            "bin_start": 5.6,
            "bin_end": 7,
            "count": 1
           },
           {
            "bin_start": 7,
            "bin_end": 8.399999999999999,
            "count": 1
           },
           {
            "bin_start": 8.399999999999999,
            "bin_end": 9.799999999999999,
            "count": 0
           },
           {
            "bin_start": 9.799999999999999,
            "bin_end": 11.2,
            "count": 1
           },
           {
            "bin_start": 11.2,
            "bin_end": 12.6,
            "count": 0
           },
           {
            "bin_start": 12.6,
            "bin_end": 14,
            "count": 1
           }
          ]
         }
        },
        {
         "name": "retweetCount",
         "dtype": "int64",
         "stats": {
          "unique_count": 9,
          "nan_count": 0,
          "min": "0",
          "max": "28",
          "histogram": [
           {
            "bin_start": 0,
            "bin_end": 2.8,
            "count": 42
           },
           {
            "bin_start": 2.8,
            "bin_end": 5.6,
            "count": 4
           },
           {
            "bin_start": 5.6,
            "bin_end": 8.399999999999999,
            "count": 0
           },
           {
            "bin_start": 8.399999999999999,
            "bin_end": 11.2,
            "count": 0
           },
           {
            "bin_start": 11.2,
            "bin_end": 14,
            "count": 2
           },
           {
            "bin_start": 14,
            "bin_end": 16.799999999999997,
            "count": 1
           },
           {
            "bin_start": 16.799999999999997,
            "bin_end": 19.599999999999998,
            "count": 0
           },
           {
            "bin_start": 19.599999999999998,
            "bin_end": 22.4,
            "count": 1
           },
           {
            "bin_start": 22.4,
            "bin_end": 25.2,
            "count": 0
           },
           {
            "bin_start": 25.2,
            "bin_end": 28,
            "count": 1
           }
          ]
         }
        },
        {
         "name": "likeCount",
         "dtype": "int64",
         "stats": {
          "unique_count": 16,
          "nan_count": 0,
          "min": "3",
          "max": "52",
          "histogram": [
           {
            "bin_start": 3,
            "bin_end": 7.9,
            "count": 34
           },
           {
            "bin_start": 7.9,
            "bin_end": 12.8,
            "count": 8
           },
           {
            "bin_start": 12.8,
            "bin_end": 17.700000000000003,
            "count": 3
           },
           {
            "bin_start": 17.700000000000003,
            "bin_end": 22.6,
            "count": 0
           },
           {
            "bin_start": 22.6,
            "bin_end": 27.5,
            "count": 2
           },
           {
            "bin_start": 27.5,
            "bin_end": 32.400000000000006,
            "count": 2
           },
           {
            "bin_start": 32.400000000000006,
            "bin_end": 37.300000000000004,
            "count": 0
           },
           {
            "bin_start": 37.300000000000004,
            "bin_end": 42.2,
            "count": 0
           },
           {
            "bin_start": 42.2,
            "bin_end": 47.1,
            "count": 0
           },
           {
            "bin_start": 47.1,
            "bin_end": 52,
            "count": 2
           }
          ]
         }
        },
        {
         "name": "quoteCount",
         "dtype": "int64",
         "stats": {
          "unique_count": 6,
          "nan_count": 0,
          "min": "0",
          "max": "5",
          "histogram": [
           {
            "bin_start": 0,
            "bin_end": 0.5,
            "count": 29
           },
           {
            "bin_start": 0.5,
            "bin_end": 1,
            "count": 0
           },
           {
            "bin_start": 1,
            "bin_end": 1.5,
            "count": 10
           },
           {
            "bin_start": 1.5,
            "bin_end": 2,
            "count": 0
           },
           {
            "bin_start": 2,
            "bin_end": 2.5,
            "count": 4
           },
           {
            "bin_start": 2.5,
            "bin_end": 3,
            "count": 0
           },
           {
            "bin_start": 3,
            "bin_end": 3.5,
            "count": 5
           },
           {
            "bin_start": 3.5,
            "bin_end": 4,
            "count": 0
           },
           {
            "bin_start": 4,
            "bin_end": 4.5,
            "count": 2
           },
           {
            "bin_start": 4.5,
            "bin_end": 5,
            "count": 1
           }
          ]
         }
        },
        {
         "name": "_deepnote_index_column",
         "dtype": "int64"
        }
       ],
       "rows": [
        {
         "score": 0.2,
         "date": "2022-03-15T20:08:45+00:00",
         "filtered": "['wonder', 'SXSW', 'like', 'the', 'We', 'the', 'opportunity', 'partner', 'TriggerGlobal', 'answer', 'question', 'thanks', 'bennyp3333', 'the', 'effect', 'metaverse', 'digtialmarketing', 'innovativetechnology', 'https']",
         "replyCount": 0,
         "retweetCount": 0,
         "likeCount": 4,
         "quoteCount": 0,
         "_deepnote_index_column": 459
        },
        {
         "score": 0.45,
         "date": "2022-03-15T19:45:02+00:00",
         "filtered": "['us', 'at', 'p.m', 'for', 'conversation', 'Founder', 'the', 'Sheryl', 'Sandberg', 'amp', 'Dave', 'Family', 'Operating', 'of', 'She', 'discuss', 'path', 'becoming', 'leader', 'tips', 'and', 'advice', 'meta', 'https']",
         "replyCount": 14,
         "retweetCount": 3,
         "likeCount": 14,
         "quoteCount": 0,
         "_deepnote_index_column": 487
        },
        {
         "score": 0.13636363636363635,
         "date": "2022-03-15T19:31:09+00:00",
         "filtered": "['of', 'a', '?', 'a', 'Bird', 'features', 'Tag-inspired', 'This', 'new', 'is', 'VR', 'if', 'day', 'it', 'SideQuest', '//t.co/D1LBaVSiyE', 'MetaQuest2', 'Metaverse', 'metaquest', 'https']",
         "replyCount": 0,
         "retweetCount": 0,
         "likeCount": 3,
         "quoteCount": 0,
         "_deepnote_index_column": 497
        },
        {
         "score": 0.25,
         "date": "2022-03-15T19:13:31+00:00",
         "filtered": "['first', '3', 'worlds', 'finished', 'The', 'apocalypse', 'Build', 'keystone_builds', 'nftworldsNFT', 'NFT', 'P2EGame', 'NFTWorlds', 'building', '//t.co/SGaDCLrHmv']",
         "replyCount": 1,
         "retweetCount": 3,
         "likeCount": 4,
         "quoteCount": 0,
         "_deepnote_index_column": 530
        },
        {
         "score": 0.5,
         "date": "2022-03-15T18:58:22+00:00",
         "filtered": "['stylists', 'a', 'business', 'virtual', 'Metaverse', 'metaversegame', 'decentraland', 'meta', 'more', 'https', 'https']",
         "replyCount": 11,
         "retweetCount": 28,
         "likeCount": 30,
         "quoteCount": 3,
         "_deepnote_index_column": 548
        },
        {
         "score": 0.5,
         "date": "2022-03-15T18:46:38+00:00",
         "filtered": "['Express', 'Entry', 'Trademark', 'Metaverse', 'metaversegame', 'decentraland', 'meta', 'more', 'at', 'https', 'https']",
         "replyCount": 0,
         "retweetCount": 0,
         "likeCount": 5,
         "quoteCount": 0,
         "_deepnote_index_column": 559
        },
        {
         "score": 0.5,
         "date": "2022-03-15T18:42:15+00:00",
         "filtered": "['to', 'for', 'interviews', 'the', 'Metaverse', 'metaversegame', 'decentraland', 'meta', 'more', 'https', 'https']",
         "replyCount": 0,
         "retweetCount": 2,
         "likeCount": 6,
         "quoteCount": 2,
         "_deepnote_index_column": 565
        },
        {
         "score": 1,
         "date": "2022-03-15T18:13:15+00:00",
         "filtered": "['anndylian', 'meta_ruffy', 'binance', 'Ruffy', 'best', 'of']",
         "replyCount": 0,
         "retweetCount": 2,
         "likeCount": 10,
         "quoteCount": 0,
         "_deepnote_index_column": 610
        },
        {
         "score": 0.7,
         "date": "2022-03-15T17:58:59+00:00",
         "filtered": "['meta', 'sonic', 'wish', 'project', 'sir', 'they', 'one', 'the', 'cryptos', 'am', 'to', 'in', 'and', 'support', 'Good', 'always', '🌕', 'NavidM1', 'Mohamad99010915', 'Aradmohaghegh1']",
         "replyCount": 0,
         "retweetCount": 0,
         "likeCount": 6,
         "quoteCount": 0,
         "_deepnote_index_column": 631
        },
        {
         "score": 0.25,
         "date": "2022-03-15T17:53:42+00:00",
         "filtered": "['Finances', 'Basa', 'with', 'about', 'NFTs', 'how', 'like', 'adoption', 'slowly', 'surely', 'With', 'entering', 'space', '&', ';', '’', 'next', 'https', 'HOKK', 'DeFi', 'meta']",
         "replyCount": 6,
         "retweetCount": 21,
         "likeCount": 52,
         "quoteCount": 2,
         "_deepnote_index_column": 636
        }
       ]
      },
      "text/plain": "        score                       date  \\\n109  0.500000  2022-03-16T01:51:24+00:00   \n145  0.136364  2022-03-16T01:24:49+00:00   \n192  0.350000  2022-03-16T00:49:36+00:00   \n212  0.458333  2022-03-16T00:30:00+00:00   \n220  0.136364  2022-03-16T00:21:21+00:00   \n250 -0.312500  2022-03-15T23:49:15+00:00   \n267  0.416667  2022-03-15T23:20:12+00:00   \n340  0.136364  2022-03-15T21:49:33+00:00   \n350  0.200000  2022-03-15T21:41:20+00:00   \n369  0.600000  2022-03-15T21:18:08+00:00   \n383  0.300000  2022-03-15T21:04:58+00:00   \n384 -0.200000  2022-03-15T21:03:39+00:00   \n386  0.300000  2022-03-15T20:59:27+00:00   \n389  0.300000  2022-03-15T20:54:58+00:00   \n394  0.300000  2022-03-15T20:49:08+00:00   \n411  0.100000  2022-03-15T20:43:00+00:00   \n428  0.200000  2022-03-15T20:28:36+00:00   \n445  0.500000  2022-03-15T20:16:43+00:00   \n449  0.006250  2022-03-15T20:13:25+00:00   \n454  0.600000  2022-03-15T20:10:55+00:00   \n459  0.200000  2022-03-15T20:08:45+00:00   \n487  0.450000  2022-03-15T19:45:02+00:00   \n497  0.136364  2022-03-15T19:31:09+00:00   \n530  0.250000  2022-03-15T19:13:31+00:00   \n548  0.500000  2022-03-15T18:58:22+00:00   \n559  0.500000  2022-03-15T18:46:38+00:00   \n565  0.500000  2022-03-15T18:42:15+00:00   \n610  1.000000  2022-03-15T18:13:15+00:00   \n631  0.700000  2022-03-15T17:58:59+00:00   \n636  0.250000  2022-03-15T17:53:42+00:00   \n665  0.250000  2022-03-15T17:21:55+00:00   \n670  0.750000  2022-03-15T17:21:22+00:00   \n671  0.530000  2022-03-15T17:20:36+00:00   \n689  0.800000  2022-03-15T17:10:00+00:00   \n797  0.250000  2022-03-15T15:34:15+00:00   \n798  0.250000  2022-03-15T15:33:41+00:00   \n799  0.250000  2022-03-15T15:33:20+00:00   \n805  0.136364  2022-03-15T15:30:22+00:00   \n806  0.250000  2022-03-15T15:30:02+00:00   \n810  0.250000  2022-03-15T15:29:36+00:00   \n821 -0.125000  2022-03-15T15:25:29+00:00   \n842  0.666667  2022-03-15T15:09:46+00:00   \n917  1.000000  2022-03-15T14:30:00+00:00   \n932  0.333333  2022-03-15T14:15:16+00:00   \n951  0.250000  2022-03-15T14:01:03+00:00   \n957  0.300000  2022-03-15T13:59:20+00:00   \n959  0.136364  2022-03-15T13:54:27+00:00   \n964  0.700000  2022-03-15T13:51:29+00:00   \n967  0.100000  2022-03-15T13:51:26+00:00   \n968 -0.100000  2022-03-15T13:51:25+00:00   \n974 -0.093750  2022-03-15T13:46:12+00:00   \n\n                                              filtered  replyCount  \\\n109  [are, to, Says, CEO, more, link, bio, are, to,...           0   \n145  [out, new, on, Meta-Cool, 22, //t.co/zbom22spE...           0   \n192  [giving, cat, cubes, play, using, Full, here, ...           0   \n212  [imposes, fine, Facebook, company, for, EU, pr...           0   \n220  [Everyone, posted, nfts, 10, and, is, laggy, i...           1   \n250  [term, has, buzzword, by, of, the, biggest, co...           1   \n267  [DAYS, GO, better, to, than, one, the, bogans,...           2   \n340  [up, with, new, NFT, OpenSea, metaverse, nft, ...           0   \n350  [the, of, this, 🔥, I, seeing, a, of, and, legi...           1   \n369  [about, Title：Buying, Land, the, -, Motley, ht...           1   \n383  [nft, now, CryptoBoys, //t.co/MLTaNKCiqH, open...           1   \n384  [think, and, were, web3, ethereumJoseph, bange...           0   \n386  [nft, now, CryptoBoys, //t.co/Z0vk65N7rE, open...           1   \n389  [nft, now, CryptoBoys, opensea, nftart, NFTdro...           2   \n394  [nft, now, CryptoBoys, //t.co/xlDLhPzAuC, open...           0   \n411  [finally, up, speed, its, so, you, the, now…ju...           0   \n428          [wants, integrate, according, Mark, (, )]           1   \n445  [Twitter, will, too, think, will, able, to, us...           0   \n449  [little, robot, will, you, master, moves, seei...           0   \n454                      [Nice, meta, Sonic, TraMy586]           0   \n459  [wonder, SXSW, like, the, We, the, opportunity...           0   \n487  [us, at, p.m, for, conversation, Founder, the,...          14   \n497  [of, a, ?, a, Bird, features, Tag-inspired, Th...           0   \n530  [first, 3, worlds, finished, The, apocalypse, ...           1   \n548  [stylists, a, business, virtual, Metaverse, me...          11   \n559  [Express, Entry, Trademark, Metaverse, metaver...           0   \n565  [to, for, interviews, the, Metaverse, metavers...           0   \n610  [anndylian, meta_ruffy, binance, Ruffy, best, of]           0   \n631  [meta, sonic, wish, project, sir, they, one, t...           0   \n636  [Finances, Basa, with, about, NFTs, how, like,...           6   \n665  [SonicForces365, project, very, and, look, to,...           0   \n670  [The, is, good, we, forward, of, the, team, th...           0   \n671  [SonicForces365, 's, project, feel, and, sensi...           0   \n689  [Hub, great, will, playable, Ultrasclash, soon...           0   \n797  [Garners, of, for, HTC, amongst, first, know, ...           0   \n798  [Property, The, is, Debated, amongst, first, k...           0   \n799  [Boutique, Creators, Come, Customize, Lives, a...           0   \n805  [is, new, startup, Be, to, about, the, Metanew...           3   \n806  [Disney, joins, startup, akashrnigam, amongst,...           0   \n810  [established, metaverse, TravelzooEspana, amon...           0   \n821  [Peek, autre, dans, 😍🚀, .., other, in, Look, d...           0   \n842  [‍Be, with, realities, 🪐, you, now, exceptiona...           7   \n917  [72, The, could, well, man, best, but, never, ...           1   \n932  [about, Title：American, ventures, NFTs, the, w...           0   \n951  [first, world, portal, by, of, Lootizens, and,...           1   \n957  [and, project, makes, Powerful, community, we,...           0   \n959         [NEW, ww2, yugoslavia, META, https, https]           1   \n964  [n't, to, up, the, and, on, Adibas, Good, to, ...           1   \n967  ['ll, ready, you, race, for, total, 40, You, k...           3   \n968  [total, 5, to, from, sports, on, the, agenda, ...           2   \n974  ['s, Mark, seemed, little, He, vocal, it, He, ...           0   \n\n     retweetCount  likeCount  quoteCount  \n109             0          4           3  \n145             0          5           1  \n192             1          4           0  \n212             2          4           0  \n220             0          6           3  \n250             0          3           1  \n267             1         14           5  \n340             0          6           4  \n350             1          4           3  \n369             1          4           0  \n383             1          5           4  \n384             0          9           1  \n386             0          8           1  \n389             1         10           1  \n394             1         12           2  \n411             0          3           0  \n428             1          3           0  \n445             0          6           1  \n449             4          6           1  \n454             0          3           0  \n459             0          4           0  \n487             3         14           0  \n497             0          3           0  \n530             3          4           0  \n548            28         30           3  \n559             0          5           0  \n565             2          6           2  \n610             2         10           0  \n631             0          6           0  \n636            21         52           2  \n665             0          8           0  \n670             0         16           0  \n671             0          6           0  \n689            12         27           0  \n797             0          3           2  \n798             0          4           0  \n799             0          3           1  \n805            14         30           1  \n806             0          4           0  \n810             0          3           0  \n821             4         26           0  \n842            12         51           0  \n917             0          4           3  \n932             0          3           0  \n951             1          8           0  \n957             0          3           0  \n959             0         11           0  \n964             1          4           0  \n967             0          3           1  \n968             0          3           0  \n974             1          3           0  ",
      "text/html": "<div>\n<style scoped>\n    .dataframe tbody tr th:only-of-type {\n        vertical-align: middle;\n    }\n\n    .dataframe tbody tr th {\n        vertical-align: top;\n    }\n\n    .dataframe thead th {\n        text-align: right;\n    }\n</style>\n<table border=\"1\" class=\"dataframe\">\n  <thead>\n    <tr style=\"text-align: right;\">\n      <th></th>\n      <th>score</th>\n      <th>date</th>\n      <th>filtered</th>\n      <th>replyCount</th>\n      <th>retweetCount</th>\n      <th>likeCount</th>\n      <th>quoteCount</th>\n    </tr>\n  </thead>\n  <tbody>\n    <tr>\n      <th>109</th>\n      <td>0.500000</td>\n      <td>2022-03-16T01:51:24+00:00</td>\n      <td>[are, to, Says, CEO, more, link, bio, are, to,...</td>\n      <td>0</td>\n      <td>0</td>\n      <td>4</td>\n      <td>3</td>\n    </tr>\n    <tr>\n      <th>145</th>\n      <td>0.136364</td>\n      <td>2022-03-16T01:24:49+00:00</td>\n      <td>[out, new, on, Meta-Cool, 22, //t.co/zbom22spE...</td>\n      <td>0</td>\n      <td>0</td>\n      <td>5</td>\n      <td>1</td>\n    </tr>\n    <tr>\n      <th>192</th>\n      <td>0.350000</td>\n      <td>2022-03-16T00:49:36+00:00</td>\n      <td>[giving, cat, cubes, play, using, Full, here, ...</td>\n      <td>0</td>\n      <td>1</td>\n      <td>4</td>\n      <td>0</td>\n    </tr>\n    <tr>\n      <th>212</th>\n      <td>0.458333</td>\n      <td>2022-03-16T00:30:00+00:00</td>\n      <td>[imposes, fine, Facebook, company, for, EU, pr...</td>\n      <td>0</td>\n      <td>2</td>\n      <td>4</td>\n      <td>0</td>\n    </tr>\n    <tr>\n      <th>220</th>\n      <td>0.136364</td>\n      <td>2022-03-16T00:21:21+00:00</td>\n      <td>[Everyone, posted, nfts, 10, and, is, laggy, i...</td>\n      <td>1</td>\n      <td>0</td>\n      <td>6</td>\n      <td>3</td>\n    </tr>\n    <tr>\n      <th>250</th>\n      <td>-0.312500</td>\n      <td>2022-03-15T23:49:15+00:00</td>\n      <td>[term, has, buzzword, by, of, the, biggest, co...</td>\n      <td>1</td>\n      <td>0</td>\n      <td>3</td>\n      <td>1</td>\n    </tr>\n    <tr>\n      <th>267</th>\n      <td>0.416667</td>\n      <td>2022-03-15T23:20:12+00:00</td>\n      <td>[DAYS, GO, better, to, than, one, the, bogans,...</td>\n      <td>2</td>\n      <td>1</td>\n      <td>14</td>\n      <td>5</td>\n    </tr>\n    <tr>\n      <th>340</th>\n      <td>0.136364</td>\n      <td>2022-03-15T21:49:33+00:00</td>\n      <td>[up, with, new, NFT, OpenSea, metaverse, nft, ...</td>\n      <td>0</td>\n      <td>0</td>\n      <td>6</td>\n      <td>4</td>\n    </tr>\n    <tr>\n      <th>350</th>\n      <td>0.200000</td>\n      <td>2022-03-15T21:41:20+00:00</td>\n      <td>[the, of, this, 🔥, I, seeing, a, of, and, legi...</td>\n      <td>1</td>\n      <td>1</td>\n      <td>4</td>\n      <td>3</td>\n    </tr>\n    <tr>\n      <th>369</th>\n      <td>0.600000</td>\n      <td>2022-03-15T21:18:08+00:00</td>\n      <td>[about, Title：Buying, Land, the, -, Motley, ht...</td>\n      <td>1</td>\n      <td>1</td>\n      <td>4</td>\n      <td>0</td>\n    </tr>\n    <tr>\n      <th>383</th>\n      <td>0.300000</td>\n      <td>2022-03-15T21:04:58+00:00</td>\n      <td>[nft, now, CryptoBoys, //t.co/MLTaNKCiqH, open...</td>\n      <td>1</td>\n      <td>1</td>\n      <td>5</td>\n      <td>4</td>\n    </tr>\n    <tr>\n      <th>384</th>\n      <td>-0.200000</td>\n      <td>2022-03-15T21:03:39+00:00</td>\n      <td>[think, and, were, web3, ethereumJoseph, bange...</td>\n      <td>0</td>\n      <td>0</td>\n      <td>9</td>\n      <td>1</td>\n    </tr>\n    <tr>\n      <th>386</th>\n      <td>0.300000</td>\n      <td>2022-03-15T20:59:27+00:00</td>\n      <td>[nft, now, CryptoBoys, //t.co/Z0vk65N7rE, open...</td>\n      <td>1</td>\n      <td>0</td>\n      <td>8</td>\n      <td>1</td>\n    </tr>\n    <tr>\n      <th>389</th>\n      <td>0.300000</td>\n      <td>2022-03-15T20:54:58+00:00</td>\n      <td>[nft, now, CryptoBoys, opensea, nftart, NFTdro...</td>\n      <td>2</td>\n      <td>1</td>\n      <td>10</td>\n      <td>1</td>\n    </tr>\n    <tr>\n      <th>394</th>\n      <td>0.300000</td>\n      <td>2022-03-15T20:49:08+00:00</td>\n      <td>[nft, now, CryptoBoys, //t.co/xlDLhPzAuC, open...</td>\n      <td>0</td>\n      <td>1</td>\n      <td>12</td>\n      <td>2</td>\n    </tr>\n    <tr>\n      <th>411</th>\n      <td>0.100000</td>\n      <td>2022-03-15T20:43:00+00:00</td>\n      <td>[finally, up, speed, its, so, you, the, now…ju...</td>\n      <td>0</td>\n      <td>0</td>\n      <td>3</td>\n      <td>0</td>\n    </tr>\n    <tr>\n      <th>428</th>\n      <td>0.200000</td>\n      <td>2022-03-15T20:28:36+00:00</td>\n      <td>[wants, integrate, according, Mark, (, )]</td>\n      <td>1</td>\n      <td>1</td>\n      <td>3</td>\n      <td>0</td>\n    </tr>\n    <tr>\n      <th>445</th>\n      <td>0.500000</td>\n      <td>2022-03-15T20:16:43+00:00</td>\n      <td>[Twitter, will, too, think, will, able, to, us...</td>\n      <td>0</td>\n      <td>0</td>\n      <td>6</td>\n      <td>1</td>\n    </tr>\n    <tr>\n      <th>449</th>\n      <td>0.006250</td>\n      <td>2022-03-15T20:13:25+00:00</td>\n      <td>[little, robot, will, you, master, moves, seei...</td>\n      <td>0</td>\n      <td>4</td>\n      <td>6</td>\n      <td>1</td>\n    </tr>\n    <tr>\n      <th>454</th>\n      <td>0.600000</td>\n      <td>2022-03-15T20:10:55+00:00</td>\n      <td>[Nice, meta, Sonic, TraMy586]</td>\n      <td>0</td>\n      <td>0</td>\n      <td>3</td>\n      <td>0</td>\n    </tr>\n    <tr>\n      <th>459</th>\n      <td>0.200000</td>\n      <td>2022-03-15T20:08:45+00:00</td>\n      <td>[wonder, SXSW, like, the, We, the, opportunity...</td>\n      <td>0</td>\n      <td>0</td>\n      <td>4</td>\n      <td>0</td>\n    </tr>\n    <tr>\n      <th>487</th>\n      <td>0.450000</td>\n      <td>2022-03-15T19:45:02+00:00</td>\n      <td>[us, at, p.m, for, conversation, Founder, the,...</td>\n      <td>14</td>\n      <td>3</td>\n      <td>14</td>\n      <td>0</td>\n    </tr>\n    <tr>\n      <th>497</th>\n      <td>0.136364</td>\n      <td>2022-03-15T19:31:09+00:00</td>\n      <td>[of, a, ?, a, Bird, features, Tag-inspired, Th...</td>\n      <td>0</td>\n      <td>0</td>\n      <td>3</td>\n      <td>0</td>\n    </tr>\n    <tr>\n      <th>530</th>\n      <td>0.250000</td>\n      <td>2022-03-15T19:13:31+00:00</td>\n      <td>[first, 3, worlds, finished, The, apocalypse, ...</td>\n      <td>1</td>\n      <td>3</td>\n      <td>4</td>\n      <td>0</td>\n    </tr>\n    <tr>\n      <th>548</th>\n      <td>0.500000</td>\n      <td>2022-03-15T18:58:22+00:00</td>\n      <td>[stylists, a, business, virtual, Metaverse, me...</td>\n      <td>11</td>\n      <td>28</td>\n      <td>30</td>\n      <td>3</td>\n    </tr>\n    <tr>\n      <th>559</th>\n      <td>0.500000</td>\n      <td>2022-03-15T18:46:38+00:00</td>\n      <td>[Express, Entry, Trademark, Metaverse, metaver...</td>\n      <td>0</td>\n      <td>0</td>\n      <td>5</td>\n      <td>0</td>\n    </tr>\n    <tr>\n      <th>565</th>\n      <td>0.500000</td>\n      <td>2022-03-15T18:42:15+00:00</td>\n      <td>[to, for, interviews, the, Metaverse, metavers...</td>\n      <td>0</td>\n      <td>2</td>\n      <td>6</td>\n      <td>2</td>\n    </tr>\n    <tr>\n      <th>610</th>\n      <td>1.000000</td>\n      <td>2022-03-15T18:13:15+00:00</td>\n      <td>[anndylian, meta_ruffy, binance, Ruffy, best, of]</td>\n      <td>0</td>\n      <td>2</td>\n      <td>10</td>\n      <td>0</td>\n    </tr>\n    <tr>\n      <th>631</th>\n      <td>0.700000</td>\n      <td>2022-03-15T17:58:59+00:00</td>\n      <td>[meta, sonic, wish, project, sir, they, one, t...</td>\n      <td>0</td>\n      <td>0</td>\n      <td>6</td>\n      <td>0</td>\n    </tr>\n    <tr>\n      <th>636</th>\n      <td>0.250000</td>\n      <td>2022-03-15T17:53:42+00:00</td>\n      <td>[Finances, Basa, with, about, NFTs, how, like,...</td>\n      <td>6</td>\n      <td>21</td>\n      <td>52</td>\n      <td>2</td>\n    </tr>\n    <tr>\n      <th>665</th>\n      <td>0.250000</td>\n      <td>2022-03-15T17:21:55+00:00</td>\n      <td>[SonicForces365, project, very, and, look, to,...</td>\n      <td>0</td>\n      <td>0</td>\n      <td>8</td>\n      <td>0</td>\n    </tr>\n    <tr>\n      <th>670</th>\n      <td>0.750000</td>\n      <td>2022-03-15T17:21:22+00:00</td>\n      <td>[The, is, good, we, forward, of, the, team, th...</td>\n      <td>0</td>\n      <td>0</td>\n      <td>16</td>\n      <td>0</td>\n    </tr>\n    <tr>\n      <th>671</th>\n      <td>0.530000</td>\n      <td>2022-03-15T17:20:36+00:00</td>\n      <td>[SonicForces365, 's, project, feel, and, sensi...</td>\n      <td>0</td>\n      <td>0</td>\n      <td>6</td>\n      <td>0</td>\n    </tr>\n    <tr>\n      <th>689</th>\n      <td>0.800000</td>\n      <td>2022-03-15T17:10:00+00:00</td>\n      <td>[Hub, great, will, playable, Ultrasclash, soon...</td>\n      <td>0</td>\n      <td>12</td>\n      <td>27</td>\n      <td>0</td>\n    </tr>\n    <tr>\n      <th>797</th>\n      <td>0.250000</td>\n      <td>2022-03-15T15:34:15+00:00</td>\n      <td>[Garners, of, for, HTC, amongst, first, know, ...</td>\n      <td>0</td>\n      <td>0</td>\n      <td>3</td>\n      <td>2</td>\n    </tr>\n    <tr>\n      <th>798</th>\n      <td>0.250000</td>\n      <td>2022-03-15T15:33:41+00:00</td>\n      <td>[Property, The, is, Debated, amongst, first, k...</td>\n      <td>0</td>\n      <td>0</td>\n      <td>4</td>\n      <td>0</td>\n    </tr>\n    <tr>\n      <th>799</th>\n      <td>0.250000</td>\n      <td>2022-03-15T15:33:20+00:00</td>\n      <td>[Boutique, Creators, Come, Customize, Lives, a...</td>\n      <td>0</td>\n      <td>0</td>\n      <td>3</td>\n      <td>1</td>\n    </tr>\n    <tr>\n      <th>805</th>\n      <td>0.136364</td>\n      <td>2022-03-15T15:30:22+00:00</td>\n      <td>[is, new, startup, Be, to, about, the, Metanew...</td>\n      <td>3</td>\n      <td>14</td>\n      <td>30</td>\n      <td>1</td>\n    </tr>\n    <tr>\n      <th>806</th>\n      <td>0.250000</td>\n      <td>2022-03-15T15:30:02+00:00</td>\n      <td>[Disney, joins, startup, akashrnigam, amongst,...</td>\n      <td>0</td>\n      <td>0</td>\n      <td>4</td>\n      <td>0</td>\n    </tr>\n    <tr>\n      <th>810</th>\n      <td>0.250000</td>\n      <td>2022-03-15T15:29:36+00:00</td>\n      <td>[established, metaverse, TravelzooEspana, amon...</td>\n      <td>0</td>\n      <td>0</td>\n      <td>3</td>\n      <td>0</td>\n    </tr>\n    <tr>\n      <th>821</th>\n      <td>-0.125000</td>\n      <td>2022-03-15T15:25:29+00:00</td>\n      <td>[Peek, autre, dans, 😍🚀, .., other, in, Look, d...</td>\n      <td>0</td>\n      <td>4</td>\n      <td>26</td>\n      <td>0</td>\n    </tr>\n    <tr>\n      <th>842</th>\n      <td>0.666667</td>\n      <td>2022-03-15T15:09:46+00:00</td>\n      <td>[‍Be, with, realities, 🪐, you, now, exceptiona...</td>\n      <td>7</td>\n      <td>12</td>\n      <td>51</td>\n      <td>0</td>\n    </tr>\n    <tr>\n      <th>917</th>\n      <td>1.000000</td>\n      <td>2022-03-15T14:30:00+00:00</td>\n      <td>[72, The, could, well, man, best, but, never, ...</td>\n      <td>1</td>\n      <td>0</td>\n      <td>4</td>\n      <td>3</td>\n    </tr>\n    <tr>\n      <th>932</th>\n      <td>0.333333</td>\n      <td>2022-03-15T14:15:16+00:00</td>\n      <td>[about, Title：American, ventures, NFTs, the, w...</td>\n      <td>0</td>\n      <td>0</td>\n      <td>3</td>\n      <td>0</td>\n    </tr>\n    <tr>\n      <th>951</th>\n      <td>0.250000</td>\n      <td>2022-03-15T14:01:03+00:00</td>\n      <td>[first, world, portal, by, of, Lootizens, and,...</td>\n      <td>1</td>\n      <td>1</td>\n      <td>8</td>\n      <td>0</td>\n    </tr>\n    <tr>\n      <th>957</th>\n      <td>0.300000</td>\n      <td>2022-03-15T13:59:20+00:00</td>\n      <td>[and, project, makes, Powerful, community, we,...</td>\n      <td>0</td>\n      <td>0</td>\n      <td>3</td>\n      <td>0</td>\n    </tr>\n    <tr>\n      <th>959</th>\n      <td>0.136364</td>\n      <td>2022-03-15T13:54:27+00:00</td>\n      <td>[NEW, ww2, yugoslavia, META, https, https]</td>\n      <td>1</td>\n      <td>0</td>\n      <td>11</td>\n      <td>0</td>\n    </tr>\n    <tr>\n      <th>964</th>\n      <td>0.700000</td>\n      <td>2022-03-15T13:51:29+00:00</td>\n      <td>[n't, to, up, the, and, on, Adibas, Good, to, ...</td>\n      <td>1</td>\n      <td>1</td>\n      <td>4</td>\n      <td>0</td>\n    </tr>\n    <tr>\n      <th>967</th>\n      <td>0.100000</td>\n      <td>2022-03-15T13:51:26+00:00</td>\n      <td>['ll, ready, you, race, for, total, 40, You, k...</td>\n      <td>3</td>\n      <td>0</td>\n      <td>3</td>\n      <td>1</td>\n    </tr>\n    <tr>\n      <th>968</th>\n      <td>-0.100000</td>\n      <td>2022-03-15T13:51:25+00:00</td>\n      <td>[total, 5, to, from, sports, on, the, agenda, ...</td>\n      <td>2</td>\n      <td>0</td>\n      <td>3</td>\n      <td>0</td>\n    </tr>\n    <tr>\n      <th>974</th>\n      <td>-0.093750</td>\n      <td>2022-03-15T13:46:12+00:00</td>\n      <td>['s, Mark, seemed, little, He, vocal, it, He, ...</td>\n      <td>0</td>\n      <td>1</td>\n      <td>3</td>\n      <td>0</td>\n    </tr>\n  </tbody>\n</table>\n</div>"
     },
     "metadata": {}
    }
   ]
  },
  {
   "cell_type": "code",
   "metadata": {
    "cell_id": "b7ac801b662441768aa6f6fb276a326d",
    "tags": [],
    "deepnote_to_be_reexecuted": true,
    "source_hash": "afb647de",
    "execution_start": 1650226380317,
    "execution_millis": 7,
    "deepnote_cell_type": "code",
    "deepnote_cell_height": 94
   },
   "source": "## Extracting Date from date column\n# https://www.geeksforgeeks.org/how-to-convert-datetime-to-date-in-pandas/",
   "execution_count": null,
   "outputs": []
  },
  {
   "cell_type": "code",
   "metadata": {
    "cell_id": "b126d8f0fc7743ffb47f5d44d7238ab7",
    "tags": [],
    "deepnote_to_be_reexecuted": true,
    "source_hash": "e1400771",
    "execution_start": 1650226389500,
    "execution_millis": 159,
    "deepnote_table_state": {
     "pageSize": 10,
     "pageIndex": 4,
     "filters": [],
     "sortBy": []
    },
    "deepnote_table_loading": false,
    "deepnote_table_invalid": false,
    "deepnote_cell_type": "code",
    "deepnote_cell_height": 631
   },
   "source": "# Extracting only date from date column\ndf_meta[\"dateonly\"] = pd.to_datetime(df_meta[\"date\"]).dt.date\ndf_meta",
   "execution_count": null,
   "outputs": [
    {
     "output_type": "execute_result",
     "execution_count": 92,
     "data": {
      "application/vnd.deepnote.dataframe.v3+json": {
       "column_count": 8,
       "row_count": 51,
       "columns": [
        {
         "name": "score",
         "dtype": "float64",
         "stats": {
          "unique_count": 24,
          "nan_count": 0,
          "min": "-0.3125",
          "max": "1.0",
          "histogram": [
           {
            "bin_start": -0.3125,
            "bin_end": -0.18125,
            "count": 2
           },
           {
            "bin_start": -0.18125,
            "bin_end": -0.04999999999999999,
            "count": 3
           },
           {
            "bin_start": -0.04999999999999999,
            "bin_end": 0.08125000000000004,
            "count": 1
           },
           {
            "bin_start": 0.08125000000000004,
            "bin_end": 0.21250000000000002,
            "count": 11
           },
           {
            "bin_start": 0.21250000000000002,
            "bin_end": 0.34375,
            "count": 15
           },
           {
            "bin_start": 0.34375,
            "bin_end": 0.4750000000000001,
            "count": 4
           },
           {
            "bin_start": 0.4750000000000001,
            "bin_end": 0.6062500000000001,
            "count": 8
           },
           {
            "bin_start": 0.6062500000000001,
            "bin_end": 0.7375,
            "count": 3
           },
           {
            "bin_start": 0.7375,
            "bin_end": 0.8687500000000001,
            "count": 2
           },
           {
            "bin_start": 0.8687500000000001,
            "bin_end": 1,
            "count": 2
           }
          ]
         }
        },
        {
         "name": "date",
         "dtype": "object",
         "stats": {
          "unique_count": 51,
          "nan_count": 0,
          "categories": [
           {
            "name": "2022-03-16T01:51:24+00:00",
            "count": 1
           },
           {
            "name": "2022-03-16T01:24:49+00:00",
            "count": 1
           },
           {
            "name": "49 others",
            "count": 49
           }
          ]
         }
        },
        {
         "name": "filtered",
         "dtype": "object",
         "stats": {
          "unique_count": 51,
          "nan_count": 0,
          "categories": [
           {
            "name": "['are', 'to', 'Says', 'CEO', 'more', 'link', 'bio', 'are', 'to', 'Says', 'CEO', '//t.co/gqTJylwH4j', '//t.co/3bKcRvwoki']",
            "count": 1
           },
           {
            "name": "['out', 'new', 'on', 'Meta-Cool', '22', '//t.co/zbom22spEh', 'opensea']",
            "count": 1
           },
           {
            "name": "49 others",
            "count": 49
           }
          ]
         }
        },
        {
         "name": "replyCount",
         "dtype": "int64",
         "stats": {
          "unique_count": 8,
          "nan_count": 0,
          "min": "0",
          "max": "14",
          "histogram": [
           {
            "bin_start": 0,
            "bin_end": 1.4,
            "count": 42
           },
           {
            "bin_start": 1.4,
            "bin_end": 2.8,
            "count": 3
           },
           {
            "bin_start": 2.8,
            "bin_end": 4.199999999999999,
            "count": 2
           },
           {
            "bin_start": 4.199999999999999,
            "bin_end": 5.6,
            "count": 0
           },
           {
            "bin_start": 5.6,
            "bin_end": 7,
            "count": 1
           },
           {
            "bin_start": 7,
            "bin_end": 8.399999999999999,
            "count": 1
           },
           {
            "bin_start": 8.399999999999999,
            "bin_end": 9.799999999999999,
            "count": 0
           },
           {
            "bin_start": 9.799999999999999,
            "bin_end": 11.2,
            "count": 1
           },
           {
            "bin_start": 11.2,
            "bin_end": 12.6,
            "count": 0
           },
           {
            "bin_start": 12.6,
            "bin_end": 14,
            "count": 1
           }
          ]
         }
        },
        {
         "name": "retweetCount",
         "dtype": "int64",
         "stats": {
          "unique_count": 9,
          "nan_count": 0,
          "min": "0",
          "max": "28",
          "histogram": [
           {
            "bin_start": 0,
            "bin_end": 2.8,
            "count": 42
           },
           {
            "bin_start": 2.8,
            "bin_end": 5.6,
            "count": 4
           },
           {
            "bin_start": 5.6,
            "bin_end": 8.399999999999999,
            "count": 0
           },
           {
            "bin_start": 8.399999999999999,
            "bin_end": 11.2,
            "count": 0
           },
           {
            "bin_start": 11.2,
            "bin_end": 14,
            "count": 2
           },
           {
            "bin_start": 14,
            "bin_end": 16.799999999999997,
            "count": 1
           },
           {
            "bin_start": 16.799999999999997,
            "bin_end": 19.599999999999998,
            "count": 0
           },
           {
            "bin_start": 19.599999999999998,
            "bin_end": 22.4,
            "count": 1
           },
           {
            "bin_start": 22.4,
            "bin_end": 25.2,
            "count": 0
           },
           {
            "bin_start": 25.2,
            "bin_end": 28,
            "count": 1
           }
          ]
         }
        },
        {
         "name": "likeCount",
         "dtype": "int64",
         "stats": {
          "unique_count": 16,
          "nan_count": 0,
          "min": "3",
          "max": "52",
          "histogram": [
           {
            "bin_start": 3,
            "bin_end": 7.9,
            "count": 34
           },
           {
            "bin_start": 7.9,
            "bin_end": 12.8,
            "count": 8
           },
           {
            "bin_start": 12.8,
            "bin_end": 17.700000000000003,
            "count": 3
           },
           {
            "bin_start": 17.700000000000003,
            "bin_end": 22.6,
            "count": 0
           },
           {
            "bin_start": 22.6,
            "bin_end": 27.5,
            "count": 2
           },
           {
            "bin_start": 27.5,
            "bin_end": 32.400000000000006,
            "count": 2
           },
           {
            "bin_start": 32.400000000000006,
            "bin_end": 37.300000000000004,
            "count": 0
           },
           {
            "bin_start": 37.300000000000004,
            "bin_end": 42.2,
            "count": 0
           },
           {
            "bin_start": 42.2,
            "bin_end": 47.1,
            "count": 0
           },
           {
            "bin_start": 47.1,
            "bin_end": 52,
            "count": 2
           }
          ]
         }
        },
        {
         "name": "quoteCount",
         "dtype": "int64",
         "stats": {
          "unique_count": 6,
          "nan_count": 0,
          "min": "0",
          "max": "5",
          "histogram": [
           {
            "bin_start": 0,
            "bin_end": 0.5,
            "count": 29
           },
           {
            "bin_start": 0.5,
            "bin_end": 1,
            "count": 0
           },
           {
            "bin_start": 1,
            "bin_end": 1.5,
            "count": 10
           },
           {
            "bin_start": 1.5,
            "bin_end": 2,
            "count": 0
           },
           {
            "bin_start": 2,
            "bin_end": 2.5,
            "count": 4
           },
           {
            "bin_start": 2.5,
            "bin_end": 3,
            "count": 0
           },
           {
            "bin_start": 3,
            "bin_end": 3.5,
            "count": 5
           },
           {
            "bin_start": 3.5,
            "bin_end": 4,
            "count": 0
           },
           {
            "bin_start": 4,
            "bin_end": 4.5,
            "count": 2
           },
           {
            "bin_start": 4.5,
            "bin_end": 5,
            "count": 1
           }
          ]
         }
        },
        {
         "name": "dateonly",
         "dtype": "object",
         "stats": {
          "unique_count": 2,
          "nan_count": 0,
          "categories": [
           {
            "name": "2022-03-15",
            "count": 46
           },
           {
            "name": "2022-03-16",
            "count": 5
           }
          ]
         }
        },
        {
         "name": "_deepnote_index_column",
         "dtype": "int64"
        }
       ],
       "rows": [
        {
         "score": -0.125,
         "date": "2022-03-15T15:25:29+00:00",
         "filtered": "['Peek', 'autre', 'dans', '😍🚀', '..', 'other', 'in', 'Look', 'detail', 'Solana', 'Metaverse', 'MagicEden', '//t.co/bR4h67TAlT']",
         "replyCount": 0,
         "retweetCount": 4,
         "likeCount": 26,
         "quoteCount": 0,
         "dateonly": "2022-03-15",
         "_deepnote_index_column": 821
        },
        {
         "score": 0.6666666666666666,
         "date": "2022-03-15T15:09:46+00:00",
         "filtered": "['\\u200dBe', 'with', 'realities', '🪐', 'you', 'now', 'exceptional', 'combo', '🌐', 'your', 'world', 'now', 'and', 'thenovatar', 'NewNFTProfilePic', '//t.co/xxvN6MADi5']",
         "replyCount": 7,
         "retweetCount": 12,
         "likeCount": 51,
         "quoteCount": 0,
         "dateonly": "2022-03-15",
         "_deepnote_index_column": 842
        },
        {
         "score": 1,
         "date": "2022-03-15T14:30:00+00:00",
         "filtered": "['72', 'The', 'could', 'well', 'man', 'best', 'but', 'never', 'to', 'it', '-', 'Larson', 'cats', 'nftcollectors', 'meta', 'https', 'https']",
         "replyCount": 1,
         "retweetCount": 0,
         "likeCount": 4,
         "quoteCount": 3,
         "dateonly": "2022-03-15",
         "_deepnote_index_column": 917
        },
        {
         "score": 0.3333333333333333,
         "date": "2022-03-15T14:15:16+00:00",
         "filtered": "['about', 'Title：American', 'ventures', 'NFTs', 'the', 'with', 'filings', 'Finbold', 'Finance', 'Bold', '//t.co/d2x16No2zB', 'meta', 'BTC']",
         "replyCount": 0,
         "retweetCount": 0,
         "likeCount": 3,
         "quoteCount": 0,
         "dateonly": "2022-03-15",
         "_deepnote_index_column": 932
        },
        {
         "score": 0.25,
         "date": "2022-03-15T14:01:03+00:00",
         "filtered": "['first', 'world', 'portal', 'by', 'of', 'Lootizens', 'and', 'LTT', 'native', 'of', 'Access', 'Lootnance', 'here', '//t.co/qVdLXoRvln', 'Metaversenews', 'virtualreality', 'etherium', 'https']",
         "replyCount": 1,
         "retweetCount": 1,
         "likeCount": 8,
         "quoteCount": 0,
         "dateonly": "2022-03-15",
         "_deepnote_index_column": 951
        },
        {
         "score": 0.3,
         "date": "2022-03-15T13:59:20+00:00",
         "filtered": "['and', 'project', 'makes', 'Powerful', 'community', 'we', 'both', 'metaverseproject', 'NFTCommumity']",
         "replyCount": 0,
         "retweetCount": 0,
         "likeCount": 3,
         "quoteCount": 0,
         "dateonly": "2022-03-15",
         "_deepnote_index_column": 957
        },
        {
         "score": 0.13636363636363635,
         "date": "2022-03-15T13:54:27+00:00",
         "filtered": "['NEW', 'ww2', 'yugoslavia', 'META', 'https', 'https']",
         "replyCount": 1,
         "retweetCount": 0,
         "likeCount": 11,
         "quoteCount": 0,
         "dateonly": "2022-03-15",
         "_deepnote_index_column": 959
        },
        {
         "score": 0.7,
         "date": "2022-03-15T13:51:29+00:00",
         "filtered": "[\"n't\", 'to', 'up', 'the', 'and', 'on', 'Adibas', 'Good', 'to', 'participants', 'nft', 'olympiad', 'meta', 'poap']",
         "replyCount": 1,
         "retweetCount": 1,
         "likeCount": 4,
         "quoteCount": 0,
         "dateonly": "2022-03-15",
         "_deepnote_index_column": 964
        },
        {
         "score": 0.1,
         "date": "2022-03-15T13:51:26+00:00",
         "filtered": "[\"'ll\", 'ready', 'you', 'race', 'for', 'total', '40', 'You', 'keep', 'of', 'your', 'progress', 'real-time', 'the', 'channel', 'points', 'be', 'by', 'referee', '|', 'nft', 'olympiad', 'meta', 'poap']",
         "replyCount": 3,
         "retweetCount": 0,
         "likeCount": 3,
         "quoteCount": 1,
         "dateonly": "2022-03-15",
         "_deepnote_index_column": 967
        },
        {
         "score": -0.1,
         "date": "2022-03-15T13:51:25+00:00",
         "filtered": "['total', '5', 'to', 'from', 'sports', 'on', 'the', 'agenda', 'are', 'running', 'canoeing', 'pogo', 'race', 'others', 'each', 'there', 'a', 'round', 'competition', 'nfts', 'web3', 'metaverse']",
         "replyCount": 2,
         "retweetCount": 0,
         "likeCount": 3,
         "quoteCount": 0,
         "dateonly": "2022-03-15",
         "_deepnote_index_column": 968
        }
       ]
      },
      "text/plain": "        score                       date  \\\n109  0.500000  2022-03-16T01:51:24+00:00   \n145  0.136364  2022-03-16T01:24:49+00:00   \n192  0.350000  2022-03-16T00:49:36+00:00   \n212  0.458333  2022-03-16T00:30:00+00:00   \n220  0.136364  2022-03-16T00:21:21+00:00   \n250 -0.312500  2022-03-15T23:49:15+00:00   \n267  0.416667  2022-03-15T23:20:12+00:00   \n340  0.136364  2022-03-15T21:49:33+00:00   \n350  0.200000  2022-03-15T21:41:20+00:00   \n369  0.600000  2022-03-15T21:18:08+00:00   \n383  0.300000  2022-03-15T21:04:58+00:00   \n384 -0.200000  2022-03-15T21:03:39+00:00   \n386  0.300000  2022-03-15T20:59:27+00:00   \n389  0.300000  2022-03-15T20:54:58+00:00   \n394  0.300000  2022-03-15T20:49:08+00:00   \n411  0.100000  2022-03-15T20:43:00+00:00   \n428  0.200000  2022-03-15T20:28:36+00:00   \n445  0.500000  2022-03-15T20:16:43+00:00   \n449  0.006250  2022-03-15T20:13:25+00:00   \n454  0.600000  2022-03-15T20:10:55+00:00   \n459  0.200000  2022-03-15T20:08:45+00:00   \n487  0.450000  2022-03-15T19:45:02+00:00   \n497  0.136364  2022-03-15T19:31:09+00:00   \n530  0.250000  2022-03-15T19:13:31+00:00   \n548  0.500000  2022-03-15T18:58:22+00:00   \n559  0.500000  2022-03-15T18:46:38+00:00   \n565  0.500000  2022-03-15T18:42:15+00:00   \n610  1.000000  2022-03-15T18:13:15+00:00   \n631  0.700000  2022-03-15T17:58:59+00:00   \n636  0.250000  2022-03-15T17:53:42+00:00   \n665  0.250000  2022-03-15T17:21:55+00:00   \n670  0.750000  2022-03-15T17:21:22+00:00   \n671  0.530000  2022-03-15T17:20:36+00:00   \n689  0.800000  2022-03-15T17:10:00+00:00   \n797  0.250000  2022-03-15T15:34:15+00:00   \n798  0.250000  2022-03-15T15:33:41+00:00   \n799  0.250000  2022-03-15T15:33:20+00:00   \n805  0.136364  2022-03-15T15:30:22+00:00   \n806  0.250000  2022-03-15T15:30:02+00:00   \n810  0.250000  2022-03-15T15:29:36+00:00   \n821 -0.125000  2022-03-15T15:25:29+00:00   \n842  0.666667  2022-03-15T15:09:46+00:00   \n917  1.000000  2022-03-15T14:30:00+00:00   \n932  0.333333  2022-03-15T14:15:16+00:00   \n951  0.250000  2022-03-15T14:01:03+00:00   \n957  0.300000  2022-03-15T13:59:20+00:00   \n959  0.136364  2022-03-15T13:54:27+00:00   \n964  0.700000  2022-03-15T13:51:29+00:00   \n967  0.100000  2022-03-15T13:51:26+00:00   \n968 -0.100000  2022-03-15T13:51:25+00:00   \n974 -0.093750  2022-03-15T13:46:12+00:00   \n\n                                              filtered  replyCount  \\\n109  [are, to, Says, CEO, more, link, bio, are, to,...           0   \n145  [out, new, on, Meta-Cool, 22, //t.co/zbom22spE...           0   \n192  [giving, cat, cubes, play, using, Full, here, ...           0   \n212  [imposes, fine, Facebook, company, for, EU, pr...           0   \n220  [Everyone, posted, nfts, 10, and, is, laggy, i...           1   \n250  [term, has, buzzword, by, of, the, biggest, co...           1   \n267  [DAYS, GO, better, to, than, one, the, bogans,...           2   \n340  [up, with, new, NFT, OpenSea, metaverse, nft, ...           0   \n350  [the, of, this, 🔥, I, seeing, a, of, and, legi...           1   \n369  [about, Title：Buying, Land, the, -, Motley, ht...           1   \n383  [nft, now, CryptoBoys, //t.co/MLTaNKCiqH, open...           1   \n384  [think, and, were, web3, ethereumJoseph, bange...           0   \n386  [nft, now, CryptoBoys, //t.co/Z0vk65N7rE, open...           1   \n389  [nft, now, CryptoBoys, opensea, nftart, NFTdro...           2   \n394  [nft, now, CryptoBoys, //t.co/xlDLhPzAuC, open...           0   \n411  [finally, up, speed, its, so, you, the, now…ju...           0   \n428          [wants, integrate, according, Mark, (, )]           1   \n445  [Twitter, will, too, think, will, able, to, us...           0   \n449  [little, robot, will, you, master, moves, seei...           0   \n454                      [Nice, meta, Sonic, TraMy586]           0   \n459  [wonder, SXSW, like, the, We, the, opportunity...           0   \n487  [us, at, p.m, for, conversation, Founder, the,...          14   \n497  [of, a, ?, a, Bird, features, Tag-inspired, Th...           0   \n530  [first, 3, worlds, finished, The, apocalypse, ...           1   \n548  [stylists, a, business, virtual, Metaverse, me...          11   \n559  [Express, Entry, Trademark, Metaverse, metaver...           0   \n565  [to, for, interviews, the, Metaverse, metavers...           0   \n610  [anndylian, meta_ruffy, binance, Ruffy, best, of]           0   \n631  [meta, sonic, wish, project, sir, they, one, t...           0   \n636  [Finances, Basa, with, about, NFTs, how, like,...           6   \n665  [SonicForces365, project, very, and, look, to,...           0   \n670  [The, is, good, we, forward, of, the, team, th...           0   \n671  [SonicForces365, 's, project, feel, and, sensi...           0   \n689  [Hub, great, will, playable, Ultrasclash, soon...           0   \n797  [Garners, of, for, HTC, amongst, first, know, ...           0   \n798  [Property, The, is, Debated, amongst, first, k...           0   \n799  [Boutique, Creators, Come, Customize, Lives, a...           0   \n805  [is, new, startup, Be, to, about, the, Metanew...           3   \n806  [Disney, joins, startup, akashrnigam, amongst,...           0   \n810  [established, metaverse, TravelzooEspana, amon...           0   \n821  [Peek, autre, dans, 😍🚀, .., other, in, Look, d...           0   \n842  [‍Be, with, realities, 🪐, you, now, exceptiona...           7   \n917  [72, The, could, well, man, best, but, never, ...           1   \n932  [about, Title：American, ventures, NFTs, the, w...           0   \n951  [first, world, portal, by, of, Lootizens, and,...           1   \n957  [and, project, makes, Powerful, community, we,...           0   \n959         [NEW, ww2, yugoslavia, META, https, https]           1   \n964  [n't, to, up, the, and, on, Adibas, Good, to, ...           1   \n967  ['ll, ready, you, race, for, total, 40, You, k...           3   \n968  [total, 5, to, from, sports, on, the, agenda, ...           2   \n974  ['s, Mark, seemed, little, He, vocal, it, He, ...           0   \n\n     retweetCount  likeCount  quoteCount    dateonly  \n109             0          4           3  2022-03-16  \n145             0          5           1  2022-03-16  \n192             1          4           0  2022-03-16  \n212             2          4           0  2022-03-16  \n220             0          6           3  2022-03-16  \n250             0          3           1  2022-03-15  \n267             1         14           5  2022-03-15  \n340             0          6           4  2022-03-15  \n350             1          4           3  2022-03-15  \n369             1          4           0  2022-03-15  \n383             1          5           4  2022-03-15  \n384             0          9           1  2022-03-15  \n386             0          8           1  2022-03-15  \n389             1         10           1  2022-03-15  \n394             1         12           2  2022-03-15  \n411             0          3           0  2022-03-15  \n428             1          3           0  2022-03-15  \n445             0          6           1  2022-03-15  \n449             4          6           1  2022-03-15  \n454             0          3           0  2022-03-15  \n459             0          4           0  2022-03-15  \n487             3         14           0  2022-03-15  \n497             0          3           0  2022-03-15  \n530             3          4           0  2022-03-15  \n548            28         30           3  2022-03-15  \n559             0          5           0  2022-03-15  \n565             2          6           2  2022-03-15  \n610             2         10           0  2022-03-15  \n631             0          6           0  2022-03-15  \n636            21         52           2  2022-03-15  \n665             0          8           0  2022-03-15  \n670             0         16           0  2022-03-15  \n671             0          6           0  2022-03-15  \n689            12         27           0  2022-03-15  \n797             0          3           2  2022-03-15  \n798             0          4           0  2022-03-15  \n799             0          3           1  2022-03-15  \n805            14         30           1  2022-03-15  \n806             0          4           0  2022-03-15  \n810             0          3           0  2022-03-15  \n821             4         26           0  2022-03-15  \n842            12         51           0  2022-03-15  \n917             0          4           3  2022-03-15  \n932             0          3           0  2022-03-15  \n951             1          8           0  2022-03-15  \n957             0          3           0  2022-03-15  \n959             0         11           0  2022-03-15  \n964             1          4           0  2022-03-15  \n967             0          3           1  2022-03-15  \n968             0          3           0  2022-03-15  \n974             1          3           0  2022-03-15  ",
      "text/html": "<div>\n<style scoped>\n    .dataframe tbody tr th:only-of-type {\n        vertical-align: middle;\n    }\n\n    .dataframe tbody tr th {\n        vertical-align: top;\n    }\n\n    .dataframe thead th {\n        text-align: right;\n    }\n</style>\n<table border=\"1\" class=\"dataframe\">\n  <thead>\n    <tr style=\"text-align: right;\">\n      <th></th>\n      <th>score</th>\n      <th>date</th>\n      <th>filtered</th>\n      <th>replyCount</th>\n      <th>retweetCount</th>\n      <th>likeCount</th>\n      <th>quoteCount</th>\n      <th>dateonly</th>\n    </tr>\n  </thead>\n  <tbody>\n    <tr>\n      <th>109</th>\n      <td>0.500000</td>\n      <td>2022-03-16T01:51:24+00:00</td>\n      <td>[are, to, Says, CEO, more, link, bio, are, to,...</td>\n      <td>0</td>\n      <td>0</td>\n      <td>4</td>\n      <td>3</td>\n      <td>2022-03-16</td>\n    </tr>\n    <tr>\n      <th>145</th>\n      <td>0.136364</td>\n      <td>2022-03-16T01:24:49+00:00</td>\n      <td>[out, new, on, Meta-Cool, 22, //t.co/zbom22spE...</td>\n      <td>0</td>\n      <td>0</td>\n      <td>5</td>\n      <td>1</td>\n      <td>2022-03-16</td>\n    </tr>\n    <tr>\n      <th>192</th>\n      <td>0.350000</td>\n      <td>2022-03-16T00:49:36+00:00</td>\n      <td>[giving, cat, cubes, play, using, Full, here, ...</td>\n      <td>0</td>\n      <td>1</td>\n      <td>4</td>\n      <td>0</td>\n      <td>2022-03-16</td>\n    </tr>\n    <tr>\n      <th>212</th>\n      <td>0.458333</td>\n      <td>2022-03-16T00:30:00+00:00</td>\n      <td>[imposes, fine, Facebook, company, for, EU, pr...</td>\n      <td>0</td>\n      <td>2</td>\n      <td>4</td>\n      <td>0</td>\n      <td>2022-03-16</td>\n    </tr>\n    <tr>\n      <th>220</th>\n      <td>0.136364</td>\n      <td>2022-03-16T00:21:21+00:00</td>\n      <td>[Everyone, posted, nfts, 10, and, is, laggy, i...</td>\n      <td>1</td>\n      <td>0</td>\n      <td>6</td>\n      <td>3</td>\n      <td>2022-03-16</td>\n    </tr>\n    <tr>\n      <th>250</th>\n      <td>-0.312500</td>\n      <td>2022-03-15T23:49:15+00:00</td>\n      <td>[term, has, buzzword, by, of, the, biggest, co...</td>\n      <td>1</td>\n      <td>0</td>\n      <td>3</td>\n      <td>1</td>\n      <td>2022-03-15</td>\n    </tr>\n    <tr>\n      <th>267</th>\n      <td>0.416667</td>\n      <td>2022-03-15T23:20:12+00:00</td>\n      <td>[DAYS, GO, better, to, than, one, the, bogans,...</td>\n      <td>2</td>\n      <td>1</td>\n      <td>14</td>\n      <td>5</td>\n      <td>2022-03-15</td>\n    </tr>\n    <tr>\n      <th>340</th>\n      <td>0.136364</td>\n      <td>2022-03-15T21:49:33+00:00</td>\n      <td>[up, with, new, NFT, OpenSea, metaverse, nft, ...</td>\n      <td>0</td>\n      <td>0</td>\n      <td>6</td>\n      <td>4</td>\n      <td>2022-03-15</td>\n    </tr>\n    <tr>\n      <th>350</th>\n      <td>0.200000</td>\n      <td>2022-03-15T21:41:20+00:00</td>\n      <td>[the, of, this, 🔥, I, seeing, a, of, and, legi...</td>\n      <td>1</td>\n      <td>1</td>\n      <td>4</td>\n      <td>3</td>\n      <td>2022-03-15</td>\n    </tr>\n    <tr>\n      <th>369</th>\n      <td>0.600000</td>\n      <td>2022-03-15T21:18:08+00:00</td>\n      <td>[about, Title：Buying, Land, the, -, Motley, ht...</td>\n      <td>1</td>\n      <td>1</td>\n      <td>4</td>\n      <td>0</td>\n      <td>2022-03-15</td>\n    </tr>\n    <tr>\n      <th>383</th>\n      <td>0.300000</td>\n      <td>2022-03-15T21:04:58+00:00</td>\n      <td>[nft, now, CryptoBoys, //t.co/MLTaNKCiqH, open...</td>\n      <td>1</td>\n      <td>1</td>\n      <td>5</td>\n      <td>4</td>\n      <td>2022-03-15</td>\n    </tr>\n    <tr>\n      <th>384</th>\n      <td>-0.200000</td>\n      <td>2022-03-15T21:03:39+00:00</td>\n      <td>[think, and, were, web3, ethereumJoseph, bange...</td>\n      <td>0</td>\n      <td>0</td>\n      <td>9</td>\n      <td>1</td>\n      <td>2022-03-15</td>\n    </tr>\n    <tr>\n      <th>386</th>\n      <td>0.300000</td>\n      <td>2022-03-15T20:59:27+00:00</td>\n      <td>[nft, now, CryptoBoys, //t.co/Z0vk65N7rE, open...</td>\n      <td>1</td>\n      <td>0</td>\n      <td>8</td>\n      <td>1</td>\n      <td>2022-03-15</td>\n    </tr>\n    <tr>\n      <th>389</th>\n      <td>0.300000</td>\n      <td>2022-03-15T20:54:58+00:00</td>\n      <td>[nft, now, CryptoBoys, opensea, nftart, NFTdro...</td>\n      <td>2</td>\n      <td>1</td>\n      <td>10</td>\n      <td>1</td>\n      <td>2022-03-15</td>\n    </tr>\n    <tr>\n      <th>394</th>\n      <td>0.300000</td>\n      <td>2022-03-15T20:49:08+00:00</td>\n      <td>[nft, now, CryptoBoys, //t.co/xlDLhPzAuC, open...</td>\n      <td>0</td>\n      <td>1</td>\n      <td>12</td>\n      <td>2</td>\n      <td>2022-03-15</td>\n    </tr>\n    <tr>\n      <th>411</th>\n      <td>0.100000</td>\n      <td>2022-03-15T20:43:00+00:00</td>\n      <td>[finally, up, speed, its, so, you, the, now…ju...</td>\n      <td>0</td>\n      <td>0</td>\n      <td>3</td>\n      <td>0</td>\n      <td>2022-03-15</td>\n    </tr>\n    <tr>\n      <th>428</th>\n      <td>0.200000</td>\n      <td>2022-03-15T20:28:36+00:00</td>\n      <td>[wants, integrate, according, Mark, (, )]</td>\n      <td>1</td>\n      <td>1</td>\n      <td>3</td>\n      <td>0</td>\n      <td>2022-03-15</td>\n    </tr>\n    <tr>\n      <th>445</th>\n      <td>0.500000</td>\n      <td>2022-03-15T20:16:43+00:00</td>\n      <td>[Twitter, will, too, think, will, able, to, us...</td>\n      <td>0</td>\n      <td>0</td>\n      <td>6</td>\n      <td>1</td>\n      <td>2022-03-15</td>\n    </tr>\n    <tr>\n      <th>449</th>\n      <td>0.006250</td>\n      <td>2022-03-15T20:13:25+00:00</td>\n      <td>[little, robot, will, you, master, moves, seei...</td>\n      <td>0</td>\n      <td>4</td>\n      <td>6</td>\n      <td>1</td>\n      <td>2022-03-15</td>\n    </tr>\n    <tr>\n      <th>454</th>\n      <td>0.600000</td>\n      <td>2022-03-15T20:10:55+00:00</td>\n      <td>[Nice, meta, Sonic, TraMy586]</td>\n      <td>0</td>\n      <td>0</td>\n      <td>3</td>\n      <td>0</td>\n      <td>2022-03-15</td>\n    </tr>\n    <tr>\n      <th>459</th>\n      <td>0.200000</td>\n      <td>2022-03-15T20:08:45+00:00</td>\n      <td>[wonder, SXSW, like, the, We, the, opportunity...</td>\n      <td>0</td>\n      <td>0</td>\n      <td>4</td>\n      <td>0</td>\n      <td>2022-03-15</td>\n    </tr>\n    <tr>\n      <th>487</th>\n      <td>0.450000</td>\n      <td>2022-03-15T19:45:02+00:00</td>\n      <td>[us, at, p.m, for, conversation, Founder, the,...</td>\n      <td>14</td>\n      <td>3</td>\n      <td>14</td>\n      <td>0</td>\n      <td>2022-03-15</td>\n    </tr>\n    <tr>\n      <th>497</th>\n      <td>0.136364</td>\n      <td>2022-03-15T19:31:09+00:00</td>\n      <td>[of, a, ?, a, Bird, features, Tag-inspired, Th...</td>\n      <td>0</td>\n      <td>0</td>\n      <td>3</td>\n      <td>0</td>\n      <td>2022-03-15</td>\n    </tr>\n    <tr>\n      <th>530</th>\n      <td>0.250000</td>\n      <td>2022-03-15T19:13:31+00:00</td>\n      <td>[first, 3, worlds, finished, The, apocalypse, ...</td>\n      <td>1</td>\n      <td>3</td>\n      <td>4</td>\n      <td>0</td>\n      <td>2022-03-15</td>\n    </tr>\n    <tr>\n      <th>548</th>\n      <td>0.500000</td>\n      <td>2022-03-15T18:58:22+00:00</td>\n      <td>[stylists, a, business, virtual, Metaverse, me...</td>\n      <td>11</td>\n      <td>28</td>\n      <td>30</td>\n      <td>3</td>\n      <td>2022-03-15</td>\n    </tr>\n    <tr>\n      <th>559</th>\n      <td>0.500000</td>\n      <td>2022-03-15T18:46:38+00:00</td>\n      <td>[Express, Entry, Trademark, Metaverse, metaver...</td>\n      <td>0</td>\n      <td>0</td>\n      <td>5</td>\n      <td>0</td>\n      <td>2022-03-15</td>\n    </tr>\n    <tr>\n      <th>565</th>\n      <td>0.500000</td>\n      <td>2022-03-15T18:42:15+00:00</td>\n      <td>[to, for, interviews, the, Metaverse, metavers...</td>\n      <td>0</td>\n      <td>2</td>\n      <td>6</td>\n      <td>2</td>\n      <td>2022-03-15</td>\n    </tr>\n    <tr>\n      <th>610</th>\n      <td>1.000000</td>\n      <td>2022-03-15T18:13:15+00:00</td>\n      <td>[anndylian, meta_ruffy, binance, Ruffy, best, of]</td>\n      <td>0</td>\n      <td>2</td>\n      <td>10</td>\n      <td>0</td>\n      <td>2022-03-15</td>\n    </tr>\n    <tr>\n      <th>631</th>\n      <td>0.700000</td>\n      <td>2022-03-15T17:58:59+00:00</td>\n      <td>[meta, sonic, wish, project, sir, they, one, t...</td>\n      <td>0</td>\n      <td>0</td>\n      <td>6</td>\n      <td>0</td>\n      <td>2022-03-15</td>\n    </tr>\n    <tr>\n      <th>636</th>\n      <td>0.250000</td>\n      <td>2022-03-15T17:53:42+00:00</td>\n      <td>[Finances, Basa, with, about, NFTs, how, like,...</td>\n      <td>6</td>\n      <td>21</td>\n      <td>52</td>\n      <td>2</td>\n      <td>2022-03-15</td>\n    </tr>\n    <tr>\n      <th>665</th>\n      <td>0.250000</td>\n      <td>2022-03-15T17:21:55+00:00</td>\n      <td>[SonicForces365, project, very, and, look, to,...</td>\n      <td>0</td>\n      <td>0</td>\n      <td>8</td>\n      <td>0</td>\n      <td>2022-03-15</td>\n    </tr>\n    <tr>\n      <th>670</th>\n      <td>0.750000</td>\n      <td>2022-03-15T17:21:22+00:00</td>\n      <td>[The, is, good, we, forward, of, the, team, th...</td>\n      <td>0</td>\n      <td>0</td>\n      <td>16</td>\n      <td>0</td>\n      <td>2022-03-15</td>\n    </tr>\n    <tr>\n      <th>671</th>\n      <td>0.530000</td>\n      <td>2022-03-15T17:20:36+00:00</td>\n      <td>[SonicForces365, 's, project, feel, and, sensi...</td>\n      <td>0</td>\n      <td>0</td>\n      <td>6</td>\n      <td>0</td>\n      <td>2022-03-15</td>\n    </tr>\n    <tr>\n      <th>689</th>\n      <td>0.800000</td>\n      <td>2022-03-15T17:10:00+00:00</td>\n      <td>[Hub, great, will, playable, Ultrasclash, soon...</td>\n      <td>0</td>\n      <td>12</td>\n      <td>27</td>\n      <td>0</td>\n      <td>2022-03-15</td>\n    </tr>\n    <tr>\n      <th>797</th>\n      <td>0.250000</td>\n      <td>2022-03-15T15:34:15+00:00</td>\n      <td>[Garners, of, for, HTC, amongst, first, know, ...</td>\n      <td>0</td>\n      <td>0</td>\n      <td>3</td>\n      <td>2</td>\n      <td>2022-03-15</td>\n    </tr>\n    <tr>\n      <th>798</th>\n      <td>0.250000</td>\n      <td>2022-03-15T15:33:41+00:00</td>\n      <td>[Property, The, is, Debated, amongst, first, k...</td>\n      <td>0</td>\n      <td>0</td>\n      <td>4</td>\n      <td>0</td>\n      <td>2022-03-15</td>\n    </tr>\n    <tr>\n      <th>799</th>\n      <td>0.250000</td>\n      <td>2022-03-15T15:33:20+00:00</td>\n      <td>[Boutique, Creators, Come, Customize, Lives, a...</td>\n      <td>0</td>\n      <td>0</td>\n      <td>3</td>\n      <td>1</td>\n      <td>2022-03-15</td>\n    </tr>\n    <tr>\n      <th>805</th>\n      <td>0.136364</td>\n      <td>2022-03-15T15:30:22+00:00</td>\n      <td>[is, new, startup, Be, to, about, the, Metanew...</td>\n      <td>3</td>\n      <td>14</td>\n      <td>30</td>\n      <td>1</td>\n      <td>2022-03-15</td>\n    </tr>\n    <tr>\n      <th>806</th>\n      <td>0.250000</td>\n      <td>2022-03-15T15:30:02+00:00</td>\n      <td>[Disney, joins, startup, akashrnigam, amongst,...</td>\n      <td>0</td>\n      <td>0</td>\n      <td>4</td>\n      <td>0</td>\n      <td>2022-03-15</td>\n    </tr>\n    <tr>\n      <th>810</th>\n      <td>0.250000</td>\n      <td>2022-03-15T15:29:36+00:00</td>\n      <td>[established, metaverse, TravelzooEspana, amon...</td>\n      <td>0</td>\n      <td>0</td>\n      <td>3</td>\n      <td>0</td>\n      <td>2022-03-15</td>\n    </tr>\n    <tr>\n      <th>821</th>\n      <td>-0.125000</td>\n      <td>2022-03-15T15:25:29+00:00</td>\n      <td>[Peek, autre, dans, 😍🚀, .., other, in, Look, d...</td>\n      <td>0</td>\n      <td>4</td>\n      <td>26</td>\n      <td>0</td>\n      <td>2022-03-15</td>\n    </tr>\n    <tr>\n      <th>842</th>\n      <td>0.666667</td>\n      <td>2022-03-15T15:09:46+00:00</td>\n      <td>[‍Be, with, realities, 🪐, you, now, exceptiona...</td>\n      <td>7</td>\n      <td>12</td>\n      <td>51</td>\n      <td>0</td>\n      <td>2022-03-15</td>\n    </tr>\n    <tr>\n      <th>917</th>\n      <td>1.000000</td>\n      <td>2022-03-15T14:30:00+00:00</td>\n      <td>[72, The, could, well, man, best, but, never, ...</td>\n      <td>1</td>\n      <td>0</td>\n      <td>4</td>\n      <td>3</td>\n      <td>2022-03-15</td>\n    </tr>\n    <tr>\n      <th>932</th>\n      <td>0.333333</td>\n      <td>2022-03-15T14:15:16+00:00</td>\n      <td>[about, Title：American, ventures, NFTs, the, w...</td>\n      <td>0</td>\n      <td>0</td>\n      <td>3</td>\n      <td>0</td>\n      <td>2022-03-15</td>\n    </tr>\n    <tr>\n      <th>951</th>\n      <td>0.250000</td>\n      <td>2022-03-15T14:01:03+00:00</td>\n      <td>[first, world, portal, by, of, Lootizens, and,...</td>\n      <td>1</td>\n      <td>1</td>\n      <td>8</td>\n      <td>0</td>\n      <td>2022-03-15</td>\n    </tr>\n    <tr>\n      <th>957</th>\n      <td>0.300000</td>\n      <td>2022-03-15T13:59:20+00:00</td>\n      <td>[and, project, makes, Powerful, community, we,...</td>\n      <td>0</td>\n      <td>0</td>\n      <td>3</td>\n      <td>0</td>\n      <td>2022-03-15</td>\n    </tr>\n    <tr>\n      <th>959</th>\n      <td>0.136364</td>\n      <td>2022-03-15T13:54:27+00:00</td>\n      <td>[NEW, ww2, yugoslavia, META, https, https]</td>\n      <td>1</td>\n      <td>0</td>\n      <td>11</td>\n      <td>0</td>\n      <td>2022-03-15</td>\n    </tr>\n    <tr>\n      <th>964</th>\n      <td>0.700000</td>\n      <td>2022-03-15T13:51:29+00:00</td>\n      <td>[n't, to, up, the, and, on, Adibas, Good, to, ...</td>\n      <td>1</td>\n      <td>1</td>\n      <td>4</td>\n      <td>0</td>\n      <td>2022-03-15</td>\n    </tr>\n    <tr>\n      <th>967</th>\n      <td>0.100000</td>\n      <td>2022-03-15T13:51:26+00:00</td>\n      <td>['ll, ready, you, race, for, total, 40, You, k...</td>\n      <td>3</td>\n      <td>0</td>\n      <td>3</td>\n      <td>1</td>\n      <td>2022-03-15</td>\n    </tr>\n    <tr>\n      <th>968</th>\n      <td>-0.100000</td>\n      <td>2022-03-15T13:51:25+00:00</td>\n      <td>[total, 5, to, from, sports, on, the, agenda, ...</td>\n      <td>2</td>\n      <td>0</td>\n      <td>3</td>\n      <td>0</td>\n      <td>2022-03-15</td>\n    </tr>\n    <tr>\n      <th>974</th>\n      <td>-0.093750</td>\n      <td>2022-03-15T13:46:12+00:00</td>\n      <td>['s, Mark, seemed, little, He, vocal, it, He, ...</td>\n      <td>0</td>\n      <td>1</td>\n      <td>3</td>\n      <td>0</td>\n      <td>2022-03-15</td>\n    </tr>\n  </tbody>\n</table>\n</div>"
     },
     "metadata": {}
    }
   ]
  },
  {
   "cell_type": "code",
   "metadata": {
    "cell_id": "d4712de6b0f6435da3c2b1fd55dfcf90",
    "tags": [],
    "deepnote_to_be_reexecuted": true,
    "source_hash": "d33fc5f8",
    "execution_start": 1650226453756,
    "execution_millis": 29,
    "deepnote_cell_type": "code",
    "deepnote_cell_height": 357,
    "deepnote_output_heights": [
     null,
     21.1875
    ]
   },
   "source": "date_array = []\nscore_array = []\n\nfor i in df_meta['dateonly'].unique(): # runs code on each unique day\n    subset = df_meta[df_meta['dateonly'] == i] # filtering data \n    score_array.append(np.mean(subset['score']))\n    #sentiment code, but run it on subset instead\n    date_array.append (i)\n\nprint(score_array)\ndate_array\n    ",
   "execution_count": null,
   "outputs": [
    {
     "name": "stdout",
     "text": "[0.3162121212121212, 0.32211133069828723]\n",
     "output_type": "stream"
    },
    {
     "output_type": "execute_result",
     "execution_count": 99,
     "data": {
      "text/plain": "[datetime.date(2022, 3, 16), datetime.date(2022, 3, 15)]"
     },
     "metadata": {}
    }
   ]
  },
  {
   "cell_type": "code",
   "metadata": {
    "cell_id": "707b7cde6d3b400dbcbb719cb877e879",
    "tags": [],
    "deepnote_to_be_reexecuted": true,
    "source_hash": "b623e53d",
    "deepnote_cell_type": "code",
    "deepnote_cell_height": 76
   },
   "source": "",
   "execution_count": null,
   "outputs": []
  },
  {
   "cell_type": "code",
   "metadata": {
    "cell_id": "b1d2b54350b34688bc95c76ec979044a",
    "tags": [],
    "deepnote_to_be_reexecuted": true,
    "source_hash": "91e75c60",
    "execution_start": 1650226505948,
    "execution_millis": 87,
    "owner_user_id": "10f995c7-1888-48bc-b018-86b92ad2eda0",
    "deepnote_cell_type": "code",
    "deepnote_cell_height": 267
   },
   "source": "df_meta.groupby('dateonly').mean()",
   "execution_count": null,
   "outputs": [
    {
     "output_type": "execute_result",
     "execution_count": 100,
     "data": {
      "application/vnd.deepnote.dataframe.v3+json": {
       "column_count": 5,
       "row_count": 2,
       "columns": [
        {
         "name": "score",
         "dtype": "float64",
         "stats": {
          "unique_count": 2,
          "nan_count": 0,
          "min": "0.3162121212121212",
          "max": "0.32211133069828723",
          "histogram": [
           {
            "bin_start": 0.3162121212121212,
            "bin_end": 0.3168020421607378,
            "count": 1
           },
           {
            "bin_start": 0.3168020421607378,
            "bin_end": 0.3173919631093544,
            "count": 0
           },
           {
            "bin_start": 0.3173919631093544,
            "bin_end": 0.317981884057971,
            "count": 0
           },
           {
            "bin_start": 0.317981884057971,
            "bin_end": 0.3185718050065876,
            "count": 0
           },
           {
            "bin_start": 0.3185718050065876,
            "bin_end": 0.3191617259552042,
            "count": 0
           },
           {
            "bin_start": 0.3191617259552042,
            "bin_end": 0.31975164690382085,
            "count": 0
           },
           {
            "bin_start": 0.31975164690382085,
            "bin_end": 0.32034156785243745,
            "count": 0
           },
           {
            "bin_start": 0.32034156785243745,
            "bin_end": 0.32093148880105404,
            "count": 0
           },
           {
            "bin_start": 0.32093148880105404,
            "bin_end": 0.32152140974967064,
            "count": 0
           },
           {
            "bin_start": 0.32152140974967064,
            "bin_end": 0.32211133069828723,
            "count": 1
           }
          ]
         }
        },
        {
         "name": "replyCount",
         "dtype": "float64",
         "stats": {
          "unique_count": 2,
          "nan_count": 0,
          "min": "0.2",
          "max": "1.326086956521739",
          "histogram": [
           {
            "bin_start": 0.2,
            "bin_end": 0.3126086956521739,
            "count": 1
           },
           {
            "bin_start": 0.3126086956521739,
            "bin_end": 0.4252173913043478,
            "count": 0
           },
           {
            "bin_start": 0.4252173913043478,
            "bin_end": 0.5378260869565217,
            "count": 0
           },
           {
            "bin_start": 0.5378260869565217,
            "bin_end": 0.6504347826086956,
            "count": 0
           },
           {
            "bin_start": 0.6504347826086956,
            "bin_end": 0.7630434782608695,
            "count": 0
           },
           {
            "bin_start": 0.7630434782608695,
            "bin_end": 0.8756521739130434,
            "count": 0
           },
           {
            "bin_start": 0.8756521739130434,
            "bin_end": 0.9882608695652173,
            "count": 0
           },
           {
            "bin_start": 0.9882608695652173,
            "bin_end": 1.1008695652173912,
            "count": 0
           },
           {
            "bin_start": 1.1008695652173912,
            "bin_end": 1.2134782608695651,
            "count": 0
           },
           {
            "bin_start": 1.2134782608695651,
            "bin_end": 1.326086956521739,
            "count": 1
           }
          ]
         }
        },
        {
         "name": "retweetCount",
         "dtype": "float64",
         "stats": {
          "unique_count": 2,
          "nan_count": 0,
          "min": "0.6",
          "max": "2.5",
          "histogram": [
           {
            "bin_start": 0.6,
            "bin_end": 0.79,
            "count": 1
           },
           {
            "bin_start": 0.79,
            "bin_end": 0.98,
            "count": 0
           },
           {
            "bin_start": 0.98,
            "bin_end": 1.17,
            "count": 0
           },
           {
            "bin_start": 1.17,
            "bin_end": 1.3599999999999999,
            "count": 0
           },
           {
            "bin_start": 1.3599999999999999,
            "bin_end": 1.5499999999999998,
            "count": 0
           },
           {
            "bin_start": 1.5499999999999998,
            "bin_end": 1.7400000000000002,
            "count": 0
           },
           {
            "bin_start": 1.7400000000000002,
            "bin_end": 1.9300000000000002,
            "count": 0
           },
           {
            "bin_start": 1.9300000000000002,
            "bin_end": 2.12,
            "count": 0
           },
           {
            "bin_start": 2.12,
            "bin_end": 2.31,
            "count": 0
           },
           {
            "bin_start": 2.31,
            "bin_end": 2.5,
            "count": 1
           }
          ]
         }
        },
        {
         "name": "likeCount",
         "dtype": "float64",
         "stats": {
          "unique_count": 2,
          "nan_count": 0,
          "min": "4.6",
          "max": "9.847826086956522",
          "histogram": [
           {
            "bin_start": 4.6,
            "bin_end": 5.124782608695652,
            "count": 1
           },
           {
            "bin_start": 5.124782608695652,
            "bin_end": 5.649565217391304,
            "count": 0
           },
           {
            "bin_start": 5.649565217391304,
            "bin_end": 6.174347826086956,
            "count": 0
           },
           {
            "bin_start": 6.174347826086956,
            "bin_end": 6.699130434782608,
            "count": 0
           },
           {
            "bin_start": 6.699130434782608,
            "bin_end": 7.223913043478261,
            "count": 0
           },
           {
            "bin_start": 7.223913043478261,
            "bin_end": 7.748695652173913,
            "count": 0
           },
           {
            "bin_start": 7.748695652173913,
            "bin_end": 8.273478260869565,
            "count": 0
           },
           {
            "bin_start": 8.273478260869565,
            "bin_end": 8.798260869565217,
            "count": 0
           },
           {
            "bin_start": 8.798260869565217,
            "bin_end": 9.32304347826087,
            "count": 0
           },
           {
            "bin_start": 9.32304347826087,
            "bin_end": 9.847826086956522,
            "count": 1
           }
          ]
         }
        },
        {
         "name": "quoteCount",
         "dtype": "float64",
         "stats": {
          "unique_count": 2,
          "nan_count": 0,
          "min": "0.8478260869565217",
          "max": "1.4",
          "histogram": [
           {
            "bin_start": 0.8478260869565217,
            "bin_end": 0.9030434782608695,
            "count": 1
           },
           {
            "bin_start": 0.9030434782608695,
            "bin_end": 0.9582608695652174,
            "count": 0
           },
           {
            "bin_start": 0.9582608695652174,
            "bin_end": 1.0134782608695652,
            "count": 0
           },
           {
            "bin_start": 1.0134782608695652,
            "bin_end": 1.068695652173913,
            "count": 0
           },
           {
            "bin_start": 1.068695652173913,
            "bin_end": 1.123913043478261,
            "count": 0
           },
           {
            "bin_start": 1.123913043478261,
            "bin_end": 1.1791304347826086,
            "count": 0
           },
           {
            "bin_start": 1.1791304347826086,
            "bin_end": 1.2343478260869565,
            "count": 0
           },
           {
            "bin_start": 1.2343478260869565,
            "bin_end": 1.2895652173913041,
            "count": 0
           },
           {
            "bin_start": 1.2895652173913041,
            "bin_end": 1.344782608695652,
            "count": 0
           },
           {
            "bin_start": 1.344782608695652,
            "bin_end": 1.4,
            "count": 1
           }
          ]
         }
        },
        {
         "name": "_deepnote_index_column",
         "dtype": "object"
        }
       ],
       "rows": [
        {
         "score": 0.32211133069828723,
         "replyCount": 1.326086956521739,
         "retweetCount": 2.5,
         "likeCount": 9.847826086956522,
         "quoteCount": 0.8478260869565217,
         "_deepnote_index_column": "2022-03-15"
        },
        {
         "score": 0.3162121212121212,
         "replyCount": 0.2,
         "retweetCount": 0.6,
         "likeCount": 4.6,
         "quoteCount": 1.4,
         "_deepnote_index_column": "2022-03-16"
        }
       ]
      },
      "text/plain": "               score  replyCount  retweetCount  likeCount  quoteCount\ndateonly                                                             \n2022-03-15  0.322111    1.326087           2.5   9.847826    0.847826\n2022-03-16  0.316212    0.200000           0.6   4.600000    1.400000",
      "text/html": "<div>\n<style scoped>\n    .dataframe tbody tr th:only-of-type {\n        vertical-align: middle;\n    }\n\n    .dataframe tbody tr th {\n        vertical-align: top;\n    }\n\n    .dataframe thead th {\n        text-align: right;\n    }\n</style>\n<table border=\"1\" class=\"dataframe\">\n  <thead>\n    <tr style=\"text-align: right;\">\n      <th></th>\n      <th>score</th>\n      <th>replyCount</th>\n      <th>retweetCount</th>\n      <th>likeCount</th>\n      <th>quoteCount</th>\n    </tr>\n    <tr>\n      <th>dateonly</th>\n      <th></th>\n      <th></th>\n      <th></th>\n      <th></th>\n      <th></th>\n    </tr>\n  </thead>\n  <tbody>\n    <tr>\n      <th>2022-03-15</th>\n      <td>0.322111</td>\n      <td>1.326087</td>\n      <td>2.5</td>\n      <td>9.847826</td>\n      <td>0.847826</td>\n    </tr>\n    <tr>\n      <th>2022-03-16</th>\n      <td>0.316212</td>\n      <td>0.200000</td>\n      <td>0.6</td>\n      <td>4.600000</td>\n      <td>1.400000</td>\n    </tr>\n  </tbody>\n</table>\n</div>"
     },
     "metadata": {}
    }
   ]
  },
  {
   "cell_type": "code",
   "source": "_deepnote_run_altair(df_meta, \"\"\"{\"$schema\":\"https://vega.github.io/schema/vega-lite/v4.json\",\"mark\":{\"type\":\"line\",\"tooltip\":{\"content\":\"data\"}},\"height\":220,\"autosize\":{\"type\":\"fit\"},\"data\":{\"name\":\"placeholder\"},\"encoding\":{\"x\":{\"field\":\"date\",\"type\":\"nominal\",\"sort\":null,\"scale\":{\"type\":\"linear\",\"zero\":false}},\"y\":{\"field\":\"score\",\"type\":\"quantitative\",\"sort\":null,\"scale\":{\"type\":\"linear\",\"zero\":false}},\"color\":{\"field\":\"\",\"type\":\"nominal\",\"sort\":null,\"scale\":{\"type\":\"linear\",\"zero\":false}}}}\"\"\")",
   "metadata": {
    "cell_id": "fe9ac7eb80214afeafcdb3ae8a19b02b",
    "owner_user_id": "4056f350-ee6f-48ac-abcc-84241e5a1059",
    "deepnote_variable_name": "df_meta",
    "deepnote_visualization_spec": {
     "$schema": "https://vega.github.io/schema/vega-lite/v4.json",
     "mark": {
      "type": "line",
      "tooltip": {
       "content": "data"
      }
     },
     "height": 220,
     "autosize": {
      "type": "fit"
     },
     "data": {
      "name": "placeholder"
     },
     "encoding": {
      "x": {
       "field": "date",
       "type": "nominal",
       "sort": null,
       "scale": {
        "type": "linear",
        "zero": false
       }
      },
      "y": {
       "field": "score",
       "type": "quantitative",
       "sort": null,
       "scale": {
        "type": "linear",
        "zero": false
       }
      },
      "color": {
       "field": "",
       "type": "nominal",
       "sort": null,
       "scale": {
        "type": "linear",
        "zero": false
       }
      }
     }
    },
    "deepnote_to_be_reexecuted": true,
    "source_hash": "9d04fe43",
    "execution_start": 1650226951480,
    "execution_millis": 157,
    "deepnote_cell_type": "visualization"
   },
   "execution_count": null,
   "outputs": [
    {
     "output_type": "execute_result",
     "execution_count": 104,
     "data": {
      "text/html": "\n<div id=\"altair-viz-9b76a68893c44532ad497a60f2af11ad\"></div>\n<script type=\"text/javascript\">\n  (function(spec, embedOpt){\n    let outputDiv = document.currentScript.previousElementSibling;\n    if (outputDiv.id !== \"altair-viz-9b76a68893c44532ad497a60f2af11ad\") {\n      outputDiv = document.getElementById(\"altair-viz-9b76a68893c44532ad497a60f2af11ad\");\n    }\n    const paths = {\n      \"vega\": \"https://cdn.jsdelivr.net/npm//vega@5?noext\",\n      \"vega-lib\": \"https://cdn.jsdelivr.net/npm//vega-lib?noext\",\n      \"vega-lite\": \"https://cdn.jsdelivr.net/npm//vega-lite@4.8.1?noext\",\n      \"vega-embed\": \"https://cdn.jsdelivr.net/npm//vega-embed@6?noext\",\n    };\n\n    function loadScript(lib) {\n      return new Promise(function(resolve, reject) {\n        var s = document.createElement('script');\n        s.src = paths[lib];\n        s.async = true;\n        s.onload = () => resolve(paths[lib]);\n        s.onerror = () => reject(`Error loading script: ${paths[lib]}`);\n        document.getElementsByTagName(\"head\")[0].appendChild(s);\n      });\n    }\n\n    function showError(err) {\n      outputDiv.innerHTML = `<div class=\"error\" style=\"color:red;\">${err}</div>`;\n      throw err;\n    }\n\n    function displayChart(vegaEmbed) {\n      vegaEmbed(outputDiv, spec, embedOpt)\n        .catch(err => showError(`Javascript Error: ${err.message}<br>This usually means there's a typo in your chart specification. See the javascript console for the full traceback.`));\n    }\n\n    if(typeof define === \"function\" && define.amd) {\n      requirejs.config({paths});\n      require([\"vega-embed\"], displayChart, err => showError(`Error loading script: ${err.message}`));\n    } else if (typeof vegaEmbed === \"function\") {\n      displayChart(vegaEmbed);\n    } else {\n      loadScript(\"vega\")\n        .then(() => loadScript(\"vega-lite\"))\n        .then(() => loadScript(\"vega-embed\"))\n        .catch(showError)\n        .then(() => displayChart(vegaEmbed));\n    }\n  })({\"config\": {\"view\": {\"continuousWidth\": 400, \"continuousHeight\": 300}, \"area\": {\"fill\": \"#51C0E9\"}, \"axis\": {\"labelFont\": \"Inter, sans-serif\", \"labelFontSize\": 12, \"labelFontWeight\": \"normal\", \"labelLimit\": 60, \"labelOverlap\": \"greedy\", \"titleFont\": \"Inter, sans-serif\", \"titleFontSize\": 12, \"titleFontWeight\": \"bold\"}, \"background\": \"#ffffff\", \"legend\": {\"labelFont\": \"Inter, sans-serif\", \"labelFontSize\": 12, \"titleFont\": \"Inter, sans-serif\", \"titleFontSize\": 12, \"titleFontWeight\": \"bold\"}, \"line\": {\"stroke\": \"#51C0E9\", \"strokeWidth\": 2}, \"rect\": {\"fill\": \"#51C0E9\"}, \"title\": {\"anchor\": \"start\", \"color\": \"#000000\", \"font\": \"Inter, sans-serif\", \"fontSize\": 22, \"fontWeight\": \"normal\"}}, \"data\": {\"name\": \"data-83d1c3c220aa9d1aa1d3deecf212c726\"}, \"mark\": {\"type\": \"line\", \"tooltip\": {\"content\": \"data\"}}, \"autosize\": {\"type\": \"fit\"}, \"encoding\": {\"color\": {\"type\": \"nominal\", \"field\": \"\", \"scale\": {\"type\": \"linear\", \"zero\": false}, \"sort\": null}, \"x\": {\"type\": \"nominal\", \"field\": \"date\", \"scale\": {\"type\": \"linear\", \"zero\": false}, \"sort\": null}, \"y\": {\"type\": \"quantitative\", \"field\": \"score\", \"scale\": {\"type\": \"linear\", \"zero\": false}, \"sort\": null}}, \"height\": 300, \"width\": \"container\", \"$schema\": \"https://vega.github.io/schema/vega-lite/v4.json\", \"datasets\": {\"data-83d1c3c220aa9d1aa1d3deecf212c726\": [{\"score\": 0.5, \"date\": \"2022-03-16T01:51:24+00:00\", \"filtered\": [\"are\", \"to\", \"Says\", \"CEO\", \"more\", \"link\", \"bio\", \"are\", \"to\", \"Says\", \"CEO\", \"//t.co/gqTJylwH4j\", \"//t.co/3bKcRvwoki\"], \"replyCount\": 0, \"retweetCount\": 0, \"likeCount\": 4, \"quoteCount\": 3, \"dateonly\": \"2022-03-16T00:00:00\"}, {\"score\": 0.13636363636363635, \"date\": \"2022-03-16T01:24:49+00:00\", \"filtered\": [\"out\", \"new\", \"on\", \"Meta-Cool\", \"22\", \"//t.co/zbom22spEh\", \"opensea\"], \"replyCount\": 0, \"retweetCount\": 0, \"likeCount\": 5, \"quoteCount\": 1, \"dateonly\": \"2022-03-16T00:00:00\"}, {\"score\": 0.35, \"date\": \"2022-03-16T00:49:36+00:00\", \"filtered\": [\"giving\", \"cat\", \"cubes\", \"play\", \"using\", \"Full\", \"here\", \"//t.co/7B5LHEJFAD\", \"OculusQuest2\", \"Metaverse\", \"AugmentedReality\", \"https\"], \"replyCount\": 0, \"retweetCount\": 1, \"likeCount\": 4, \"quoteCount\": 0, \"dateonly\": \"2022-03-16T00:00:00\"}, {\"score\": 0.45833333333333337, \"date\": \"2022-03-16T00:30:00+00:00\", \"filtered\": [\"imposes\", \"fine\", \"Facebook\", \"company\", \"for\", \"EU\", \"privacy\", \"in\", \"latest\", \"in\", \"against\", \"business\", \"of\", \"tech\", \"https\"], \"replyCount\": 0, \"retweetCount\": 2, \"likeCount\": 4, \"quoteCount\": 0, \"dateonly\": \"2022-03-16T00:00:00\"}, {\"score\": 0.13636363636363635, \"date\": \"2022-03-16T00:21:21+00:00\", \"filtered\": [\"Everyone\", \"posted\", \"nfts\", \"10\", \"and\", \"is\", \"laggy\", \"im\", \"post\", \"new\", \"now\", \"nfts\", \"opensea\", \"nftart\", \"NFTdrops\", \"nftdrop\", \"meta\", \"metaverse\"], \"replyCount\": 1, \"retweetCount\": 0, \"likeCount\": 6, \"quoteCount\": 3, \"dateonly\": \"2022-03-16T00:00:00\"}, {\"score\": -0.3125, \"date\": \"2022-03-15T23:49:15+00:00\", \"filtered\": [\"term\", \"has\", \"buzzword\", \"by\", \"of\", \"the\", \"biggest\", \"companies\", \"CEO\", \"s\", \"what\", \"mean\", \"why\", \"everyone\", \"about\", \"it\", \"?\", \"//t.co/261sIwXmf8\", \"microsoft\", \"metaverse\", \"meta\", \"vr\", \"blockchain\"], \"replyCount\": 1, \"retweetCount\": 0, \"likeCount\": 3, \"quoteCount\": 1, \"dateonly\": \"2022-03-15T00:00:00\"}, {\"score\": 0.41666666666666663, \"date\": \"2022-03-15T23:20:12+00:00\", \"filtered\": [\"DAYS\", \"GO\", \"better\", \"to\", \"than\", \"one\", \"the\", \"bogans\", \"the\", \"...\", \"ZOMBIE\", \"\\ud83e\\uddb4\", \"you\", \"lucky\", \"to\", \"him\", \"nft\", \"nftart\", \"ethereum\", \"punks\", \"garyvee\", \"nftcollection\", \"metaverse\", \"//t.co/OWzCcbaMTs\"], \"replyCount\": 2, \"retweetCount\": 1, \"likeCount\": 14, \"quoteCount\": 5, \"dateonly\": \"2022-03-15T00:00:00\"}, {\"score\": 0.13636363636363635, \"date\": \"2022-03-15T21:49:33+00:00\", \"filtered\": [\"up\", \"with\", \"new\", \"NFT\", \"OpenSea\", \"metaverse\", \"nft\", \"VR\", \"https\", \"via\"], \"replyCount\": 0, \"retweetCount\": 0, \"likeCount\": 6, \"quoteCount\": 4, \"dateonly\": \"2022-03-15T00:00:00\"}, {\"score\": 0.2, \"date\": \"2022-03-15T21:41:20+00:00\", \"filtered\": [\"the\", \"of\", \"this\", \"\\ud83d\\udd25\", \"I\", \"seeing\", \"a\", \"of\", \"and\", \"legitimate\", \"backing\", \"and\", \"incorporating\", \"into\", \"existing\", \"=\", \"NFT\", \"visibility\", \"legitimacy\", \"Very\", \"Meta\", \"https\"], \"replyCount\": 1, \"retweetCount\": 1, \"likeCount\": 4, \"quoteCount\": 3, \"dateonly\": \"2022-03-15T00:00:00\"}, {\"score\": 0.6, \"date\": \"2022-03-15T21:18:08+00:00\", \"filtered\": [\"about\", \"Title\\uff1aBuying\", \"Land\", \"the\", \"-\", \"Motley\", \"https\", \"Metaverse\", \"crypto\", \"bitcoin\"], \"replyCount\": 1, \"retweetCount\": 1, \"likeCount\": 4, \"quoteCount\": 0, \"dateonly\": \"2022-03-15T00:00:00\"}, {\"score\": 0.3, \"date\": \"2022-03-15T21:04:58+00:00\", \"filtered\": [\"nft\", \"now\", \"CryptoBoys\", \"//t.co/MLTaNKCiqH\", \"opensea\", \"nftart\", \"NFTdrops\", \"nftdrop\", \"meta\", \"metaverse\", \"us\", \"now\", \"NFTs\", \"(\", \"rare\", \")\"], \"replyCount\": 1, \"retweetCount\": 1, \"likeCount\": 5, \"quoteCount\": 4, \"dateonly\": \"2022-03-15T00:00:00\"}, {\"score\": -0.2, \"date\": \"2022-03-15T21:03:39+00:00\", \"filtered\": [\"think\", \"and\", \"were\", \"web3\", \"ethereumJoseph\", \"banged\", \"deal\", \"Microsoft\", \"Shit\", \"about\", \"get\", \"What\", \"time\", \"for\", \"the\", \"show\", \"the\", \"metaverse\", \"https\"], \"replyCount\": 0, \"retweetCount\": 0, \"likeCount\": 9, \"quoteCount\": 1, \"dateonly\": \"2022-03-15T00:00:00\"}, {\"score\": 0.3, \"date\": \"2022-03-15T20:59:27+00:00\", \"filtered\": [\"nft\", \"now\", \"CryptoBoys\", \"//t.co/Z0vk65N7rE\", \"opensea\", \"nftart\", \"NFTdrops\", \"nftdrop\", \"meta\", \"metaverse\", \"us\", \"now\", \"NFTs\", \"(\", \"rare\", \")\"], \"replyCount\": 1, \"retweetCount\": 0, \"likeCount\": 8, \"quoteCount\": 1, \"dateonly\": \"2022-03-15T00:00:00\"}, {\"score\": 0.3, \"date\": \"2022-03-15T20:54:58+00:00\", \"filtered\": [\"nft\", \"now\", \"CryptoBoys\", \"opensea\", \"nftart\", \"NFTdrops\", \"nftdrop\", \"meta\", \"metaverse\", \"us\", \"now\", \"NFTs\", \"(\", \"rare\", \")\", \"https\"], \"replyCount\": 2, \"retweetCount\": 1, \"likeCount\": 10, \"quoteCount\": 1, \"dateonly\": \"2022-03-15T00:00:00\"}, {\"score\": 0.3, \"date\": \"2022-03-15T20:49:08+00:00\", \"filtered\": [\"nft\", \"now\", \"CryptoBoys\", \"//t.co/xlDLhPzAuC\", \"opensea\", \"nftart\", \"NFTdrops\", \"nftdrop\", \"meta\", \"metaverse\", \"us\", \"now\", \"NFTs\", \"(\", \"rare\", \")\"], \"replyCount\": 0, \"retweetCount\": 1, \"likeCount\": 12, \"quoteCount\": 2, \"dateonly\": \"2022-03-15T00:00:00\"}, {\"score\": 0.1, \"date\": \"2022-03-15T20:43:00+00:00\", \"filtered\": [\"finally\", \"up\", \"speed\", \"its\", \"so\", \"you\", \"the\", \"now\\u2026just\", \"Grandma\", \"is\", \"gon\", \"have\", \"very\", \"NFT\", \"Metaverse\", \"https\"], \"replyCount\": 0, \"retweetCount\": 0, \"likeCount\": 3, \"quoteCount\": 0, \"dateonly\": \"2022-03-15T00:00:00\"}, {\"score\": 0.2, \"date\": \"2022-03-15T20:28:36+00:00\", \"filtered\": [\"wants\", \"integrate\", \"according\", \"Mark\", \"(\", \")\"], \"replyCount\": 1, \"retweetCount\": 1, \"likeCount\": 3, \"quoteCount\": 0, \"dateonly\": \"2022-03-15T00:00:00\"}, {\"score\": 0.5, \"date\": \"2022-03-15T20:16:43+00:00\", \"filtered\": [\"Twitter\", \"will\", \"too\", \"think\", \"will\", \"able\", \"to\", \"use\", \"in\", \"Meta\", \"soon\"], \"replyCount\": 0, \"retweetCount\": 0, \"likeCount\": 6, \"quoteCount\": 1, \"dateonly\": \"2022-03-15T00:00:00\"}, {\"score\": 0.0062500000000000056, \"date\": \"2022-03-15T20:13:25+00:00\", \"filtered\": [\"little\", \"robot\", \"will\", \"you\", \"master\", \"moves\", \"seeing\", \"trainer\", \"3d\", \"really\", \"oculusquest\", \"MetaQuest2\", \"IndieGameDev\", \"VirtualReality\", \"https\"], \"replyCount\": 0, \"retweetCount\": 4, \"likeCount\": 6, \"quoteCount\": 1, \"dateonly\": \"2022-03-15T00:00:00\"}, {\"score\": 0.6, \"date\": \"2022-03-15T20:10:55+00:00\", \"filtered\": [\"Nice\", \"meta\", \"Sonic\", \"TraMy586\"], \"replyCount\": 0, \"retweetCount\": 0, \"likeCount\": 3, \"quoteCount\": 0, \"dateonly\": \"2022-03-15T00:00:00\"}, {\"score\": 0.2, \"date\": \"2022-03-15T20:08:45+00:00\", \"filtered\": [\"wonder\", \"SXSW\", \"like\", \"the\", \"We\", \"the\", \"opportunity\", \"partner\", \"TriggerGlobal\", \"answer\", \"question\", \"thanks\", \"bennyp3333\", \"the\", \"effect\", \"metaverse\", \"digtialmarketing\", \"innovativetechnology\", \"https\"], \"replyCount\": 0, \"retweetCount\": 0, \"likeCount\": 4, \"quoteCount\": 0, \"dateonly\": \"2022-03-15T00:00:00\"}, {\"score\": 0.45, \"date\": \"2022-03-15T19:45:02+00:00\", \"filtered\": [\"us\", \"at\", \"p.m\", \"for\", \"conversation\", \"Founder\", \"the\", \"Sheryl\", \"Sandberg\", \"amp\", \"Dave\", \"Family\", \"Operating\", \"of\", \"She\", \"discuss\", \"path\", \"becoming\", \"leader\", \"tips\", \"and\", \"advice\", \"meta\", \"https\"], \"replyCount\": 14, \"retweetCount\": 3, \"likeCount\": 14, \"quoteCount\": 0, \"dateonly\": \"2022-03-15T00:00:00\"}, {\"score\": 0.13636363636363635, \"date\": \"2022-03-15T19:31:09+00:00\", \"filtered\": [\"of\", \"a\", \"?\", \"a\", \"Bird\", \"features\", \"Tag-inspired\", \"This\", \"new\", \"is\", \"VR\", \"if\", \"day\", \"it\", \"SideQuest\", \"//t.co/D1LBaVSiyE\", \"MetaQuest2\", \"Metaverse\", \"metaquest\", \"https\"], \"replyCount\": 0, \"retweetCount\": 0, \"likeCount\": 3, \"quoteCount\": 0, \"dateonly\": \"2022-03-15T00:00:00\"}, {\"score\": 0.25, \"date\": \"2022-03-15T19:13:31+00:00\", \"filtered\": [\"first\", \"3\", \"worlds\", \"finished\", \"The\", \"apocalypse\", \"Build\", \"keystone_builds\", \"nftworldsNFT\", \"NFT\", \"P2EGame\", \"NFTWorlds\", \"building\", \"//t.co/SGaDCLrHmv\"], \"replyCount\": 1, \"retweetCount\": 3, \"likeCount\": 4, \"quoteCount\": 0, \"dateonly\": \"2022-03-15T00:00:00\"}, {\"score\": 0.5, \"date\": \"2022-03-15T18:58:22+00:00\", \"filtered\": [\"stylists\", \"a\", \"business\", \"virtual\", \"Metaverse\", \"metaversegame\", \"decentraland\", \"meta\", \"more\", \"https\", \"https\"], \"replyCount\": 11, \"retweetCount\": 28, \"likeCount\": 30, \"quoteCount\": 3, \"dateonly\": \"2022-03-15T00:00:00\"}, {\"score\": 0.5, \"date\": \"2022-03-15T18:46:38+00:00\", \"filtered\": [\"Express\", \"Entry\", \"Trademark\", \"Metaverse\", \"metaversegame\", \"decentraland\", \"meta\", \"more\", \"at\", \"https\", \"https\"], \"replyCount\": 0, \"retweetCount\": 0, \"likeCount\": 5, \"quoteCount\": 0, \"dateonly\": \"2022-03-15T00:00:00\"}, {\"score\": 0.5, \"date\": \"2022-03-15T18:42:15+00:00\", \"filtered\": [\"to\", \"for\", \"interviews\", \"the\", \"Metaverse\", \"metaversegame\", \"decentraland\", \"meta\", \"more\", \"https\", \"https\"], \"replyCount\": 0, \"retweetCount\": 2, \"likeCount\": 6, \"quoteCount\": 2, \"dateonly\": \"2022-03-15T00:00:00\"}, {\"score\": 1.0, \"date\": \"2022-03-15T18:13:15+00:00\", \"filtered\": [\"anndylian\", \"meta_ruffy\", \"binance\", \"Ruffy\", \"best\", \"of\"], \"replyCount\": 0, \"retweetCount\": 2, \"likeCount\": 10, \"quoteCount\": 0, \"dateonly\": \"2022-03-15T00:00:00\"}, {\"score\": 0.7, \"date\": \"2022-03-15T17:58:59+00:00\", \"filtered\": [\"meta\", \"sonic\", \"wish\", \"project\", \"sir\", \"they\", \"one\", \"the\", \"cryptos\", \"am\", \"to\", \"in\", \"and\", \"support\", \"Good\", \"always\", \"\\ud83c\\udf15\", \"NavidM1\", \"Mohamad99010915\", \"Aradmohaghegh1\"], \"replyCount\": 0, \"retweetCount\": 0, \"likeCount\": 6, \"quoteCount\": 0, \"dateonly\": \"2022-03-15T00:00:00\"}, {\"score\": 0.25, \"date\": \"2022-03-15T17:53:42+00:00\", \"filtered\": [\"Finances\", \"Basa\", \"with\", \"about\", \"NFTs\", \"how\", \"like\", \"adoption\", \"slowly\", \"surely\", \"With\", \"entering\", \"space\", \"&\", \";\", \"\\u2019\", \"next\", \"https\", \"HOKK\", \"DeFi\", \"meta\"], \"replyCount\": 6, \"retweetCount\": 21, \"likeCount\": 52, \"quoteCount\": 2, \"dateonly\": \"2022-03-15T00:00:00\"}, {\"score\": 0.25, \"date\": \"2022-03-15T17:21:55+00:00\", \"filtered\": [\"SonicForces365\", \"project\", \"very\", \"and\", \"look\", \"to\", \"success\", \"and\", \"the\", \"people\", \"support\", \"think\", \"'s\", \"opportunity\", \"us\", \"OMDM8\", \"Selena14001010\", \"meta\", \"Sonic\"], \"replyCount\": 0, \"retweetCount\": 0, \"likeCount\": 8, \"quoteCount\": 0, \"dateonly\": \"2022-03-15T00:00:00\"}, {\"score\": 0.75, \"date\": \"2022-03-15T17:21:22+00:00\", \"filtered\": [\"The\", \"is\", \"good\", \"we\", \"forward\", \"of\", \"the\", \"team\", \"the\", \"who\", \"I\", \"it\", \"great\", \"for\", \"OMD80146172\", \"Kahroba20\", \"Sourena02026085\", \"gamefi\"], \"replyCount\": 0, \"retweetCount\": 0, \"likeCount\": 16, \"quoteCount\": 0, \"dateonly\": \"2022-03-15T00:00:00\"}, {\"score\": 0.53, \"date\": \"2022-03-15T17:20:36+00:00\", \"filtered\": [\"SonicForces365\", \"'s\", \"project\", \"feel\", \"and\", \"sensibility\", \"'m\", \"happy\", \"you\", \"me\", \"one\", \"'m\", \"very\", \"very\", \"Elahe_abedi1296\", \"nima1908\", \"gamefi\"], \"replyCount\": 0, \"retweetCount\": 0, \"likeCount\": 6, \"quoteCount\": 0, \"dateonly\": \"2022-03-15T00:00:00\"}, {\"score\": 0.8, \"date\": \"2022-03-15T17:10:00+00:00\", \"filtered\": [\"Hub\", \"great\", \"will\", \"playable\", \"Ultrasclash\", \"soon\", \"SideQuestVR\", \"you\", \"you\", \"do\", \"it\", \"with\", \"link\", \"to\", \"the\", \"https\", \"gamedev\", \"indiegame\", \"Unity3d\", \"vrgaming\", \"https\"], \"replyCount\": 0, \"retweetCount\": 12, \"likeCount\": 27, \"quoteCount\": 0, \"dateonly\": \"2022-03-15T00:00:00\"}, {\"score\": 0.25, \"date\": \"2022-03-15T15:34:15+00:00\", \"filtered\": [\"Garners\", \"of\", \"for\", \"HTC\", \"amongst\", \"first\", \"know\", \"the\", \"Metaverse\", \"NFT\", \"AR\", \"us\", \"//t.co/pz78ao2N2A\", \"//t.co/JZhjFUynwZ\"], \"replyCount\": 0, \"retweetCount\": 0, \"likeCount\": 3, \"quoteCount\": 2, \"dateonly\": \"2022-03-15T00:00:00\"}, {\"score\": 0.25, \"date\": \"2022-03-15T15:33:41+00:00\", \"filtered\": [\"Property\", \"The\", \"is\", \"Debated\", \"amongst\", \"first\", \"know\", \"the\", \"Metaverse\", \"NFT\", \"AR\", \"us\", \"//t.co/pz78ao2N2A\", \"//t.co/FfOc2TCMG2\"], \"replyCount\": 0, \"retweetCount\": 0, \"likeCount\": 4, \"quoteCount\": 0, \"dateonly\": \"2022-03-15T00:00:00\"}, {\"score\": 0.25, \"date\": \"2022-03-15T15:33:20+00:00\", \"filtered\": [\"Boutique\", \"Creators\", \"Come\", \"Customize\", \"Lives\", \"akashrnigam\", \"amongst\", \"first\", \"know\", \"the\", \"Metaverse\", \"NFT\", \"AR\", \"us\", \"//t.co/pz78ao2N2A\", \"//t.co/KBvudcbfx4\"], \"replyCount\": 0, \"retweetCount\": 0, \"likeCount\": 3, \"quoteCount\": 1, \"dateonly\": \"2022-03-15T00:00:00\"}, {\"score\": 0.13636363636363635, \"date\": \"2022-03-15T15:30:22+00:00\", \"filtered\": [\"is\", \"new\", \"startup\", \"Be\", \"to\", \"about\", \"the\", \"Metanews\", \"meta\", \"VR\", \"Follow\", \"https\", \"https\"], \"replyCount\": 3, \"retweetCount\": 14, \"likeCount\": 30, \"quoteCount\": 1, \"dateonly\": \"2022-03-15T00:00:00\"}, {\"score\": 0.25, \"date\": \"2022-03-15T15:30:02+00:00\", \"filtered\": [\"Disney\", \"joins\", \"startup\", \"akashrnigam\", \"amongst\", \"first\", \"know\", \"the\", \"Metaverse\", \"NFT\", \"AR\", \"us\", \"//t.co/pz78ao2N2A\", \"//t.co/m20MSdZHtO\"], \"replyCount\": 0, \"retweetCount\": 0, \"likeCount\": 4, \"quoteCount\": 0, \"dateonly\": \"2022-03-15T00:00:00\"}, {\"score\": 0.25, \"date\": \"2022-03-15T15:29:36+00:00\", \"filtered\": [\"established\", \"metaverse\", \"TravelzooEspana\", \"amongst\", \"first\", \"know\", \"the\", \"Metaverse\", \"NFT\", \"AR\", \"us\", \"//t.co/pz78ao2N2A\", \"//t.co/2GhVvME744\"], \"replyCount\": 0, \"retweetCount\": 0, \"likeCount\": 3, \"quoteCount\": 0, \"dateonly\": \"2022-03-15T00:00:00\"}, {\"score\": -0.125, \"date\": \"2022-03-15T15:25:29+00:00\", \"filtered\": [\"Peek\", \"autre\", \"dans\", \"\\ud83d\\ude0d\\ud83d\\ude80\", \"..\", \"other\", \"in\", \"Look\", \"detail\", \"Solana\", \"Metaverse\", \"MagicEden\", \"//t.co/bR4h67TAlT\"], \"replyCount\": 0, \"retweetCount\": 4, \"likeCount\": 26, \"quoteCount\": 0, \"dateonly\": \"2022-03-15T00:00:00\"}, {\"score\": 0.6666666666666666, \"date\": \"2022-03-15T15:09:46+00:00\", \"filtered\": [\"\\u200dBe\", \"with\", \"realities\", \"\\ud83e\\ude90\", \"you\", \"now\", \"exceptional\", \"combo\", \"\\ud83c\\udf10\", \"your\", \"world\", \"now\", \"and\", \"thenovatar\", \"NewNFTProfilePic\", \"//t.co/xxvN6MADi5\"], \"replyCount\": 7, \"retweetCount\": 12, \"likeCount\": 51, \"quoteCount\": 0, \"dateonly\": \"2022-03-15T00:00:00\"}, {\"score\": 1.0, \"date\": \"2022-03-15T14:30:00+00:00\", \"filtered\": [\"72\", \"The\", \"could\", \"well\", \"man\", \"best\", \"but\", \"never\", \"to\", \"it\", \"-\", \"Larson\", \"cats\", \"nftcollectors\", \"meta\", \"https\", \"https\"], \"replyCount\": 1, \"retweetCount\": 0, \"likeCount\": 4, \"quoteCount\": 3, \"dateonly\": \"2022-03-15T00:00:00\"}, {\"score\": 0.3333333333333333, \"date\": \"2022-03-15T14:15:16+00:00\", \"filtered\": [\"about\", \"Title\\uff1aAmerican\", \"ventures\", \"NFTs\", \"the\", \"with\", \"filings\", \"Finbold\", \"Finance\", \"Bold\", \"//t.co/d2x16No2zB\", \"meta\", \"BTC\"], \"replyCount\": 0, \"retweetCount\": 0, \"likeCount\": 3, \"quoteCount\": 0, \"dateonly\": \"2022-03-15T00:00:00\"}, {\"score\": 0.25, \"date\": \"2022-03-15T14:01:03+00:00\", \"filtered\": [\"first\", \"world\", \"portal\", \"by\", \"of\", \"Lootizens\", \"and\", \"LTT\", \"native\", \"of\", \"Access\", \"Lootnance\", \"here\", \"//t.co/qVdLXoRvln\", \"Metaversenews\", \"virtualreality\", \"etherium\", \"https\"], \"replyCount\": 1, \"retweetCount\": 1, \"likeCount\": 8, \"quoteCount\": 0, \"dateonly\": \"2022-03-15T00:00:00\"}, {\"score\": 0.3, \"date\": \"2022-03-15T13:59:20+00:00\", \"filtered\": [\"and\", \"project\", \"makes\", \"Powerful\", \"community\", \"we\", \"both\", \"metaverseproject\", \"NFTCommumity\"], \"replyCount\": 0, \"retweetCount\": 0, \"likeCount\": 3, \"quoteCount\": 0, \"dateonly\": \"2022-03-15T00:00:00\"}, {\"score\": 0.13636363636363635, \"date\": \"2022-03-15T13:54:27+00:00\", \"filtered\": [\"NEW\", \"ww2\", \"yugoslavia\", \"META\", \"https\", \"https\"], \"replyCount\": 1, \"retweetCount\": 0, \"likeCount\": 11, \"quoteCount\": 0, \"dateonly\": \"2022-03-15T00:00:00\"}, {\"score\": 0.7, \"date\": \"2022-03-15T13:51:29+00:00\", \"filtered\": [\"n't\", \"to\", \"up\", \"the\", \"and\", \"on\", \"Adibas\", \"Good\", \"to\", \"participants\", \"nft\", \"olympiad\", \"meta\", \"poap\"], \"replyCount\": 1, \"retweetCount\": 1, \"likeCount\": 4, \"quoteCount\": 0, \"dateonly\": \"2022-03-15T00:00:00\"}, {\"score\": 0.1, \"date\": \"2022-03-15T13:51:26+00:00\", \"filtered\": [\"'ll\", \"ready\", \"you\", \"race\", \"for\", \"total\", \"40\", \"You\", \"keep\", \"of\", \"your\", \"progress\", \"real-time\", \"the\", \"channel\", \"points\", \"be\", \"by\", \"referee\", \"|\", \"nft\", \"olympiad\", \"meta\", \"poap\"], \"replyCount\": 3, \"retweetCount\": 0, \"likeCount\": 3, \"quoteCount\": 1, \"dateonly\": \"2022-03-15T00:00:00\"}, {\"score\": -0.1, \"date\": \"2022-03-15T13:51:25+00:00\", \"filtered\": [\"total\", \"5\", \"to\", \"from\", \"sports\", \"on\", \"the\", \"agenda\", \"are\", \"running\", \"canoeing\", \"pogo\", \"race\", \"others\", \"each\", \"there\", \"a\", \"round\", \"competition\", \"nfts\", \"web3\", \"metaverse\"], \"replyCount\": 2, \"retweetCount\": 0, \"likeCount\": 3, \"quoteCount\": 0, \"dateonly\": \"2022-03-15T00:00:00\"}, {\"score\": -0.09375, \"date\": \"2022-03-15T13:46:12+00:00\", \"filtered\": [\"'s\", \"Mark\", \"seemed\", \"little\", \"He\", \"vocal\", \"it\", \"He\", \"to\", \"a\", \"A\", \"that\", \"take\", \"Visit\", \"website\", \"daily\", \"update\", \"//t.co/DE4ULt2OyQ\", \"meta\", \"socialmedia\", \"news\", \"https\"], \"replyCount\": 0, \"retweetCount\": 1, \"likeCount\": 3, \"quoteCount\": 0, \"dateonly\": \"2022-03-15T00:00:00\"}]}}, {\"actions\": false, \"mode\": \"vega-lite\"});\n</script>",
      "text/plain": "alt.Chart(...)"
     },
     "metadata": {}
    }
   ]
  },
  {
   "cell_type": "code",
   "metadata": {
    "cell_id": "f140a4ab13164e63825482975c17e065",
    "tags": [],
    "deepnote_to_be_reexecuted": true,
    "source_hash": "b623e53d",
    "deepnote_cell_type": "code",
    "deepnote_cell_height": 76
   },
   "source": "",
   "execution_count": null,
   "outputs": []
  },
  {
   "cell_type": "markdown",
   "source": "<a style='text-decoration:none;line-height:16px;display:flex;color:#5B5B62;padding:10px;justify-content:end;' href='https://deepnote.com?utm_source=created-in-deepnote-cell&projectId=bc974696-5c14-40f5-86a4-29ffa8a96f2c' target=\"_blank\">\n<img alt='Created in deepnote.com' style='display:inline;max-height:16px;margin:0px;margin-right:7.5px;' src='data:image/svg+xml;base64,PD94bWwgdmVyc2lvbj0iMS4wIiBlbmNvZGluZz0iVVRGLTgiPz4KPHN2ZyB3aWR0aD0iODBweCIgaGVpZ2h0PSI4MHB4IiB2aWV3Qm94PSIwIDAgODAgODAiIHZlcnNpb249IjEuMSIgeG1sbnM9Imh0dHA6Ly93d3cudzMub3JnLzIwMDAvc3ZnIiB4bWxuczp4bGluaz0iaHR0cDovL3d3dy53My5vcmcvMTk5OS94bGluayI+CiAgICA8IS0tIEdlbmVyYXRvcjogU2tldGNoIDU0LjEgKDc2NDkwKSAtIGh0dHBzOi8vc2tldGNoYXBwLmNvbSAtLT4KICAgIDx0aXRsZT5Hcm91cCAzPC90aXRsZT4KICAgIDxkZXNjPkNyZWF0ZWQgd2l0aCBTa2V0Y2guPC9kZXNjPgogICAgPGcgaWQ9IkxhbmRpbmciIHN0cm9rZT0ibm9uZSIgc3Ryb2tlLXdpZHRoPSIxIiBmaWxsPSJub25lIiBmaWxsLXJ1bGU9ImV2ZW5vZGQiPgogICAgICAgIDxnIGlkPSJBcnRib2FyZCIgdHJhbnNmb3JtPSJ0cmFuc2xhdGUoLTEyMzUuMDAwMDAwLCAtNzkuMDAwMDAwKSI+CiAgICAgICAgICAgIDxnIGlkPSJHcm91cC0zIiB0cmFuc2Zvcm09InRyYW5zbGF0ZSgxMjM1LjAwMDAwMCwgNzkuMDAwMDAwKSI+CiAgICAgICAgICAgICAgICA8cG9seWdvbiBpZD0iUGF0aC0yMCIgZmlsbD0iIzAyNjVCNCIgcG9pbnRzPSIyLjM3NjIzNzYyIDgwIDM4LjA0NzY2NjcgODAgNTcuODIxNzgyMiA3My44MDU3NTkyIDU3LjgyMTc4MjIgMzIuNzU5MjczOSAzOS4xNDAyMjc4IDMxLjY4MzE2ODMiPjwvcG9seWdvbj4KICAgICAgICAgICAgICAgIDxwYXRoIGQ9Ik0zNS4wMDc3MTgsODAgQzQyLjkwNjIwMDcsNzYuNDU0OTM1OCA0Ny41NjQ5MTY3LDcxLjU0MjI2NzEgNDguOTgzODY2LDY1LjI2MTk5MzkgQzUxLjExMjI4OTksNTUuODQxNTg0MiA0MS42NzcxNzk1LDQ5LjIxMjIyODQgMjUuNjIzOTg0Niw0OS4yMTIyMjg0IEMyNS40ODQ5Mjg5LDQ5LjEyNjg0NDggMjkuODI2MTI5Niw0My4yODM4MjQ4IDM4LjY0NzU4NjksMzEuNjgzMTY4MyBMNzIuODcxMjg3MSwzMi41NTQ0MjUgTDY1LjI4MDk3Myw2Ny42NzYzNDIxIEw1MS4xMTIyODk5LDc3LjM3NjE0NCBMMzUuMDA3NzE4LDgwIFoiIGlkPSJQYXRoLTIyIiBmaWxsPSIjMDAyODY4Ij48L3BhdGg+CiAgICAgICAgICAgICAgICA8cGF0aCBkPSJNMCwzNy43MzA0NDA1IEwyNy4xMTQ1MzcsMC4yNTcxMTE0MzYgQzYyLjM3MTUxMjMsLTEuOTkwNzE3MDEgODAsMTAuNTAwMzkyNyA4MCwzNy43MzA0NDA1IEM4MCw2NC45NjA0ODgyIDY0Ljc3NjUwMzgsNzkuMDUwMzQxNCAzNC4zMjk1MTEzLDgwIEM0Ny4wNTUzNDg5LDc3LjU2NzA4MDggNTMuNDE4MjY3Nyw3MC4zMTM2MTAzIDUzLjQxODI2NzcsNTguMjM5NTg4NSBDNTMuNDE4MjY3Nyw0MC4xMjg1NTU3IDM2LjMwMzk1NDQsMzcuNzMwNDQwNSAyNS4yMjc0MTcsMzcuNzMwNDQwNSBDMTcuODQzMDU4NiwzNy43MzA0NDA1IDkuNDMzOTE5NjYsMzcuNzMwNDQwNSAwLDM3LjczMDQ0MDUgWiIgaWQ9IlBhdGgtMTkiIGZpbGw9IiMzNzkzRUYiPjwvcGF0aD4KICAgICAgICAgICAgPC9nPgogICAgICAgIDwvZz4KICAgIDwvZz4KPC9zdmc+' > </img>\nCreated in <span style='font-weight:600;margin-left:4px;'>Deepnote</span></a>",
   "metadata": {
    "tags": [],
    "created_in_deepnote_cell": true,
    "deepnote_cell_type": "markdown"
   }
  }
 ],
 "nbformat": 4,
 "nbformat_minor": 2,
 "metadata": {
  "orig_nbformat": 2,
  "deepnote": {},
  "deepnote_notebook_id": "2420eb94-433f-4dea-8860-a31435dbea35",
  "deepnote_execution_queue": []
 }
}